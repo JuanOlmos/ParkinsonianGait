{
 "cells": [
  {
   "cell_type": "code",
   "execution_count": 14,
   "metadata": {},
   "outputs": [
    {
     "name": "stdout",
     "output_type": "stream",
     "text": [
      "The autoreload extension is already loaded. To reload it, use:\n",
      "  %reload_ext autoreload\n"
     ]
    }
   ],
   "source": [
    "import numpy as np\n",
    "from sklearn import svm\n",
    "\n",
    "from sklearn.decomposition import PCA\n",
    "from mne.decoding import UnsupervisedSpatialFilter\n",
    "\n",
    "from src.utils import load_and_regularize_covariance_matrices, calculate_covariance_means, project_to_tangent_and_triu, evaluate_metrics_repeatedly\n",
    "from src.covariance_means import generalized_eigenvalue_covariance_mean\n",
    "from pyriemann_qiskit.classification import QuanticSVM, QuanticVQC\n",
    "\n",
    "%load_ext autoreload\n",
    "%autoreload 2"
   ]
  },
  {
   "cell_type": "code",
   "execution_count": 3,
   "metadata": {},
   "outputs": [
    {
     "name": "stderr",
     "output_type": "stream",
     "text": [
      "Patients:  36%|███▋      | 4/11 [00:00<00:00, 30.74it/s]"
     ]
    },
    {
     "name": "stderr",
     "output_type": "stream",
     "text": [
      "Patients: 100%|██████████| 11/11 [00:00<00:00, 20.76it/s]\n",
      "Patients [Covariance mean]: 100%|██████████| 11/11 [00:08<00:00,  1.30it/s]\n",
      "Patients [Tangent space]: 100%|██████████| 11/11 [00:00<00:00, 37.84it/s]\n",
      "Patients: 100%|██████████| 11/11 [00:00<00:00, 20.42it/s]\n",
      "Patients [Covariance mean]: 100%|██████████| 11/11 [00:09<00:00,  1.13it/s]\n",
      "Patients [Tangent space]: 100%|██████████| 11/11 [00:00<00:00, 38.36it/s]\n"
     ]
    }
   ],
   "source": [
    "c_dataset = load_and_regularize_covariance_matrices(deep_features_type='covs_DN20', group_type='CG')\n",
    "c_dataset_covs = calculate_covariance_means(c_dataset) #Generalized eigenvalue covariance mean\n",
    "c_dataset_vectors = project_to_tangent_and_triu(c_dataset_covs)\n",
    "\n",
    "pk_dataset = load_and_regularize_covariance_matrices(deep_features_type='covs_DN20', group_type='PG')\n",
    "pk_dataset_covs = calculate_covariance_means(pk_dataset)\n",
    "pk_dataset_vectors = project_to_tangent_and_triu(pk_dataset_covs)"
   ]
  },
  {
   "cell_type": "code",
   "execution_count": 27,
   "metadata": {},
   "outputs": [
    {
     "name": "stdout",
     "output_type": "stream",
     "text": [
      "(22, 8, 210)\n",
      "(176, 210)\n",
      "(176, 10)\n",
      "(22, 8, 10)\n"
     ]
    }
   ],
   "source": [
    "# Concatenate control and Pk\n",
    "# pca = PCA(n_components=10)\n",
    "# reduced_10dim_pkvectors = pca.fit_transform(pk_dataset_vectors)\n",
    "# reduced_10dim_cvectors = pca.fit_transform(c_dataset_vectors)\n",
    "\n",
    "\n",
    "dataset_vectors = np.concatenate([c_dataset_vectors, pk_dataset_vectors], axis=0) \n",
    "# (22=parkinsons + 22=control, num_videos, num_features = Tangent space flattened mean covariances)\n",
    "# pca = UnsupervisedSpatialFilter(PCA(8, whiten=True), average=False)\n",
    "print(dataset_vectors.shape)\n",
    "n_samples, num_videos, num_features = dataset_vectors.shape\n",
    "\n",
    "# Reshape the dataset to 2D: (n_samples * num_videos, num_features)\n",
    "dataset_vectors_reshaped = dataset_vectors.reshape(n_samples * num_videos, num_features)\n",
    "\n",
    "# Check the shape of the reshaped data\n",
    "print(dataset_vectors_reshaped.shape)  # Should be (176, 210)\n",
    "\n",
    "\n",
    "pca = PCA(n_components=10)\n",
    "reduced10dim = pca.fit_transform(dataset_vectors_reshaped)\n",
    "res = reduced10dim.reshape(n_samples, num_videos, 10)\n",
    "print(reduced10dim.shape)\n",
    "print(res.shape)\n",
    "# dataset_vectors = np.concatenate([reduced_10dim_cvectors, reduced_10dim_pkvectors], axis=0) # (22=parkinsons + 22=control, num_videos, num_features = Tangent space flattened mean covariances)\n",
    "dataset_labels = np.concatenate([np.zeros(c_dataset_vectors.shape[0]), np.ones(pk_dataset_vectors.shape[0])])\n"
   ]
  },
  {
   "cell_type": "code",
   "execution_count": 28,
   "metadata": {},
   "outputs": [
    {
     "name": "stdout",
     "output_type": "stream",
     "text": [
      "[QClass]  Initializing Quantum Classifier\n"
     ]
    },
    {
     "name": "stderr",
     "output_type": "stream",
     "text": [
      "Repetitions:   0%|          | 0/1 [00:00<?, ?it/s]WARNING:root:FidelityQuantumKernel skipped because of time.\n",
      "                    Using FidelityStatevectorKernel with AerStatevector.\n",
      "                    Seed cannot be set with FidelityStatevectorKernel.\n",
      "                    Increase the number of shots to diminish the noise.\n"
     ]
    },
    {
     "name": "stdout",
     "output_type": "stream",
     "text": [
      "[QClass]  Quantum simulation will be performed\n",
      "GPU optimization disabled. No device found.\n",
      "[QClass]  Fitting:  (168, 10)\n",
      "[QClass]  Feature dimension =  10\n",
      "[QClass]  Quantum backend =  AerSimulator('aer_simulator_statevector')\n",
      "[QClass]  seed =  986146\n",
      "[QClass]  SVM initiating algorithm\n",
      "[QClass]  Training...\n"
     ]
    },
    {
     "name": "stderr",
     "output_type": "stream",
     "text": [
      "WARNING:root:FidelityQuantumKernel skipped because of time.\n",
      "                    Using FidelityStatevectorKernel with AerStatevector.\n",
      "                    Seed cannot be set with FidelityStatevectorKernel.\n",
      "                    Increase the number of shots to diminish the noise.\n"
     ]
    },
    {
     "name": "stdout",
     "output_type": "stream",
     "text": [
      "[QClass]  Prediction finished.\n",
      "[QClass]  Quantum simulation will be performed\n",
      "GPU optimization disabled. No device found.\n",
      "[QClass]  Fitting:  (168, 10)\n",
      "[QClass]  Feature dimension =  10\n",
      "[QClass]  Quantum backend =  AerSimulator('aer_simulator_statevector')\n",
      "[QClass]  seed =  986146\n",
      "[QClass]  SVM initiating algorithm\n",
      "[QClass]  Training...\n"
     ]
    },
    {
     "name": "stderr",
     "output_type": "stream",
     "text": [
      "WARNING:root:FidelityQuantumKernel skipped because of time.\n",
      "                    Using FidelityStatevectorKernel with AerStatevector.\n",
      "                    Seed cannot be set with FidelityStatevectorKernel.\n",
      "                    Increase the number of shots to diminish the noise.\n"
     ]
    },
    {
     "name": "stdout",
     "output_type": "stream",
     "text": [
      "[QClass]  Prediction finished.\n",
      "[QClass]  Quantum simulation will be performed\n",
      "GPU optimization disabled. No device found.\n",
      "[QClass]  Fitting:  (168, 10)\n",
      "[QClass]  Feature dimension =  10\n",
      "[QClass]  Quantum backend =  AerSimulator('aer_simulator_statevector')\n",
      "[QClass]  seed =  986146\n",
      "[QClass]  SVM initiating algorithm\n",
      "[QClass]  Training...\n"
     ]
    },
    {
     "name": "stderr",
     "output_type": "stream",
     "text": [
      "WARNING:root:FidelityQuantumKernel skipped because of time.\n",
      "                    Using FidelityStatevectorKernel with AerStatevector.\n",
      "                    Seed cannot be set with FidelityStatevectorKernel.\n",
      "                    Increase the number of shots to diminish the noise.\n"
     ]
    },
    {
     "name": "stdout",
     "output_type": "stream",
     "text": [
      "[QClass]  Prediction finished.\n",
      "[QClass]  Quantum simulation will be performed\n",
      "GPU optimization disabled. No device found.\n",
      "[QClass]  Fitting:  (168, 10)\n",
      "[QClass]  Feature dimension =  10\n",
      "[QClass]  Quantum backend =  AerSimulator('aer_simulator_statevector')\n",
      "[QClass]  seed =  986146\n",
      "[QClass]  SVM initiating algorithm\n",
      "[QClass]  Training...\n"
     ]
    },
    {
     "name": "stderr",
     "output_type": "stream",
     "text": [
      "WARNING:root:FidelityQuantumKernel skipped because of time.\n",
      "                    Using FidelityStatevectorKernel with AerStatevector.\n",
      "                    Seed cannot be set with FidelityStatevectorKernel.\n",
      "                    Increase the number of shots to diminish the noise.\n"
     ]
    },
    {
     "name": "stdout",
     "output_type": "stream",
     "text": [
      "[QClass]  Prediction finished.\n",
      "[QClass]  Quantum simulation will be performed\n",
      "GPU optimization disabled. No device found.\n",
      "[QClass]  Fitting:  (168, 10)\n",
      "[QClass]  Feature dimension =  10\n",
      "[QClass]  Quantum backend =  AerSimulator('aer_simulator_statevector')\n",
      "[QClass]  seed =  986146\n",
      "[QClass]  SVM initiating algorithm\n",
      "[QClass]  Training...\n"
     ]
    },
    {
     "name": "stderr",
     "output_type": "stream",
     "text": [
      "WARNING:root:FidelityQuantumKernel skipped because of time.\n",
      "                    Using FidelityStatevectorKernel with AerStatevector.\n",
      "                    Seed cannot be set with FidelityStatevectorKernel.\n",
      "                    Increase the number of shots to diminish the noise.\n"
     ]
    },
    {
     "name": "stdout",
     "output_type": "stream",
     "text": [
      "[QClass]  Prediction finished.\n",
      "[QClass]  Quantum simulation will be performed\n",
      "GPU optimization disabled. No device found.\n",
      "[QClass]  Fitting:  (168, 10)\n",
      "[QClass]  Feature dimension =  10\n",
      "[QClass]  Quantum backend =  AerSimulator('aer_simulator_statevector')\n",
      "[QClass]  seed =  986146\n",
      "[QClass]  SVM initiating algorithm\n",
      "[QClass]  Training...\n"
     ]
    },
    {
     "name": "stderr",
     "output_type": "stream",
     "text": [
      "WARNING:root:FidelityQuantumKernel skipped because of time.\n",
      "                    Using FidelityStatevectorKernel with AerStatevector.\n",
      "                    Seed cannot be set with FidelityStatevectorKernel.\n",
      "                    Increase the number of shots to diminish the noise.\n"
     ]
    },
    {
     "name": "stdout",
     "output_type": "stream",
     "text": [
      "[QClass]  Prediction finished.\n",
      "[QClass]  Quantum simulation will be performed\n",
      "GPU optimization disabled. No device found.\n",
      "[QClass]  Fitting:  (168, 10)\n",
      "[QClass]  Feature dimension =  10\n",
      "[QClass]  Quantum backend =  AerSimulator('aer_simulator_statevector')\n",
      "[QClass]  seed =  986146\n",
      "[QClass]  SVM initiating algorithm\n",
      "[QClass]  Training...\n"
     ]
    },
    {
     "name": "stderr",
     "output_type": "stream",
     "text": [
      "WARNING:root:FidelityQuantumKernel skipped because of time.\n",
      "                    Using FidelityStatevectorKernel with AerStatevector.\n",
      "                    Seed cannot be set with FidelityStatevectorKernel.\n",
      "                    Increase the number of shots to diminish the noise.\n"
     ]
    },
    {
     "name": "stdout",
     "output_type": "stream",
     "text": [
      "[QClass]  Prediction finished.\n",
      "[QClass]  Quantum simulation will be performed\n",
      "GPU optimization disabled. No device found.\n",
      "[QClass]  Fitting:  (168, 10)\n",
      "[QClass]  Feature dimension =  10\n",
      "[QClass]  Quantum backend =  AerSimulator('aer_simulator_statevector')\n",
      "[QClass]  seed =  986146\n",
      "[QClass]  SVM initiating algorithm\n",
      "[QClass]  Training...\n"
     ]
    },
    {
     "name": "stderr",
     "output_type": "stream",
     "text": [
      "WARNING:root:FidelityQuantumKernel skipped because of time.\n",
      "                    Using FidelityStatevectorKernel with AerStatevector.\n",
      "                    Seed cannot be set with FidelityStatevectorKernel.\n",
      "                    Increase the number of shots to diminish the noise.\n"
     ]
    },
    {
     "name": "stdout",
     "output_type": "stream",
     "text": [
      "[QClass]  Prediction finished.\n",
      "[QClass]  Quantum simulation will be performed\n",
      "GPU optimization disabled. No device found.\n",
      "[QClass]  Fitting:  (168, 10)\n",
      "[QClass]  Feature dimension =  10\n",
      "[QClass]  Quantum backend =  AerSimulator('aer_simulator_statevector')\n",
      "[QClass]  seed =  986146\n",
      "[QClass]  SVM initiating algorithm\n",
      "[QClass]  Training...\n"
     ]
    },
    {
     "name": "stderr",
     "output_type": "stream",
     "text": [
      "WARNING:root:FidelityQuantumKernel skipped because of time.\n",
      "                    Using FidelityStatevectorKernel with AerStatevector.\n",
      "                    Seed cannot be set with FidelityStatevectorKernel.\n",
      "                    Increase the number of shots to diminish the noise.\n"
     ]
    },
    {
     "name": "stdout",
     "output_type": "stream",
     "text": [
      "[QClass]  Prediction finished.\n",
      "[QClass]  Quantum simulation will be performed\n",
      "GPU optimization disabled. No device found.\n",
      "[QClass]  Fitting:  (168, 10)\n",
      "[QClass]  Feature dimension =  10\n",
      "[QClass]  Quantum backend =  AerSimulator('aer_simulator_statevector')\n",
      "[QClass]  seed =  986146\n",
      "[QClass]  SVM initiating algorithm\n",
      "[QClass]  Training...\n"
     ]
    },
    {
     "name": "stderr",
     "output_type": "stream",
     "text": [
      "WARNING:root:FidelityQuantumKernel skipped because of time.\n",
      "                    Using FidelityStatevectorKernel with AerStatevector.\n",
      "                    Seed cannot be set with FidelityStatevectorKernel.\n",
      "                    Increase the number of shots to diminish the noise.\n"
     ]
    },
    {
     "name": "stdout",
     "output_type": "stream",
     "text": [
      "[QClass]  Prediction finished.\n",
      "[QClass]  Quantum simulation will be performed\n",
      "GPU optimization disabled. No device found.\n",
      "[QClass]  Fitting:  (168, 10)\n",
      "[QClass]  Feature dimension =  10\n",
      "[QClass]  Quantum backend =  AerSimulator('aer_simulator_statevector')\n",
      "[QClass]  seed =  986146\n",
      "[QClass]  SVM initiating algorithm\n",
      "[QClass]  Training...\n"
     ]
    },
    {
     "name": "stderr",
     "output_type": "stream",
     "text": [
      "WARNING:root:FidelityQuantumKernel skipped because of time.\n",
      "                    Using FidelityStatevectorKernel with AerStatevector.\n",
      "                    Seed cannot be set with FidelityStatevectorKernel.\n",
      "                    Increase the number of shots to diminish the noise.\n"
     ]
    },
    {
     "name": "stdout",
     "output_type": "stream",
     "text": [
      "[QClass]  Prediction finished.\n",
      "[QClass]  Quantum simulation will be performed\n",
      "GPU optimization disabled. No device found.\n",
      "[QClass]  Fitting:  (168, 10)\n",
      "[QClass]  Feature dimension =  10\n",
      "[QClass]  Quantum backend =  AerSimulator('aer_simulator_statevector')\n",
      "[QClass]  seed =  986146\n",
      "[QClass]  SVM initiating algorithm\n",
      "[QClass]  Training...\n"
     ]
    },
    {
     "name": "stderr",
     "output_type": "stream",
     "text": [
      "WARNING:root:FidelityQuantumKernel skipped because of time.\n",
      "                    Using FidelityStatevectorKernel with AerStatevector.\n",
      "                    Seed cannot be set with FidelityStatevectorKernel.\n",
      "                    Increase the number of shots to diminish the noise.\n"
     ]
    },
    {
     "name": "stdout",
     "output_type": "stream",
     "text": [
      "[QClass]  Prediction finished.\n",
      "[QClass]  Quantum simulation will be performed\n",
      "GPU optimization disabled. No device found.\n",
      "[QClass]  Fitting:  (168, 10)\n",
      "[QClass]  Feature dimension =  10\n",
      "[QClass]  Quantum backend =  AerSimulator('aer_simulator_statevector')\n",
      "[QClass]  seed =  986146\n",
      "[QClass]  SVM initiating algorithm\n",
      "[QClass]  Training...\n"
     ]
    },
    {
     "name": "stderr",
     "output_type": "stream",
     "text": [
      "WARNING:root:FidelityQuantumKernel skipped because of time.\n",
      "                    Using FidelityStatevectorKernel with AerStatevector.\n",
      "                    Seed cannot be set with FidelityStatevectorKernel.\n",
      "                    Increase the number of shots to diminish the noise.\n"
     ]
    },
    {
     "name": "stdout",
     "output_type": "stream",
     "text": [
      "[QClass]  Prediction finished.\n",
      "[QClass]  Quantum simulation will be performed\n",
      "GPU optimization disabled. No device found.\n",
      "[QClass]  Fitting:  (168, 10)\n",
      "[QClass]  Feature dimension =  10\n",
      "[QClass]  Quantum backend =  AerSimulator('aer_simulator_statevector')\n",
      "[QClass]  seed =  986146\n",
      "[QClass]  SVM initiating algorithm\n",
      "[QClass]  Training...\n"
     ]
    },
    {
     "name": "stderr",
     "output_type": "stream",
     "text": [
      "WARNING:root:FidelityQuantumKernel skipped because of time.\n",
      "                    Using FidelityStatevectorKernel with AerStatevector.\n",
      "                    Seed cannot be set with FidelityStatevectorKernel.\n",
      "                    Increase the number of shots to diminish the noise.\n"
     ]
    },
    {
     "name": "stdout",
     "output_type": "stream",
     "text": [
      "[QClass]  Prediction finished.\n",
      "[QClass]  Quantum simulation will be performed\n",
      "GPU optimization disabled. No device found.\n",
      "[QClass]  Fitting:  (168, 10)\n",
      "[QClass]  Feature dimension =  10\n",
      "[QClass]  Quantum backend =  AerSimulator('aer_simulator_statevector')\n",
      "[QClass]  seed =  986146\n",
      "[QClass]  SVM initiating algorithm\n",
      "[QClass]  Training...\n"
     ]
    },
    {
     "name": "stderr",
     "output_type": "stream",
     "text": [
      "WARNING:root:FidelityQuantumKernel skipped because of time.\n",
      "                    Using FidelityStatevectorKernel with AerStatevector.\n",
      "                    Seed cannot be set with FidelityStatevectorKernel.\n",
      "                    Increase the number of shots to diminish the noise.\n"
     ]
    },
    {
     "name": "stdout",
     "output_type": "stream",
     "text": [
      "[QClass]  Prediction finished.\n",
      "[QClass]  Quantum simulation will be performed\n",
      "GPU optimization disabled. No device found.\n",
      "[QClass]  Fitting:  (168, 10)\n",
      "[QClass]  Feature dimension =  10\n",
      "[QClass]  Quantum backend =  AerSimulator('aer_simulator_statevector')\n",
      "[QClass]  seed =  986146\n",
      "[QClass]  SVM initiating algorithm\n",
      "[QClass]  Training...\n"
     ]
    },
    {
     "name": "stderr",
     "output_type": "stream",
     "text": [
      "WARNING:root:FidelityQuantumKernel skipped because of time.\n",
      "                    Using FidelityStatevectorKernel with AerStatevector.\n",
      "                    Seed cannot be set with FidelityStatevectorKernel.\n",
      "                    Increase the number of shots to diminish the noise.\n"
     ]
    },
    {
     "name": "stdout",
     "output_type": "stream",
     "text": [
      "[QClass]  Prediction finished.\n",
      "[QClass]  Quantum simulation will be performed\n",
      "GPU optimization disabled. No device found.\n",
      "[QClass]  Fitting:  (168, 10)\n",
      "[QClass]  Feature dimension =  10\n",
      "[QClass]  Quantum backend =  AerSimulator('aer_simulator_statevector')\n",
      "[QClass]  seed =  986146\n",
      "[QClass]  SVM initiating algorithm\n",
      "[QClass]  Training...\n"
     ]
    },
    {
     "name": "stderr",
     "output_type": "stream",
     "text": [
      "WARNING:root:FidelityQuantumKernel skipped because of time.\n",
      "                    Using FidelityStatevectorKernel with AerStatevector.\n",
      "                    Seed cannot be set with FidelityStatevectorKernel.\n",
      "                    Increase the number of shots to diminish the noise.\n"
     ]
    },
    {
     "name": "stdout",
     "output_type": "stream",
     "text": [
      "[QClass]  Prediction finished.\n",
      "[QClass]  Quantum simulation will be performed\n",
      "GPU optimization disabled. No device found.\n",
      "[QClass]  Fitting:  (168, 10)\n",
      "[QClass]  Feature dimension =  10\n",
      "[QClass]  Quantum backend =  AerSimulator('aer_simulator_statevector')\n",
      "[QClass]  seed =  986146\n",
      "[QClass]  SVM initiating algorithm\n",
      "[QClass]  Training...\n"
     ]
    },
    {
     "name": "stderr",
     "output_type": "stream",
     "text": [
      "WARNING:root:FidelityQuantumKernel skipped because of time.\n",
      "                    Using FidelityStatevectorKernel with AerStatevector.\n",
      "                    Seed cannot be set with FidelityStatevectorKernel.\n",
      "                    Increase the number of shots to diminish the noise.\n"
     ]
    },
    {
     "name": "stdout",
     "output_type": "stream",
     "text": [
      "[QClass]  Prediction finished.\n",
      "[QClass]  Quantum simulation will be performed\n",
      "GPU optimization disabled. No device found.\n",
      "[QClass]  Fitting:  (168, 10)\n",
      "[QClass]  Feature dimension =  10\n",
      "[QClass]  Quantum backend =  AerSimulator('aer_simulator_statevector')\n",
      "[QClass]  seed =  986146\n",
      "[QClass]  SVM initiating algorithm\n",
      "[QClass]  Training...\n"
     ]
    },
    {
     "name": "stderr",
     "output_type": "stream",
     "text": [
      "WARNING:root:FidelityQuantumKernel skipped because of time.\n",
      "                    Using FidelityStatevectorKernel with AerStatevector.\n",
      "                    Seed cannot be set with FidelityStatevectorKernel.\n",
      "                    Increase the number of shots to diminish the noise.\n"
     ]
    },
    {
     "name": "stdout",
     "output_type": "stream",
     "text": [
      "[QClass]  Prediction finished.\n",
      "[QClass]  Quantum simulation will be performed\n",
      "GPU optimization disabled. No device found.\n",
      "[QClass]  Fitting:  (168, 10)\n",
      "[QClass]  Feature dimension =  10\n",
      "[QClass]  Quantum backend =  AerSimulator('aer_simulator_statevector')\n",
      "[QClass]  seed =  986146\n",
      "[QClass]  SVM initiating algorithm\n",
      "[QClass]  Training...\n"
     ]
    },
    {
     "name": "stderr",
     "output_type": "stream",
     "text": [
      "WARNING:root:FidelityQuantumKernel skipped because of time.\n",
      "                    Using FidelityStatevectorKernel with AerStatevector.\n",
      "                    Seed cannot be set with FidelityStatevectorKernel.\n",
      "                    Increase the number of shots to diminish the noise.\n"
     ]
    },
    {
     "name": "stdout",
     "output_type": "stream",
     "text": [
      "[QClass]  Prediction finished.\n",
      "[QClass]  Quantum simulation will be performed\n",
      "GPU optimization disabled. No device found.\n",
      "[QClass]  Fitting:  (168, 10)\n",
      "[QClass]  Feature dimension =  10\n",
      "[QClass]  Quantum backend =  AerSimulator('aer_simulator_statevector')\n",
      "[QClass]  seed =  986146\n",
      "[QClass]  SVM initiating algorithm\n",
      "[QClass]  Training...\n"
     ]
    },
    {
     "name": "stderr",
     "output_type": "stream",
     "text": [
      "WARNING:root:FidelityQuantumKernel skipped because of time.\n",
      "                    Using FidelityStatevectorKernel with AerStatevector.\n",
      "                    Seed cannot be set with FidelityStatevectorKernel.\n",
      "                    Increase the number of shots to diminish the noise.\n"
     ]
    },
    {
     "name": "stdout",
     "output_type": "stream",
     "text": [
      "[QClass]  Prediction finished.\n",
      "[QClass]  Quantum simulation will be performed\n",
      "GPU optimization disabled. No device found.\n",
      "[QClass]  Fitting:  (168, 10)\n",
      "[QClass]  Feature dimension =  10\n",
      "[QClass]  Quantum backend =  AerSimulator('aer_simulator_statevector')\n",
      "[QClass]  seed =  986146\n",
      "[QClass]  SVM initiating algorithm\n",
      "[QClass]  Training...\n"
     ]
    },
    {
     "name": "stderr",
     "output_type": "stream",
     "text": [
      "Repetitions: 100%|██████████| 1/1 [01:32<00:00, 92.73s/it]"
     ]
    },
    {
     "name": "stdout",
     "output_type": "stream",
     "text": [
      "[QClass]  Prediction finished.\n"
     ]
    },
    {
     "name": "stderr",
     "output_type": "stream",
     "text": [
      "\n"
     ]
    },
    {
     "data": {
      "text/html": [
       "<div>\n",
       "<style scoped>\n",
       "    .dataframe tbody tr th:only-of-type {\n",
       "        vertical-align: middle;\n",
       "    }\n",
       "\n",
       "    .dataframe tbody tr th {\n",
       "        vertical-align: top;\n",
       "    }\n",
       "\n",
       "    .dataframe thead th {\n",
       "        text-align: right;\n",
       "    }\n",
       "</style>\n",
       "<table border=\"1\" class=\"dataframe\">\n",
       "  <thead>\n",
       "    <tr style=\"text-align: right;\">\n",
       "      <th></th>\n",
       "      <th>Accuracy</th>\n",
       "      <th>std Accuracy</th>\n",
       "      <th>Precision</th>\n",
       "      <th>std Precision</th>\n",
       "      <th>Recall</th>\n",
       "      <th>std Recall</th>\n",
       "      <th>F1 Score</th>\n",
       "      <th>std F1 Score</th>\n",
       "    </tr>\n",
       "  </thead>\n",
       "  <tbody>\n",
       "    <tr>\n",
       "      <th>0</th>\n",
       "      <td>0.272727</td>\n",
       "      <td>0.350803</td>\n",
       "      <td>0.295455</td>\n",
       "      <td>0.325405</td>\n",
       "      <td>0.181818</td>\n",
       "      <td>0.290663</td>\n",
       "      <td>0.207535</td>\n",
       "      <td>0.296815</td>\n",
       "    </tr>\n",
       "  </tbody>\n",
       "</table>\n",
       "</div>"
      ],
      "text/plain": [
       "   Accuracy  std Accuracy  Precision  std Precision    Recall  std Recall  \\\n",
       "0  0.272727      0.350803   0.295455       0.325405  0.181818    0.290663   \n",
       "\n",
       "   F1 Score  std F1 Score  \n",
       "0  0.207535      0.296815  "
      ]
     },
     "metadata": {},
     "output_type": "display_data"
    }
   ],
   "source": [
    "# Evaluate metrics\n",
    "# evaluate_metrics_repeatedly(dataset_vectors = dataset_vectors,\n",
    "#                       dataset_labels = dataset_labels,                      \n",
    "#                       estimator = svm.SVC())\n",
    "evaluate_metrics_repeatedly(dataset_vectors = res,\n",
    "                      dataset_labels = dataset_labels,                      \n",
    "                      estimator = QuanticSVM())"
   ]
  },
  {
   "cell_type": "code",
   "execution_count": null,
   "metadata": {},
   "outputs": [],
   "source": []
  }
 ],
 "metadata": {
  "kernelspec": {
   "display_name": "base",
   "language": "python",
   "name": "python3"
  },
  "language_info": {
   "codemirror_mode": {
    "name": "ipython",
    "version": 3
   },
   "file_extension": ".py",
   "mimetype": "text/x-python",
   "name": "python",
   "nbconvert_exporter": "python",
   "pygments_lexer": "ipython3",
   "version": "3.10.13"
  }
 },
 "nbformat": 4,
 "nbformat_minor": 2
}
