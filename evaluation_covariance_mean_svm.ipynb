{
 "cells": [
  {
   "cell_type": "code",
   "execution_count": 21,
   "metadata": {},
   "outputs": [
    {
     "name": "stdout",
     "output_type": "stream",
     "text": [
      "The autoreload extension is already loaded. To reload it, use:\n",
      "  %reload_ext autoreload\n"
     ]
    }
   ],
   "source": [
    "import numpy as np\n",
    "from sklearn import svm\n",
    "\n",
    "from src.utils import load_and_regularize_covariance_matrices, calculate_covariance_means, project_to_tangent_and_triu, evaluate_metrics_repeatedly\n",
    "from src.covariance_means import generalized_eigenvalue_covariance_mean\n",
    "\n",
    "%load_ext autoreload\n",
    "%autoreload 2"
   ]
  },
  {
   "cell_type": "code",
   "execution_count": 22,
   "metadata": {},
   "outputs": [
    {
     "name": "stderr",
     "output_type": "stream",
     "text": [
      "Patients:   0%|          | 0/11 [00:00<?, ?it/s]"
     ]
    },
    {
     "name": "stderr",
     "output_type": "stream",
     "text": [
      "Patients: 100%|██████████| 11/11 [00:00<00:00, 58.24it/s]\n",
      "Patients [Covariance mean]: 100%|██████████| 11/11 [00:03<00:00,  3.57it/s]\n",
      "Patients [Tangent space]: 100%|██████████| 11/11 [00:00<00:00, 110.30it/s]\n",
      "Patients: 100%|██████████| 11/11 [00:00<00:00, 50.55it/s]\n",
      "Patients [Covariance mean]: 100%|██████████| 11/11 [00:03<00:00,  3.17it/s]\n",
      "Patients [Tangent space]: 100%|██████████| 11/11 [00:00<00:00, 112.18it/s]\n"
     ]
    }
   ],
   "source": [
    "c_dataset = load_and_regularize_covariance_matrices(deep_features_type='covs_DN20', group_type='CG')\n",
    "c_dataset_covs = calculate_covariance_means(c_dataset) #Generalized eigenvalue covariance mean\n",
    "c_dataset_vectors = project_to_tangent_and_triu(c_dataset_covs)\n",
    "\n",
    "pk_dataset = load_and_regularize_covariance_matrices(deep_features_type='covs_DN20', group_type='PG')\n",
    "pk_dataset_covs = calculate_covariance_means(pk_dataset)\n",
    "pk_dataset_vectors = project_to_tangent_and_triu(pk_dataset_covs)"
   ]
  },
  {
   "cell_type": "code",
   "execution_count": 24,
   "metadata": {},
   "outputs": [],
   "source": [
    "# Concatenate control and Pk\n",
    "dataset_vectors = np.concatenate([c_dataset_vectors, pk_dataset_vectors], axis=0) # (22=parkinsons + 22=control, num_videos, num_features = Tangent space flattened mean covariances)\n",
    "dataset_labels = np.concatenate([np.zeros(c_dataset_vectors.shape[0]), np.ones(pk_dataset_vectors.shape[0])])\n"
   ]
  },
  {
   "cell_type": "code",
   "execution_count": 27,
   "metadata": {},
   "outputs": [
    {
     "name": "stderr",
     "output_type": "stream",
     "text": [
      "Repetitions:   0%|          | 0/10 [00:00<?, ?it/s]"
     ]
    },
    {
     "name": "stderr",
     "output_type": "stream",
     "text": [
      "Repetitions: 100%|██████████| 10/10 [00:00<00:00, 13.53it/s]\n"
     ]
    },
    {
     "data": {
      "text/html": [
       "<div>\n",
       "<style scoped>\n",
       "    .dataframe tbody tr th:only-of-type {\n",
       "        vertical-align: middle;\n",
       "    }\n",
       "\n",
       "    .dataframe tbody tr th {\n",
       "        vertical-align: top;\n",
       "    }\n",
       "\n",
       "    .dataframe thead th {\n",
       "        text-align: right;\n",
       "    }\n",
       "</style>\n",
       "<table border=\"1\" class=\"dataframe\">\n",
       "  <thead>\n",
       "    <tr style=\"text-align: right;\">\n",
       "      <th></th>\n",
       "      <th>Accuracy</th>\n",
       "      <th>std Accuracy</th>\n",
       "      <th>Precision</th>\n",
       "      <th>std Precision</th>\n",
       "      <th>Recall</th>\n",
       "      <th>std Recall</th>\n",
       "      <th>F1 Score</th>\n",
       "      <th>std F1 Score</th>\n",
       "    </tr>\n",
       "  </thead>\n",
       "  <tbody>\n",
       "    <tr>\n",
       "      <th>0</th>\n",
       "      <td>0.948864</td>\n",
       "      <td>0.183321</td>\n",
       "      <td>0.931818</td>\n",
       "      <td>0.171587</td>\n",
       "      <td>0.90625</td>\n",
       "      <td>0.244797</td>\n",
       "      <td>0.911111</td>\n",
       "      <td>0.232104</td>\n",
       "    </tr>\n",
       "  </tbody>\n",
       "</table>\n",
       "</div>"
      ],
      "text/plain": [
       "   Accuracy  std Accuracy  Precision  ...  std Recall  F1 Score  std F1 Score\n",
       "0  0.948864      0.183321   0.931818  ...    0.244797  0.911111      0.232104\n",
       "\n",
       "[1 rows x 8 columns]"
      ]
     },
     "metadata": {},
     "output_type": "display_data"
    }
   ],
   "source": [
    "# Evaluate metrics\n",
    "evaluate_metrics_repeatedly(dataset_vectors = dataset_vectors,\n",
    "                      dataset_labels = dataset_labels,                      \n",
    "                      estimator = svm.SVC())"
   ]
  }
 ],
 "metadata": {
  "kernelspec": {
   "display_name": "base",
   "language": "python",
   "name": "python3"
  },
  "language_info": {
   "codemirror_mode": {
    "name": "ipython",
    "version": 3
   },
   "file_extension": ".py",
   "mimetype": "text/x-python",
   "name": "python",
   "nbconvert_exporter": "python",
   "pygments_lexer": "ipython3",
   "version": "3.10.11"
  }
 },
 "nbformat": 4,
 "nbformat_minor": 2
}
