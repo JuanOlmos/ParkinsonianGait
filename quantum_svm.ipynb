{
 "cells": [
  {
   "cell_type": "code",
   "execution_count": null,
   "metadata": {},
   "outputs": [],
   "source": [
    "%pip install pyriemann-qiskit"
   ]
  },
  {
   "cell_type": "code",
   "execution_count": null,
   "metadata": {},
   "outputs": [],
   "source": [
    "%pip install moabb"
   ]
  },
  {
   "cell_type": "code",
   "execution_count": 8,
   "metadata": {},
   "outputs": [
    {
     "name": "stdout",
     "output_type": "stream",
     "text": [
      "Automatically created module for IPython interactive environment\n"
     ]
    }
   ],
   "source": [
    "from pyriemann.estimation import XdawnCovariances\n",
    "from pyriemann.tangentspace import TangentSpace\n",
    "from sklearn.pipeline import make_pipeline\n",
    "from matplotlib import pyplot as plt\n",
    "import warnings\n",
    "import seaborn as sns\n",
    "from sklearn.discriminant_analysis import LinearDiscriminantAnalysis as LDA\n",
    "from pyriemann_qiskit.pipelines import (\n",
    "    QuantumClassifierWithDefaultRiemannianPipeline,\n",
    ")\n",
    "from sklearn.decomposition import PCA\n",
    "from moabb.evaluations import WithinSessionEvaluation\n",
    "from moabb.paradigms import P300\n",
    "\n",
    "print(__doc__)"
   ]
  },
  {
   "cell_type": "code",
   "execution_count": null,
   "metadata": {},
   "outputs": [],
   "source": [
    "warnings.simplefilter(action=\"ignore\", category=FutureWarning)\n",
    "warnings.simplefilter(action=\"ignore\", category=RuntimeWarning)\n",
    "\n",
    "warnings.filterwarnings(\"ignore\")"
   ]
  },
  {
   "cell_type": "code",
   "execution_count": null,
   "metadata": {},
   "outputs": [],
   "source": [
    "pipelines = {}\n",
    "paradigm = P300(resample=128)\n",
    "\n",
    "datasets = []\n",
    "# A Riemannian Quantum pipeline provided by pyRiemann-qiskit\n",
    "# You can choose between classical SVM and Quantum SVM.\n",
    "pipelines[\"RG+QuantumSVM\"] = QuantumClassifierWithDefaultRiemannianPipeline(\n",
    "    shots=512,  # 'None' forces classic SVM\n",
    "    nfilter=2,  # default 2\n",
    "    # default n_components=10, a higher value renders better performance with\n",
    "    # the non-qunatum SVM version used in qiskit\n",
    "    # On a real Quantum computer (n_components = qubits)\n",
    "    dim_red=PCA(n_components=5),\n",
    "    # params={'q_account_token': '<IBM Quantum TOKEN>'}\n",
    ")\n",
    "\n",
    "\n",
    "print(\"Total pipelines to evaluate: \", len(pipelines))\n",
    "\n",
    "evaluation = WithinSessionEvaluation(\n",
    "    paradigm=paradigm, datasets=datasets, suffix=\"examples\", overwrite=True\n",
    ")\n",
    "\n",
    "results = evaluation.process(pipelines)\n",
    "\n",
    "print(\"Averaging the session performance:\")\n",
    "print(results.groupby(\"pipeline\").mean(\"score\")[[\"score\", \"time\"]])"
   ]
  }
 ],
 "metadata": {
  "kernelspec": {
   "display_name": "Python 3",
   "language": "python",
   "name": "python3"
  },
  "language_info": {
   "codemirror_mode": {
    "name": "ipython",
    "version": 3
   },
   "file_extension": ".py",
   "mimetype": "text/x-python",
   "name": "python",
   "nbconvert_exporter": "python",
   "pygments_lexer": "ipython3",
   "version": "3.10.13"
  }
 },
 "nbformat": 4,
 "nbformat_minor": 2
}
