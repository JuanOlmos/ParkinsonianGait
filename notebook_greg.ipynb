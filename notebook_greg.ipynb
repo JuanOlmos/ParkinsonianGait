{
 "cells": [
  {
   "cell_type": "markdown",
   "metadata": {},
   "source": [
    "# Required import"
   ]
  },
  {
   "cell_type": "code",
   "execution_count": 1,
   "metadata": {},
   "outputs": [],
   "source": [
    "import numpy as np\n",
    "from sklearn import svm\n",
    "\n",
    "from sklearn.decomposition import PCA\n",
    "from sklearn.pipeline import make_pipeline\n",
    "from sklearn.base import TransformerMixin\n",
    "\n",
    "from src.utils import load_and_regularize_covariance_matrices, calculate_covariance_means\n",
    "from pyriemann_qiskit.classification import QuanticSVM, QuanticNCH\n",
    "from pyriemann.classification import MDM\n",
    "from pyriemann.tangentspace import TangentSpace\n",
    "\n",
    "from sklearn.model_selection import StratifiedKFold, cross_val_score, GridSearchCV, train_test_split\n",
    "from pyriemann_qiskit.utils.hyper_params_factory import gen_x_feature_map, gen_z_feature_map\n",
    "\n",
    "from sklearn.discriminant_analysis import LinearDiscriminantAnalysis as LDA\n",
    "from pyriemann_qiskit.ensemble import JudgeClassifier\n",
    "from sklearn.ensemble import RandomForestClassifier\n",
    "\n",
    "from pyriemann_qiskit.visualization.manifold import plot_manifold\n",
    "from pyriemann.utils.viz import plot_biscatter, plot_bihist, plot_cov_ellipse\n",
    "\n",
    "from matplotlib import pyplot as plt\n",
    "\n",
    "%load_ext autoreload\n",
    "%autoreload 2"
   ]
  },
  {
   "cell_type": "markdown",
   "metadata": {},
   "source": [
    "# Define custom spatial filtering"
   ]
  },
  {
   "cell_type": "code",
   "execution_count": 5,
   "metadata": {},
   "outputs": [],
   "source": [
    "class PCA_SPD(TransformerMixin):\n",
    "    def __init__(self, n_components):\n",
    "        self.n_components = n_components\n",
    "    \n",
    "    def set_params(self, **parameters):\n",
    "        for parameter, value in parameters.items():\n",
    "            setattr(self, parameter, value)\n",
    "        return self\n",
    "\n",
    "    def fit(self, X, y):\n",
    "        return self\n",
    "    \n",
    "    def transform(self, X, y=None):\n",
    "        X = np.array(X)\n",
    "        new_dataset = np.zeros((X.shape[0], self.n_components, self.n_components))\n",
    "        for i in range(X.shape[0]):\n",
    "            covariance_to_reduce = X[i]\n",
    "            eigenvalues, eigenvectors = np.linalg.eigh(covariance_to_reduce) # Calculate eigenvalues and eigenvectors            \n",
    "            idx = eigenvalues.argsort()[::-1] # Sort eigenvalues in descending order\n",
    "            eigenvectors = eigenvectors[:,idx][:,:self.n_components] # Sort eigenvectors according to eigenvalues and get the first n_components\n",
    "            reduced_covariance = eigenvectors.T @ np.diag(eigenvalues) @ eigenvectors            \n",
    "            new_dataset[i] = reduced_covariance            \n",
    "        return new_dataset "
   ]
  },
  {
   "cell_type": "markdown",
   "metadata": {},
   "source": [
    "# Extract data"
   ]
  },
  {
   "cell_type": "code",
   "execution_count": 2,
   "metadata": {},
   "outputs": [
    {
     "name": "stderr",
     "output_type": "stream",
     "text": [
      "Patients:   0%|          | 0/11 [00:00<?, ?it/s]"
     ]
    },
    {
     "name": "stderr",
     "output_type": "stream",
     "text": [
      "Patients: 100%|██████████| 11/11 [00:00<00:00, 17.95it/s]\n",
      "Patients [Covariance mean]: 100%|██████████| 11/11 [00:09<00:00,  1.20it/s]\n",
      "Patients: 100%|██████████| 11/11 [00:00<00:00, 18.43it/s]\n",
      "Patients [Covariance mean]: 100%|██████████| 11/11 [00:10<00:00,  1.05it/s]\n"
     ]
    }
   ],
   "source": [
    "c_dataset = load_and_regularize_covariance_matrices(deep_features_type='covs_DN20', group_type='CG')\n",
    "c_dataset_covs = calculate_covariance_means(c_dataset) #Generalized eigenvalue covariance mean\n",
    "c_nsubjects = len(c_dataset_covs)\n",
    "c_nvideos = len(c_dataset_covs[0])\n",
    "c_covdim = len(c_dataset_covs[0][0])\n",
    "c_dataset_covs_reshaped = np.array(c_dataset_covs).reshape((c_nsubjects * c_nvideos, c_covdim, c_covdim))\n",
    "\n",
    "pk_dataset = load_and_regularize_covariance_matrices(deep_features_type='covs_DN20', group_type='PG')\n",
    "pk_dataset_covs = calculate_covariance_means(pk_dataset)\n",
    "pk_nsubjects = len(pk_dataset_covs)\n",
    "pk_nvideos = len(pk_dataset_covs[0])\n",
    "pk_covdim = len(pk_dataset_covs[0][0])\n",
    "pk_dataset_covs_reshaped = np.array(pk_dataset_covs).reshape((pk_nsubjects * pk_nvideos, pk_covdim, pk_covdim))\n",
    "X = np.concatenate([c_dataset_covs_reshaped, pk_dataset_covs_reshaped], axis=0)\n",
    "y = np.concatenate([np.zeros(c_nsubjects * c_nvideos), np.ones(pk_nsubjects * pk_nvideos)])"
   ]
  },
  {
   "cell_type": "markdown",
   "metadata": {},
   "source": [
    "# Visualize data"
   ]
  },
  {
   "cell_type": "code",
   "execution_count": 7,
   "metadata": {},
   "outputs": [
    {
     "ename": "AttributeError",
     "evalue": "'Ellipse' object has no attribute 'transData'",
     "output_type": "error",
     "traceback": [
      "\u001b[0;31m---------------------------------------------------------------------------\u001b[0m",
      "\u001b[0;31mAttributeError\u001b[0m                            Traceback (most recent call last)",
      "Cell \u001b[0;32mIn[7], line 6\u001b[0m\n\u001b[1;32m      4\u001b[0m X_reduced \u001b[38;5;241m=\u001b[39m PCA_SPD(n_components\u001b[38;5;241m=\u001b[39m\u001b[38;5;241m2\u001b[39m)\u001b[38;5;241m.\u001b[39mfit(X, y)\u001b[38;5;241m.\u001b[39mtransform(X)\n\u001b[1;32m      5\u001b[0m \u001b[38;5;28;01mfor\u001b[39;00m x \u001b[38;5;129;01min\u001b[39;00m X_reduced:\n\u001b[0;32m----> 6\u001b[0m     ax \u001b[38;5;241m=\u001b[39m \u001b[43mplot_cov_ellipse\u001b[49m\u001b[43m(\u001b[49m\u001b[43max\u001b[49m\u001b[43m,\u001b[49m\u001b[43m \u001b[49m\u001b[43mx\u001b[49m\u001b[43m)\u001b[49m\n",
      "File \u001b[0;32m~/.python/current/lib/python3.10/site-packages/pyriemann/utils/viz.py:262\u001b[0m, in \u001b[0;36mplot_cov_ellipse\u001b[0;34m(ax, X, n_std, **kwds)\u001b[0m\n\u001b[1;32m    260\u001b[0m scale_y \u001b[38;5;241m=\u001b[39m np\u001b[38;5;241m.\u001b[39msqrt(X[\u001b[38;5;241m1\u001b[39m, \u001b[38;5;241m1\u001b[39m]) \u001b[38;5;241m*\u001b[39m n_std\n\u001b[1;32m    261\u001b[0m transf \u001b[38;5;241m=\u001b[39m transforms\u001b[38;5;241m.\u001b[39mAffine2D()\u001b[38;5;241m.\u001b[39mrotate_deg(\u001b[38;5;241m45\u001b[39m)\u001b[38;5;241m.\u001b[39mscale(scale_x, scale_y)\n\u001b[0;32m--> 262\u001b[0m ellipse\u001b[38;5;241m.\u001b[39mset_transform(transf \u001b[38;5;241m+\u001b[39m \u001b[43max\u001b[49m\u001b[38;5;241;43m.\u001b[39;49m\u001b[43mtransData\u001b[49m)\n\u001b[1;32m    264\u001b[0m \u001b[38;5;28;01mreturn\u001b[39;00m ax\u001b[38;5;241m.\u001b[39madd_patch(ellipse)\n",
      "\u001b[0;31mAttributeError\u001b[0m: 'Ellipse' object has no attribute 'transData'"
     ]
    },
    {
     "data": {
      "image/png": "[encoded data removed]",
      "text/plain": [
       "<Figure size 700x700 with 1 Axes>"
      ]
     },
     "metadata": {},
     "output_type": "display_data"
    }
   ],
   "source": [
    "fig, ax = plt.subplots(figsize=(7, 7))\n",
    "ax.set_title(\"Covariance estimations on dataset\")\n",
    "ax.scatter(X[0], X[1], c='C0', edgecolors=\"k\", label='Inputs')\n",
    "X_reduced = PCA_SPD(n_components=2).fit(X, y).transform(X)\n",
    "for x in X_reduced:\n",
    "    ax = plot_cov_ellipse(ax, x)"
   ]
  },
  {
   "cell_type": "markdown",
   "metadata": {},
   "source": [
    "# Define pipelines"
   ]
  },
  {
   "cell_type": "code",
   "execution_count": 56,
   "metadata": {},
   "outputs": [
    {
     "name": "stdout",
     "output_type": "stream",
     "text": [
      "[QClass]  Initializing Quantum Classifier\n",
      "[QClass]  Initializing Quantum Classifier\n",
      "[QClass]  Initializing Quantum Classifier\n"
     ]
    }
   ],
   "source": [
    "pipe_ts_svm = make_pipeline(TangentSpace(metric='logeuclid'), svm.SVC())\n",
    "pipe_ts_qsvm = make_pipeline(TangentSpace(metric='logeuclid'), PCA(n_components=10), QuanticSVM())\n",
    "pipe_ts_qsvm2 = make_pipeline(\n",
    "    # Whitening(metric=\"logeuclid\", dim_red={'n_components': 2}),\n",
    "    PCA_SPD(n_components=2),\n",
    "    TangentSpace(metric='logeuclid'),\n",
    "    QuanticSVM(gen_feature_map=gen_x_feature_map(), pegasos=False))\n",
    "pipe_mdm = make_pipeline(\n",
    "    PCA_SPD(n_components=2),\n",
    "    MDM(metric='logeuclid'))\n",
    "pipe_nch = make_pipeline(\n",
    "    PCA_SPD(n_components=2),\n",
    "    QuanticNCH(\n",
    "        n_hulls_per_class=1,\n",
    "        n_samples_per_hull=3,\n",
    "        n_jobs=12,\n",
    "        subsampling=\"random\",\n",
    "        quantum=False,\n",
    "    )\n",
    ")\n",
    "pipe_classical = make_pipeline(\n",
    "    PCA_SPD(n_components=2),\n",
    "    TangentSpace(metric='logeuclid'),\n",
    "    svm.SVC()\n",
    ")\n",
    "pipe_lda = make_pipeline(\n",
    "    PCA_SPD(n_components=2),\n",
    "    TangentSpace(metric='logeuclid'),\n",
    "    svm.SVC()\n",
    ")\n",
    "pipe_ens = make_pipeline(\n",
    "    PCA_SPD(n_components=2),\n",
    "    TangentSpace(metric='logeuclid'),\n",
    "    JudgeClassifier(\n",
    "        clfs=[LDA(),QuanticSVM(gen_feature_map=gen_x_feature_map(), pegasos=False)],\n",
    "        judge=RandomForestClassifier(n_estimators=100)\n",
    "    )\n",
    ")"
   ]
  },
  {
   "cell_type": "markdown",
   "metadata": {},
   "source": [
    "# Evaluate"
   ]
  },
  {
   "cell_type": "code",
   "execution_count": 6,
   "metadata": {},
   "outputs": [
    {
     "name": "stderr",
     "output_type": "stream",
     "text": [
      "WARNING:root:FidelityQuantumKernel skipped because of time.\n",
      "                    Using FidelityStatevectorKernel with AerStatevector.\n",
      "                    Seed cannot be set with FidelityStatevectorKernel.\n",
      "                    Increase the number of shots to diminish the noise.\n"
     ]
    },
    {
     "name": "stdout",
     "output_type": "stream",
     "text": [
      "[QClass]  Initializing Quantum Classifier\n",
      "[QClass]  Quantum simulation will be performed\n",
      "GPU optimization disabled. No device found.\n",
      "[QClass]  Fitting:  (117, 3)\n",
      "[QClass]  Feature dimension =  3\n",
      "[QClass]  Quantum backend =  AerSimulator('aer_simulator_statevector')\n",
      "[QClass]  seed =  9060\n",
      "[QClass]  SVM initiating algorithm\n",
      "[QClass]  Training...\n"
     ]
    },
    {
     "name": "stderr",
     "output_type": "stream",
     "text": [
      "WARNING:root:FidelityQuantumKernel skipped because of time.\n",
      "                    Using FidelityStatevectorKernel with AerStatevector.\n",
      "                    Seed cannot be set with FidelityStatevectorKernel.\n",
      "                    Increase the number of shots to diminish the noise.\n"
     ]
    },
    {
     "name": "stdout",
     "output_type": "stream",
     "text": [
      "[QClass]  Prediction finished.\n",
      "[QClass]  Initializing Quantum Classifier\n",
      "[QClass]  Quantum simulation will be performed\n",
      "GPU optimization disabled. No device found.\n",
      "[QClass]  Fitting:  (117, 3)\n",
      "[QClass]  Feature dimension =  3\n",
      "[QClass]  Quantum backend =  AerSimulator('aer_simulator_statevector')\n",
      "[QClass]  seed =  9060\n",
      "[QClass]  SVM initiating algorithm\n",
      "[QClass]  Training...\n"
     ]
    },
    {
     "name": "stderr",
     "output_type": "stream",
     "text": [
      "WARNING:root:FidelityQuantumKernel skipped because of time.\n",
      "                    Using FidelityStatevectorKernel with AerStatevector.\n",
      "                    Seed cannot be set with FidelityStatevectorKernel.\n",
      "                    Increase the number of shots to diminish the noise.\n"
     ]
    },
    {
     "name": "stdout",
     "output_type": "stream",
     "text": [
      "[QClass]  Prediction finished.\n",
      "[QClass]  Initializing Quantum Classifier\n",
      "[QClass]  Quantum simulation will be performed\n",
      "GPU optimization disabled. No device found.\n",
      "[QClass]  Fitting:  (118, 3)\n",
      "[QClass]  Feature dimension =  3\n",
      "[QClass]  Quantum backend =  AerSimulator('aer_simulator_statevector')\n",
      "[QClass]  seed =  9060\n",
      "[QClass]  SVM initiating algorithm\n",
      "[QClass]  Training...\n",
      "[QClass]  Prediction finished.\n"
     ]
    },
    {
     "data": {
      "text/plain": [
       "0.9555555555555556"
      ]
     },
     "execution_count": 6,
     "metadata": {},
     "output_type": "execute_result"
    }
   ],
   "source": [
    "cross_val_score(pipe_ts_qsvm2, X, y, scoring=\"balanced_accuracy\", cv=StratifiedKFold(n_splits=3)).mean()"
   ]
  },
  {
   "cell_type": "markdown",
   "metadata": {},
   "source": [
    "# Grid Search"
   ]
  },
  {
   "cell_type": "code",
   "execution_count": null,
   "metadata": {},
   "outputs": [],
   "source": [
    "# Score with gridsearch\n",
    "# Leave 20 percent out, to avoid biases in the choice of the hyperparameter\n",
    "# (how well this tuned pipeline is doing with new data?)\n",
    "X_train, X_test, y_train, y_test = train_test_split(X, y, stratify=y, test_size=0.1)\n",
    "params = {\n",
    "    \"quanticsvm__C\": [0.1, 1, 10],\n",
    "    \"quanticsvm__gamma\": [\"auto\", \"scale\"],\n",
    "    \"quanticsvm__gen_feature_map\": [gen_z_feature_map(), gen_x_feature_map()],\n",
    "    \"tangentspace__metric\": [\"riemann\", \"logeuclid\"],\n",
    "    \"pca_spd__n_components\": [2, 3]\n",
    "}\n",
    "gs = GridSearchCV(pipe_ts_qsvm2, params, scoring=\"balanced_accuracy\", cv=StratifiedKFold(n_splits=3))\n",
    "gs.fit(X_train, y_train)\n",
    "print(gs.best_params_)\n",
    "print(f'best score {gs.best_score_}')\n",
    "score = gs.score(X_test, y_test)\n",
    "print(f'validation score {score}')"
   ]
  },
  {
   "cell_type": "markdown",
   "metadata": {},
   "source": [
    "# Evaluate difference in predictions"
   ]
  },
  {
   "cell_type": "code",
   "execution_count": null,
   "metadata": {},
   "outputs": [],
   "source": [
    "X_train, X_test, y_train, y_test = train_test_split(X, y, stratify=y, test_size=0.9)\n",
    "y_pred_classical = pipe_classical.fit(X_train, y_train).predict(X_test)\n",
    "y_pred_quantum = pipe_ts_qsvm2.fit(X_train, y_train).predict(X_test)\n",
    "from sklearn.metrics import balanced_accuracy_score, jaccard_score\n",
    "score_classical = balanced_accuracy_score(y_test, y_pred_classical)\n",
    "print(score_classical)\n",
    "score_quantum = balanced_accuracy_score(y_test, y_pred_quantum)\n",
    "print(score_quantum)\n",
    "print((y_pred_classical == y_pred_quantum).sum() / len(X_test))\n",
    "print(y_pred_classical)\n",
    "print(y_pred_quantum)"
   ]
  }
 ],
 "metadata": {
  "kernelspec": {
   "display_name": "base",
   "language": "python",
   "name": "python3"
  },
  "language_info": {
   "codemirror_mode": {
    "name": "ipython",
    "version": 3
   },
   "file_extension": ".py",
   "mimetype": "text/x-python",
   "name": "python",
   "nbconvert_exporter": "python",
   "pygments_lexer": "ipython3",
   "version": "3.10.13"
  }
 },
 "nbformat": 4,
 "nbformat_minor": 2
}
