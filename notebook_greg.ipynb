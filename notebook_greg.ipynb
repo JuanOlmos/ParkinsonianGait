{
 "cells": [
  {
   "cell_type": "code",
   "execution_count": 35,
   "metadata": {},
   "outputs": [
    {
     "name": "stdout",
     "output_type": "stream",
     "text": [
      "The autoreload extension is already loaded. To reload it, use:\n",
      "  %reload_ext autoreload\n"
     ]
    }
   ],
   "source": [
    "import numpy as np\n",
    "from sklearn import svm\n",
    "\n",
    "from sklearn.decomposition import PCA\n",
    "from sklearn.pipeline import make_pipeline\n",
    "\n",
    "from src.utils import load_and_regularize_covariance_matrices, calculate_covariance_means\n",
    "from pyriemann_qiskit.classification import QuanticSVM, QuanticNCH\n",
    "from pyriemann.classification import MDM\n",
    "from pyriemann.tangentspace import TangentSpace\n",
    "\n",
    "from sklearn.model_selection import StratifiedKFold, cross_val_score, GridSearchCV, train_test_split\n",
    "from pyriemann_qiskit.utils.hyper_params_factory import gen_x_feature_map, gen_z_feature_map\n",
    "\n",
    "from sklearn.discriminant_analysis import LinearDiscriminantAnalysis as LDA\n",
    "from pyriemann_qiskit.ensemble import JudgeClassifier\n",
    "from sklearn.ensemble import GradientBoostingClassifier, RandomForestClassifier\n",
    "%load_ext autoreload\n",
    "%autoreload 2"
   ]
  },
  {
   "cell_type": "code",
   "execution_count": 2,
   "metadata": {},
   "outputs": [
    {
     "name": "stderr",
     "output_type": "stream",
     "text": [
      "Patients:   0%|          | 0/11 [00:00<?, ?it/s]"
     ]
    },
    {
     "name": "stderr",
     "output_type": "stream",
     "text": [
      "Patients: 100%|██████████| 11/11 [00:00<00:00, 24.20it/s]\n",
      "Patients [Covariance mean]: 100%|██████████| 11/11 [00:08<00:00,  1.31it/s]\n",
      "Patients: 100%|██████████| 11/11 [00:00<00:00, 23.30it/s]\n",
      "Patients [Covariance mean]: 100%|██████████| 11/11 [00:09<00:00,  1.12it/s]\n"
     ]
    }
   ],
   "source": [
    "c_dataset = load_and_regularize_covariance_matrices(deep_features_type='covs_DN20', group_type='CG')\n",
    "c_dataset_covs = calculate_covariance_means(c_dataset) #Generalized eigenvalue covariance mean\n",
    "c_nsubjects = len(c_dataset_covs)\n",
    "c_nvideos = len(c_dataset_covs[0])\n",
    "c_covdim = len(c_dataset_covs[0][0])\n",
    "c_dataset_covs_reshaped = np.array(c_dataset_covs).reshape((c_nsubjects * c_nvideos, c_covdim, c_covdim))\n",
    "\n",
    "pk_dataset = load_and_regularize_covariance_matrices(deep_features_type='covs_DN20', group_type='PG')\n",
    "pk_dataset_covs = calculate_covariance_means(pk_dataset)\n",
    "pk_nsubjects = len(pk_dataset_covs)\n",
    "pk_nvideos = len(pk_dataset_covs[0])\n",
    "pk_covdim = len(pk_dataset_covs[0][0])\n",
    "pk_dataset_covs_reshaped = np.array(pk_dataset_covs).reshape((pk_nsubjects * pk_nvideos, pk_covdim, pk_covdim))"
   ]
  },
  {
   "cell_type": "code",
   "execution_count": 3,
   "metadata": {},
   "outputs": [
    {
     "name": "stdout",
     "output_type": "stream",
     "text": [
      "(176, 20, 20)\n",
      "(176,)\n"
     ]
    }
   ],
   "source": [
    "X = np.concatenate([c_dataset_covs_reshaped, pk_dataset_covs_reshaped], axis=0)\n",
    "y = np.concatenate([np.zeros(c_nsubjects * c_nvideos), np.ones(pk_nsubjects * pk_nvideos)])\n",
    "print(X.shape)\n",
    "print(y.shape)"
   ]
  },
  {
   "cell_type": "code",
   "execution_count": 4,
   "metadata": {},
   "outputs": [],
   "source": [
    "from sklearn.base import TransformerMixin\n",
    "\n",
    "class PCA_SPD(TransformerMixin):\n",
    "    def __init__(self, n_components):\n",
    "        self.n_components = n_components\n",
    "    \n",
    "    def set_params(self, **parameters):\n",
    "        for parameter, value in parameters.items():\n",
    "            setattr(self, parameter, value)\n",
    "        return self\n",
    "\n",
    "    def fit(self, X, y):\n",
    "        return self\n",
    "    \n",
    "    def transform(self, X, y=None):\n",
    "        X = np.array(X)\n",
    "        new_dataset = np.zeros((X.shape[0], self.n_components, self.n_components))\n",
    "        for i in range(X.shape[0]):\n",
    "            covariance_to_reduce = X[i]\n",
    "            eigenvalues, eigenvectors = np.linalg.eigh(covariance_to_reduce) # Calculate eigenvalues and eigenvectors            \n",
    "            idx = eigenvalues.argsort()[::-1] # Sort eigenvalues in descending order\n",
    "            eigenvectors = eigenvectors[:,idx][:,:self.n_components] # Sort eigenvectors according to eigenvalues and get the first n_components\n",
    "            reduced_covariance = eigenvectors.T @ np.diag(eigenvalues) @ eigenvectors            \n",
    "            new_dataset[i] = reduced_covariance            \n",
    "        return new_dataset "
   ]
  },
  {
   "cell_type": "code",
   "execution_count": 56,
   "metadata": {},
   "outputs": [
    {
     "name": "stdout",
     "output_type": "stream",
     "text": [
      "[QClass]  Initializing Quantum Classifier\n",
      "[QClass]  Initializing Quantum Classifier\n",
      "[QClass]  Initializing Quantum Classifier\n"
     ]
    }
   ],
   "source": [
    "pipe_ts_svm = make_pipeline(TangentSpace(metric='logeuclid'), svm.SVC())\n",
    "pipe_ts_qsvm = make_pipeline(TangentSpace(metric='logeuclid'), PCA(n_components=10), QuanticSVM())\n",
    "pipe_ts_qsvm2 = make_pipeline(\n",
    "    # Whitening(metric=\"logeuclid\", dim_red={'n_components': 2}),\n",
    "    PCA_SPD(n_components=2),\n",
    "    TangentSpace(metric='logeuclid'),\n",
    "    QuanticSVM(gen_feature_map=gen_x_feature_map(), pegasos=False))\n",
    "pipe_mdm = make_pipeline(\n",
    "    PCA_SPD(n_components=2),\n",
    "    MDM(metric='logeuclid'))\n",
    "pipe_nch = make_pipeline(\n",
    "    PCA_SPD(n_components=2),\n",
    "    QuanticNCH(\n",
    "        n_hulls_per_class=1,\n",
    "        n_samples_per_hull=3,\n",
    "        n_jobs=12,\n",
    "        subsampling=\"random\",\n",
    "        quantum=False,\n",
    "    )\n",
    ")\n",
    "pipe_classical = make_pipeline(\n",
    "    # Whitening(metric=\"logeuclid\", dim_red={'n_components': 2}),\n",
    "    PCA_SPD(n_components=2),\n",
    "    TangentSpace(metric='logeuclid'),\n",
    "    svm.SVC()\n",
    "    # LDA()\n",
    "    )"
   ]
  },
  {
   "cell_type": "code",
   "execution_count": 6,
   "metadata": {},
   "outputs": [
    {
     "name": "stderr",
     "output_type": "stream",
     "text": [
      "WARNING:root:FidelityQuantumKernel skipped because of time.\n",
      "                    Using FidelityStatevectorKernel with AerStatevector.\n",
      "                    Seed cannot be set with FidelityStatevectorKernel.\n",
      "                    Increase the number of shots to diminish the noise.\n"
     ]
    },
    {
     "name": "stdout",
     "output_type": "stream",
     "text": [
      "[QClass]  Initializing Quantum Classifier\n",
      "[QClass]  Quantum simulation will be performed\n",
      "GPU optimization disabled. No device found.\n",
      "[QClass]  Fitting:  (117, 3)\n",
      "[QClass]  Feature dimension =  3\n",
      "[QClass]  Quantum backend =  AerSimulator('aer_simulator_statevector')\n",
      "[QClass]  seed =  9060\n",
      "[QClass]  SVM initiating algorithm\n",
      "[QClass]  Training...\n"
     ]
    },
    {
     "name": "stderr",
     "output_type": "stream",
     "text": [
      "WARNING:root:FidelityQuantumKernel skipped because of time.\n",
      "                    Using FidelityStatevectorKernel with AerStatevector.\n",
      "                    Seed cannot be set with FidelityStatevectorKernel.\n",
      "                    Increase the number of shots to diminish the noise.\n"
     ]
    },
    {
     "name": "stdout",
     "output_type": "stream",
     "text": [
      "[QClass]  Prediction finished.\n",
      "[QClass]  Initializing Quantum Classifier\n",
      "[QClass]  Quantum simulation will be performed\n",
      "GPU optimization disabled. No device found.\n",
      "[QClass]  Fitting:  (117, 3)\n",
      "[QClass]  Feature dimension =  3\n",
      "[QClass]  Quantum backend =  AerSimulator('aer_simulator_statevector')\n",
      "[QClass]  seed =  9060\n",
      "[QClass]  SVM initiating algorithm\n",
      "[QClass]  Training...\n"
     ]
    },
    {
     "name": "stderr",
     "output_type": "stream",
     "text": [
      "WARNING:root:FidelityQuantumKernel skipped because of time.\n",
      "                    Using FidelityStatevectorKernel with AerStatevector.\n",
      "                    Seed cannot be set with FidelityStatevectorKernel.\n",
      "                    Increase the number of shots to diminish the noise.\n"
     ]
    },
    {
     "name": "stdout",
     "output_type": "stream",
     "text": [
      "[QClass]  Prediction finished.\n",
      "[QClass]  Initializing Quantum Classifier\n",
      "[QClass]  Quantum simulation will be performed\n",
      "GPU optimization disabled. No device found.\n",
      "[QClass]  Fitting:  (118, 3)\n",
      "[QClass]  Feature dimension =  3\n",
      "[QClass]  Quantum backend =  AerSimulator('aer_simulator_statevector')\n",
      "[QClass]  seed =  9060\n",
      "[QClass]  SVM initiating algorithm\n",
      "[QClass]  Training...\n",
      "[QClass]  Prediction finished.\n"
     ]
    },
    {
     "data": {
      "text/plain": [
       "0.9555555555555556"
      ]
     },
     "execution_count": 6,
     "metadata": {},
     "output_type": "execute_result"
    }
   ],
   "source": [
    "cross_val_score(pipe_ts_qsvm2, X, y, scoring=\"balanced_accuracy\", cv=StratifiedKFold(n_splits=3)).mean()"
   ]
  },
  {
   "cell_type": "code",
   "execution_count": 7,
   "metadata": {},
   "outputs": [
    {
     "name": "stderr",
     "output_type": "stream",
     "text": [
      "WARNING:root:FidelityQuantumKernel skipped because of time.\n",
      "                    Using FidelityStatevectorKernel with AerStatevector.\n",
      "                    Seed cannot be set with FidelityStatevectorKernel.\n",
      "                    Increase the number of shots to diminish the noise.\n"
     ]
    },
    {
     "name": "stdout",
     "output_type": "stream",
     "text": [
      "[QClass]  Initializing Quantum Classifier\n",
      "[QClass]  Initializing Quantum Classifier\n",
      "[QClass]  Quantum simulation will be performed\n",
      "GPU optimization disabled. No device found.\n",
      "[QClass]  Fitting:  (105, 3)\n",
      "[QClass]  Feature dimension =  3\n",
      "[QClass]  Quantum backend =  AerSimulator('aer_simulator_statevector')\n",
      "[QClass]  seed =  9060\n",
      "[QClass]  SVM initiating algorithm\n",
      "[QClass]  Training...\n"
     ]
    },
    {
     "name": "stderr",
     "output_type": "stream",
     "text": [
      "WARNING:root:FidelityQuantumKernel skipped because of time.\n",
      "                    Using FidelityStatevectorKernel with AerStatevector.\n",
      "                    Seed cannot be set with FidelityStatevectorKernel.\n",
      "                    Increase the number of shots to diminish the noise.\n"
     ]
    },
    {
     "name": "stdout",
     "output_type": "stream",
     "text": [
      "[QClass]  Prediction finished.\n",
      "[QClass]  Initializing Quantum Classifier\n",
      "[QClass]  Quantum simulation will be performed\n",
      "GPU optimization disabled. No device found.\n",
      "[QClass]  Fitting:  (105, 3)\n",
      "[QClass]  Feature dimension =  3\n",
      "[QClass]  Quantum backend =  AerSimulator('aer_simulator_statevector')\n",
      "[QClass]  seed =  9060\n",
      "[QClass]  SVM initiating algorithm\n",
      "[QClass]  Training...\n"
     ]
    },
    {
     "name": "stderr",
     "output_type": "stream",
     "text": [
      "WARNING:root:FidelityQuantumKernel skipped because of time.\n",
      "                    Using FidelityStatevectorKernel with AerStatevector.\n",
      "                    Seed cannot be set with FidelityStatevectorKernel.\n",
      "                    Increase the number of shots to diminish the noise.\n"
     ]
    },
    {
     "name": "stdout",
     "output_type": "stream",
     "text": [
      "[QClass]  Prediction finished.\n",
      "[QClass]  Initializing Quantum Classifier\n",
      "[QClass]  Quantum simulation will be performed\n",
      "GPU optimization disabled. No device found.\n",
      "[QClass]  Fitting:  (106, 3)\n",
      "[QClass]  Feature dimension =  3\n",
      "[QClass]  Quantum backend =  AerSimulator('aer_simulator_statevector')\n",
      "[QClass]  seed =  9060\n",
      "[QClass]  SVM initiating algorithm\n",
      "[QClass]  Training...\n"
     ]
    },
    {
     "name": "stderr",
     "output_type": "stream",
     "text": [
      "WARNING:root:FidelityQuantumKernel skipped because of time.\n",
      "                    Using FidelityStatevectorKernel with AerStatevector.\n",
      "                    Seed cannot be set with FidelityStatevectorKernel.\n",
      "                    Increase the number of shots to diminish the noise.\n"
     ]
    },
    {
     "name": "stdout",
     "output_type": "stream",
     "text": [
      "[QClass]  Prediction finished.\n",
      "[QClass]  Initializing Quantum Classifier\n",
      "[QClass]  Quantum simulation will be performed\n",
      "GPU optimization disabled. No device found.\n",
      "[QClass]  Fitting:  (105, 3)\n",
      "[QClass]  Feature dimension =  3\n",
      "[QClass]  Quantum backend =  AerSimulator('aer_simulator_statevector')\n",
      "[QClass]  seed =  9060\n",
      "[QClass]  SVM initiating algorithm\n",
      "[QClass]  Training...\n"
     ]
    },
    {
     "name": "stderr",
     "output_type": "stream",
     "text": [
      "WARNING:root:FidelityQuantumKernel skipped because of time.\n",
      "                    Using FidelityStatevectorKernel with AerStatevector.\n",
      "                    Seed cannot be set with FidelityStatevectorKernel.\n",
      "                    Increase the number of shots to diminish the noise.\n"
     ]
    },
    {
     "name": "stdout",
     "output_type": "stream",
     "text": [
      "[QClass]  Prediction finished.\n",
      "[QClass]  Initializing Quantum Classifier\n",
      "[QClass]  Quantum simulation will be performed\n",
      "GPU optimization disabled. No device found.\n",
      "[QClass]  Fitting:  (105, 3)\n",
      "[QClass]  Feature dimension =  3\n",
      "[QClass]  Quantum backend =  AerSimulator('aer_simulator_statevector')\n",
      "[QClass]  seed =  9060\n",
      "[QClass]  SVM initiating algorithm\n",
      "[QClass]  Training...\n"
     ]
    },
    {
     "name": "stderr",
     "output_type": "stream",
     "text": [
      "WARNING:root:FidelityQuantumKernel skipped because of time.\n",
      "                    Using FidelityStatevectorKernel with AerStatevector.\n",
      "                    Seed cannot be set with FidelityStatevectorKernel.\n",
      "                    Increase the number of shots to diminish the noise.\n"
     ]
    },
    {
     "name": "stdout",
     "output_type": "stream",
     "text": [
      "[QClass]  Prediction finished.\n",
      "[QClass]  Initializing Quantum Classifier\n",
      "[QClass]  Quantum simulation will be performed\n",
      "GPU optimization disabled. No device found.\n",
      "[QClass]  Fitting:  (106, 3)\n",
      "[QClass]  Feature dimension =  3\n",
      "[QClass]  Quantum backend =  AerSimulator('aer_simulator_statevector')\n",
      "[QClass]  seed =  9060\n",
      "[QClass]  SVM initiating algorithm\n",
      "[QClass]  Training...\n"
     ]
    },
    {
     "name": "stderr",
     "output_type": "stream",
     "text": [
      "WARNING:root:FidelityQuantumKernel skipped because of time.\n",
      "                    Using FidelityStatevectorKernel with AerStatevector.\n",
      "                    Seed cannot be set with FidelityStatevectorKernel.\n",
      "                    Increase the number of shots to diminish the noise.\n"
     ]
    },
    {
     "name": "stdout",
     "output_type": "stream",
     "text": [
      "[QClass]  Prediction finished.\n",
      "[QClass]  Initializing Quantum Classifier\n",
      "[QClass]  Quantum simulation will be performed\n",
      "GPU optimization disabled. No device found.\n",
      "[QClass]  Fitting:  (105, 3)\n",
      "[QClass]  Feature dimension =  3\n",
      "[QClass]  Quantum backend =  AerSimulator('aer_simulator_statevector')\n",
      "[QClass]  seed =  9060\n",
      "[QClass]  SVM initiating algorithm\n",
      "[QClass]  Training...\n"
     ]
    },
    {
     "name": "stderr",
     "output_type": "stream",
     "text": [
      "WARNING:root:FidelityQuantumKernel skipped because of time.\n",
      "                    Using FidelityStatevectorKernel with AerStatevector.\n",
      "                    Seed cannot be set with FidelityStatevectorKernel.\n",
      "                    Increase the number of shots to diminish the noise.\n"
     ]
    },
    {
     "name": "stdout",
     "output_type": "stream",
     "text": [
      "[QClass]  Prediction finished.\n",
      "[QClass]  Initializing Quantum Classifier\n",
      "[QClass]  Quantum simulation will be performed\n",
      "GPU optimization disabled. No device found.\n",
      "[QClass]  Fitting:  (105, 3)\n",
      "[QClass]  Feature dimension =  3\n",
      "[QClass]  Quantum backend =  AerSimulator('aer_simulator_statevector')\n",
      "[QClass]  seed =  9060\n",
      "[QClass]  SVM initiating algorithm\n",
      "[QClass]  Training...\n"
     ]
    },
    {
     "name": "stderr",
     "output_type": "stream",
     "text": [
      "WARNING:root:FidelityQuantumKernel skipped because of time.\n",
      "                    Using FidelityStatevectorKernel with AerStatevector.\n",
      "                    Seed cannot be set with FidelityStatevectorKernel.\n",
      "                    Increase the number of shots to diminish the noise.\n"
     ]
    },
    {
     "name": "stdout",
     "output_type": "stream",
     "text": [
      "[QClass]  Prediction finished.\n",
      "[QClass]  Initializing Quantum Classifier\n",
      "[QClass]  Quantum simulation will be performed\n",
      "GPU optimization disabled. No device found.\n",
      "[QClass]  Fitting:  (106, 3)\n",
      "[QClass]  Feature dimension =  3\n",
      "[QClass]  Quantum backend =  AerSimulator('aer_simulator_statevector')\n",
      "[QClass]  seed =  9060\n",
      "[QClass]  SVM initiating algorithm\n",
      "[QClass]  Training...\n"
     ]
    },
    {
     "name": "stderr",
     "output_type": "stream",
     "text": [
      "WARNING:root:FidelityQuantumKernel skipped because of time.\n",
      "                    Using FidelityStatevectorKernel with AerStatevector.\n",
      "                    Seed cannot be set with FidelityStatevectorKernel.\n",
      "                    Increase the number of shots to diminish the noise.\n"
     ]
    },
    {
     "name": "stdout",
     "output_type": "stream",
     "text": [
      "[QClass]  Prediction finished.\n",
      "[QClass]  Initializing Quantum Classifier\n",
      "[QClass]  Quantum simulation will be performed\n",
      "GPU optimization disabled. No device found.\n",
      "[QClass]  Fitting:  (105, 3)\n",
      "[QClass]  Feature dimension =  3\n",
      "[QClass]  Quantum backend =  AerSimulator('aer_simulator_statevector')\n",
      "[QClass]  seed =  9060\n",
      "[QClass]  SVM initiating algorithm\n",
      "[QClass]  Training...\n"
     ]
    },
    {
     "name": "stderr",
     "output_type": "stream",
     "text": [
      "WARNING:root:FidelityQuantumKernel skipped because of time.\n",
      "                    Using FidelityStatevectorKernel with AerStatevector.\n",
      "                    Seed cannot be set with FidelityStatevectorKernel.\n",
      "                    Increase the number of shots to diminish the noise.\n"
     ]
    },
    {
     "name": "stdout",
     "output_type": "stream",
     "text": [
      "[QClass]  Prediction finished.\n",
      "[QClass]  Initializing Quantum Classifier\n",
      "[QClass]  Quantum simulation will be performed\n",
      "GPU optimization disabled. No device found.\n",
      "[QClass]  Fitting:  (105, 3)\n",
      "[QClass]  Feature dimension =  3\n",
      "[QClass]  Quantum backend =  AerSimulator('aer_simulator_statevector')\n",
      "[QClass]  seed =  9060\n",
      "[QClass]  SVM initiating algorithm\n",
      "[QClass]  Training...\n"
     ]
    },
    {
     "name": "stderr",
     "output_type": "stream",
     "text": [
      "WARNING:root:FidelityQuantumKernel skipped because of time.\n",
      "                    Using FidelityStatevectorKernel with AerStatevector.\n",
      "                    Seed cannot be set with FidelityStatevectorKernel.\n",
      "                    Increase the number of shots to diminish the noise.\n"
     ]
    },
    {
     "name": "stdout",
     "output_type": "stream",
     "text": [
      "[QClass]  Prediction finished.\n",
      "[QClass]  Initializing Quantum Classifier\n",
      "[QClass]  Quantum simulation will be performed\n",
      "GPU optimization disabled. No device found.\n",
      "[QClass]  Fitting:  (106, 3)\n",
      "[QClass]  Feature dimension =  3\n",
      "[QClass]  Quantum backend =  AerSimulator('aer_simulator_statevector')\n",
      "[QClass]  seed =  9060\n",
      "[QClass]  SVM initiating algorithm\n",
      "[QClass]  Training...\n"
     ]
    },
    {
     "name": "stderr",
     "output_type": "stream",
     "text": [
      "WARNING:root:FidelityQuantumKernel skipped because of time.\n",
      "                    Using FidelityStatevectorKernel with AerStatevector.\n",
      "                    Seed cannot be set with FidelityStatevectorKernel.\n",
      "                    Increase the number of shots to diminish the noise.\n"
     ]
    },
    {
     "name": "stdout",
     "output_type": "stream",
     "text": [
      "[QClass]  Prediction finished.\n",
      "[QClass]  Initializing Quantum Classifier\n",
      "[QClass]  Quantum simulation will be performed\n",
      "GPU optimization disabled. No device found.\n",
      "[QClass]  Fitting:  (105, 3)\n",
      "[QClass]  Feature dimension =  3\n",
      "[QClass]  Quantum backend =  AerSimulator('aer_simulator_statevector')\n",
      "[QClass]  seed =  9060\n",
      "[QClass]  SVM initiating algorithm\n",
      "[QClass]  Training...\n"
     ]
    },
    {
     "name": "stderr",
     "output_type": "stream",
     "text": [
      "WARNING:root:FidelityQuantumKernel skipped because of time.\n",
      "                    Using FidelityStatevectorKernel with AerStatevector.\n",
      "                    Seed cannot be set with FidelityStatevectorKernel.\n",
      "                    Increase the number of shots to diminish the noise.\n"
     ]
    },
    {
     "name": "stdout",
     "output_type": "stream",
     "text": [
      "[QClass]  Prediction finished.\n",
      "[QClass]  Initializing Quantum Classifier\n",
      "[QClass]  Quantum simulation will be performed\n",
      "GPU optimization disabled. No device found.\n",
      "[QClass]  Fitting:  (105, 3)\n",
      "[QClass]  Feature dimension =  3\n",
      "[QClass]  Quantum backend =  AerSimulator('aer_simulator_statevector')\n",
      "[QClass]  seed =  9060\n",
      "[QClass]  SVM initiating algorithm\n",
      "[QClass]  Training...\n"
     ]
    },
    {
     "name": "stderr",
     "output_type": "stream",
     "text": [
      "WARNING:root:FidelityQuantumKernel skipped because of time.\n",
      "                    Using FidelityStatevectorKernel with AerStatevector.\n",
      "                    Seed cannot be set with FidelityStatevectorKernel.\n",
      "                    Increase the number of shots to diminish the noise.\n"
     ]
    },
    {
     "name": "stdout",
     "output_type": "stream",
     "text": [
      "[QClass]  Prediction finished.\n",
      "[QClass]  Initializing Quantum Classifier\n",
      "[QClass]  Quantum simulation will be performed\n",
      "GPU optimization disabled. No device found.\n",
      "[QClass]  Fitting:  (106, 3)\n",
      "[QClass]  Feature dimension =  3\n",
      "[QClass]  Quantum backend =  AerSimulator('aer_simulator_statevector')\n",
      "[QClass]  seed =  9060\n",
      "[QClass]  SVM initiating algorithm\n",
      "[QClass]  Training...\n"
     ]
    },
    {
     "name": "stderr",
     "output_type": "stream",
     "text": [
      "WARNING:root:FidelityQuantumKernel skipped because of time.\n",
      "                    Using FidelityStatevectorKernel with AerStatevector.\n",
      "                    Seed cannot be set with FidelityStatevectorKernel.\n",
      "                    Increase the number of shots to diminish the noise.\n"
     ]
    },
    {
     "name": "stdout",
     "output_type": "stream",
     "text": [
      "[QClass]  Prediction finished.\n",
      "[QClass]  Initializing Quantum Classifier\n",
      "[QClass]  Quantum simulation will be performed\n",
      "GPU optimization disabled. No device found.\n",
      "[QClass]  Fitting:  (105, 3)\n",
      "[QClass]  Feature dimension =  3\n",
      "[QClass]  Quantum backend =  AerSimulator('aer_simulator_statevector')\n",
      "[QClass]  seed =  9060\n",
      "[QClass]  SVM initiating algorithm\n",
      "[QClass]  Training...\n"
     ]
    },
    {
     "name": "stderr",
     "output_type": "stream",
     "text": [
      "WARNING:root:FidelityQuantumKernel skipped because of time.\n",
      "                    Using FidelityStatevectorKernel with AerStatevector.\n",
      "                    Seed cannot be set with FidelityStatevectorKernel.\n",
      "                    Increase the number of shots to diminish the noise.\n"
     ]
    },
    {
     "name": "stdout",
     "output_type": "stream",
     "text": [
      "[QClass]  Prediction finished.\n",
      "[QClass]  Initializing Quantum Classifier\n",
      "[QClass]  Quantum simulation will be performed\n",
      "GPU optimization disabled. No device found.\n",
      "[QClass]  Fitting:  (105, 3)\n",
      "[QClass]  Feature dimension =  3\n",
      "[QClass]  Quantum backend =  AerSimulator('aer_simulator_statevector')\n",
      "[QClass]  seed =  9060\n",
      "[QClass]  SVM initiating algorithm\n",
      "[QClass]  Training...\n"
     ]
    },
    {
     "name": "stderr",
     "output_type": "stream",
     "text": [
      "WARNING:root:FidelityQuantumKernel skipped because of time.\n",
      "                    Using FidelityStatevectorKernel with AerStatevector.\n",
      "                    Seed cannot be set with FidelityStatevectorKernel.\n",
      "                    Increase the number of shots to diminish the noise.\n"
     ]
    },
    {
     "name": "stdout",
     "output_type": "stream",
     "text": [
      "[QClass]  Prediction finished.\n",
      "[QClass]  Initializing Quantum Classifier\n",
      "[QClass]  Quantum simulation will be performed\n",
      "GPU optimization disabled. No device found.\n",
      "[QClass]  Fitting:  (106, 3)\n",
      "[QClass]  Feature dimension =  3\n",
      "[QClass]  Quantum backend =  AerSimulator('aer_simulator_statevector')\n",
      "[QClass]  seed =  9060\n",
      "[QClass]  SVM initiating algorithm\n",
      "[QClass]  Training...\n"
     ]
    },
    {
     "name": "stderr",
     "output_type": "stream",
     "text": [
      "WARNING:root:FidelityQuantumKernel skipped because of time.\n",
      "                    Using FidelityStatevectorKernel with AerStatevector.\n",
      "                    Seed cannot be set with FidelityStatevectorKernel.\n",
      "                    Increase the number of shots to diminish the noise.\n"
     ]
    },
    {
     "name": "stdout",
     "output_type": "stream",
     "text": [
      "[QClass]  Prediction finished.\n",
      "[QClass]  Initializing Quantum Classifier\n",
      "[QClass]  Quantum simulation will be performed\n",
      "GPU optimization disabled. No device found.\n",
      "[QClass]  Fitting:  (105, 3)\n",
      "[QClass]  Feature dimension =  3\n",
      "[QClass]  Quantum backend =  AerSimulator('aer_simulator_statevector')\n",
      "[QClass]  seed =  9060\n",
      "[QClass]  SVM initiating algorithm\n",
      "[QClass]  Training...\n"
     ]
    },
    {
     "name": "stderr",
     "output_type": "stream",
     "text": [
      "WARNING:root:FidelityQuantumKernel skipped because of time.\n",
      "                    Using FidelityStatevectorKernel with AerStatevector.\n",
      "                    Seed cannot be set with FidelityStatevectorKernel.\n",
      "                    Increase the number of shots to diminish the noise.\n"
     ]
    },
    {
     "name": "stdout",
     "output_type": "stream",
     "text": [
      "[QClass]  Prediction finished.\n",
      "[QClass]  Initializing Quantum Classifier\n",
      "[QClass]  Quantum simulation will be performed\n",
      "GPU optimization disabled. No device found.\n",
      "[QClass]  Fitting:  (105, 3)\n",
      "[QClass]  Feature dimension =  3\n",
      "[QClass]  Quantum backend =  AerSimulator('aer_simulator_statevector')\n",
      "[QClass]  seed =  9060\n",
      "[QClass]  SVM initiating algorithm\n",
      "[QClass]  Training...\n"
     ]
    },
    {
     "name": "stderr",
     "output_type": "stream",
     "text": [
      "WARNING:root:FidelityQuantumKernel skipped because of time.\n",
      "                    Using FidelityStatevectorKernel with AerStatevector.\n",
      "                    Seed cannot be set with FidelityStatevectorKernel.\n",
      "                    Increase the number of shots to diminish the noise.\n"
     ]
    },
    {
     "name": "stdout",
     "output_type": "stream",
     "text": [
      "[QClass]  Prediction finished.\n",
      "[QClass]  Initializing Quantum Classifier\n",
      "[QClass]  Quantum simulation will be performed\n",
      "GPU optimization disabled. No device found.\n",
      "[QClass]  Fitting:  (106, 3)\n",
      "[QClass]  Feature dimension =  3\n",
      "[QClass]  Quantum backend =  AerSimulator('aer_simulator_statevector')\n",
      "[QClass]  seed =  9060\n",
      "[QClass]  SVM initiating algorithm\n",
      "[QClass]  Training...\n"
     ]
    },
    {
     "name": "stderr",
     "output_type": "stream",
     "text": [
      "WARNING:root:FidelityQuantumKernel skipped because of time.\n",
      "                    Using FidelityStatevectorKernel with AerStatevector.\n",
      "                    Seed cannot be set with FidelityStatevectorKernel.\n",
      "                    Increase the number of shots to diminish the noise.\n"
     ]
    },
    {
     "name": "stdout",
     "output_type": "stream",
     "text": [
      "[QClass]  Prediction finished.\n",
      "[QClass]  Initializing Quantum Classifier\n",
      "[QClass]  Quantum simulation will be performed\n",
      "GPU optimization disabled. No device found.\n",
      "[QClass]  Fitting:  (105, 3)\n",
      "[QClass]  Feature dimension =  3\n",
      "[QClass]  Quantum backend =  AerSimulator('aer_simulator_statevector')\n",
      "[QClass]  seed =  9060\n",
      "[QClass]  SVM initiating algorithm\n",
      "[QClass]  Training...\n"
     ]
    },
    {
     "name": "stderr",
     "output_type": "stream",
     "text": [
      "WARNING:root:FidelityQuantumKernel skipped because of time.\n",
      "                    Using FidelityStatevectorKernel with AerStatevector.\n",
      "                    Seed cannot be set with FidelityStatevectorKernel.\n",
      "                    Increase the number of shots to diminish the noise.\n"
     ]
    },
    {
     "name": "stdout",
     "output_type": "stream",
     "text": [
      "[QClass]  Prediction finished.\n",
      "[QClass]  Initializing Quantum Classifier\n",
      "[QClass]  Quantum simulation will be performed\n",
      "GPU optimization disabled. No device found.\n",
      "[QClass]  Fitting:  (105, 3)\n",
      "[QClass]  Feature dimension =  3\n",
      "[QClass]  Quantum backend =  AerSimulator('aer_simulator_statevector')\n",
      "[QClass]  seed =  9060\n",
      "[QClass]  SVM initiating algorithm\n",
      "[QClass]  Training...\n"
     ]
    },
    {
     "name": "stderr",
     "output_type": "stream",
     "text": [
      "WARNING:root:FidelityQuantumKernel skipped because of time.\n",
      "                    Using FidelityStatevectorKernel with AerStatevector.\n",
      "                    Seed cannot be set with FidelityStatevectorKernel.\n",
      "                    Increase the number of shots to diminish the noise.\n"
     ]
    },
    {
     "name": "stdout",
     "output_type": "stream",
     "text": [
      "[QClass]  Prediction finished.\n",
      "[QClass]  Initializing Quantum Classifier\n",
      "[QClass]  Quantum simulation will be performed\n",
      "GPU optimization disabled. No device found.\n",
      "[QClass]  Fitting:  (106, 3)\n",
      "[QClass]  Feature dimension =  3\n",
      "[QClass]  Quantum backend =  AerSimulator('aer_simulator_statevector')\n",
      "[QClass]  seed =  9060\n",
      "[QClass]  SVM initiating algorithm\n",
      "[QClass]  Training...\n"
     ]
    },
    {
     "name": "stderr",
     "output_type": "stream",
     "text": [
      "WARNING:root:FidelityQuantumKernel skipped because of time.\n",
      "                    Using FidelityStatevectorKernel with AerStatevector.\n",
      "                    Seed cannot be set with FidelityStatevectorKernel.\n",
      "                    Increase the number of shots to diminish the noise.\n"
     ]
    },
    {
     "name": "stdout",
     "output_type": "stream",
     "text": [
      "[QClass]  Prediction finished.\n",
      "[QClass]  Initializing Quantum Classifier\n",
      "[QClass]  Quantum simulation will be performed\n",
      "GPU optimization disabled. No device found.\n",
      "[QClass]  Fitting:  (105, 3)\n",
      "[QClass]  Feature dimension =  3\n",
      "[QClass]  Quantum backend =  AerSimulator('aer_simulator_statevector')\n",
      "[QClass]  seed =  9060\n",
      "[QClass]  SVM initiating algorithm\n",
      "[QClass]  Training...\n"
     ]
    },
    {
     "name": "stderr",
     "output_type": "stream",
     "text": [
      "WARNING:root:FidelityQuantumKernel skipped because of time.\n",
      "                    Using FidelityStatevectorKernel with AerStatevector.\n",
      "                    Seed cannot be set with FidelityStatevectorKernel.\n",
      "                    Increase the number of shots to diminish the noise.\n"
     ]
    },
    {
     "name": "stdout",
     "output_type": "stream",
     "text": [
      "[QClass]  Prediction finished.\n",
      "[QClass]  Initializing Quantum Classifier\n",
      "[QClass]  Quantum simulation will be performed\n",
      "GPU optimization disabled. No device found.\n",
      "[QClass]  Fitting:  (105, 3)\n",
      "[QClass]  Feature dimension =  3\n",
      "[QClass]  Quantum backend =  AerSimulator('aer_simulator_statevector')\n",
      "[QClass]  seed =  9060\n",
      "[QClass]  SVM initiating algorithm\n",
      "[QClass]  Training...\n"
     ]
    },
    {
     "name": "stderr",
     "output_type": "stream",
     "text": [
      "WARNING:root:FidelityQuantumKernel skipped because of time.\n",
      "                    Using FidelityStatevectorKernel with AerStatevector.\n",
      "                    Seed cannot be set with FidelityStatevectorKernel.\n",
      "                    Increase the number of shots to diminish the noise.\n"
     ]
    },
    {
     "name": "stdout",
     "output_type": "stream",
     "text": [
      "[QClass]  Prediction finished.\n",
      "[QClass]  Initializing Quantum Classifier\n",
      "[QClass]  Quantum simulation will be performed\n",
      "GPU optimization disabled. No device found.\n",
      "[QClass]  Fitting:  (106, 3)\n",
      "[QClass]  Feature dimension =  3\n",
      "[QClass]  Quantum backend =  AerSimulator('aer_simulator_statevector')\n",
      "[QClass]  seed =  9060\n",
      "[QClass]  SVM initiating algorithm\n",
      "[QClass]  Training...\n"
     ]
    },
    {
     "name": "stderr",
     "output_type": "stream",
     "text": [
      "WARNING:root:FidelityQuantumKernel skipped because of time.\n",
      "                    Using FidelityStatevectorKernel with AerStatevector.\n",
      "                    Seed cannot be set with FidelityStatevectorKernel.\n",
      "                    Increase the number of shots to diminish the noise.\n"
     ]
    },
    {
     "name": "stdout",
     "output_type": "stream",
     "text": [
      "[QClass]  Prediction finished.\n",
      "[QClass]  Initializing Quantum Classifier\n",
      "[QClass]  Quantum simulation will be performed\n",
      "GPU optimization disabled. No device found.\n",
      "[QClass]  Fitting:  (105, 3)\n",
      "[QClass]  Feature dimension =  3\n",
      "[QClass]  Quantum backend =  AerSimulator('aer_simulator_statevector')\n",
      "[QClass]  seed =  9060\n",
      "[QClass]  SVM initiating algorithm\n",
      "[QClass]  Training...\n"
     ]
    },
    {
     "name": "stderr",
     "output_type": "stream",
     "text": [
      "WARNING:root:FidelityQuantumKernel skipped because of time.\n",
      "                    Using FidelityStatevectorKernel with AerStatevector.\n",
      "                    Seed cannot be set with FidelityStatevectorKernel.\n",
      "                    Increase the number of shots to diminish the noise.\n"
     ]
    },
    {
     "name": "stdout",
     "output_type": "stream",
     "text": [
      "[QClass]  Prediction finished.\n",
      "[QClass]  Initializing Quantum Classifier\n",
      "[QClass]  Quantum simulation will be performed\n",
      "GPU optimization disabled. No device found.\n",
      "[QClass]  Fitting:  (105, 3)\n",
      "[QClass]  Feature dimension =  3\n",
      "[QClass]  Quantum backend =  AerSimulator('aer_simulator_statevector')\n",
      "[QClass]  seed =  9060\n",
      "[QClass]  SVM initiating algorithm\n",
      "[QClass]  Training...\n"
     ]
    },
    {
     "name": "stderr",
     "output_type": "stream",
     "text": [
      "WARNING:root:FidelityQuantumKernel skipped because of time.\n",
      "                    Using FidelityStatevectorKernel with AerStatevector.\n",
      "                    Seed cannot be set with FidelityStatevectorKernel.\n",
      "                    Increase the number of shots to diminish the noise.\n"
     ]
    },
    {
     "name": "stdout",
     "output_type": "stream",
     "text": [
      "[QClass]  Prediction finished.\n",
      "[QClass]  Initializing Quantum Classifier\n",
      "[QClass]  Quantum simulation will be performed\n",
      "GPU optimization disabled. No device found.\n",
      "[QClass]  Fitting:  (106, 3)\n",
      "[QClass]  Feature dimension =  3\n",
      "[QClass]  Quantum backend =  AerSimulator('aer_simulator_statevector')\n",
      "[QClass]  seed =  9060\n",
      "[QClass]  SVM initiating algorithm\n",
      "[QClass]  Training...\n"
     ]
    },
    {
     "name": "stderr",
     "output_type": "stream",
     "text": [
      "WARNING:root:FidelityQuantumKernel skipped because of time.\n",
      "                    Using FidelityStatevectorKernel with AerStatevector.\n",
      "                    Seed cannot be set with FidelityStatevectorKernel.\n",
      "                    Increase the number of shots to diminish the noise.\n"
     ]
    },
    {
     "name": "stdout",
     "output_type": "stream",
     "text": [
      "[QClass]  Prediction finished.\n",
      "[QClass]  Initializing Quantum Classifier\n",
      "[QClass]  Quantum simulation will be performed\n",
      "GPU optimization disabled. No device found.\n",
      "[QClass]  Fitting:  (105, 3)\n",
      "[QClass]  Feature dimension =  3\n",
      "[QClass]  Quantum backend =  AerSimulator('aer_simulator_statevector')\n",
      "[QClass]  seed =  9060\n",
      "[QClass]  SVM initiating algorithm\n",
      "[QClass]  Training...\n"
     ]
    },
    {
     "name": "stderr",
     "output_type": "stream",
     "text": [
      "WARNING:root:FidelityQuantumKernel skipped because of time.\n",
      "                    Using FidelityStatevectorKernel with AerStatevector.\n",
      "                    Seed cannot be set with FidelityStatevectorKernel.\n",
      "                    Increase the number of shots to diminish the noise.\n"
     ]
    },
    {
     "name": "stdout",
     "output_type": "stream",
     "text": [
      "[QClass]  Prediction finished.\n",
      "[QClass]  Initializing Quantum Classifier\n",
      "[QClass]  Quantum simulation will be performed\n",
      "GPU optimization disabled. No device found.\n",
      "[QClass]  Fitting:  (105, 3)\n",
      "[QClass]  Feature dimension =  3\n",
      "[QClass]  Quantum backend =  AerSimulator('aer_simulator_statevector')\n",
      "[QClass]  seed =  9060\n",
      "[QClass]  SVM initiating algorithm\n",
      "[QClass]  Training...\n"
     ]
    },
    {
     "name": "stderr",
     "output_type": "stream",
     "text": [
      "WARNING:root:FidelityQuantumKernel skipped because of time.\n",
      "                    Using FidelityStatevectorKernel with AerStatevector.\n",
      "                    Seed cannot be set with FidelityStatevectorKernel.\n",
      "                    Increase the number of shots to diminish the noise.\n"
     ]
    },
    {
     "name": "stdout",
     "output_type": "stream",
     "text": [
      "[QClass]  Prediction finished.\n",
      "[QClass]  Initializing Quantum Classifier\n",
      "[QClass]  Quantum simulation will be performed\n",
      "GPU optimization disabled. No device found.\n",
      "[QClass]  Fitting:  (106, 3)\n",
      "[QClass]  Feature dimension =  3\n",
      "[QClass]  Quantum backend =  AerSimulator('aer_simulator_statevector')\n",
      "[QClass]  seed =  9060\n",
      "[QClass]  SVM initiating algorithm\n",
      "[QClass]  Training...\n"
     ]
    },
    {
     "name": "stderr",
     "output_type": "stream",
     "text": [
      "WARNING:root:FidelityQuantumKernel skipped because of time.\n",
      "                    Using FidelityStatevectorKernel with AerStatevector.\n",
      "                    Seed cannot be set with FidelityStatevectorKernel.\n",
      "                    Increase the number of shots to diminish the noise.\n"
     ]
    },
    {
     "name": "stdout",
     "output_type": "stream",
     "text": [
      "[QClass]  Prediction finished.\n",
      "[QClass]  Initializing Quantum Classifier\n",
      "[QClass]  Quantum simulation will be performed\n",
      "GPU optimization disabled. No device found.\n",
      "[QClass]  Fitting:  (105, 3)\n",
      "[QClass]  Feature dimension =  3\n",
      "[QClass]  Quantum backend =  AerSimulator('aer_simulator_statevector')\n",
      "[QClass]  seed =  9060\n",
      "[QClass]  SVM initiating algorithm\n",
      "[QClass]  Training...\n"
     ]
    },
    {
     "name": "stderr",
     "output_type": "stream",
     "text": [
      "WARNING:root:FidelityQuantumKernel skipped because of time.\n",
      "                    Using FidelityStatevectorKernel with AerStatevector.\n",
      "                    Seed cannot be set with FidelityStatevectorKernel.\n",
      "                    Increase the number of shots to diminish the noise.\n"
     ]
    },
    {
     "name": "stdout",
     "output_type": "stream",
     "text": [
      "[QClass]  Prediction finished.\n",
      "[QClass]  Initializing Quantum Classifier\n",
      "[QClass]  Quantum simulation will be performed\n",
      "GPU optimization disabled. No device found.\n",
      "[QClass]  Fitting:  (105, 3)\n",
      "[QClass]  Feature dimension =  3\n",
      "[QClass]  Quantum backend =  AerSimulator('aer_simulator_statevector')\n",
      "[QClass]  seed =  9060\n",
      "[QClass]  SVM initiating algorithm\n",
      "[QClass]  Training...\n"
     ]
    },
    {
     "name": "stderr",
     "output_type": "stream",
     "text": [
      "WARNING:root:FidelityQuantumKernel skipped because of time.\n",
      "                    Using FidelityStatevectorKernel with AerStatevector.\n",
      "                    Seed cannot be set with FidelityStatevectorKernel.\n",
      "                    Increase the number of shots to diminish the noise.\n"
     ]
    },
    {
     "name": "stdout",
     "output_type": "stream",
     "text": [
      "[QClass]  Prediction finished.\n",
      "[QClass]  Initializing Quantum Classifier\n",
      "[QClass]  Quantum simulation will be performed\n",
      "GPU optimization disabled. No device found.\n",
      "[QClass]  Fitting:  (106, 3)\n",
      "[QClass]  Feature dimension =  3\n",
      "[QClass]  Quantum backend =  AerSimulator('aer_simulator_statevector')\n",
      "[QClass]  seed =  9060\n",
      "[QClass]  SVM initiating algorithm\n",
      "[QClass]  Training...\n"
     ]
    },
    {
     "name": "stderr",
     "output_type": "stream",
     "text": [
      "WARNING:root:FidelityQuantumKernel skipped because of time.\n",
      "                    Using FidelityStatevectorKernel with AerStatevector.\n",
      "                    Seed cannot be set with FidelityStatevectorKernel.\n",
      "                    Increase the number of shots to diminish the noise.\n"
     ]
    },
    {
     "name": "stdout",
     "output_type": "stream",
     "text": [
      "[QClass]  Prediction finished.\n",
      "[QClass]  Initializing Quantum Classifier\n",
      "[QClass]  Quantum simulation will be performed\n",
      "GPU optimization disabled. No device found.\n",
      "[QClass]  Fitting:  (105, 3)\n",
      "[QClass]  Feature dimension =  3\n",
      "[QClass]  Quantum backend =  AerSimulator('aer_simulator_statevector')\n",
      "[QClass]  seed =  9060\n",
      "[QClass]  SVM initiating algorithm\n",
      "[QClass]  Training...\n"
     ]
    },
    {
     "name": "stderr",
     "output_type": "stream",
     "text": [
      "WARNING:root:FidelityQuantumKernel skipped because of time.\n",
      "                    Using FidelityStatevectorKernel with AerStatevector.\n",
      "                    Seed cannot be set with FidelityStatevectorKernel.\n",
      "                    Increase the number of shots to diminish the noise.\n"
     ]
    },
    {
     "name": "stdout",
     "output_type": "stream",
     "text": [
      "[QClass]  Prediction finished.\n",
      "[QClass]  Initializing Quantum Classifier\n",
      "[QClass]  Quantum simulation will be performed\n",
      "GPU optimization disabled. No device found.\n",
      "[QClass]  Fitting:  (105, 3)\n",
      "[QClass]  Feature dimension =  3\n",
      "[QClass]  Quantum backend =  AerSimulator('aer_simulator_statevector')\n",
      "[QClass]  seed =  9060\n",
      "[QClass]  SVM initiating algorithm\n",
      "[QClass]  Training...\n"
     ]
    },
    {
     "name": "stderr",
     "output_type": "stream",
     "text": [
      "WARNING:root:FidelityQuantumKernel skipped because of time.\n",
      "                    Using FidelityStatevectorKernel with AerStatevector.\n",
      "                    Seed cannot be set with FidelityStatevectorKernel.\n",
      "                    Increase the number of shots to diminish the noise.\n"
     ]
    },
    {
     "name": "stdout",
     "output_type": "stream",
     "text": [
      "[QClass]  Prediction finished.\n",
      "[QClass]  Initializing Quantum Classifier\n",
      "[QClass]  Quantum simulation will be performed\n",
      "GPU optimization disabled. No device found.\n",
      "[QClass]  Fitting:  (106, 3)\n",
      "[QClass]  Feature dimension =  3\n",
      "[QClass]  Quantum backend =  AerSimulator('aer_simulator_statevector')\n",
      "[QClass]  seed =  9060\n",
      "[QClass]  SVM initiating algorithm\n",
      "[QClass]  Training...\n"
     ]
    },
    {
     "name": "stderr",
     "output_type": "stream",
     "text": [
      "WARNING:root:FidelityQuantumKernel skipped because of time.\n",
      "                    Using FidelityStatevectorKernel with AerStatevector.\n",
      "                    Seed cannot be set with FidelityStatevectorKernel.\n",
      "                    Increase the number of shots to diminish the noise.\n"
     ]
    },
    {
     "name": "stdout",
     "output_type": "stream",
     "text": [
      "[QClass]  Prediction finished.\n",
      "[QClass]  Initializing Quantum Classifier\n",
      "[QClass]  Quantum simulation will be performed\n",
      "GPU optimization disabled. No device found.\n",
      "[QClass]  Fitting:  (105, 3)\n",
      "[QClass]  Feature dimension =  3\n",
      "[QClass]  Quantum backend =  AerSimulator('aer_simulator_statevector')\n",
      "[QClass]  seed =  9060\n",
      "[QClass]  SVM initiating algorithm\n",
      "[QClass]  Training...\n"
     ]
    },
    {
     "name": "stderr",
     "output_type": "stream",
     "text": [
      "WARNING:root:FidelityQuantumKernel skipped because of time.\n",
      "                    Using FidelityStatevectorKernel with AerStatevector.\n",
      "                    Seed cannot be set with FidelityStatevectorKernel.\n",
      "                    Increase the number of shots to diminish the noise.\n"
     ]
    },
    {
     "name": "stdout",
     "output_type": "stream",
     "text": [
      "[QClass]  Prediction finished.\n",
      "[QClass]  Initializing Quantum Classifier\n",
      "[QClass]  Quantum simulation will be performed\n",
      "GPU optimization disabled. No device found.\n",
      "[QClass]  Fitting:  (105, 3)\n",
      "[QClass]  Feature dimension =  3\n",
      "[QClass]  Quantum backend =  AerSimulator('aer_simulator_statevector')\n",
      "[QClass]  seed =  9060\n",
      "[QClass]  SVM initiating algorithm\n",
      "[QClass]  Training...\n"
     ]
    },
    {
     "name": "stderr",
     "output_type": "stream",
     "text": [
      "WARNING:root:FidelityQuantumKernel skipped because of time.\n",
      "                    Using FidelityStatevectorKernel with AerStatevector.\n",
      "                    Seed cannot be set with FidelityStatevectorKernel.\n",
      "                    Increase the number of shots to diminish the noise.\n"
     ]
    },
    {
     "name": "stdout",
     "output_type": "stream",
     "text": [
      "[QClass]  Prediction finished.\n",
      "[QClass]  Initializing Quantum Classifier\n",
      "[QClass]  Quantum simulation will be performed\n",
      "GPU optimization disabled. No device found.\n",
      "[QClass]  Fitting:  (106, 3)\n",
      "[QClass]  Feature dimension =  3\n",
      "[QClass]  Quantum backend =  AerSimulator('aer_simulator_statevector')\n",
      "[QClass]  seed =  9060\n",
      "[QClass]  SVM initiating algorithm\n",
      "[QClass]  Training...\n"
     ]
    },
    {
     "name": "stderr",
     "output_type": "stream",
     "text": [
      "WARNING:root:FidelityQuantumKernel skipped because of time.\n",
      "                    Using FidelityStatevectorKernel with AerStatevector.\n",
      "                    Seed cannot be set with FidelityStatevectorKernel.\n",
      "                    Increase the number of shots to diminish the noise.\n"
     ]
    },
    {
     "name": "stdout",
     "output_type": "stream",
     "text": [
      "[QClass]  Prediction finished.\n",
      "[QClass]  Initializing Quantum Classifier\n",
      "[QClass]  Quantum simulation will be performed\n",
      "GPU optimization disabled. No device found.\n",
      "[QClass]  Fitting:  (105, 3)\n",
      "[QClass]  Feature dimension =  3\n",
      "[QClass]  Quantum backend =  AerSimulator('aer_simulator_statevector')\n",
      "[QClass]  seed =  9060\n",
      "[QClass]  SVM initiating algorithm\n",
      "[QClass]  Training...\n"
     ]
    },
    {
     "name": "stderr",
     "output_type": "stream",
     "text": [
      "WARNING:root:FidelityQuantumKernel skipped because of time.\n",
      "                    Using FidelityStatevectorKernel with AerStatevector.\n",
      "                    Seed cannot be set with FidelityStatevectorKernel.\n",
      "                    Increase the number of shots to diminish the noise.\n"
     ]
    },
    {
     "name": "stdout",
     "output_type": "stream",
     "text": [
      "[QClass]  Prediction finished.\n",
      "[QClass]  Initializing Quantum Classifier\n",
      "[QClass]  Quantum simulation will be performed\n",
      "GPU optimization disabled. No device found.\n",
      "[QClass]  Fitting:  (105, 3)\n",
      "[QClass]  Feature dimension =  3\n",
      "[QClass]  Quantum backend =  AerSimulator('aer_simulator_statevector')\n",
      "[QClass]  seed =  9060\n",
      "[QClass]  SVM initiating algorithm\n",
      "[QClass]  Training...\n"
     ]
    },
    {
     "name": "stderr",
     "output_type": "stream",
     "text": [
      "WARNING:root:FidelityQuantumKernel skipped because of time.\n",
      "                    Using FidelityStatevectorKernel with AerStatevector.\n",
      "                    Seed cannot be set with FidelityStatevectorKernel.\n",
      "                    Increase the number of shots to diminish the noise.\n"
     ]
    },
    {
     "name": "stdout",
     "output_type": "stream",
     "text": [
      "[QClass]  Prediction finished.\n",
      "[QClass]  Initializing Quantum Classifier\n",
      "[QClass]  Quantum simulation will be performed\n",
      "GPU optimization disabled. No device found.\n",
      "[QClass]  Fitting:  (106, 3)\n",
      "[QClass]  Feature dimension =  3\n",
      "[QClass]  Quantum backend =  AerSimulator('aer_simulator_statevector')\n",
      "[QClass]  seed =  9060\n",
      "[QClass]  SVM initiating algorithm\n",
      "[QClass]  Training...\n"
     ]
    },
    {
     "name": "stderr",
     "output_type": "stream",
     "text": [
      "WARNING:root:FidelityQuantumKernel skipped because of time.\n",
      "                    Using FidelityStatevectorKernel with AerStatevector.\n",
      "                    Seed cannot be set with FidelityStatevectorKernel.\n",
      "                    Increase the number of shots to diminish the noise.\n"
     ]
    },
    {
     "name": "stdout",
     "output_type": "stream",
     "text": [
      "[QClass]  Prediction finished.\n",
      "[QClass]  Initializing Quantum Classifier\n",
      "[QClass]  Quantum simulation will be performed\n",
      "GPU optimization disabled. No device found.\n",
      "[QClass]  Fitting:  (105, 3)\n",
      "[QClass]  Feature dimension =  3\n",
      "[QClass]  Quantum backend =  AerSimulator('aer_simulator_statevector')\n",
      "[QClass]  seed =  9060\n",
      "[QClass]  SVM initiating algorithm\n",
      "[QClass]  Training...\n"
     ]
    },
    {
     "name": "stderr",
     "output_type": "stream",
     "text": [
      "WARNING:root:FidelityQuantumKernel skipped because of time.\n",
      "                    Using FidelityStatevectorKernel with AerStatevector.\n",
      "                    Seed cannot be set with FidelityStatevectorKernel.\n",
      "                    Increase the number of shots to diminish the noise.\n"
     ]
    },
    {
     "name": "stdout",
     "output_type": "stream",
     "text": [
      "[QClass]  Prediction finished.\n",
      "[QClass]  Initializing Quantum Classifier\n",
      "[QClass]  Quantum simulation will be performed\n",
      "GPU optimization disabled. No device found.\n",
      "[QClass]  Fitting:  (105, 3)\n",
      "[QClass]  Feature dimension =  3\n",
      "[QClass]  Quantum backend =  AerSimulator('aer_simulator_statevector')\n",
      "[QClass]  seed =  9060\n",
      "[QClass]  SVM initiating algorithm\n",
      "[QClass]  Training...\n"
     ]
    },
    {
     "name": "stderr",
     "output_type": "stream",
     "text": [
      "WARNING:root:FidelityQuantumKernel skipped because of time.\n",
      "                    Using FidelityStatevectorKernel with AerStatevector.\n",
      "                    Seed cannot be set with FidelityStatevectorKernel.\n",
      "                    Increase the number of shots to diminish the noise.\n"
     ]
    },
    {
     "name": "stdout",
     "output_type": "stream",
     "text": [
      "[QClass]  Prediction finished.\n",
      "[QClass]  Initializing Quantum Classifier\n",
      "[QClass]  Quantum simulation will be performed\n",
      "GPU optimization disabled. No device found.\n",
      "[QClass]  Fitting:  (106, 3)\n",
      "[QClass]  Feature dimension =  3\n",
      "[QClass]  Quantum backend =  AerSimulator('aer_simulator_statevector')\n",
      "[QClass]  seed =  9060\n",
      "[QClass]  SVM initiating algorithm\n",
      "[QClass]  Training...\n"
     ]
    },
    {
     "name": "stderr",
     "output_type": "stream",
     "text": [
      "WARNING:root:FidelityQuantumKernel skipped because of time.\n",
      "                    Using FidelityStatevectorKernel with AerStatevector.\n",
      "                    Seed cannot be set with FidelityStatevectorKernel.\n",
      "                    Increase the number of shots to diminish the noise.\n"
     ]
    },
    {
     "name": "stdout",
     "output_type": "stream",
     "text": [
      "[QClass]  Prediction finished.\n",
      "[QClass]  Initializing Quantum Classifier\n",
      "[QClass]  Quantum simulation will be performed\n",
      "GPU optimization disabled. No device found.\n",
      "[QClass]  Fitting:  (105, 3)\n",
      "[QClass]  Feature dimension =  3\n",
      "[QClass]  Quantum backend =  AerSimulator('aer_simulator_statevector')\n",
      "[QClass]  seed =  9060\n",
      "[QClass]  SVM initiating algorithm\n",
      "[QClass]  Training...\n"
     ]
    },
    {
     "name": "stderr",
     "output_type": "stream",
     "text": [
      "WARNING:root:FidelityQuantumKernel skipped because of time.\n",
      "                    Using FidelityStatevectorKernel with AerStatevector.\n",
      "                    Seed cannot be set with FidelityStatevectorKernel.\n",
      "                    Increase the number of shots to diminish the noise.\n"
     ]
    },
    {
     "name": "stdout",
     "output_type": "stream",
     "text": [
      "[QClass]  Prediction finished.\n",
      "[QClass]  Initializing Quantum Classifier\n",
      "[QClass]  Quantum simulation will be performed\n",
      "GPU optimization disabled. No device found.\n",
      "[QClass]  Fitting:  (105, 3)\n",
      "[QClass]  Feature dimension =  3\n",
      "[QClass]  Quantum backend =  AerSimulator('aer_simulator_statevector')\n",
      "[QClass]  seed =  9060\n",
      "[QClass]  SVM initiating algorithm\n",
      "[QClass]  Training...\n"
     ]
    },
    {
     "name": "stderr",
     "output_type": "stream",
     "text": [
      "WARNING:root:FidelityQuantumKernel skipped because of time.\n",
      "                    Using FidelityStatevectorKernel with AerStatevector.\n",
      "                    Seed cannot be set with FidelityStatevectorKernel.\n",
      "                    Increase the number of shots to diminish the noise.\n"
     ]
    },
    {
     "name": "stdout",
     "output_type": "stream",
     "text": [
      "[QClass]  Prediction finished.\n",
      "[QClass]  Initializing Quantum Classifier\n",
      "[QClass]  Quantum simulation will be performed\n",
      "GPU optimization disabled. No device found.\n",
      "[QClass]  Fitting:  (106, 3)\n",
      "[QClass]  Feature dimension =  3\n",
      "[QClass]  Quantum backend =  AerSimulator('aer_simulator_statevector')\n",
      "[QClass]  seed =  9060\n",
      "[QClass]  SVM initiating algorithm\n",
      "[QClass]  Training...\n"
     ]
    },
    {
     "name": "stderr",
     "output_type": "stream",
     "text": [
      "WARNING:root:FidelityQuantumKernel skipped because of time.\n",
      "                    Using FidelityStatevectorKernel with AerStatevector.\n",
      "                    Seed cannot be set with FidelityStatevectorKernel.\n",
      "                    Increase the number of shots to diminish the noise.\n"
     ]
    },
    {
     "name": "stdout",
     "output_type": "stream",
     "text": [
      "[QClass]  Prediction finished.\n",
      "[QClass]  Initializing Quantum Classifier\n",
      "[QClass]  Quantum simulation will be performed\n",
      "GPU optimization disabled. No device found.\n",
      "[QClass]  Fitting:  (105, 3)\n",
      "[QClass]  Feature dimension =  3\n",
      "[QClass]  Quantum backend =  AerSimulator('aer_simulator_statevector')\n",
      "[QClass]  seed =  9060\n",
      "[QClass]  SVM initiating algorithm\n",
      "[QClass]  Training...\n"
     ]
    },
    {
     "name": "stderr",
     "output_type": "stream",
     "text": [
      "WARNING:root:FidelityQuantumKernel skipped because of time.\n",
      "                    Using FidelityStatevectorKernel with AerStatevector.\n",
      "                    Seed cannot be set with FidelityStatevectorKernel.\n",
      "                    Increase the number of shots to diminish the noise.\n"
     ]
    },
    {
     "name": "stdout",
     "output_type": "stream",
     "text": [
      "[QClass]  Prediction finished.\n",
      "[QClass]  Initializing Quantum Classifier\n",
      "[QClass]  Quantum simulation will be performed\n",
      "GPU optimization disabled. No device found.\n",
      "[QClass]  Fitting:  (105, 3)\n",
      "[QClass]  Feature dimension =  3\n",
      "[QClass]  Quantum backend =  AerSimulator('aer_simulator_statevector')\n",
      "[QClass]  seed =  9060\n",
      "[QClass]  SVM initiating algorithm\n",
      "[QClass]  Training...\n"
     ]
    },
    {
     "name": "stderr",
     "output_type": "stream",
     "text": [
      "WARNING:root:FidelityQuantumKernel skipped because of time.\n",
      "                    Using FidelityStatevectorKernel with AerStatevector.\n",
      "                    Seed cannot be set with FidelityStatevectorKernel.\n",
      "                    Increase the number of shots to diminish the noise.\n"
     ]
    },
    {
     "name": "stdout",
     "output_type": "stream",
     "text": [
      "[QClass]  Prediction finished.\n",
      "[QClass]  Initializing Quantum Classifier\n",
      "[QClass]  Quantum simulation will be performed\n",
      "GPU optimization disabled. No device found.\n",
      "[QClass]  Fitting:  (106, 3)\n",
      "[QClass]  Feature dimension =  3\n",
      "[QClass]  Quantum backend =  AerSimulator('aer_simulator_statevector')\n",
      "[QClass]  seed =  9060\n",
      "[QClass]  SVM initiating algorithm\n",
      "[QClass]  Training...\n"
     ]
    },
    {
     "name": "stderr",
     "output_type": "stream",
     "text": [
      "WARNING:root:FidelityQuantumKernel skipped because of time.\n",
      "                    Using FidelityStatevectorKernel with AerStatevector.\n",
      "                    Seed cannot be set with FidelityStatevectorKernel.\n",
      "                    Increase the number of shots to diminish the noise.\n"
     ]
    },
    {
     "name": "stdout",
     "output_type": "stream",
     "text": [
      "[QClass]  Prediction finished.\n",
      "[QClass]  Initializing Quantum Classifier\n",
      "[QClass]  Quantum simulation will be performed\n",
      "GPU optimization disabled. No device found.\n",
      "[QClass]  Fitting:  (105, 3)\n",
      "[QClass]  Feature dimension =  3\n",
      "[QClass]  Quantum backend =  AerSimulator('aer_simulator_statevector')\n",
      "[QClass]  seed =  9060\n",
      "[QClass]  SVM initiating algorithm\n",
      "[QClass]  Training...\n"
     ]
    },
    {
     "name": "stderr",
     "output_type": "stream",
     "text": [
      "WARNING:root:FidelityQuantumKernel skipped because of time.\n",
      "                    Using FidelityStatevectorKernel with AerStatevector.\n",
      "                    Seed cannot be set with FidelityStatevectorKernel.\n",
      "                    Increase the number of shots to diminish the noise.\n"
     ]
    },
    {
     "name": "stdout",
     "output_type": "stream",
     "text": [
      "[QClass]  Prediction finished.\n",
      "[QClass]  Initializing Quantum Classifier\n",
      "[QClass]  Quantum simulation will be performed\n",
      "GPU optimization disabled. No device found.\n",
      "[QClass]  Fitting:  (105, 3)\n",
      "[QClass]  Feature dimension =  3\n",
      "[QClass]  Quantum backend =  AerSimulator('aer_simulator_statevector')\n",
      "[QClass]  seed =  9060\n",
      "[QClass]  SVM initiating algorithm\n",
      "[QClass]  Training...\n"
     ]
    },
    {
     "name": "stderr",
     "output_type": "stream",
     "text": [
      "WARNING:root:FidelityQuantumKernel skipped because of time.\n",
      "                    Using FidelityStatevectorKernel with AerStatevector.\n",
      "                    Seed cannot be set with FidelityStatevectorKernel.\n",
      "                    Increase the number of shots to diminish the noise.\n"
     ]
    },
    {
     "name": "stdout",
     "output_type": "stream",
     "text": [
      "[QClass]  Prediction finished.\n",
      "[QClass]  Initializing Quantum Classifier\n",
      "[QClass]  Quantum simulation will be performed\n",
      "GPU optimization disabled. No device found.\n",
      "[QClass]  Fitting:  (106, 3)\n",
      "[QClass]  Feature dimension =  3\n",
      "[QClass]  Quantum backend =  AerSimulator('aer_simulator_statevector')\n",
      "[QClass]  seed =  9060\n",
      "[QClass]  SVM initiating algorithm\n",
      "[QClass]  Training...\n"
     ]
    },
    {
     "name": "stderr",
     "output_type": "stream",
     "text": [
      "WARNING:root:FidelityQuantumKernel skipped because of time.\n",
      "                    Using FidelityStatevectorKernel with AerStatevector.\n",
      "                    Seed cannot be set with FidelityStatevectorKernel.\n",
      "                    Increase the number of shots to diminish the noise.\n"
     ]
    },
    {
     "name": "stdout",
     "output_type": "stream",
     "text": [
      "[QClass]  Prediction finished.\n",
      "[QClass]  Initializing Quantum Classifier\n",
      "[QClass]  Quantum simulation will be performed\n",
      "GPU optimization disabled. No device found.\n",
      "[QClass]  Fitting:  (105, 3)\n",
      "[QClass]  Feature dimension =  3\n",
      "[QClass]  Quantum backend =  AerSimulator('aer_simulator_statevector')\n",
      "[QClass]  seed =  9060\n",
      "[QClass]  SVM initiating algorithm\n",
      "[QClass]  Training...\n"
     ]
    },
    {
     "name": "stderr",
     "output_type": "stream",
     "text": [
      "WARNING:root:FidelityQuantumKernel skipped because of time.\n",
      "                    Using FidelityStatevectorKernel with AerStatevector.\n",
      "                    Seed cannot be set with FidelityStatevectorKernel.\n",
      "                    Increase the number of shots to diminish the noise.\n"
     ]
    },
    {
     "name": "stdout",
     "output_type": "stream",
     "text": [
      "[QClass]  Prediction finished.\n",
      "[QClass]  Initializing Quantum Classifier\n",
      "[QClass]  Quantum simulation will be performed\n",
      "GPU optimization disabled. No device found.\n",
      "[QClass]  Fitting:  (105, 3)\n",
      "[QClass]  Feature dimension =  3\n",
      "[QClass]  Quantum backend =  AerSimulator('aer_simulator_statevector')\n",
      "[QClass]  seed =  9060\n",
      "[QClass]  SVM initiating algorithm\n",
      "[QClass]  Training...\n"
     ]
    },
    {
     "name": "stderr",
     "output_type": "stream",
     "text": [
      "WARNING:root:FidelityQuantumKernel skipped because of time.\n",
      "                    Using FidelityStatevectorKernel with AerStatevector.\n",
      "                    Seed cannot be set with FidelityStatevectorKernel.\n",
      "                    Increase the number of shots to diminish the noise.\n"
     ]
    },
    {
     "name": "stdout",
     "output_type": "stream",
     "text": [
      "[QClass]  Prediction finished.\n",
      "[QClass]  Initializing Quantum Classifier\n",
      "[QClass]  Quantum simulation will be performed\n",
      "GPU optimization disabled. No device found.\n",
      "[QClass]  Fitting:  (106, 3)\n",
      "[QClass]  Feature dimension =  3\n",
      "[QClass]  Quantum backend =  AerSimulator('aer_simulator_statevector')\n",
      "[QClass]  seed =  9060\n",
      "[QClass]  SVM initiating algorithm\n",
      "[QClass]  Training...\n"
     ]
    },
    {
     "name": "stderr",
     "output_type": "stream",
     "text": [
      "WARNING:root:FidelityQuantumKernel skipped because of time.\n",
      "                    Using FidelityStatevectorKernel with AerStatevector.\n",
      "                    Seed cannot be set with FidelityStatevectorKernel.\n",
      "                    Increase the number of shots to diminish the noise.\n"
     ]
    },
    {
     "name": "stdout",
     "output_type": "stream",
     "text": [
      "[QClass]  Prediction finished.\n",
      "[QClass]  Initializing Quantum Classifier\n",
      "[QClass]  Quantum simulation will be performed\n",
      "GPU optimization disabled. No device found.\n",
      "[QClass]  Fitting:  (105, 3)\n",
      "[QClass]  Feature dimension =  3\n",
      "[QClass]  Quantum backend =  AerSimulator('aer_simulator_statevector')\n",
      "[QClass]  seed =  9060\n",
      "[QClass]  SVM initiating algorithm\n",
      "[QClass]  Training...\n"
     ]
    },
    {
     "name": "stderr",
     "output_type": "stream",
     "text": [
      "WARNING:root:FidelityQuantumKernel skipped because of time.\n",
      "                    Using FidelityStatevectorKernel with AerStatevector.\n",
      "                    Seed cannot be set with FidelityStatevectorKernel.\n",
      "                    Increase the number of shots to diminish the noise.\n"
     ]
    },
    {
     "name": "stdout",
     "output_type": "stream",
     "text": [
      "[QClass]  Prediction finished.\n",
      "[QClass]  Initializing Quantum Classifier\n",
      "[QClass]  Quantum simulation will be performed\n",
      "GPU optimization disabled. No device found.\n",
      "[QClass]  Fitting:  (105, 3)\n",
      "[QClass]  Feature dimension =  3\n",
      "[QClass]  Quantum backend =  AerSimulator('aer_simulator_statevector')\n",
      "[QClass]  seed =  9060\n",
      "[QClass]  SVM initiating algorithm\n",
      "[QClass]  Training...\n"
     ]
    },
    {
     "name": "stderr",
     "output_type": "stream",
     "text": [
      "WARNING:root:FidelityQuantumKernel skipped because of time.\n",
      "                    Using FidelityStatevectorKernel with AerStatevector.\n",
      "                    Seed cannot be set with FidelityStatevectorKernel.\n",
      "                    Increase the number of shots to diminish the noise.\n"
     ]
    },
    {
     "name": "stdout",
     "output_type": "stream",
     "text": [
      "[QClass]  Prediction finished.\n",
      "[QClass]  Initializing Quantum Classifier\n",
      "[QClass]  Quantum simulation will be performed\n",
      "GPU optimization disabled. No device found.\n",
      "[QClass]  Fitting:  (106, 3)\n",
      "[QClass]  Feature dimension =  3\n",
      "[QClass]  Quantum backend =  AerSimulator('aer_simulator_statevector')\n",
      "[QClass]  seed =  9060\n",
      "[QClass]  SVM initiating algorithm\n",
      "[QClass]  Training...\n"
     ]
    },
    {
     "name": "stderr",
     "output_type": "stream",
     "text": [
      "WARNING:root:FidelityQuantumKernel skipped because of time.\n",
      "                    Using FidelityStatevectorKernel with AerStatevector.\n",
      "                    Seed cannot be set with FidelityStatevectorKernel.\n",
      "                    Increase the number of shots to diminish the noise.\n"
     ]
    },
    {
     "name": "stdout",
     "output_type": "stream",
     "text": [
      "[QClass]  Prediction finished.\n",
      "[QClass]  Initializing Quantum Classifier\n",
      "[QClass]  Quantum simulation will be performed\n",
      "GPU optimization disabled. No device found.\n",
      "[QClass]  Fitting:  (105, 3)\n",
      "[QClass]  Feature dimension =  3\n",
      "[QClass]  Quantum backend =  AerSimulator('aer_simulator_statevector')\n",
      "[QClass]  seed =  9060\n",
      "[QClass]  SVM initiating algorithm\n",
      "[QClass]  Training...\n"
     ]
    },
    {
     "name": "stderr",
     "output_type": "stream",
     "text": [
      "WARNING:root:FidelityQuantumKernel skipped because of time.\n",
      "                    Using FidelityStatevectorKernel with AerStatevector.\n",
      "                    Seed cannot be set with FidelityStatevectorKernel.\n",
      "                    Increase the number of shots to diminish the noise.\n"
     ]
    },
    {
     "name": "stdout",
     "output_type": "stream",
     "text": [
      "[QClass]  Prediction finished.\n",
      "[QClass]  Initializing Quantum Classifier\n",
      "[QClass]  Quantum simulation will be performed\n",
      "GPU optimization disabled. No device found.\n",
      "[QClass]  Fitting:  (105, 3)\n",
      "[QClass]  Feature dimension =  3\n",
      "[QClass]  Quantum backend =  AerSimulator('aer_simulator_statevector')\n",
      "[QClass]  seed =  9060\n",
      "[QClass]  SVM initiating algorithm\n",
      "[QClass]  Training...\n"
     ]
    },
    {
     "name": "stderr",
     "output_type": "stream",
     "text": [
      "WARNING:root:FidelityQuantumKernel skipped because of time.\n",
      "                    Using FidelityStatevectorKernel with AerStatevector.\n",
      "                    Seed cannot be set with FidelityStatevectorKernel.\n",
      "                    Increase the number of shots to diminish the noise.\n"
     ]
    },
    {
     "name": "stdout",
     "output_type": "stream",
     "text": [
      "[QClass]  Prediction finished.\n",
      "[QClass]  Initializing Quantum Classifier\n",
      "[QClass]  Quantum simulation will be performed\n",
      "GPU optimization disabled. No device found.\n",
      "[QClass]  Fitting:  (106, 3)\n",
      "[QClass]  Feature dimension =  3\n",
      "[QClass]  Quantum backend =  AerSimulator('aer_simulator_statevector')\n",
      "[QClass]  seed =  9060\n",
      "[QClass]  SVM initiating algorithm\n",
      "[QClass]  Training...\n"
     ]
    },
    {
     "name": "stderr",
     "output_type": "stream",
     "text": [
      "WARNING:root:FidelityQuantumKernel skipped because of time.\n",
      "                    Using FidelityStatevectorKernel with AerStatevector.\n",
      "                    Seed cannot be set with FidelityStatevectorKernel.\n",
      "                    Increase the number of shots to diminish the noise.\n"
     ]
    },
    {
     "name": "stdout",
     "output_type": "stream",
     "text": [
      "[QClass]  Prediction finished.\n",
      "[QClass]  Initializing Quantum Classifier\n",
      "[QClass]  Quantum simulation will be performed\n",
      "GPU optimization disabled. No device found.\n",
      "[QClass]  Fitting:  (105, 3)\n",
      "[QClass]  Feature dimension =  3\n",
      "[QClass]  Quantum backend =  AerSimulator('aer_simulator_statevector')\n",
      "[QClass]  seed =  9060\n",
      "[QClass]  SVM initiating algorithm\n",
      "[QClass]  Training...\n"
     ]
    },
    {
     "name": "stderr",
     "output_type": "stream",
     "text": [
      "WARNING:root:FidelityQuantumKernel skipped because of time.\n",
      "                    Using FidelityStatevectorKernel with AerStatevector.\n",
      "                    Seed cannot be set with FidelityStatevectorKernel.\n",
      "                    Increase the number of shots to diminish the noise.\n"
     ]
    },
    {
     "name": "stdout",
     "output_type": "stream",
     "text": [
      "[QClass]  Prediction finished.\n",
      "[QClass]  Initializing Quantum Classifier\n",
      "[QClass]  Quantum simulation will be performed\n",
      "GPU optimization disabled. No device found.\n",
      "[QClass]  Fitting:  (105, 3)\n",
      "[QClass]  Feature dimension =  3\n",
      "[QClass]  Quantum backend =  AerSimulator('aer_simulator_statevector')\n",
      "[QClass]  seed =  9060\n",
      "[QClass]  SVM initiating algorithm\n",
      "[QClass]  Training...\n"
     ]
    },
    {
     "name": "stderr",
     "output_type": "stream",
     "text": [
      "WARNING:root:FidelityQuantumKernel skipped because of time.\n",
      "                    Using FidelityStatevectorKernel with AerStatevector.\n",
      "                    Seed cannot be set with FidelityStatevectorKernel.\n",
      "                    Increase the number of shots to diminish the noise.\n"
     ]
    },
    {
     "name": "stdout",
     "output_type": "stream",
     "text": [
      "[QClass]  Prediction finished.\n",
      "[QClass]  Initializing Quantum Classifier\n",
      "[QClass]  Quantum simulation will be performed\n",
      "GPU optimization disabled. No device found.\n",
      "[QClass]  Fitting:  (106, 3)\n",
      "[QClass]  Feature dimension =  3\n",
      "[QClass]  Quantum backend =  AerSimulator('aer_simulator_statevector')\n",
      "[QClass]  seed =  9060\n",
      "[QClass]  SVM initiating algorithm\n",
      "[QClass]  Training...\n"
     ]
    },
    {
     "name": "stderr",
     "output_type": "stream",
     "text": [
      "WARNING:root:FidelityQuantumKernel skipped because of time.\n",
      "                    Using FidelityStatevectorKernel with AerStatevector.\n",
      "                    Seed cannot be set with FidelityStatevectorKernel.\n",
      "                    Increase the number of shots to diminish the noise.\n"
     ]
    },
    {
     "name": "stdout",
     "output_type": "stream",
     "text": [
      "[QClass]  Prediction finished.\n",
      "[QClass]  Initializing Quantum Classifier\n",
      "[QClass]  Quantum simulation will be performed\n",
      "GPU optimization disabled. No device found.\n",
      "[QClass]  Fitting:  (105, 3)\n",
      "[QClass]  Feature dimension =  3\n",
      "[QClass]  Quantum backend =  AerSimulator('aer_simulator_statevector')\n",
      "[QClass]  seed =  9060\n",
      "[QClass]  SVM initiating algorithm\n",
      "[QClass]  Training...\n"
     ]
    },
    {
     "name": "stderr",
     "output_type": "stream",
     "text": [
      "WARNING:root:FidelityQuantumKernel skipped because of time.\n",
      "                    Using FidelityStatevectorKernel with AerStatevector.\n",
      "                    Seed cannot be set with FidelityStatevectorKernel.\n",
      "                    Increase the number of shots to diminish the noise.\n"
     ]
    },
    {
     "name": "stdout",
     "output_type": "stream",
     "text": [
      "[QClass]  Prediction finished.\n",
      "[QClass]  Initializing Quantum Classifier\n",
      "[QClass]  Quantum simulation will be performed\n",
      "GPU optimization disabled. No device found.\n",
      "[QClass]  Fitting:  (105, 3)\n",
      "[QClass]  Feature dimension =  3\n",
      "[QClass]  Quantum backend =  AerSimulator('aer_simulator_statevector')\n",
      "[QClass]  seed =  9060\n",
      "[QClass]  SVM initiating algorithm\n",
      "[QClass]  Training...\n"
     ]
    },
    {
     "name": "stderr",
     "output_type": "stream",
     "text": [
      "WARNING:root:FidelityQuantumKernel skipped because of time.\n",
      "                    Using FidelityStatevectorKernel with AerStatevector.\n",
      "                    Seed cannot be set with FidelityStatevectorKernel.\n",
      "                    Increase the number of shots to diminish the noise.\n"
     ]
    },
    {
     "name": "stdout",
     "output_type": "stream",
     "text": [
      "[QClass]  Prediction finished.\n",
      "[QClass]  Initializing Quantum Classifier\n",
      "[QClass]  Quantum simulation will be performed\n",
      "GPU optimization disabled. No device found.\n",
      "[QClass]  Fitting:  (106, 3)\n",
      "[QClass]  Feature dimension =  3\n",
      "[QClass]  Quantum backend =  AerSimulator('aer_simulator_statevector')\n",
      "[QClass]  seed =  9060\n",
      "[QClass]  SVM initiating algorithm\n",
      "[QClass]  Training...\n"
     ]
    },
    {
     "name": "stderr",
     "output_type": "stream",
     "text": [
      "WARNING:root:FidelityQuantumKernel skipped because of time.\n",
      "                    Using FidelityStatevectorKernel with AerStatevector.\n",
      "                    Seed cannot be set with FidelityStatevectorKernel.\n",
      "                    Increase the number of shots to diminish the noise.\n"
     ]
    },
    {
     "name": "stdout",
     "output_type": "stream",
     "text": [
      "[QClass]  Prediction finished.\n",
      "[QClass]  Initializing Quantum Classifier\n",
      "[QClass]  Quantum simulation will be performed\n",
      "GPU optimization disabled. No device found.\n",
      "[QClass]  Fitting:  (105, 6)\n",
      "[QClass]  Feature dimension =  6\n",
      "[QClass]  Quantum backend =  AerSimulator('aer_simulator_statevector')\n",
      "[QClass]  seed =  9060\n",
      "[QClass]  SVM initiating algorithm\n",
      "[QClass]  Training...\n"
     ]
    },
    {
     "name": "stderr",
     "output_type": "stream",
     "text": [
      "WARNING:root:FidelityQuantumKernel skipped because of time.\n",
      "                    Using FidelityStatevectorKernel with AerStatevector.\n",
      "                    Seed cannot be set with FidelityStatevectorKernel.\n",
      "                    Increase the number of shots to diminish the noise.\n"
     ]
    },
    {
     "name": "stdout",
     "output_type": "stream",
     "text": [
      "[QClass]  Prediction finished.\n",
      "[QClass]  Initializing Quantum Classifier\n",
      "[QClass]  Quantum simulation will be performed\n",
      "GPU optimization disabled. No device found.\n",
      "[QClass]  Fitting:  (105, 6)\n",
      "[QClass]  Feature dimension =  6\n",
      "[QClass]  Quantum backend =  AerSimulator('aer_simulator_statevector')\n",
      "[QClass]  seed =  9060\n",
      "[QClass]  SVM initiating algorithm\n",
      "[QClass]  Training...\n"
     ]
    },
    {
     "name": "stderr",
     "output_type": "stream",
     "text": [
      "WARNING:root:FidelityQuantumKernel skipped because of time.\n",
      "                    Using FidelityStatevectorKernel with AerStatevector.\n",
      "                    Seed cannot be set with FidelityStatevectorKernel.\n",
      "                    Increase the number of shots to diminish the noise.\n"
     ]
    },
    {
     "name": "stdout",
     "output_type": "stream",
     "text": [
      "[QClass]  Prediction finished.\n",
      "[QClass]  Initializing Quantum Classifier\n",
      "[QClass]  Quantum simulation will be performed\n",
      "GPU optimization disabled. No device found.\n",
      "[QClass]  Fitting:  (106, 6)\n",
      "[QClass]  Feature dimension =  6\n",
      "[QClass]  Quantum backend =  AerSimulator('aer_simulator_statevector')\n",
      "[QClass]  seed =  9060\n",
      "[QClass]  SVM initiating algorithm\n",
      "[QClass]  Training...\n"
     ]
    },
    {
     "name": "stderr",
     "output_type": "stream",
     "text": [
      "WARNING:root:FidelityQuantumKernel skipped because of time.\n",
      "                    Using FidelityStatevectorKernel with AerStatevector.\n",
      "                    Seed cannot be set with FidelityStatevectorKernel.\n",
      "                    Increase the number of shots to diminish the noise.\n"
     ]
    },
    {
     "name": "stdout",
     "output_type": "stream",
     "text": [
      "[QClass]  Prediction finished.\n",
      "[QClass]  Initializing Quantum Classifier\n",
      "[QClass]  Quantum simulation will be performed\n",
      "GPU optimization disabled. No device found.\n",
      "[QClass]  Fitting:  (105, 6)\n",
      "[QClass]  Feature dimension =  6\n",
      "[QClass]  Quantum backend =  AerSimulator('aer_simulator_statevector')\n",
      "[QClass]  seed =  9060\n",
      "[QClass]  SVM initiating algorithm\n",
      "[QClass]  Training...\n"
     ]
    },
    {
     "name": "stderr",
     "output_type": "stream",
     "text": [
      "WARNING:root:FidelityQuantumKernel skipped because of time.\n",
      "                    Using FidelityStatevectorKernel with AerStatevector.\n",
      "                    Seed cannot be set with FidelityStatevectorKernel.\n",
      "                    Increase the number of shots to diminish the noise.\n"
     ]
    },
    {
     "name": "stdout",
     "output_type": "stream",
     "text": [
      "[QClass]  Prediction finished.\n",
      "[QClass]  Initializing Quantum Classifier\n",
      "[QClass]  Quantum simulation will be performed\n",
      "GPU optimization disabled. No device found.\n",
      "[QClass]  Fitting:  (105, 6)\n",
      "[QClass]  Feature dimension =  6\n",
      "[QClass]  Quantum backend =  AerSimulator('aer_simulator_statevector')\n",
      "[QClass]  seed =  9060\n",
      "[QClass]  SVM initiating algorithm\n",
      "[QClass]  Training...\n"
     ]
    },
    {
     "name": "stderr",
     "output_type": "stream",
     "text": [
      "WARNING:root:FidelityQuantumKernel skipped because of time.\n",
      "                    Using FidelityStatevectorKernel with AerStatevector.\n",
      "                    Seed cannot be set with FidelityStatevectorKernel.\n",
      "                    Increase the number of shots to diminish the noise.\n"
     ]
    },
    {
     "name": "stdout",
     "output_type": "stream",
     "text": [
      "[QClass]  Prediction finished.\n",
      "[QClass]  Initializing Quantum Classifier\n",
      "[QClass]  Quantum simulation will be performed\n",
      "GPU optimization disabled. No device found.\n",
      "[QClass]  Fitting:  (106, 6)\n",
      "[QClass]  Feature dimension =  6\n",
      "[QClass]  Quantum backend =  AerSimulator('aer_simulator_statevector')\n",
      "[QClass]  seed =  9060\n",
      "[QClass]  SVM initiating algorithm\n",
      "[QClass]  Training...\n"
     ]
    },
    {
     "name": "stderr",
     "output_type": "stream",
     "text": [
      "WARNING:root:FidelityQuantumKernel skipped because of time.\n",
      "                    Using FidelityStatevectorKernel with AerStatevector.\n",
      "                    Seed cannot be set with FidelityStatevectorKernel.\n",
      "                    Increase the number of shots to diminish the noise.\n"
     ]
    },
    {
     "name": "stdout",
     "output_type": "stream",
     "text": [
      "[QClass]  Prediction finished.\n",
      "[QClass]  Initializing Quantum Classifier\n",
      "[QClass]  Quantum simulation will be performed\n",
      "GPU optimization disabled. No device found.\n",
      "[QClass]  Fitting:  (105, 6)\n",
      "[QClass]  Feature dimension =  6\n",
      "[QClass]  Quantum backend =  AerSimulator('aer_simulator_statevector')\n",
      "[QClass]  seed =  9060\n",
      "[QClass]  SVM initiating algorithm\n",
      "[QClass]  Training...\n"
     ]
    },
    {
     "name": "stderr",
     "output_type": "stream",
     "text": [
      "WARNING:root:FidelityQuantumKernel skipped because of time.\n",
      "                    Using FidelityStatevectorKernel with AerStatevector.\n",
      "                    Seed cannot be set with FidelityStatevectorKernel.\n",
      "                    Increase the number of shots to diminish the noise.\n"
     ]
    },
    {
     "name": "stdout",
     "output_type": "stream",
     "text": [
      "[QClass]  Prediction finished.\n",
      "[QClass]  Initializing Quantum Classifier\n",
      "[QClass]  Quantum simulation will be performed\n",
      "GPU optimization disabled. No device found.\n",
      "[QClass]  Fitting:  (105, 6)\n",
      "[QClass]  Feature dimension =  6\n",
      "[QClass]  Quantum backend =  AerSimulator('aer_simulator_statevector')\n",
      "[QClass]  seed =  9060\n",
      "[QClass]  SVM initiating algorithm\n",
      "[QClass]  Training...\n"
     ]
    },
    {
     "name": "stderr",
     "output_type": "stream",
     "text": [
      "WARNING:root:FidelityQuantumKernel skipped because of time.\n",
      "                    Using FidelityStatevectorKernel with AerStatevector.\n",
      "                    Seed cannot be set with FidelityStatevectorKernel.\n",
      "                    Increase the number of shots to diminish the noise.\n"
     ]
    },
    {
     "name": "stdout",
     "output_type": "stream",
     "text": [
      "[QClass]  Prediction finished.\n",
      "[QClass]  Initializing Quantum Classifier\n",
      "[QClass]  Quantum simulation will be performed\n",
      "GPU optimization disabled. No device found.\n",
      "[QClass]  Fitting:  (106, 6)\n",
      "[QClass]  Feature dimension =  6\n",
      "[QClass]  Quantum backend =  AerSimulator('aer_simulator_statevector')\n",
      "[QClass]  seed =  9060\n",
      "[QClass]  SVM initiating algorithm\n",
      "[QClass]  Training...\n"
     ]
    },
    {
     "name": "stderr",
     "output_type": "stream",
     "text": [
      "WARNING:root:FidelityQuantumKernel skipped because of time.\n",
      "                    Using FidelityStatevectorKernel with AerStatevector.\n",
      "                    Seed cannot be set with FidelityStatevectorKernel.\n",
      "                    Increase the number of shots to diminish the noise.\n"
     ]
    },
    {
     "name": "stdout",
     "output_type": "stream",
     "text": [
      "[QClass]  Prediction finished.\n",
      "[QClass]  Initializing Quantum Classifier\n",
      "[QClass]  Quantum simulation will be performed\n",
      "GPU optimization disabled. No device found.\n",
      "[QClass]  Fitting:  (105, 6)\n",
      "[QClass]  Feature dimension =  6\n",
      "[QClass]  Quantum backend =  AerSimulator('aer_simulator_statevector')\n",
      "[QClass]  seed =  9060\n",
      "[QClass]  SVM initiating algorithm\n",
      "[QClass]  Training...\n"
     ]
    },
    {
     "name": "stderr",
     "output_type": "stream",
     "text": [
      "WARNING:root:FidelityQuantumKernel skipped because of time.\n",
      "                    Using FidelityStatevectorKernel with AerStatevector.\n",
      "                    Seed cannot be set with FidelityStatevectorKernel.\n",
      "                    Increase the number of shots to diminish the noise.\n"
     ]
    },
    {
     "name": "stdout",
     "output_type": "stream",
     "text": [
      "[QClass]  Prediction finished.\n",
      "[QClass]  Initializing Quantum Classifier\n",
      "[QClass]  Quantum simulation will be performed\n",
      "GPU optimization disabled. No device found.\n",
      "[QClass]  Fitting:  (105, 6)\n",
      "[QClass]  Feature dimension =  6\n",
      "[QClass]  Quantum backend =  AerSimulator('aer_simulator_statevector')\n",
      "[QClass]  seed =  9060\n",
      "[QClass]  SVM initiating algorithm\n",
      "[QClass]  Training...\n"
     ]
    },
    {
     "name": "stderr",
     "output_type": "stream",
     "text": [
      "WARNING:root:FidelityQuantumKernel skipped because of time.\n",
      "                    Using FidelityStatevectorKernel with AerStatevector.\n",
      "                    Seed cannot be set with FidelityStatevectorKernel.\n",
      "                    Increase the number of shots to diminish the noise.\n"
     ]
    },
    {
     "name": "stdout",
     "output_type": "stream",
     "text": [
      "[QClass]  Prediction finished.\n",
      "[QClass]  Initializing Quantum Classifier\n",
      "[QClass]  Quantum simulation will be performed\n",
      "GPU optimization disabled. No device found.\n",
      "[QClass]  Fitting:  (106, 6)\n",
      "[QClass]  Feature dimension =  6\n",
      "[QClass]  Quantum backend =  AerSimulator('aer_simulator_statevector')\n",
      "[QClass]  seed =  9060\n",
      "[QClass]  SVM initiating algorithm\n",
      "[QClass]  Training...\n"
     ]
    },
    {
     "name": "stderr",
     "output_type": "stream",
     "text": [
      "WARNING:root:FidelityQuantumKernel skipped because of time.\n",
      "                    Using FidelityStatevectorKernel with AerStatevector.\n",
      "                    Seed cannot be set with FidelityStatevectorKernel.\n",
      "                    Increase the number of shots to diminish the noise.\n"
     ]
    },
    {
     "name": "stdout",
     "output_type": "stream",
     "text": [
      "[QClass]  Prediction finished.\n",
      "[QClass]  Initializing Quantum Classifier\n",
      "[QClass]  Quantum simulation will be performed\n",
      "GPU optimization disabled. No device found.\n",
      "[QClass]  Fitting:  (105, 6)\n",
      "[QClass]  Feature dimension =  6\n",
      "[QClass]  Quantum backend =  AerSimulator('aer_simulator_statevector')\n",
      "[QClass]  seed =  9060\n",
      "[QClass]  SVM initiating algorithm\n",
      "[QClass]  Training...\n"
     ]
    },
    {
     "name": "stderr",
     "output_type": "stream",
     "text": [
      "WARNING:root:FidelityQuantumKernel skipped because of time.\n",
      "                    Using FidelityStatevectorKernel with AerStatevector.\n",
      "                    Seed cannot be set with FidelityStatevectorKernel.\n",
      "                    Increase the number of shots to diminish the noise.\n"
     ]
    },
    {
     "name": "stdout",
     "output_type": "stream",
     "text": [
      "[QClass]  Prediction finished.\n",
      "[QClass]  Initializing Quantum Classifier\n",
      "[QClass]  Quantum simulation will be performed\n",
      "GPU optimization disabled. No device found.\n",
      "[QClass]  Fitting:  (105, 6)\n",
      "[QClass]  Feature dimension =  6\n",
      "[QClass]  Quantum backend =  AerSimulator('aer_simulator_statevector')\n",
      "[QClass]  seed =  9060\n",
      "[QClass]  SVM initiating algorithm\n",
      "[QClass]  Training...\n"
     ]
    },
    {
     "name": "stderr",
     "output_type": "stream",
     "text": [
      "WARNING:root:FidelityQuantumKernel skipped because of time.\n",
      "                    Using FidelityStatevectorKernel with AerStatevector.\n",
      "                    Seed cannot be set with FidelityStatevectorKernel.\n",
      "                    Increase the number of shots to diminish the noise.\n"
     ]
    },
    {
     "name": "stdout",
     "output_type": "stream",
     "text": [
      "[QClass]  Prediction finished.\n",
      "[QClass]  Initializing Quantum Classifier\n",
      "[QClass]  Quantum simulation will be performed\n",
      "GPU optimization disabled. No device found.\n",
      "[QClass]  Fitting:  (106, 6)\n",
      "[QClass]  Feature dimension =  6\n",
      "[QClass]  Quantum backend =  AerSimulator('aer_simulator_statevector')\n",
      "[QClass]  seed =  9060\n",
      "[QClass]  SVM initiating algorithm\n",
      "[QClass]  Training...\n"
     ]
    },
    {
     "name": "stderr",
     "output_type": "stream",
     "text": [
      "WARNING:root:FidelityQuantumKernel skipped because of time.\n",
      "                    Using FidelityStatevectorKernel with AerStatevector.\n",
      "                    Seed cannot be set with FidelityStatevectorKernel.\n",
      "                    Increase the number of shots to diminish the noise.\n"
     ]
    },
    {
     "name": "stdout",
     "output_type": "stream",
     "text": [
      "[QClass]  Prediction finished.\n",
      "[QClass]  Initializing Quantum Classifier\n",
      "[QClass]  Quantum simulation will be performed\n",
      "GPU optimization disabled. No device found.\n",
      "[QClass]  Fitting:  (105, 6)\n",
      "[QClass]  Feature dimension =  6\n",
      "[QClass]  Quantum backend =  AerSimulator('aer_simulator_statevector')\n",
      "[QClass]  seed =  9060\n",
      "[QClass]  SVM initiating algorithm\n",
      "[QClass]  Training...\n"
     ]
    },
    {
     "name": "stderr",
     "output_type": "stream",
     "text": [
      "WARNING:root:FidelityQuantumKernel skipped because of time.\n",
      "                    Using FidelityStatevectorKernel with AerStatevector.\n",
      "                    Seed cannot be set with FidelityStatevectorKernel.\n",
      "                    Increase the number of shots to diminish the noise.\n"
     ]
    },
    {
     "name": "stdout",
     "output_type": "stream",
     "text": [
      "[QClass]  Prediction finished.\n",
      "[QClass]  Initializing Quantum Classifier\n",
      "[QClass]  Quantum simulation will be performed\n",
      "GPU optimization disabled. No device found.\n",
      "[QClass]  Fitting:  (105, 6)\n",
      "[QClass]  Feature dimension =  6\n",
      "[QClass]  Quantum backend =  AerSimulator('aer_simulator_statevector')\n",
      "[QClass]  seed =  9060\n",
      "[QClass]  SVM initiating algorithm\n",
      "[QClass]  Training...\n"
     ]
    },
    {
     "name": "stderr",
     "output_type": "stream",
     "text": [
      "WARNING:root:FidelityQuantumKernel skipped because of time.\n",
      "                    Using FidelityStatevectorKernel with AerStatevector.\n",
      "                    Seed cannot be set with FidelityStatevectorKernel.\n",
      "                    Increase the number of shots to diminish the noise.\n"
     ]
    },
    {
     "name": "stdout",
     "output_type": "stream",
     "text": [
      "[QClass]  Prediction finished.\n",
      "[QClass]  Initializing Quantum Classifier\n",
      "[QClass]  Quantum simulation will be performed\n",
      "GPU optimization disabled. No device found.\n",
      "[QClass]  Fitting:  (106, 6)\n",
      "[QClass]  Feature dimension =  6\n",
      "[QClass]  Quantum backend =  AerSimulator('aer_simulator_statevector')\n",
      "[QClass]  seed =  9060\n",
      "[QClass]  SVM initiating algorithm\n",
      "[QClass]  Training...\n"
     ]
    },
    {
     "name": "stderr",
     "output_type": "stream",
     "text": [
      "WARNING:root:FidelityQuantumKernel skipped because of time.\n",
      "                    Using FidelityStatevectorKernel with AerStatevector.\n",
      "                    Seed cannot be set with FidelityStatevectorKernel.\n",
      "                    Increase the number of shots to diminish the noise.\n"
     ]
    },
    {
     "name": "stdout",
     "output_type": "stream",
     "text": [
      "[QClass]  Prediction finished.\n",
      "[QClass]  Initializing Quantum Classifier\n",
      "[QClass]  Quantum simulation will be performed\n",
      "GPU optimization disabled. No device found.\n",
      "[QClass]  Fitting:  (105, 6)\n",
      "[QClass]  Feature dimension =  6\n",
      "[QClass]  Quantum backend =  AerSimulator('aer_simulator_statevector')\n",
      "[QClass]  seed =  9060\n",
      "[QClass]  SVM initiating algorithm\n",
      "[QClass]  Training...\n"
     ]
    },
    {
     "name": "stderr",
     "output_type": "stream",
     "text": [
      "WARNING:root:FidelityQuantumKernel skipped because of time.\n",
      "                    Using FidelityStatevectorKernel with AerStatevector.\n",
      "                    Seed cannot be set with FidelityStatevectorKernel.\n",
      "                    Increase the number of shots to diminish the noise.\n"
     ]
    },
    {
     "name": "stdout",
     "output_type": "stream",
     "text": [
      "[QClass]  Prediction finished.\n",
      "[QClass]  Initializing Quantum Classifier\n",
      "[QClass]  Quantum simulation will be performed\n",
      "GPU optimization disabled. No device found.\n",
      "[QClass]  Fitting:  (105, 6)\n",
      "[QClass]  Feature dimension =  6\n",
      "[QClass]  Quantum backend =  AerSimulator('aer_simulator_statevector')\n",
      "[QClass]  seed =  9060\n",
      "[QClass]  SVM initiating algorithm\n",
      "[QClass]  Training...\n"
     ]
    },
    {
     "name": "stderr",
     "output_type": "stream",
     "text": [
      "WARNING:root:FidelityQuantumKernel skipped because of time.\n",
      "                    Using FidelityStatevectorKernel with AerStatevector.\n",
      "                    Seed cannot be set with FidelityStatevectorKernel.\n",
      "                    Increase the number of shots to diminish the noise.\n"
     ]
    },
    {
     "name": "stdout",
     "output_type": "stream",
     "text": [
      "[QClass]  Prediction finished.\n",
      "[QClass]  Initializing Quantum Classifier\n",
      "[QClass]  Quantum simulation will be performed\n",
      "GPU optimization disabled. No device found.\n",
      "[QClass]  Fitting:  (106, 6)\n",
      "[QClass]  Feature dimension =  6\n",
      "[QClass]  Quantum backend =  AerSimulator('aer_simulator_statevector')\n",
      "[QClass]  seed =  9060\n",
      "[QClass]  SVM initiating algorithm\n",
      "[QClass]  Training...\n"
     ]
    },
    {
     "name": "stderr",
     "output_type": "stream",
     "text": [
      "WARNING:root:FidelityQuantumKernel skipped because of time.\n",
      "                    Using FidelityStatevectorKernel with AerStatevector.\n",
      "                    Seed cannot be set with FidelityStatevectorKernel.\n",
      "                    Increase the number of shots to diminish the noise.\n"
     ]
    },
    {
     "name": "stdout",
     "output_type": "stream",
     "text": [
      "[QClass]  Prediction finished.\n",
      "[QClass]  Initializing Quantum Classifier\n",
      "[QClass]  Quantum simulation will be performed\n",
      "GPU optimization disabled. No device found.\n",
      "[QClass]  Fitting:  (105, 6)\n",
      "[QClass]  Feature dimension =  6\n",
      "[QClass]  Quantum backend =  AerSimulator('aer_simulator_statevector')\n",
      "[QClass]  seed =  9060\n",
      "[QClass]  SVM initiating algorithm\n",
      "[QClass]  Training...\n"
     ]
    },
    {
     "name": "stderr",
     "output_type": "stream",
     "text": [
      "WARNING:root:FidelityQuantumKernel skipped because of time.\n",
      "                    Using FidelityStatevectorKernel with AerStatevector.\n",
      "                    Seed cannot be set with FidelityStatevectorKernel.\n",
      "                    Increase the number of shots to diminish the noise.\n"
     ]
    },
    {
     "name": "stdout",
     "output_type": "stream",
     "text": [
      "[QClass]  Prediction finished.\n",
      "[QClass]  Initializing Quantum Classifier\n",
      "[QClass]  Quantum simulation will be performed\n",
      "GPU optimization disabled. No device found.\n",
      "[QClass]  Fitting:  (105, 6)\n",
      "[QClass]  Feature dimension =  6\n",
      "[QClass]  Quantum backend =  AerSimulator('aer_simulator_statevector')\n",
      "[QClass]  seed =  9060\n",
      "[QClass]  SVM initiating algorithm\n",
      "[QClass]  Training...\n"
     ]
    },
    {
     "name": "stderr",
     "output_type": "stream",
     "text": [
      "WARNING:root:FidelityQuantumKernel skipped because of time.\n",
      "                    Using FidelityStatevectorKernel with AerStatevector.\n",
      "                    Seed cannot be set with FidelityStatevectorKernel.\n",
      "                    Increase the number of shots to diminish the noise.\n"
     ]
    },
    {
     "name": "stdout",
     "output_type": "stream",
     "text": [
      "[QClass]  Prediction finished.\n",
      "[QClass]  Initializing Quantum Classifier\n",
      "[QClass]  Quantum simulation will be performed\n",
      "GPU optimization disabled. No device found.\n",
      "[QClass]  Fitting:  (106, 6)\n",
      "[QClass]  Feature dimension =  6\n",
      "[QClass]  Quantum backend =  AerSimulator('aer_simulator_statevector')\n",
      "[QClass]  seed =  9060\n",
      "[QClass]  SVM initiating algorithm\n",
      "[QClass]  Training...\n"
     ]
    },
    {
     "name": "stderr",
     "output_type": "stream",
     "text": [
      "WARNING:root:FidelityQuantumKernel skipped because of time.\n",
      "                    Using FidelityStatevectorKernel with AerStatevector.\n",
      "                    Seed cannot be set with FidelityStatevectorKernel.\n",
      "                    Increase the number of shots to diminish the noise.\n"
     ]
    },
    {
     "name": "stdout",
     "output_type": "stream",
     "text": [
      "[QClass]  Prediction finished.\n",
      "[QClass]  Initializing Quantum Classifier\n",
      "[QClass]  Quantum simulation will be performed\n",
      "GPU optimization disabled. No device found.\n",
      "[QClass]  Fitting:  (105, 6)\n",
      "[QClass]  Feature dimension =  6\n",
      "[QClass]  Quantum backend =  AerSimulator('aer_simulator_statevector')\n",
      "[QClass]  seed =  9060\n",
      "[QClass]  SVM initiating algorithm\n",
      "[QClass]  Training...\n"
     ]
    },
    {
     "name": "stderr",
     "output_type": "stream",
     "text": [
      "WARNING:root:FidelityQuantumKernel skipped because of time.\n",
      "                    Using FidelityStatevectorKernel with AerStatevector.\n",
      "                    Seed cannot be set with FidelityStatevectorKernel.\n",
      "                    Increase the number of shots to diminish the noise.\n"
     ]
    },
    {
     "name": "stdout",
     "output_type": "stream",
     "text": [
      "[QClass]  Prediction finished.\n",
      "[QClass]  Initializing Quantum Classifier\n",
      "[QClass]  Quantum simulation will be performed\n",
      "GPU optimization disabled. No device found.\n",
      "[QClass]  Fitting:  (105, 6)\n",
      "[QClass]  Feature dimension =  6\n",
      "[QClass]  Quantum backend =  AerSimulator('aer_simulator_statevector')\n",
      "[QClass]  seed =  9060\n",
      "[QClass]  SVM initiating algorithm\n",
      "[QClass]  Training...\n"
     ]
    },
    {
     "name": "stderr",
     "output_type": "stream",
     "text": [
      "WARNING:root:FidelityQuantumKernel skipped because of time.\n",
      "                    Using FidelityStatevectorKernel with AerStatevector.\n",
      "                    Seed cannot be set with FidelityStatevectorKernel.\n",
      "                    Increase the number of shots to diminish the noise.\n"
     ]
    },
    {
     "name": "stdout",
     "output_type": "stream",
     "text": [
      "[QClass]  Prediction finished.\n",
      "[QClass]  Initializing Quantum Classifier\n",
      "[QClass]  Quantum simulation will be performed\n",
      "GPU optimization disabled. No device found.\n",
      "[QClass]  Fitting:  (106, 6)\n",
      "[QClass]  Feature dimension =  6\n",
      "[QClass]  Quantum backend =  AerSimulator('aer_simulator_statevector')\n",
      "[QClass]  seed =  9060\n",
      "[QClass]  SVM initiating algorithm\n",
      "[QClass]  Training...\n"
     ]
    },
    {
     "name": "stderr",
     "output_type": "stream",
     "text": [
      "WARNING:root:FidelityQuantumKernel skipped because of time.\n",
      "                    Using FidelityStatevectorKernel with AerStatevector.\n",
      "                    Seed cannot be set with FidelityStatevectorKernel.\n",
      "                    Increase the number of shots to diminish the noise.\n"
     ]
    },
    {
     "name": "stdout",
     "output_type": "stream",
     "text": [
      "[QClass]  Prediction finished.\n",
      "[QClass]  Initializing Quantum Classifier\n",
      "[QClass]  Quantum simulation will be performed\n",
      "GPU optimization disabled. No device found.\n",
      "[QClass]  Fitting:  (105, 6)\n",
      "[QClass]  Feature dimension =  6\n",
      "[QClass]  Quantum backend =  AerSimulator('aer_simulator_statevector')\n",
      "[QClass]  seed =  9060\n",
      "[QClass]  SVM initiating algorithm\n",
      "[QClass]  Training...\n"
     ]
    },
    {
     "name": "stderr",
     "output_type": "stream",
     "text": [
      "WARNING:root:FidelityQuantumKernel skipped because of time.\n",
      "                    Using FidelityStatevectorKernel with AerStatevector.\n",
      "                    Seed cannot be set with FidelityStatevectorKernel.\n",
      "                    Increase the number of shots to diminish the noise.\n"
     ]
    },
    {
     "name": "stdout",
     "output_type": "stream",
     "text": [
      "[QClass]  Prediction finished.\n",
      "[QClass]  Initializing Quantum Classifier\n",
      "[QClass]  Quantum simulation will be performed\n",
      "GPU optimization disabled. No device found.\n",
      "[QClass]  Fitting:  (105, 6)\n",
      "[QClass]  Feature dimension =  6\n",
      "[QClass]  Quantum backend =  AerSimulator('aer_simulator_statevector')\n",
      "[QClass]  seed =  9060\n",
      "[QClass]  SVM initiating algorithm\n",
      "[QClass]  Training...\n"
     ]
    },
    {
     "name": "stderr",
     "output_type": "stream",
     "text": [
      "WARNING:root:FidelityQuantumKernel skipped because of time.\n",
      "                    Using FidelityStatevectorKernel with AerStatevector.\n",
      "                    Seed cannot be set with FidelityStatevectorKernel.\n",
      "                    Increase the number of shots to diminish the noise.\n"
     ]
    },
    {
     "name": "stdout",
     "output_type": "stream",
     "text": [
      "[QClass]  Prediction finished.\n",
      "[QClass]  Initializing Quantum Classifier\n",
      "[QClass]  Quantum simulation will be performed\n",
      "GPU optimization disabled. No device found.\n",
      "[QClass]  Fitting:  (106, 6)\n",
      "[QClass]  Feature dimension =  6\n",
      "[QClass]  Quantum backend =  AerSimulator('aer_simulator_statevector')\n",
      "[QClass]  seed =  9060\n",
      "[QClass]  SVM initiating algorithm\n",
      "[QClass]  Training...\n"
     ]
    },
    {
     "name": "stderr",
     "output_type": "stream",
     "text": [
      "WARNING:root:FidelityQuantumKernel skipped because of time.\n",
      "                    Using FidelityStatevectorKernel with AerStatevector.\n",
      "                    Seed cannot be set with FidelityStatevectorKernel.\n",
      "                    Increase the number of shots to diminish the noise.\n"
     ]
    },
    {
     "name": "stdout",
     "output_type": "stream",
     "text": [
      "[QClass]  Prediction finished.\n",
      "[QClass]  Initializing Quantum Classifier\n",
      "[QClass]  Quantum simulation will be performed\n",
      "GPU optimization disabled. No device found.\n",
      "[QClass]  Fitting:  (105, 6)\n",
      "[QClass]  Feature dimension =  6\n",
      "[QClass]  Quantum backend =  AerSimulator('aer_simulator_statevector')\n",
      "[QClass]  seed =  9060\n",
      "[QClass]  SVM initiating algorithm\n",
      "[QClass]  Training...\n"
     ]
    },
    {
     "name": "stderr",
     "output_type": "stream",
     "text": [
      "WARNING:root:FidelityQuantumKernel skipped because of time.\n",
      "                    Using FidelityStatevectorKernel with AerStatevector.\n",
      "                    Seed cannot be set with FidelityStatevectorKernel.\n",
      "                    Increase the number of shots to diminish the noise.\n"
     ]
    },
    {
     "name": "stdout",
     "output_type": "stream",
     "text": [
      "[QClass]  Prediction finished.\n",
      "[QClass]  Initializing Quantum Classifier\n",
      "[QClass]  Quantum simulation will be performed\n",
      "GPU optimization disabled. No device found.\n",
      "[QClass]  Fitting:  (105, 6)\n",
      "[QClass]  Feature dimension =  6\n",
      "[QClass]  Quantum backend =  AerSimulator('aer_simulator_statevector')\n",
      "[QClass]  seed =  9060\n",
      "[QClass]  SVM initiating algorithm\n",
      "[QClass]  Training...\n"
     ]
    },
    {
     "name": "stderr",
     "output_type": "stream",
     "text": [
      "WARNING:root:FidelityQuantumKernel skipped because of time.\n",
      "                    Using FidelityStatevectorKernel with AerStatevector.\n",
      "                    Seed cannot be set with FidelityStatevectorKernel.\n",
      "                    Increase the number of shots to diminish the noise.\n"
     ]
    },
    {
     "name": "stdout",
     "output_type": "stream",
     "text": [
      "[QClass]  Prediction finished.\n",
      "[QClass]  Initializing Quantum Classifier\n",
      "[QClass]  Quantum simulation will be performed\n",
      "GPU optimization disabled. No device found.\n",
      "[QClass]  Fitting:  (106, 6)\n",
      "[QClass]  Feature dimension =  6\n",
      "[QClass]  Quantum backend =  AerSimulator('aer_simulator_statevector')\n",
      "[QClass]  seed =  9060\n",
      "[QClass]  SVM initiating algorithm\n",
      "[QClass]  Training...\n"
     ]
    },
    {
     "name": "stderr",
     "output_type": "stream",
     "text": [
      "WARNING:root:FidelityQuantumKernel skipped because of time.\n",
      "                    Using FidelityStatevectorKernel with AerStatevector.\n",
      "                    Seed cannot be set with FidelityStatevectorKernel.\n",
      "                    Increase the number of shots to diminish the noise.\n"
     ]
    },
    {
     "name": "stdout",
     "output_type": "stream",
     "text": [
      "[QClass]  Prediction finished.\n",
      "[QClass]  Initializing Quantum Classifier\n",
      "[QClass]  Quantum simulation will be performed\n",
      "GPU optimization disabled. No device found.\n",
      "[QClass]  Fitting:  (105, 6)\n",
      "[QClass]  Feature dimension =  6\n",
      "[QClass]  Quantum backend =  AerSimulator('aer_simulator_statevector')\n",
      "[QClass]  seed =  9060\n",
      "[QClass]  SVM initiating algorithm\n",
      "[QClass]  Training...\n"
     ]
    },
    {
     "name": "stderr",
     "output_type": "stream",
     "text": [
      "WARNING:root:FidelityQuantumKernel skipped because of time.\n",
      "                    Using FidelityStatevectorKernel with AerStatevector.\n",
      "                    Seed cannot be set with FidelityStatevectorKernel.\n",
      "                    Increase the number of shots to diminish the noise.\n"
     ]
    },
    {
     "name": "stdout",
     "output_type": "stream",
     "text": [
      "[QClass]  Prediction finished.\n",
      "[QClass]  Initializing Quantum Classifier\n",
      "[QClass]  Quantum simulation will be performed\n",
      "GPU optimization disabled. No device found.\n",
      "[QClass]  Fitting:  (105, 6)\n",
      "[QClass]  Feature dimension =  6\n",
      "[QClass]  Quantum backend =  AerSimulator('aer_simulator_statevector')\n",
      "[QClass]  seed =  9060\n",
      "[QClass]  SVM initiating algorithm\n",
      "[QClass]  Training...\n"
     ]
    },
    {
     "name": "stderr",
     "output_type": "stream",
     "text": [
      "WARNING:root:FidelityQuantumKernel skipped because of time.\n",
      "                    Using FidelityStatevectorKernel with AerStatevector.\n",
      "                    Seed cannot be set with FidelityStatevectorKernel.\n",
      "                    Increase the number of shots to diminish the noise.\n"
     ]
    },
    {
     "name": "stdout",
     "output_type": "stream",
     "text": [
      "[QClass]  Prediction finished.\n",
      "[QClass]  Initializing Quantum Classifier\n",
      "[QClass]  Quantum simulation will be performed\n",
      "GPU optimization disabled. No device found.\n",
      "[QClass]  Fitting:  (106, 6)\n",
      "[QClass]  Feature dimension =  6\n",
      "[QClass]  Quantum backend =  AerSimulator('aer_simulator_statevector')\n",
      "[QClass]  seed =  9060\n",
      "[QClass]  SVM initiating algorithm\n",
      "[QClass]  Training...\n"
     ]
    },
    {
     "name": "stderr",
     "output_type": "stream",
     "text": [
      "WARNING:root:FidelityQuantumKernel skipped because of time.\n",
      "                    Using FidelityStatevectorKernel with AerStatevector.\n",
      "                    Seed cannot be set with FidelityStatevectorKernel.\n",
      "                    Increase the number of shots to diminish the noise.\n"
     ]
    },
    {
     "name": "stdout",
     "output_type": "stream",
     "text": [
      "[QClass]  Prediction finished.\n",
      "[QClass]  Initializing Quantum Classifier\n",
      "[QClass]  Quantum simulation will be performed\n",
      "GPU optimization disabled. No device found.\n",
      "[QClass]  Fitting:  (105, 6)\n",
      "[QClass]  Feature dimension =  6\n",
      "[QClass]  Quantum backend =  AerSimulator('aer_simulator_statevector')\n",
      "[QClass]  seed =  9060\n",
      "[QClass]  SVM initiating algorithm\n",
      "[QClass]  Training...\n"
     ]
    },
    {
     "name": "stderr",
     "output_type": "stream",
     "text": [
      "WARNING:root:FidelityQuantumKernel skipped because of time.\n",
      "                    Using FidelityStatevectorKernel with AerStatevector.\n",
      "                    Seed cannot be set with FidelityStatevectorKernel.\n",
      "                    Increase the number of shots to diminish the noise.\n"
     ]
    },
    {
     "name": "stdout",
     "output_type": "stream",
     "text": [
      "[QClass]  Prediction finished.\n",
      "[QClass]  Initializing Quantum Classifier\n",
      "[QClass]  Quantum simulation will be performed\n",
      "GPU optimization disabled. No device found.\n",
      "[QClass]  Fitting:  (105, 6)\n",
      "[QClass]  Feature dimension =  6\n",
      "[QClass]  Quantum backend =  AerSimulator('aer_simulator_statevector')\n",
      "[QClass]  seed =  9060\n",
      "[QClass]  SVM initiating algorithm\n",
      "[QClass]  Training...\n"
     ]
    },
    {
     "name": "stderr",
     "output_type": "stream",
     "text": [
      "WARNING:root:FidelityQuantumKernel skipped because of time.\n",
      "                    Using FidelityStatevectorKernel with AerStatevector.\n",
      "                    Seed cannot be set with FidelityStatevectorKernel.\n",
      "                    Increase the number of shots to diminish the noise.\n"
     ]
    },
    {
     "name": "stdout",
     "output_type": "stream",
     "text": [
      "[QClass]  Prediction finished.\n",
      "[QClass]  Initializing Quantum Classifier\n",
      "[QClass]  Quantum simulation will be performed\n",
      "GPU optimization disabled. No device found.\n",
      "[QClass]  Fitting:  (106, 6)\n",
      "[QClass]  Feature dimension =  6\n",
      "[QClass]  Quantum backend =  AerSimulator('aer_simulator_statevector')\n",
      "[QClass]  seed =  9060\n",
      "[QClass]  SVM initiating algorithm\n",
      "[QClass]  Training...\n"
     ]
    },
    {
     "name": "stderr",
     "output_type": "stream",
     "text": [
      "WARNING:root:FidelityQuantumKernel skipped because of time.\n",
      "                    Using FidelityStatevectorKernel with AerStatevector.\n",
      "                    Seed cannot be set with FidelityStatevectorKernel.\n",
      "                    Increase the number of shots to diminish the noise.\n"
     ]
    },
    {
     "name": "stdout",
     "output_type": "stream",
     "text": [
      "[QClass]  Prediction finished.\n",
      "[QClass]  Initializing Quantum Classifier\n",
      "[QClass]  Quantum simulation will be performed\n",
      "GPU optimization disabled. No device found.\n",
      "[QClass]  Fitting:  (105, 6)\n",
      "[QClass]  Feature dimension =  6\n",
      "[QClass]  Quantum backend =  AerSimulator('aer_simulator_statevector')\n",
      "[QClass]  seed =  9060\n",
      "[QClass]  SVM initiating algorithm\n",
      "[QClass]  Training...\n"
     ]
    },
    {
     "name": "stderr",
     "output_type": "stream",
     "text": [
      "WARNING:root:FidelityQuantumKernel skipped because of time.\n",
      "                    Using FidelityStatevectorKernel with AerStatevector.\n",
      "                    Seed cannot be set with FidelityStatevectorKernel.\n",
      "                    Increase the number of shots to diminish the noise.\n"
     ]
    },
    {
     "name": "stdout",
     "output_type": "stream",
     "text": [
      "[QClass]  Prediction finished.\n",
      "[QClass]  Initializing Quantum Classifier\n",
      "[QClass]  Quantum simulation will be performed\n",
      "GPU optimization disabled. No device found.\n",
      "[QClass]  Fitting:  (105, 6)\n",
      "[QClass]  Feature dimension =  6\n",
      "[QClass]  Quantum backend =  AerSimulator('aer_simulator_statevector')\n",
      "[QClass]  seed =  9060\n",
      "[QClass]  SVM initiating algorithm\n",
      "[QClass]  Training...\n"
     ]
    },
    {
     "name": "stderr",
     "output_type": "stream",
     "text": [
      "WARNING:root:FidelityQuantumKernel skipped because of time.\n",
      "                    Using FidelityStatevectorKernel with AerStatevector.\n",
      "                    Seed cannot be set with FidelityStatevectorKernel.\n",
      "                    Increase the number of shots to diminish the noise.\n"
     ]
    },
    {
     "name": "stdout",
     "output_type": "stream",
     "text": [
      "[QClass]  Prediction finished.\n",
      "[QClass]  Initializing Quantum Classifier\n",
      "[QClass]  Quantum simulation will be performed\n",
      "GPU optimization disabled. No device found.\n",
      "[QClass]  Fitting:  (106, 6)\n",
      "[QClass]  Feature dimension =  6\n",
      "[QClass]  Quantum backend =  AerSimulator('aer_simulator_statevector')\n",
      "[QClass]  seed =  9060\n",
      "[QClass]  SVM initiating algorithm\n",
      "[QClass]  Training...\n"
     ]
    },
    {
     "name": "stderr",
     "output_type": "stream",
     "text": [
      "WARNING:root:FidelityQuantumKernel skipped because of time.\n",
      "                    Using FidelityStatevectorKernel with AerStatevector.\n",
      "                    Seed cannot be set with FidelityStatevectorKernel.\n",
      "                    Increase the number of shots to diminish the noise.\n"
     ]
    },
    {
     "name": "stdout",
     "output_type": "stream",
     "text": [
      "[QClass]  Prediction finished.\n",
      "[QClass]  Initializing Quantum Classifier\n",
      "[QClass]  Quantum simulation will be performed\n",
      "GPU optimization disabled. No device found.\n",
      "[QClass]  Fitting:  (105, 6)\n",
      "[QClass]  Feature dimension =  6\n",
      "[QClass]  Quantum backend =  AerSimulator('aer_simulator_statevector')\n",
      "[QClass]  seed =  9060\n",
      "[QClass]  SVM initiating algorithm\n",
      "[QClass]  Training...\n"
     ]
    },
    {
     "name": "stderr",
     "output_type": "stream",
     "text": [
      "WARNING:root:FidelityQuantumKernel skipped because of time.\n",
      "                    Using FidelityStatevectorKernel with AerStatevector.\n",
      "                    Seed cannot be set with FidelityStatevectorKernel.\n",
      "                    Increase the number of shots to diminish the noise.\n"
     ]
    },
    {
     "name": "stdout",
     "output_type": "stream",
     "text": [
      "[QClass]  Prediction finished.\n",
      "[QClass]  Initializing Quantum Classifier\n",
      "[QClass]  Quantum simulation will be performed\n",
      "GPU optimization disabled. No device found.\n",
      "[QClass]  Fitting:  (105, 6)\n",
      "[QClass]  Feature dimension =  6\n",
      "[QClass]  Quantum backend =  AerSimulator('aer_simulator_statevector')\n",
      "[QClass]  seed =  9060\n",
      "[QClass]  SVM initiating algorithm\n",
      "[QClass]  Training...\n"
     ]
    },
    {
     "name": "stderr",
     "output_type": "stream",
     "text": [
      "WARNING:root:FidelityQuantumKernel skipped because of time.\n",
      "                    Using FidelityStatevectorKernel with AerStatevector.\n",
      "                    Seed cannot be set with FidelityStatevectorKernel.\n",
      "                    Increase the number of shots to diminish the noise.\n"
     ]
    },
    {
     "name": "stdout",
     "output_type": "stream",
     "text": [
      "[QClass]  Prediction finished.\n",
      "[QClass]  Initializing Quantum Classifier\n",
      "[QClass]  Quantum simulation will be performed\n",
      "GPU optimization disabled. No device found.\n",
      "[QClass]  Fitting:  (106, 6)\n",
      "[QClass]  Feature dimension =  6\n",
      "[QClass]  Quantum backend =  AerSimulator('aer_simulator_statevector')\n",
      "[QClass]  seed =  9060\n",
      "[QClass]  SVM initiating algorithm\n",
      "[QClass]  Training...\n"
     ]
    },
    {
     "name": "stderr",
     "output_type": "stream",
     "text": [
      "WARNING:root:FidelityQuantumKernel skipped because of time.\n",
      "                    Using FidelityStatevectorKernel with AerStatevector.\n",
      "                    Seed cannot be set with FidelityStatevectorKernel.\n",
      "                    Increase the number of shots to diminish the noise.\n"
     ]
    },
    {
     "name": "stdout",
     "output_type": "stream",
     "text": [
      "[QClass]  Prediction finished.\n",
      "[QClass]  Initializing Quantum Classifier\n",
      "[QClass]  Quantum simulation will be performed\n",
      "GPU optimization disabled. No device found.\n",
      "[QClass]  Fitting:  (105, 6)\n",
      "[QClass]  Feature dimension =  6\n",
      "[QClass]  Quantum backend =  AerSimulator('aer_simulator_statevector')\n",
      "[QClass]  seed =  9060\n",
      "[QClass]  SVM initiating algorithm\n",
      "[QClass]  Training...\n"
     ]
    },
    {
     "name": "stderr",
     "output_type": "stream",
     "text": [
      "WARNING:root:FidelityQuantumKernel skipped because of time.\n",
      "                    Using FidelityStatevectorKernel with AerStatevector.\n",
      "                    Seed cannot be set with FidelityStatevectorKernel.\n",
      "                    Increase the number of shots to diminish the noise.\n"
     ]
    },
    {
     "name": "stdout",
     "output_type": "stream",
     "text": [
      "[QClass]  Prediction finished.\n",
      "[QClass]  Initializing Quantum Classifier\n",
      "[QClass]  Quantum simulation will be performed\n",
      "GPU optimization disabled. No device found.\n",
      "[QClass]  Fitting:  (105, 6)\n",
      "[QClass]  Feature dimension =  6\n",
      "[QClass]  Quantum backend =  AerSimulator('aer_simulator_statevector')\n",
      "[QClass]  seed =  9060\n",
      "[QClass]  SVM initiating algorithm\n",
      "[QClass]  Training...\n"
     ]
    },
    {
     "name": "stderr",
     "output_type": "stream",
     "text": [
      "WARNING:root:FidelityQuantumKernel skipped because of time.\n",
      "                    Using FidelityStatevectorKernel with AerStatevector.\n",
      "                    Seed cannot be set with FidelityStatevectorKernel.\n",
      "                    Increase the number of shots to diminish the noise.\n"
     ]
    },
    {
     "name": "stdout",
     "output_type": "stream",
     "text": [
      "[QClass]  Prediction finished.\n",
      "[QClass]  Initializing Quantum Classifier\n",
      "[QClass]  Quantum simulation will be performed\n",
      "GPU optimization disabled. No device found.\n",
      "[QClass]  Fitting:  (106, 6)\n",
      "[QClass]  Feature dimension =  6\n",
      "[QClass]  Quantum backend =  AerSimulator('aer_simulator_statevector')\n",
      "[QClass]  seed =  9060\n",
      "[QClass]  SVM initiating algorithm\n",
      "[QClass]  Training...\n"
     ]
    },
    {
     "name": "stderr",
     "output_type": "stream",
     "text": [
      "WARNING:root:FidelityQuantumKernel skipped because of time.\n",
      "                    Using FidelityStatevectorKernel with AerStatevector.\n",
      "                    Seed cannot be set with FidelityStatevectorKernel.\n",
      "                    Increase the number of shots to diminish the noise.\n"
     ]
    },
    {
     "name": "stdout",
     "output_type": "stream",
     "text": [
      "[QClass]  Prediction finished.\n",
      "[QClass]  Initializing Quantum Classifier\n",
      "[QClass]  Quantum simulation will be performed\n",
      "GPU optimization disabled. No device found.\n",
      "[QClass]  Fitting:  (105, 6)\n",
      "[QClass]  Feature dimension =  6\n",
      "[QClass]  Quantum backend =  AerSimulator('aer_simulator_statevector')\n",
      "[QClass]  seed =  9060\n",
      "[QClass]  SVM initiating algorithm\n",
      "[QClass]  Training...\n"
     ]
    },
    {
     "name": "stderr",
     "output_type": "stream",
     "text": [
      "WARNING:root:FidelityQuantumKernel skipped because of time.\n",
      "                    Using FidelityStatevectorKernel with AerStatevector.\n",
      "                    Seed cannot be set with FidelityStatevectorKernel.\n",
      "                    Increase the number of shots to diminish the noise.\n"
     ]
    },
    {
     "name": "stdout",
     "output_type": "stream",
     "text": [
      "[QClass]  Prediction finished.\n",
      "[QClass]  Initializing Quantum Classifier\n",
      "[QClass]  Quantum simulation will be performed\n",
      "GPU optimization disabled. No device found.\n",
      "[QClass]  Fitting:  (105, 6)\n",
      "[QClass]  Feature dimension =  6\n",
      "[QClass]  Quantum backend =  AerSimulator('aer_simulator_statevector')\n",
      "[QClass]  seed =  9060\n",
      "[QClass]  SVM initiating algorithm\n",
      "[QClass]  Training...\n"
     ]
    },
    {
     "name": "stderr",
     "output_type": "stream",
     "text": [
      "WARNING:root:FidelityQuantumKernel skipped because of time.\n",
      "                    Using FidelityStatevectorKernel with AerStatevector.\n",
      "                    Seed cannot be set with FidelityStatevectorKernel.\n",
      "                    Increase the number of shots to diminish the noise.\n"
     ]
    },
    {
     "name": "stdout",
     "output_type": "stream",
     "text": [
      "[QClass]  Prediction finished.\n",
      "[QClass]  Initializing Quantum Classifier\n",
      "[QClass]  Quantum simulation will be performed\n",
      "GPU optimization disabled. No device found.\n",
      "[QClass]  Fitting:  (106, 6)\n",
      "[QClass]  Feature dimension =  6\n",
      "[QClass]  Quantum backend =  AerSimulator('aer_simulator_statevector')\n",
      "[QClass]  seed =  9060\n",
      "[QClass]  SVM initiating algorithm\n",
      "[QClass]  Training...\n"
     ]
    },
    {
     "name": "stderr",
     "output_type": "stream",
     "text": [
      "WARNING:root:FidelityQuantumKernel skipped because of time.\n",
      "                    Using FidelityStatevectorKernel with AerStatevector.\n",
      "                    Seed cannot be set with FidelityStatevectorKernel.\n",
      "                    Increase the number of shots to diminish the noise.\n"
     ]
    },
    {
     "name": "stdout",
     "output_type": "stream",
     "text": [
      "[QClass]  Prediction finished.\n",
      "[QClass]  Initializing Quantum Classifier\n",
      "[QClass]  Quantum simulation will be performed\n",
      "GPU optimization disabled. No device found.\n",
      "[QClass]  Fitting:  (105, 6)\n",
      "[QClass]  Feature dimension =  6\n",
      "[QClass]  Quantum backend =  AerSimulator('aer_simulator_statevector')\n",
      "[QClass]  seed =  9060\n",
      "[QClass]  SVM initiating algorithm\n",
      "[QClass]  Training...\n"
     ]
    },
    {
     "name": "stderr",
     "output_type": "stream",
     "text": [
      "WARNING:root:FidelityQuantumKernel skipped because of time.\n",
      "                    Using FidelityStatevectorKernel with AerStatevector.\n",
      "                    Seed cannot be set with FidelityStatevectorKernel.\n",
      "                    Increase the number of shots to diminish the noise.\n"
     ]
    },
    {
     "name": "stdout",
     "output_type": "stream",
     "text": [
      "[QClass]  Prediction finished.\n",
      "[QClass]  Initializing Quantum Classifier\n",
      "[QClass]  Quantum simulation will be performed\n",
      "GPU optimization disabled. No device found.\n",
      "[QClass]  Fitting:  (105, 6)\n",
      "[QClass]  Feature dimension =  6\n",
      "[QClass]  Quantum backend =  AerSimulator('aer_simulator_statevector')\n",
      "[QClass]  seed =  9060\n",
      "[QClass]  SVM initiating algorithm\n",
      "[QClass]  Training...\n"
     ]
    },
    {
     "name": "stderr",
     "output_type": "stream",
     "text": [
      "WARNING:root:FidelityQuantumKernel skipped because of time.\n",
      "                    Using FidelityStatevectorKernel with AerStatevector.\n",
      "                    Seed cannot be set with FidelityStatevectorKernel.\n",
      "                    Increase the number of shots to diminish the noise.\n"
     ]
    },
    {
     "name": "stdout",
     "output_type": "stream",
     "text": [
      "[QClass]  Prediction finished.\n",
      "[QClass]  Initializing Quantum Classifier\n",
      "[QClass]  Quantum simulation will be performed\n",
      "GPU optimization disabled. No device found.\n",
      "[QClass]  Fitting:  (106, 6)\n",
      "[QClass]  Feature dimension =  6\n",
      "[QClass]  Quantum backend =  AerSimulator('aer_simulator_statevector')\n",
      "[QClass]  seed =  9060\n",
      "[QClass]  SVM initiating algorithm\n",
      "[QClass]  Training...\n"
     ]
    },
    {
     "name": "stderr",
     "output_type": "stream",
     "text": [
      "WARNING:root:FidelityQuantumKernel skipped because of time.\n",
      "                    Using FidelityStatevectorKernel with AerStatevector.\n",
      "                    Seed cannot be set with FidelityStatevectorKernel.\n",
      "                    Increase the number of shots to diminish the noise.\n"
     ]
    },
    {
     "name": "stdout",
     "output_type": "stream",
     "text": [
      "[QClass]  Prediction finished.\n",
      "[QClass]  Initializing Quantum Classifier\n",
      "[QClass]  Quantum simulation will be performed\n",
      "GPU optimization disabled. No device found.\n",
      "[QClass]  Fitting:  (105, 6)\n",
      "[QClass]  Feature dimension =  6\n",
      "[QClass]  Quantum backend =  AerSimulator('aer_simulator_statevector')\n",
      "[QClass]  seed =  9060\n",
      "[QClass]  SVM initiating algorithm\n",
      "[QClass]  Training...\n"
     ]
    },
    {
     "name": "stderr",
     "output_type": "stream",
     "text": [
      "WARNING:root:FidelityQuantumKernel skipped because of time.\n",
      "                    Using FidelityStatevectorKernel with AerStatevector.\n",
      "                    Seed cannot be set with FidelityStatevectorKernel.\n",
      "                    Increase the number of shots to diminish the noise.\n"
     ]
    },
    {
     "name": "stdout",
     "output_type": "stream",
     "text": [
      "[QClass]  Prediction finished.\n",
      "[QClass]  Initializing Quantum Classifier\n",
      "[QClass]  Quantum simulation will be performed\n",
      "GPU optimization disabled. No device found.\n",
      "[QClass]  Fitting:  (105, 6)\n",
      "[QClass]  Feature dimension =  6\n",
      "[QClass]  Quantum backend =  AerSimulator('aer_simulator_statevector')\n",
      "[QClass]  seed =  9060\n",
      "[QClass]  SVM initiating algorithm\n",
      "[QClass]  Training...\n"
     ]
    },
    {
     "name": "stderr",
     "output_type": "stream",
     "text": [
      "WARNING:root:FidelityQuantumKernel skipped because of time.\n",
      "                    Using FidelityStatevectorKernel with AerStatevector.\n",
      "                    Seed cannot be set with FidelityStatevectorKernel.\n",
      "                    Increase the number of shots to diminish the noise.\n"
     ]
    },
    {
     "name": "stdout",
     "output_type": "stream",
     "text": [
      "[QClass]  Prediction finished.\n",
      "[QClass]  Initializing Quantum Classifier\n",
      "[QClass]  Quantum simulation will be performed\n",
      "GPU optimization disabled. No device found.\n",
      "[QClass]  Fitting:  (106, 6)\n",
      "[QClass]  Feature dimension =  6\n",
      "[QClass]  Quantum backend =  AerSimulator('aer_simulator_statevector')\n",
      "[QClass]  seed =  9060\n",
      "[QClass]  SVM initiating algorithm\n",
      "[QClass]  Training...\n"
     ]
    },
    {
     "name": "stderr",
     "output_type": "stream",
     "text": [
      "WARNING:root:FidelityQuantumKernel skipped because of time.\n",
      "                    Using FidelityStatevectorKernel with AerStatevector.\n",
      "                    Seed cannot be set with FidelityStatevectorKernel.\n",
      "                    Increase the number of shots to diminish the noise.\n"
     ]
    },
    {
     "name": "stdout",
     "output_type": "stream",
     "text": [
      "[QClass]  Prediction finished.\n",
      "[QClass]  Initializing Quantum Classifier\n",
      "[QClass]  Quantum simulation will be performed\n",
      "GPU optimization disabled. No device found.\n",
      "[QClass]  Fitting:  (105, 6)\n",
      "[QClass]  Feature dimension =  6\n",
      "[QClass]  Quantum backend =  AerSimulator('aer_simulator_statevector')\n",
      "[QClass]  seed =  9060\n",
      "[QClass]  SVM initiating algorithm\n",
      "[QClass]  Training...\n"
     ]
    },
    {
     "name": "stderr",
     "output_type": "stream",
     "text": [
      "WARNING:root:FidelityQuantumKernel skipped because of time.\n",
      "                    Using FidelityStatevectorKernel with AerStatevector.\n",
      "                    Seed cannot be set with FidelityStatevectorKernel.\n",
      "                    Increase the number of shots to diminish the noise.\n"
     ]
    },
    {
     "name": "stdout",
     "output_type": "stream",
     "text": [
      "[QClass]  Prediction finished.\n",
      "[QClass]  Initializing Quantum Classifier\n",
      "[QClass]  Quantum simulation will be performed\n",
      "GPU optimization disabled. No device found.\n",
      "[QClass]  Fitting:  (105, 6)\n",
      "[QClass]  Feature dimension =  6\n",
      "[QClass]  Quantum backend =  AerSimulator('aer_simulator_statevector')\n",
      "[QClass]  seed =  9060\n",
      "[QClass]  SVM initiating algorithm\n",
      "[QClass]  Training...\n"
     ]
    },
    {
     "name": "stderr",
     "output_type": "stream",
     "text": [
      "WARNING:root:FidelityQuantumKernel skipped because of time.\n",
      "                    Using FidelityStatevectorKernel with AerStatevector.\n",
      "                    Seed cannot be set with FidelityStatevectorKernel.\n",
      "                    Increase the number of shots to diminish the noise.\n"
     ]
    },
    {
     "name": "stdout",
     "output_type": "stream",
     "text": [
      "[QClass]  Prediction finished.\n",
      "[QClass]  Initializing Quantum Classifier\n",
      "[QClass]  Quantum simulation will be performed\n",
      "GPU optimization disabled. No device found.\n",
      "[QClass]  Fitting:  (106, 6)\n",
      "[QClass]  Feature dimension =  6\n",
      "[QClass]  Quantum backend =  AerSimulator('aer_simulator_statevector')\n",
      "[QClass]  seed =  9060\n",
      "[QClass]  SVM initiating algorithm\n",
      "[QClass]  Training...\n"
     ]
    },
    {
     "name": "stderr",
     "output_type": "stream",
     "text": [
      "WARNING:root:FidelityQuantumKernel skipped because of time.\n",
      "                    Using FidelityStatevectorKernel with AerStatevector.\n",
      "                    Seed cannot be set with FidelityStatevectorKernel.\n",
      "                    Increase the number of shots to diminish the noise.\n"
     ]
    },
    {
     "name": "stdout",
     "output_type": "stream",
     "text": [
      "[QClass]  Prediction finished.\n",
      "[QClass]  Initializing Quantum Classifier\n",
      "[QClass]  Quantum simulation will be performed\n",
      "GPU optimization disabled. No device found.\n",
      "[QClass]  Fitting:  (105, 6)\n",
      "[QClass]  Feature dimension =  6\n",
      "[QClass]  Quantum backend =  AerSimulator('aer_simulator_statevector')\n",
      "[QClass]  seed =  9060\n",
      "[QClass]  SVM initiating algorithm\n",
      "[QClass]  Training...\n"
     ]
    },
    {
     "name": "stderr",
     "output_type": "stream",
     "text": [
      "WARNING:root:FidelityQuantumKernel skipped because of time.\n",
      "                    Using FidelityStatevectorKernel with AerStatevector.\n",
      "                    Seed cannot be set with FidelityStatevectorKernel.\n",
      "                    Increase the number of shots to diminish the noise.\n"
     ]
    },
    {
     "name": "stdout",
     "output_type": "stream",
     "text": [
      "[QClass]  Prediction finished.\n",
      "[QClass]  Initializing Quantum Classifier\n",
      "[QClass]  Quantum simulation will be performed\n",
      "GPU optimization disabled. No device found.\n",
      "[QClass]  Fitting:  (105, 6)\n",
      "[QClass]  Feature dimension =  6\n",
      "[QClass]  Quantum backend =  AerSimulator('aer_simulator_statevector')\n",
      "[QClass]  seed =  9060\n",
      "[QClass]  SVM initiating algorithm\n",
      "[QClass]  Training...\n"
     ]
    },
    {
     "name": "stderr",
     "output_type": "stream",
     "text": [
      "WARNING:root:FidelityQuantumKernel skipped because of time.\n",
      "                    Using FidelityStatevectorKernel with AerStatevector.\n",
      "                    Seed cannot be set with FidelityStatevectorKernel.\n",
      "                    Increase the number of shots to diminish the noise.\n"
     ]
    },
    {
     "name": "stdout",
     "output_type": "stream",
     "text": [
      "[QClass]  Prediction finished.\n",
      "[QClass]  Initializing Quantum Classifier\n",
      "[QClass]  Quantum simulation will be performed\n",
      "GPU optimization disabled. No device found.\n",
      "[QClass]  Fitting:  (106, 6)\n",
      "[QClass]  Feature dimension =  6\n",
      "[QClass]  Quantum backend =  AerSimulator('aer_simulator_statevector')\n",
      "[QClass]  seed =  9060\n",
      "[QClass]  SVM initiating algorithm\n",
      "[QClass]  Training...\n"
     ]
    },
    {
     "name": "stderr",
     "output_type": "stream",
     "text": [
      "WARNING:root:FidelityQuantumKernel skipped because of time.\n",
      "                    Using FidelityStatevectorKernel with AerStatevector.\n",
      "                    Seed cannot be set with FidelityStatevectorKernel.\n",
      "                    Increase the number of shots to diminish the noise.\n"
     ]
    },
    {
     "name": "stdout",
     "output_type": "stream",
     "text": [
      "[QClass]  Prediction finished.\n",
      "[QClass]  Initializing Quantum Classifier\n",
      "[QClass]  Quantum simulation will be performed\n",
      "GPU optimization disabled. No device found.\n",
      "[QClass]  Fitting:  (105, 6)\n",
      "[QClass]  Feature dimension =  6\n",
      "[QClass]  Quantum backend =  AerSimulator('aer_simulator_statevector')\n",
      "[QClass]  seed =  9060\n",
      "[QClass]  SVM initiating algorithm\n",
      "[QClass]  Training...\n"
     ]
    },
    {
     "name": "stderr",
     "output_type": "stream",
     "text": [
      "WARNING:root:FidelityQuantumKernel skipped because of time.\n",
      "                    Using FidelityStatevectorKernel with AerStatevector.\n",
      "                    Seed cannot be set with FidelityStatevectorKernel.\n",
      "                    Increase the number of shots to diminish the noise.\n"
     ]
    },
    {
     "name": "stdout",
     "output_type": "stream",
     "text": [
      "[QClass]  Prediction finished.\n",
      "[QClass]  Initializing Quantum Classifier\n",
      "[QClass]  Quantum simulation will be performed\n",
      "GPU optimization disabled. No device found.\n",
      "[QClass]  Fitting:  (105, 6)\n",
      "[QClass]  Feature dimension =  6\n",
      "[QClass]  Quantum backend =  AerSimulator('aer_simulator_statevector')\n",
      "[QClass]  seed =  9060\n",
      "[QClass]  SVM initiating algorithm\n",
      "[QClass]  Training...\n"
     ]
    },
    {
     "name": "stderr",
     "output_type": "stream",
     "text": [
      "WARNING:root:FidelityQuantumKernel skipped because of time.\n",
      "                    Using FidelityStatevectorKernel with AerStatevector.\n",
      "                    Seed cannot be set with FidelityStatevectorKernel.\n",
      "                    Increase the number of shots to diminish the noise.\n"
     ]
    },
    {
     "name": "stdout",
     "output_type": "stream",
     "text": [
      "[QClass]  Prediction finished.\n",
      "[QClass]  Initializing Quantum Classifier\n",
      "[QClass]  Quantum simulation will be performed\n",
      "GPU optimization disabled. No device found.\n",
      "[QClass]  Fitting:  (106, 6)\n",
      "[QClass]  Feature dimension =  6\n",
      "[QClass]  Quantum backend =  AerSimulator('aer_simulator_statevector')\n",
      "[QClass]  seed =  9060\n",
      "[QClass]  SVM initiating algorithm\n",
      "[QClass]  Training...\n"
     ]
    },
    {
     "name": "stderr",
     "output_type": "stream",
     "text": [
      "WARNING:root:FidelityQuantumKernel skipped because of time.\n",
      "                    Using FidelityStatevectorKernel with AerStatevector.\n",
      "                    Seed cannot be set with FidelityStatevectorKernel.\n",
      "                    Increase the number of shots to diminish the noise.\n"
     ]
    },
    {
     "name": "stdout",
     "output_type": "stream",
     "text": [
      "[QClass]  Prediction finished.\n",
      "[QClass]  Initializing Quantum Classifier\n",
      "[QClass]  Quantum simulation will be performed\n",
      "GPU optimization disabled. No device found.\n",
      "[QClass]  Fitting:  (105, 6)\n",
      "[QClass]  Feature dimension =  6\n",
      "[QClass]  Quantum backend =  AerSimulator('aer_simulator_statevector')\n",
      "[QClass]  seed =  9060\n",
      "[QClass]  SVM initiating algorithm\n",
      "[QClass]  Training...\n"
     ]
    },
    {
     "name": "stderr",
     "output_type": "stream",
     "text": [
      "WARNING:root:FidelityQuantumKernel skipped because of time.\n",
      "                    Using FidelityStatevectorKernel with AerStatevector.\n",
      "                    Seed cannot be set with FidelityStatevectorKernel.\n",
      "                    Increase the number of shots to diminish the noise.\n"
     ]
    },
    {
     "name": "stdout",
     "output_type": "stream",
     "text": [
      "[QClass]  Prediction finished.\n",
      "[QClass]  Initializing Quantum Classifier\n",
      "[QClass]  Quantum simulation will be performed\n",
      "GPU optimization disabled. No device found.\n",
      "[QClass]  Fitting:  (105, 6)\n",
      "[QClass]  Feature dimension =  6\n",
      "[QClass]  Quantum backend =  AerSimulator('aer_simulator_statevector')\n",
      "[QClass]  seed =  9060\n",
      "[QClass]  SVM initiating algorithm\n",
      "[QClass]  Training...\n"
     ]
    },
    {
     "name": "stderr",
     "output_type": "stream",
     "text": [
      "WARNING:root:FidelityQuantumKernel skipped because of time.\n",
      "                    Using FidelityStatevectorKernel with AerStatevector.\n",
      "                    Seed cannot be set with FidelityStatevectorKernel.\n",
      "                    Increase the number of shots to diminish the noise.\n"
     ]
    },
    {
     "name": "stdout",
     "output_type": "stream",
     "text": [
      "[QClass]  Prediction finished.\n",
      "[QClass]  Initializing Quantum Classifier\n",
      "[QClass]  Quantum simulation will be performed\n",
      "GPU optimization disabled. No device found.\n",
      "[QClass]  Fitting:  (106, 6)\n",
      "[QClass]  Feature dimension =  6\n",
      "[QClass]  Quantum backend =  AerSimulator('aer_simulator_statevector')\n",
      "[QClass]  seed =  9060\n",
      "[QClass]  SVM initiating algorithm\n",
      "[QClass]  Training...\n"
     ]
    },
    {
     "name": "stderr",
     "output_type": "stream",
     "text": [
      "WARNING:root:FidelityQuantumKernel skipped because of time.\n",
      "                    Using FidelityStatevectorKernel with AerStatevector.\n",
      "                    Seed cannot be set with FidelityStatevectorKernel.\n",
      "                    Increase the number of shots to diminish the noise.\n"
     ]
    },
    {
     "name": "stdout",
     "output_type": "stream",
     "text": [
      "[QClass]  Prediction finished.\n",
      "[QClass]  Initializing Quantum Classifier\n",
      "[QClass]  Quantum simulation will be performed\n",
      "GPU optimization disabled. No device found.\n",
      "[QClass]  Fitting:  (105, 6)\n",
      "[QClass]  Feature dimension =  6\n",
      "[QClass]  Quantum backend =  AerSimulator('aer_simulator_statevector')\n",
      "[QClass]  seed =  9060\n",
      "[QClass]  SVM initiating algorithm\n",
      "[QClass]  Training...\n"
     ]
    },
    {
     "name": "stderr",
     "output_type": "stream",
     "text": [
      "WARNING:root:FidelityQuantumKernel skipped because of time.\n",
      "                    Using FidelityStatevectorKernel with AerStatevector.\n",
      "                    Seed cannot be set with FidelityStatevectorKernel.\n",
      "                    Increase the number of shots to diminish the noise.\n"
     ]
    },
    {
     "name": "stdout",
     "output_type": "stream",
     "text": [
      "[QClass]  Prediction finished.\n",
      "[QClass]  Initializing Quantum Classifier\n",
      "[QClass]  Quantum simulation will be performed\n",
      "GPU optimization disabled. No device found.\n",
      "[QClass]  Fitting:  (105, 6)\n",
      "[QClass]  Feature dimension =  6\n",
      "[QClass]  Quantum backend =  AerSimulator('aer_simulator_statevector')\n",
      "[QClass]  seed =  9060\n",
      "[QClass]  SVM initiating algorithm\n",
      "[QClass]  Training...\n"
     ]
    },
    {
     "name": "stderr",
     "output_type": "stream",
     "text": [
      "WARNING:root:FidelityQuantumKernel skipped because of time.\n",
      "                    Using FidelityStatevectorKernel with AerStatevector.\n",
      "                    Seed cannot be set with FidelityStatevectorKernel.\n",
      "                    Increase the number of shots to diminish the noise.\n"
     ]
    },
    {
     "name": "stdout",
     "output_type": "stream",
     "text": [
      "[QClass]  Prediction finished.\n",
      "[QClass]  Initializing Quantum Classifier\n",
      "[QClass]  Quantum simulation will be performed\n",
      "GPU optimization disabled. No device found.\n",
      "[QClass]  Fitting:  (106, 6)\n",
      "[QClass]  Feature dimension =  6\n",
      "[QClass]  Quantum backend =  AerSimulator('aer_simulator_statevector')\n",
      "[QClass]  seed =  9060\n",
      "[QClass]  SVM initiating algorithm\n",
      "[QClass]  Training...\n"
     ]
    },
    {
     "name": "stderr",
     "output_type": "stream",
     "text": [
      "WARNING:root:FidelityQuantumKernel skipped because of time.\n",
      "                    Using FidelityStatevectorKernel with AerStatevector.\n",
      "                    Seed cannot be set with FidelityStatevectorKernel.\n",
      "                    Increase the number of shots to diminish the noise.\n"
     ]
    },
    {
     "name": "stdout",
     "output_type": "stream",
     "text": [
      "[QClass]  Prediction finished.\n",
      "[QClass]  Initializing Quantum Classifier\n",
      "[QClass]  Quantum simulation will be performed\n",
      "GPU optimization disabled. No device found.\n",
      "[QClass]  Fitting:  (158, 6)\n",
      "[QClass]  Feature dimension =  6\n",
      "[QClass]  Quantum backend =  AerSimulator('aer_simulator_statevector')\n",
      "[QClass]  seed =  9060\n",
      "[QClass]  SVM initiating algorithm\n",
      "[QClass]  Training...\n",
      "{'pca_spd__n_components': 3, 'quanticsvm__C': 1, 'quanticsvm__gamma': 'auto', 'quanticsvm__gen_feature_map': <function gen_z_feature_map.<locals>.<lambda> at 0x78c1d94f7be0>, 'tangentspace__metric': 'riemann'}\n",
      "[QClass]  Prediction finished.\n",
      "1.0\n"
     ]
    }
   ],
   "source": [
    "# Score with gridsearch\n",
    "# Leave 20 percent out, to avoid biases in the choice of the hyperparameter\n",
    "# (how well this tuned pipeline is doing with new data?)\n",
    "X_train, X_test, y_train, y_test = train_test_split(X, y, stratify=y, test_size=0.1)\n",
    "params = {\n",
    "    \"quanticsvm__C\": [0.1, 1, 10],\n",
    "    \"quanticsvm__gamma\": [\"auto\", \"scale\"],\n",
    "    \"quanticsvm__gen_feature_map\": [gen_z_feature_map(), gen_x_feature_map()],\n",
    "    \"tangentspace__metric\": [\"riemann\", \"logeuclid\"],\n",
    "    \"pca_spd__n_components\": [2, 3]\n",
    "}\n",
    "gs = GridSearchCV(pipe_ts_qsvm2, params, scoring=\"balanced_accuracy\", cv=StratifiedKFold(n_splits=3))\n",
    "gs.fit(X_train, y_train)\n",
    "print(gs.best_params_)\n",
    "score = gs.score(X_test, y_test)\n",
    "print(score)"
   ]
  },
  {
   "cell_type": "code",
   "execution_count": 11,
   "metadata": {},
   "outputs": [
    {
     "data": {
      "text/plain": [
       "0.9876543209876543"
      ]
     },
     "execution_count": 11,
     "metadata": {},
     "output_type": "execute_result"
    }
   ],
   "source": [
    "gs.best_score_"
   ]
  },
  {
   "cell_type": "code",
   "execution_count": 38,
   "metadata": {},
   "outputs": [
    {
     "name": "stderr",
     "output_type": "stream",
     "text": [
      "WARNING:root:FidelityQuantumKernel skipped because of time.\n",
      "                    Using FidelityStatevectorKernel with AerStatevector.\n",
      "                    Seed cannot be set with FidelityStatevectorKernel.\n",
      "                    Increase the number of shots to diminish the noise.\n"
     ]
    },
    {
     "name": "stdout",
     "output_type": "stream",
     "text": [
      "[QClass]  Initializing Quantum Classifier\n",
      "[QClass]  Initializing Quantum Classifier\n",
      "[QClass]  Quantum simulation will be performed\n",
      "GPU optimization disabled. No device found.\n",
      "[QClass]  Fitting:  (117, 3)\n",
      "[QClass]  Feature dimension =  3\n",
      "[QClass]  Quantum backend =  AerSimulator('aer_simulator_statevector')\n",
      "[QClass]  seed =  869034\n",
      "[QClass]  SVM initiating algorithm\n",
      "[QClass]  Training...\n"
     ]
    },
    {
     "name": "stdout",
     "output_type": "stream",
     "text": [
      "[QClass]  Prediction finished.\n"
     ]
    },
    {
     "name": "stderr",
     "output_type": "stream",
     "text": [
      "WARNING:root:FidelityQuantumKernel skipped because of time.\n",
      "                    Using FidelityStatevectorKernel with AerStatevector.\n",
      "                    Seed cannot be set with FidelityStatevectorKernel.\n",
      "                    Increase the number of shots to diminish the noise.\n"
     ]
    },
    {
     "name": "stdout",
     "output_type": "stream",
     "text": [
      "[QClass]  Prediction finished.\n",
      "[QClass]  Initializing Quantum Classifier\n",
      "[QClass]  Quantum simulation will be performed\n",
      "GPU optimization disabled. No device found.\n",
      "[QClass]  Fitting:  (117, 3)\n",
      "[QClass]  Feature dimension =  3\n",
      "[QClass]  Quantum backend =  AerSimulator('aer_simulator_statevector')\n",
      "[QClass]  seed =  869034\n",
      "[QClass]  SVM initiating algorithm\n",
      "[QClass]  Training...\n",
      "[QClass]  Prediction finished.\n"
     ]
    },
    {
     "name": "stderr",
     "output_type": "stream",
     "text": [
      "WARNING:root:FidelityQuantumKernel skipped because of time.\n",
      "                    Using FidelityStatevectorKernel with AerStatevector.\n",
      "                    Seed cannot be set with FidelityStatevectorKernel.\n",
      "                    Increase the number of shots to diminish the noise.\n"
     ]
    },
    {
     "name": "stdout",
     "output_type": "stream",
     "text": [
      "[QClass]  Prediction finished.\n",
      "[QClass]  Initializing Quantum Classifier\n",
      "[QClass]  Quantum simulation will be performed\n",
      "GPU optimization disabled. No device found.\n",
      "[QClass]  Fitting:  (118, 3)\n",
      "[QClass]  Feature dimension =  3\n",
      "[QClass]  Quantum backend =  AerSimulator('aer_simulator_statevector')\n",
      "[QClass]  seed =  869034\n",
      "[QClass]  SVM initiating algorithm\n",
      "[QClass]  Training...\n",
      "[QClass]  Prediction finished.\n",
      "[QClass]  Prediction finished.\n"
     ]
    },
    {
     "data": {
      "text/plain": [
       "0.9331417624521073"
      ]
     },
     "execution_count": 38,
     "metadata": {},
     "output_type": "execute_result"
    }
   ],
   "source": [
    "\n",
    "pipe_ens = make_pipeline(\n",
    "    PCA_SPD(n_components=2),\n",
    "    TangentSpace(metric='logeuclid'),\n",
    "    JudgeClassifier(\n",
    "        clfs=[LDA(),QuanticSVM(gen_feature_map=gen_x_feature_map(), pegasos=False)],\n",
    "        judge=RandomForestClassifier(n_estimators=100)\n",
    "    )\n",
    ")\n",
    "cross_val_score(pipe_ens, X, y, scoring=\"balanced_accuracy\", cv=StratifiedKFold(n_splits=3)).mean()"
   ]
  },
  {
   "cell_type": "code",
   "execution_count": 59,
   "metadata": {},
   "outputs": [
    {
     "name": "stderr",
     "output_type": "stream",
     "text": [
      "WARNING:root:FidelityQuantumKernel skipped because of time.\n",
      "                    Using FidelityStatevectorKernel with AerStatevector.\n",
      "                    Seed cannot be set with FidelityStatevectorKernel.\n",
      "                    Increase the number of shots to diminish the noise.\n"
     ]
    },
    {
     "name": "stdout",
     "output_type": "stream",
     "text": [
      "[QClass]  Quantum simulation will be performed\n",
      "GPU optimization disabled. No device found.\n",
      "[QClass]  Fitting:  (17, 3)\n",
      "[QClass]  Feature dimension =  3\n",
      "[QClass]  Quantum backend =  AerSimulator('aer_simulator_statevector')\n",
      "[QClass]  seed =  885446\n",
      "[QClass]  SVM initiating algorithm\n",
      "[QClass]  Training...\n",
      "[QClass]  Prediction finished.\n",
      "0.9374208860759494\n",
      "0.9\n",
      "0.9119496855345912\n",
      "[0. 0. 0. 0. 1. 1. 1. 1. 1. 1. 1. 1. 0. 1. 0. 0. 0. 0. 1. 1. 0. 1. 1. 1.\n",
      " 1. 0. 1. 1. 0. 0. 1. 1. 1. 0. 0. 0. 1. 0. 0. 0. 0. 0. 0. 1. 0. 0. 0. 0.\n",
      " 1. 1. 0. 1. 1. 0. 0. 1. 0. 1. 0. 1. 1. 0. 0. 1. 0. 1. 0. 1. 1. 0. 0. 1.\n",
      " 0. 1. 1. 0. 1. 0. 1. 1. 0. 0. 0. 0. 1. 1. 1. 1. 0. 1. 1. 0. 0. 1. 1. 1.\n",
      " 0. 0. 0. 0. 0. 1. 0. 0. 0. 1. 0. 1. 0. 1. 0. 1. 0. 0. 0. 0. 0. 1. 0. 0.\n",
      " 0. 0. 0. 1. 0. 0. 0. 0. 0. 1. 0. 0. 1. 1. 1. 0. 0. 0. 0. 0. 1. 1. 0. 0.\n",
      " 1. 0. 0. 1. 0. 1. 1. 0. 1. 1. 1. 1. 1. 1. 0.]\n",
      "[0 0 0 0 1 1 1 1 1 1 1 1 0 1 0 0 0 0 1 1 0 1 1 1 1 0 1 1 0 0 0 1 1 0 0 0 1\n",
      " 0 0 0 0 0 0 1 0 0 0 0 1 1 0 0 1 0 0 1 0 1 0 1 0 0 0 1 0 1 0 1 0 0 0 1 0 1\n",
      " 0 0 1 0 1 1 0 0 0 0 1 1 1 1 0 1 0 0 0 1 1 1 0 0 0 0 0 1 0 0 0 0 0 1 0 1 0\n",
      " 1 0 0 0 0 1 1 1 0 0 0 0 1 1 0 0 0 0 1 0 0 1 1 1 0 0 0 0 0 1 0 0 0 0 0 0 0\n",
      " 0 1 1 0 1 1 0 1 1 1 0]\n"
     ]
    }
   ],
   "source": [
    "X_train, X_test, y_train, y_test = train_test_split(X, y, stratify=y, test_size=0.9)\n",
    "y_pred_classical = pipe_classical.fit(X_train, y_train).predict(X_test)\n",
    "y_pred_quantum = pipe_ts_qsvm2.fit(X_train, y_train).predict(X_test)\n",
    "from sklearn.metrics import balanced_accuracy_score, jaccard_score\n",
    "score_classical = balanced_accuracy_score(y_test, y_pred_classical)\n",
    "print(score_classical)\n",
    "score_quantum = balanced_accuracy_score(y_test, y_pred_quantum)\n",
    "print(score_quantum)\n",
    "print((y_pred_classical == y_pred_quantum).sum() / len(X_test))\n",
    "print(y_pred_classical)\n",
    "print(y_pred_quantum)"
   ]
  }
 ],
 "metadata": {
  "kernelspec": {
   "display_name": "base",
   "language": "python",
   "name": "python3"
  },
  "language_info": {
   "codemirror_mode": {
    "name": "ipython",
    "version": 3
   },
   "file_extension": ".py",
   "mimetype": "text/x-python",
   "name": "python",
   "nbconvert_exporter": "python",
   "pygments_lexer": "ipython3",
   "version": "3.10.13"
  }
 },
 "nbformat": 4,
 "nbformat_minor": 2
}
