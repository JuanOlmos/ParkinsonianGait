{
 "cells": [
  {
   "cell_type": "markdown",
   "metadata": {},
   "source": [
    "# Required import"
   ]
  },
  {
   "cell_type": "code",
   "execution_count": 1,
   "metadata": {},
   "outputs": [
    {
     "name": "stdout",
     "output_type": "stream",
     "text": [
      "Requirement already satisfied: pyriemann_qiskit in /usr/local/python/3.12.1/lib/python3.12/site-packages (0.3.0)\n",
      "Requirement already satisfied: numpy<1.27 in /usr/local/python/3.12.1/lib/python3.12/site-packages (from pyriemann_qiskit) (1.26.4)\n",
      "Requirement already satisfied: cython in /usr/local/python/3.12.1/lib/python3.12/site-packages (from pyriemann_qiskit) (3.0.11)\n",
      "Requirement already satisfied: pyriemann==0.6 in /usr/local/python/3.12.1/lib/python3.12/site-packages (from pyriemann_qiskit) (0.6)\n",
      "Requirement already satisfied: qiskit==1.* in /usr/local/python/3.12.1/lib/python3.12/site-packages (from pyriemann_qiskit) (1.2.4)\n",
      "Requirement already satisfied: qiskit-algorithms==0.3.0 in /usr/local/python/3.12.1/lib/python3.12/site-packages (from pyriemann_qiskit) (0.3.0)\n",
      "Requirement already satisfied: qiskit-machine-learning==0.7.2 in /usr/local/python/3.12.1/lib/python3.12/site-packages (from pyriemann_qiskit) (0.7.2)\n",
      "Requirement already satisfied: qiskit-ibm-runtime==0.23.0 in /usr/local/python/3.12.1/lib/python3.12/site-packages (from pyriemann_qiskit) (0.23.0)\n",
      "Requirement already satisfied: qiskit-optimization==0.6.1 in /usr/local/python/3.12.1/lib/python3.12/site-packages (from pyriemann_qiskit) (0.6.1)\n",
      "Requirement already satisfied: qiskit-aer==0.14.1 in /usr/local/python/3.12.1/lib/python3.12/site-packages (from pyriemann_qiskit) (0.14.1)\n",
      "Requirement already satisfied: cvxpy==1.4.2 in /usr/local/python/3.12.1/lib/python3.12/site-packages (from pyriemann_qiskit) (1.4.2)\n",
      "Requirement already satisfied: scipy==1.13.1 in /usr/local/python/3.12.1/lib/python3.12/site-packages (from pyriemann_qiskit) (1.13.1)\n",
      "Requirement already satisfied: docplex==2.25.236 in /usr/local/python/3.12.1/lib/python3.12/site-packages (from pyriemann_qiskit) (2.25.236)\n",
      "Requirement already satisfied: grpcio-status==1.62.1 in /usr/local/python/3.12.1/lib/python3.12/site-packages (from pyriemann_qiskit) (1.62.1)\n",
      "Requirement already satisfied: protobuf==4.25.3 in /usr/local/python/3.12.1/lib/python3.12/site-packages (from pyriemann_qiskit) (4.25.3)\n",
      "Requirement already satisfied: firebase-admin==6.5.0 in /usr/local/python/3.12.1/lib/python3.12/site-packages (from pyriemann_qiskit) (6.5.0)\n",
      "Requirement already satisfied: scikit-learn==1.4.2 in /usr/local/python/3.12.1/lib/python3.12/site-packages (from pyriemann_qiskit) (1.4.2)\n",
      "Requirement already satisfied: tqdm in /usr/local/python/3.12.1/lib/python3.12/site-packages (from pyriemann_qiskit) (4.66.5)\n",
      "Requirement already satisfied: pandas in /home/codespace/.local/lib/python3.12/site-packages (from pyriemann_qiskit) (2.2.3)\n",
      "Requirement already satisfied: osqp>=0.6.2 in /usr/local/python/3.12.1/lib/python3.12/site-packages (from cvxpy==1.4.2->pyriemann_qiskit) (0.6.7.post1)\n",
      "Requirement already satisfied: ecos>=2 in /usr/local/python/3.12.1/lib/python3.12/site-packages (from cvxpy==1.4.2->pyriemann_qiskit) (2.0.14)\n",
      "Requirement already satisfied: clarabel>=0.5.0 in /usr/local/python/3.12.1/lib/python3.12/site-packages (from cvxpy==1.4.2->pyriemann_qiskit) (0.9.0)\n",
      "Requirement already satisfied: scs>=3.0 in /usr/local/python/3.12.1/lib/python3.12/site-packages (from cvxpy==1.4.2->pyriemann_qiskit) (3.2.7)\n",
      "Requirement already satisfied: pybind11 in /usr/local/python/3.12.1/lib/python3.12/site-packages (from cvxpy==1.4.2->pyriemann_qiskit) (2.13.6)\n",
      "Requirement already satisfied: six in /home/codespace/.local/lib/python3.12/site-packages (from docplex==2.25.236->pyriemann_qiskit) (1.16.0)\n",
      "Requirement already satisfied: cachecontrol>=0.12.6 in /usr/local/python/3.12.1/lib/python3.12/site-packages (from firebase-admin==6.5.0->pyriemann_qiskit) (0.14.0)\n",
      "Requirement already satisfied: google-api-python-client>=1.7.8 in /usr/local/python/3.12.1/lib/python3.12/site-packages (from firebase-admin==6.5.0->pyriemann_qiskit) (2.147.0)\n",
      "Requirement already satisfied: google-cloud-storage>=1.37.1 in /usr/local/python/3.12.1/lib/python3.12/site-packages (from firebase-admin==6.5.0->pyriemann_qiskit) (2.18.2)\n",
      "Requirement already satisfied: pyjwt>=2.5.0 in /usr/local/python/3.12.1/lib/python3.12/site-packages (from pyjwt[crypto]>=2.5.0->firebase-admin==6.5.0->pyriemann_qiskit) (2.9.0)\n",
      "Requirement already satisfied: google-api-core<3.0.0dev,>=1.22.1 in /usr/local/python/3.12.1/lib/python3.12/site-packages (from google-api-core[grpc]<3.0.0dev,>=1.22.1; platform_python_implementation != \"PyPy\"->firebase-admin==6.5.0->pyriemann_qiskit) (2.20.0)\n",
      "Requirement already satisfied: google-cloud-firestore>=2.9.1 in /usr/local/python/3.12.1/lib/python3.12/site-packages (from firebase-admin==6.5.0->pyriemann_qiskit) (2.19.0)\n",
      "Requirement already satisfied: grpcio>=1.62.1 in /usr/local/python/3.12.1/lib/python3.12/site-packages (from grpcio-status==1.62.1->pyriemann_qiskit) (1.66.2)\n",
      "Requirement already satisfied: googleapis-common-protos>=1.5.5 in /usr/local/python/3.12.1/lib/python3.12/site-packages (from grpcio-status==1.62.1->pyriemann_qiskit) (1.65.0)\n",
      "Requirement already satisfied: joblib in /home/codespace/.local/lib/python3.12/site-packages (from pyriemann==0.6->pyriemann_qiskit) (1.4.2)\n",
      "Requirement already satisfied: matplotlib in /home/codespace/.local/lib/python3.12/site-packages (from pyriemann==0.6->pyriemann_qiskit) (3.9.2)\n",
      "Requirement already satisfied: rustworkx>=0.15.0 in /usr/local/python/3.12.1/lib/python3.12/site-packages (from qiskit==1.*->pyriemann_qiskit) (0.15.1)\n",
      "Requirement already satisfied: sympy>=1.3 in /home/codespace/.local/lib/python3.12/site-packages (from qiskit==1.*->pyriemann_qiskit) (1.12)\n",
      "Requirement already satisfied: dill>=0.3 in /usr/local/python/3.12.1/lib/python3.12/site-packages (from qiskit==1.*->pyriemann_qiskit) (0.3.9)\n",
      "Requirement already satisfied: python-dateutil>=2.8.0 in /home/codespace/.local/lib/python3.12/site-packages (from qiskit==1.*->pyriemann_qiskit) (2.9.0.post0)\n",
      "Requirement already satisfied: stevedore>=3.0.0 in /usr/local/python/3.12.1/lib/python3.12/site-packages (from qiskit==1.*->pyriemann_qiskit) (5.3.0)\n",
      "Requirement already satisfied: typing-extensions in /home/codespace/.local/lib/python3.12/site-packages (from qiskit==1.*->pyriemann_qiskit) (4.9.0)\n",
      "Requirement already satisfied: symengine<0.14,>=0.11 in /usr/local/python/3.12.1/lib/python3.12/site-packages (from qiskit==1.*->pyriemann_qiskit) (0.13.0)\n",
      "Requirement already satisfied: psutil>=5 in /home/codespace/.local/lib/python3.12/site-packages (from qiskit-aer==0.14.1->pyriemann_qiskit) (6.0.0)\n",
      "Requirement already satisfied: requests>=2.19 in /home/codespace/.local/lib/python3.12/site-packages (from qiskit-ibm-runtime==0.23.0->pyriemann_qiskit) (2.32.3)\n",
      "Requirement already satisfied: requests-ntlm>=1.1.0 in /usr/local/python/3.12.1/lib/python3.12/site-packages (from qiskit-ibm-runtime==0.23.0->pyriemann_qiskit) (1.3.0)\n",
      "Requirement already satisfied: urllib3>=1.21.1 in /home/codespace/.local/lib/python3.12/site-packages (from qiskit-ibm-runtime==0.23.0->pyriemann_qiskit) (2.2.3)\n",
      "Requirement already satisfied: websocket-client>=1.5.1 in /home/codespace/.local/lib/python3.12/site-packages (from qiskit-ibm-runtime==0.23.0->pyriemann_qiskit) (1.8.0)\n",
      "Requirement already satisfied: ibm-platform-services>=0.22.6 in /usr/local/python/3.12.1/lib/python3.12/site-packages (from qiskit-ibm-runtime==0.23.0->pyriemann_qiskit) (0.57.1)\n",
      "Requirement already satisfied: pydantic in /usr/local/python/3.12.1/lib/python3.12/site-packages (from qiskit-ibm-runtime==0.23.0->pyriemann_qiskit) (2.9.2)\n",
      "Requirement already satisfied: fastdtw in /usr/local/python/3.12.1/lib/python3.12/site-packages (from qiskit-machine-learning==0.7.2->pyriemann_qiskit) (0.3.4)\n",
      "Requirement already satisfied: setuptools>=40.1.0 in /home/codespace/.local/lib/python3.12/site-packages (from qiskit-machine-learning==0.7.2->pyriemann_qiskit) (75.1.0)\n",
      "Requirement already satisfied: networkx>=2.6.3 in /home/codespace/.local/lib/python3.12/site-packages (from qiskit-optimization==0.6.1->pyriemann_qiskit) (3.2.1)\n",
      "Requirement already satisfied: threadpoolctl>=2.0.0 in /home/codespace/.local/lib/python3.12/site-packages (from scikit-learn==1.4.2->pyriemann_qiskit) (3.5.0)\n",
      "Requirement already satisfied: pytz>=2020.1 in /home/codespace/.local/lib/python3.12/site-packages (from pandas->pyriemann_qiskit) (2024.2)\n",
      "Requirement already satisfied: tzdata>=2022.7 in /home/codespace/.local/lib/python3.12/site-packages (from pandas->pyriemann_qiskit) (2024.1)\n",
      "Requirement already satisfied: msgpack<2.0.0,>=0.5.2 in /usr/local/python/3.12.1/lib/python3.12/site-packages (from cachecontrol>=0.12.6->firebase-admin==6.5.0->pyriemann_qiskit) (1.1.0)\n",
      "Requirement already satisfied: proto-plus<2.0.0dev,>=1.22.3 in /usr/local/python/3.12.1/lib/python3.12/site-packages (from google-api-core<3.0.0dev,>=1.22.1->google-api-core[grpc]<3.0.0dev,>=1.22.1; platform_python_implementation != \"PyPy\"->firebase-admin==6.5.0->pyriemann_qiskit) (1.24.0)\n",
      "Requirement already satisfied: google-auth<3.0.dev0,>=2.14.1 in /usr/local/python/3.12.1/lib/python3.12/site-packages (from google-api-core<3.0.0dev,>=1.22.1->google-api-core[grpc]<3.0.0dev,>=1.22.1; platform_python_implementation != \"PyPy\"->firebase-admin==6.5.0->pyriemann_qiskit) (2.35.0)\n",
      "Requirement already satisfied: httplib2<1.dev0,>=0.19.0 in /usr/local/python/3.12.1/lib/python3.12/site-packages (from google-api-python-client>=1.7.8->firebase-admin==6.5.0->pyriemann_qiskit) (0.22.0)\n",
      "Requirement already satisfied: google-auth-httplib2<1.0.0,>=0.2.0 in /usr/local/python/3.12.1/lib/python3.12/site-packages (from google-api-python-client>=1.7.8->firebase-admin==6.5.0->pyriemann_qiskit) (0.2.0)\n",
      "Requirement already satisfied: uritemplate<5,>=3.0.1 in /usr/local/python/3.12.1/lib/python3.12/site-packages (from google-api-python-client>=1.7.8->firebase-admin==6.5.0->pyriemann_qiskit) (4.1.1)\n",
      "Requirement already satisfied: google-cloud-core<3.0.0dev,>=1.4.1 in /usr/local/python/3.12.1/lib/python3.12/site-packages (from google-cloud-firestore>=2.9.1->firebase-admin==6.5.0->pyriemann_qiskit) (2.4.1)\n",
      "Requirement already satisfied: google-resumable-media>=2.7.2 in /usr/local/python/3.12.1/lib/python3.12/site-packages (from google-cloud-storage>=1.37.1->firebase-admin==6.5.0->pyriemann_qiskit) (2.7.2)\n",
      "Requirement already satisfied: google-crc32c<2.0dev,>=1.0 in /usr/local/python/3.12.1/lib/python3.12/site-packages (from google-cloud-storage>=1.37.1->firebase-admin==6.5.0->pyriemann_qiskit) (1.6.0)\n",
      "Requirement already satisfied: ibm-cloud-sdk-core<4.0.0,>=3.21.0 in /usr/local/python/3.12.1/lib/python3.12/site-packages (from ibm-platform-services>=0.22.6->qiskit-ibm-runtime==0.23.0->pyriemann_qiskit) (3.21.0)\n",
      "Requirement already satisfied: qdldl in /usr/local/python/3.12.1/lib/python3.12/site-packages (from osqp>=0.6.2->cvxpy==1.4.2->pyriemann_qiskit) (0.1.7.post4)\n",
      "Requirement already satisfied: cryptography>=3.4.0 in /usr/local/python/3.12.1/lib/python3.12/site-packages (from pyjwt[crypto]>=2.5.0->firebase-admin==6.5.0->pyriemann_qiskit) (43.0.1)\n",
      "Requirement already satisfied: charset-normalizer<4,>=2 in /home/codespace/.local/lib/python3.12/site-packages (from requests>=2.19->qiskit-ibm-runtime==0.23.0->pyriemann_qiskit) (3.3.2)\n",
      "Requirement already satisfied: idna<4,>=2.5 in /home/codespace/.local/lib/python3.12/site-packages (from requests>=2.19->qiskit-ibm-runtime==0.23.0->pyriemann_qiskit) (3.10)\n",
      "Requirement already satisfied: certifi>=2017.4.17 in /home/codespace/.local/lib/python3.12/site-packages (from requests>=2.19->qiskit-ibm-runtime==0.23.0->pyriemann_qiskit) (2024.8.30)\n",
      "Requirement already satisfied: pyspnego>=0.4.0 in /usr/local/python/3.12.1/lib/python3.12/site-packages (from requests-ntlm>=1.1.0->qiskit-ibm-runtime==0.23.0->pyriemann_qiskit) (0.11.1)\n",
      "Requirement already satisfied: pbr>=2.0.0 in /usr/local/python/3.12.1/lib/python3.12/site-packages (from stevedore>=3.0.0->qiskit==1.*->pyriemann_qiskit) (6.1.0)\n",
      "Requirement already satisfied: mpmath>=0.19 in /home/codespace/.local/lib/python3.12/site-packages (from sympy>=1.3->qiskit==1.*->pyriemann_qiskit) (1.3.0)\n",
      "Requirement already satisfied: contourpy>=1.0.1 in /home/codespace/.local/lib/python3.12/site-packages (from matplotlib->pyriemann==0.6->pyriemann_qiskit) (1.3.0)\n",
      "Requirement already satisfied: cycler>=0.10 in /home/codespace/.local/lib/python3.12/site-packages (from matplotlib->pyriemann==0.6->pyriemann_qiskit) (0.12.1)\n",
      "Requirement already satisfied: fonttools>=4.22.0 in /home/codespace/.local/lib/python3.12/site-packages (from matplotlib->pyriemann==0.6->pyriemann_qiskit) (4.54.0)\n",
      "Requirement already satisfied: kiwisolver>=1.3.1 in /home/codespace/.local/lib/python3.12/site-packages (from matplotlib->pyriemann==0.6->pyriemann_qiskit) (1.4.7)\n",
      "Requirement already satisfied: packaging>=20.0 in /home/codespace/.local/lib/python3.12/site-packages (from matplotlib->pyriemann==0.6->pyriemann_qiskit) (24.1)\n",
      "Requirement already satisfied: pillow>=8 in /home/codespace/.local/lib/python3.12/site-packages (from matplotlib->pyriemann==0.6->pyriemann_qiskit) (10.4.0)\n",
      "Requirement already satisfied: pyparsing>=2.3.1 in /home/codespace/.local/lib/python3.12/site-packages (from matplotlib->pyriemann==0.6->pyriemann_qiskit) (3.1.4)\n",
      "Requirement already satisfied: annotated-types>=0.6.0 in /usr/local/python/3.12.1/lib/python3.12/site-packages (from pydantic->qiskit-ibm-runtime==0.23.0->pyriemann_qiskit) (0.7.0)\n",
      "Requirement already satisfied: pydantic-core==2.23.4 in /usr/local/python/3.12.1/lib/python3.12/site-packages (from pydantic->qiskit-ibm-runtime==0.23.0->pyriemann_qiskit) (2.23.4)\n",
      "Requirement already satisfied: cffi>=1.12 in /home/codespace/.local/lib/python3.12/site-packages (from cryptography>=3.4.0->pyjwt[crypto]>=2.5.0->firebase-admin==6.5.0->pyriemann_qiskit) (1.17.1)\n",
      "Requirement already satisfied: cachetools<6.0,>=2.0.0 in /usr/local/python/3.12.1/lib/python3.12/site-packages (from google-auth<3.0.dev0,>=2.14.1->google-api-core<3.0.0dev,>=1.22.1->google-api-core[grpc]<3.0.0dev,>=1.22.1; platform_python_implementation != \"PyPy\"->firebase-admin==6.5.0->pyriemann_qiskit) (5.5.0)\n",
      "Requirement already satisfied: pyasn1-modules>=0.2.1 in /usr/local/python/3.12.1/lib/python3.12/site-packages (from google-auth<3.0.dev0,>=2.14.1->google-api-core<3.0.0dev,>=1.22.1->google-api-core[grpc]<3.0.0dev,>=1.22.1; platform_python_implementation != \"PyPy\"->firebase-admin==6.5.0->pyriemann_qiskit) (0.4.1)\n",
      "Requirement already satisfied: rsa<5,>=3.1.4 in /usr/local/python/3.12.1/lib/python3.12/site-packages (from google-auth<3.0.dev0,>=2.14.1->google-api-core<3.0.0dev,>=1.22.1->google-api-core[grpc]<3.0.0dev,>=1.22.1; platform_python_implementation != \"PyPy\"->firebase-admin==6.5.0->pyriemann_qiskit) (4.9)\n",
      "Requirement already satisfied: pycparser in /home/codespace/.local/lib/python3.12/site-packages (from cffi>=1.12->cryptography>=3.4.0->pyjwt[crypto]>=2.5.0->firebase-admin==6.5.0->pyriemann_qiskit) (2.22)\n",
      "Requirement already satisfied: pyasn1<0.7.0,>=0.4.6 in /usr/local/python/3.12.1/lib/python3.12/site-packages (from pyasn1-modules>=0.2.1->google-auth<3.0.dev0,>=2.14.1->google-api-core<3.0.0dev,>=1.22.1->google-api-core[grpc]<3.0.0dev,>=1.22.1; platform_python_implementation != \"PyPy\"->firebase-admin==6.5.0->pyriemann_qiskit) (0.6.1)\n",
      "Note: you may need to restart the kernel to use updated packages.\n"
     ]
    }
   ],
   "source": [
    "%pip install pyriemann_qiskit"
   ]
  },
  {
   "cell_type": "code",
   "execution_count": 86,
   "metadata": {},
   "outputs": [
    {
     "name": "stdout",
     "output_type": "stream",
     "text": [
      "The autoreload extension is already loaded. To reload it, use:\n",
      "  %reload_ext autoreload\n"
     ]
    }
   ],
   "source": [
    "import numpy as np\n",
    "import pandas as pd\n",
    "import seaborn as sns\n",
    "\n",
    "from sklearn import svm\n",
    "\n",
    "from sklearn.decomposition import PCA\n",
    "from sklearn.pipeline import make_pipeline\n",
    "from sklearn.base import TransformerMixin\n",
    "\n",
    "from src.utils import load_and_regularize_covariance_matrices, calculate_covariance_means\n",
    "from pyriemann_qiskit.classification import QuanticSVM, QuanticNCH\n",
    "from pyriemann.classification import MDM\n",
    "from pyriemann.tangentspace import TangentSpace\n",
    "\n",
    "from sklearn.metrics import balanced_accuracy_score\n",
    "from sklearn.model_selection import StratifiedKFold, cross_val_score, GridSearchCV, train_test_split, KFold, StratifiedShuffleSplit\n",
    "from sklearn.inspection import DecisionBoundaryDisplay\n",
    "from pyriemann_qiskit.utils.hyper_params_factory import gen_x_feature_map, gen_z_feature_map\n",
    "\n",
    "from sklearn.discriminant_analysis import LinearDiscriminantAnalysis as LDA\n",
    "from pyriemann_qiskit.ensemble import JudgeClassifier\n",
    "from sklearn.ensemble import RandomForestClassifier\n",
    "\n",
    "from pyriemann_qiskit.visualization.manifold import plot_manifold\n",
    "from pyriemann.utils.viz import plot_biscatter, plot_bihist, plot_cov_ellipse\n",
    "from pyriemann.utils import mean_covariance\n",
    "from pyriemann.spatialfilters import CSP, SPoC\n",
    "\n",
    "from src.utils import load_and_split_subjects_by_group, calculate_mean_covariances_per_subject, calculate_covariances_per_subject_and_frame\n",
    "\n",
    "from matplotlib import pyplot as plt\n",
    "\n",
    "%load_ext autoreload\n",
    "%autoreload 2"
   ]
  },
  {
   "cell_type": "markdown",
   "metadata": {},
   "source": [
    "# Define custom spatial filtering"
   ]
  },
  {
   "cell_type": "code",
   "execution_count": 3,
   "metadata": {},
   "outputs": [],
   "source": [
    "class PCA_SPD(TransformerMixin):\n",
    "    def __init__(self, n_components):\n",
    "        self.n_components = n_components\n",
    "    \n",
    "    def set_params(self, **parameters):\n",
    "        for parameter, value in parameters.items():\n",
    "            setattr(self, parameter, value)\n",
    "        return self\n",
    "\n",
    "    def fit(self, X, y):\n",
    "        return self\n",
    "    \n",
    "    def transform(self, X, y=None):\n",
    "        X = np.array(X)\n",
    "        new_dataset = np.zeros((X.shape[0], self.n_components, self.n_components))\n",
    "        for i in range(X.shape[0]):\n",
    "            covariance_to_reduce = X[i]\n",
    "            eigenvalues, eigenvectors = np.linalg.eigh(covariance_to_reduce) # Calculate eigenvalues and eigenvectors            \n",
    "            idx = eigenvalues.argsort()[::-1] # Sort eigenvalues in descending order\n",
    "            eigenvectors = eigenvectors[:,idx][:,:self.n_components] # Sort eigenvectors according to eigenvalues and get the first n_components\n",
    "            reduced_covariance = eigenvectors.T @ np.diag(eigenvalues) @ eigenvectors            \n",
    "            new_dataset[i] = reduced_covariance            \n",
    "        return new_dataset "
   ]
  },
  {
   "cell_type": "markdown",
   "metadata": {},
   "source": [
    "# Extract data"
   ]
  },
  {
   "cell_type": "code",
   "execution_count": 143,
   "metadata": {},
   "outputs": [],
   "source": [
    "metric=\"logeuclid\"\n",
    "def batch_covs(dataset, batch_size=20):\n",
    "    n_subject = len(dataset)\n",
    "    n_video = len(dataset[0])\n",
    "    covs = []\n",
    "    for subject in range(n_subject):\n",
    "        for video in range(n_video):\n",
    "            n_frames = len(dataset[subject][video])\n",
    "            for start_batch in range(0, n_frames, batch_size):\n",
    "                end_betch = min(start_batch + batch_size, n_frames)\n",
    "                frames = dataset[subject][video][start_batch:end_betch]\n",
    "                m = mean_covariance(frames, metric=metric)\n",
    "                covs.append(m)\n",
    "    return np.array(covs)"
   ]
  },
  {
   "cell_type": "code",
   "execution_count": 133,
   "metadata": {},
   "outputs": [],
   "source": [
    "\n",
    "trainval_control_subjects, trainval_parkinson_subjects, test_control_subjects, test_parkinson_subjects, subject_covariances = load_and_split_subjects_by_group(pickle_file_path='data/densetnet201-4-CovsDict.pkl')\n",
    "trainval_control_covs = calculate_covariances_per_subject_and_frame(subject_covariances = subject_covariances,\n",
    "                                                               ids = trainval_control_subjects)\n",
    "trainval_parkinnson_covs = calculate_covariances_per_subject_and_frame(subject_covariances = subject_covariances,\n",
    "                                                                    ids = trainval_parkinson_subjects)\n",
    "test_control_covs = calculate_covariances_per_subject_and_frame(subject_covariances = subject_covariances,\n",
    "                                                            ids = test_control_subjects)\n",
    "test_parkinson_covs = calculate_covariances_per_subject_and_frame(subject_covariances = subject_covariances,\n",
    "                                                             ids = test_parkinson_subjects)"
   ]
  },
  {
   "cell_type": "code",
   "execution_count": 134,
   "metadata": {},
   "outputs": [],
   "source": [
    "c_dataset = trainval_control_covs\n",
    "c_dataset.extend(test_control_covs)\n",
    "\n",
    "pk_dataset = trainval_parkinnson_covs\n",
    "pk_dataset.extend(test_parkinson_covs)"
   ]
  },
  {
   "cell_type": "code",
   "execution_count": 144,
   "metadata": {},
   "outputs": [
    {
     "name": "stdout",
     "output_type": "stream",
     "text": [
      "c_len=736\n",
      "pk_len=448\n"
     ]
    }
   ],
   "source": [
    "# c_dataset = load_and_regularize_covariance_matrices(deep_features_type='covs_DN20', group_type='CG')\n",
    "c_dataset_covs = batch_covs(c_dataset)\n",
    "# c_datasets_covs = c_dataset\n",
    "c_len = len(c_dataset_covs)\n",
    "print(f'c_len={c_len}')\n",
    "# pk_dataset = load_and_regularize_covariance_matrices(deep_features_type='covs_DN20', group_type='PG')\n",
    "pk_dataset_covs = batch_covs(pk_dataset)\n",
    "# pk_datasets_covs = pk_dataset\n",
    "pk_len = len(pk_dataset_covs)\n",
    "print(f'pk_len={pk_len}')\n",
    "X = np.concatenate([c_dataset_covs, pk_dataset_covs], axis=0)\n",
    "y = np.concatenate([np.zeros(c_len), np.ones(pk_len)])"
   ]
  },
  {
   "cell_type": "markdown",
   "metadata": {},
   "source": [
    "# Visualize data"
   ]
  },
  {
   "cell_type": "code",
   "execution_count": 160,
   "metadata": {},
   "outputs": [
    {
     "data": {
      "image/png": "[encoded data removed]",
      "text/plain": [
       "<Figure size 700x700 with 1 Axes>"
      ]
     },
     "metadata": {},
     "output_type": "display_data"
    }
   ],
   "source": [
    "fig, ax = plt.subplots(figsize=(7, 7))\n",
    "ax.set_title(\"Mean covariances projection in 2d\")\n",
    "sf = CSP(nfilter=2, log=False)\n",
    "# sf = PCA_SPD(n_components=2)\n",
    "X2x2 = sf.fit(X, y).transform(X)\n",
    "c_meancov = mean_covariance(X2x2[:c_len], metric=metric)\n",
    "plot_cov_ellipse(ax, c_meancov, edgecolor=\"blue\")\n",
    "pk_meancov = mean_covariance(X2x2[c_len:], metric=metric)\n",
    "plot_cov_ellipse(ax, pk_meancov, edgecolor=\"red\")\n",
    "min_, max_ = -2, 2\n",
    "ax.set_xlim(min_, max_)\n",
    "ax.set_ylim(min_, max_)\n",
    "plt.show()"
   ]
  },
  {
   "cell_type": "code",
   "execution_count": 161,
   "metadata": {},
   "outputs": [
    {
     "data": {
      "image/png": "[encoded data removed]",
      "text/plain": [
       "<Figure size 300x300 with 2 Axes>"
      ]
     },
     "metadata": {},
     "output_type": "display_data"
    }
   ],
   "source": [
    "fig, axes = plt.subplots(1, 2, figsize=(2 * 1.5, 2 * 1.5))    \n",
    "sf = CSP(nfilter=3, log=False)\n",
    "# sf = PCA_SPD(n_components=3)  \n",
    "X3x3 = sf.fit(X, y).transform(X)       \n",
    "c_meancov = mean_covariance(X3x3[:c_len], metric=metric)\n",
    "pk_meancov = mean_covariance(X3x3[c_len:], metric=metric)\n",
    "axes[0].imshow(c_meancov, cmap='coolwarm',)  \n",
    "axes[1].imshow(pk_meancov, cmap='coolwarm')  \n",
    "\n",
    "plt.tight_layout()\n",
    "plt.show()"
   ]
  },
  {
   "cell_type": "code",
   "execution_count": 162,
   "metadata": {},
   "outputs": [
    {
     "data": {
      "image/png": "[encoded data removed]",
      "text/plain": [
       "<Figure size 640x480 with 1 Axes>"
      ]
     },
     "execution_count": 162,
     "metadata": {},
     "output_type": "execute_result"
    },
    {
     "data": {
      "image/png": "[encoded data removed]",
      "text/plain": [
       "<Figure size 640x480 with 1 Axes>"
      ]
     },
     "metadata": {},
     "output_type": "display_data"
    }
   ],
   "source": [
    "labels = np.array([''] * len(y))\n",
    "labels[y == 0] = 'c'\n",
    "labels[y == 1] = 'pk'\n",
    "plot_manifold(X2x2, labels, False)"
   ]
  },
  {
   "cell_type": "markdown",
   "metadata": {},
   "source": [
    "# Define pipelines"
   ]
  },
  {
   "cell_type": "code",
   "execution_count": 150,
   "metadata": {},
   "outputs": [
    {
     "name": "stdout",
     "output_type": "stream",
     "text": [
      "[QClass]  Initializing Quantum Classifier\n",
      "[QClass]  Initializing Quantum Classifier\n",
      "[QClass]  Initializing Quantum Classifier\n",
      "[QClass]  Initializing Quantum Classifier\n"
     ]
    }
   ],
   "source": [
    "sf = CSP(nfilter=4, log=False)\n",
    "# sf = PCA_SPD(n_components=2)\n",
    "pipe_ts_svm = make_pipeline(TangentSpace(metric=metric), svm.SVC())\n",
    "pipe_ts_qsvm = make_pipeline(TangentSpace(metric=metric), PCA(n_components=10), QuanticSVM())\n",
    "pipe_ts_qsvm2 = make_pipeline(\n",
    "    # Whitening(metric=\"logeuclid\", dim_red={'n_components': 2}),\n",
    "    # PCA_SPD(n_components=2),\n",
    "    sf,\n",
    "    TangentSpace(metric=metric),\n",
    "    QuanticSVM(gen_feature_map=gen_x_feature_map(reps=2)))\n",
    "pipe_mdm = make_pipeline(\n",
    "    sf,\n",
    "    MDM(metric=metric))\n",
    "pipe_nch = make_pipeline(\n",
    "    sf,\n",
    "    QuanticNCH(\n",
    "        n_hulls_per_class=1,\n",
    "        n_samples_per_hull=3,\n",
    "        n_jobs=12,\n",
    "        subsampling=\"random\",\n",
    "        quantum=False,\n",
    "    )\n",
    ")\n",
    "pipe_classical = make_pipeline(\n",
    "    sf,\n",
    "    TangentSpace(metric=metric),\n",
    "    svm.SVC()\n",
    ")\n",
    "pipe_lda = make_pipeline(\n",
    "    sf,\n",
    "    TangentSpace(metric=metric),\n",
    "    svm.SVC()\n",
    ")\n",
    "pipe_ens = make_pipeline(\n",
    "    sf,\n",
    "    TangentSpace(metric=metric),\n",
    "    JudgeClassifier(\n",
    "        clfs=[LDA(),QuanticSVM(gen_feature_map=gen_x_feature_map(), pegasos=False)],\n",
    "        judge=RandomForestClassifier(n_estimators=100)\n",
    "    )\n",
    ")"
   ]
  },
  {
   "cell_type": "markdown",
   "metadata": {},
   "source": [
    "# Evaluate"
   ]
  },
  {
   "cell_type": "code",
   "execution_count": 152,
   "metadata": {},
   "outputs": [
    {
     "name": "stderr",
     "output_type": "stream",
     "text": [
      "WARNING:root:FidelityQuantumKernel skipped because of time.\n",
      "                    Using FidelityStatevectorKernel with AerStatevector.\n",
      "                    Seed cannot be set with FidelityStatevectorKernel.\n",
      "                    Increase the number of shots to diminish the noise.\n"
     ]
    },
    {
     "name": "stdout",
     "output_type": "stream",
     "text": [
      "[QClass]  Initializing Quantum Classifier\n",
      "[QClass]  Quantum simulation will be performed\n",
      "GPU optimization disabled. No device found.\n",
      "[QClass]  Fitting:  (1065, 10)\n",
      "[QClass]  Feature dimension =  10\n",
      "[QClass]  Quantum backend =  AerSimulator('aer_simulator_statevector')\n",
      "[QClass]  seed =  395013\n",
      "[QClass]  SVM initiating algorithm\n",
      "[QClass]  Training...\n"
     ]
    },
    {
     "name": "stderr",
     "output_type": "stream",
     "text": [
      "WARNING:root:FidelityQuantumKernel skipped because of time.\n",
      "                    Using FidelityStatevectorKernel with AerStatevector.\n",
      "                    Seed cannot be set with FidelityStatevectorKernel.\n",
      "                    Increase the number of shots to diminish the noise.\n"
     ]
    },
    {
     "name": "stdout",
     "output_type": "stream",
     "text": [
      "[QClass]  Prediction finished.\n",
      "[QClass]  Initializing Quantum Classifier\n",
      "[QClass]  Quantum simulation will be performed\n",
      "GPU optimization disabled. No device found.\n",
      "[QClass]  Fitting:  (1065, 10)\n",
      "[QClass]  Feature dimension =  10\n",
      "[QClass]  Quantum backend =  AerSimulator('aer_simulator_statevector')\n",
      "[QClass]  seed =  395013\n",
      "[QClass]  SVM initiating algorithm\n",
      "[QClass]  Training...\n"
     ]
    },
    {
     "name": "stderr",
     "output_type": "stream",
     "text": [
      "WARNING:root:FidelityQuantumKernel skipped because of time.\n",
      "                    Using FidelityStatevectorKernel with AerStatevector.\n",
      "                    Seed cannot be set with FidelityStatevectorKernel.\n",
      "                    Increase the number of shots to diminish the noise.\n"
     ]
    },
    {
     "name": "stdout",
     "output_type": "stream",
     "text": [
      "[QClass]  Prediction finished.\n",
      "[QClass]  Initializing Quantum Classifier\n",
      "[QClass]  Quantum simulation will be performed\n",
      "GPU optimization disabled. No device found.\n",
      "[QClass]  Fitting:  (1065, 10)\n",
      "[QClass]  Feature dimension =  10\n",
      "[QClass]  Quantum backend =  AerSimulator('aer_simulator_statevector')\n",
      "[QClass]  seed =  395013\n",
      "[QClass]  SVM initiating algorithm\n",
      "[QClass]  Training...\n"
     ]
    },
    {
     "name": "stderr",
     "output_type": "stream",
     "text": [
      "WARNING:root:FidelityQuantumKernel skipped because of time.\n",
      "                    Using FidelityStatevectorKernel with AerStatevector.\n",
      "                    Seed cannot be set with FidelityStatevectorKernel.\n",
      "                    Increase the number of shots to diminish the noise.\n"
     ]
    },
    {
     "name": "stdout",
     "output_type": "stream",
     "text": [
      "[QClass]  Prediction finished.\n",
      "[QClass]  Initializing Quantum Classifier\n",
      "[QClass]  Quantum simulation will be performed\n",
      "GPU optimization disabled. No device found.\n",
      "[QClass]  Fitting:  (1065, 10)\n",
      "[QClass]  Feature dimension =  10\n",
      "[QClass]  Quantum backend =  AerSimulator('aer_simulator_statevector')\n",
      "[QClass]  seed =  395013\n",
      "[QClass]  SVM initiating algorithm\n",
      "[QClass]  Training...\n"
     ]
    },
    {
     "name": "stderr",
     "output_type": "stream",
     "text": [
      "WARNING:root:FidelityQuantumKernel skipped because of time.\n",
      "                    Using FidelityStatevectorKernel with AerStatevector.\n",
      "                    Seed cannot be set with FidelityStatevectorKernel.\n",
      "                    Increase the number of shots to diminish the noise.\n"
     ]
    },
    {
     "name": "stdout",
     "output_type": "stream",
     "text": [
      "[QClass]  Prediction finished.\n",
      "[QClass]  Initializing Quantum Classifier\n",
      "[QClass]  Quantum simulation will be performed\n",
      "GPU optimization disabled. No device found.\n",
      "[QClass]  Fitting:  (1066, 10)\n",
      "[QClass]  Feature dimension =  10\n",
      "[QClass]  Quantum backend =  AerSimulator('aer_simulator_statevector')\n",
      "[QClass]  seed =  395013\n",
      "[QClass]  SVM initiating algorithm\n",
      "[QClass]  Training...\n"
     ]
    },
    {
     "name": "stderr",
     "output_type": "stream",
     "text": [
      "WARNING:root:FidelityQuantumKernel skipped because of time.\n",
      "                    Using FidelityStatevectorKernel with AerStatevector.\n",
      "                    Seed cannot be set with FidelityStatevectorKernel.\n",
      "                    Increase the number of shots to diminish the noise.\n"
     ]
    },
    {
     "name": "stdout",
     "output_type": "stream",
     "text": [
      "[QClass]  Prediction finished.\n",
      "[QClass]  Initializing Quantum Classifier\n",
      "[QClass]  Quantum simulation will be performed\n",
      "GPU optimization disabled. No device found.\n",
      "[QClass]  Fitting:  (1066, 10)\n",
      "[QClass]  Feature dimension =  10\n",
      "[QClass]  Quantum backend =  AerSimulator('aer_simulator_statevector')\n",
      "[QClass]  seed =  395013\n",
      "[QClass]  SVM initiating algorithm\n",
      "[QClass]  Training...\n"
     ]
    },
    {
     "name": "stderr",
     "output_type": "stream",
     "text": [
      "WARNING:root:FidelityQuantumKernel skipped because of time.\n",
      "                    Using FidelityStatevectorKernel with AerStatevector.\n",
      "                    Seed cannot be set with FidelityStatevectorKernel.\n",
      "                    Increase the number of shots to diminish the noise.\n"
     ]
    },
    {
     "name": "stdout",
     "output_type": "stream",
     "text": [
      "[QClass]  Prediction finished.\n",
      "[QClass]  Initializing Quantum Classifier\n",
      "[QClass]  Quantum simulation will be performed\n",
      "GPU optimization disabled. No device found.\n",
      "[QClass]  Fitting:  (1066, 10)\n",
      "[QClass]  Feature dimension =  10\n",
      "[QClass]  Quantum backend =  AerSimulator('aer_simulator_statevector')\n",
      "[QClass]  seed =  395013\n",
      "[QClass]  SVM initiating algorithm\n",
      "[QClass]  Training...\n"
     ]
    },
    {
     "name": "stderr",
     "output_type": "stream",
     "text": [
      "WARNING:root:FidelityQuantumKernel skipped because of time.\n",
      "                    Using FidelityStatevectorKernel with AerStatevector.\n",
      "                    Seed cannot be set with FidelityStatevectorKernel.\n",
      "                    Increase the number of shots to diminish the noise.\n"
     ]
    },
    {
     "name": "stdout",
     "output_type": "stream",
     "text": [
      "[QClass]  Prediction finished.\n",
      "[QClass]  Initializing Quantum Classifier\n",
      "[QClass]  Quantum simulation will be performed\n",
      "GPU optimization disabled. No device found.\n",
      "[QClass]  Fitting:  (1066, 10)\n",
      "[QClass]  Feature dimension =  10\n",
      "[QClass]  Quantum backend =  AerSimulator('aer_simulator_statevector')\n",
      "[QClass]  seed =  395013\n",
      "[QClass]  SVM initiating algorithm\n",
      "[QClass]  Training...\n"
     ]
    },
    {
     "name": "stderr",
     "output_type": "stream",
     "text": [
      "WARNING:root:FidelityQuantumKernel skipped because of time.\n",
      "                    Using FidelityStatevectorKernel with AerStatevector.\n",
      "                    Seed cannot be set with FidelityStatevectorKernel.\n",
      "                    Increase the number of shots to diminish the noise.\n"
     ]
    },
    {
     "name": "stdout",
     "output_type": "stream",
     "text": [
      "[QClass]  Prediction finished.\n",
      "[QClass]  Initializing Quantum Classifier\n",
      "[QClass]  Quantum simulation will be performed\n",
      "GPU optimization disabled. No device found.\n",
      "[QClass]  Fitting:  (1066, 10)\n",
      "[QClass]  Feature dimension =  10\n",
      "[QClass]  Quantum backend =  AerSimulator('aer_simulator_statevector')\n",
      "[QClass]  seed =  395013\n",
      "[QClass]  SVM initiating algorithm\n",
      "[QClass]  Training...\n"
     ]
    },
    {
     "name": "stderr",
     "output_type": "stream",
     "text": [
      "WARNING:root:FidelityQuantumKernel skipped because of time.\n",
      "                    Using FidelityStatevectorKernel with AerStatevector.\n",
      "                    Seed cannot be set with FidelityStatevectorKernel.\n",
      "                    Increase the number of shots to diminish the noise.\n"
     ]
    },
    {
     "name": "stdout",
     "output_type": "stream",
     "text": [
      "[QClass]  Prediction finished.\n",
      "[QClass]  Initializing Quantum Classifier\n",
      "[QClass]  Quantum simulation will be performed\n",
      "GPU optimization disabled. No device found.\n",
      "[QClass]  Fitting:  (1066, 10)\n",
      "[QClass]  Feature dimension =  10\n",
      "[QClass]  Quantum backend =  AerSimulator('aer_simulator_statevector')\n",
      "[QClass]  seed =  395013\n",
      "[QClass]  SVM initiating algorithm\n",
      "[QClass]  Training...\n",
      "[QClass]  Prediction finished.\n",
      "scores svm: 0.7646140037920859 [0.39984985 1.         0.83108108 0.95555556 0.84398034 0.68918919\n",
      " 0.99315068 0.93333333 0.5        0.5       ]\n",
      "scores qsvm: 0.8201945126945127 [0.56996997 1.         0.9527027  0.98888889 0.89834152 0.73648649\n",
      " 1.         0.96666667 0.5        0.58888889]\n",
      "scores len = 10\n"
     ]
    }
   ],
   "source": [
    "cv = StratifiedKFold(n_splits=10)\n",
    "# cv = StratifiedShuffleSplit(n_splits=20, test_size=0.20)\n",
    "scores_svm = cross_val_score(pipe_classical, X, y, scoring=\"balanced_accuracy\", cv=cv)\n",
    "scores_qsvm = cross_val_score(pipe_ts_qsvm2, X, y, scoring=\"balanced_accuracy\", cv=cv)\n",
    "print(f'scores svm: {scores_svm.mean()} {scores_svm}')\n",
    "print(f'scores qsvm: {scores_qsvm.mean()} {scores_qsvm}')\n",
    "print(f'scores len = {len(scores_svm)}')"
   ]
  },
  {
   "cell_type": "markdown",
   "metadata": {},
   "source": [
    "# Corrected t-test"
   ]
  },
  {
   "cell_type": "code",
   "execution_count": 153,
   "metadata": {},
   "outputs": [],
   "source": [
    "# https://scikit-learn.org/stable/auto_examples/model_selection/plot_grid_search_stats.html\n",
    "\n",
    "import numpy as np\n",
    "from scipy.stats import t\n",
    "\n",
    "\n",
    "def corrected_std(differences, n_train, n_test):\n",
    "    \"\"\"Corrects standard deviation using Nadeau and Bengio's approach.\n",
    "\n",
    "    Parameters\n",
    "    ----------\n",
    "    differences : ndarray of shape (n_samples,)\n",
    "        Vector containing the differences in the score metrics of two models.\n",
    "    n_train : int\n",
    "        Number of samples in the training set.\n",
    "    n_test : int\n",
    "        Number of samples in the testing set.\n",
    "\n",
    "    Returns\n",
    "    -------\n",
    "    corrected_std : float\n",
    "        Variance-corrected standard deviation of the set of differences.\n",
    "    \"\"\"\n",
    "    # kr = k times r, r times repeated k-fold crossvalidation,\n",
    "    # kr equals the number of times the model was evaluated\n",
    "    kr = len(differences)\n",
    "    corrected_var = np.var(differences, ddof=1) * (1 / kr + n_test / n_train)\n",
    "    corrected_std = np.sqrt(corrected_var)\n",
    "    return corrected_std\n",
    "\n",
    "\n",
    "def compute_corrected_ttest(differences, df, n_train, n_test):\n",
    "    \"\"\"Computes right-tailed paired t-test with corrected variance.\n",
    "\n",
    "    Parameters\n",
    "    ----------\n",
    "    differences : array-like of shape (n_samples,)\n",
    "        Vector containing the differences in the score metrics of two models.\n",
    "    df : int\n",
    "        Degrees of freedom.\n",
    "    n_train : int\n",
    "        Number of samples in the training set.\n",
    "    n_test : int\n",
    "        Number of samples in the testing set.\n",
    "\n",
    "    Returns\n",
    "    -------\n",
    "    t_stat : float\n",
    "        Variance-corrected t-statistic.\n",
    "    p_val : float\n",
    "        Variance-corrected p-value.\n",
    "    \"\"\"\n",
    "    mean = np.mean(differences)\n",
    "    std = corrected_std(differences, n_train, n_test)\n",
    "    t_stat = mean / std\n",
    "    p_val = t.sf(np.abs(t_stat), df)  # right-tailed t-test\n",
    "    return t_stat, p_val"
   ]
  },
  {
   "cell_type": "code",
   "execution_count": null,
   "metadata": {},
   "outputs": [
    {
     "name": "stdout",
     "output_type": "stream",
     "text": [
      "0.029643461758255735\n"
     ]
    }
   ],
   "source": [
    "differences = scores_qsvm - scores_svm\n",
    "n = differences.shape[0]  # number of test sets\n",
    "df = n - 1\n",
    "n_train = len(list(cv.split(X, y))[0][0])\n",
    "n_test = len(list(cv.split(X, y))[0][1])\n",
    "_, p_value = compute_corrected_ttest(differences, df, n_train, n_test)\n",
    "print(p_value) # fails to conclude that qsvm has a better performance than svm\n",
    "# BUT: does not mean it is the same -> we need the bayesian approach or the random testing"
   ]
  },
  {
   "cell_type": "markdown",
   "metadata": {},
   "source": [
    "# Grid Search"
   ]
  },
  {
   "cell_type": "code",
   "execution_count": null,
   "metadata": {},
   "outputs": [
    {
     "name": "stderr",
     "output_type": "stream",
     "text": [
      "WARNING:root:FidelityQuantumKernel skipped because of time.\n",
      "                    Using FidelityStatevectorKernel with AerStatevector.\n",
      "                    Seed cannot be set with FidelityStatevectorKernel.\n",
      "                    Increase the number of shots to diminish the noise.\n"
     ]
    },
    {
     "name": "stdout",
     "output_type": "stream",
     "text": [
      "[QClass]  Initializing Quantum Classifier\n",
      "[QClass]  Initializing Quantum Classifier\n",
      "[QClass]  Quantum simulation will be performed\n",
      "GPU optimization disabled. No device found.\n",
      "[QClass]  Fitting:  (544, 3)\n",
      "[QClass]  Feature dimension =  3\n",
      "[QClass]  Quantum backend =  AerSimulator('aer_simulator_statevector')\n",
      "[QClass]  seed =  332897\n",
      "[QClass]  SVM initiating algorithm\n"
     ]
    },
    {
     "name": "stdout",
     "output_type": "stream",
     "text": [
      "[QClass]  Training...\n"
     ]
    },
    {
     "name": "stderr",
     "output_type": "stream",
     "text": [
      "WARNING:root:FidelityQuantumKernel skipped because of time.\n",
      "                    Using FidelityStatevectorKernel with AerStatevector.\n",
      "                    Seed cannot be set with FidelityStatevectorKernel.\n",
      "                    Increase the number of shots to diminish the noise.\n"
     ]
    },
    {
     "name": "stdout",
     "output_type": "stream",
     "text": [
      "[QClass]  Prediction finished.\n",
      "[QClass]  Initializing Quantum Classifier\n",
      "[QClass]  Quantum simulation will be performed\n",
      "GPU optimization disabled. No device found.\n",
      "[QClass]  Fitting:  (545, 3)\n",
      "[QClass]  Feature dimension =  3\n",
      "[QClass]  Quantum backend =  AerSimulator('aer_simulator_statevector')\n",
      "[QClass]  seed =  332897\n",
      "[QClass]  SVM initiating algorithm\n",
      "[QClass]  Training...\n"
     ]
    },
    {
     "name": "stderr",
     "output_type": "stream",
     "text": [
      "WARNING:root:FidelityQuantumKernel skipped because of time.\n",
      "                    Using FidelityStatevectorKernel with AerStatevector.\n",
      "                    Seed cannot be set with FidelityStatevectorKernel.\n",
      "                    Increase the number of shots to diminish the noise.\n"
     ]
    },
    {
     "name": "stdout",
     "output_type": "stream",
     "text": [
      "[QClass]  Prediction finished.\n",
      "[QClass]  Initializing Quantum Classifier\n",
      "[QClass]  Quantum simulation will be performed\n",
      "GPU optimization disabled. No device found.\n",
      "[QClass]  Fitting:  (545, 3)\n",
      "[QClass]  Feature dimension =  3\n",
      "[QClass]  Quantum backend =  AerSimulator('aer_simulator_statevector')\n",
      "[QClass]  seed =  332897\n",
      "[QClass]  SVM initiating algorithm\n",
      "[QClass]  Training...\n"
     ]
    },
    {
     "name": "stderr",
     "output_type": "stream",
     "text": [
      "WARNING:root:FidelityQuantumKernel skipped because of time.\n",
      "                    Using FidelityStatevectorKernel with AerStatevector.\n",
      "                    Seed cannot be set with FidelityStatevectorKernel.\n",
      "                    Increase the number of shots to diminish the noise.\n"
     ]
    },
    {
     "name": "stdout",
     "output_type": "stream",
     "text": [
      "[QClass]  Prediction finished.\n",
      "[QClass]  Initializing Quantum Classifier\n",
      "[QClass]  Quantum simulation will be performed\n",
      "GPU optimization disabled. No device found.\n",
      "[QClass]  Fitting:  (545, 3)\n",
      "[QClass]  Feature dimension =  3\n",
      "[QClass]  Quantum backend =  AerSimulator('aer_simulator_statevector')\n",
      "[QClass]  seed =  332897\n",
      "[QClass]  SVM initiating algorithm\n",
      "[QClass]  Training...\n"
     ]
    },
    {
     "name": "stderr",
     "output_type": "stream",
     "text": [
      "WARNING:root:FidelityQuantumKernel skipped because of time.\n",
      "                    Using FidelityStatevectorKernel with AerStatevector.\n",
      "                    Seed cannot be set with FidelityStatevectorKernel.\n",
      "                    Increase the number of shots to diminish the noise.\n"
     ]
    },
    {
     "name": "stdout",
     "output_type": "stream",
     "text": [
      "[QClass]  Prediction finished.\n",
      "[QClass]  Initializing Quantum Classifier\n",
      "[QClass]  Quantum simulation will be performed\n",
      "GPU optimization disabled. No device found.\n",
      "[QClass]  Fitting:  (545, 3)\n",
      "[QClass]  Feature dimension =  3\n",
      "[QClass]  Quantum backend =  AerSimulator('aer_simulator_statevector')\n",
      "[QClass]  seed =  332897\n",
      "[QClass]  SVM initiating algorithm\n",
      "[QClass]  Training...\n"
     ]
    },
    {
     "name": "stderr",
     "output_type": "stream",
     "text": [
      "WARNING:root:FidelityQuantumKernel skipped because of time.\n",
      "                    Using FidelityStatevectorKernel with AerStatevector.\n",
      "                    Seed cannot be set with FidelityStatevectorKernel.\n",
      "                    Increase the number of shots to diminish the noise.\n"
     ]
    },
    {
     "name": "stdout",
     "output_type": "stream",
     "text": [
      "[QClass]  Prediction finished.\n",
      "[QClass]  Initializing Quantum Classifier\n",
      "[QClass]  Quantum simulation will be performed\n",
      "GPU optimization disabled. No device found.\n",
      "[QClass]  Fitting:  (544, 3)\n",
      "[QClass]  Feature dimension =  3\n",
      "[QClass]  Quantum backend =  AerSimulator('aer_simulator_statevector')\n",
      "[QClass]  seed =  332897\n",
      "[QClass]  SVM initiating algorithm\n",
      "[QClass]  Training...\n"
     ]
    },
    {
     "name": "stderr",
     "output_type": "stream",
     "text": [
      "WARNING:root:FidelityQuantumKernel skipped because of time.\n",
      "                    Using FidelityStatevectorKernel with AerStatevector.\n",
      "                    Seed cannot be set with FidelityStatevectorKernel.\n",
      "                    Increase the number of shots to diminish the noise.\n"
     ]
    },
    {
     "name": "stdout",
     "output_type": "stream",
     "text": [
      "[QClass]  Prediction finished.\n",
      "[QClass]  Initializing Quantum Classifier\n",
      "[QClass]  Quantum simulation will be performed\n",
      "GPU optimization disabled. No device found.\n",
      "[QClass]  Fitting:  (545, 3)\n",
      "[QClass]  Feature dimension =  3\n",
      "[QClass]  Quantum backend =  AerSimulator('aer_simulator_statevector')\n",
      "[QClass]  seed =  332897\n",
      "[QClass]  SVM initiating algorithm\n",
      "[QClass]  Training...\n"
     ]
    },
    {
     "name": "stderr",
     "output_type": "stream",
     "text": [
      "WARNING:root:FidelityQuantumKernel skipped because of time.\n",
      "                    Using FidelityStatevectorKernel with AerStatevector.\n",
      "                    Seed cannot be set with FidelityStatevectorKernel.\n",
      "                    Increase the number of shots to diminish the noise.\n"
     ]
    },
    {
     "name": "stdout",
     "output_type": "stream",
     "text": [
      "[QClass]  Prediction finished.\n",
      "[QClass]  Initializing Quantum Classifier\n",
      "[QClass]  Quantum simulation will be performed\n",
      "GPU optimization disabled. No device found.\n",
      "[QClass]  Fitting:  (545, 3)\n",
      "[QClass]  Feature dimension =  3\n",
      "[QClass]  Quantum backend =  AerSimulator('aer_simulator_statevector')\n",
      "[QClass]  seed =  332897\n",
      "[QClass]  SVM initiating algorithm\n",
      "[QClass]  Training...\n"
     ]
    },
    {
     "name": "stderr",
     "output_type": "stream",
     "text": [
      "WARNING:root:FidelityQuantumKernel skipped because of time.\n",
      "                    Using FidelityStatevectorKernel with AerStatevector.\n",
      "                    Seed cannot be set with FidelityStatevectorKernel.\n",
      "                    Increase the number of shots to diminish the noise.\n"
     ]
    },
    {
     "name": "stdout",
     "output_type": "stream",
     "text": [
      "[QClass]  Prediction finished.\n",
      "[QClass]  Initializing Quantum Classifier\n",
      "[QClass]  Quantum simulation will be performed\n",
      "GPU optimization disabled. No device found.\n",
      "[QClass]  Fitting:  (545, 3)\n",
      "[QClass]  Feature dimension =  3\n",
      "[QClass]  Quantum backend =  AerSimulator('aer_simulator_statevector')\n",
      "[QClass]  seed =  332897\n",
      "[QClass]  SVM initiating algorithm\n",
      "[QClass]  Training...\n"
     ]
    },
    {
     "name": "stderr",
     "output_type": "stream",
     "text": [
      "WARNING:root:FidelityQuantumKernel skipped because of time.\n",
      "                    Using FidelityStatevectorKernel with AerStatevector.\n",
      "                    Seed cannot be set with FidelityStatevectorKernel.\n",
      "                    Increase the number of shots to diminish the noise.\n"
     ]
    },
    {
     "name": "stdout",
     "output_type": "stream",
     "text": [
      "[QClass]  Prediction finished.\n",
      "[QClass]  Initializing Quantum Classifier\n",
      "[QClass]  Quantum simulation will be performed\n",
      "GPU optimization disabled. No device found.\n",
      "[QClass]  Fitting:  (545, 3)\n",
      "[QClass]  Feature dimension =  3\n",
      "[QClass]  Quantum backend =  AerSimulator('aer_simulator_statevector')\n",
      "[QClass]  seed =  332897\n",
      "[QClass]  SVM initiating algorithm\n",
      "[QClass]  Training...\n"
     ]
    },
    {
     "name": "stderr",
     "output_type": "stream",
     "text": [
      "WARNING:root:FidelityQuantumKernel skipped because of time.\n",
      "                    Using FidelityStatevectorKernel with AerStatevector.\n",
      "                    Seed cannot be set with FidelityStatevectorKernel.\n",
      "                    Increase the number of shots to diminish the noise.\n"
     ]
    },
    {
     "name": "stdout",
     "output_type": "stream",
     "text": [
      "[QClass]  Prediction finished.\n",
      "[QClass]  Initializing Quantum Classifier\n",
      "[QClass]  Quantum simulation will be performed\n",
      "GPU optimization disabled. No device found.\n",
      "[QClass]  Fitting:  (544, 3)\n",
      "[QClass]  Feature dimension =  3\n",
      "[QClass]  Quantum backend =  AerSimulator('aer_simulator_statevector')\n",
      "[QClass]  seed =  332897\n",
      "[QClass]  SVM initiating algorithm\n",
      "[QClass]  Training...\n"
     ]
    },
    {
     "name": "stderr",
     "output_type": "stream",
     "text": [
      "WARNING:root:FidelityQuantumKernel skipped because of time.\n",
      "                    Using FidelityStatevectorKernel with AerStatevector.\n",
      "                    Seed cannot be set with FidelityStatevectorKernel.\n",
      "                    Increase the number of shots to diminish the noise.\n"
     ]
    },
    {
     "name": "stdout",
     "output_type": "stream",
     "text": [
      "[QClass]  Prediction finished.\n",
      "[QClass]  Initializing Quantum Classifier\n",
      "[QClass]  Quantum simulation will be performed\n",
      "GPU optimization disabled. No device found.\n",
      "[QClass]  Fitting:  (545, 3)\n",
      "[QClass]  Feature dimension =  3\n",
      "[QClass]  Quantum backend =  AerSimulator('aer_simulator_statevector')\n",
      "[QClass]  seed =  332897\n",
      "[QClass]  SVM initiating algorithm\n",
      "[QClass]  Training...\n"
     ]
    },
    {
     "name": "stderr",
     "output_type": "stream",
     "text": [
      "WARNING:root:FidelityQuantumKernel skipped because of time.\n",
      "                    Using FidelityStatevectorKernel with AerStatevector.\n",
      "                    Seed cannot be set with FidelityStatevectorKernel.\n",
      "                    Increase the number of shots to diminish the noise.\n"
     ]
    },
    {
     "name": "stdout",
     "output_type": "stream",
     "text": [
      "[QClass]  Prediction finished.\n",
      "[QClass]  Initializing Quantum Classifier\n",
      "[QClass]  Quantum simulation will be performed\n",
      "GPU optimization disabled. No device found.\n",
      "[QClass]  Fitting:  (545, 3)\n",
      "[QClass]  Feature dimension =  3\n",
      "[QClass]  Quantum backend =  AerSimulator('aer_simulator_statevector')\n",
      "[QClass]  seed =  332897\n",
      "[QClass]  SVM initiating algorithm\n",
      "[QClass]  Training...\n"
     ]
    },
    {
     "name": "stderr",
     "output_type": "stream",
     "text": [
      "WARNING:root:FidelityQuantumKernel skipped because of time.\n",
      "                    Using FidelityStatevectorKernel with AerStatevector.\n",
      "                    Seed cannot be set with FidelityStatevectorKernel.\n",
      "                    Increase the number of shots to diminish the noise.\n"
     ]
    },
    {
     "name": "stdout",
     "output_type": "stream",
     "text": [
      "[QClass]  Prediction finished.\n",
      "[QClass]  Initializing Quantum Classifier\n",
      "[QClass]  Quantum simulation will be performed\n",
      "GPU optimization disabled. No device found.\n",
      "[QClass]  Fitting:  (545, 3)\n",
      "[QClass]  Feature dimension =  3\n",
      "[QClass]  Quantum backend =  AerSimulator('aer_simulator_statevector')\n",
      "[QClass]  seed =  332897\n",
      "[QClass]  SVM initiating algorithm\n",
      "[QClass]  Training...\n"
     ]
    },
    {
     "name": "stderr",
     "output_type": "stream",
     "text": [
      "WARNING:root:FidelityQuantumKernel skipped because of time.\n",
      "                    Using FidelityStatevectorKernel with AerStatevector.\n",
      "                    Seed cannot be set with FidelityStatevectorKernel.\n",
      "                    Increase the number of shots to diminish the noise.\n"
     ]
    },
    {
     "name": "stdout",
     "output_type": "stream",
     "text": [
      "[QClass]  Prediction finished.\n",
      "[QClass]  Initializing Quantum Classifier\n",
      "[QClass]  Quantum simulation will be performed\n",
      "GPU optimization disabled. No device found.\n",
      "[QClass]  Fitting:  (545, 3)\n",
      "[QClass]  Feature dimension =  3\n",
      "[QClass]  Quantum backend =  AerSimulator('aer_simulator_statevector')\n",
      "[QClass]  seed =  332897\n",
      "[QClass]  SVM initiating algorithm\n",
      "[QClass]  Training...\n"
     ]
    },
    {
     "name": "stderr",
     "output_type": "stream",
     "text": [
      "WARNING:root:FidelityQuantumKernel skipped because of time.\n",
      "                    Using FidelityStatevectorKernel with AerStatevector.\n",
      "                    Seed cannot be set with FidelityStatevectorKernel.\n",
      "                    Increase the number of shots to diminish the noise.\n"
     ]
    },
    {
     "name": "stdout",
     "output_type": "stream",
     "text": [
      "[QClass]  Prediction finished.\n",
      "[QClass]  Initializing Quantum Classifier\n",
      "[QClass]  Quantum simulation will be performed\n",
      "GPU optimization disabled. No device found.\n",
      "[QClass]  Fitting:  (544, 3)\n",
      "[QClass]  Feature dimension =  3\n",
      "[QClass]  Quantum backend =  AerSimulator('aer_simulator_statevector')\n",
      "[QClass]  seed =  332897\n",
      "[QClass]  SVM initiating algorithm\n",
      "[QClass]  Training...\n"
     ]
    },
    {
     "name": "stderr",
     "output_type": "stream",
     "text": [
      "WARNING:root:FidelityQuantumKernel skipped because of time.\n",
      "                    Using FidelityStatevectorKernel with AerStatevector.\n",
      "                    Seed cannot be set with FidelityStatevectorKernel.\n",
      "                    Increase the number of shots to diminish the noise.\n"
     ]
    },
    {
     "name": "stdout",
     "output_type": "stream",
     "text": [
      "[QClass]  Prediction finished.\n",
      "[QClass]  Initializing Quantum Classifier\n",
      "[QClass]  Quantum simulation will be performed\n",
      "GPU optimization disabled. No device found.\n",
      "[QClass]  Fitting:  (545, 3)\n",
      "[QClass]  Feature dimension =  3\n",
      "[QClass]  Quantum backend =  AerSimulator('aer_simulator_statevector')\n",
      "[QClass]  seed =  332897\n",
      "[QClass]  SVM initiating algorithm\n",
      "[QClass]  Training...\n"
     ]
    },
    {
     "name": "stderr",
     "output_type": "stream",
     "text": [
      "WARNING:root:FidelityQuantumKernel skipped because of time.\n",
      "                    Using FidelityStatevectorKernel with AerStatevector.\n",
      "                    Seed cannot be set with FidelityStatevectorKernel.\n",
      "                    Increase the number of shots to diminish the noise.\n"
     ]
    },
    {
     "name": "stdout",
     "output_type": "stream",
     "text": [
      "[QClass]  Prediction finished.\n",
      "[QClass]  Initializing Quantum Classifier\n",
      "[QClass]  Quantum simulation will be performed\n",
      "GPU optimization disabled. No device found.\n",
      "[QClass]  Fitting:  (545, 3)\n",
      "[QClass]  Feature dimension =  3\n",
      "[QClass]  Quantum backend =  AerSimulator('aer_simulator_statevector')\n",
      "[QClass]  seed =  332897\n",
      "[QClass]  SVM initiating algorithm\n",
      "[QClass]  Training...\n"
     ]
    },
    {
     "name": "stderr",
     "output_type": "stream",
     "text": [
      "WARNING:root:FidelityQuantumKernel skipped because of time.\n",
      "                    Using FidelityStatevectorKernel with AerStatevector.\n",
      "                    Seed cannot be set with FidelityStatevectorKernel.\n",
      "                    Increase the number of shots to diminish the noise.\n"
     ]
    },
    {
     "name": "stdout",
     "output_type": "stream",
     "text": [
      "[QClass]  Prediction finished.\n",
      "[QClass]  Initializing Quantum Classifier\n",
      "[QClass]  Quantum simulation will be performed\n",
      "GPU optimization disabled. No device found.\n",
      "[QClass]  Fitting:  (545, 3)\n",
      "[QClass]  Feature dimension =  3\n",
      "[QClass]  Quantum backend =  AerSimulator('aer_simulator_statevector')\n",
      "[QClass]  seed =  332897\n",
      "[QClass]  SVM initiating algorithm\n",
      "[QClass]  Training...\n"
     ]
    },
    {
     "name": "stderr",
     "output_type": "stream",
     "text": [
      "WARNING:root:FidelityQuantumKernel skipped because of time.\n",
      "                    Using FidelityStatevectorKernel with AerStatevector.\n",
      "                    Seed cannot be set with FidelityStatevectorKernel.\n",
      "                    Increase the number of shots to diminish the noise.\n"
     ]
    },
    {
     "name": "stdout",
     "output_type": "stream",
     "text": [
      "[QClass]  Prediction finished.\n",
      "[QClass]  Initializing Quantum Classifier\n",
      "[QClass]  Quantum simulation will be performed\n",
      "GPU optimization disabled. No device found.\n",
      "[QClass]  Fitting:  (545, 3)\n",
      "[QClass]  Feature dimension =  3\n",
      "[QClass]  Quantum backend =  AerSimulator('aer_simulator_statevector')\n",
      "[QClass]  seed =  332897\n",
      "[QClass]  SVM initiating algorithm\n",
      "[QClass]  Training...\n"
     ]
    },
    {
     "name": "stderr",
     "output_type": "stream",
     "text": [
      "WARNING:root:FidelityQuantumKernel skipped because of time.\n",
      "                    Using FidelityStatevectorKernel with AerStatevector.\n",
      "                    Seed cannot be set with FidelityStatevectorKernel.\n",
      "                    Increase the number of shots to diminish the noise.\n"
     ]
    },
    {
     "name": "stdout",
     "output_type": "stream",
     "text": [
      "[QClass]  Prediction finished.\n",
      "[QClass]  Initializing Quantum Classifier\n",
      "[QClass]  Quantum simulation will be performed\n",
      "GPU optimization disabled. No device found.\n",
      "[QClass]  Fitting:  (544, 3)\n",
      "[QClass]  Feature dimension =  3\n",
      "[QClass]  Quantum backend =  AerSimulator('aer_simulator_statevector')\n",
      "[QClass]  seed =  332897\n",
      "[QClass]  SVM initiating algorithm\n",
      "[QClass]  Training...\n"
     ]
    },
    {
     "name": "stderr",
     "output_type": "stream",
     "text": [
      "WARNING:root:FidelityQuantumKernel skipped because of time.\n",
      "                    Using FidelityStatevectorKernel with AerStatevector.\n",
      "                    Seed cannot be set with FidelityStatevectorKernel.\n",
      "                    Increase the number of shots to diminish the noise.\n"
     ]
    },
    {
     "name": "stdout",
     "output_type": "stream",
     "text": [
      "[QClass]  Prediction finished.\n",
      "[QClass]  Initializing Quantum Classifier\n",
      "[QClass]  Quantum simulation will be performed\n",
      "GPU optimization disabled. No device found.\n",
      "[QClass]  Fitting:  (545, 3)\n",
      "[QClass]  Feature dimension =  3\n",
      "[QClass]  Quantum backend =  AerSimulator('aer_simulator_statevector')\n",
      "[QClass]  seed =  332897\n",
      "[QClass]  SVM initiating algorithm\n",
      "[QClass]  Training...\n"
     ]
    },
    {
     "name": "stderr",
     "output_type": "stream",
     "text": [
      "WARNING:root:FidelityQuantumKernel skipped because of time.\n",
      "                    Using FidelityStatevectorKernel with AerStatevector.\n",
      "                    Seed cannot be set with FidelityStatevectorKernel.\n",
      "                    Increase the number of shots to diminish the noise.\n"
     ]
    },
    {
     "name": "stdout",
     "output_type": "stream",
     "text": [
      "[QClass]  Prediction finished.\n",
      "[QClass]  Initializing Quantum Classifier\n",
      "[QClass]  Quantum simulation will be performed\n",
      "GPU optimization disabled. No device found.\n",
      "[QClass]  Fitting:  (545, 3)\n",
      "[QClass]  Feature dimension =  3\n",
      "[QClass]  Quantum backend =  AerSimulator('aer_simulator_statevector')\n",
      "[QClass]  seed =  332897\n",
      "[QClass]  SVM initiating algorithm\n",
      "[QClass]  Training...\n"
     ]
    },
    {
     "name": "stderr",
     "output_type": "stream",
     "text": [
      "WARNING:root:FidelityQuantumKernel skipped because of time.\n",
      "                    Using FidelityStatevectorKernel with AerStatevector.\n",
      "                    Seed cannot be set with FidelityStatevectorKernel.\n",
      "                    Increase the number of shots to diminish the noise.\n"
     ]
    },
    {
     "name": "stdout",
     "output_type": "stream",
     "text": [
      "[QClass]  Prediction finished.\n",
      "[QClass]  Initializing Quantum Classifier\n",
      "[QClass]  Quantum simulation will be performed\n",
      "GPU optimization disabled. No device found.\n",
      "[QClass]  Fitting:  (545, 3)\n",
      "[QClass]  Feature dimension =  3\n",
      "[QClass]  Quantum backend =  AerSimulator('aer_simulator_statevector')\n",
      "[QClass]  seed =  332897\n",
      "[QClass]  SVM initiating algorithm\n",
      "[QClass]  Training...\n"
     ]
    },
    {
     "name": "stderr",
     "output_type": "stream",
     "text": [
      "WARNING:root:FidelityQuantumKernel skipped because of time.\n",
      "                    Using FidelityStatevectorKernel with AerStatevector.\n",
      "                    Seed cannot be set with FidelityStatevectorKernel.\n",
      "                    Increase the number of shots to diminish the noise.\n"
     ]
    },
    {
     "name": "stdout",
     "output_type": "stream",
     "text": [
      "[QClass]  Prediction finished.\n",
      "[QClass]  Initializing Quantum Classifier\n",
      "[QClass]  Quantum simulation will be performed\n",
      "GPU optimization disabled. No device found.\n",
      "[QClass]  Fitting:  (545, 3)\n",
      "[QClass]  Feature dimension =  3\n",
      "[QClass]  Quantum backend =  AerSimulator('aer_simulator_statevector')\n",
      "[QClass]  seed =  332897\n",
      "[QClass]  SVM initiating algorithm\n",
      "[QClass]  Training...\n"
     ]
    },
    {
     "name": "stderr",
     "output_type": "stream",
     "text": [
      "WARNING:root:FidelityQuantumKernel skipped because of time.\n",
      "                    Using FidelityStatevectorKernel with AerStatevector.\n",
      "                    Seed cannot be set with FidelityStatevectorKernel.\n",
      "                    Increase the number of shots to diminish the noise.\n"
     ]
    },
    {
     "name": "stdout",
     "output_type": "stream",
     "text": [
      "[QClass]  Prediction finished.\n",
      "[QClass]  Initializing Quantum Classifier\n",
      "[QClass]  Quantum simulation will be performed\n",
      "GPU optimization disabled. No device found.\n",
      "[QClass]  Fitting:  (544, 3)\n",
      "[QClass]  Feature dimension =  3\n",
      "[QClass]  Quantum backend =  AerSimulator('aer_simulator_statevector')\n",
      "[QClass]  seed =  332897\n",
      "[QClass]  SVM initiating algorithm\n",
      "[QClass]  Training...\n"
     ]
    },
    {
     "name": "stderr",
     "output_type": "stream",
     "text": [
      "WARNING:root:FidelityQuantumKernel skipped because of time.\n",
      "                    Using FidelityStatevectorKernel with AerStatevector.\n",
      "                    Seed cannot be set with FidelityStatevectorKernel.\n",
      "                    Increase the number of shots to diminish the noise.\n"
     ]
    },
    {
     "name": "stdout",
     "output_type": "stream",
     "text": [
      "[QClass]  Prediction finished.\n",
      "[QClass]  Initializing Quantum Classifier\n",
      "[QClass]  Quantum simulation will be performed\n",
      "GPU optimization disabled. No device found.\n",
      "[QClass]  Fitting:  (545, 3)\n",
      "[QClass]  Feature dimension =  3\n",
      "[QClass]  Quantum backend =  AerSimulator('aer_simulator_statevector')\n",
      "[QClass]  seed =  332897\n",
      "[QClass]  SVM initiating algorithm\n",
      "[QClass]  Training...\n"
     ]
    },
    {
     "name": "stderr",
     "output_type": "stream",
     "text": [
      "WARNING:root:FidelityQuantumKernel skipped because of time.\n",
      "                    Using FidelityStatevectorKernel with AerStatevector.\n",
      "                    Seed cannot be set with FidelityStatevectorKernel.\n",
      "                    Increase the number of shots to diminish the noise.\n"
     ]
    },
    {
     "name": "stdout",
     "output_type": "stream",
     "text": [
      "[QClass]  Prediction finished.\n",
      "[QClass]  Initializing Quantum Classifier\n",
      "[QClass]  Quantum simulation will be performed\n",
      "GPU optimization disabled. No device found.\n",
      "[QClass]  Fitting:  (545, 3)\n",
      "[QClass]  Feature dimension =  3\n",
      "[QClass]  Quantum backend =  AerSimulator('aer_simulator_statevector')\n",
      "[QClass]  seed =  332897\n",
      "[QClass]  SVM initiating algorithm\n",
      "[QClass]  Training...\n"
     ]
    },
    {
     "name": "stderr",
     "output_type": "stream",
     "text": [
      "WARNING:root:FidelityQuantumKernel skipped because of time.\n",
      "                    Using FidelityStatevectorKernel with AerStatevector.\n",
      "                    Seed cannot be set with FidelityStatevectorKernel.\n",
      "                    Increase the number of shots to diminish the noise.\n"
     ]
    },
    {
     "name": "stdout",
     "output_type": "stream",
     "text": [
      "[QClass]  Prediction finished.\n",
      "[QClass]  Initializing Quantum Classifier\n",
      "[QClass]  Quantum simulation will be performed\n",
      "GPU optimization disabled. No device found.\n",
      "[QClass]  Fitting:  (545, 3)\n",
      "[QClass]  Feature dimension =  3\n",
      "[QClass]  Quantum backend =  AerSimulator('aer_simulator_statevector')\n",
      "[QClass]  seed =  332897\n",
      "[QClass]  SVM initiating algorithm\n",
      "[QClass]  Training...\n"
     ]
    },
    {
     "name": "stderr",
     "output_type": "stream",
     "text": [
      "WARNING:root:FidelityQuantumKernel skipped because of time.\n",
      "                    Using FidelityStatevectorKernel with AerStatevector.\n",
      "                    Seed cannot be set with FidelityStatevectorKernel.\n",
      "                    Increase the number of shots to diminish the noise.\n"
     ]
    },
    {
     "name": "stdout",
     "output_type": "stream",
     "text": [
      "[QClass]  Prediction finished.\n",
      "[QClass]  Initializing Quantum Classifier\n",
      "[QClass]  Quantum simulation will be performed\n",
      "GPU optimization disabled. No device found.\n",
      "[QClass]  Fitting:  (545, 3)\n",
      "[QClass]  Feature dimension =  3\n",
      "[QClass]  Quantum backend =  AerSimulator('aer_simulator_statevector')\n",
      "[QClass]  seed =  332897\n",
      "[QClass]  SVM initiating algorithm\n",
      "[QClass]  Training...\n"
     ]
    },
    {
     "name": "stderr",
     "output_type": "stream",
     "text": [
      "WARNING:root:FidelityQuantumKernel skipped because of time.\n",
      "                    Using FidelityStatevectorKernel with AerStatevector.\n",
      "                    Seed cannot be set with FidelityStatevectorKernel.\n",
      "                    Increase the number of shots to diminish the noise.\n"
     ]
    },
    {
     "name": "stdout",
     "output_type": "stream",
     "text": [
      "[QClass]  Prediction finished.\n",
      "[QClass]  Initializing Quantum Classifier\n",
      "[QClass]  Quantum simulation will be performed\n",
      "GPU optimization disabled. No device found.\n",
      "[QClass]  Fitting:  (544, 3)\n",
      "[QClass]  Feature dimension =  3\n",
      "[QClass]  Quantum backend =  AerSimulator('aer_simulator_statevector')\n",
      "[QClass]  seed =  332897\n",
      "[QClass]  SVM initiating algorithm\n",
      "[QClass]  Training...\n"
     ]
    },
    {
     "name": "stderr",
     "output_type": "stream",
     "text": [
      "WARNING:root:FidelityQuantumKernel skipped because of time.\n",
      "                    Using FidelityStatevectorKernel with AerStatevector.\n",
      "                    Seed cannot be set with FidelityStatevectorKernel.\n",
      "                    Increase the number of shots to diminish the noise.\n"
     ]
    },
    {
     "name": "stdout",
     "output_type": "stream",
     "text": [
      "[QClass]  Prediction finished.\n",
      "[QClass]  Initializing Quantum Classifier\n",
      "[QClass]  Quantum simulation will be performed\n",
      "GPU optimization disabled. No device found.\n",
      "[QClass]  Fitting:  (545, 3)\n",
      "[QClass]  Feature dimension =  3\n",
      "[QClass]  Quantum backend =  AerSimulator('aer_simulator_statevector')\n",
      "[QClass]  seed =  332897\n",
      "[QClass]  SVM initiating algorithm\n",
      "[QClass]  Training...\n"
     ]
    },
    {
     "name": "stderr",
     "output_type": "stream",
     "text": [
      "WARNING:root:FidelityQuantumKernel skipped because of time.\n",
      "                    Using FidelityStatevectorKernel with AerStatevector.\n",
      "                    Seed cannot be set with FidelityStatevectorKernel.\n",
      "                    Increase the number of shots to diminish the noise.\n"
     ]
    },
    {
     "name": "stdout",
     "output_type": "stream",
     "text": [
      "[QClass]  Prediction finished.\n",
      "[QClass]  Initializing Quantum Classifier\n",
      "[QClass]  Quantum simulation will be performed\n",
      "GPU optimization disabled. No device found.\n",
      "[QClass]  Fitting:  (545, 3)\n",
      "[QClass]  Feature dimension =  3\n",
      "[QClass]  Quantum backend =  AerSimulator('aer_simulator_statevector')\n",
      "[QClass]  seed =  332897\n",
      "[QClass]  SVM initiating algorithm\n",
      "[QClass]  Training...\n"
     ]
    },
    {
     "name": "stderr",
     "output_type": "stream",
     "text": [
      "WARNING:root:FidelityQuantumKernel skipped because of time.\n",
      "                    Using FidelityStatevectorKernel with AerStatevector.\n",
      "                    Seed cannot be set with FidelityStatevectorKernel.\n",
      "                    Increase the number of shots to diminish the noise.\n"
     ]
    },
    {
     "name": "stdout",
     "output_type": "stream",
     "text": [
      "[QClass]  Prediction finished.\n",
      "[QClass]  Initializing Quantum Classifier\n",
      "[QClass]  Quantum simulation will be performed\n",
      "GPU optimization disabled. No device found.\n",
      "[QClass]  Fitting:  (545, 3)\n",
      "[QClass]  Feature dimension =  3\n",
      "[QClass]  Quantum backend =  AerSimulator('aer_simulator_statevector')\n",
      "[QClass]  seed =  332897\n",
      "[QClass]  SVM initiating algorithm\n",
      "[QClass]  Training...\n"
     ]
    },
    {
     "name": "stderr",
     "output_type": "stream",
     "text": [
      "WARNING:root:FidelityQuantumKernel skipped because of time.\n",
      "                    Using FidelityStatevectorKernel with AerStatevector.\n",
      "                    Seed cannot be set with FidelityStatevectorKernel.\n",
      "                    Increase the number of shots to diminish the noise.\n"
     ]
    },
    {
     "name": "stdout",
     "output_type": "stream",
     "text": [
      "[QClass]  Prediction finished.\n",
      "[QClass]  Initializing Quantum Classifier\n",
      "[QClass]  Quantum simulation will be performed\n",
      "GPU optimization disabled. No device found.\n",
      "[QClass]  Fitting:  (545, 3)\n",
      "[QClass]  Feature dimension =  3\n",
      "[QClass]  Quantum backend =  AerSimulator('aer_simulator_statevector')\n",
      "[QClass]  seed =  332897\n",
      "[QClass]  SVM initiating algorithm\n",
      "[QClass]  Training...\n"
     ]
    },
    {
     "name": "stderr",
     "output_type": "stream",
     "text": [
      "WARNING:root:FidelityQuantumKernel skipped because of time.\n",
      "                    Using FidelityStatevectorKernel with AerStatevector.\n",
      "                    Seed cannot be set with FidelityStatevectorKernel.\n",
      "                    Increase the number of shots to diminish the noise.\n"
     ]
    },
    {
     "name": "stdout",
     "output_type": "stream",
     "text": [
      "[QClass]  Prediction finished.\n",
      "[QClass]  Initializing Quantum Classifier\n",
      "[QClass]  Quantum simulation will be performed\n",
      "GPU optimization disabled. No device found.\n",
      "[QClass]  Fitting:  (544, 3)\n",
      "[QClass]  Feature dimension =  3\n",
      "[QClass]  Quantum backend =  AerSimulator('aer_simulator_statevector')\n",
      "[QClass]  seed =  332897\n",
      "[QClass]  SVM initiating algorithm\n",
      "[QClass]  Training...\n"
     ]
    },
    {
     "name": "stderr",
     "output_type": "stream",
     "text": [
      "WARNING:root:FidelityQuantumKernel skipped because of time.\n",
      "                    Using FidelityStatevectorKernel with AerStatevector.\n",
      "                    Seed cannot be set with FidelityStatevectorKernel.\n",
      "                    Increase the number of shots to diminish the noise.\n"
     ]
    },
    {
     "name": "stdout",
     "output_type": "stream",
     "text": [
      "[QClass]  Prediction finished.\n",
      "[QClass]  Initializing Quantum Classifier\n",
      "[QClass]  Quantum simulation will be performed\n",
      "GPU optimization disabled. No device found.\n",
      "[QClass]  Fitting:  (545, 3)\n",
      "[QClass]  Feature dimension =  3\n",
      "[QClass]  Quantum backend =  AerSimulator('aer_simulator_statevector')\n",
      "[QClass]  seed =  332897\n",
      "[QClass]  SVM initiating algorithm\n",
      "[QClass]  Training...\n"
     ]
    },
    {
     "name": "stderr",
     "output_type": "stream",
     "text": [
      "WARNING:root:FidelityQuantumKernel skipped because of time.\n",
      "                    Using FidelityStatevectorKernel with AerStatevector.\n",
      "                    Seed cannot be set with FidelityStatevectorKernel.\n",
      "                    Increase the number of shots to diminish the noise.\n"
     ]
    },
    {
     "name": "stdout",
     "output_type": "stream",
     "text": [
      "[QClass]  Prediction finished.\n",
      "[QClass]  Initializing Quantum Classifier\n",
      "[QClass]  Quantum simulation will be performed\n",
      "GPU optimization disabled. No device found.\n",
      "[QClass]  Fitting:  (545, 3)\n",
      "[QClass]  Feature dimension =  3\n",
      "[QClass]  Quantum backend =  AerSimulator('aer_simulator_statevector')\n",
      "[QClass]  seed =  332897\n",
      "[QClass]  SVM initiating algorithm\n",
      "[QClass]  Training...\n"
     ]
    },
    {
     "name": "stderr",
     "output_type": "stream",
     "text": [
      "WARNING:root:FidelityQuantumKernel skipped because of time.\n",
      "                    Using FidelityStatevectorKernel with AerStatevector.\n",
      "                    Seed cannot be set with FidelityStatevectorKernel.\n",
      "                    Increase the number of shots to diminish the noise.\n"
     ]
    },
    {
     "name": "stdout",
     "output_type": "stream",
     "text": [
      "[QClass]  Prediction finished.\n",
      "[QClass]  Initializing Quantum Classifier\n",
      "[QClass]  Quantum simulation will be performed\n",
      "GPU optimization disabled. No device found.\n",
      "[QClass]  Fitting:  (545, 3)\n",
      "[QClass]  Feature dimension =  3\n",
      "[QClass]  Quantum backend =  AerSimulator('aer_simulator_statevector')\n",
      "[QClass]  seed =  332897\n",
      "[QClass]  SVM initiating algorithm\n",
      "[QClass]  Training...\n"
     ]
    },
    {
     "name": "stderr",
     "output_type": "stream",
     "text": [
      "WARNING:root:FidelityQuantumKernel skipped because of time.\n",
      "                    Using FidelityStatevectorKernel with AerStatevector.\n",
      "                    Seed cannot be set with FidelityStatevectorKernel.\n",
      "                    Increase the number of shots to diminish the noise.\n"
     ]
    },
    {
     "name": "stdout",
     "output_type": "stream",
     "text": [
      "[QClass]  Prediction finished.\n",
      "[QClass]  Initializing Quantum Classifier\n",
      "[QClass]  Quantum simulation will be performed\n",
      "GPU optimization disabled. No device found.\n",
      "[QClass]  Fitting:  (545, 3)\n",
      "[QClass]  Feature dimension =  3\n",
      "[QClass]  Quantum backend =  AerSimulator('aer_simulator_statevector')\n",
      "[QClass]  seed =  332897\n",
      "[QClass]  SVM initiating algorithm\n",
      "[QClass]  Training...\n"
     ]
    },
    {
     "name": "stderr",
     "output_type": "stream",
     "text": [
      "WARNING:root:FidelityQuantumKernel skipped because of time.\n",
      "                    Using FidelityStatevectorKernel with AerStatevector.\n",
      "                    Seed cannot be set with FidelityStatevectorKernel.\n",
      "                    Increase the number of shots to diminish the noise.\n"
     ]
    },
    {
     "name": "stdout",
     "output_type": "stream",
     "text": [
      "[QClass]  Prediction finished.\n",
      "[QClass]  Initializing Quantum Classifier\n",
      "[QClass]  Quantum simulation will be performed\n",
      "GPU optimization disabled. No device found.\n",
      "[QClass]  Fitting:  (544, 3)\n",
      "[QClass]  Feature dimension =  3\n",
      "[QClass]  Quantum backend =  AerSimulator('aer_simulator_statevector')\n",
      "[QClass]  seed =  332897\n",
      "[QClass]  SVM initiating algorithm\n",
      "[QClass]  Training...\n"
     ]
    },
    {
     "name": "stderr",
     "output_type": "stream",
     "text": [
      "WARNING:root:FidelityQuantumKernel skipped because of time.\n",
      "                    Using FidelityStatevectorKernel with AerStatevector.\n",
      "                    Seed cannot be set with FidelityStatevectorKernel.\n",
      "                    Increase the number of shots to diminish the noise.\n"
     ]
    },
    {
     "name": "stdout",
     "output_type": "stream",
     "text": [
      "[QClass]  Prediction finished.\n",
      "[QClass]  Initializing Quantum Classifier\n",
      "[QClass]  Quantum simulation will be performed\n",
      "GPU optimization disabled. No device found.\n",
      "[QClass]  Fitting:  (545, 3)\n",
      "[QClass]  Feature dimension =  3\n",
      "[QClass]  Quantum backend =  AerSimulator('aer_simulator_statevector')\n",
      "[QClass]  seed =  332897\n",
      "[QClass]  SVM initiating algorithm\n",
      "[QClass]  Training...\n"
     ]
    },
    {
     "name": "stderr",
     "output_type": "stream",
     "text": [
      "WARNING:root:FidelityQuantumKernel skipped because of time.\n",
      "                    Using FidelityStatevectorKernel with AerStatevector.\n",
      "                    Seed cannot be set with FidelityStatevectorKernel.\n",
      "                    Increase the number of shots to diminish the noise.\n"
     ]
    },
    {
     "name": "stdout",
     "output_type": "stream",
     "text": [
      "[QClass]  Prediction finished.\n",
      "[QClass]  Initializing Quantum Classifier\n",
      "[QClass]  Quantum simulation will be performed\n",
      "GPU optimization disabled. No device found.\n",
      "[QClass]  Fitting:  (545, 3)\n",
      "[QClass]  Feature dimension =  3\n",
      "[QClass]  Quantum backend =  AerSimulator('aer_simulator_statevector')\n",
      "[QClass]  seed =  332897\n",
      "[QClass]  SVM initiating algorithm\n",
      "[QClass]  Training...\n"
     ]
    },
    {
     "name": "stderr",
     "output_type": "stream",
     "text": [
      "WARNING:root:FidelityQuantumKernel skipped because of time.\n",
      "                    Using FidelityStatevectorKernel with AerStatevector.\n",
      "                    Seed cannot be set with FidelityStatevectorKernel.\n",
      "                    Increase the number of shots to diminish the noise.\n"
     ]
    },
    {
     "name": "stdout",
     "output_type": "stream",
     "text": [
      "[QClass]  Prediction finished.\n",
      "[QClass]  Initializing Quantum Classifier\n",
      "[QClass]  Quantum simulation will be performed\n",
      "GPU optimization disabled. No device found.\n",
      "[QClass]  Fitting:  (545, 3)\n",
      "[QClass]  Feature dimension =  3\n",
      "[QClass]  Quantum backend =  AerSimulator('aer_simulator_statevector')\n",
      "[QClass]  seed =  332897\n",
      "[QClass]  SVM initiating algorithm\n",
      "[QClass]  Training...\n"
     ]
    },
    {
     "name": "stderr",
     "output_type": "stream",
     "text": [
      "WARNING:root:FidelityQuantumKernel skipped because of time.\n",
      "                    Using FidelityStatevectorKernel with AerStatevector.\n",
      "                    Seed cannot be set with FidelityStatevectorKernel.\n",
      "                    Increase the number of shots to diminish the noise.\n"
     ]
    },
    {
     "name": "stdout",
     "output_type": "stream",
     "text": [
      "[QClass]  Prediction finished.\n",
      "[QClass]  Initializing Quantum Classifier\n",
      "[QClass]  Quantum simulation will be performed\n",
      "GPU optimization disabled. No device found.\n",
      "[QClass]  Fitting:  (545, 3)\n",
      "[QClass]  Feature dimension =  3\n",
      "[QClass]  Quantum backend =  AerSimulator('aer_simulator_statevector')\n",
      "[QClass]  seed =  332897\n",
      "[QClass]  SVM initiating algorithm\n",
      "[QClass]  Training...\n"
     ]
    },
    {
     "name": "stderr",
     "output_type": "stream",
     "text": [
      "WARNING:root:FidelityQuantumKernel skipped because of time.\n",
      "                    Using FidelityStatevectorKernel with AerStatevector.\n",
      "                    Seed cannot be set with FidelityStatevectorKernel.\n",
      "                    Increase the number of shots to diminish the noise.\n"
     ]
    },
    {
     "name": "stdout",
     "output_type": "stream",
     "text": [
      "[QClass]  Prediction finished.\n",
      "[QClass]  Initializing Quantum Classifier\n",
      "[QClass]  Quantum simulation will be performed\n",
      "GPU optimization disabled. No device found.\n",
      "[QClass]  Fitting:  (544, 3)\n",
      "[QClass]  Feature dimension =  3\n",
      "[QClass]  Quantum backend =  AerSimulator('aer_simulator_statevector')\n",
      "[QClass]  seed =  332897\n",
      "[QClass]  SVM initiating algorithm\n",
      "[QClass]  Training...\n"
     ]
    },
    {
     "name": "stderr",
     "output_type": "stream",
     "text": [
      "WARNING:root:FidelityQuantumKernel skipped because of time.\n",
      "                    Using FidelityStatevectorKernel with AerStatevector.\n",
      "                    Seed cannot be set with FidelityStatevectorKernel.\n",
      "                    Increase the number of shots to diminish the noise.\n"
     ]
    },
    {
     "name": "stdout",
     "output_type": "stream",
     "text": [
      "[QClass]  Prediction finished.\n",
      "[QClass]  Initializing Quantum Classifier\n",
      "[QClass]  Quantum simulation will be performed\n",
      "GPU optimization disabled. No device found.\n",
      "[QClass]  Fitting:  (545, 3)\n",
      "[QClass]  Feature dimension =  3\n",
      "[QClass]  Quantum backend =  AerSimulator('aer_simulator_statevector')\n",
      "[QClass]  seed =  332897\n",
      "[QClass]  SVM initiating algorithm\n",
      "[QClass]  Training...\n"
     ]
    },
    {
     "name": "stderr",
     "output_type": "stream",
     "text": [
      "WARNING:root:FidelityQuantumKernel skipped because of time.\n",
      "                    Using FidelityStatevectorKernel with AerStatevector.\n",
      "                    Seed cannot be set with FidelityStatevectorKernel.\n",
      "                    Increase the number of shots to diminish the noise.\n"
     ]
    },
    {
     "name": "stdout",
     "output_type": "stream",
     "text": [
      "[QClass]  Prediction finished.\n",
      "[QClass]  Initializing Quantum Classifier\n",
      "[QClass]  Quantum simulation will be performed\n",
      "GPU optimization disabled. No device found.\n",
      "[QClass]  Fitting:  (545, 3)\n",
      "[QClass]  Feature dimension =  3\n",
      "[QClass]  Quantum backend =  AerSimulator('aer_simulator_statevector')\n",
      "[QClass]  seed =  332897\n",
      "[QClass]  SVM initiating algorithm\n",
      "[QClass]  Training...\n"
     ]
    },
    {
     "name": "stderr",
     "output_type": "stream",
     "text": [
      "WARNING:root:FidelityQuantumKernel skipped because of time.\n",
      "                    Using FidelityStatevectorKernel with AerStatevector.\n",
      "                    Seed cannot be set with FidelityStatevectorKernel.\n",
      "                    Increase the number of shots to diminish the noise.\n"
     ]
    },
    {
     "name": "stdout",
     "output_type": "stream",
     "text": [
      "[QClass]  Prediction finished.\n",
      "[QClass]  Initializing Quantum Classifier\n",
      "[QClass]  Quantum simulation will be performed\n",
      "GPU optimization disabled. No device found.\n",
      "[QClass]  Fitting:  (545, 3)\n",
      "[QClass]  Feature dimension =  3\n",
      "[QClass]  Quantum backend =  AerSimulator('aer_simulator_statevector')\n",
      "[QClass]  seed =  332897\n",
      "[QClass]  SVM initiating algorithm\n",
      "[QClass]  Training...\n"
     ]
    },
    {
     "name": "stderr",
     "output_type": "stream",
     "text": [
      "WARNING:root:FidelityQuantumKernel skipped because of time.\n",
      "                    Using FidelityStatevectorKernel with AerStatevector.\n",
      "                    Seed cannot be set with FidelityStatevectorKernel.\n",
      "                    Increase the number of shots to diminish the noise.\n"
     ]
    },
    {
     "name": "stdout",
     "output_type": "stream",
     "text": [
      "[QClass]  Prediction finished.\n",
      "[QClass]  Initializing Quantum Classifier\n",
      "[QClass]  Quantum simulation will be performed\n",
      "GPU optimization disabled. No device found.\n",
      "[QClass]  Fitting:  (545, 3)\n",
      "[QClass]  Feature dimension =  3\n",
      "[QClass]  Quantum backend =  AerSimulator('aer_simulator_statevector')\n",
      "[QClass]  seed =  332897\n",
      "[QClass]  SVM initiating algorithm\n",
      "[QClass]  Training...\n"
     ]
    },
    {
     "name": "stderr",
     "output_type": "stream",
     "text": [
      "WARNING:root:FidelityQuantumKernel skipped because of time.\n",
      "                    Using FidelityStatevectorKernel with AerStatevector.\n",
      "                    Seed cannot be set with FidelityStatevectorKernel.\n",
      "                    Increase the number of shots to diminish the noise.\n"
     ]
    },
    {
     "name": "stdout",
     "output_type": "stream",
     "text": [
      "[QClass]  Prediction finished.\n",
      "[QClass]  Initializing Quantum Classifier\n",
      "[QClass]  Quantum simulation will be performed\n",
      "GPU optimization disabled. No device found.\n",
      "[QClass]  Fitting:  (544, 3)\n",
      "[QClass]  Feature dimension =  3\n",
      "[QClass]  Quantum backend =  AerSimulator('aer_simulator_statevector')\n",
      "[QClass]  seed =  332897\n",
      "[QClass]  SVM initiating algorithm\n",
      "[QClass]  Training...\n"
     ]
    },
    {
     "name": "stderr",
     "output_type": "stream",
     "text": [
      "WARNING:root:FidelityQuantumKernel skipped because of time.\n",
      "                    Using FidelityStatevectorKernel with AerStatevector.\n",
      "                    Seed cannot be set with FidelityStatevectorKernel.\n",
      "                    Increase the number of shots to diminish the noise.\n"
     ]
    },
    {
     "name": "stdout",
     "output_type": "stream",
     "text": [
      "[QClass]  Prediction finished.\n",
      "[QClass]  Initializing Quantum Classifier\n",
      "[QClass]  Quantum simulation will be performed\n",
      "GPU optimization disabled. No device found.\n",
      "[QClass]  Fitting:  (545, 3)\n",
      "[QClass]  Feature dimension =  3\n",
      "[QClass]  Quantum backend =  AerSimulator('aer_simulator_statevector')\n",
      "[QClass]  seed =  332897\n",
      "[QClass]  SVM initiating algorithm\n",
      "[QClass]  Training...\n"
     ]
    },
    {
     "name": "stderr",
     "output_type": "stream",
     "text": [
      "WARNING:root:FidelityQuantumKernel skipped because of time.\n",
      "                    Using FidelityStatevectorKernel with AerStatevector.\n",
      "                    Seed cannot be set with FidelityStatevectorKernel.\n",
      "                    Increase the number of shots to diminish the noise.\n"
     ]
    },
    {
     "name": "stdout",
     "output_type": "stream",
     "text": [
      "[QClass]  Prediction finished.\n",
      "[QClass]  Initializing Quantum Classifier\n",
      "[QClass]  Quantum simulation will be performed\n",
      "GPU optimization disabled. No device found.\n",
      "[QClass]  Fitting:  (545, 3)\n",
      "[QClass]  Feature dimension =  3\n",
      "[QClass]  Quantum backend =  AerSimulator('aer_simulator_statevector')\n",
      "[QClass]  seed =  332897\n",
      "[QClass]  SVM initiating algorithm\n",
      "[QClass]  Training...\n"
     ]
    },
    {
     "name": "stderr",
     "output_type": "stream",
     "text": [
      "WARNING:root:FidelityQuantumKernel skipped because of time.\n",
      "                    Using FidelityStatevectorKernel with AerStatevector.\n",
      "                    Seed cannot be set with FidelityStatevectorKernel.\n",
      "                    Increase the number of shots to diminish the noise.\n"
     ]
    },
    {
     "name": "stdout",
     "output_type": "stream",
     "text": [
      "[QClass]  Prediction finished.\n",
      "[QClass]  Initializing Quantum Classifier\n",
      "[QClass]  Quantum simulation will be performed\n",
      "GPU optimization disabled. No device found.\n",
      "[QClass]  Fitting:  (545, 3)\n",
      "[QClass]  Feature dimension =  3\n",
      "[QClass]  Quantum backend =  AerSimulator('aer_simulator_statevector')\n",
      "[QClass]  seed =  332897\n",
      "[QClass]  SVM initiating algorithm\n",
      "[QClass]  Training...\n"
     ]
    },
    {
     "name": "stderr",
     "output_type": "stream",
     "text": [
      "WARNING:root:FidelityQuantumKernel skipped because of time.\n",
      "                    Using FidelityStatevectorKernel with AerStatevector.\n",
      "                    Seed cannot be set with FidelityStatevectorKernel.\n",
      "                    Increase the number of shots to diminish the noise.\n"
     ]
    },
    {
     "name": "stdout",
     "output_type": "stream",
     "text": [
      "[QClass]  Prediction finished.\n",
      "[QClass]  Initializing Quantum Classifier\n",
      "[QClass]  Quantum simulation will be performed\n",
      "GPU optimization disabled. No device found.\n",
      "[QClass]  Fitting:  (545, 3)\n",
      "[QClass]  Feature dimension =  3\n",
      "[QClass]  Quantum backend =  AerSimulator('aer_simulator_statevector')\n",
      "[QClass]  seed =  332897\n",
      "[QClass]  SVM initiating algorithm\n",
      "[QClass]  Training...\n"
     ]
    },
    {
     "name": "stderr",
     "output_type": "stream",
     "text": [
      "WARNING:root:FidelityQuantumKernel skipped because of time.\n",
      "                    Using FidelityStatevectorKernel with AerStatevector.\n",
      "                    Seed cannot be set with FidelityStatevectorKernel.\n",
      "                    Increase the number of shots to diminish the noise.\n"
     ]
    },
    {
     "name": "stdout",
     "output_type": "stream",
     "text": [
      "[QClass]  Prediction finished.\n",
      "[QClass]  Initializing Quantum Classifier\n",
      "[QClass]  Quantum simulation will be performed\n",
      "GPU optimization disabled. No device found.\n",
      "[QClass]  Fitting:  (544, 3)\n",
      "[QClass]  Feature dimension =  3\n",
      "[QClass]  Quantum backend =  AerSimulator('aer_simulator_statevector')\n",
      "[QClass]  seed =  332897\n",
      "[QClass]  SVM initiating algorithm\n",
      "[QClass]  Training...\n"
     ]
    },
    {
     "name": "stderr",
     "output_type": "stream",
     "text": [
      "WARNING:root:FidelityQuantumKernel skipped because of time.\n",
      "                    Using FidelityStatevectorKernel with AerStatevector.\n",
      "                    Seed cannot be set with FidelityStatevectorKernel.\n",
      "                    Increase the number of shots to diminish the noise.\n"
     ]
    },
    {
     "name": "stdout",
     "output_type": "stream",
     "text": [
      "[QClass]  Prediction finished.\n",
      "[QClass]  Initializing Quantum Classifier\n",
      "[QClass]  Quantum simulation will be performed\n",
      "GPU optimization disabled. No device found.\n",
      "[QClass]  Fitting:  (545, 3)\n",
      "[QClass]  Feature dimension =  3\n",
      "[QClass]  Quantum backend =  AerSimulator('aer_simulator_statevector')\n",
      "[QClass]  seed =  332897\n",
      "[QClass]  SVM initiating algorithm\n",
      "[QClass]  Training...\n"
     ]
    },
    {
     "name": "stderr",
     "output_type": "stream",
     "text": [
      "WARNING:root:FidelityQuantumKernel skipped because of time.\n",
      "                    Using FidelityStatevectorKernel with AerStatevector.\n",
      "                    Seed cannot be set with FidelityStatevectorKernel.\n",
      "                    Increase the number of shots to diminish the noise.\n"
     ]
    },
    {
     "name": "stdout",
     "output_type": "stream",
     "text": [
      "[QClass]  Prediction finished.\n",
      "[QClass]  Initializing Quantum Classifier\n",
      "[QClass]  Quantum simulation will be performed\n",
      "GPU optimization disabled. No device found.\n",
      "[QClass]  Fitting:  (545, 3)\n",
      "[QClass]  Feature dimension =  3\n",
      "[QClass]  Quantum backend =  AerSimulator('aer_simulator_statevector')\n",
      "[QClass]  seed =  332897\n",
      "[QClass]  SVM initiating algorithm\n",
      "[QClass]  Training...\n"
     ]
    },
    {
     "name": "stderr",
     "output_type": "stream",
     "text": [
      "WARNING:root:FidelityQuantumKernel skipped because of time.\n",
      "                    Using FidelityStatevectorKernel with AerStatevector.\n",
      "                    Seed cannot be set with FidelityStatevectorKernel.\n",
      "                    Increase the number of shots to diminish the noise.\n"
     ]
    },
    {
     "name": "stdout",
     "output_type": "stream",
     "text": [
      "[QClass]  Prediction finished.\n",
      "[QClass]  Initializing Quantum Classifier\n",
      "[QClass]  Quantum simulation will be performed\n",
      "GPU optimization disabled. No device found.\n",
      "[QClass]  Fitting:  (545, 3)\n",
      "[QClass]  Feature dimension =  3\n",
      "[QClass]  Quantum backend =  AerSimulator('aer_simulator_statevector')\n",
      "[QClass]  seed =  332897\n",
      "[QClass]  SVM initiating algorithm\n",
      "[QClass]  Training...\n"
     ]
    },
    {
     "name": "stderr",
     "output_type": "stream",
     "text": [
      "WARNING:root:FidelityQuantumKernel skipped because of time.\n",
      "                    Using FidelityStatevectorKernel with AerStatevector.\n",
      "                    Seed cannot be set with FidelityStatevectorKernel.\n",
      "                    Increase the number of shots to diminish the noise.\n"
     ]
    },
    {
     "name": "stdout",
     "output_type": "stream",
     "text": [
      "[QClass]  Prediction finished.\n",
      "[QClass]  Initializing Quantum Classifier\n",
      "[QClass]  Quantum simulation will be performed\n",
      "GPU optimization disabled. No device found.\n",
      "[QClass]  Fitting:  (545, 3)\n",
      "[QClass]  Feature dimension =  3\n",
      "[QClass]  Quantum backend =  AerSimulator('aer_simulator_statevector')\n",
      "[QClass]  seed =  332897\n",
      "[QClass]  SVM initiating algorithm\n",
      "[QClass]  Training...\n"
     ]
    },
    {
     "name": "stderr",
     "output_type": "stream",
     "text": [
      "WARNING:root:FidelityQuantumKernel skipped because of time.\n",
      "                    Using FidelityStatevectorKernel with AerStatevector.\n",
      "                    Seed cannot be set with FidelityStatevectorKernel.\n",
      "                    Increase the number of shots to diminish the noise.\n"
     ]
    },
    {
     "name": "stdout",
     "output_type": "stream",
     "text": [
      "[QClass]  Prediction finished.\n",
      "[QClass]  Initializing Quantum Classifier\n",
      "[QClass]  Quantum simulation will be performed\n",
      "GPU optimization disabled. No device found.\n",
      "[QClass]  Fitting:  (544, 3)\n",
      "[QClass]  Feature dimension =  3\n",
      "[QClass]  Quantum backend =  AerSimulator('aer_simulator_statevector')\n",
      "[QClass]  seed =  332897\n",
      "[QClass]  SVM initiating algorithm\n",
      "[QClass]  Training...\n"
     ]
    },
    {
     "name": "stderr",
     "output_type": "stream",
     "text": [
      "WARNING:root:FidelityQuantumKernel skipped because of time.\n",
      "                    Using FidelityStatevectorKernel with AerStatevector.\n",
      "                    Seed cannot be set with FidelityStatevectorKernel.\n",
      "                    Increase the number of shots to diminish the noise.\n"
     ]
    },
    {
     "name": "stdout",
     "output_type": "stream",
     "text": [
      "[QClass]  Prediction finished.\n",
      "[QClass]  Initializing Quantum Classifier\n",
      "[QClass]  Quantum simulation will be performed\n",
      "GPU optimization disabled. No device found.\n",
      "[QClass]  Fitting:  (545, 3)\n",
      "[QClass]  Feature dimension =  3\n",
      "[QClass]  Quantum backend =  AerSimulator('aer_simulator_statevector')\n",
      "[QClass]  seed =  332897\n",
      "[QClass]  SVM initiating algorithm\n",
      "[QClass]  Training...\n"
     ]
    },
    {
     "name": "stderr",
     "output_type": "stream",
     "text": [
      "WARNING:root:FidelityQuantumKernel skipped because of time.\n",
      "                    Using FidelityStatevectorKernel with AerStatevector.\n",
      "                    Seed cannot be set with FidelityStatevectorKernel.\n",
      "                    Increase the number of shots to diminish the noise.\n"
     ]
    },
    {
     "name": "stdout",
     "output_type": "stream",
     "text": [
      "[QClass]  Prediction finished.\n",
      "[QClass]  Initializing Quantum Classifier\n",
      "[QClass]  Quantum simulation will be performed\n",
      "GPU optimization disabled. No device found.\n",
      "[QClass]  Fitting:  (545, 3)\n",
      "[QClass]  Feature dimension =  3\n",
      "[QClass]  Quantum backend =  AerSimulator('aer_simulator_statevector')\n",
      "[QClass]  seed =  332897\n",
      "[QClass]  SVM initiating algorithm\n",
      "[QClass]  Training...\n"
     ]
    },
    {
     "name": "stderr",
     "output_type": "stream",
     "text": [
      "WARNING:root:FidelityQuantumKernel skipped because of time.\n",
      "                    Using FidelityStatevectorKernel with AerStatevector.\n",
      "                    Seed cannot be set with FidelityStatevectorKernel.\n",
      "                    Increase the number of shots to diminish the noise.\n"
     ]
    },
    {
     "name": "stdout",
     "output_type": "stream",
     "text": [
      "[QClass]  Prediction finished.\n",
      "[QClass]  Initializing Quantum Classifier\n",
      "[QClass]  Quantum simulation will be performed\n",
      "GPU optimization disabled. No device found.\n",
      "[QClass]  Fitting:  (545, 3)\n",
      "[QClass]  Feature dimension =  3\n",
      "[QClass]  Quantum backend =  AerSimulator('aer_simulator_statevector')\n",
      "[QClass]  seed =  332897\n",
      "[QClass]  SVM initiating algorithm\n",
      "[QClass]  Training...\n"
     ]
    },
    {
     "name": "stderr",
     "output_type": "stream",
     "text": [
      "WARNING:root:FidelityQuantumKernel skipped because of time.\n",
      "                    Using FidelityStatevectorKernel with AerStatevector.\n",
      "                    Seed cannot be set with FidelityStatevectorKernel.\n",
      "                    Increase the number of shots to diminish the noise.\n"
     ]
    },
    {
     "name": "stdout",
     "output_type": "stream",
     "text": [
      "[QClass]  Prediction finished.\n",
      "[QClass]  Initializing Quantum Classifier\n",
      "[QClass]  Quantum simulation will be performed\n",
      "GPU optimization disabled. No device found.\n",
      "[QClass]  Fitting:  (545, 3)\n",
      "[QClass]  Feature dimension =  3\n",
      "[QClass]  Quantum backend =  AerSimulator('aer_simulator_statevector')\n",
      "[QClass]  seed =  332897\n",
      "[QClass]  SVM initiating algorithm\n",
      "[QClass]  Training...\n"
     ]
    },
    {
     "name": "stderr",
     "output_type": "stream",
     "text": [
      "WARNING:root:FidelityQuantumKernel skipped because of time.\n",
      "                    Using FidelityStatevectorKernel with AerStatevector.\n",
      "                    Seed cannot be set with FidelityStatevectorKernel.\n",
      "                    Increase the number of shots to diminish the noise.\n"
     ]
    },
    {
     "name": "stdout",
     "output_type": "stream",
     "text": [
      "[QClass]  Prediction finished.\n",
      "[QClass]  Initializing Quantum Classifier\n",
      "[QClass]  Quantum simulation will be performed\n",
      "GPU optimization disabled. No device found.\n",
      "[QClass]  Fitting:  (544, 3)\n",
      "[QClass]  Feature dimension =  3\n",
      "[QClass]  Quantum backend =  AerSimulator('aer_simulator_statevector')\n",
      "[QClass]  seed =  332897\n",
      "[QClass]  SVM initiating algorithm\n",
      "[QClass]  Training...\n"
     ]
    },
    {
     "name": "stderr",
     "output_type": "stream",
     "text": [
      "WARNING:root:FidelityQuantumKernel skipped because of time.\n",
      "                    Using FidelityStatevectorKernel with AerStatevector.\n",
      "                    Seed cannot be set with FidelityStatevectorKernel.\n",
      "                    Increase the number of shots to diminish the noise.\n"
     ]
    },
    {
     "name": "stdout",
     "output_type": "stream",
     "text": [
      "[QClass]  Prediction finished.\n",
      "[QClass]  Initializing Quantum Classifier\n",
      "[QClass]  Quantum simulation will be performed\n",
      "GPU optimization disabled. No device found.\n",
      "[QClass]  Fitting:  (545, 3)\n",
      "[QClass]  Feature dimension =  3\n",
      "[QClass]  Quantum backend =  AerSimulator('aer_simulator_statevector')\n",
      "[QClass]  seed =  332897\n",
      "[QClass]  SVM initiating algorithm\n",
      "[QClass]  Training...\n"
     ]
    },
    {
     "name": "stderr",
     "output_type": "stream",
     "text": [
      "WARNING:root:FidelityQuantumKernel skipped because of time.\n",
      "                    Using FidelityStatevectorKernel with AerStatevector.\n",
      "                    Seed cannot be set with FidelityStatevectorKernel.\n",
      "                    Increase the number of shots to diminish the noise.\n"
     ]
    },
    {
     "name": "stdout",
     "output_type": "stream",
     "text": [
      "[QClass]  Prediction finished.\n",
      "[QClass]  Initializing Quantum Classifier\n",
      "[QClass]  Quantum simulation will be performed\n",
      "GPU optimization disabled. No device found.\n",
      "[QClass]  Fitting:  (545, 3)\n",
      "[QClass]  Feature dimension =  3\n",
      "[QClass]  Quantum backend =  AerSimulator('aer_simulator_statevector')\n",
      "[QClass]  seed =  332897\n",
      "[QClass]  SVM initiating algorithm\n",
      "[QClass]  Training...\n"
     ]
    },
    {
     "name": "stderr",
     "output_type": "stream",
     "text": [
      "WARNING:root:FidelityQuantumKernel skipped because of time.\n",
      "                    Using FidelityStatevectorKernel with AerStatevector.\n",
      "                    Seed cannot be set with FidelityStatevectorKernel.\n",
      "                    Increase the number of shots to diminish the noise.\n"
     ]
    },
    {
     "name": "stdout",
     "output_type": "stream",
     "text": [
      "[QClass]  Prediction finished.\n",
      "[QClass]  Initializing Quantum Classifier\n",
      "[QClass]  Quantum simulation will be performed\n",
      "GPU optimization disabled. No device found.\n",
      "[QClass]  Fitting:  (545, 3)\n",
      "[QClass]  Feature dimension =  3\n",
      "[QClass]  Quantum backend =  AerSimulator('aer_simulator_statevector')\n",
      "[QClass]  seed =  332897\n",
      "[QClass]  SVM initiating algorithm\n",
      "[QClass]  Training...\n"
     ]
    },
    {
     "name": "stderr",
     "output_type": "stream",
     "text": [
      "WARNING:root:FidelityQuantumKernel skipped because of time.\n",
      "                    Using FidelityStatevectorKernel with AerStatevector.\n",
      "                    Seed cannot be set with FidelityStatevectorKernel.\n",
      "                    Increase the number of shots to diminish the noise.\n"
     ]
    },
    {
     "name": "stdout",
     "output_type": "stream",
     "text": [
      "[QClass]  Prediction finished.\n",
      "[QClass]  Initializing Quantum Classifier\n",
      "[QClass]  Quantum simulation will be performed\n",
      "GPU optimization disabled. No device found.\n",
      "[QClass]  Fitting:  (545, 3)\n",
      "[QClass]  Feature dimension =  3\n",
      "[QClass]  Quantum backend =  AerSimulator('aer_simulator_statevector')\n",
      "[QClass]  seed =  332897\n",
      "[QClass]  SVM initiating algorithm\n",
      "[QClass]  Training...\n"
     ]
    },
    {
     "name": "stderr",
     "output_type": "stream",
     "text": [
      "WARNING:root:FidelityQuantumKernel skipped because of time.\n",
      "                    Using FidelityStatevectorKernel with AerStatevector.\n",
      "                    Seed cannot be set with FidelityStatevectorKernel.\n",
      "                    Increase the number of shots to diminish the noise.\n"
     ]
    },
    {
     "name": "stdout",
     "output_type": "stream",
     "text": [
      "[QClass]  Prediction finished.\n",
      "[QClass]  Initializing Quantum Classifier\n",
      "[QClass]  Quantum simulation will be performed\n",
      "GPU optimization disabled. No device found.\n",
      "[QClass]  Fitting:  (544, 3)\n",
      "[QClass]  Feature dimension =  3\n",
      "[QClass]  Quantum backend =  AerSimulator('aer_simulator_statevector')\n",
      "[QClass]  seed =  332897\n",
      "[QClass]  SVM initiating algorithm\n",
      "[QClass]  Training...\n"
     ]
    },
    {
     "name": "stderr",
     "output_type": "stream",
     "text": [
      "WARNING:root:FidelityQuantumKernel skipped because of time.\n",
      "                    Using FidelityStatevectorKernel with AerStatevector.\n",
      "                    Seed cannot be set with FidelityStatevectorKernel.\n",
      "                    Increase the number of shots to diminish the noise.\n"
     ]
    },
    {
     "name": "stdout",
     "output_type": "stream",
     "text": [
      "[QClass]  Prediction finished.\n",
      "[QClass]  Initializing Quantum Classifier\n",
      "[QClass]  Quantum simulation will be performed\n",
      "GPU optimization disabled. No device found.\n",
      "[QClass]  Fitting:  (545, 3)\n",
      "[QClass]  Feature dimension =  3\n",
      "[QClass]  Quantum backend =  AerSimulator('aer_simulator_statevector')\n",
      "[QClass]  seed =  332897\n",
      "[QClass]  SVM initiating algorithm\n",
      "[QClass]  Training...\n"
     ]
    },
    {
     "name": "stderr",
     "output_type": "stream",
     "text": [
      "WARNING:root:FidelityQuantumKernel skipped because of time.\n",
      "                    Using FidelityStatevectorKernel with AerStatevector.\n",
      "                    Seed cannot be set with FidelityStatevectorKernel.\n",
      "                    Increase the number of shots to diminish the noise.\n"
     ]
    },
    {
     "name": "stdout",
     "output_type": "stream",
     "text": [
      "[QClass]  Prediction finished.\n",
      "[QClass]  Initializing Quantum Classifier\n",
      "[QClass]  Quantum simulation will be performed\n",
      "GPU optimization disabled. No device found.\n",
      "[QClass]  Fitting:  (545, 3)\n",
      "[QClass]  Feature dimension =  3\n",
      "[QClass]  Quantum backend =  AerSimulator('aer_simulator_statevector')\n",
      "[QClass]  seed =  332897\n",
      "[QClass]  SVM initiating algorithm\n",
      "[QClass]  Training...\n"
     ]
    },
    {
     "name": "stderr",
     "output_type": "stream",
     "text": [
      "WARNING:root:FidelityQuantumKernel skipped because of time.\n",
      "                    Using FidelityStatevectorKernel with AerStatevector.\n",
      "                    Seed cannot be set with FidelityStatevectorKernel.\n",
      "                    Increase the number of shots to diminish the noise.\n"
     ]
    },
    {
     "name": "stdout",
     "output_type": "stream",
     "text": [
      "[QClass]  Prediction finished.\n",
      "[QClass]  Initializing Quantum Classifier\n",
      "[QClass]  Quantum simulation will be performed\n",
      "GPU optimization disabled. No device found.\n",
      "[QClass]  Fitting:  (545, 3)\n",
      "[QClass]  Feature dimension =  3\n",
      "[QClass]  Quantum backend =  AerSimulator('aer_simulator_statevector')\n",
      "[QClass]  seed =  332897\n",
      "[QClass]  SVM initiating algorithm\n",
      "[QClass]  Training...\n"
     ]
    },
    {
     "name": "stderr",
     "output_type": "stream",
     "text": [
      "WARNING:root:FidelityQuantumKernel skipped because of time.\n",
      "                    Using FidelityStatevectorKernel with AerStatevector.\n",
      "                    Seed cannot be set with FidelityStatevectorKernel.\n",
      "                    Increase the number of shots to diminish the noise.\n"
     ]
    },
    {
     "name": "stdout",
     "output_type": "stream",
     "text": [
      "[QClass]  Prediction finished.\n",
      "[QClass]  Initializing Quantum Classifier\n",
      "[QClass]  Quantum simulation will be performed\n",
      "GPU optimization disabled. No device found.\n",
      "[QClass]  Fitting:  (545, 3)\n",
      "[QClass]  Feature dimension =  3\n",
      "[QClass]  Quantum backend =  AerSimulator('aer_simulator_statevector')\n",
      "[QClass]  seed =  332897\n",
      "[QClass]  SVM initiating algorithm\n",
      "[QClass]  Training...\n"
     ]
    },
    {
     "name": "stderr",
     "output_type": "stream",
     "text": [
      "WARNING:root:FidelityQuantumKernel skipped because of time.\n",
      "                    Using FidelityStatevectorKernel with AerStatevector.\n",
      "                    Seed cannot be set with FidelityStatevectorKernel.\n",
      "                    Increase the number of shots to diminish the noise.\n"
     ]
    },
    {
     "name": "stdout",
     "output_type": "stream",
     "text": [
      "[QClass]  Prediction finished.\n",
      "[QClass]  Initializing Quantum Classifier\n",
      "[QClass]  Quantum simulation will be performed\n",
      "GPU optimization disabled. No device found.\n",
      "[QClass]  Fitting:  (544, 3)\n",
      "[QClass]  Feature dimension =  3\n",
      "[QClass]  Quantum backend =  AerSimulator('aer_simulator_statevector')\n",
      "[QClass]  seed =  332897\n",
      "[QClass]  SVM initiating algorithm\n",
      "[QClass]  Training...\n"
     ]
    },
    {
     "name": "stderr",
     "output_type": "stream",
     "text": [
      "WARNING:root:FidelityQuantumKernel skipped because of time.\n",
      "                    Using FidelityStatevectorKernel with AerStatevector.\n",
      "                    Seed cannot be set with FidelityStatevectorKernel.\n",
      "                    Increase the number of shots to diminish the noise.\n"
     ]
    },
    {
     "name": "stdout",
     "output_type": "stream",
     "text": [
      "[QClass]  Prediction finished.\n",
      "[QClass]  Initializing Quantum Classifier\n",
      "[QClass]  Quantum simulation will be performed\n",
      "GPU optimization disabled. No device found.\n",
      "[QClass]  Fitting:  (545, 3)\n",
      "[QClass]  Feature dimension =  3\n",
      "[QClass]  Quantum backend =  AerSimulator('aer_simulator_statevector')\n",
      "[QClass]  seed =  332897\n",
      "[QClass]  SVM initiating algorithm\n",
      "[QClass]  Training...\n"
     ]
    },
    {
     "name": "stderr",
     "output_type": "stream",
     "text": [
      "WARNING:root:FidelityQuantumKernel skipped because of time.\n",
      "                    Using FidelityStatevectorKernel with AerStatevector.\n",
      "                    Seed cannot be set with FidelityStatevectorKernel.\n",
      "                    Increase the number of shots to diminish the noise.\n"
     ]
    },
    {
     "name": "stdout",
     "output_type": "stream",
     "text": [
      "[QClass]  Prediction finished.\n",
      "[QClass]  Initializing Quantum Classifier\n",
      "[QClass]  Quantum simulation will be performed\n",
      "GPU optimization disabled. No device found.\n",
      "[QClass]  Fitting:  (545, 3)\n",
      "[QClass]  Feature dimension =  3\n",
      "[QClass]  Quantum backend =  AerSimulator('aer_simulator_statevector')\n",
      "[QClass]  seed =  332897\n",
      "[QClass]  SVM initiating algorithm\n",
      "[QClass]  Training...\n"
     ]
    },
    {
     "name": "stderr",
     "output_type": "stream",
     "text": [
      "WARNING:root:FidelityQuantumKernel skipped because of time.\n",
      "                    Using FidelityStatevectorKernel with AerStatevector.\n",
      "                    Seed cannot be set with FidelityStatevectorKernel.\n",
      "                    Increase the number of shots to diminish the noise.\n"
     ]
    },
    {
     "name": "stdout",
     "output_type": "stream",
     "text": [
      "[QClass]  Prediction finished.\n",
      "[QClass]  Initializing Quantum Classifier\n",
      "[QClass]  Quantum simulation will be performed\n",
      "GPU optimization disabled. No device found.\n",
      "[QClass]  Fitting:  (545, 3)\n",
      "[QClass]  Feature dimension =  3\n",
      "[QClass]  Quantum backend =  AerSimulator('aer_simulator_statevector')\n",
      "[QClass]  seed =  332897\n",
      "[QClass]  SVM initiating algorithm\n",
      "[QClass]  Training...\n"
     ]
    },
    {
     "name": "stderr",
     "output_type": "stream",
     "text": [
      "WARNING:root:FidelityQuantumKernel skipped because of time.\n",
      "                    Using FidelityStatevectorKernel with AerStatevector.\n",
      "                    Seed cannot be set with FidelityStatevectorKernel.\n",
      "                    Increase the number of shots to diminish the noise.\n"
     ]
    },
    {
     "name": "stdout",
     "output_type": "stream",
     "text": [
      "[QClass]  Prediction finished.\n",
      "[QClass]  Initializing Quantum Classifier\n",
      "[QClass]  Quantum simulation will be performed\n",
      "GPU optimization disabled. No device found.\n",
      "[QClass]  Fitting:  (545, 3)\n",
      "[QClass]  Feature dimension =  3\n",
      "[QClass]  Quantum backend =  AerSimulator('aer_simulator_statevector')\n",
      "[QClass]  seed =  332897\n",
      "[QClass]  SVM initiating algorithm\n",
      "[QClass]  Training...\n"
     ]
    },
    {
     "name": "stderr",
     "output_type": "stream",
     "text": [
      "WARNING:root:FidelityQuantumKernel skipped because of time.\n",
      "                    Using FidelityStatevectorKernel with AerStatevector.\n",
      "                    Seed cannot be set with FidelityStatevectorKernel.\n",
      "                    Increase the number of shots to diminish the noise.\n"
     ]
    },
    {
     "name": "stdout",
     "output_type": "stream",
     "text": [
      "[QClass]  Prediction finished.\n",
      "[QClass]  Initializing Quantum Classifier\n",
      "[QClass]  Quantum simulation will be performed\n",
      "GPU optimization disabled. No device found.\n",
      "[QClass]  Fitting:  (544, 3)\n",
      "[QClass]  Feature dimension =  3\n",
      "[QClass]  Quantum backend =  AerSimulator('aer_simulator_statevector')\n",
      "[QClass]  seed =  332897\n",
      "[QClass]  SVM initiating algorithm\n",
      "[QClass]  Training...\n"
     ]
    },
    {
     "name": "stderr",
     "output_type": "stream",
     "text": [
      "WARNING:root:FidelityQuantumKernel skipped because of time.\n",
      "                    Using FidelityStatevectorKernel with AerStatevector.\n",
      "                    Seed cannot be set with FidelityStatevectorKernel.\n",
      "                    Increase the number of shots to diminish the noise.\n"
     ]
    },
    {
     "name": "stdout",
     "output_type": "stream",
     "text": [
      "[QClass]  Prediction finished.\n",
      "[QClass]  Initializing Quantum Classifier\n",
      "[QClass]  Quantum simulation will be performed\n",
      "GPU optimization disabled. No device found.\n",
      "[QClass]  Fitting:  (545, 3)\n",
      "[QClass]  Feature dimension =  3\n",
      "[QClass]  Quantum backend =  AerSimulator('aer_simulator_statevector')\n",
      "[QClass]  seed =  332897\n",
      "[QClass]  SVM initiating algorithm\n",
      "[QClass]  Training...\n"
     ]
    },
    {
     "name": "stderr",
     "output_type": "stream",
     "text": [
      "WARNING:root:FidelityQuantumKernel skipped because of time.\n",
      "                    Using FidelityStatevectorKernel with AerStatevector.\n",
      "                    Seed cannot be set with FidelityStatevectorKernel.\n",
      "                    Increase the number of shots to diminish the noise.\n"
     ]
    },
    {
     "name": "stdout",
     "output_type": "stream",
     "text": [
      "[QClass]  Prediction finished.\n",
      "[QClass]  Initializing Quantum Classifier\n",
      "[QClass]  Quantum simulation will be performed\n",
      "GPU optimization disabled. No device found.\n",
      "[QClass]  Fitting:  (545, 3)\n",
      "[QClass]  Feature dimension =  3\n",
      "[QClass]  Quantum backend =  AerSimulator('aer_simulator_statevector')\n",
      "[QClass]  seed =  332897\n",
      "[QClass]  SVM initiating algorithm\n",
      "[QClass]  Training...\n"
     ]
    },
    {
     "name": "stderr",
     "output_type": "stream",
     "text": [
      "WARNING:root:FidelityQuantumKernel skipped because of time.\n",
      "                    Using FidelityStatevectorKernel with AerStatevector.\n",
      "                    Seed cannot be set with FidelityStatevectorKernel.\n",
      "                    Increase the number of shots to diminish the noise.\n"
     ]
    },
    {
     "name": "stdout",
     "output_type": "stream",
     "text": [
      "[QClass]  Prediction finished.\n",
      "[QClass]  Initializing Quantum Classifier\n",
      "[QClass]  Quantum simulation will be performed\n",
      "GPU optimization disabled. No device found.\n",
      "[QClass]  Fitting:  (545, 3)\n",
      "[QClass]  Feature dimension =  3\n",
      "[QClass]  Quantum backend =  AerSimulator('aer_simulator_statevector')\n",
      "[QClass]  seed =  332897\n",
      "[QClass]  SVM initiating algorithm\n",
      "[QClass]  Training...\n"
     ]
    },
    {
     "name": "stderr",
     "output_type": "stream",
     "text": [
      "WARNING:root:FidelityQuantumKernel skipped because of time.\n",
      "                    Using FidelityStatevectorKernel with AerStatevector.\n",
      "                    Seed cannot be set with FidelityStatevectorKernel.\n",
      "                    Increase the number of shots to diminish the noise.\n"
     ]
    },
    {
     "name": "stdout",
     "output_type": "stream",
     "text": [
      "[QClass]  Prediction finished.\n",
      "[QClass]  Initializing Quantum Classifier\n",
      "[QClass]  Quantum simulation will be performed\n",
      "GPU optimization disabled. No device found.\n",
      "[QClass]  Fitting:  (545, 3)\n",
      "[QClass]  Feature dimension =  3\n",
      "[QClass]  Quantum backend =  AerSimulator('aer_simulator_statevector')\n",
      "[QClass]  seed =  332897\n",
      "[QClass]  SVM initiating algorithm\n",
      "[QClass]  Training...\n"
     ]
    },
    {
     "name": "stderr",
     "output_type": "stream",
     "text": [
      "WARNING:root:FidelityQuantumKernel skipped because of time.\n",
      "                    Using FidelityStatevectorKernel with AerStatevector.\n",
      "                    Seed cannot be set with FidelityStatevectorKernel.\n",
      "                    Increase the number of shots to diminish the noise.\n"
     ]
    },
    {
     "name": "stdout",
     "output_type": "stream",
     "text": [
      "[QClass]  Prediction finished.\n",
      "[QClass]  Initializing Quantum Classifier\n",
      "[QClass]  Quantum simulation will be performed\n",
      "GPU optimization disabled. No device found.\n",
      "[QClass]  Fitting:  (544, 3)\n",
      "[QClass]  Feature dimension =  3\n",
      "[QClass]  Quantum backend =  AerSimulator('aer_simulator_statevector')\n",
      "[QClass]  seed =  332897\n",
      "[QClass]  SVM initiating algorithm\n",
      "[QClass]  Training...\n"
     ]
    },
    {
     "name": "stderr",
     "output_type": "stream",
     "text": [
      "WARNING:root:FidelityQuantumKernel skipped because of time.\n",
      "                    Using FidelityStatevectorKernel with AerStatevector.\n",
      "                    Seed cannot be set with FidelityStatevectorKernel.\n",
      "                    Increase the number of shots to diminish the noise.\n"
     ]
    },
    {
     "name": "stdout",
     "output_type": "stream",
     "text": [
      "[QClass]  Prediction finished.\n",
      "[QClass]  Initializing Quantum Classifier\n",
      "[QClass]  Quantum simulation will be performed\n",
      "GPU optimization disabled. No device found.\n",
      "[QClass]  Fitting:  (545, 3)\n",
      "[QClass]  Feature dimension =  3\n",
      "[QClass]  Quantum backend =  AerSimulator('aer_simulator_statevector')\n",
      "[QClass]  seed =  332897\n",
      "[QClass]  SVM initiating algorithm\n",
      "[QClass]  Training...\n"
     ]
    },
    {
     "name": "stderr",
     "output_type": "stream",
     "text": [
      "WARNING:root:FidelityQuantumKernel skipped because of time.\n",
      "                    Using FidelityStatevectorKernel with AerStatevector.\n",
      "                    Seed cannot be set with FidelityStatevectorKernel.\n",
      "                    Increase the number of shots to diminish the noise.\n"
     ]
    },
    {
     "name": "stdout",
     "output_type": "stream",
     "text": [
      "[QClass]  Prediction finished.\n",
      "[QClass]  Initializing Quantum Classifier\n",
      "[QClass]  Quantum simulation will be performed\n",
      "GPU optimization disabled. No device found.\n",
      "[QClass]  Fitting:  (545, 3)\n",
      "[QClass]  Feature dimension =  3\n",
      "[QClass]  Quantum backend =  AerSimulator('aer_simulator_statevector')\n",
      "[QClass]  seed =  332897\n",
      "[QClass]  SVM initiating algorithm\n",
      "[QClass]  Training...\n"
     ]
    },
    {
     "name": "stderr",
     "output_type": "stream",
     "text": [
      "WARNING:root:FidelityQuantumKernel skipped because of time.\n",
      "                    Using FidelityStatevectorKernel with AerStatevector.\n",
      "                    Seed cannot be set with FidelityStatevectorKernel.\n",
      "                    Increase the number of shots to diminish the noise.\n"
     ]
    },
    {
     "name": "stdout",
     "output_type": "stream",
     "text": [
      "[QClass]  Prediction finished.\n",
      "[QClass]  Initializing Quantum Classifier\n",
      "[QClass]  Quantum simulation will be performed\n",
      "GPU optimization disabled. No device found.\n",
      "[QClass]  Fitting:  (545, 3)\n",
      "[QClass]  Feature dimension =  3\n",
      "[QClass]  Quantum backend =  AerSimulator('aer_simulator_statevector')\n",
      "[QClass]  seed =  332897\n",
      "[QClass]  SVM initiating algorithm\n",
      "[QClass]  Training...\n"
     ]
    },
    {
     "name": "stderr",
     "output_type": "stream",
     "text": [
      "WARNING:root:FidelityQuantumKernel skipped because of time.\n",
      "                    Using FidelityStatevectorKernel with AerStatevector.\n",
      "                    Seed cannot be set with FidelityStatevectorKernel.\n",
      "                    Increase the number of shots to diminish the noise.\n"
     ]
    },
    {
     "name": "stdout",
     "output_type": "stream",
     "text": [
      "[QClass]  Prediction finished.\n",
      "[QClass]  Initializing Quantum Classifier\n",
      "[QClass]  Quantum simulation will be performed\n",
      "GPU optimization disabled. No device found.\n",
      "[QClass]  Fitting:  (545, 3)\n",
      "[QClass]  Feature dimension =  3\n",
      "[QClass]  Quantum backend =  AerSimulator('aer_simulator_statevector')\n",
      "[QClass]  seed =  332897\n",
      "[QClass]  SVM initiating algorithm\n",
      "[QClass]  Training...\n"
     ]
    },
    {
     "name": "stderr",
     "output_type": "stream",
     "text": [
      "WARNING:root:FidelityQuantumKernel skipped because of time.\n",
      "                    Using FidelityStatevectorKernel with AerStatevector.\n",
      "                    Seed cannot be set with FidelityStatevectorKernel.\n",
      "                    Increase the number of shots to diminish the noise.\n"
     ]
    },
    {
     "name": "stdout",
     "output_type": "stream",
     "text": [
      "[QClass]  Prediction finished.\n",
      "[QClass]  Initializing Quantum Classifier\n",
      "[QClass]  Quantum simulation will be performed\n",
      "GPU optimization disabled. No device found.\n",
      "[QClass]  Fitting:  (544, 3)\n",
      "[QClass]  Feature dimension =  3\n",
      "[QClass]  Quantum backend =  AerSimulator('aer_simulator_statevector')\n",
      "[QClass]  seed =  332897\n",
      "[QClass]  SVM initiating algorithm\n",
      "[QClass]  Training...\n"
     ]
    },
    {
     "name": "stderr",
     "output_type": "stream",
     "text": [
      "WARNING:root:FidelityQuantumKernel skipped because of time.\n",
      "                    Using FidelityStatevectorKernel with AerStatevector.\n",
      "                    Seed cannot be set with FidelityStatevectorKernel.\n",
      "                    Increase the number of shots to diminish the noise.\n"
     ]
    },
    {
     "name": "stdout",
     "output_type": "stream",
     "text": [
      "[QClass]  Prediction finished.\n",
      "[QClass]  Initializing Quantum Classifier\n",
      "[QClass]  Quantum simulation will be performed\n",
      "GPU optimization disabled. No device found.\n",
      "[QClass]  Fitting:  (545, 3)\n",
      "[QClass]  Feature dimension =  3\n",
      "[QClass]  Quantum backend =  AerSimulator('aer_simulator_statevector')\n",
      "[QClass]  seed =  332897\n",
      "[QClass]  SVM initiating algorithm\n",
      "[QClass]  Training...\n"
     ]
    },
    {
     "name": "stderr",
     "output_type": "stream",
     "text": [
      "WARNING:root:FidelityQuantumKernel skipped because of time.\n",
      "                    Using FidelityStatevectorKernel with AerStatevector.\n",
      "                    Seed cannot be set with FidelityStatevectorKernel.\n",
      "                    Increase the number of shots to diminish the noise.\n"
     ]
    },
    {
     "name": "stdout",
     "output_type": "stream",
     "text": [
      "[QClass]  Prediction finished.\n",
      "[QClass]  Initializing Quantum Classifier\n",
      "[QClass]  Quantum simulation will be performed\n",
      "GPU optimization disabled. No device found.\n",
      "[QClass]  Fitting:  (545, 3)\n",
      "[QClass]  Feature dimension =  3\n",
      "[QClass]  Quantum backend =  AerSimulator('aer_simulator_statevector')\n",
      "[QClass]  seed =  332897\n",
      "[QClass]  SVM initiating algorithm\n",
      "[QClass]  Training...\n"
     ]
    },
    {
     "name": "stderr",
     "output_type": "stream",
     "text": [
      "WARNING:root:FidelityQuantumKernel skipped because of time.\n",
      "                    Using FidelityStatevectorKernel with AerStatevector.\n",
      "                    Seed cannot be set with FidelityStatevectorKernel.\n",
      "                    Increase the number of shots to diminish the noise.\n"
     ]
    },
    {
     "name": "stdout",
     "output_type": "stream",
     "text": [
      "[QClass]  Prediction finished.\n",
      "[QClass]  Initializing Quantum Classifier\n",
      "[QClass]  Quantum simulation will be performed\n",
      "GPU optimization disabled. No device found.\n",
      "[QClass]  Fitting:  (545, 3)\n",
      "[QClass]  Feature dimension =  3\n",
      "[QClass]  Quantum backend =  AerSimulator('aer_simulator_statevector')\n",
      "[QClass]  seed =  332897\n",
      "[QClass]  SVM initiating algorithm\n",
      "[QClass]  Training...\n"
     ]
    },
    {
     "name": "stderr",
     "output_type": "stream",
     "text": [
      "WARNING:root:FidelityQuantumKernel skipped because of time.\n",
      "                    Using FidelityStatevectorKernel with AerStatevector.\n",
      "                    Seed cannot be set with FidelityStatevectorKernel.\n",
      "                    Increase the number of shots to diminish the noise.\n"
     ]
    },
    {
     "name": "stdout",
     "output_type": "stream",
     "text": [
      "[QClass]  Prediction finished.\n",
      "[QClass]  Initializing Quantum Classifier\n",
      "[QClass]  Quantum simulation will be performed\n",
      "GPU optimization disabled. No device found.\n",
      "[QClass]  Fitting:  (545, 3)\n",
      "[QClass]  Feature dimension =  3\n",
      "[QClass]  Quantum backend =  AerSimulator('aer_simulator_statevector')\n",
      "[QClass]  seed =  332897\n",
      "[QClass]  SVM initiating algorithm\n",
      "[QClass]  Training...\n"
     ]
    },
    {
     "name": "stderr",
     "output_type": "stream",
     "text": [
      "WARNING:root:FidelityQuantumKernel skipped because of time.\n",
      "                    Using FidelityStatevectorKernel with AerStatevector.\n",
      "                    Seed cannot be set with FidelityStatevectorKernel.\n",
      "                    Increase the number of shots to diminish the noise.\n"
     ]
    },
    {
     "name": "stdout",
     "output_type": "stream",
     "text": [
      "[QClass]  Prediction finished.\n",
      "[QClass]  Initializing Quantum Classifier\n",
      "[QClass]  Quantum simulation will be performed\n",
      "GPU optimization disabled. No device found.\n",
      "[QClass]  Fitting:  (544, 3)\n",
      "[QClass]  Feature dimension =  3\n",
      "[QClass]  Quantum backend =  AerSimulator('aer_simulator_statevector')\n",
      "[QClass]  seed =  332897\n",
      "[QClass]  SVM initiating algorithm\n",
      "[QClass]  Training...\n"
     ]
    },
    {
     "name": "stderr",
     "output_type": "stream",
     "text": [
      "WARNING:root:FidelityQuantumKernel skipped because of time.\n",
      "                    Using FidelityStatevectorKernel with AerStatevector.\n",
      "                    Seed cannot be set with FidelityStatevectorKernel.\n",
      "                    Increase the number of shots to diminish the noise.\n"
     ]
    },
    {
     "name": "stdout",
     "output_type": "stream",
     "text": [
      "[QClass]  Prediction finished.\n",
      "[QClass]  Initializing Quantum Classifier\n",
      "[QClass]  Quantum simulation will be performed\n",
      "GPU optimization disabled. No device found.\n",
      "[QClass]  Fitting:  (545, 3)\n",
      "[QClass]  Feature dimension =  3\n",
      "[QClass]  Quantum backend =  AerSimulator('aer_simulator_statevector')\n",
      "[QClass]  seed =  332897\n",
      "[QClass]  SVM initiating algorithm\n",
      "[QClass]  Training...\n"
     ]
    },
    {
     "name": "stderr",
     "output_type": "stream",
     "text": [
      "WARNING:root:FidelityQuantumKernel skipped because of time.\n",
      "                    Using FidelityStatevectorKernel with AerStatevector.\n",
      "                    Seed cannot be set with FidelityStatevectorKernel.\n",
      "                    Increase the number of shots to diminish the noise.\n"
     ]
    },
    {
     "name": "stdout",
     "output_type": "stream",
     "text": [
      "[QClass]  Prediction finished.\n",
      "[QClass]  Initializing Quantum Classifier\n",
      "[QClass]  Quantum simulation will be performed\n",
      "GPU optimization disabled. No device found.\n",
      "[QClass]  Fitting:  (545, 3)\n",
      "[QClass]  Feature dimension =  3\n",
      "[QClass]  Quantum backend =  AerSimulator('aer_simulator_statevector')\n",
      "[QClass]  seed =  332897\n",
      "[QClass]  SVM initiating algorithm\n",
      "[QClass]  Training...\n"
     ]
    },
    {
     "name": "stderr",
     "output_type": "stream",
     "text": [
      "WARNING:root:FidelityQuantumKernel skipped because of time.\n",
      "                    Using FidelityStatevectorKernel with AerStatevector.\n",
      "                    Seed cannot be set with FidelityStatevectorKernel.\n",
      "                    Increase the number of shots to diminish the noise.\n"
     ]
    },
    {
     "name": "stdout",
     "output_type": "stream",
     "text": [
      "[QClass]  Prediction finished.\n",
      "[QClass]  Initializing Quantum Classifier\n",
      "[QClass]  Quantum simulation will be performed\n",
      "GPU optimization disabled. No device found.\n",
      "[QClass]  Fitting:  (545, 3)\n",
      "[QClass]  Feature dimension =  3\n",
      "[QClass]  Quantum backend =  AerSimulator('aer_simulator_statevector')\n",
      "[QClass]  seed =  332897\n",
      "[QClass]  SVM initiating algorithm\n",
      "[QClass]  Training...\n"
     ]
    },
    {
     "name": "stderr",
     "output_type": "stream",
     "text": [
      "WARNING:root:FidelityQuantumKernel skipped because of time.\n",
      "                    Using FidelityStatevectorKernel with AerStatevector.\n",
      "                    Seed cannot be set with FidelityStatevectorKernel.\n",
      "                    Increase the number of shots to diminish the noise.\n"
     ]
    },
    {
     "name": "stdout",
     "output_type": "stream",
     "text": [
      "[QClass]  Prediction finished.\n",
      "[QClass]  Initializing Quantum Classifier\n",
      "[QClass]  Quantum simulation will be performed\n",
      "GPU optimization disabled. No device found.\n",
      "[QClass]  Fitting:  (545, 3)\n",
      "[QClass]  Feature dimension =  3\n",
      "[QClass]  Quantum backend =  AerSimulator('aer_simulator_statevector')\n",
      "[QClass]  seed =  332897\n",
      "[QClass]  SVM initiating algorithm\n",
      "[QClass]  Training...\n"
     ]
    },
    {
     "name": "stderr",
     "output_type": "stream",
     "text": [
      "WARNING:root:FidelityQuantumKernel skipped because of time.\n",
      "                    Using FidelityStatevectorKernel with AerStatevector.\n",
      "                    Seed cannot be set with FidelityStatevectorKernel.\n",
      "                    Increase the number of shots to diminish the noise.\n"
     ]
    },
    {
     "name": "stdout",
     "output_type": "stream",
     "text": [
      "[QClass]  Prediction finished.\n",
      "[QClass]  Initializing Quantum Classifier\n",
      "[QClass]  Quantum simulation will be performed\n",
      "GPU optimization disabled. No device found.\n",
      "[QClass]  Fitting:  (544, 3)\n",
      "[QClass]  Feature dimension =  3\n",
      "[QClass]  Quantum backend =  AerSimulator('aer_simulator_statevector')\n",
      "[QClass]  seed =  332897\n",
      "[QClass]  SVM initiating algorithm\n",
      "[QClass]  Training...\n"
     ]
    },
    {
     "name": "stderr",
     "output_type": "stream",
     "text": [
      "WARNING:root:FidelityQuantumKernel skipped because of time.\n",
      "                    Using FidelityStatevectorKernel with AerStatevector.\n",
      "                    Seed cannot be set with FidelityStatevectorKernel.\n",
      "                    Increase the number of shots to diminish the noise.\n"
     ]
    },
    {
     "name": "stdout",
     "output_type": "stream",
     "text": [
      "[QClass]  Prediction finished.\n",
      "[QClass]  Initializing Quantum Classifier\n",
      "[QClass]  Quantum simulation will be performed\n",
      "GPU optimization disabled. No device found.\n",
      "[QClass]  Fitting:  (545, 3)\n",
      "[QClass]  Feature dimension =  3\n",
      "[QClass]  Quantum backend =  AerSimulator('aer_simulator_statevector')\n",
      "[QClass]  seed =  332897\n",
      "[QClass]  SVM initiating algorithm\n",
      "[QClass]  Training...\n"
     ]
    },
    {
     "name": "stderr",
     "output_type": "stream",
     "text": [
      "WARNING:root:FidelityQuantumKernel skipped because of time.\n",
      "                    Using FidelityStatevectorKernel with AerStatevector.\n",
      "                    Seed cannot be set with FidelityStatevectorKernel.\n",
      "                    Increase the number of shots to diminish the noise.\n"
     ]
    },
    {
     "name": "stdout",
     "output_type": "stream",
     "text": [
      "[QClass]  Prediction finished.\n",
      "[QClass]  Initializing Quantum Classifier\n",
      "[QClass]  Quantum simulation will be performed\n",
      "GPU optimization disabled. No device found.\n",
      "[QClass]  Fitting:  (545, 3)\n",
      "[QClass]  Feature dimension =  3\n",
      "[QClass]  Quantum backend =  AerSimulator('aer_simulator_statevector')\n",
      "[QClass]  seed =  332897\n",
      "[QClass]  SVM initiating algorithm\n",
      "[QClass]  Training...\n"
     ]
    },
    {
     "name": "stderr",
     "output_type": "stream",
     "text": [
      "WARNING:root:FidelityQuantumKernel skipped because of time.\n",
      "                    Using FidelityStatevectorKernel with AerStatevector.\n",
      "                    Seed cannot be set with FidelityStatevectorKernel.\n",
      "                    Increase the number of shots to diminish the noise.\n"
     ]
    },
    {
     "name": "stdout",
     "output_type": "stream",
     "text": [
      "[QClass]  Prediction finished.\n",
      "[QClass]  Initializing Quantum Classifier\n",
      "[QClass]  Quantum simulation will be performed\n",
      "GPU optimization disabled. No device found.\n",
      "[QClass]  Fitting:  (545, 3)\n",
      "[QClass]  Feature dimension =  3\n",
      "[QClass]  Quantum backend =  AerSimulator('aer_simulator_statevector')\n",
      "[QClass]  seed =  332897\n",
      "[QClass]  SVM initiating algorithm\n",
      "[QClass]  Training...\n"
     ]
    },
    {
     "name": "stderr",
     "output_type": "stream",
     "text": [
      "WARNING:root:FidelityQuantumKernel skipped because of time.\n",
      "                    Using FidelityStatevectorKernel with AerStatevector.\n",
      "                    Seed cannot be set with FidelityStatevectorKernel.\n",
      "                    Increase the number of shots to diminish the noise.\n"
     ]
    },
    {
     "name": "stdout",
     "output_type": "stream",
     "text": [
      "[QClass]  Prediction finished.\n",
      "[QClass]  Initializing Quantum Classifier\n",
      "[QClass]  Quantum simulation will be performed\n",
      "GPU optimization disabled. No device found.\n",
      "[QClass]  Fitting:  (545, 3)\n",
      "[QClass]  Feature dimension =  3\n",
      "[QClass]  Quantum backend =  AerSimulator('aer_simulator_statevector')\n",
      "[QClass]  seed =  332897\n",
      "[QClass]  SVM initiating algorithm\n",
      "[QClass]  Training...\n"
     ]
    },
    {
     "name": "stderr",
     "output_type": "stream",
     "text": [
      "WARNING:root:FidelityQuantumKernel skipped because of time.\n",
      "                    Using FidelityStatevectorKernel with AerStatevector.\n",
      "                    Seed cannot be set with FidelityStatevectorKernel.\n",
      "                    Increase the number of shots to diminish the noise.\n"
     ]
    },
    {
     "name": "stdout",
     "output_type": "stream",
     "text": [
      "[QClass]  Prediction finished.\n",
      "[QClass]  Initializing Quantum Classifier\n",
      "[QClass]  Quantum simulation will be performed\n",
      "GPU optimization disabled. No device found.\n",
      "[QClass]  Fitting:  (544, 3)\n",
      "[QClass]  Feature dimension =  3\n",
      "[QClass]  Quantum backend =  AerSimulator('aer_simulator_statevector')\n",
      "[QClass]  seed =  332897\n",
      "[QClass]  SVM initiating algorithm\n",
      "[QClass]  Training...\n"
     ]
    },
    {
     "name": "stderr",
     "output_type": "stream",
     "text": [
      "WARNING:root:FidelityQuantumKernel skipped because of time.\n",
      "                    Using FidelityStatevectorKernel with AerStatevector.\n",
      "                    Seed cannot be set with FidelityStatevectorKernel.\n",
      "                    Increase the number of shots to diminish the noise.\n"
     ]
    },
    {
     "name": "stdout",
     "output_type": "stream",
     "text": [
      "[QClass]  Prediction finished.\n",
      "[QClass]  Initializing Quantum Classifier\n",
      "[QClass]  Quantum simulation will be performed\n",
      "GPU optimization disabled. No device found.\n",
      "[QClass]  Fitting:  (545, 3)\n",
      "[QClass]  Feature dimension =  3\n",
      "[QClass]  Quantum backend =  AerSimulator('aer_simulator_statevector')\n",
      "[QClass]  seed =  332897\n",
      "[QClass]  SVM initiating algorithm\n",
      "[QClass]  Training...\n"
     ]
    },
    {
     "name": "stderr",
     "output_type": "stream",
     "text": [
      "WARNING:root:FidelityQuantumKernel skipped because of time.\n",
      "                    Using FidelityStatevectorKernel with AerStatevector.\n",
      "                    Seed cannot be set with FidelityStatevectorKernel.\n",
      "                    Increase the number of shots to diminish the noise.\n"
     ]
    },
    {
     "name": "stdout",
     "output_type": "stream",
     "text": [
      "[QClass]  Prediction finished.\n",
      "[QClass]  Initializing Quantum Classifier\n",
      "[QClass]  Quantum simulation will be performed\n",
      "GPU optimization disabled. No device found.\n",
      "[QClass]  Fitting:  (545, 3)\n",
      "[QClass]  Feature dimension =  3\n",
      "[QClass]  Quantum backend =  AerSimulator('aer_simulator_statevector')\n",
      "[QClass]  seed =  332897\n",
      "[QClass]  SVM initiating algorithm\n",
      "[QClass]  Training...\n"
     ]
    },
    {
     "name": "stderr",
     "output_type": "stream",
     "text": [
      "WARNING:root:FidelityQuantumKernel skipped because of time.\n",
      "                    Using FidelityStatevectorKernel with AerStatevector.\n",
      "                    Seed cannot be set with FidelityStatevectorKernel.\n",
      "                    Increase the number of shots to diminish the noise.\n"
     ]
    },
    {
     "name": "stdout",
     "output_type": "stream",
     "text": [
      "[QClass]  Prediction finished.\n",
      "[QClass]  Initializing Quantum Classifier\n",
      "[QClass]  Quantum simulation will be performed\n",
      "GPU optimization disabled. No device found.\n",
      "[QClass]  Fitting:  (545, 3)\n",
      "[QClass]  Feature dimension =  3\n",
      "[QClass]  Quantum backend =  AerSimulator('aer_simulator_statevector')\n",
      "[QClass]  seed =  332897\n",
      "[QClass]  SVM initiating algorithm\n",
      "[QClass]  Training...\n"
     ]
    },
    {
     "name": "stderr",
     "output_type": "stream",
     "text": [
      "WARNING:root:FidelityQuantumKernel skipped because of time.\n",
      "                    Using FidelityStatevectorKernel with AerStatevector.\n",
      "                    Seed cannot be set with FidelityStatevectorKernel.\n",
      "                    Increase the number of shots to diminish the noise.\n"
     ]
    },
    {
     "name": "stdout",
     "output_type": "stream",
     "text": [
      "[QClass]  Prediction finished.\n",
      "[QClass]  Initializing Quantum Classifier\n",
      "[QClass]  Quantum simulation will be performed\n",
      "GPU optimization disabled. No device found.\n",
      "[QClass]  Fitting:  (545, 3)\n",
      "[QClass]  Feature dimension =  3\n",
      "[QClass]  Quantum backend =  AerSimulator('aer_simulator_statevector')\n",
      "[QClass]  seed =  332897\n",
      "[QClass]  SVM initiating algorithm\n",
      "[QClass]  Training...\n"
     ]
    },
    {
     "name": "stderr",
     "output_type": "stream",
     "text": [
      "WARNING:root:FidelityQuantumKernel skipped because of time.\n",
      "                    Using FidelityStatevectorKernel with AerStatevector.\n",
      "                    Seed cannot be set with FidelityStatevectorKernel.\n",
      "                    Increase the number of shots to diminish the noise.\n"
     ]
    },
    {
     "name": "stdout",
     "output_type": "stream",
     "text": [
      "[QClass]  Prediction finished.\n",
      "[QClass]  Initializing Quantum Classifier\n",
      "[QClass]  Quantum simulation will be performed\n",
      "GPU optimization disabled. No device found.\n",
      "[QClass]  Fitting:  (544, 3)\n",
      "[QClass]  Feature dimension =  3\n",
      "[QClass]  Quantum backend =  AerSimulator('aer_simulator_statevector')\n",
      "[QClass]  seed =  332897\n",
      "[QClass]  SVM initiating algorithm\n",
      "[QClass]  Training...\n"
     ]
    },
    {
     "name": "stderr",
     "output_type": "stream",
     "text": [
      "WARNING:root:FidelityQuantumKernel skipped because of time.\n",
      "                    Using FidelityStatevectorKernel with AerStatevector.\n",
      "                    Seed cannot be set with FidelityStatevectorKernel.\n",
      "                    Increase the number of shots to diminish the noise.\n"
     ]
    },
    {
     "name": "stdout",
     "output_type": "stream",
     "text": [
      "[QClass]  Prediction finished.\n",
      "[QClass]  Initializing Quantum Classifier\n",
      "[QClass]  Quantum simulation will be performed\n",
      "GPU optimization disabled. No device found.\n",
      "[QClass]  Fitting:  (545, 3)\n",
      "[QClass]  Feature dimension =  3\n",
      "[QClass]  Quantum backend =  AerSimulator('aer_simulator_statevector')\n",
      "[QClass]  seed =  332897\n",
      "[QClass]  SVM initiating algorithm\n",
      "[QClass]  Training...\n"
     ]
    },
    {
     "name": "stderr",
     "output_type": "stream",
     "text": [
      "WARNING:root:FidelityQuantumKernel skipped because of time.\n",
      "                    Using FidelityStatevectorKernel with AerStatevector.\n",
      "                    Seed cannot be set with FidelityStatevectorKernel.\n",
      "                    Increase the number of shots to diminish the noise.\n"
     ]
    },
    {
     "name": "stdout",
     "output_type": "stream",
     "text": [
      "[QClass]  Prediction finished.\n",
      "[QClass]  Initializing Quantum Classifier\n",
      "[QClass]  Quantum simulation will be performed\n",
      "GPU optimization disabled. No device found.\n",
      "[QClass]  Fitting:  (545, 3)\n",
      "[QClass]  Feature dimension =  3\n",
      "[QClass]  Quantum backend =  AerSimulator('aer_simulator_statevector')\n",
      "[QClass]  seed =  332897\n",
      "[QClass]  SVM initiating algorithm\n",
      "[QClass]  Training...\n"
     ]
    },
    {
     "name": "stderr",
     "output_type": "stream",
     "text": [
      "WARNING:root:FidelityQuantumKernel skipped because of time.\n",
      "                    Using FidelityStatevectorKernel with AerStatevector.\n",
      "                    Seed cannot be set with FidelityStatevectorKernel.\n",
      "                    Increase the number of shots to diminish the noise.\n"
     ]
    },
    {
     "name": "stdout",
     "output_type": "stream",
     "text": [
      "[QClass]  Prediction finished.\n",
      "[QClass]  Initializing Quantum Classifier\n",
      "[QClass]  Quantum simulation will be performed\n",
      "GPU optimization disabled. No device found.\n",
      "[QClass]  Fitting:  (545, 3)\n",
      "[QClass]  Feature dimension =  3\n",
      "[QClass]  Quantum backend =  AerSimulator('aer_simulator_statevector')\n",
      "[QClass]  seed =  332897\n",
      "[QClass]  SVM initiating algorithm\n",
      "[QClass]  Training...\n"
     ]
    },
    {
     "name": "stderr",
     "output_type": "stream",
     "text": [
      "WARNING:root:FidelityQuantumKernel skipped because of time.\n",
      "                    Using FidelityStatevectorKernel with AerStatevector.\n",
      "                    Seed cannot be set with FidelityStatevectorKernel.\n",
      "                    Increase the number of shots to diminish the noise.\n"
     ]
    },
    {
     "name": "stdout",
     "output_type": "stream",
     "text": [
      "[QClass]  Prediction finished.\n",
      "[QClass]  Initializing Quantum Classifier\n",
      "[QClass]  Quantum simulation will be performed\n",
      "GPU optimization disabled. No device found.\n",
      "[QClass]  Fitting:  (545, 3)\n",
      "[QClass]  Feature dimension =  3\n",
      "[QClass]  Quantum backend =  AerSimulator('aer_simulator_statevector')\n",
      "[QClass]  seed =  332897\n",
      "[QClass]  SVM initiating algorithm\n",
      "[QClass]  Training...\n"
     ]
    },
    {
     "name": "stderr",
     "output_type": "stream",
     "text": [
      "WARNING:root:FidelityQuantumKernel skipped because of time.\n",
      "                    Using FidelityStatevectorKernel with AerStatevector.\n",
      "                    Seed cannot be set with FidelityStatevectorKernel.\n",
      "                    Increase the number of shots to diminish the noise.\n"
     ]
    },
    {
     "name": "stdout",
     "output_type": "stream",
     "text": [
      "[QClass]  Prediction finished.\n",
      "[QClass]  Initializing Quantum Classifier\n",
      "[QClass]  Quantum simulation will be performed\n",
      "GPU optimization disabled. No device found.\n",
      "[QClass]  Fitting:  (544, 3)\n",
      "[QClass]  Feature dimension =  3\n",
      "[QClass]  Quantum backend =  AerSimulator('aer_simulator_statevector')\n",
      "[QClass]  seed =  332897\n",
      "[QClass]  SVM initiating algorithm\n",
      "[QClass]  Training...\n"
     ]
    },
    {
     "name": "stderr",
     "output_type": "stream",
     "text": [
      "WARNING:root:FidelityQuantumKernel skipped because of time.\n",
      "                    Using FidelityStatevectorKernel with AerStatevector.\n",
      "                    Seed cannot be set with FidelityStatevectorKernel.\n",
      "                    Increase the number of shots to diminish the noise.\n"
     ]
    },
    {
     "name": "stdout",
     "output_type": "stream",
     "text": [
      "[QClass]  Prediction finished.\n",
      "[QClass]  Initializing Quantum Classifier\n",
      "[QClass]  Quantum simulation will be performed\n",
      "GPU optimization disabled. No device found.\n",
      "[QClass]  Fitting:  (545, 3)\n",
      "[QClass]  Feature dimension =  3\n",
      "[QClass]  Quantum backend =  AerSimulator('aer_simulator_statevector')\n",
      "[QClass]  seed =  332897\n",
      "[QClass]  SVM initiating algorithm\n",
      "[QClass]  Training...\n"
     ]
    },
    {
     "name": "stderr",
     "output_type": "stream",
     "text": [
      "WARNING:root:FidelityQuantumKernel skipped because of time.\n",
      "                    Using FidelityStatevectorKernel with AerStatevector.\n",
      "                    Seed cannot be set with FidelityStatevectorKernel.\n",
      "                    Increase the number of shots to diminish the noise.\n"
     ]
    },
    {
     "name": "stdout",
     "output_type": "stream",
     "text": [
      "[QClass]  Prediction finished.\n",
      "[QClass]  Initializing Quantum Classifier\n",
      "[QClass]  Quantum simulation will be performed\n",
      "GPU optimization disabled. No device found.\n",
      "[QClass]  Fitting:  (545, 3)\n",
      "[QClass]  Feature dimension =  3\n",
      "[QClass]  Quantum backend =  AerSimulator('aer_simulator_statevector')\n",
      "[QClass]  seed =  332897\n",
      "[QClass]  SVM initiating algorithm\n",
      "[QClass]  Training...\n"
     ]
    },
    {
     "name": "stderr",
     "output_type": "stream",
     "text": [
      "WARNING:root:FidelityQuantumKernel skipped because of time.\n",
      "                    Using FidelityStatevectorKernel with AerStatevector.\n",
      "                    Seed cannot be set with FidelityStatevectorKernel.\n",
      "                    Increase the number of shots to diminish the noise.\n"
     ]
    },
    {
     "name": "stdout",
     "output_type": "stream",
     "text": [
      "[QClass]  Prediction finished.\n",
      "[QClass]  Initializing Quantum Classifier\n",
      "[QClass]  Quantum simulation will be performed\n",
      "GPU optimization disabled. No device found.\n",
      "[QClass]  Fitting:  (545, 3)\n",
      "[QClass]  Feature dimension =  3\n",
      "[QClass]  Quantum backend =  AerSimulator('aer_simulator_statevector')\n",
      "[QClass]  seed =  332897\n",
      "[QClass]  SVM initiating algorithm\n",
      "[QClass]  Training...\n"
     ]
    },
    {
     "name": "stderr",
     "output_type": "stream",
     "text": [
      "WARNING:root:FidelityQuantumKernel skipped because of time.\n",
      "                    Using FidelityStatevectorKernel with AerStatevector.\n",
      "                    Seed cannot be set with FidelityStatevectorKernel.\n",
      "                    Increase the number of shots to diminish the noise.\n"
     ]
    },
    {
     "name": "stdout",
     "output_type": "stream",
     "text": [
      "[QClass]  Prediction finished.\n",
      "[QClass]  Initializing Quantum Classifier\n",
      "[QClass]  Quantum simulation will be performed\n",
      "GPU optimization disabled. No device found.\n",
      "[QClass]  Fitting:  (545, 3)\n",
      "[QClass]  Feature dimension =  3\n",
      "[QClass]  Quantum backend =  AerSimulator('aer_simulator_statevector')\n",
      "[QClass]  seed =  332897\n",
      "[QClass]  SVM initiating algorithm\n",
      "[QClass]  Training...\n"
     ]
    },
    {
     "name": "stderr",
     "output_type": "stream",
     "text": [
      "WARNING:root:FidelityQuantumKernel skipped because of time.\n",
      "                    Using FidelityStatevectorKernel with AerStatevector.\n",
      "                    Seed cannot be set with FidelityStatevectorKernel.\n",
      "                    Increase the number of shots to diminish the noise.\n"
     ]
    },
    {
     "name": "stdout",
     "output_type": "stream",
     "text": [
      "[QClass]  Prediction finished.\n",
      "[QClass]  Initializing Quantum Classifier\n",
      "[QClass]  Quantum simulation will be performed\n",
      "GPU optimization disabled. No device found.\n",
      "[QClass]  Fitting:  (544, 6)\n",
      "[QClass]  Feature dimension =  6\n",
      "[QClass]  Quantum backend =  AerSimulator('aer_simulator_statevector')\n",
      "[QClass]  seed =  332897\n",
      "[QClass]  SVM initiating algorithm\n",
      "[QClass]  Training...\n"
     ]
    },
    {
     "name": "stderr",
     "output_type": "stream",
     "text": [
      "WARNING:root:FidelityQuantumKernel skipped because of time.\n",
      "                    Using FidelityStatevectorKernel with AerStatevector.\n",
      "                    Seed cannot be set with FidelityStatevectorKernel.\n",
      "                    Increase the number of shots to diminish the noise.\n"
     ]
    },
    {
     "name": "stdout",
     "output_type": "stream",
     "text": [
      "[QClass]  Prediction finished.\n",
      "[QClass]  Initializing Quantum Classifier\n",
      "[QClass]  Quantum simulation will be performed\n",
      "GPU optimization disabled. No device found.\n",
      "[QClass]  Fitting:  (545, 6)\n",
      "[QClass]  Feature dimension =  6\n",
      "[QClass]  Quantum backend =  AerSimulator('aer_simulator_statevector')\n",
      "[QClass]  seed =  332897\n",
      "[QClass]  SVM initiating algorithm\n",
      "[QClass]  Training...\n"
     ]
    },
    {
     "name": "stderr",
     "output_type": "stream",
     "text": [
      "WARNING:root:FidelityQuantumKernel skipped because of time.\n",
      "                    Using FidelityStatevectorKernel with AerStatevector.\n",
      "                    Seed cannot be set with FidelityStatevectorKernel.\n",
      "                    Increase the number of shots to diminish the noise.\n"
     ]
    },
    {
     "name": "stdout",
     "output_type": "stream",
     "text": [
      "[QClass]  Prediction finished.\n",
      "[QClass]  Initializing Quantum Classifier\n",
      "[QClass]  Quantum simulation will be performed\n",
      "GPU optimization disabled. No device found.\n",
      "[QClass]  Fitting:  (545, 6)\n",
      "[QClass]  Feature dimension =  6\n",
      "[QClass]  Quantum backend =  AerSimulator('aer_simulator_statevector')\n",
      "[QClass]  seed =  332897\n",
      "[QClass]  SVM initiating algorithm\n",
      "[QClass]  Training...\n"
     ]
    },
    {
     "name": "stderr",
     "output_type": "stream",
     "text": [
      "WARNING:root:FidelityQuantumKernel skipped because of time.\n",
      "                    Using FidelityStatevectorKernel with AerStatevector.\n",
      "                    Seed cannot be set with FidelityStatevectorKernel.\n",
      "                    Increase the number of shots to diminish the noise.\n"
     ]
    },
    {
     "name": "stdout",
     "output_type": "stream",
     "text": [
      "[QClass]  Prediction finished.\n",
      "[QClass]  Initializing Quantum Classifier\n",
      "[QClass]  Quantum simulation will be performed\n",
      "GPU optimization disabled. No device found.\n",
      "[QClass]  Fitting:  (545, 6)\n",
      "[QClass]  Feature dimension =  6\n",
      "[QClass]  Quantum backend =  AerSimulator('aer_simulator_statevector')\n",
      "[QClass]  seed =  332897\n",
      "[QClass]  SVM initiating algorithm\n",
      "[QClass]  Training...\n"
     ]
    },
    {
     "name": "stderr",
     "output_type": "stream",
     "text": [
      "WARNING:root:FidelityQuantumKernel skipped because of time.\n",
      "                    Using FidelityStatevectorKernel with AerStatevector.\n",
      "                    Seed cannot be set with FidelityStatevectorKernel.\n",
      "                    Increase the number of shots to diminish the noise.\n"
     ]
    },
    {
     "name": "stdout",
     "output_type": "stream",
     "text": [
      "[QClass]  Prediction finished.\n",
      "[QClass]  Initializing Quantum Classifier\n",
      "[QClass]  Quantum simulation will be performed\n",
      "GPU optimization disabled. No device found.\n",
      "[QClass]  Fitting:  (545, 6)\n",
      "[QClass]  Feature dimension =  6\n",
      "[QClass]  Quantum backend =  AerSimulator('aer_simulator_statevector')\n",
      "[QClass]  seed =  332897\n",
      "[QClass]  SVM initiating algorithm\n",
      "[QClass]  Training...\n"
     ]
    },
    {
     "name": "stderr",
     "output_type": "stream",
     "text": [
      "WARNING:root:FidelityQuantumKernel skipped because of time.\n",
      "                    Using FidelityStatevectorKernel with AerStatevector.\n",
      "                    Seed cannot be set with FidelityStatevectorKernel.\n",
      "                    Increase the number of shots to diminish the noise.\n"
     ]
    },
    {
     "name": "stdout",
     "output_type": "stream",
     "text": [
      "[QClass]  Prediction finished.\n",
      "[QClass]  Initializing Quantum Classifier\n",
      "[QClass]  Quantum simulation will be performed\n",
      "GPU optimization disabled. No device found.\n",
      "[QClass]  Fitting:  (544, 6)\n",
      "[QClass]  Feature dimension =  6\n",
      "[QClass]  Quantum backend =  AerSimulator('aer_simulator_statevector')\n",
      "[QClass]  seed =  332897\n",
      "[QClass]  SVM initiating algorithm\n",
      "[QClass]  Training...\n"
     ]
    },
    {
     "name": "stderr",
     "output_type": "stream",
     "text": [
      "WARNING:root:FidelityQuantumKernel skipped because of time.\n",
      "                    Using FidelityStatevectorKernel with AerStatevector.\n",
      "                    Seed cannot be set with FidelityStatevectorKernel.\n",
      "                    Increase the number of shots to diminish the noise.\n"
     ]
    },
    {
     "name": "stdout",
     "output_type": "stream",
     "text": [
      "[QClass]  Prediction finished.\n",
      "[QClass]  Initializing Quantum Classifier\n",
      "[QClass]  Quantum simulation will be performed\n",
      "GPU optimization disabled. No device found.\n",
      "[QClass]  Fitting:  (545, 6)\n",
      "[QClass]  Feature dimension =  6\n",
      "[QClass]  Quantum backend =  AerSimulator('aer_simulator_statevector')\n",
      "[QClass]  seed =  332897\n",
      "[QClass]  SVM initiating algorithm\n",
      "[QClass]  Training...\n"
     ]
    },
    {
     "name": "stderr",
     "output_type": "stream",
     "text": [
      "WARNING:root:FidelityQuantumKernel skipped because of time.\n",
      "                    Using FidelityStatevectorKernel with AerStatevector.\n",
      "                    Seed cannot be set with FidelityStatevectorKernel.\n",
      "                    Increase the number of shots to diminish the noise.\n"
     ]
    },
    {
     "name": "stdout",
     "output_type": "stream",
     "text": [
      "[QClass]  Prediction finished.\n",
      "[QClass]  Initializing Quantum Classifier\n",
      "[QClass]  Quantum simulation will be performed\n",
      "GPU optimization disabled. No device found.\n",
      "[QClass]  Fitting:  (545, 6)\n",
      "[QClass]  Feature dimension =  6\n",
      "[QClass]  Quantum backend =  AerSimulator('aer_simulator_statevector')\n",
      "[QClass]  seed =  332897\n",
      "[QClass]  SVM initiating algorithm\n",
      "[QClass]  Training...\n"
     ]
    },
    {
     "name": "stderr",
     "output_type": "stream",
     "text": [
      "WARNING:root:FidelityQuantumKernel skipped because of time.\n",
      "                    Using FidelityStatevectorKernel with AerStatevector.\n",
      "                    Seed cannot be set with FidelityStatevectorKernel.\n",
      "                    Increase the number of shots to diminish the noise.\n"
     ]
    },
    {
     "name": "stdout",
     "output_type": "stream",
     "text": [
      "[QClass]  Prediction finished.\n",
      "[QClass]  Initializing Quantum Classifier\n",
      "[QClass]  Quantum simulation will be performed\n",
      "GPU optimization disabled. No device found.\n",
      "[QClass]  Fitting:  (545, 6)\n",
      "[QClass]  Feature dimension =  6\n",
      "[QClass]  Quantum backend =  AerSimulator('aer_simulator_statevector')\n",
      "[QClass]  seed =  332897\n",
      "[QClass]  SVM initiating algorithm\n",
      "[QClass]  Training...\n"
     ]
    },
    {
     "name": "stderr",
     "output_type": "stream",
     "text": [
      "WARNING:root:FidelityQuantumKernel skipped because of time.\n",
      "                    Using FidelityStatevectorKernel with AerStatevector.\n",
      "                    Seed cannot be set with FidelityStatevectorKernel.\n",
      "                    Increase the number of shots to diminish the noise.\n"
     ]
    },
    {
     "name": "stdout",
     "output_type": "stream",
     "text": [
      "[QClass]  Prediction finished.\n",
      "[QClass]  Initializing Quantum Classifier\n",
      "[QClass]  Quantum simulation will be performed\n",
      "GPU optimization disabled. No device found.\n",
      "[QClass]  Fitting:  (545, 6)\n",
      "[QClass]  Feature dimension =  6\n",
      "[QClass]  Quantum backend =  AerSimulator('aer_simulator_statevector')\n",
      "[QClass]  seed =  332897\n",
      "[QClass]  SVM initiating algorithm\n",
      "[QClass]  Training...\n"
     ]
    },
    {
     "name": "stderr",
     "output_type": "stream",
     "text": [
      "WARNING:root:FidelityQuantumKernel skipped because of time.\n",
      "                    Using FidelityStatevectorKernel with AerStatevector.\n",
      "                    Seed cannot be set with FidelityStatevectorKernel.\n",
      "                    Increase the number of shots to diminish the noise.\n"
     ]
    },
    {
     "name": "stdout",
     "output_type": "stream",
     "text": [
      "[QClass]  Prediction finished.\n",
      "[QClass]  Initializing Quantum Classifier\n",
      "[QClass]  Quantum simulation will be performed\n",
      "GPU optimization disabled. No device found.\n",
      "[QClass]  Fitting:  (544, 6)\n",
      "[QClass]  Feature dimension =  6\n",
      "[QClass]  Quantum backend =  AerSimulator('aer_simulator_statevector')\n",
      "[QClass]  seed =  332897\n",
      "[QClass]  SVM initiating algorithm\n",
      "[QClass]  Training...\n"
     ]
    },
    {
     "name": "stderr",
     "output_type": "stream",
     "text": [
      "WARNING:root:FidelityQuantumKernel skipped because of time.\n",
      "                    Using FidelityStatevectorKernel with AerStatevector.\n",
      "                    Seed cannot be set with FidelityStatevectorKernel.\n",
      "                    Increase the number of shots to diminish the noise.\n"
     ]
    },
    {
     "name": "stdout",
     "output_type": "stream",
     "text": [
      "[QClass]  Prediction finished.\n",
      "[QClass]  Initializing Quantum Classifier\n",
      "[QClass]  Quantum simulation will be performed\n",
      "GPU optimization disabled. No device found.\n",
      "[QClass]  Fitting:  (545, 6)\n",
      "[QClass]  Feature dimension =  6\n",
      "[QClass]  Quantum backend =  AerSimulator('aer_simulator_statevector')\n",
      "[QClass]  seed =  332897\n",
      "[QClass]  SVM initiating algorithm\n",
      "[QClass]  Training...\n"
     ]
    },
    {
     "name": "stderr",
     "output_type": "stream",
     "text": [
      "WARNING:root:FidelityQuantumKernel skipped because of time.\n",
      "                    Using FidelityStatevectorKernel with AerStatevector.\n",
      "                    Seed cannot be set with FidelityStatevectorKernel.\n",
      "                    Increase the number of shots to diminish the noise.\n"
     ]
    },
    {
     "name": "stdout",
     "output_type": "stream",
     "text": [
      "[QClass]  Prediction finished.\n",
      "[QClass]  Initializing Quantum Classifier\n",
      "[QClass]  Quantum simulation will be performed\n",
      "GPU optimization disabled. No device found.\n",
      "[QClass]  Fitting:  (545, 6)\n",
      "[QClass]  Feature dimension =  6\n",
      "[QClass]  Quantum backend =  AerSimulator('aer_simulator_statevector')\n",
      "[QClass]  seed =  332897\n",
      "[QClass]  SVM initiating algorithm\n",
      "[QClass]  Training...\n"
     ]
    },
    {
     "name": "stderr",
     "output_type": "stream",
     "text": [
      "WARNING:root:FidelityQuantumKernel skipped because of time.\n",
      "                    Using FidelityStatevectorKernel with AerStatevector.\n",
      "                    Seed cannot be set with FidelityStatevectorKernel.\n",
      "                    Increase the number of shots to diminish the noise.\n"
     ]
    },
    {
     "name": "stdout",
     "output_type": "stream",
     "text": [
      "[QClass]  Prediction finished.\n",
      "[QClass]  Initializing Quantum Classifier\n",
      "[QClass]  Quantum simulation will be performed\n",
      "GPU optimization disabled. No device found.\n",
      "[QClass]  Fitting:  (545, 6)\n",
      "[QClass]  Feature dimension =  6\n",
      "[QClass]  Quantum backend =  AerSimulator('aer_simulator_statevector')\n",
      "[QClass]  seed =  332897\n",
      "[QClass]  SVM initiating algorithm\n",
      "[QClass]  Training...\n"
     ]
    },
    {
     "name": "stderr",
     "output_type": "stream",
     "text": [
      "WARNING:root:FidelityQuantumKernel skipped because of time.\n",
      "                    Using FidelityStatevectorKernel with AerStatevector.\n",
      "                    Seed cannot be set with FidelityStatevectorKernel.\n",
      "                    Increase the number of shots to diminish the noise.\n"
     ]
    },
    {
     "name": "stdout",
     "output_type": "stream",
     "text": [
      "[QClass]  Prediction finished.\n",
      "[QClass]  Initializing Quantum Classifier\n",
      "[QClass]  Quantum simulation will be performed\n",
      "GPU optimization disabled. No device found.\n",
      "[QClass]  Fitting:  (545, 6)\n",
      "[QClass]  Feature dimension =  6\n",
      "[QClass]  Quantum backend =  AerSimulator('aer_simulator_statevector')\n",
      "[QClass]  seed =  332897\n",
      "[QClass]  SVM initiating algorithm\n",
      "[QClass]  Training...\n"
     ]
    },
    {
     "name": "stderr",
     "output_type": "stream",
     "text": [
      "WARNING:root:FidelityQuantumKernel skipped because of time.\n",
      "                    Using FidelityStatevectorKernel with AerStatevector.\n",
      "                    Seed cannot be set with FidelityStatevectorKernel.\n",
      "                    Increase the number of shots to diminish the noise.\n"
     ]
    },
    {
     "name": "stdout",
     "output_type": "stream",
     "text": [
      "[QClass]  Prediction finished.\n",
      "[QClass]  Initializing Quantum Classifier\n",
      "[QClass]  Quantum simulation will be performed\n",
      "GPU optimization disabled. No device found.\n",
      "[QClass]  Fitting:  (544, 6)\n",
      "[QClass]  Feature dimension =  6\n",
      "[QClass]  Quantum backend =  AerSimulator('aer_simulator_statevector')\n",
      "[QClass]  seed =  332897\n",
      "[QClass]  SVM initiating algorithm\n",
      "[QClass]  Training...\n"
     ]
    },
    {
     "name": "stderr",
     "output_type": "stream",
     "text": [
      "WARNING:root:FidelityQuantumKernel skipped because of time.\n",
      "                    Using FidelityStatevectorKernel with AerStatevector.\n",
      "                    Seed cannot be set with FidelityStatevectorKernel.\n",
      "                    Increase the number of shots to diminish the noise.\n"
     ]
    },
    {
     "name": "stdout",
     "output_type": "stream",
     "text": [
      "[QClass]  Prediction finished.\n",
      "[QClass]  Initializing Quantum Classifier\n",
      "[QClass]  Quantum simulation will be performed\n",
      "GPU optimization disabled. No device found.\n",
      "[QClass]  Fitting:  (545, 6)\n",
      "[QClass]  Feature dimension =  6\n",
      "[QClass]  Quantum backend =  AerSimulator('aer_simulator_statevector')\n",
      "[QClass]  seed =  332897\n",
      "[QClass]  SVM initiating algorithm\n",
      "[QClass]  Training...\n"
     ]
    },
    {
     "name": "stderr",
     "output_type": "stream",
     "text": [
      "WARNING:root:FidelityQuantumKernel skipped because of time.\n",
      "                    Using FidelityStatevectorKernel with AerStatevector.\n",
      "                    Seed cannot be set with FidelityStatevectorKernel.\n",
      "                    Increase the number of shots to diminish the noise.\n"
     ]
    },
    {
     "name": "stdout",
     "output_type": "stream",
     "text": [
      "[QClass]  Prediction finished.\n",
      "[QClass]  Initializing Quantum Classifier\n",
      "[QClass]  Quantum simulation will be performed\n",
      "GPU optimization disabled. No device found.\n",
      "[QClass]  Fitting:  (545, 6)\n",
      "[QClass]  Feature dimension =  6\n",
      "[QClass]  Quantum backend =  AerSimulator('aer_simulator_statevector')\n",
      "[QClass]  seed =  332897\n",
      "[QClass]  SVM initiating algorithm\n",
      "[QClass]  Training...\n"
     ]
    },
    {
     "name": "stderr",
     "output_type": "stream",
     "text": [
      "WARNING:root:FidelityQuantumKernel skipped because of time.\n",
      "                    Using FidelityStatevectorKernel with AerStatevector.\n",
      "                    Seed cannot be set with FidelityStatevectorKernel.\n",
      "                    Increase the number of shots to diminish the noise.\n"
     ]
    },
    {
     "name": "stdout",
     "output_type": "stream",
     "text": [
      "[QClass]  Prediction finished.\n",
      "[QClass]  Initializing Quantum Classifier\n",
      "[QClass]  Quantum simulation will be performed\n",
      "GPU optimization disabled. No device found.\n",
      "[QClass]  Fitting:  (545, 6)\n",
      "[QClass]  Feature dimension =  6\n",
      "[QClass]  Quantum backend =  AerSimulator('aer_simulator_statevector')\n",
      "[QClass]  seed =  332897\n",
      "[QClass]  SVM initiating algorithm\n",
      "[QClass]  Training...\n"
     ]
    },
    {
     "name": "stderr",
     "output_type": "stream",
     "text": [
      "WARNING:root:FidelityQuantumKernel skipped because of time.\n",
      "                    Using FidelityStatevectorKernel with AerStatevector.\n",
      "                    Seed cannot be set with FidelityStatevectorKernel.\n",
      "                    Increase the number of shots to diminish the noise.\n"
     ]
    },
    {
     "name": "stdout",
     "output_type": "stream",
     "text": [
      "[QClass]  Prediction finished.\n",
      "[QClass]  Initializing Quantum Classifier\n",
      "[QClass]  Quantum simulation will be performed\n",
      "GPU optimization disabled. No device found.\n",
      "[QClass]  Fitting:  (545, 6)\n",
      "[QClass]  Feature dimension =  6\n",
      "[QClass]  Quantum backend =  AerSimulator('aer_simulator_statevector')\n",
      "[QClass]  seed =  332897\n",
      "[QClass]  SVM initiating algorithm\n",
      "[QClass]  Training...\n"
     ]
    },
    {
     "name": "stderr",
     "output_type": "stream",
     "text": [
      "WARNING:root:FidelityQuantumKernel skipped because of time.\n",
      "                    Using FidelityStatevectorKernel with AerStatevector.\n",
      "                    Seed cannot be set with FidelityStatevectorKernel.\n",
      "                    Increase the number of shots to diminish the noise.\n"
     ]
    },
    {
     "name": "stdout",
     "output_type": "stream",
     "text": [
      "[QClass]  Prediction finished.\n",
      "[QClass]  Initializing Quantum Classifier\n",
      "[QClass]  Quantum simulation will be performed\n",
      "GPU optimization disabled. No device found.\n",
      "[QClass]  Fitting:  (544, 6)\n",
      "[QClass]  Feature dimension =  6\n",
      "[QClass]  Quantum backend =  AerSimulator('aer_simulator_statevector')\n",
      "[QClass]  seed =  332897\n",
      "[QClass]  SVM initiating algorithm\n",
      "[QClass]  Training...\n"
     ]
    },
    {
     "name": "stderr",
     "output_type": "stream",
     "text": [
      "WARNING:root:FidelityQuantumKernel skipped because of time.\n",
      "                    Using FidelityStatevectorKernel with AerStatevector.\n",
      "                    Seed cannot be set with FidelityStatevectorKernel.\n",
      "                    Increase the number of shots to diminish the noise.\n"
     ]
    },
    {
     "name": "stdout",
     "output_type": "stream",
     "text": [
      "[QClass]  Prediction finished.\n",
      "[QClass]  Initializing Quantum Classifier\n",
      "[QClass]  Quantum simulation will be performed\n",
      "GPU optimization disabled. No device found.\n",
      "[QClass]  Fitting:  (545, 6)\n",
      "[QClass]  Feature dimension =  6\n",
      "[QClass]  Quantum backend =  AerSimulator('aer_simulator_statevector')\n",
      "[QClass]  seed =  332897\n",
      "[QClass]  SVM initiating algorithm\n",
      "[QClass]  Training...\n"
     ]
    },
    {
     "name": "stderr",
     "output_type": "stream",
     "text": [
      "WARNING:root:FidelityQuantumKernel skipped because of time.\n",
      "                    Using FidelityStatevectorKernel with AerStatevector.\n",
      "                    Seed cannot be set with FidelityStatevectorKernel.\n",
      "                    Increase the number of shots to diminish the noise.\n"
     ]
    },
    {
     "name": "stdout",
     "output_type": "stream",
     "text": [
      "[QClass]  Prediction finished.\n",
      "[QClass]  Initializing Quantum Classifier\n",
      "[QClass]  Quantum simulation will be performed\n",
      "GPU optimization disabled. No device found.\n",
      "[QClass]  Fitting:  (545, 6)\n",
      "[QClass]  Feature dimension =  6\n",
      "[QClass]  Quantum backend =  AerSimulator('aer_simulator_statevector')\n",
      "[QClass]  seed =  332897\n",
      "[QClass]  SVM initiating algorithm\n",
      "[QClass]  Training...\n"
     ]
    },
    {
     "name": "stderr",
     "output_type": "stream",
     "text": [
      "WARNING:root:FidelityQuantumKernel skipped because of time.\n",
      "                    Using FidelityStatevectorKernel with AerStatevector.\n",
      "                    Seed cannot be set with FidelityStatevectorKernel.\n",
      "                    Increase the number of shots to diminish the noise.\n"
     ]
    },
    {
     "name": "stdout",
     "output_type": "stream",
     "text": [
      "[QClass]  Prediction finished.\n",
      "[QClass]  Initializing Quantum Classifier\n",
      "[QClass]  Quantum simulation will be performed\n",
      "GPU optimization disabled. No device found.\n",
      "[QClass]  Fitting:  (545, 6)\n",
      "[QClass]  Feature dimension =  6\n",
      "[QClass]  Quantum backend =  AerSimulator('aer_simulator_statevector')\n",
      "[QClass]  seed =  332897\n",
      "[QClass]  SVM initiating algorithm\n",
      "[QClass]  Training...\n"
     ]
    },
    {
     "name": "stderr",
     "output_type": "stream",
     "text": [
      "WARNING:root:FidelityQuantumKernel skipped because of time.\n",
      "                    Using FidelityStatevectorKernel with AerStatevector.\n",
      "                    Seed cannot be set with FidelityStatevectorKernel.\n",
      "                    Increase the number of shots to diminish the noise.\n"
     ]
    },
    {
     "name": "stdout",
     "output_type": "stream",
     "text": [
      "[QClass]  Prediction finished.\n",
      "[QClass]  Initializing Quantum Classifier\n",
      "[QClass]  Quantum simulation will be performed\n",
      "GPU optimization disabled. No device found.\n",
      "[QClass]  Fitting:  (545, 6)\n",
      "[QClass]  Feature dimension =  6\n",
      "[QClass]  Quantum backend =  AerSimulator('aer_simulator_statevector')\n",
      "[QClass]  seed =  332897\n",
      "[QClass]  SVM initiating algorithm\n",
      "[QClass]  Training...\n"
     ]
    },
    {
     "name": "stderr",
     "output_type": "stream",
     "text": [
      "WARNING:root:FidelityQuantumKernel skipped because of time.\n",
      "                    Using FidelityStatevectorKernel with AerStatevector.\n",
      "                    Seed cannot be set with FidelityStatevectorKernel.\n",
      "                    Increase the number of shots to diminish the noise.\n"
     ]
    },
    {
     "name": "stdout",
     "output_type": "stream",
     "text": [
      "[QClass]  Prediction finished.\n",
      "[QClass]  Initializing Quantum Classifier\n",
      "[QClass]  Quantum simulation will be performed\n",
      "GPU optimization disabled. No device found.\n",
      "[QClass]  Fitting:  (544, 6)\n",
      "[QClass]  Feature dimension =  6\n",
      "[QClass]  Quantum backend =  AerSimulator('aer_simulator_statevector')\n",
      "[QClass]  seed =  332897\n",
      "[QClass]  SVM initiating algorithm\n",
      "[QClass]  Training...\n"
     ]
    },
    {
     "name": "stderr",
     "output_type": "stream",
     "text": [
      "WARNING:root:FidelityQuantumKernel skipped because of time.\n",
      "                    Using FidelityStatevectorKernel with AerStatevector.\n",
      "                    Seed cannot be set with FidelityStatevectorKernel.\n",
      "                    Increase the number of shots to diminish the noise.\n"
     ]
    },
    {
     "name": "stdout",
     "output_type": "stream",
     "text": [
      "[QClass]  Prediction finished.\n",
      "[QClass]  Initializing Quantum Classifier\n",
      "[QClass]  Quantum simulation will be performed\n",
      "GPU optimization disabled. No device found.\n",
      "[QClass]  Fitting:  (545, 6)\n",
      "[QClass]  Feature dimension =  6\n",
      "[QClass]  Quantum backend =  AerSimulator('aer_simulator_statevector')\n",
      "[QClass]  seed =  332897\n",
      "[QClass]  SVM initiating algorithm\n",
      "[QClass]  Training...\n"
     ]
    },
    {
     "name": "stderr",
     "output_type": "stream",
     "text": [
      "WARNING:root:FidelityQuantumKernel skipped because of time.\n",
      "                    Using FidelityStatevectorKernel with AerStatevector.\n",
      "                    Seed cannot be set with FidelityStatevectorKernel.\n",
      "                    Increase the number of shots to diminish the noise.\n"
     ]
    },
    {
     "name": "stdout",
     "output_type": "stream",
     "text": [
      "[QClass]  Prediction finished.\n",
      "[QClass]  Initializing Quantum Classifier\n",
      "[QClass]  Quantum simulation will be performed\n",
      "GPU optimization disabled. No device found.\n",
      "[QClass]  Fitting:  (545, 6)\n",
      "[QClass]  Feature dimension =  6\n",
      "[QClass]  Quantum backend =  AerSimulator('aer_simulator_statevector')\n",
      "[QClass]  seed =  332897\n",
      "[QClass]  SVM initiating algorithm\n",
      "[QClass]  Training...\n"
     ]
    },
    {
     "name": "stderr",
     "output_type": "stream",
     "text": [
      "WARNING:root:FidelityQuantumKernel skipped because of time.\n",
      "                    Using FidelityStatevectorKernel with AerStatevector.\n",
      "                    Seed cannot be set with FidelityStatevectorKernel.\n",
      "                    Increase the number of shots to diminish the noise.\n"
     ]
    },
    {
     "name": "stdout",
     "output_type": "stream",
     "text": [
      "[QClass]  Prediction finished.\n",
      "[QClass]  Initializing Quantum Classifier\n",
      "[QClass]  Quantum simulation will be performed\n",
      "GPU optimization disabled. No device found.\n",
      "[QClass]  Fitting:  (545, 6)\n",
      "[QClass]  Feature dimension =  6\n",
      "[QClass]  Quantum backend =  AerSimulator('aer_simulator_statevector')\n",
      "[QClass]  seed =  332897\n",
      "[QClass]  SVM initiating algorithm\n",
      "[QClass]  Training...\n"
     ]
    },
    {
     "name": "stderr",
     "output_type": "stream",
     "text": [
      "WARNING:root:FidelityQuantumKernel skipped because of time.\n",
      "                    Using FidelityStatevectorKernel with AerStatevector.\n",
      "                    Seed cannot be set with FidelityStatevectorKernel.\n",
      "                    Increase the number of shots to diminish the noise.\n"
     ]
    },
    {
     "name": "stdout",
     "output_type": "stream",
     "text": [
      "[QClass]  Prediction finished.\n",
      "[QClass]  Initializing Quantum Classifier\n",
      "[QClass]  Quantum simulation will be performed\n",
      "GPU optimization disabled. No device found.\n",
      "[QClass]  Fitting:  (545, 6)\n",
      "[QClass]  Feature dimension =  6\n",
      "[QClass]  Quantum backend =  AerSimulator('aer_simulator_statevector')\n",
      "[QClass]  seed =  332897\n",
      "[QClass]  SVM initiating algorithm\n",
      "[QClass]  Training...\n"
     ]
    },
    {
     "name": "stderr",
     "output_type": "stream",
     "text": [
      "WARNING:root:FidelityQuantumKernel skipped because of time.\n",
      "                    Using FidelityStatevectorKernel with AerStatevector.\n",
      "                    Seed cannot be set with FidelityStatevectorKernel.\n",
      "                    Increase the number of shots to diminish the noise.\n"
     ]
    },
    {
     "name": "stdout",
     "output_type": "stream",
     "text": [
      "[QClass]  Prediction finished.\n",
      "[QClass]  Initializing Quantum Classifier\n",
      "[QClass]  Quantum simulation will be performed\n",
      "GPU optimization disabled. No device found.\n",
      "[QClass]  Fitting:  (544, 6)\n",
      "[QClass]  Feature dimension =  6\n",
      "[QClass]  Quantum backend =  AerSimulator('aer_simulator_statevector')\n",
      "[QClass]  seed =  332897\n",
      "[QClass]  SVM initiating algorithm\n",
      "[QClass]  Training...\n"
     ]
    },
    {
     "name": "stderr",
     "output_type": "stream",
     "text": [
      "WARNING:root:FidelityQuantumKernel skipped because of time.\n",
      "                    Using FidelityStatevectorKernel with AerStatevector.\n",
      "                    Seed cannot be set with FidelityStatevectorKernel.\n",
      "                    Increase the number of shots to diminish the noise.\n"
     ]
    },
    {
     "name": "stdout",
     "output_type": "stream",
     "text": [
      "[QClass]  Prediction finished.\n",
      "[QClass]  Initializing Quantum Classifier\n",
      "[QClass]  Quantum simulation will be performed\n",
      "GPU optimization disabled. No device found.\n",
      "[QClass]  Fitting:  (545, 6)\n",
      "[QClass]  Feature dimension =  6\n",
      "[QClass]  Quantum backend =  AerSimulator('aer_simulator_statevector')\n",
      "[QClass]  seed =  332897\n",
      "[QClass]  SVM initiating algorithm\n",
      "[QClass]  Training...\n"
     ]
    },
    {
     "name": "stderr",
     "output_type": "stream",
     "text": [
      "WARNING:root:FidelityQuantumKernel skipped because of time.\n",
      "                    Using FidelityStatevectorKernel with AerStatevector.\n",
      "                    Seed cannot be set with FidelityStatevectorKernel.\n",
      "                    Increase the number of shots to diminish the noise.\n"
     ]
    },
    {
     "name": "stdout",
     "output_type": "stream",
     "text": [
      "[QClass]  Prediction finished.\n",
      "[QClass]  Initializing Quantum Classifier\n",
      "[QClass]  Quantum simulation will be performed\n",
      "GPU optimization disabled. No device found.\n",
      "[QClass]  Fitting:  (545, 6)\n",
      "[QClass]  Feature dimension =  6\n",
      "[QClass]  Quantum backend =  AerSimulator('aer_simulator_statevector')\n",
      "[QClass]  seed =  332897\n",
      "[QClass]  SVM initiating algorithm\n",
      "[QClass]  Training...\n"
     ]
    },
    {
     "name": "stderr",
     "output_type": "stream",
     "text": [
      "WARNING:root:FidelityQuantumKernel skipped because of time.\n",
      "                    Using FidelityStatevectorKernel with AerStatevector.\n",
      "                    Seed cannot be set with FidelityStatevectorKernel.\n",
      "                    Increase the number of shots to diminish the noise.\n"
     ]
    },
    {
     "name": "stdout",
     "output_type": "stream",
     "text": [
      "[QClass]  Prediction finished.\n",
      "[QClass]  Initializing Quantum Classifier\n",
      "[QClass]  Quantum simulation will be performed\n",
      "GPU optimization disabled. No device found.\n",
      "[QClass]  Fitting:  (545, 6)\n",
      "[QClass]  Feature dimension =  6\n",
      "[QClass]  Quantum backend =  AerSimulator('aer_simulator_statevector')\n",
      "[QClass]  seed =  332897\n",
      "[QClass]  SVM initiating algorithm\n",
      "[QClass]  Training...\n"
     ]
    },
    {
     "name": "stderr",
     "output_type": "stream",
     "text": [
      "WARNING:root:FidelityQuantumKernel skipped because of time.\n",
      "                    Using FidelityStatevectorKernel with AerStatevector.\n",
      "                    Seed cannot be set with FidelityStatevectorKernel.\n",
      "                    Increase the number of shots to diminish the noise.\n"
     ]
    },
    {
     "name": "stdout",
     "output_type": "stream",
     "text": [
      "[QClass]  Prediction finished.\n",
      "[QClass]  Initializing Quantum Classifier\n",
      "[QClass]  Quantum simulation will be performed\n",
      "GPU optimization disabled. No device found.\n",
      "[QClass]  Fitting:  (545, 6)\n",
      "[QClass]  Feature dimension =  6\n",
      "[QClass]  Quantum backend =  AerSimulator('aer_simulator_statevector')\n",
      "[QClass]  seed =  332897\n",
      "[QClass]  SVM initiating algorithm\n",
      "[QClass]  Training...\n"
     ]
    },
    {
     "name": "stderr",
     "output_type": "stream",
     "text": [
      "WARNING:root:FidelityQuantumKernel skipped because of time.\n",
      "                    Using FidelityStatevectorKernel with AerStatevector.\n",
      "                    Seed cannot be set with FidelityStatevectorKernel.\n",
      "                    Increase the number of shots to diminish the noise.\n"
     ]
    },
    {
     "name": "stdout",
     "output_type": "stream",
     "text": [
      "[QClass]  Prediction finished.\n",
      "[QClass]  Initializing Quantum Classifier\n",
      "[QClass]  Quantum simulation will be performed\n",
      "GPU optimization disabled. No device found.\n",
      "[QClass]  Fitting:  (544, 6)\n",
      "[QClass]  Feature dimension =  6\n",
      "[QClass]  Quantum backend =  AerSimulator('aer_simulator_statevector')\n",
      "[QClass]  seed =  332897\n",
      "[QClass]  SVM initiating algorithm\n",
      "[QClass]  Training...\n"
     ]
    },
    {
     "name": "stderr",
     "output_type": "stream",
     "text": [
      "WARNING:root:FidelityQuantumKernel skipped because of time.\n",
      "                    Using FidelityStatevectorKernel with AerStatevector.\n",
      "                    Seed cannot be set with FidelityStatevectorKernel.\n",
      "                    Increase the number of shots to diminish the noise.\n"
     ]
    },
    {
     "name": "stdout",
     "output_type": "stream",
     "text": [
      "[QClass]  Prediction finished.\n",
      "[QClass]  Initializing Quantum Classifier\n",
      "[QClass]  Quantum simulation will be performed\n",
      "GPU optimization disabled. No device found.\n",
      "[QClass]  Fitting:  (545, 6)\n",
      "[QClass]  Feature dimension =  6\n",
      "[QClass]  Quantum backend =  AerSimulator('aer_simulator_statevector')\n",
      "[QClass]  seed =  332897\n",
      "[QClass]  SVM initiating algorithm\n",
      "[QClass]  Training...\n"
     ]
    },
    {
     "name": "stderr",
     "output_type": "stream",
     "text": [
      "WARNING:root:FidelityQuantumKernel skipped because of time.\n",
      "                    Using FidelityStatevectorKernel with AerStatevector.\n",
      "                    Seed cannot be set with FidelityStatevectorKernel.\n",
      "                    Increase the number of shots to diminish the noise.\n"
     ]
    },
    {
     "name": "stdout",
     "output_type": "stream",
     "text": [
      "[QClass]  Prediction finished.\n",
      "[QClass]  Initializing Quantum Classifier\n",
      "[QClass]  Quantum simulation will be performed\n",
      "GPU optimization disabled. No device found.\n",
      "[QClass]  Fitting:  (545, 6)\n",
      "[QClass]  Feature dimension =  6\n",
      "[QClass]  Quantum backend =  AerSimulator('aer_simulator_statevector')\n",
      "[QClass]  seed =  332897\n",
      "[QClass]  SVM initiating algorithm\n",
      "[QClass]  Training...\n"
     ]
    },
    {
     "name": "stderr",
     "output_type": "stream",
     "text": [
      "WARNING:root:FidelityQuantumKernel skipped because of time.\n",
      "                    Using FidelityStatevectorKernel with AerStatevector.\n",
      "                    Seed cannot be set with FidelityStatevectorKernel.\n",
      "                    Increase the number of shots to diminish the noise.\n"
     ]
    },
    {
     "name": "stdout",
     "output_type": "stream",
     "text": [
      "[QClass]  Prediction finished.\n",
      "[QClass]  Initializing Quantum Classifier\n",
      "[QClass]  Quantum simulation will be performed\n",
      "GPU optimization disabled. No device found.\n",
      "[QClass]  Fitting:  (545, 6)\n",
      "[QClass]  Feature dimension =  6\n",
      "[QClass]  Quantum backend =  AerSimulator('aer_simulator_statevector')\n",
      "[QClass]  seed =  332897\n",
      "[QClass]  SVM initiating algorithm\n",
      "[QClass]  Training...\n"
     ]
    },
    {
     "name": "stderr",
     "output_type": "stream",
     "text": [
      "WARNING:root:FidelityQuantumKernel skipped because of time.\n",
      "                    Using FidelityStatevectorKernel with AerStatevector.\n",
      "                    Seed cannot be set with FidelityStatevectorKernel.\n",
      "                    Increase the number of shots to diminish the noise.\n"
     ]
    },
    {
     "name": "stdout",
     "output_type": "stream",
     "text": [
      "[QClass]  Prediction finished.\n",
      "[QClass]  Initializing Quantum Classifier\n",
      "[QClass]  Quantum simulation will be performed\n",
      "GPU optimization disabled. No device found.\n",
      "[QClass]  Fitting:  (545, 6)\n",
      "[QClass]  Feature dimension =  6\n",
      "[QClass]  Quantum backend =  AerSimulator('aer_simulator_statevector')\n",
      "[QClass]  seed =  332897\n",
      "[QClass]  SVM initiating algorithm\n",
      "[QClass]  Training...\n"
     ]
    },
    {
     "name": "stderr",
     "output_type": "stream",
     "text": [
      "WARNING:root:FidelityQuantumKernel skipped because of time.\n",
      "                    Using FidelityStatevectorKernel with AerStatevector.\n",
      "                    Seed cannot be set with FidelityStatevectorKernel.\n",
      "                    Increase the number of shots to diminish the noise.\n"
     ]
    },
    {
     "name": "stdout",
     "output_type": "stream",
     "text": [
      "[QClass]  Prediction finished.\n",
      "[QClass]  Initializing Quantum Classifier\n",
      "[QClass]  Quantum simulation will be performed\n",
      "GPU optimization disabled. No device found.\n",
      "[QClass]  Fitting:  (544, 6)\n",
      "[QClass]  Feature dimension =  6\n",
      "[QClass]  Quantum backend =  AerSimulator('aer_simulator_statevector')\n",
      "[QClass]  seed =  332897\n",
      "[QClass]  SVM initiating algorithm\n",
      "[QClass]  Training...\n"
     ]
    },
    {
     "name": "stderr",
     "output_type": "stream",
     "text": [
      "WARNING:root:FidelityQuantumKernel skipped because of time.\n",
      "                    Using FidelityStatevectorKernel with AerStatevector.\n",
      "                    Seed cannot be set with FidelityStatevectorKernel.\n",
      "                    Increase the number of shots to diminish the noise.\n"
     ]
    },
    {
     "name": "stdout",
     "output_type": "stream",
     "text": [
      "[QClass]  Prediction finished.\n",
      "[QClass]  Initializing Quantum Classifier\n",
      "[QClass]  Quantum simulation will be performed\n",
      "GPU optimization disabled. No device found.\n",
      "[QClass]  Fitting:  (545, 6)\n",
      "[QClass]  Feature dimension =  6\n",
      "[QClass]  Quantum backend =  AerSimulator('aer_simulator_statevector')\n",
      "[QClass]  seed =  332897\n",
      "[QClass]  SVM initiating algorithm\n",
      "[QClass]  Training...\n"
     ]
    },
    {
     "name": "stderr",
     "output_type": "stream",
     "text": [
      "WARNING:root:FidelityQuantumKernel skipped because of time.\n",
      "                    Using FidelityStatevectorKernel with AerStatevector.\n",
      "                    Seed cannot be set with FidelityStatevectorKernel.\n",
      "                    Increase the number of shots to diminish the noise.\n"
     ]
    },
    {
     "name": "stdout",
     "output_type": "stream",
     "text": [
      "[QClass]  Prediction finished.\n",
      "[QClass]  Initializing Quantum Classifier\n",
      "[QClass]  Quantum simulation will be performed\n",
      "GPU optimization disabled. No device found.\n",
      "[QClass]  Fitting:  (545, 6)\n",
      "[QClass]  Feature dimension =  6\n",
      "[QClass]  Quantum backend =  AerSimulator('aer_simulator_statevector')\n",
      "[QClass]  seed =  332897\n",
      "[QClass]  SVM initiating algorithm\n",
      "[QClass]  Training...\n"
     ]
    },
    {
     "name": "stderr",
     "output_type": "stream",
     "text": [
      "WARNING:root:FidelityQuantumKernel skipped because of time.\n",
      "                    Using FidelityStatevectorKernel with AerStatevector.\n",
      "                    Seed cannot be set with FidelityStatevectorKernel.\n",
      "                    Increase the number of shots to diminish the noise.\n"
     ]
    },
    {
     "name": "stdout",
     "output_type": "stream",
     "text": [
      "[QClass]  Prediction finished.\n",
      "[QClass]  Initializing Quantum Classifier\n",
      "[QClass]  Quantum simulation will be performed\n",
      "GPU optimization disabled. No device found.\n",
      "[QClass]  Fitting:  (545, 6)\n",
      "[QClass]  Feature dimension =  6\n",
      "[QClass]  Quantum backend =  AerSimulator('aer_simulator_statevector')\n",
      "[QClass]  seed =  332897\n",
      "[QClass]  SVM initiating algorithm\n",
      "[QClass]  Training...\n"
     ]
    },
    {
     "name": "stderr",
     "output_type": "stream",
     "text": [
      "WARNING:root:FidelityQuantumKernel skipped because of time.\n",
      "                    Using FidelityStatevectorKernel with AerStatevector.\n",
      "                    Seed cannot be set with FidelityStatevectorKernel.\n",
      "                    Increase the number of shots to diminish the noise.\n"
     ]
    },
    {
     "name": "stdout",
     "output_type": "stream",
     "text": [
      "[QClass]  Prediction finished.\n",
      "[QClass]  Initializing Quantum Classifier\n",
      "[QClass]  Quantum simulation will be performed\n",
      "GPU optimization disabled. No device found.\n",
      "[QClass]  Fitting:  (545, 6)\n",
      "[QClass]  Feature dimension =  6\n",
      "[QClass]  Quantum backend =  AerSimulator('aer_simulator_statevector')\n",
      "[QClass]  seed =  332897\n",
      "[QClass]  SVM initiating algorithm\n",
      "[QClass]  Training...\n"
     ]
    },
    {
     "name": "stderr",
     "output_type": "stream",
     "text": [
      "WARNING:root:FidelityQuantumKernel skipped because of time.\n",
      "                    Using FidelityStatevectorKernel with AerStatevector.\n",
      "                    Seed cannot be set with FidelityStatevectorKernel.\n",
      "                    Increase the number of shots to diminish the noise.\n"
     ]
    },
    {
     "name": "stdout",
     "output_type": "stream",
     "text": [
      "[QClass]  Prediction finished.\n",
      "[QClass]  Initializing Quantum Classifier\n",
      "[QClass]  Quantum simulation will be performed\n",
      "GPU optimization disabled. No device found.\n",
      "[QClass]  Fitting:  (544, 6)\n",
      "[QClass]  Feature dimension =  6\n",
      "[QClass]  Quantum backend =  AerSimulator('aer_simulator_statevector')\n",
      "[QClass]  seed =  332897\n",
      "[QClass]  SVM initiating algorithm\n",
      "[QClass]  Training...\n"
     ]
    },
    {
     "name": "stderr",
     "output_type": "stream",
     "text": [
      "WARNING:root:FidelityQuantumKernel skipped because of time.\n",
      "                    Using FidelityStatevectorKernel with AerStatevector.\n",
      "                    Seed cannot be set with FidelityStatevectorKernel.\n",
      "                    Increase the number of shots to diminish the noise.\n"
     ]
    },
    {
     "name": "stdout",
     "output_type": "stream",
     "text": [
      "[QClass]  Prediction finished.\n",
      "[QClass]  Initializing Quantum Classifier\n",
      "[QClass]  Quantum simulation will be performed\n",
      "GPU optimization disabled. No device found.\n",
      "[QClass]  Fitting:  (545, 6)\n",
      "[QClass]  Feature dimension =  6\n",
      "[QClass]  Quantum backend =  AerSimulator('aer_simulator_statevector')\n",
      "[QClass]  seed =  332897\n",
      "[QClass]  SVM initiating algorithm\n",
      "[QClass]  Training...\n"
     ]
    },
    {
     "name": "stderr",
     "output_type": "stream",
     "text": [
      "WARNING:root:FidelityQuantumKernel skipped because of time.\n",
      "                    Using FidelityStatevectorKernel with AerStatevector.\n",
      "                    Seed cannot be set with FidelityStatevectorKernel.\n",
      "                    Increase the number of shots to diminish the noise.\n"
     ]
    },
    {
     "name": "stdout",
     "output_type": "stream",
     "text": [
      "[QClass]  Prediction finished.\n",
      "[QClass]  Initializing Quantum Classifier\n",
      "[QClass]  Quantum simulation will be performed\n",
      "GPU optimization disabled. No device found.\n",
      "[QClass]  Fitting:  (545, 6)\n",
      "[QClass]  Feature dimension =  6\n",
      "[QClass]  Quantum backend =  AerSimulator('aer_simulator_statevector')\n",
      "[QClass]  seed =  332897\n",
      "[QClass]  SVM initiating algorithm\n",
      "[QClass]  Training...\n"
     ]
    },
    {
     "name": "stderr",
     "output_type": "stream",
     "text": [
      "WARNING:root:FidelityQuantumKernel skipped because of time.\n",
      "                    Using FidelityStatevectorKernel with AerStatevector.\n",
      "                    Seed cannot be set with FidelityStatevectorKernel.\n",
      "                    Increase the number of shots to diminish the noise.\n"
     ]
    },
    {
     "name": "stdout",
     "output_type": "stream",
     "text": [
      "[QClass]  Prediction finished.\n",
      "[QClass]  Initializing Quantum Classifier\n",
      "[QClass]  Quantum simulation will be performed\n",
      "GPU optimization disabled. No device found.\n",
      "[QClass]  Fitting:  (545, 6)\n",
      "[QClass]  Feature dimension =  6\n",
      "[QClass]  Quantum backend =  AerSimulator('aer_simulator_statevector')\n",
      "[QClass]  seed =  332897\n",
      "[QClass]  SVM initiating algorithm\n",
      "[QClass]  Training...\n"
     ]
    },
    {
     "name": "stderr",
     "output_type": "stream",
     "text": [
      "WARNING:root:FidelityQuantumKernel skipped because of time.\n",
      "                    Using FidelityStatevectorKernel with AerStatevector.\n",
      "                    Seed cannot be set with FidelityStatevectorKernel.\n",
      "                    Increase the number of shots to diminish the noise.\n"
     ]
    },
    {
     "name": "stdout",
     "output_type": "stream",
     "text": [
      "[QClass]  Prediction finished.\n",
      "[QClass]  Initializing Quantum Classifier\n",
      "[QClass]  Quantum simulation will be performed\n",
      "GPU optimization disabled. No device found.\n",
      "[QClass]  Fitting:  (545, 6)\n",
      "[QClass]  Feature dimension =  6\n",
      "[QClass]  Quantum backend =  AerSimulator('aer_simulator_statevector')\n",
      "[QClass]  seed =  332897\n",
      "[QClass]  SVM initiating algorithm\n",
      "[QClass]  Training...\n"
     ]
    },
    {
     "name": "stderr",
     "output_type": "stream",
     "text": [
      "WARNING:root:FidelityQuantumKernel skipped because of time.\n",
      "                    Using FidelityStatevectorKernel with AerStatevector.\n",
      "                    Seed cannot be set with FidelityStatevectorKernel.\n",
      "                    Increase the number of shots to diminish the noise.\n"
     ]
    },
    {
     "name": "stdout",
     "output_type": "stream",
     "text": [
      "[QClass]  Prediction finished.\n",
      "[QClass]  Initializing Quantum Classifier\n",
      "[QClass]  Quantum simulation will be performed\n",
      "GPU optimization disabled. No device found.\n",
      "[QClass]  Fitting:  (544, 6)\n",
      "[QClass]  Feature dimension =  6\n",
      "[QClass]  Quantum backend =  AerSimulator('aer_simulator_statevector')\n",
      "[QClass]  seed =  332897\n",
      "[QClass]  SVM initiating algorithm\n",
      "[QClass]  Training...\n"
     ]
    },
    {
     "name": "stderr",
     "output_type": "stream",
     "text": [
      "WARNING:root:FidelityQuantumKernel skipped because of time.\n",
      "                    Using FidelityStatevectorKernel with AerStatevector.\n",
      "                    Seed cannot be set with FidelityStatevectorKernel.\n",
      "                    Increase the number of shots to diminish the noise.\n"
     ]
    },
    {
     "name": "stdout",
     "output_type": "stream",
     "text": [
      "[QClass]  Prediction finished.\n",
      "[QClass]  Initializing Quantum Classifier\n",
      "[QClass]  Quantum simulation will be performed\n",
      "GPU optimization disabled. No device found.\n",
      "[QClass]  Fitting:  (545, 6)\n",
      "[QClass]  Feature dimension =  6\n",
      "[QClass]  Quantum backend =  AerSimulator('aer_simulator_statevector')\n",
      "[QClass]  seed =  332897\n",
      "[QClass]  SVM initiating algorithm\n",
      "[QClass]  Training...\n"
     ]
    },
    {
     "name": "stderr",
     "output_type": "stream",
     "text": [
      "WARNING:root:FidelityQuantumKernel skipped because of time.\n",
      "                    Using FidelityStatevectorKernel with AerStatevector.\n",
      "                    Seed cannot be set with FidelityStatevectorKernel.\n",
      "                    Increase the number of shots to diminish the noise.\n"
     ]
    },
    {
     "name": "stdout",
     "output_type": "stream",
     "text": [
      "[QClass]  Prediction finished.\n",
      "[QClass]  Initializing Quantum Classifier\n",
      "[QClass]  Quantum simulation will be performed\n",
      "GPU optimization disabled. No device found.\n",
      "[QClass]  Fitting:  (545, 6)\n",
      "[QClass]  Feature dimension =  6\n",
      "[QClass]  Quantum backend =  AerSimulator('aer_simulator_statevector')\n",
      "[QClass]  seed =  332897\n",
      "[QClass]  SVM initiating algorithm\n",
      "[QClass]  Training...\n"
     ]
    },
    {
     "name": "stderr",
     "output_type": "stream",
     "text": [
      "WARNING:root:FidelityQuantumKernel skipped because of time.\n",
      "                    Using FidelityStatevectorKernel with AerStatevector.\n",
      "                    Seed cannot be set with FidelityStatevectorKernel.\n",
      "                    Increase the number of shots to diminish the noise.\n"
     ]
    },
    {
     "name": "stdout",
     "output_type": "stream",
     "text": [
      "[QClass]  Prediction finished.\n",
      "[QClass]  Initializing Quantum Classifier\n",
      "[QClass]  Quantum simulation will be performed\n",
      "GPU optimization disabled. No device found.\n",
      "[QClass]  Fitting:  (545, 6)\n",
      "[QClass]  Feature dimension =  6\n",
      "[QClass]  Quantum backend =  AerSimulator('aer_simulator_statevector')\n",
      "[QClass]  seed =  332897\n",
      "[QClass]  SVM initiating algorithm\n",
      "[QClass]  Training...\n"
     ]
    },
    {
     "name": "stderr",
     "output_type": "stream",
     "text": [
      "WARNING:root:FidelityQuantumKernel skipped because of time.\n",
      "                    Using FidelityStatevectorKernel with AerStatevector.\n",
      "                    Seed cannot be set with FidelityStatevectorKernel.\n",
      "                    Increase the number of shots to diminish the noise.\n"
     ]
    },
    {
     "name": "stdout",
     "output_type": "stream",
     "text": [
      "[QClass]  Prediction finished.\n",
      "[QClass]  Initializing Quantum Classifier\n",
      "[QClass]  Quantum simulation will be performed\n",
      "GPU optimization disabled. No device found.\n",
      "[QClass]  Fitting:  (545, 6)\n",
      "[QClass]  Feature dimension =  6\n",
      "[QClass]  Quantum backend =  AerSimulator('aer_simulator_statevector')\n",
      "[QClass]  seed =  332897\n",
      "[QClass]  SVM initiating algorithm\n",
      "[QClass]  Training...\n"
     ]
    },
    {
     "name": "stderr",
     "output_type": "stream",
     "text": [
      "WARNING:root:FidelityQuantumKernel skipped because of time.\n",
      "                    Using FidelityStatevectorKernel with AerStatevector.\n",
      "                    Seed cannot be set with FidelityStatevectorKernel.\n",
      "                    Increase the number of shots to diminish the noise.\n"
     ]
    },
    {
     "name": "stdout",
     "output_type": "stream",
     "text": [
      "[QClass]  Prediction finished.\n",
      "[QClass]  Initializing Quantum Classifier\n",
      "[QClass]  Quantum simulation will be performed\n",
      "GPU optimization disabled. No device found.\n",
      "[QClass]  Fitting:  (544, 6)\n",
      "[QClass]  Feature dimension =  6\n",
      "[QClass]  Quantum backend =  AerSimulator('aer_simulator_statevector')\n",
      "[QClass]  seed =  332897\n",
      "[QClass]  SVM initiating algorithm\n",
      "[QClass]  Training...\n"
     ]
    },
    {
     "name": "stderr",
     "output_type": "stream",
     "text": [
      "WARNING:root:FidelityQuantumKernel skipped because of time.\n",
      "                    Using FidelityStatevectorKernel with AerStatevector.\n",
      "                    Seed cannot be set with FidelityStatevectorKernel.\n",
      "                    Increase the number of shots to diminish the noise.\n"
     ]
    },
    {
     "name": "stdout",
     "output_type": "stream",
     "text": [
      "[QClass]  Prediction finished.\n",
      "[QClass]  Initializing Quantum Classifier\n",
      "[QClass]  Quantum simulation will be performed\n",
      "GPU optimization disabled. No device found.\n",
      "[QClass]  Fitting:  (545, 6)\n",
      "[QClass]  Feature dimension =  6\n",
      "[QClass]  Quantum backend =  AerSimulator('aer_simulator_statevector')\n",
      "[QClass]  seed =  332897\n",
      "[QClass]  SVM initiating algorithm\n",
      "[QClass]  Training...\n"
     ]
    },
    {
     "name": "stderr",
     "output_type": "stream",
     "text": [
      "WARNING:root:FidelityQuantumKernel skipped because of time.\n",
      "                    Using FidelityStatevectorKernel with AerStatevector.\n",
      "                    Seed cannot be set with FidelityStatevectorKernel.\n",
      "                    Increase the number of shots to diminish the noise.\n"
     ]
    },
    {
     "name": "stdout",
     "output_type": "stream",
     "text": [
      "[QClass]  Prediction finished.\n",
      "[QClass]  Initializing Quantum Classifier\n",
      "[QClass]  Quantum simulation will be performed\n",
      "GPU optimization disabled. No device found.\n",
      "[QClass]  Fitting:  (545, 6)\n",
      "[QClass]  Feature dimension =  6\n",
      "[QClass]  Quantum backend =  AerSimulator('aer_simulator_statevector')\n",
      "[QClass]  seed =  332897\n",
      "[QClass]  SVM initiating algorithm\n",
      "[QClass]  Training...\n"
     ]
    },
    {
     "name": "stderr",
     "output_type": "stream",
     "text": [
      "WARNING:root:FidelityQuantumKernel skipped because of time.\n",
      "                    Using FidelityStatevectorKernel with AerStatevector.\n",
      "                    Seed cannot be set with FidelityStatevectorKernel.\n",
      "                    Increase the number of shots to diminish the noise.\n"
     ]
    },
    {
     "name": "stdout",
     "output_type": "stream",
     "text": [
      "[QClass]  Prediction finished.\n",
      "[QClass]  Initializing Quantum Classifier\n",
      "[QClass]  Quantum simulation will be performed\n",
      "GPU optimization disabled. No device found.\n",
      "[QClass]  Fitting:  (545, 6)\n",
      "[QClass]  Feature dimension =  6\n",
      "[QClass]  Quantum backend =  AerSimulator('aer_simulator_statevector')\n",
      "[QClass]  seed =  332897\n",
      "[QClass]  SVM initiating algorithm\n",
      "[QClass]  Training...\n"
     ]
    },
    {
     "name": "stderr",
     "output_type": "stream",
     "text": [
      "WARNING:root:FidelityQuantumKernel skipped because of time.\n",
      "                    Using FidelityStatevectorKernel with AerStatevector.\n",
      "                    Seed cannot be set with FidelityStatevectorKernel.\n",
      "                    Increase the number of shots to diminish the noise.\n"
     ]
    },
    {
     "name": "stdout",
     "output_type": "stream",
     "text": [
      "[QClass]  Prediction finished.\n",
      "[QClass]  Initializing Quantum Classifier\n",
      "[QClass]  Quantum simulation will be performed\n",
      "GPU optimization disabled. No device found.\n",
      "[QClass]  Fitting:  (545, 6)\n",
      "[QClass]  Feature dimension =  6\n",
      "[QClass]  Quantum backend =  AerSimulator('aer_simulator_statevector')\n",
      "[QClass]  seed =  332897\n",
      "[QClass]  SVM initiating algorithm\n",
      "[QClass]  Training...\n"
     ]
    },
    {
     "name": "stderr",
     "output_type": "stream",
     "text": [
      "WARNING:root:FidelityQuantumKernel skipped because of time.\n",
      "                    Using FidelityStatevectorKernel with AerStatevector.\n",
      "                    Seed cannot be set with FidelityStatevectorKernel.\n",
      "                    Increase the number of shots to diminish the noise.\n"
     ]
    },
    {
     "name": "stdout",
     "output_type": "stream",
     "text": [
      "[QClass]  Prediction finished.\n",
      "[QClass]  Initializing Quantum Classifier\n",
      "[QClass]  Quantum simulation will be performed\n",
      "GPU optimization disabled. No device found.\n",
      "[QClass]  Fitting:  (544, 6)\n",
      "[QClass]  Feature dimension =  6\n",
      "[QClass]  Quantum backend =  AerSimulator('aer_simulator_statevector')\n",
      "[QClass]  seed =  332897\n",
      "[QClass]  SVM initiating algorithm\n",
      "[QClass]  Training...\n"
     ]
    },
    {
     "name": "stderr",
     "output_type": "stream",
     "text": [
      "WARNING:root:FidelityQuantumKernel skipped because of time.\n",
      "                    Using FidelityStatevectorKernel with AerStatevector.\n",
      "                    Seed cannot be set with FidelityStatevectorKernel.\n",
      "                    Increase the number of shots to diminish the noise.\n"
     ]
    },
    {
     "name": "stdout",
     "output_type": "stream",
     "text": [
      "[QClass]  Prediction finished.\n",
      "[QClass]  Initializing Quantum Classifier\n",
      "[QClass]  Quantum simulation will be performed\n",
      "GPU optimization disabled. No device found.\n",
      "[QClass]  Fitting:  (545, 6)\n",
      "[QClass]  Feature dimension =  6\n",
      "[QClass]  Quantum backend =  AerSimulator('aer_simulator_statevector')\n",
      "[QClass]  seed =  332897\n",
      "[QClass]  SVM initiating algorithm\n",
      "[QClass]  Training...\n"
     ]
    },
    {
     "name": "stderr",
     "output_type": "stream",
     "text": [
      "WARNING:root:FidelityQuantumKernel skipped because of time.\n",
      "                    Using FidelityStatevectorKernel with AerStatevector.\n",
      "                    Seed cannot be set with FidelityStatevectorKernel.\n",
      "                    Increase the number of shots to diminish the noise.\n"
     ]
    },
    {
     "name": "stdout",
     "output_type": "stream",
     "text": [
      "[QClass]  Prediction finished.\n",
      "[QClass]  Initializing Quantum Classifier\n",
      "[QClass]  Quantum simulation will be performed\n",
      "GPU optimization disabled. No device found.\n",
      "[QClass]  Fitting:  (545, 6)\n",
      "[QClass]  Feature dimension =  6\n",
      "[QClass]  Quantum backend =  AerSimulator('aer_simulator_statevector')\n",
      "[QClass]  seed =  332897\n",
      "[QClass]  SVM initiating algorithm\n",
      "[QClass]  Training...\n"
     ]
    },
    {
     "name": "stderr",
     "output_type": "stream",
     "text": [
      "WARNING:root:FidelityQuantumKernel skipped because of time.\n",
      "                    Using FidelityStatevectorKernel with AerStatevector.\n",
      "                    Seed cannot be set with FidelityStatevectorKernel.\n",
      "                    Increase the number of shots to diminish the noise.\n"
     ]
    },
    {
     "name": "stdout",
     "output_type": "stream",
     "text": [
      "[QClass]  Prediction finished.\n",
      "[QClass]  Initializing Quantum Classifier\n",
      "[QClass]  Quantum simulation will be performed\n",
      "GPU optimization disabled. No device found.\n",
      "[QClass]  Fitting:  (545, 6)\n",
      "[QClass]  Feature dimension =  6\n",
      "[QClass]  Quantum backend =  AerSimulator('aer_simulator_statevector')\n",
      "[QClass]  seed =  332897\n",
      "[QClass]  SVM initiating algorithm\n",
      "[QClass]  Training...\n"
     ]
    },
    {
     "name": "stderr",
     "output_type": "stream",
     "text": [
      "WARNING:root:FidelityQuantumKernel skipped because of time.\n",
      "                    Using FidelityStatevectorKernel with AerStatevector.\n",
      "                    Seed cannot be set with FidelityStatevectorKernel.\n",
      "                    Increase the number of shots to diminish the noise.\n"
     ]
    },
    {
     "name": "stdout",
     "output_type": "stream",
     "text": [
      "[QClass]  Prediction finished.\n",
      "[QClass]  Initializing Quantum Classifier\n",
      "[QClass]  Quantum simulation will be performed\n",
      "GPU optimization disabled. No device found.\n",
      "[QClass]  Fitting:  (545, 6)\n",
      "[QClass]  Feature dimension =  6\n",
      "[QClass]  Quantum backend =  AerSimulator('aer_simulator_statevector')\n",
      "[QClass]  seed =  332897\n",
      "[QClass]  SVM initiating algorithm\n",
      "[QClass]  Training...\n"
     ]
    },
    {
     "name": "stderr",
     "output_type": "stream",
     "text": [
      "WARNING:root:FidelityQuantumKernel skipped because of time.\n",
      "                    Using FidelityStatevectorKernel with AerStatevector.\n",
      "                    Seed cannot be set with FidelityStatevectorKernel.\n",
      "                    Increase the number of shots to diminish the noise.\n"
     ]
    },
    {
     "name": "stdout",
     "output_type": "stream",
     "text": [
      "[QClass]  Prediction finished.\n",
      "[QClass]  Initializing Quantum Classifier\n",
      "[QClass]  Quantum simulation will be performed\n",
      "GPU optimization disabled. No device found.\n",
      "[QClass]  Fitting:  (544, 6)\n",
      "[QClass]  Feature dimension =  6\n",
      "[QClass]  Quantum backend =  AerSimulator('aer_simulator_statevector')\n",
      "[QClass]  seed =  332897\n",
      "[QClass]  SVM initiating algorithm\n",
      "[QClass]  Training...\n"
     ]
    },
    {
     "name": "stderr",
     "output_type": "stream",
     "text": [
      "WARNING:root:FidelityQuantumKernel skipped because of time.\n",
      "                    Using FidelityStatevectorKernel with AerStatevector.\n",
      "                    Seed cannot be set with FidelityStatevectorKernel.\n",
      "                    Increase the number of shots to diminish the noise.\n"
     ]
    },
    {
     "name": "stdout",
     "output_type": "stream",
     "text": [
      "[QClass]  Prediction finished.\n",
      "[QClass]  Initializing Quantum Classifier\n",
      "[QClass]  Quantum simulation will be performed\n",
      "GPU optimization disabled. No device found.\n",
      "[QClass]  Fitting:  (545, 6)\n",
      "[QClass]  Feature dimension =  6\n",
      "[QClass]  Quantum backend =  AerSimulator('aer_simulator_statevector')\n",
      "[QClass]  seed =  332897\n",
      "[QClass]  SVM initiating algorithm\n",
      "[QClass]  Training...\n"
     ]
    },
    {
     "name": "stderr",
     "output_type": "stream",
     "text": [
      "WARNING:root:FidelityQuantumKernel skipped because of time.\n",
      "                    Using FidelityStatevectorKernel with AerStatevector.\n",
      "                    Seed cannot be set with FidelityStatevectorKernel.\n",
      "                    Increase the number of shots to diminish the noise.\n"
     ]
    },
    {
     "name": "stdout",
     "output_type": "stream",
     "text": [
      "[QClass]  Prediction finished.\n",
      "[QClass]  Initializing Quantum Classifier\n",
      "[QClass]  Quantum simulation will be performed\n",
      "GPU optimization disabled. No device found.\n",
      "[QClass]  Fitting:  (545, 6)\n",
      "[QClass]  Feature dimension =  6\n",
      "[QClass]  Quantum backend =  AerSimulator('aer_simulator_statevector')\n",
      "[QClass]  seed =  332897\n",
      "[QClass]  SVM initiating algorithm\n",
      "[QClass]  Training...\n"
     ]
    },
    {
     "name": "stderr",
     "output_type": "stream",
     "text": [
      "WARNING:root:FidelityQuantumKernel skipped because of time.\n",
      "                    Using FidelityStatevectorKernel with AerStatevector.\n",
      "                    Seed cannot be set with FidelityStatevectorKernel.\n",
      "                    Increase the number of shots to diminish the noise.\n"
     ]
    },
    {
     "name": "stdout",
     "output_type": "stream",
     "text": [
      "[QClass]  Prediction finished.\n",
      "[QClass]  Initializing Quantum Classifier\n",
      "[QClass]  Quantum simulation will be performed\n",
      "GPU optimization disabled. No device found.\n",
      "[QClass]  Fitting:  (545, 6)\n",
      "[QClass]  Feature dimension =  6\n",
      "[QClass]  Quantum backend =  AerSimulator('aer_simulator_statevector')\n",
      "[QClass]  seed =  332897\n",
      "[QClass]  SVM initiating algorithm\n",
      "[QClass]  Training...\n"
     ]
    },
    {
     "name": "stderr",
     "output_type": "stream",
     "text": [
      "WARNING:root:FidelityQuantumKernel skipped because of time.\n",
      "                    Using FidelityStatevectorKernel with AerStatevector.\n",
      "                    Seed cannot be set with FidelityStatevectorKernel.\n",
      "                    Increase the number of shots to diminish the noise.\n"
     ]
    },
    {
     "name": "stdout",
     "output_type": "stream",
     "text": [
      "[QClass]  Prediction finished.\n",
      "[QClass]  Initializing Quantum Classifier\n",
      "[QClass]  Quantum simulation will be performed\n",
      "GPU optimization disabled. No device found.\n",
      "[QClass]  Fitting:  (545, 6)\n",
      "[QClass]  Feature dimension =  6\n",
      "[QClass]  Quantum backend =  AerSimulator('aer_simulator_statevector')\n",
      "[QClass]  seed =  332897\n",
      "[QClass]  SVM initiating algorithm\n",
      "[QClass]  Training...\n"
     ]
    },
    {
     "name": "stderr",
     "output_type": "stream",
     "text": [
      "WARNING:root:FidelityQuantumKernel skipped because of time.\n",
      "                    Using FidelityStatevectorKernel with AerStatevector.\n",
      "                    Seed cannot be set with FidelityStatevectorKernel.\n",
      "                    Increase the number of shots to diminish the noise.\n"
     ]
    },
    {
     "name": "stdout",
     "output_type": "stream",
     "text": [
      "[QClass]  Prediction finished.\n",
      "[QClass]  Initializing Quantum Classifier\n",
      "[QClass]  Quantum simulation will be performed\n",
      "GPU optimization disabled. No device found.\n",
      "[QClass]  Fitting:  (544, 6)\n",
      "[QClass]  Feature dimension =  6\n",
      "[QClass]  Quantum backend =  AerSimulator('aer_simulator_statevector')\n",
      "[QClass]  seed =  332897\n",
      "[QClass]  SVM initiating algorithm\n",
      "[QClass]  Training...\n"
     ]
    },
    {
     "name": "stderr",
     "output_type": "stream",
     "text": [
      "WARNING:root:FidelityQuantumKernel skipped because of time.\n",
      "                    Using FidelityStatevectorKernel with AerStatevector.\n",
      "                    Seed cannot be set with FidelityStatevectorKernel.\n",
      "                    Increase the number of shots to diminish the noise.\n"
     ]
    },
    {
     "name": "stdout",
     "output_type": "stream",
     "text": [
      "[QClass]  Prediction finished.\n",
      "[QClass]  Initializing Quantum Classifier\n",
      "[QClass]  Quantum simulation will be performed\n",
      "GPU optimization disabled. No device found.\n",
      "[QClass]  Fitting:  (545, 6)\n",
      "[QClass]  Feature dimension =  6\n",
      "[QClass]  Quantum backend =  AerSimulator('aer_simulator_statevector')\n",
      "[QClass]  seed =  332897\n",
      "[QClass]  SVM initiating algorithm\n",
      "[QClass]  Training...\n"
     ]
    },
    {
     "name": "stderr",
     "output_type": "stream",
     "text": [
      "WARNING:root:FidelityQuantumKernel skipped because of time.\n",
      "                    Using FidelityStatevectorKernel with AerStatevector.\n",
      "                    Seed cannot be set with FidelityStatevectorKernel.\n",
      "                    Increase the number of shots to diminish the noise.\n"
     ]
    },
    {
     "name": "stdout",
     "output_type": "stream",
     "text": [
      "[QClass]  Prediction finished.\n",
      "[QClass]  Initializing Quantum Classifier\n",
      "[QClass]  Quantum simulation will be performed\n",
      "GPU optimization disabled. No device found.\n",
      "[QClass]  Fitting:  (545, 6)\n",
      "[QClass]  Feature dimension =  6\n",
      "[QClass]  Quantum backend =  AerSimulator('aer_simulator_statevector')\n",
      "[QClass]  seed =  332897\n",
      "[QClass]  SVM initiating algorithm\n",
      "[QClass]  Training...\n"
     ]
    },
    {
     "name": "stderr",
     "output_type": "stream",
     "text": [
      "WARNING:root:FidelityQuantumKernel skipped because of time.\n",
      "                    Using FidelityStatevectorKernel with AerStatevector.\n",
      "                    Seed cannot be set with FidelityStatevectorKernel.\n",
      "                    Increase the number of shots to diminish the noise.\n"
     ]
    },
    {
     "name": "stdout",
     "output_type": "stream",
     "text": [
      "[QClass]  Prediction finished.\n",
      "[QClass]  Initializing Quantum Classifier\n",
      "[QClass]  Quantum simulation will be performed\n",
      "GPU optimization disabled. No device found.\n",
      "[QClass]  Fitting:  (545, 6)\n",
      "[QClass]  Feature dimension =  6\n",
      "[QClass]  Quantum backend =  AerSimulator('aer_simulator_statevector')\n",
      "[QClass]  seed =  332897\n",
      "[QClass]  SVM initiating algorithm\n",
      "[QClass]  Training...\n"
     ]
    },
    {
     "name": "stderr",
     "output_type": "stream",
     "text": [
      "WARNING:root:FidelityQuantumKernel skipped because of time.\n",
      "                    Using FidelityStatevectorKernel with AerStatevector.\n",
      "                    Seed cannot be set with FidelityStatevectorKernel.\n",
      "                    Increase the number of shots to diminish the noise.\n"
     ]
    },
    {
     "name": "stdout",
     "output_type": "stream",
     "text": [
      "[QClass]  Prediction finished.\n",
      "[QClass]  Initializing Quantum Classifier\n",
      "[QClass]  Quantum simulation will be performed\n",
      "GPU optimization disabled. No device found.\n",
      "[QClass]  Fitting:  (545, 6)\n",
      "[QClass]  Feature dimension =  6\n",
      "[QClass]  Quantum backend =  AerSimulator('aer_simulator_statevector')\n",
      "[QClass]  seed =  332897\n",
      "[QClass]  SVM initiating algorithm\n",
      "[QClass]  Training...\n"
     ]
    },
    {
     "name": "stderr",
     "output_type": "stream",
     "text": [
      "WARNING:root:FidelityQuantumKernel skipped because of time.\n",
      "                    Using FidelityStatevectorKernel with AerStatevector.\n",
      "                    Seed cannot be set with FidelityStatevectorKernel.\n",
      "                    Increase the number of shots to diminish the noise.\n"
     ]
    },
    {
     "name": "stdout",
     "output_type": "stream",
     "text": [
      "[QClass]  Prediction finished.\n",
      "[QClass]  Initializing Quantum Classifier\n",
      "[QClass]  Quantum simulation will be performed\n",
      "GPU optimization disabled. No device found.\n",
      "[QClass]  Fitting:  (544, 6)\n",
      "[QClass]  Feature dimension =  6\n",
      "[QClass]  Quantum backend =  AerSimulator('aer_simulator_statevector')\n",
      "[QClass]  seed =  332897\n",
      "[QClass]  SVM initiating algorithm\n",
      "[QClass]  Training...\n"
     ]
    },
    {
     "name": "stderr",
     "output_type": "stream",
     "text": [
      "WARNING:root:FidelityQuantumKernel skipped because of time.\n",
      "                    Using FidelityStatevectorKernel with AerStatevector.\n",
      "                    Seed cannot be set with FidelityStatevectorKernel.\n",
      "                    Increase the number of shots to diminish the noise.\n"
     ]
    },
    {
     "name": "stdout",
     "output_type": "stream",
     "text": [
      "[QClass]  Prediction finished.\n",
      "[QClass]  Initializing Quantum Classifier\n",
      "[QClass]  Quantum simulation will be performed\n",
      "GPU optimization disabled. No device found.\n",
      "[QClass]  Fitting:  (545, 6)\n",
      "[QClass]  Feature dimension =  6\n",
      "[QClass]  Quantum backend =  AerSimulator('aer_simulator_statevector')\n",
      "[QClass]  seed =  332897\n",
      "[QClass]  SVM initiating algorithm\n",
      "[QClass]  Training...\n"
     ]
    },
    {
     "name": "stderr",
     "output_type": "stream",
     "text": [
      "WARNING:root:FidelityQuantumKernel skipped because of time.\n",
      "                    Using FidelityStatevectorKernel with AerStatevector.\n",
      "                    Seed cannot be set with FidelityStatevectorKernel.\n",
      "                    Increase the number of shots to diminish the noise.\n"
     ]
    },
    {
     "name": "stdout",
     "output_type": "stream",
     "text": [
      "[QClass]  Prediction finished.\n",
      "[QClass]  Initializing Quantum Classifier\n",
      "[QClass]  Quantum simulation will be performed\n",
      "GPU optimization disabled. No device found.\n",
      "[QClass]  Fitting:  (545, 6)\n",
      "[QClass]  Feature dimension =  6\n",
      "[QClass]  Quantum backend =  AerSimulator('aer_simulator_statevector')\n",
      "[QClass]  seed =  332897\n",
      "[QClass]  SVM initiating algorithm\n",
      "[QClass]  Training...\n"
     ]
    },
    {
     "name": "stderr",
     "output_type": "stream",
     "text": [
      "WARNING:root:FidelityQuantumKernel skipped because of time.\n",
      "                    Using FidelityStatevectorKernel with AerStatevector.\n",
      "                    Seed cannot be set with FidelityStatevectorKernel.\n",
      "                    Increase the number of shots to diminish the noise.\n"
     ]
    },
    {
     "name": "stdout",
     "output_type": "stream",
     "text": [
      "[QClass]  Prediction finished.\n",
      "[QClass]  Initializing Quantum Classifier\n",
      "[QClass]  Quantum simulation will be performed\n",
      "GPU optimization disabled. No device found.\n",
      "[QClass]  Fitting:  (545, 6)\n",
      "[QClass]  Feature dimension =  6\n",
      "[QClass]  Quantum backend =  AerSimulator('aer_simulator_statevector')\n",
      "[QClass]  seed =  332897\n",
      "[QClass]  SVM initiating algorithm\n",
      "[QClass]  Training...\n"
     ]
    },
    {
     "name": "stderr",
     "output_type": "stream",
     "text": [
      "WARNING:root:FidelityQuantumKernel skipped because of time.\n",
      "                    Using FidelityStatevectorKernel with AerStatevector.\n",
      "                    Seed cannot be set with FidelityStatevectorKernel.\n",
      "                    Increase the number of shots to diminish the noise.\n"
     ]
    },
    {
     "name": "stdout",
     "output_type": "stream",
     "text": [
      "[QClass]  Prediction finished.\n",
      "[QClass]  Initializing Quantum Classifier\n",
      "[QClass]  Quantum simulation will be performed\n",
      "GPU optimization disabled. No device found.\n",
      "[QClass]  Fitting:  (545, 6)\n",
      "[QClass]  Feature dimension =  6\n",
      "[QClass]  Quantum backend =  AerSimulator('aer_simulator_statevector')\n",
      "[QClass]  seed =  332897\n",
      "[QClass]  SVM initiating algorithm\n",
      "[QClass]  Training...\n"
     ]
    },
    {
     "name": "stderr",
     "output_type": "stream",
     "text": [
      "WARNING:root:FidelityQuantumKernel skipped because of time.\n",
      "                    Using FidelityStatevectorKernel with AerStatevector.\n",
      "                    Seed cannot be set with FidelityStatevectorKernel.\n",
      "                    Increase the number of shots to diminish the noise.\n"
     ]
    },
    {
     "name": "stdout",
     "output_type": "stream",
     "text": [
      "[QClass]  Prediction finished.\n",
      "[QClass]  Initializing Quantum Classifier\n",
      "[QClass]  Quantum simulation will be performed\n",
      "GPU optimization disabled. No device found.\n",
      "[QClass]  Fitting:  (544, 6)\n",
      "[QClass]  Feature dimension =  6\n",
      "[QClass]  Quantum backend =  AerSimulator('aer_simulator_statevector')\n",
      "[QClass]  seed =  332897\n",
      "[QClass]  SVM initiating algorithm\n",
      "[QClass]  Training...\n"
     ]
    },
    {
     "name": "stderr",
     "output_type": "stream",
     "text": [
      "WARNING:root:FidelityQuantumKernel skipped because of time.\n",
      "                    Using FidelityStatevectorKernel with AerStatevector.\n",
      "                    Seed cannot be set with FidelityStatevectorKernel.\n",
      "                    Increase the number of shots to diminish the noise.\n"
     ]
    },
    {
     "name": "stdout",
     "output_type": "stream",
     "text": [
      "[QClass]  Prediction finished.\n",
      "[QClass]  Initializing Quantum Classifier\n",
      "[QClass]  Quantum simulation will be performed\n",
      "GPU optimization disabled. No device found.\n",
      "[QClass]  Fitting:  (545, 6)\n",
      "[QClass]  Feature dimension =  6\n",
      "[QClass]  Quantum backend =  AerSimulator('aer_simulator_statevector')\n",
      "[QClass]  seed =  332897\n",
      "[QClass]  SVM initiating algorithm\n",
      "[QClass]  Training...\n"
     ]
    },
    {
     "name": "stderr",
     "output_type": "stream",
     "text": [
      "WARNING:root:FidelityQuantumKernel skipped because of time.\n",
      "                    Using FidelityStatevectorKernel with AerStatevector.\n",
      "                    Seed cannot be set with FidelityStatevectorKernel.\n",
      "                    Increase the number of shots to diminish the noise.\n"
     ]
    },
    {
     "name": "stdout",
     "output_type": "stream",
     "text": [
      "[QClass]  Prediction finished.\n",
      "[QClass]  Initializing Quantum Classifier\n",
      "[QClass]  Quantum simulation will be performed\n",
      "GPU optimization disabled. No device found.\n",
      "[QClass]  Fitting:  (545, 6)\n",
      "[QClass]  Feature dimension =  6\n",
      "[QClass]  Quantum backend =  AerSimulator('aer_simulator_statevector')\n",
      "[QClass]  seed =  332897\n",
      "[QClass]  SVM initiating algorithm\n",
      "[QClass]  Training...\n"
     ]
    },
    {
     "name": "stderr",
     "output_type": "stream",
     "text": [
      "WARNING:root:FidelityQuantumKernel skipped because of time.\n",
      "                    Using FidelityStatevectorKernel with AerStatevector.\n",
      "                    Seed cannot be set with FidelityStatevectorKernel.\n",
      "                    Increase the number of shots to diminish the noise.\n"
     ]
    },
    {
     "name": "stdout",
     "output_type": "stream",
     "text": [
      "[QClass]  Prediction finished.\n",
      "[QClass]  Initializing Quantum Classifier\n",
      "[QClass]  Quantum simulation will be performed\n",
      "GPU optimization disabled. No device found.\n",
      "[QClass]  Fitting:  (545, 6)\n",
      "[QClass]  Feature dimension =  6\n",
      "[QClass]  Quantum backend =  AerSimulator('aer_simulator_statevector')\n",
      "[QClass]  seed =  332897\n",
      "[QClass]  SVM initiating algorithm\n",
      "[QClass]  Training...\n"
     ]
    },
    {
     "name": "stderr",
     "output_type": "stream",
     "text": [
      "WARNING:root:FidelityQuantumKernel skipped because of time.\n",
      "                    Using FidelityStatevectorKernel with AerStatevector.\n",
      "                    Seed cannot be set with FidelityStatevectorKernel.\n",
      "                    Increase the number of shots to diminish the noise.\n"
     ]
    },
    {
     "name": "stdout",
     "output_type": "stream",
     "text": [
      "[QClass]  Prediction finished.\n",
      "[QClass]  Initializing Quantum Classifier\n",
      "[QClass]  Quantum simulation will be performed\n",
      "GPU optimization disabled. No device found.\n",
      "[QClass]  Fitting:  (545, 6)\n",
      "[QClass]  Feature dimension =  6\n",
      "[QClass]  Quantum backend =  AerSimulator('aer_simulator_statevector')\n",
      "[QClass]  seed =  332897\n",
      "[QClass]  SVM initiating algorithm\n",
      "[QClass]  Training...\n"
     ]
    },
    {
     "name": "stderr",
     "output_type": "stream",
     "text": [
      "WARNING:root:FidelityQuantumKernel skipped because of time.\n",
      "                    Using FidelityStatevectorKernel with AerStatevector.\n",
      "                    Seed cannot be set with FidelityStatevectorKernel.\n",
      "                    Increase the number of shots to diminish the noise.\n"
     ]
    },
    {
     "name": "stdout",
     "output_type": "stream",
     "text": [
      "[QClass]  Prediction finished.\n",
      "[QClass]  Initializing Quantum Classifier\n",
      "[QClass]  Quantum simulation will be performed\n",
      "GPU optimization disabled. No device found.\n",
      "[QClass]  Fitting:  (544, 6)\n",
      "[QClass]  Feature dimension =  6\n",
      "[QClass]  Quantum backend =  AerSimulator('aer_simulator_statevector')\n",
      "[QClass]  seed =  332897\n",
      "[QClass]  SVM initiating algorithm\n",
      "[QClass]  Training...\n"
     ]
    },
    {
     "name": "stderr",
     "output_type": "stream",
     "text": [
      "WARNING:root:FidelityQuantumKernel skipped because of time.\n",
      "                    Using FidelityStatevectorKernel with AerStatevector.\n",
      "                    Seed cannot be set with FidelityStatevectorKernel.\n",
      "                    Increase the number of shots to diminish the noise.\n"
     ]
    },
    {
     "name": "stdout",
     "output_type": "stream",
     "text": [
      "[QClass]  Prediction finished.\n",
      "[QClass]  Initializing Quantum Classifier\n",
      "[QClass]  Quantum simulation will be performed\n",
      "GPU optimization disabled. No device found.\n",
      "[QClass]  Fitting:  (545, 6)\n",
      "[QClass]  Feature dimension =  6\n",
      "[QClass]  Quantum backend =  AerSimulator('aer_simulator_statevector')\n",
      "[QClass]  seed =  332897\n",
      "[QClass]  SVM initiating algorithm\n",
      "[QClass]  Training...\n"
     ]
    },
    {
     "name": "stderr",
     "output_type": "stream",
     "text": [
      "WARNING:root:FidelityQuantumKernel skipped because of time.\n",
      "                    Using FidelityStatevectorKernel with AerStatevector.\n",
      "                    Seed cannot be set with FidelityStatevectorKernel.\n",
      "                    Increase the number of shots to diminish the noise.\n"
     ]
    },
    {
     "name": "stdout",
     "output_type": "stream",
     "text": [
      "[QClass]  Prediction finished.\n",
      "[QClass]  Initializing Quantum Classifier\n",
      "[QClass]  Quantum simulation will be performed\n",
      "GPU optimization disabled. No device found.\n",
      "[QClass]  Fitting:  (545, 6)\n",
      "[QClass]  Feature dimension =  6\n",
      "[QClass]  Quantum backend =  AerSimulator('aer_simulator_statevector')\n",
      "[QClass]  seed =  332897\n",
      "[QClass]  SVM initiating algorithm\n",
      "[QClass]  Training...\n"
     ]
    },
    {
     "name": "stderr",
     "output_type": "stream",
     "text": [
      "WARNING:root:FidelityQuantumKernel skipped because of time.\n",
      "                    Using FidelityStatevectorKernel with AerStatevector.\n",
      "                    Seed cannot be set with FidelityStatevectorKernel.\n",
      "                    Increase the number of shots to diminish the noise.\n"
     ]
    },
    {
     "name": "stdout",
     "output_type": "stream",
     "text": [
      "[QClass]  Prediction finished.\n",
      "[QClass]  Initializing Quantum Classifier\n",
      "[QClass]  Quantum simulation will be performed\n",
      "GPU optimization disabled. No device found.\n",
      "[QClass]  Fitting:  (545, 6)\n",
      "[QClass]  Feature dimension =  6\n",
      "[QClass]  Quantum backend =  AerSimulator('aer_simulator_statevector')\n",
      "[QClass]  seed =  332897\n",
      "[QClass]  SVM initiating algorithm\n",
      "[QClass]  Training...\n"
     ]
    },
    {
     "name": "stderr",
     "output_type": "stream",
     "text": [
      "WARNING:root:FidelityQuantumKernel skipped because of time.\n",
      "                    Using FidelityStatevectorKernel with AerStatevector.\n",
      "                    Seed cannot be set with FidelityStatevectorKernel.\n",
      "                    Increase the number of shots to diminish the noise.\n"
     ]
    },
    {
     "name": "stdout",
     "output_type": "stream",
     "text": [
      "[QClass]  Prediction finished.\n",
      "[QClass]  Initializing Quantum Classifier\n",
      "[QClass]  Quantum simulation will be performed\n",
      "GPU optimization disabled. No device found.\n",
      "[QClass]  Fitting:  (545, 6)\n",
      "[QClass]  Feature dimension =  6\n",
      "[QClass]  Quantum backend =  AerSimulator('aer_simulator_statevector')\n",
      "[QClass]  seed =  332897\n",
      "[QClass]  SVM initiating algorithm\n",
      "[QClass]  Training...\n"
     ]
    },
    {
     "name": "stderr",
     "output_type": "stream",
     "text": [
      "WARNING:root:FidelityQuantumKernel skipped because of time.\n",
      "                    Using FidelityStatevectorKernel with AerStatevector.\n",
      "                    Seed cannot be set with FidelityStatevectorKernel.\n",
      "                    Increase the number of shots to diminish the noise.\n"
     ]
    },
    {
     "name": "stdout",
     "output_type": "stream",
     "text": [
      "[QClass]  Prediction finished.\n",
      "[QClass]  Initializing Quantum Classifier\n",
      "[QClass]  Quantum simulation will be performed\n",
      "GPU optimization disabled. No device found.\n",
      "[QClass]  Fitting:  (544, 6)\n",
      "[QClass]  Feature dimension =  6\n",
      "[QClass]  Quantum backend =  AerSimulator('aer_simulator_statevector')\n",
      "[QClass]  seed =  332897\n",
      "[QClass]  SVM initiating algorithm\n",
      "[QClass]  Training...\n"
     ]
    },
    {
     "name": "stderr",
     "output_type": "stream",
     "text": [
      "WARNING:root:FidelityQuantumKernel skipped because of time.\n",
      "                    Using FidelityStatevectorKernel with AerStatevector.\n",
      "                    Seed cannot be set with FidelityStatevectorKernel.\n",
      "                    Increase the number of shots to diminish the noise.\n"
     ]
    },
    {
     "name": "stdout",
     "output_type": "stream",
     "text": [
      "[QClass]  Prediction finished.\n",
      "[QClass]  Initializing Quantum Classifier\n",
      "[QClass]  Quantum simulation will be performed\n",
      "GPU optimization disabled. No device found.\n",
      "[QClass]  Fitting:  (545, 6)\n",
      "[QClass]  Feature dimension =  6\n",
      "[QClass]  Quantum backend =  AerSimulator('aer_simulator_statevector')\n",
      "[QClass]  seed =  332897\n",
      "[QClass]  SVM initiating algorithm\n",
      "[QClass]  Training...\n"
     ]
    },
    {
     "name": "stderr",
     "output_type": "stream",
     "text": [
      "WARNING:root:FidelityQuantumKernel skipped because of time.\n",
      "                    Using FidelityStatevectorKernel with AerStatevector.\n",
      "                    Seed cannot be set with FidelityStatevectorKernel.\n",
      "                    Increase the number of shots to diminish the noise.\n"
     ]
    },
    {
     "name": "stdout",
     "output_type": "stream",
     "text": [
      "[QClass]  Prediction finished.\n",
      "[QClass]  Initializing Quantum Classifier\n",
      "[QClass]  Quantum simulation will be performed\n",
      "GPU optimization disabled. No device found.\n",
      "[QClass]  Fitting:  (545, 6)\n",
      "[QClass]  Feature dimension =  6\n",
      "[QClass]  Quantum backend =  AerSimulator('aer_simulator_statevector')\n",
      "[QClass]  seed =  332897\n",
      "[QClass]  SVM initiating algorithm\n",
      "[QClass]  Training...\n"
     ]
    },
    {
     "name": "stderr",
     "output_type": "stream",
     "text": [
      "WARNING:root:FidelityQuantumKernel skipped because of time.\n",
      "                    Using FidelityStatevectorKernel with AerStatevector.\n",
      "                    Seed cannot be set with FidelityStatevectorKernel.\n",
      "                    Increase the number of shots to diminish the noise.\n"
     ]
    },
    {
     "name": "stdout",
     "output_type": "stream",
     "text": [
      "[QClass]  Prediction finished.\n",
      "[QClass]  Initializing Quantum Classifier\n",
      "[QClass]  Quantum simulation will be performed\n",
      "GPU optimization disabled. No device found.\n",
      "[QClass]  Fitting:  (545, 6)\n",
      "[QClass]  Feature dimension =  6\n",
      "[QClass]  Quantum backend =  AerSimulator('aer_simulator_statevector')\n",
      "[QClass]  seed =  332897\n",
      "[QClass]  SVM initiating algorithm\n",
      "[QClass]  Training...\n"
     ]
    },
    {
     "name": "stderr",
     "output_type": "stream",
     "text": [
      "WARNING:root:FidelityQuantumKernel skipped because of time.\n",
      "                    Using FidelityStatevectorKernel with AerStatevector.\n",
      "                    Seed cannot be set with FidelityStatevectorKernel.\n",
      "                    Increase the number of shots to diminish the noise.\n"
     ]
    },
    {
     "name": "stdout",
     "output_type": "stream",
     "text": [
      "[QClass]  Prediction finished.\n",
      "[QClass]  Initializing Quantum Classifier\n",
      "[QClass]  Quantum simulation will be performed\n",
      "GPU optimization disabled. No device found.\n",
      "[QClass]  Fitting:  (545, 6)\n",
      "[QClass]  Feature dimension =  6\n",
      "[QClass]  Quantum backend =  AerSimulator('aer_simulator_statevector')\n",
      "[QClass]  seed =  332897\n",
      "[QClass]  SVM initiating algorithm\n",
      "[QClass]  Training...\n"
     ]
    },
    {
     "name": "stderr",
     "output_type": "stream",
     "text": [
      "WARNING:root:FidelityQuantumKernel skipped because of time.\n",
      "                    Using FidelityStatevectorKernel with AerStatevector.\n",
      "                    Seed cannot be set with FidelityStatevectorKernel.\n",
      "                    Increase the number of shots to diminish the noise.\n"
     ]
    },
    {
     "name": "stdout",
     "output_type": "stream",
     "text": [
      "[QClass]  Prediction finished.\n",
      "[QClass]  Initializing Quantum Classifier\n",
      "[QClass]  Quantum simulation will be performed\n",
      "GPU optimization disabled. No device found.\n",
      "[QClass]  Fitting:  (544, 6)\n",
      "[QClass]  Feature dimension =  6\n",
      "[QClass]  Quantum backend =  AerSimulator('aer_simulator_statevector')\n",
      "[QClass]  seed =  332897\n",
      "[QClass]  SVM initiating algorithm\n",
      "[QClass]  Training...\n"
     ]
    },
    {
     "name": "stderr",
     "output_type": "stream",
     "text": [
      "WARNING:root:FidelityQuantumKernel skipped because of time.\n",
      "                    Using FidelityStatevectorKernel with AerStatevector.\n",
      "                    Seed cannot be set with FidelityStatevectorKernel.\n",
      "                    Increase the number of shots to diminish the noise.\n"
     ]
    },
    {
     "name": "stdout",
     "output_type": "stream",
     "text": [
      "[QClass]  Prediction finished.\n",
      "[QClass]  Initializing Quantum Classifier\n",
      "[QClass]  Quantum simulation will be performed\n",
      "GPU optimization disabled. No device found.\n",
      "[QClass]  Fitting:  (545, 6)\n",
      "[QClass]  Feature dimension =  6\n",
      "[QClass]  Quantum backend =  AerSimulator('aer_simulator_statevector')\n",
      "[QClass]  seed =  332897\n",
      "[QClass]  SVM initiating algorithm\n",
      "[QClass]  Training...\n"
     ]
    },
    {
     "name": "stderr",
     "output_type": "stream",
     "text": [
      "WARNING:root:FidelityQuantumKernel skipped because of time.\n",
      "                    Using FidelityStatevectorKernel with AerStatevector.\n",
      "                    Seed cannot be set with FidelityStatevectorKernel.\n",
      "                    Increase the number of shots to diminish the noise.\n"
     ]
    },
    {
     "name": "stdout",
     "output_type": "stream",
     "text": [
      "[QClass]  Prediction finished.\n",
      "[QClass]  Initializing Quantum Classifier\n",
      "[QClass]  Quantum simulation will be performed\n",
      "GPU optimization disabled. No device found.\n",
      "[QClass]  Fitting:  (545, 6)\n",
      "[QClass]  Feature dimension =  6\n",
      "[QClass]  Quantum backend =  AerSimulator('aer_simulator_statevector')\n",
      "[QClass]  seed =  332897\n",
      "[QClass]  SVM initiating algorithm\n",
      "[QClass]  Training...\n"
     ]
    },
    {
     "name": "stderr",
     "output_type": "stream",
     "text": [
      "WARNING:root:FidelityQuantumKernel skipped because of time.\n",
      "                    Using FidelityStatevectorKernel with AerStatevector.\n",
      "                    Seed cannot be set with FidelityStatevectorKernel.\n",
      "                    Increase the number of shots to diminish the noise.\n"
     ]
    },
    {
     "name": "stdout",
     "output_type": "stream",
     "text": [
      "[QClass]  Prediction finished.\n",
      "[QClass]  Initializing Quantum Classifier\n",
      "[QClass]  Quantum simulation will be performed\n",
      "GPU optimization disabled. No device found.\n",
      "[QClass]  Fitting:  (545, 6)\n",
      "[QClass]  Feature dimension =  6\n",
      "[QClass]  Quantum backend =  AerSimulator('aer_simulator_statevector')\n",
      "[QClass]  seed =  332897\n",
      "[QClass]  SVM initiating algorithm\n",
      "[QClass]  Training...\n"
     ]
    },
    {
     "name": "stderr",
     "output_type": "stream",
     "text": [
      "WARNING:root:FidelityQuantumKernel skipped because of time.\n",
      "                    Using FidelityStatevectorKernel with AerStatevector.\n",
      "                    Seed cannot be set with FidelityStatevectorKernel.\n",
      "                    Increase the number of shots to diminish the noise.\n"
     ]
    },
    {
     "name": "stdout",
     "output_type": "stream",
     "text": [
      "[QClass]  Prediction finished.\n",
      "[QClass]  Initializing Quantum Classifier\n",
      "[QClass]  Quantum simulation will be performed\n",
      "GPU optimization disabled. No device found.\n",
      "[QClass]  Fitting:  (545, 6)\n",
      "[QClass]  Feature dimension =  6\n",
      "[QClass]  Quantum backend =  AerSimulator('aer_simulator_statevector')\n",
      "[QClass]  seed =  332897\n",
      "[QClass]  SVM initiating algorithm\n",
      "[QClass]  Training...\n"
     ]
    },
    {
     "name": "stderr",
     "output_type": "stream",
     "text": [
      "WARNING:root:FidelityQuantumKernel skipped because of time.\n",
      "                    Using FidelityStatevectorKernel with AerStatevector.\n",
      "                    Seed cannot be set with FidelityStatevectorKernel.\n",
      "                    Increase the number of shots to diminish the noise.\n"
     ]
    },
    {
     "name": "stdout",
     "output_type": "stream",
     "text": [
      "[QClass]  Prediction finished.\n",
      "[QClass]  Initializing Quantum Classifier\n",
      "[QClass]  Quantum simulation will be performed\n",
      "GPU optimization disabled. No device found.\n",
      "[QClass]  Fitting:  (544, 6)\n",
      "[QClass]  Feature dimension =  6\n",
      "[QClass]  Quantum backend =  AerSimulator('aer_simulator_statevector')\n",
      "[QClass]  seed =  332897\n",
      "[QClass]  SVM initiating algorithm\n",
      "[QClass]  Training...\n"
     ]
    },
    {
     "name": "stderr",
     "output_type": "stream",
     "text": [
      "WARNING:root:FidelityQuantumKernel skipped because of time.\n",
      "                    Using FidelityStatevectorKernel with AerStatevector.\n",
      "                    Seed cannot be set with FidelityStatevectorKernel.\n",
      "                    Increase the number of shots to diminish the noise.\n"
     ]
    },
    {
     "name": "stdout",
     "output_type": "stream",
     "text": [
      "[QClass]  Prediction finished.\n",
      "[QClass]  Initializing Quantum Classifier\n",
      "[QClass]  Quantum simulation will be performed\n",
      "GPU optimization disabled. No device found.\n",
      "[QClass]  Fitting:  (545, 6)\n",
      "[QClass]  Feature dimension =  6\n",
      "[QClass]  Quantum backend =  AerSimulator('aer_simulator_statevector')\n",
      "[QClass]  seed =  332897\n",
      "[QClass]  SVM initiating algorithm\n",
      "[QClass]  Training...\n"
     ]
    },
    {
     "name": "stderr",
     "output_type": "stream",
     "text": [
      "WARNING:root:FidelityQuantumKernel skipped because of time.\n",
      "                    Using FidelityStatevectorKernel with AerStatevector.\n",
      "                    Seed cannot be set with FidelityStatevectorKernel.\n",
      "                    Increase the number of shots to diminish the noise.\n"
     ]
    },
    {
     "name": "stdout",
     "output_type": "stream",
     "text": [
      "[QClass]  Prediction finished.\n",
      "[QClass]  Initializing Quantum Classifier\n",
      "[QClass]  Quantum simulation will be performed\n",
      "GPU optimization disabled. No device found.\n",
      "[QClass]  Fitting:  (545, 6)\n",
      "[QClass]  Feature dimension =  6\n",
      "[QClass]  Quantum backend =  AerSimulator('aer_simulator_statevector')\n",
      "[QClass]  seed =  332897\n",
      "[QClass]  SVM initiating algorithm\n",
      "[QClass]  Training...\n"
     ]
    },
    {
     "name": "stderr",
     "output_type": "stream",
     "text": [
      "WARNING:root:FidelityQuantumKernel skipped because of time.\n",
      "                    Using FidelityStatevectorKernel with AerStatevector.\n",
      "                    Seed cannot be set with FidelityStatevectorKernel.\n",
      "                    Increase the number of shots to diminish the noise.\n"
     ]
    },
    {
     "name": "stdout",
     "output_type": "stream",
     "text": [
      "[QClass]  Prediction finished.\n",
      "[QClass]  Initializing Quantum Classifier\n",
      "[QClass]  Quantum simulation will be performed\n",
      "GPU optimization disabled. No device found.\n",
      "[QClass]  Fitting:  (545, 6)\n",
      "[QClass]  Feature dimension =  6\n",
      "[QClass]  Quantum backend =  AerSimulator('aer_simulator_statevector')\n",
      "[QClass]  seed =  332897\n",
      "[QClass]  SVM initiating algorithm\n",
      "[QClass]  Training...\n"
     ]
    },
    {
     "name": "stderr",
     "output_type": "stream",
     "text": [
      "WARNING:root:FidelityQuantumKernel skipped because of time.\n",
      "                    Using FidelityStatevectorKernel with AerStatevector.\n",
      "                    Seed cannot be set with FidelityStatevectorKernel.\n",
      "                    Increase the number of shots to diminish the noise.\n"
     ]
    },
    {
     "name": "stdout",
     "output_type": "stream",
     "text": [
      "[QClass]  Prediction finished.\n",
      "[QClass]  Initializing Quantum Classifier\n",
      "[QClass]  Quantum simulation will be performed\n",
      "GPU optimization disabled. No device found.\n",
      "[QClass]  Fitting:  (545, 6)\n",
      "[QClass]  Feature dimension =  6\n",
      "[QClass]  Quantum backend =  AerSimulator('aer_simulator_statevector')\n",
      "[QClass]  seed =  332897\n",
      "[QClass]  SVM initiating algorithm\n",
      "[QClass]  Training...\n"
     ]
    },
    {
     "name": "stderr",
     "output_type": "stream",
     "text": [
      "WARNING:root:FidelityQuantumKernel skipped because of time.\n",
      "                    Using FidelityStatevectorKernel with AerStatevector.\n",
      "                    Seed cannot be set with FidelityStatevectorKernel.\n",
      "                    Increase the number of shots to diminish the noise.\n"
     ]
    },
    {
     "name": "stdout",
     "output_type": "stream",
     "text": [
      "[QClass]  Prediction finished.\n",
      "[QClass]  Initializing Quantum Classifier\n",
      "[QClass]  Quantum simulation will be performed\n",
      "GPU optimization disabled. No device found.\n",
      "[QClass]  Fitting:  (544, 6)\n",
      "[QClass]  Feature dimension =  6\n",
      "[QClass]  Quantum backend =  AerSimulator('aer_simulator_statevector')\n",
      "[QClass]  seed =  332897\n",
      "[QClass]  SVM initiating algorithm\n",
      "[QClass]  Training...\n"
     ]
    },
    {
     "name": "stderr",
     "output_type": "stream",
     "text": [
      "WARNING:root:FidelityQuantumKernel skipped because of time.\n",
      "                    Using FidelityStatevectorKernel with AerStatevector.\n",
      "                    Seed cannot be set with FidelityStatevectorKernel.\n",
      "                    Increase the number of shots to diminish the noise.\n"
     ]
    },
    {
     "name": "stdout",
     "output_type": "stream",
     "text": [
      "[QClass]  Prediction finished.\n",
      "[QClass]  Initializing Quantum Classifier\n",
      "[QClass]  Quantum simulation will be performed\n",
      "GPU optimization disabled. No device found.\n",
      "[QClass]  Fitting:  (545, 6)\n",
      "[QClass]  Feature dimension =  6\n",
      "[QClass]  Quantum backend =  AerSimulator('aer_simulator_statevector')\n",
      "[QClass]  seed =  332897\n",
      "[QClass]  SVM initiating algorithm\n",
      "[QClass]  Training...\n"
     ]
    },
    {
     "name": "stderr",
     "output_type": "stream",
     "text": [
      "WARNING:root:FidelityQuantumKernel skipped because of time.\n",
      "                    Using FidelityStatevectorKernel with AerStatevector.\n",
      "                    Seed cannot be set with FidelityStatevectorKernel.\n",
      "                    Increase the number of shots to diminish the noise.\n"
     ]
    },
    {
     "name": "stdout",
     "output_type": "stream",
     "text": [
      "[QClass]  Prediction finished.\n",
      "[QClass]  Initializing Quantum Classifier\n",
      "[QClass]  Quantum simulation will be performed\n",
      "GPU optimization disabled. No device found.\n",
      "[QClass]  Fitting:  (545, 6)\n",
      "[QClass]  Feature dimension =  6\n",
      "[QClass]  Quantum backend =  AerSimulator('aer_simulator_statevector')\n",
      "[QClass]  seed =  332897\n",
      "[QClass]  SVM initiating algorithm\n",
      "[QClass]  Training...\n"
     ]
    },
    {
     "name": "stderr",
     "output_type": "stream",
     "text": [
      "WARNING:root:FidelityQuantumKernel skipped because of time.\n",
      "                    Using FidelityStatevectorKernel with AerStatevector.\n",
      "                    Seed cannot be set with FidelityStatevectorKernel.\n",
      "                    Increase the number of shots to diminish the noise.\n"
     ]
    },
    {
     "name": "stdout",
     "output_type": "stream",
     "text": [
      "[QClass]  Prediction finished.\n",
      "[QClass]  Initializing Quantum Classifier\n",
      "[QClass]  Quantum simulation will be performed\n",
      "GPU optimization disabled. No device found.\n",
      "[QClass]  Fitting:  (545, 6)\n",
      "[QClass]  Feature dimension =  6\n",
      "[QClass]  Quantum backend =  AerSimulator('aer_simulator_statevector')\n",
      "[QClass]  seed =  332897\n",
      "[QClass]  SVM initiating algorithm\n",
      "[QClass]  Training...\n"
     ]
    },
    {
     "name": "stderr",
     "output_type": "stream",
     "text": [
      "WARNING:root:FidelityQuantumKernel skipped because of time.\n",
      "                    Using FidelityStatevectorKernel with AerStatevector.\n",
      "                    Seed cannot be set with FidelityStatevectorKernel.\n",
      "                    Increase the number of shots to diminish the noise.\n"
     ]
    },
    {
     "name": "stdout",
     "output_type": "stream",
     "text": [
      "[QClass]  Prediction finished.\n",
      "[QClass]  Initializing Quantum Classifier\n",
      "[QClass]  Quantum simulation will be performed\n",
      "GPU optimization disabled. No device found.\n",
      "[QClass]  Fitting:  (545, 6)\n",
      "[QClass]  Feature dimension =  6\n",
      "[QClass]  Quantum backend =  AerSimulator('aer_simulator_statevector')\n",
      "[QClass]  seed =  332897\n",
      "[QClass]  SVM initiating algorithm\n",
      "[QClass]  Training...\n"
     ]
    },
    {
     "name": "stderr",
     "output_type": "stream",
     "text": [
      "WARNING:root:FidelityQuantumKernel skipped because of time.\n",
      "                    Using FidelityStatevectorKernel with AerStatevector.\n",
      "                    Seed cannot be set with FidelityStatevectorKernel.\n",
      "                    Increase the number of shots to diminish the noise.\n"
     ]
    },
    {
     "name": "stdout",
     "output_type": "stream",
     "text": [
      "[QClass]  Prediction finished.\n",
      "[QClass]  Initializing Quantum Classifier\n",
      "[QClass]  Quantum simulation will be performed\n",
      "GPU optimization disabled. No device found.\n",
      "[QClass]  Fitting:  (544, 6)\n",
      "[QClass]  Feature dimension =  6\n",
      "[QClass]  Quantum backend =  AerSimulator('aer_simulator_statevector')\n",
      "[QClass]  seed =  332897\n",
      "[QClass]  SVM initiating algorithm\n",
      "[QClass]  Training...\n"
     ]
    },
    {
     "name": "stderr",
     "output_type": "stream",
     "text": [
      "WARNING:root:FidelityQuantumKernel skipped because of time.\n",
      "                    Using FidelityStatevectorKernel with AerStatevector.\n",
      "                    Seed cannot be set with FidelityStatevectorKernel.\n",
      "                    Increase the number of shots to diminish the noise.\n"
     ]
    },
    {
     "name": "stdout",
     "output_type": "stream",
     "text": [
      "[QClass]  Prediction finished.\n",
      "[QClass]  Initializing Quantum Classifier\n",
      "[QClass]  Quantum simulation will be performed\n",
      "GPU optimization disabled. No device found.\n",
      "[QClass]  Fitting:  (545, 6)\n",
      "[QClass]  Feature dimension =  6\n",
      "[QClass]  Quantum backend =  AerSimulator('aer_simulator_statevector')\n",
      "[QClass]  seed =  332897\n",
      "[QClass]  SVM initiating algorithm\n",
      "[QClass]  Training...\n"
     ]
    },
    {
     "name": "stderr",
     "output_type": "stream",
     "text": [
      "WARNING:root:FidelityQuantumKernel skipped because of time.\n",
      "                    Using FidelityStatevectorKernel with AerStatevector.\n",
      "                    Seed cannot be set with FidelityStatevectorKernel.\n",
      "                    Increase the number of shots to diminish the noise.\n"
     ]
    },
    {
     "name": "stdout",
     "output_type": "stream",
     "text": [
      "[QClass]  Prediction finished.\n",
      "[QClass]  Initializing Quantum Classifier\n",
      "[QClass]  Quantum simulation will be performed\n",
      "GPU optimization disabled. No device found.\n",
      "[QClass]  Fitting:  (545, 6)\n",
      "[QClass]  Feature dimension =  6\n",
      "[QClass]  Quantum backend =  AerSimulator('aer_simulator_statevector')\n",
      "[QClass]  seed =  332897\n",
      "[QClass]  SVM initiating algorithm\n",
      "[QClass]  Training...\n"
     ]
    },
    {
     "name": "stderr",
     "output_type": "stream",
     "text": [
      "WARNING:root:FidelityQuantumKernel skipped because of time.\n",
      "                    Using FidelityStatevectorKernel with AerStatevector.\n",
      "                    Seed cannot be set with FidelityStatevectorKernel.\n",
      "                    Increase the number of shots to diminish the noise.\n"
     ]
    },
    {
     "name": "stdout",
     "output_type": "stream",
     "text": [
      "[QClass]  Prediction finished.\n",
      "[QClass]  Initializing Quantum Classifier\n",
      "[QClass]  Quantum simulation will be performed\n",
      "GPU optimization disabled. No device found.\n",
      "[QClass]  Fitting:  (545, 6)\n",
      "[QClass]  Feature dimension =  6\n",
      "[QClass]  Quantum backend =  AerSimulator('aer_simulator_statevector')\n",
      "[QClass]  seed =  332897\n",
      "[QClass]  SVM initiating algorithm\n",
      "[QClass]  Training...\n"
     ]
    },
    {
     "name": "stderr",
     "output_type": "stream",
     "text": [
      "WARNING:root:FidelityQuantumKernel skipped because of time.\n",
      "                    Using FidelityStatevectorKernel with AerStatevector.\n",
      "                    Seed cannot be set with FidelityStatevectorKernel.\n",
      "                    Increase the number of shots to diminish the noise.\n"
     ]
    },
    {
     "name": "stdout",
     "output_type": "stream",
     "text": [
      "[QClass]  Prediction finished.\n",
      "[QClass]  Initializing Quantum Classifier\n",
      "[QClass]  Quantum simulation will be performed\n",
      "GPU optimization disabled. No device found.\n",
      "[QClass]  Fitting:  (545, 6)\n",
      "[QClass]  Feature dimension =  6\n",
      "[QClass]  Quantum backend =  AerSimulator('aer_simulator_statevector')\n",
      "[QClass]  seed =  332897\n",
      "[QClass]  SVM initiating algorithm\n",
      "[QClass]  Training...\n"
     ]
    },
    {
     "name": "stderr",
     "output_type": "stream",
     "text": [
      "WARNING:root:FidelityQuantumKernel skipped because of time.\n",
      "                    Using FidelityStatevectorKernel with AerStatevector.\n",
      "                    Seed cannot be set with FidelityStatevectorKernel.\n",
      "                    Increase the number of shots to diminish the noise.\n"
     ]
    },
    {
     "name": "stdout",
     "output_type": "stream",
     "text": [
      "[QClass]  Prediction finished.\n",
      "[QClass]  Initializing Quantum Classifier\n",
      "[QClass]  Quantum simulation will be performed\n",
      "GPU optimization disabled. No device found.\n",
      "[QClass]  Fitting:  (544, 6)\n",
      "[QClass]  Feature dimension =  6\n",
      "[QClass]  Quantum backend =  AerSimulator('aer_simulator_statevector')\n",
      "[QClass]  seed =  332897\n",
      "[QClass]  SVM initiating algorithm\n",
      "[QClass]  Training...\n"
     ]
    },
    {
     "name": "stderr",
     "output_type": "stream",
     "text": [
      "WARNING:root:FidelityQuantumKernel skipped because of time.\n",
      "                    Using FidelityStatevectorKernel with AerStatevector.\n",
      "                    Seed cannot be set with FidelityStatevectorKernel.\n",
      "                    Increase the number of shots to diminish the noise.\n"
     ]
    },
    {
     "name": "stdout",
     "output_type": "stream",
     "text": [
      "[QClass]  Prediction finished.\n",
      "[QClass]  Initializing Quantum Classifier\n",
      "[QClass]  Quantum simulation will be performed\n",
      "GPU optimization disabled. No device found.\n",
      "[QClass]  Fitting:  (545, 6)\n",
      "[QClass]  Feature dimension =  6\n",
      "[QClass]  Quantum backend =  AerSimulator('aer_simulator_statevector')\n",
      "[QClass]  seed =  332897\n",
      "[QClass]  SVM initiating algorithm\n",
      "[QClass]  Training...\n"
     ]
    },
    {
     "name": "stderr",
     "output_type": "stream",
     "text": [
      "WARNING:root:FidelityQuantumKernel skipped because of time.\n",
      "                    Using FidelityStatevectorKernel with AerStatevector.\n",
      "                    Seed cannot be set with FidelityStatevectorKernel.\n",
      "                    Increase the number of shots to diminish the noise.\n"
     ]
    },
    {
     "name": "stdout",
     "output_type": "stream",
     "text": [
      "[QClass]  Prediction finished.\n",
      "[QClass]  Initializing Quantum Classifier\n",
      "[QClass]  Quantum simulation will be performed\n",
      "GPU optimization disabled. No device found.\n",
      "[QClass]  Fitting:  (545, 6)\n",
      "[QClass]  Feature dimension =  6\n",
      "[QClass]  Quantum backend =  AerSimulator('aer_simulator_statevector')\n",
      "[QClass]  seed =  332897\n",
      "[QClass]  SVM initiating algorithm\n",
      "[QClass]  Training...\n"
     ]
    },
    {
     "name": "stderr",
     "output_type": "stream",
     "text": [
      "WARNING:root:FidelityQuantumKernel skipped because of time.\n",
      "                    Using FidelityStatevectorKernel with AerStatevector.\n",
      "                    Seed cannot be set with FidelityStatevectorKernel.\n",
      "                    Increase the number of shots to diminish the noise.\n"
     ]
    },
    {
     "name": "stdout",
     "output_type": "stream",
     "text": [
      "[QClass]  Prediction finished.\n",
      "[QClass]  Initializing Quantum Classifier\n",
      "[QClass]  Quantum simulation will be performed\n",
      "GPU optimization disabled. No device found.\n",
      "[QClass]  Fitting:  (545, 6)\n",
      "[QClass]  Feature dimension =  6\n",
      "[QClass]  Quantum backend =  AerSimulator('aer_simulator_statevector')\n",
      "[QClass]  seed =  332897\n",
      "[QClass]  SVM initiating algorithm\n",
      "[QClass]  Training...\n"
     ]
    },
    {
     "name": "stderr",
     "output_type": "stream",
     "text": [
      "WARNING:root:FidelityQuantumKernel skipped because of time.\n",
      "                    Using FidelityStatevectorKernel with AerStatevector.\n",
      "                    Seed cannot be set with FidelityStatevectorKernel.\n",
      "                    Increase the number of shots to diminish the noise.\n"
     ]
    },
    {
     "name": "stdout",
     "output_type": "stream",
     "text": [
      "[QClass]  Prediction finished.\n",
      "[QClass]  Initializing Quantum Classifier\n",
      "[QClass]  Quantum simulation will be performed\n",
      "GPU optimization disabled. No device found.\n",
      "[QClass]  Fitting:  (545, 6)\n",
      "[QClass]  Feature dimension =  6\n",
      "[QClass]  Quantum backend =  AerSimulator('aer_simulator_statevector')\n",
      "[QClass]  seed =  332897\n",
      "[QClass]  SVM initiating algorithm\n",
      "[QClass]  Training...\n"
     ]
    },
    {
     "name": "stderr",
     "output_type": "stream",
     "text": [
      "WARNING:root:FidelityQuantumKernel skipped because of time.\n",
      "                    Using FidelityStatevectorKernel with AerStatevector.\n",
      "                    Seed cannot be set with FidelityStatevectorKernel.\n",
      "                    Increase the number of shots to diminish the noise.\n"
     ]
    },
    {
     "name": "stdout",
     "output_type": "stream",
     "text": [
      "[QClass]  Prediction finished.\n",
      "[QClass]  Initializing Quantum Classifier\n",
      "[QClass]  Quantum simulation will be performed\n",
      "GPU optimization disabled. No device found.\n",
      "[QClass]  Fitting:  (681, 6)\n",
      "[QClass]  Feature dimension =  6\n",
      "[QClass]  Quantum backend =  AerSimulator('aer_simulator_statevector')\n",
      "[QClass]  seed =  332897\n",
      "[QClass]  SVM initiating algorithm\n",
      "[QClass]  Training...\n",
      "{'csp__nfilter': 3, 'quanticsvm__C': 0.1, 'quanticsvm__gamma': 'auto', 'quanticsvm__gen_feature_map': <function gen_x_feature_map.<locals>.<lambda> at 0x74ee35231870>, 'tangentspace__metric': 'riemann'}\n",
      "best score 0.9986111111111111\n",
      "[QClass]  Prediction finished.\n",
      "validation score 1.0\n"
     ]
    }
   ],
   "source": [
    "# Score with gridsearch\n",
    "# Leave 20 percent out, to avoid biases in the choice of the hyperparameter\n",
    "# (how well this tuned pipeline is doing with new data?)\n",
    "X_train, X_test, y_train, y_test = train_test_split(X, y, stratify=y, test_size=0.1)\n",
    "params = {\n",
    "    \"quanticsvm__C\": [0.1, 1, 10],\n",
    "    \"quanticsvm__gamma\": [\"auto\", \"scale\"],\n",
    "    \"quanticsvm__gen_feature_map\": [gen_z_feature_map(), gen_x_feature_map(reps=2), gen_x_feature_map(reps=1), gen_x_feature_map(reps=3)],\n",
    "    \"tangentspace__metric\": [\"riemann\", \"logeuclid\"],\n",
    "    # \"pca_spd__n_components\": [2, 3],\n",
    "    \"csp__nfilter\": [2, 3]\n",
    "}\n",
    "gs = GridSearchCV(pipe_ts_qsvm2, params, scoring=\"balanced_accuracy\", cv=cv)\n",
    "gs.fit(X_train, y_train)\n",
    "print(gs.best_params_)\n",
    "print(f'best score {gs.best_score_}')\n",
    "score = gs.score(X_test, y_test)\n",
    "print(f'validation score {score}')"
   ]
  },
  {
   "cell_type": "markdown",
   "metadata": {},
   "source": [
    "# Evaluate difference in predictions"
   ]
  },
  {
   "cell_type": "code",
   "execution_count": 155,
   "metadata": {},
   "outputs": [
    {
     "name": "stderr",
     "output_type": "stream",
     "text": [
      "WARNING:root:FidelityQuantumKernel skipped because of time.\n",
      "                    Using FidelityStatevectorKernel with AerStatevector.\n",
      "                    Seed cannot be set with FidelityStatevectorKernel.\n",
      "                    Increase the number of shots to diminish the noise.\n"
     ]
    },
    {
     "name": "stdout",
     "output_type": "stream",
     "text": [
      "[QClass]  Quantum simulation will be performed\n",
      "GPU optimization disabled. No device found.\n",
      "[QClass]  Fitting:  (118, 10)\n",
      "[QClass]  Feature dimension =  10\n",
      "[QClass]  Quantum backend =  AerSimulator('aer_simulator_statevector')\n",
      "[QClass]  seed =  395013\n",
      "[QClass]  SVM initiating algorithm\n",
      "[QClass]  Training...\n",
      "[QClass]  Prediction finished.\n",
      "0.9652605459057072\n",
      "0.9252907118182261\n"
     ]
    }
   ],
   "source": [
    "# We take a small samples and compare the prediction made by classical/quantum pipeline\n",
    "X_train, X_test, y_train, y_test = train_test_split(X, y, stratify=y, test_size=0.9)\n",
    "y_pred_svc = pipe_ts_svm.fit(X_train, y_train).predict(X_test)\n",
    "y_pred_qsvc= pipe_ts_qsvm2.fit(X_train, y_train).predict(X_test)\n",
    "print(balanced_accuracy_score(y_test, y_pred_svc))\n",
    "print(balanced_accuracy_score(y_test, y_pred_qsvc))"
   ]
  },
  {
   "cell_type": "code",
   "execution_count": 156,
   "metadata": {},
   "outputs": [
    {
     "name": "stderr",
     "output_type": "stream",
     "text": [
      "/tmp/ipykernel_3271/1618836778.py:15: UserWarning: set_ticklabels() should only be used with a fixed number of ticks, i.e. after set_ticks() or using a FixedLocator.\n",
      "  ax.set_yticklabels(['False', '', '', '', '', 'True'])\n",
      "/tmp/ipykernel_3271/1618836778.py:16: UserWarning: set_ticklabels() should only be used with a fixed number of ticks, i.e. after set_ticks() or using a FixedLocator.\n",
      "  ax.set_xticklabels([i if i % 2 == 0 else '' for i in range(len(data.index))])\n"
     ]
    },
    {
     "data": {
      "image/png": "[encoded data removed]",
      "text/plain": [
       "<Figure size 640x480 with 1 Axes>"
      ]
     },
     "metadata": {},
     "output_type": "display_data"
    }
   ],
   "source": [
    "# Display the error made by the two classifier\n",
    "error_svc = abs(y_test - y_pred_svc)\n",
    "error_qsvc = abs(y_test - y_pred_qsvc)\n",
    "\n",
    "error_common = (error_svc == 1) & (error_qsvc == 1)\n",
    "\n",
    "data = pd.DataFrame({\"SVC\": error_svc, \"QSVC\": error_qsvc, \"Common\": error_common})\n",
    "\n",
    "sns.barplot(data, x=data.index, y=\"SVC\", color=\"pink\")\n",
    "sns.barplot(data, x=data.index, y=\"QSVC\", color=\"yellow\")\n",
    "ax = sns.barplot(data, x=data.index, y=\"Common\", color=\"red\")\n",
    "\n",
    "# Met en forme la numerotation et le nom des axes\n",
    "ax.set(xlabel='Trial number', ylabel='Error')\n",
    "ax.set_yticklabels(['False', '', '', '', '', 'True'])\n",
    "ax.set_xticklabels([i if i % 2 == 0 else '' for i in range(len(data.index))])\n",
    "\n",
    "# Legend\n",
    "plt.legend(title='', loc='upper right', labels=['SVC', 'QSVC', 'Common'], framealpha=0.9)\n",
    "leg = plt.gca().get_legend()\n",
    "leg.legend_handles[0].set_color('pink')\n",
    "leg.legend_handles[1].set_color('#FFD700')\n",
    "leg.legend_handles[2].set_color('red')"
   ]
  },
  {
   "cell_type": "markdown",
   "metadata": {},
   "source": [
    "# Separation between classes"
   ]
  },
  {
   "cell_type": "code",
   "execution_count": 157,
   "metadata": {},
   "outputs": [
    {
     "data": {
      "image/png": "[encoded data removed]",
      "text/plain": [
       "<Figure size 600x500 with 1 Axes>"
      ]
     },
     "execution_count": 157,
     "metadata": {},
     "output_type": "execute_result"
    },
    {
     "data": {
      "image/png": "[encoded data removed]",
      "text/plain": [
       "<Figure size 700x700 with 1 Axes>"
      ]
     },
     "metadata": {},
     "output_type": "display_data"
    },
    {
     "data": {
      "image/png": "[encoded data removed]",
      "text/plain": [
       "<Figure size 600x500 with 1 Axes>"
      ]
     },
     "metadata": {},
     "output_type": "display_data"
    }
   ],
   "source": [
    "# Use mdm to get the distances between the classes\n",
    "dists = pipe_mdm.fit(X_train, y_train).transform(X_test)\n",
    "plot_biscatter(dists, y_test)\n",
    "plot_bihist(dists, y_test)"
   ]
  },
  {
   "cell_type": "code",
   "execution_count": 158,
   "metadata": {},
   "outputs": [
    {
     "name": "stderr",
     "output_type": "stream",
     "text": [
      "WARNING:root:FidelityQuantumKernel skipped because of time.\n",
      "                    Using FidelityStatevectorKernel with AerStatevector.\n",
      "                    Seed cannot be set with FidelityStatevectorKernel.\n",
      "                    Increase the number of shots to diminish the noise.\n"
     ]
    },
    {
     "name": "stdout",
     "output_type": "stream",
     "text": [
      "[QClass]  Initializing Quantum Classifier\n",
      "[QClass]  Quantum simulation will be performed\n",
      "GPU optimization disabled. No device found.\n",
      "[QClass]  Fitting:  (118, 2)\n",
      "[QClass]  Feature dimension =  2\n",
      "[QClass]  Quantum backend =  AerSimulator('aer_simulator_statevector')\n",
      "[QClass]  seed =  27842\n",
      "[QClass]  SVM initiating algorithm\n",
      "[QClass]  Training...\n",
      "[QClass]  Prediction finished.\n"
     ]
    },
    {
     "data": {
      "text/plain": [
       "<matplotlib.collections.PathCollection at 0x797fce426330>"
      ]
     },
     "execution_count": 158,
     "metadata": {},
     "output_type": "execute_result"
    },
    {
     "data": {
      "image/png": "[encoded data removed]",
      "text/plain": [
       "<Figure size 640x480 with 1 Axes>"
      ]
     },
     "metadata": {},
     "output_type": "display_data"
    }
   ],
   "source": [
    "pre_proc = make_pipeline(\n",
    "    CSP(nfilter=2, log=False),\n",
    "    TangentSpace(metric=metric),\n",
    "    PCA(n_components=2),\n",
    ")\n",
    "X_test_tr = pre_proc.fit(X_train, y_train).transform(X_test)\n",
    "X_train_tr = pre_proc.fit(X_train, y_train).transform(X_train)\n",
    "estimator = QuanticSVM(gen_feature_map=gen_x_feature_map(reps=2))\n",
    "# estimator = svm.SVC()\n",
    "estimator.fit(X_train_tr, y_train)\n",
    "disp = DecisionBoundaryDisplay.from_estimator(\n",
    "    estimator, X_test_tr, response_method=\"predict\",\n",
    "    # xlabel=\"xlabel\", ylabel=\"ylabel\",\n",
    "    alpha=0.5,\n",
    ")\n",
    "disp.ax_.scatter(X_test_tr[:, 0], X_test_tr[:, 1], c=y_test, edgecolor=\"k\")"
   ]
  },
  {
   "cell_type": "code",
   "execution_count": 159,
   "metadata": {},
   "outputs": [
    {
     "name": "stdout",
     "output_type": "stream",
     "text": [
      "[QClass]  Classical computation will be performed\n",
      "[QClass]  Fitting:  (118, 4, 4)\n",
      "[QClass]  Feature dimension =  4\n",
      "[QClass]  Nearest Convex Hull Classifier initiating algorithm\n",
      "[QClass]  Using ClassicalOptimizer\n",
      "[QClass]  Training...\n"
     ]
    },
    {
     "name": "stderr",
     "output_type": "stream",
     "text": [
      "/usr/local/python/3.12.1/lib/python3.12/site-packages/pyriemann_qiskit/datasets/utils.py:11: UserWarning: mne not available. get_mne_sample will fail.\n",
      "  warn(\"mne not available. get_mne_sample will fail.\")\n",
      "/usr/local/python/3.12.1/lib/python3.12/site-packages/pyriemann_qiskit/datasets/utils.py:11: UserWarning: mne not available. get_mne_sample will fail.\n",
      "  warn(\"mne not available. get_mne_sample will fail.\")\n"
     ]
    },
    {
     "name": "stdout",
     "output_type": "stream",
     "text": [
      "[QClass]  Initializing Quantum Classifier\n"
     ]
    },
    {
     "name": "stderr",
     "output_type": "stream",
     "text": [
      "/usr/local/python/3.12.1/lib/python3.12/site-packages/pyriemann_qiskit/datasets/utils.py:11: UserWarning: mne not available. get_mne_sample will fail.\n",
      "  warn(\"mne not available. get_mne_sample will fail.\")\n",
      "/usr/local/python/3.12.1/lib/python3.12/site-packages/pyriemann_qiskit/datasets/utils.py:11: UserWarning: mne not available. get_mne_sample will fail.\n",
      "  warn(\"mne not available. get_mne_sample will fail.\")\n",
      "/usr/local/python/3.12.1/lib/python3.12/site-packages/pyriemann_qiskit/datasets/utils.py:11: UserWarning: mne not available. get_mne_sample will fail.\n",
      "  warn(\"mne not available. get_mne_sample will fail.\")\n"
     ]
    },
    {
     "name": "stdout",
     "output_type": "stream",
     "text": [
      "[QClass]  Initializing Quantum Classifier\n",
      "[QClass]  Initializing Quantum Classifier\n",
      "[QClass]  Initializing Quantum Classifier\n",
      "[QClass]  Initializing Quantum Classifier\n"
     ]
    },
    {
     "name": "stderr",
     "output_type": "stream",
     "text": [
      "/usr/local/python/3.12.1/lib/python3.12/site-packages/pyriemann_qiskit/datasets/utils.py:11: UserWarning: mne not available. get_mne_sample will fail.\n",
      "  warn(\"mne not available. get_mne_sample will fail.\")\n",
      "/usr/local/python/3.12.1/lib/python3.12/site-packages/pyriemann_qiskit/datasets/utils.py:11: UserWarning: mne not available. get_mne_sample will fail.\n",
      "  warn(\"mne not available. get_mne_sample will fail.\")\n",
      "/usr/local/python/3.12.1/lib/python3.12/site-packages/pyriemann_qiskit/datasets/utils.py:11: UserWarning: mne not available. get_mne_sample will fail.\n",
      "  warn(\"mne not available. get_mne_sample will fail.\")\n",
      "/usr/local/python/3.12.1/lib/python3.12/site-packages/pyriemann_qiskit/datasets/utils.py:11: UserWarning: mne not available. get_mne_sample will fail.\n",
      "  warn(\"mne not available. get_mne_sample will fail.\")\n"
     ]
    },
    {
     "name": "stdout",
     "output_type": "stream",
     "text": [
      "[QClass]  Initializing Quantum Classifier\n",
      "[QClass] "
     ]
    },
    {
     "name": "stderr",
     "output_type": "stream",
     "text": [
      "/usr/local/python/3.12.1/lib/python3.12/site-packages/pyriemann_qiskit/datasets/utils.py:11: UserWarning: mne not available. get_mne_sample will fail.\n",
      "  warn(\"mne not available. get_mne_sample will fail.\")\n",
      "/usr/local/python/3.12.1/lib/python3.12/site-packages/pyriemann_qiskit/datasets/utils.py:11: UserWarning: mne not available. get_mne_sample will fail.\n",
      "  warn(\"mne not available. get_mne_sample will fail.\")\n"
     ]
    },
    {
     "name": "stdout",
     "output_type": "stream",
     "text": [
      " Initializing Quantum Classifier\n",
      "[QClass]  Initializing Quantum Classifier\n",
      "[QClass]  Initializing Quantum Classifier\n"
     ]
    },
    {
     "name": "stderr",
     "output_type": "stream",
     "text": [
      "/usr/local/python/3.12.1/lib/python3.12/site-packages/pyriemann_qiskit/datasets/utils.py:11: UserWarning: mne not available. get_mne_sample will fail.\n",
      "  warn(\"mne not available. get_mne_sample will fail.\")\n"
     ]
    },
    {
     "name": "stdout",
     "output_type": "stream",
     "text": [
      "[QClass]  Initializing Quantum Classifier\n",
      "[QClass]  Initializing Quantum Classifier\n",
      "[QClass]  Initializing Quantum Classifier\n"
     ]
    },
    {
     "data": {
      "image/png": "[encoded data removed]",
      "text/plain": [
       "<Figure size 600x500 with 1 Axes>"
      ]
     },
     "execution_count": 159,
     "metadata": {},
     "output_type": "execute_result"
    },
    {
     "data": {
      "image/png": "[encoded data removed]",
      "text/plain": [
       "<Figure size 700x700 with 1 Axes>"
      ]
     },
     "metadata": {},
     "output_type": "display_data"
    },
    {
     "data": {
      "image/png": "[encoded data removed]",
      "text/plain": [
       "<Figure size 600x500 with 1 Axes>"
      ]
     },
     "metadata": {},
     "output_type": "display_data"
    }
   ],
   "source": [
    "# Use NCH to get the distances between the classes (distance to convex hull)\n",
    "dists = pipe_nch.fit(X_train, y_train).transform(X_test)\n",
    "plot_biscatter(dists, y_test)\n",
    "plot_bihist(dists, y_test)"
   ]
  }
 ],
 "metadata": {
  "kernelspec": {
   "display_name": "Python 3",
   "language": "python",
   "name": "python3"
  },
  "language_info": {
   "codemirror_mode": {
    "name": "ipython",
    "version": 3
   },
   "file_extension": ".py",
   "mimetype": "text/x-python",
   "name": "python",
   "nbconvert_exporter": "python",
   "pygments_lexer": "ipython3",
   "version": "3.12.1"
  }
 },
 "nbformat": 4,
 "nbformat_minor": 2
}
