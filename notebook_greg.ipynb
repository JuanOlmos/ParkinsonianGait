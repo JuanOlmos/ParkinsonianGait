{
 "cells": [
  {
   "cell_type": "markdown",
   "metadata": {},
   "source": [
    "# Required import"
   ]
  },
  {
   "cell_type": "code",
   "execution_count": 1,
   "metadata": {},
   "outputs": [
    {
     "name": "stdout",
     "output_type": "stream",
     "text": [
      "Requirement already satisfied: pyriemann_qiskit in /usr/local/python/3.12.1/lib/python3.12/site-packages (0.3.0)\n",
      "Requirement already satisfied: numpy<1.27 in /usr/local/python/3.12.1/lib/python3.12/site-packages (from pyriemann_qiskit) (1.26.4)\n",
      "Requirement already satisfied: cython in /usr/local/python/3.12.1/lib/python3.12/site-packages (from pyriemann_qiskit) (3.0.11)\n",
      "Requirement already satisfied: pyriemann==0.6 in /usr/local/python/3.12.1/lib/python3.12/site-packages (from pyriemann_qiskit) (0.6)\n",
      "Requirement already satisfied: qiskit==1.* in /usr/local/python/3.12.1/lib/python3.12/site-packages (from pyriemann_qiskit) (1.2.4)\n",
      "Requirement already satisfied: qiskit-algorithms==0.3.0 in /usr/local/python/3.12.1/lib/python3.12/site-packages (from pyriemann_qiskit) (0.3.0)\n",
      "Requirement already satisfied: qiskit-machine-learning==0.7.2 in /usr/local/python/3.12.1/lib/python3.12/site-packages (from pyriemann_qiskit) (0.7.2)\n",
      "Requirement already satisfied: qiskit-ibm-runtime==0.23.0 in /usr/local/python/3.12.1/lib/python3.12/site-packages (from pyriemann_qiskit) (0.23.0)\n",
      "Requirement already satisfied: qiskit-optimization==0.6.1 in /usr/local/python/3.12.1/lib/python3.12/site-packages (from pyriemann_qiskit) (0.6.1)\n",
      "Requirement already satisfied: qiskit-aer==0.14.1 in /usr/local/python/3.12.1/lib/python3.12/site-packages (from pyriemann_qiskit) (0.14.1)\n",
      "Requirement already satisfied: cvxpy==1.4.2 in /usr/local/python/3.12.1/lib/python3.12/site-packages (from pyriemann_qiskit) (1.4.2)\n",
      "Requirement already satisfied: scipy==1.13.1 in /usr/local/python/3.12.1/lib/python3.12/site-packages (from pyriemann_qiskit) (1.13.1)\n",
      "Requirement already satisfied: docplex==2.25.236 in /usr/local/python/3.12.1/lib/python3.12/site-packages (from pyriemann_qiskit) (2.25.236)\n",
      "Requirement already satisfied: grpcio-status==1.62.1 in /usr/local/python/3.12.1/lib/python3.12/site-packages (from pyriemann_qiskit) (1.62.1)\n",
      "Requirement already satisfied: protobuf==4.25.3 in /usr/local/python/3.12.1/lib/python3.12/site-packages (from pyriemann_qiskit) (4.25.3)\n",
      "Requirement already satisfied: firebase-admin==6.5.0 in /usr/local/python/3.12.1/lib/python3.12/site-packages (from pyriemann_qiskit) (6.5.0)\n",
      "Requirement already satisfied: scikit-learn==1.4.2 in /usr/local/python/3.12.1/lib/python3.12/site-packages (from pyriemann_qiskit) (1.4.2)\n",
      "Requirement already satisfied: tqdm in /usr/local/python/3.12.1/lib/python3.12/site-packages (from pyriemann_qiskit) (4.66.5)\n",
      "Requirement already satisfied: pandas in /home/codespace/.local/lib/python3.12/site-packages (from pyriemann_qiskit) (2.2.3)\n",
      "Requirement already satisfied: osqp>=0.6.2 in /usr/local/python/3.12.1/lib/python3.12/site-packages (from cvxpy==1.4.2->pyriemann_qiskit) (0.6.7.post1)\n",
      "Requirement already satisfied: ecos>=2 in /usr/local/python/3.12.1/lib/python3.12/site-packages (from cvxpy==1.4.2->pyriemann_qiskit) (2.0.14)\n",
      "Requirement already satisfied: clarabel>=0.5.0 in /usr/local/python/3.12.1/lib/python3.12/site-packages (from cvxpy==1.4.2->pyriemann_qiskit) (0.9.0)\n",
      "Requirement already satisfied: scs>=3.0 in /usr/local/python/3.12.1/lib/python3.12/site-packages (from cvxpy==1.4.2->pyriemann_qiskit) (3.2.7)\n",
      "Requirement already satisfied: pybind11 in /usr/local/python/3.12.1/lib/python3.12/site-packages (from cvxpy==1.4.2->pyriemann_qiskit) (2.13.6)\n",
      "Requirement already satisfied: six in /home/codespace/.local/lib/python3.12/site-packages (from docplex==2.25.236->pyriemann_qiskit) (1.16.0)\n",
      "Requirement already satisfied: cachecontrol>=0.12.6 in /usr/local/python/3.12.1/lib/python3.12/site-packages (from firebase-admin==6.5.0->pyriemann_qiskit) (0.14.0)\n",
      "Requirement already satisfied: google-api-python-client>=1.7.8 in /usr/local/python/3.12.1/lib/python3.12/site-packages (from firebase-admin==6.5.0->pyriemann_qiskit) (2.147.0)\n",
      "Requirement already satisfied: google-cloud-storage>=1.37.1 in /usr/local/python/3.12.1/lib/python3.12/site-packages (from firebase-admin==6.5.0->pyriemann_qiskit) (2.18.2)\n",
      "Requirement already satisfied: pyjwt>=2.5.0 in /usr/local/python/3.12.1/lib/python3.12/site-packages (from pyjwt[crypto]>=2.5.0->firebase-admin==6.5.0->pyriemann_qiskit) (2.9.0)\n",
      "Requirement already satisfied: google-api-core<3.0.0dev,>=1.22.1 in /usr/local/python/3.12.1/lib/python3.12/site-packages (from google-api-core[grpc]<3.0.0dev,>=1.22.1; platform_python_implementation != \"PyPy\"->firebase-admin==6.5.0->pyriemann_qiskit) (2.20.0)\n",
      "Requirement already satisfied: google-cloud-firestore>=2.9.1 in /usr/local/python/3.12.1/lib/python3.12/site-packages (from firebase-admin==6.5.0->pyriemann_qiskit) (2.19.0)\n",
      "Requirement already satisfied: grpcio>=1.62.1 in /usr/local/python/3.12.1/lib/python3.12/site-packages (from grpcio-status==1.62.1->pyriemann_qiskit) (1.66.2)\n",
      "Requirement already satisfied: googleapis-common-protos>=1.5.5 in /usr/local/python/3.12.1/lib/python3.12/site-packages (from grpcio-status==1.62.1->pyriemann_qiskit) (1.65.0)\n",
      "Requirement already satisfied: joblib in /home/codespace/.local/lib/python3.12/site-packages (from pyriemann==0.6->pyriemann_qiskit) (1.4.2)\n",
      "Requirement already satisfied: matplotlib in /home/codespace/.local/lib/python3.12/site-packages (from pyriemann==0.6->pyriemann_qiskit) (3.9.2)\n",
      "Requirement already satisfied: rustworkx>=0.15.0 in /usr/local/python/3.12.1/lib/python3.12/site-packages (from qiskit==1.*->pyriemann_qiskit) (0.15.1)\n",
      "Requirement already satisfied: sympy>=1.3 in /home/codespace/.local/lib/python3.12/site-packages (from qiskit==1.*->pyriemann_qiskit) (1.12)\n",
      "Requirement already satisfied: dill>=0.3 in /usr/local/python/3.12.1/lib/python3.12/site-packages (from qiskit==1.*->pyriemann_qiskit) (0.3.9)\n",
      "Requirement already satisfied: python-dateutil>=2.8.0 in /home/codespace/.local/lib/python3.12/site-packages (from qiskit==1.*->pyriemann_qiskit) (2.9.0.post0)\n",
      "Requirement already satisfied: stevedore>=3.0.0 in /usr/local/python/3.12.1/lib/python3.12/site-packages (from qiskit==1.*->pyriemann_qiskit) (5.3.0)\n",
      "Requirement already satisfied: typing-extensions in /home/codespace/.local/lib/python3.12/site-packages (from qiskit==1.*->pyriemann_qiskit) (4.9.0)\n",
      "Requirement already satisfied: symengine<0.14,>=0.11 in /usr/local/python/3.12.1/lib/python3.12/site-packages (from qiskit==1.*->pyriemann_qiskit) (0.13.0)\n",
      "Requirement already satisfied: psutil>=5 in /home/codespace/.local/lib/python3.12/site-packages (from qiskit-aer==0.14.1->pyriemann_qiskit) (6.0.0)\n",
      "Requirement already satisfied: requests>=2.19 in /home/codespace/.local/lib/python3.12/site-packages (from qiskit-ibm-runtime==0.23.0->pyriemann_qiskit) (2.32.3)\n",
      "Requirement already satisfied: requests-ntlm>=1.1.0 in /usr/local/python/3.12.1/lib/python3.12/site-packages (from qiskit-ibm-runtime==0.23.0->pyriemann_qiskit) (1.3.0)\n",
      "Requirement already satisfied: urllib3>=1.21.1 in /home/codespace/.local/lib/python3.12/site-packages (from qiskit-ibm-runtime==0.23.0->pyriemann_qiskit) (2.2.3)\n",
      "Requirement already satisfied: websocket-client>=1.5.1 in /home/codespace/.local/lib/python3.12/site-packages (from qiskit-ibm-runtime==0.23.0->pyriemann_qiskit) (1.8.0)\n",
      "Requirement already satisfied: ibm-platform-services>=0.22.6 in /usr/local/python/3.12.1/lib/python3.12/site-packages (from qiskit-ibm-runtime==0.23.0->pyriemann_qiskit) (0.57.1)\n",
      "Requirement already satisfied: pydantic in /usr/local/python/3.12.1/lib/python3.12/site-packages (from qiskit-ibm-runtime==0.23.0->pyriemann_qiskit) (2.9.2)\n",
      "Requirement already satisfied: fastdtw in /usr/local/python/3.12.1/lib/python3.12/site-packages (from qiskit-machine-learning==0.7.2->pyriemann_qiskit) (0.3.4)\n",
      "Requirement already satisfied: setuptools>=40.1.0 in /home/codespace/.local/lib/python3.12/site-packages (from qiskit-machine-learning==0.7.2->pyriemann_qiskit) (75.1.0)\n",
      "Requirement already satisfied: networkx>=2.6.3 in /home/codespace/.local/lib/python3.12/site-packages (from qiskit-optimization==0.6.1->pyriemann_qiskit) (3.2.1)\n",
      "Requirement already satisfied: threadpoolctl>=2.0.0 in /home/codespace/.local/lib/python3.12/site-packages (from scikit-learn==1.4.2->pyriemann_qiskit) (3.5.0)\n",
      "Requirement already satisfied: pytz>=2020.1 in /home/codespace/.local/lib/python3.12/site-packages (from pandas->pyriemann_qiskit) (2024.2)\n",
      "Requirement already satisfied: tzdata>=2022.7 in /home/codespace/.local/lib/python3.12/site-packages (from pandas->pyriemann_qiskit) (2024.1)\n",
      "Requirement already satisfied: msgpack<2.0.0,>=0.5.2 in /usr/local/python/3.12.1/lib/python3.12/site-packages (from cachecontrol>=0.12.6->firebase-admin==6.5.0->pyriemann_qiskit) (1.1.0)\n",
      "Requirement already satisfied: proto-plus<2.0.0dev,>=1.22.3 in /usr/local/python/3.12.1/lib/python3.12/site-packages (from google-api-core<3.0.0dev,>=1.22.1->google-api-core[grpc]<3.0.0dev,>=1.22.1; platform_python_implementation != \"PyPy\"->firebase-admin==6.5.0->pyriemann_qiskit) (1.24.0)\n",
      "Requirement already satisfied: google-auth<3.0.dev0,>=2.14.1 in /usr/local/python/3.12.1/lib/python3.12/site-packages (from google-api-core<3.0.0dev,>=1.22.1->google-api-core[grpc]<3.0.0dev,>=1.22.1; platform_python_implementation != \"PyPy\"->firebase-admin==6.5.0->pyriemann_qiskit) (2.35.0)\n",
      "Requirement already satisfied: httplib2<1.dev0,>=0.19.0 in /usr/local/python/3.12.1/lib/python3.12/site-packages (from google-api-python-client>=1.7.8->firebase-admin==6.5.0->pyriemann_qiskit) (0.22.0)\n",
      "Requirement already satisfied: google-auth-httplib2<1.0.0,>=0.2.0 in /usr/local/python/3.12.1/lib/python3.12/site-packages (from google-api-python-client>=1.7.8->firebase-admin==6.5.0->pyriemann_qiskit) (0.2.0)\n",
      "Requirement already satisfied: uritemplate<5,>=3.0.1 in /usr/local/python/3.12.1/lib/python3.12/site-packages (from google-api-python-client>=1.7.8->firebase-admin==6.5.0->pyriemann_qiskit) (4.1.1)\n",
      "Requirement already satisfied: google-cloud-core<3.0.0dev,>=1.4.1 in /usr/local/python/3.12.1/lib/python3.12/site-packages (from google-cloud-firestore>=2.9.1->firebase-admin==6.5.0->pyriemann_qiskit) (2.4.1)\n",
      "Requirement already satisfied: google-resumable-media>=2.7.2 in /usr/local/python/3.12.1/lib/python3.12/site-packages (from google-cloud-storage>=1.37.1->firebase-admin==6.5.0->pyriemann_qiskit) (2.7.2)\n",
      "Requirement already satisfied: google-crc32c<2.0dev,>=1.0 in /usr/local/python/3.12.1/lib/python3.12/site-packages (from google-cloud-storage>=1.37.1->firebase-admin==6.5.0->pyriemann_qiskit) (1.6.0)\n",
      "Requirement already satisfied: ibm-cloud-sdk-core<4.0.0,>=3.21.0 in /usr/local/python/3.12.1/lib/python3.12/site-packages (from ibm-platform-services>=0.22.6->qiskit-ibm-runtime==0.23.0->pyriemann_qiskit) (3.21.0)\n",
      "Requirement already satisfied: qdldl in /usr/local/python/3.12.1/lib/python3.12/site-packages (from osqp>=0.6.2->cvxpy==1.4.2->pyriemann_qiskit) (0.1.7.post4)\n",
      "Requirement already satisfied: cryptography>=3.4.0 in /usr/local/python/3.12.1/lib/python3.12/site-packages (from pyjwt[crypto]>=2.5.0->firebase-admin==6.5.0->pyriemann_qiskit) (43.0.1)\n",
      "Requirement already satisfied: charset-normalizer<4,>=2 in /home/codespace/.local/lib/python3.12/site-packages (from requests>=2.19->qiskit-ibm-runtime==0.23.0->pyriemann_qiskit) (3.3.2)\n",
      "Requirement already satisfied: idna<4,>=2.5 in /home/codespace/.local/lib/python3.12/site-packages (from requests>=2.19->qiskit-ibm-runtime==0.23.0->pyriemann_qiskit) (3.10)\n",
      "Requirement already satisfied: certifi>=2017.4.17 in /home/codespace/.local/lib/python3.12/site-packages (from requests>=2.19->qiskit-ibm-runtime==0.23.0->pyriemann_qiskit) (2024.8.30)\n",
      "Requirement already satisfied: pyspnego>=0.4.0 in /usr/local/python/3.12.1/lib/python3.12/site-packages (from requests-ntlm>=1.1.0->qiskit-ibm-runtime==0.23.0->pyriemann_qiskit) (0.11.1)\n",
      "Requirement already satisfied: pbr>=2.0.0 in /usr/local/python/3.12.1/lib/python3.12/site-packages (from stevedore>=3.0.0->qiskit==1.*->pyriemann_qiskit) (6.1.0)\n",
      "Requirement already satisfied: mpmath>=0.19 in /home/codespace/.local/lib/python3.12/site-packages (from sympy>=1.3->qiskit==1.*->pyriemann_qiskit) (1.3.0)\n",
      "Requirement already satisfied: contourpy>=1.0.1 in /home/codespace/.local/lib/python3.12/site-packages (from matplotlib->pyriemann==0.6->pyriemann_qiskit) (1.3.0)\n",
      "Requirement already satisfied: cycler>=0.10 in /home/codespace/.local/lib/python3.12/site-packages (from matplotlib->pyriemann==0.6->pyriemann_qiskit) (0.12.1)\n",
      "Requirement already satisfied: fonttools>=4.22.0 in /home/codespace/.local/lib/python3.12/site-packages (from matplotlib->pyriemann==0.6->pyriemann_qiskit) (4.54.0)\n",
      "Requirement already satisfied: kiwisolver>=1.3.1 in /home/codespace/.local/lib/python3.12/site-packages (from matplotlib->pyriemann==0.6->pyriemann_qiskit) (1.4.7)\n",
      "Requirement already satisfied: packaging>=20.0 in /home/codespace/.local/lib/python3.12/site-packages (from matplotlib->pyriemann==0.6->pyriemann_qiskit) (24.1)\n",
      "Requirement already satisfied: pillow>=8 in /home/codespace/.local/lib/python3.12/site-packages (from matplotlib->pyriemann==0.6->pyriemann_qiskit) (10.4.0)\n",
      "Requirement already satisfied: pyparsing>=2.3.1 in /home/codespace/.local/lib/python3.12/site-packages (from matplotlib->pyriemann==0.6->pyriemann_qiskit) (3.1.4)\n",
      "Requirement already satisfied: annotated-types>=0.6.0 in /usr/local/python/3.12.1/lib/python3.12/site-packages (from pydantic->qiskit-ibm-runtime==0.23.0->pyriemann_qiskit) (0.7.0)\n",
      "Requirement already satisfied: pydantic-core==2.23.4 in /usr/local/python/3.12.1/lib/python3.12/site-packages (from pydantic->qiskit-ibm-runtime==0.23.0->pyriemann_qiskit) (2.23.4)\n",
      "Requirement already satisfied: cffi>=1.12 in /home/codespace/.local/lib/python3.12/site-packages (from cryptography>=3.4.0->pyjwt[crypto]>=2.5.0->firebase-admin==6.5.0->pyriemann_qiskit) (1.17.1)\n",
      "Requirement already satisfied: cachetools<6.0,>=2.0.0 in /usr/local/python/3.12.1/lib/python3.12/site-packages (from google-auth<3.0.dev0,>=2.14.1->google-api-core<3.0.0dev,>=1.22.1->google-api-core[grpc]<3.0.0dev,>=1.22.1; platform_python_implementation != \"PyPy\"->firebase-admin==6.5.0->pyriemann_qiskit) (5.5.0)\n",
      "Requirement already satisfied: pyasn1-modules>=0.2.1 in /usr/local/python/3.12.1/lib/python3.12/site-packages (from google-auth<3.0.dev0,>=2.14.1->google-api-core<3.0.0dev,>=1.22.1->google-api-core[grpc]<3.0.0dev,>=1.22.1; platform_python_implementation != \"PyPy\"->firebase-admin==6.5.0->pyriemann_qiskit) (0.4.1)\n",
      "Requirement already satisfied: rsa<5,>=3.1.4 in /usr/local/python/3.12.1/lib/python3.12/site-packages (from google-auth<3.0.dev0,>=2.14.1->google-api-core<3.0.0dev,>=1.22.1->google-api-core[grpc]<3.0.0dev,>=1.22.1; platform_python_implementation != \"PyPy\"->firebase-admin==6.5.0->pyriemann_qiskit) (4.9)\n",
      "Requirement already satisfied: pycparser in /home/codespace/.local/lib/python3.12/site-packages (from cffi>=1.12->cryptography>=3.4.0->pyjwt[crypto]>=2.5.0->firebase-admin==6.5.0->pyriemann_qiskit) (2.22)\n",
      "Requirement already satisfied: pyasn1<0.7.0,>=0.4.6 in /usr/local/python/3.12.1/lib/python3.12/site-packages (from pyasn1-modules>=0.2.1->google-auth<3.0.dev0,>=2.14.1->google-api-core<3.0.0dev,>=1.22.1->google-api-core[grpc]<3.0.0dev,>=1.22.1; platform_python_implementation != \"PyPy\"->firebase-admin==6.5.0->pyriemann_qiskit) (0.6.1)\n",
      "Note: you may need to restart the kernel to use updated packages.\n"
     ]
    }
   ],
   "source": [
    "%pip install pyriemann_qiskit"
   ]
  },
  {
   "cell_type": "code",
   "execution_count": 72,
   "metadata": {},
   "outputs": [
    {
     "name": "stdout",
     "output_type": "stream",
     "text": [
      "The autoreload extension is already loaded. To reload it, use:\n",
      "  %reload_ext autoreload\n"
     ]
    }
   ],
   "source": [
    "import numpy as np\n",
    "import pandas as pd\n",
    "import seaborn as sns\n",
    "\n",
    "from sklearn import svm\n",
    "\n",
    "from sklearn.decomposition import PCA\n",
    "from sklearn.pipeline import make_pipeline\n",
    "from sklearn.base import TransformerMixin\n",
    "\n",
    "from src.utils import load_and_regularize_covariance_matrices, calculate_covariance_means\n",
    "from pyriemann_qiskit.classification import QuanticSVM, QuanticNCH\n",
    "from pyriemann.classification import MDM\n",
    "from pyriemann.tangentspace import TangentSpace\n",
    "\n",
    "from sklearn.metrics import balanced_accuracy_score\n",
    "from sklearn.model_selection import StratifiedKFold, cross_val_score, GridSearchCV, train_test_split, KFold, StratifiedShuffleSplit\n",
    "from sklearn.inspection import DecisionBoundaryDisplay\n",
    "from pyriemann_qiskit.utils.hyper_params_factory import gen_x_feature_map, gen_z_feature_map\n",
    "\n",
    "from sklearn.discriminant_analysis import LinearDiscriminantAnalysis as LDA\n",
    "from pyriemann_qiskit.ensemble import JudgeClassifier\n",
    "from sklearn.ensemble import RandomForestClassifier\n",
    "\n",
    "from pyriemann_qiskit.visualization.manifold import plot_manifold\n",
    "from pyriemann.utils.viz import plot_biscatter, plot_bihist, plot_cov_ellipse\n",
    "from pyriemann.utils import mean_covariance\n",
    "from pyriemann.spatialfilters import CSP, SPoC\n",
    "\n",
    "from src.utils import load_and_split_subjects_by_group, calculate_mean_covariances_per_subject, calculate_covariances_per_subject_and_frame\n",
    "\n",
    "from matplotlib import pyplot as plt\n",
    "\n",
    "%load_ext autoreload\n",
    "%autoreload 2"
   ]
  },
  {
   "cell_type": "markdown",
   "metadata": {},
   "source": [
    "# Define custom spatial filtering"
   ]
  },
  {
   "cell_type": "code",
   "execution_count": 5,
   "metadata": {},
   "outputs": [],
   "source": [
    "class PCA_SPD(TransformerMixin):\n",
    "    def __init__(self, n_components):\n",
    "        self.n_components = n_components\n",
    "    \n",
    "    def set_params(self, **parameters):\n",
    "        for parameter, value in parameters.items():\n",
    "            setattr(self, parameter, value)\n",
    "        return self\n",
    "\n",
    "    def fit(self, X, y):\n",
    "        return self\n",
    "    \n",
    "    def transform(self, X, y=None):\n",
    "        X = np.array(X)\n",
    "        new_dataset = np.zeros((X.shape[0], self.n_components, self.n_components))\n",
    "        for i in range(X.shape[0]):\n",
    "            covariance_to_reduce = X[i]\n",
    "            eigenvalues, eigenvectors = np.linalg.eigh(covariance_to_reduce) # Calculate eigenvalues and eigenvectors            \n",
    "            idx = eigenvalues.argsort()[::-1] # Sort eigenvalues in descending order\n",
    "            eigenvectors = eigenvectors[:,idx][:,:self.n_components] # Sort eigenvectors according to eigenvalues and get the first n_components\n",
    "            reduced_covariance = eigenvectors.T @ np.diag(eigenvalues) @ eigenvectors            \n",
    "            new_dataset[i] = reduced_covariance            \n",
    "        return new_dataset "
   ]
  },
  {
   "cell_type": "markdown",
   "metadata": {},
   "source": [
    "# Extract data"
   ]
  },
  {
   "cell_type": "code",
   "execution_count": 135,
   "metadata": {},
   "outputs": [],
   "source": [
    "metric=\"logeuclid\"\n",
    "def batch_covs(dataset, batch_size=100):\n",
    "    n_subject = len(dataset)\n",
    "    n_video = len(dataset[0])\n",
    "    covs = []\n",
    "    for subject in range(n_subject):\n",
    "        for video in range(n_video):\n",
    "            n_frames = len(dataset[subject][video])\n",
    "            for start_batch in range(0, n_frames, batch_size):\n",
    "                end_betch = min(start_batch + batch_size, n_frames)\n",
    "                frames = dataset[subject][video][start_batch:end_betch]\n",
    "                m = mean_covariance(frames, metric=metric)\n",
    "                covs.append(m)\n",
    "    return np.array(covs)"
   ]
  },
  {
   "cell_type": "code",
   "execution_count": 136,
   "metadata": {},
   "outputs": [],
   "source": [
    "\n",
    "trainval_control_subjects, trainval_parkinson_subjects, test_control_subjects, test_parkinson_subjects, subject_covariances = load_and_split_subjects_by_group(pickle_file_path='data/densetnet201-4-CovsDict.pkl')\n",
    "trainval_control_covs = calculate_covariances_per_subject_and_frame(subject_covariances = subject_covariances,\n",
    "                                                               ids = trainval_control_subjects)\n",
    "trainval_parkinnson_covs = calculate_covariances_per_subject_and_frame(subject_covariances = subject_covariances,\n",
    "                                                                    ids = trainval_parkinson_subjects)\n",
    "test_control_covs = calculate_covariances_per_subject_and_frame(subject_covariances = subject_covariances,\n",
    "                                                            ids = test_control_subjects)\n",
    "test_parkinson_covs = calculate_covariances_per_subject_and_frame(subject_covariances = subject_covariances,\n",
    "                                                             ids = test_parkinson_subjects)"
   ]
  },
  {
   "cell_type": "code",
   "execution_count": 137,
   "metadata": {},
   "outputs": [],
   "source": [
    "c_dataset = trainval_control_covs\n",
    "c_dataset.extend(test_control_covs)\n",
    "\n",
    "pk_dataset = trainval_parkinnson_covs\n",
    "pk_dataset.extend(test_parkinson_covs)"
   ]
  },
  {
   "cell_type": "code",
   "execution_count": 138,
   "metadata": {},
   "outputs": [
    {
     "name": "stdout",
     "output_type": "stream",
     "text": [
      "c_len=184\n",
      "pk_len=112\n"
     ]
    }
   ],
   "source": [
    "# c_dataset = load_and_regularize_covariance_matrices(deep_features_type='covs_DN20', group_type='CG')\n",
    "c_dataset_covs = batch_covs(c_dataset)\n",
    "c_len = len(c_dataset_covs)\n",
    "print(f'c_len={c_len}')\n",
    "# pk_dataset = load_and_regularize_covariance_matrices(deep_features_type='covs_DN20', group_type='PG')\n",
    "pk_dataset_covs = batch_covs(pk_dataset)\n",
    "pk_len = len(pk_dataset_covs)\n",
    "print(f'pk_len={pk_len}')\n",
    "X = np.concatenate([c_dataset_covs, pk_dataset_covs], axis=0)\n",
    "y = np.concatenate([np.zeros(c_len), np.ones(pk_len)])"
   ]
  },
  {
   "cell_type": "markdown",
   "metadata": {},
   "source": [
    "# Visualize data"
   ]
  },
  {
   "cell_type": "code",
   "execution_count": 139,
   "metadata": {},
   "outputs": [
    {
     "data": {
      "image/png": "[encoded data removed]",
      "text/plain": [
       "<Figure size 700x700 with 1 Axes>"
      ]
     },
     "metadata": {},
     "output_type": "display_data"
    }
   ],
   "source": [
    "fig, ax = plt.subplots(figsize=(7, 7))\n",
    "ax.set_title(\"Mean covariances projection in 2d\")\n",
    "sf = CSP(nfilter=2, log=False)\n",
    "# sf = PCA_SPD(n_components=2)\n",
    "X2x2 = sf.fit(X, y).transform(X)\n",
    "c_meancov = mean_covariance(X2x2[:c_len], metric=metric)\n",
    "plot_cov_ellipse(ax, c_meancov, edgecolor=\"blue\")\n",
    "pk_meancov = mean_covariance(X2x2[c_len:], metric=metric)\n",
    "plot_cov_ellipse(ax, pk_meancov, edgecolor=\"red\")\n",
    "min_, max_ = -2, 2\n",
    "ax.set_xlim(min_, max_)\n",
    "ax.set_ylim(min_, max_)\n",
    "plt.show()"
   ]
  },
  {
   "cell_type": "code",
   "execution_count": 131,
   "metadata": {},
   "outputs": [
    {
     "data": {
      "image/png": "[encoded data removed]",
      "text/plain": [
       "<Figure size 300x300 with 2 Axes>"
      ]
     },
     "metadata": {},
     "output_type": "display_data"
    }
   ],
   "source": [
    "fig, axes = plt.subplots(1, 2, figsize=(2 * 1.5, 2 * 1.5))    \n",
    "sf = CSP(nfilter=3, log=False)\n",
    "# sf = PCA_SPD(n_components=3)  \n",
    "X3x3 = sf.fit(X, y).transform(X)       \n",
    "c_meancov = mean_covariance(X3x3[:c_len], metric=metric)\n",
    "pk_meancov = mean_covariance(X3x3[c_len:], metric=metric)\n",
    "axes[0].imshow(c_meancov, cmap='coolwarm',)  \n",
    "axes[1].imshow(pk_meancov, cmap='coolwarm')  \n",
    "\n",
    "plt.tight_layout()\n",
    "plt.show()"
   ]
  },
  {
   "cell_type": "code",
   "execution_count": 132,
   "metadata": {},
   "outputs": [
    {
     "data": {
      "image/png": "[encoded data removed]",
      "text/plain": [
       "<Figure size 640x480 with 1 Axes>"
      ]
     },
     "execution_count": 132,
     "metadata": {},
     "output_type": "execute_result"
    },
    {
     "data": {
      "image/png": "[encoded data removed]",
      "text/plain": [
       "<Figure size 640x480 with 1 Axes>"
      ]
     },
     "metadata": {},
     "output_type": "display_data"
    }
   ],
   "source": [
    "labels = np.array([''] * len(y))\n",
    "labels[y == 0] = 'c'\n",
    "labels[y == 1] = 'pk'\n",
    "plot_manifold(X2x2, labels, False)"
   ]
  },
  {
   "cell_type": "markdown",
   "metadata": {},
   "source": [
    "# Define pipelines"
   ]
  },
  {
   "cell_type": "code",
   "execution_count": 133,
   "metadata": {},
   "outputs": [
    {
     "name": "stdout",
     "output_type": "stream",
     "text": [
      "[QClass]  Initializing Quantum Classifier\n",
      "[QClass]  Initializing Quantum Classifier\n",
      "[QClass]  Initializing Quantum Classifier\n",
      "[QClass]  Initializing Quantum Classifier\n"
     ]
    }
   ],
   "source": [
    "sf = CSP(nfilter=4, log=False)\n",
    "# sf = PCA_SPD(n_components=2)\n",
    "pipe_ts_svm = make_pipeline(TangentSpace(metric=metric), svm.SVC())\n",
    "pipe_ts_qsvm = make_pipeline(TangentSpace(metric=metric), PCA(n_components=10), QuanticSVM())\n",
    "pipe_ts_qsvm2 = make_pipeline(\n",
    "    # Whitening(metric=\"logeuclid\", dim_red={'n_components': 2}),\n",
    "    # PCA_SPD(n_components=2),\n",
    "    sf,\n",
    "    TangentSpace(metric=metric),\n",
    "    QuanticSVM(gen_feature_map=gen_x_feature_map(reps=2)))\n",
    "pipe_mdm = make_pipeline(\n",
    "    sf,\n",
    "    MDM(metric=metric))\n",
    "pipe_nch = make_pipeline(\n",
    "    sf,\n",
    "    QuanticNCH(\n",
    "        n_hulls_per_class=1,\n",
    "        n_samples_per_hull=3,\n",
    "        n_jobs=12,\n",
    "        subsampling=\"random\",\n",
    "        quantum=False,\n",
    "    )\n",
    ")\n",
    "pipe_classical = make_pipeline(\n",
    "    sf,\n",
    "    TangentSpace(metric=metric),\n",
    "    svm.SVC()\n",
    ")\n",
    "pipe_lda = make_pipeline(\n",
    "    sf,\n",
    "    TangentSpace(metric=metric),\n",
    "    svm.SVC()\n",
    ")\n",
    "pipe_ens = make_pipeline(\n",
    "    sf,\n",
    "    TangentSpace(metric=metric),\n",
    "    JudgeClassifier(\n",
    "        clfs=[LDA(),QuanticSVM(gen_feature_map=gen_x_feature_map(), pegasos=False)],\n",
    "        judge=RandomForestClassifier(n_estimators=100)\n",
    "    )\n",
    ")"
   ]
  },
  {
   "cell_type": "markdown",
   "metadata": {},
   "source": [
    "# Evaluate"
   ]
  },
  {
   "cell_type": "code",
   "execution_count": 134,
   "metadata": {},
   "outputs": [
    {
     "name": "stderr",
     "output_type": "stream",
     "text": [
      "WARNING:root:FidelityQuantumKernel skipped because of time.\n",
      "                    Using FidelityStatevectorKernel with AerStatevector.\n",
      "                    Seed cannot be set with FidelityStatevectorKernel.\n",
      "                    Increase the number of shots to diminish the noise.\n"
     ]
    },
    {
     "name": "stdout",
     "output_type": "stream",
     "text": [
      "[QClass]  Initializing Quantum Classifier\n",
      "[QClass]  Quantum simulation will be performed\n",
      "GPU optimization disabled. No device found.\n",
      "[QClass]  Fitting:  (532, 10)\n",
      "[QClass]  Feature dimension =  10\n",
      "[QClass]  Quantum backend =  AerSimulator('aer_simulator_statevector')\n",
      "[QClass]  seed =  964524\n",
      "[QClass]  SVM initiating algorithm\n",
      "[QClass]  Training...\n"
     ]
    },
    {
     "name": "stderr",
     "output_type": "stream",
     "text": [
      "WARNING:root:FidelityQuantumKernel skipped because of time.\n",
      "                    Using FidelityStatevectorKernel with AerStatevector.\n",
      "                    Seed cannot be set with FidelityStatevectorKernel.\n",
      "                    Increase the number of shots to diminish the noise.\n"
     ]
    },
    {
     "name": "stdout",
     "output_type": "stream",
     "text": [
      "[QClass]  Prediction finished.\n",
      "[QClass]  Initializing Quantum Classifier\n",
      "[QClass]  Quantum simulation will be performed\n",
      "GPU optimization disabled. No device found.\n",
      "[QClass]  Fitting:  (532, 10)\n",
      "[QClass]  Feature dimension =  10\n",
      "[QClass]  Quantum backend =  AerSimulator('aer_simulator_statevector')\n",
      "[QClass]  seed =  964524\n",
      "[QClass]  SVM initiating algorithm\n",
      "[QClass]  Training...\n"
     ]
    },
    {
     "name": "stderr",
     "output_type": "stream",
     "text": [
      "WARNING:root:FidelityQuantumKernel skipped because of time.\n",
      "                    Using FidelityStatevectorKernel with AerStatevector.\n",
      "                    Seed cannot be set with FidelityStatevectorKernel.\n",
      "                    Increase the number of shots to diminish the noise.\n"
     ]
    },
    {
     "name": "stdout",
     "output_type": "stream",
     "text": [
      "[QClass]  Prediction finished.\n",
      "[QClass]  Initializing Quantum Classifier\n",
      "[QClass]  Quantum simulation will be performed\n",
      "GPU optimization disabled. No device found.\n",
      "[QClass]  Fitting:  (533, 10)\n",
      "[QClass]  Feature dimension =  10\n",
      "[QClass]  Quantum backend =  AerSimulator('aer_simulator_statevector')\n",
      "[QClass]  seed =  964524\n",
      "[QClass]  SVM initiating algorithm\n",
      "[QClass]  Training...\n"
     ]
    },
    {
     "ename": "KeyboardInterrupt",
     "evalue": "",
     "output_type": "error",
     "traceback": [
      "\u001b[0;31m---------------------------------------------------------------------------\u001b[0m",
      "\u001b[0;31mKeyboardInterrupt\u001b[0m                         Traceback (most recent call last)",
      "Cell \u001b[0;32mIn[134], line 4\u001b[0m\n\u001b[1;32m      2\u001b[0m \u001b[38;5;66;03m# cv = StratifiedShuffleSplit(n_splits=20, test_size=0.20)\u001b[39;00m\n\u001b[1;32m      3\u001b[0m scores_svm \u001b[38;5;241m=\u001b[39m cross_val_score(pipe_classical, X, y, scoring\u001b[38;5;241m=\u001b[39m\u001b[38;5;124m\"\u001b[39m\u001b[38;5;124mbalanced_accuracy\u001b[39m\u001b[38;5;124m\"\u001b[39m, cv\u001b[38;5;241m=\u001b[39mcv)\n\u001b[0;32m----> 4\u001b[0m scores_qsvm \u001b[38;5;241m=\u001b[39m \u001b[43mcross_val_score\u001b[49m\u001b[43m(\u001b[49m\u001b[43mpipe_ts_qsvm2\u001b[49m\u001b[43m,\u001b[49m\u001b[43m \u001b[49m\u001b[43mX\u001b[49m\u001b[43m,\u001b[49m\u001b[43m \u001b[49m\u001b[43my\u001b[49m\u001b[43m,\u001b[49m\u001b[43m \u001b[49m\u001b[43mscoring\u001b[49m\u001b[38;5;241;43m=\u001b[39;49m\u001b[38;5;124;43m\"\u001b[39;49m\u001b[38;5;124;43mbalanced_accuracy\u001b[39;49m\u001b[38;5;124;43m\"\u001b[39;49m\u001b[43m,\u001b[49m\u001b[43m \u001b[49m\u001b[43mcv\u001b[49m\u001b[38;5;241;43m=\u001b[39;49m\u001b[43mcv\u001b[49m\u001b[43m)\u001b[49m\n\u001b[1;32m      5\u001b[0m \u001b[38;5;28mprint\u001b[39m(\u001b[38;5;124mf\u001b[39m\u001b[38;5;124m'\u001b[39m\u001b[38;5;124mscores svm: \u001b[39m\u001b[38;5;132;01m{\u001b[39;00mscores_svm\u001b[38;5;241m.\u001b[39mmean()\u001b[38;5;132;01m}\u001b[39;00m\u001b[38;5;124m \u001b[39m\u001b[38;5;132;01m{\u001b[39;00mscores_svm\u001b[38;5;132;01m}\u001b[39;00m\u001b[38;5;124m'\u001b[39m)\n\u001b[1;32m      6\u001b[0m \u001b[38;5;28mprint\u001b[39m(\u001b[38;5;124mf\u001b[39m\u001b[38;5;124m'\u001b[39m\u001b[38;5;124mscores qsvm: \u001b[39m\u001b[38;5;132;01m{\u001b[39;00mscores_qsvm\u001b[38;5;241m.\u001b[39mmean()\u001b[38;5;132;01m}\u001b[39;00m\u001b[38;5;124m \u001b[39m\u001b[38;5;132;01m{\u001b[39;00mscores_qsvm\u001b[38;5;132;01m}\u001b[39;00m\u001b[38;5;124m'\u001b[39m)\n",
      "File \u001b[0;32m/usr/local/python/3.12.1/lib/python3.12/site-packages/sklearn/utils/_param_validation.py:213\u001b[0m, in \u001b[0;36mvalidate_params.<locals>.decorator.<locals>.wrapper\u001b[0;34m(*args, **kwargs)\u001b[0m\n\u001b[1;32m    207\u001b[0m \u001b[38;5;28;01mtry\u001b[39;00m:\n\u001b[1;32m    208\u001b[0m     \u001b[38;5;28;01mwith\u001b[39;00m config_context(\n\u001b[1;32m    209\u001b[0m         skip_parameter_validation\u001b[38;5;241m=\u001b[39m(\n\u001b[1;32m    210\u001b[0m             prefer_skip_nested_validation \u001b[38;5;129;01mor\u001b[39;00m global_skip_validation\n\u001b[1;32m    211\u001b[0m         )\n\u001b[1;32m    212\u001b[0m     ):\n\u001b[0;32m--> 213\u001b[0m         \u001b[38;5;28;01mreturn\u001b[39;00m \u001b[43mfunc\u001b[49m\u001b[43m(\u001b[49m\u001b[38;5;241;43m*\u001b[39;49m\u001b[43margs\u001b[49m\u001b[43m,\u001b[49m\u001b[43m \u001b[49m\u001b[38;5;241;43m*\u001b[39;49m\u001b[38;5;241;43m*\u001b[39;49m\u001b[43mkwargs\u001b[49m\u001b[43m)\u001b[49m\n\u001b[1;32m    214\u001b[0m \u001b[38;5;28;01mexcept\u001b[39;00m InvalidParameterError \u001b[38;5;28;01mas\u001b[39;00m e:\n\u001b[1;32m    215\u001b[0m     \u001b[38;5;66;03m# When the function is just a wrapper around an estimator, we allow\u001b[39;00m\n\u001b[1;32m    216\u001b[0m     \u001b[38;5;66;03m# the function to delegate validation to the estimator, but we replace\u001b[39;00m\n\u001b[1;32m    217\u001b[0m     \u001b[38;5;66;03m# the name of the estimator by the name of the function in the error\u001b[39;00m\n\u001b[1;32m    218\u001b[0m     \u001b[38;5;66;03m# message to avoid confusion.\u001b[39;00m\n\u001b[1;32m    219\u001b[0m     msg \u001b[38;5;241m=\u001b[39m re\u001b[38;5;241m.\u001b[39msub(\n\u001b[1;32m    220\u001b[0m         \u001b[38;5;124mr\u001b[39m\u001b[38;5;124m\"\u001b[39m\u001b[38;5;124mparameter of \u001b[39m\u001b[38;5;124m\\\u001b[39m\u001b[38;5;124mw+ must be\u001b[39m\u001b[38;5;124m\"\u001b[39m,\n\u001b[1;32m    221\u001b[0m         \u001b[38;5;124mf\u001b[39m\u001b[38;5;124m\"\u001b[39m\u001b[38;5;124mparameter of \u001b[39m\u001b[38;5;132;01m{\u001b[39;00mfunc\u001b[38;5;241m.\u001b[39m\u001b[38;5;18m__qualname__\u001b[39m\u001b[38;5;132;01m}\u001b[39;00m\u001b[38;5;124m must be\u001b[39m\u001b[38;5;124m\"\u001b[39m,\n\u001b[1;32m    222\u001b[0m         \u001b[38;5;28mstr\u001b[39m(e),\n\u001b[1;32m    223\u001b[0m     )\n",
      "File \u001b[0;32m/usr/local/python/3.12.1/lib/python3.12/site-packages/sklearn/model_selection/_validation.py:719\u001b[0m, in \u001b[0;36mcross_val_score\u001b[0;34m(estimator, X, y, groups, scoring, cv, n_jobs, verbose, fit_params, params, pre_dispatch, error_score)\u001b[0m\n\u001b[1;32m    716\u001b[0m \u001b[38;5;66;03m# To ensure multimetric format is not supported\u001b[39;00m\n\u001b[1;32m    717\u001b[0m scorer \u001b[38;5;241m=\u001b[39m check_scoring(estimator, scoring\u001b[38;5;241m=\u001b[39mscoring)\n\u001b[0;32m--> 719\u001b[0m cv_results \u001b[38;5;241m=\u001b[39m \u001b[43mcross_validate\u001b[49m\u001b[43m(\u001b[49m\n\u001b[1;32m    720\u001b[0m \u001b[43m    \u001b[49m\u001b[43mestimator\u001b[49m\u001b[38;5;241;43m=\u001b[39;49m\u001b[43mestimator\u001b[49m\u001b[43m,\u001b[49m\n\u001b[1;32m    721\u001b[0m \u001b[43m    \u001b[49m\u001b[43mX\u001b[49m\u001b[38;5;241;43m=\u001b[39;49m\u001b[43mX\u001b[49m\u001b[43m,\u001b[49m\n\u001b[1;32m    722\u001b[0m \u001b[43m    \u001b[49m\u001b[43my\u001b[49m\u001b[38;5;241;43m=\u001b[39;49m\u001b[43my\u001b[49m\u001b[43m,\u001b[49m\n\u001b[1;32m    723\u001b[0m \u001b[43m    \u001b[49m\u001b[43mgroups\u001b[49m\u001b[38;5;241;43m=\u001b[39;49m\u001b[43mgroups\u001b[49m\u001b[43m,\u001b[49m\n\u001b[1;32m    724\u001b[0m \u001b[43m    \u001b[49m\u001b[43mscoring\u001b[49m\u001b[38;5;241;43m=\u001b[39;49m\u001b[43m{\u001b[49m\u001b[38;5;124;43m\"\u001b[39;49m\u001b[38;5;124;43mscore\u001b[39;49m\u001b[38;5;124;43m\"\u001b[39;49m\u001b[43m:\u001b[49m\u001b[43m \u001b[49m\u001b[43mscorer\u001b[49m\u001b[43m}\u001b[49m\u001b[43m,\u001b[49m\n\u001b[1;32m    725\u001b[0m \u001b[43m    \u001b[49m\u001b[43mcv\u001b[49m\u001b[38;5;241;43m=\u001b[39;49m\u001b[43mcv\u001b[49m\u001b[43m,\u001b[49m\n\u001b[1;32m    726\u001b[0m \u001b[43m    \u001b[49m\u001b[43mn_jobs\u001b[49m\u001b[38;5;241;43m=\u001b[39;49m\u001b[43mn_jobs\u001b[49m\u001b[43m,\u001b[49m\n\u001b[1;32m    727\u001b[0m \u001b[43m    \u001b[49m\u001b[43mverbose\u001b[49m\u001b[38;5;241;43m=\u001b[39;49m\u001b[43mverbose\u001b[49m\u001b[43m,\u001b[49m\n\u001b[1;32m    728\u001b[0m \u001b[43m    \u001b[49m\u001b[43mfit_params\u001b[49m\u001b[38;5;241;43m=\u001b[39;49m\u001b[43mfit_params\u001b[49m\u001b[43m,\u001b[49m\n\u001b[1;32m    729\u001b[0m \u001b[43m    \u001b[49m\u001b[43mparams\u001b[49m\u001b[38;5;241;43m=\u001b[39;49m\u001b[43mparams\u001b[49m\u001b[43m,\u001b[49m\n\u001b[1;32m    730\u001b[0m \u001b[43m    \u001b[49m\u001b[43mpre_dispatch\u001b[49m\u001b[38;5;241;43m=\u001b[39;49m\u001b[43mpre_dispatch\u001b[49m\u001b[43m,\u001b[49m\n\u001b[1;32m    731\u001b[0m \u001b[43m    \u001b[49m\u001b[43merror_score\u001b[49m\u001b[38;5;241;43m=\u001b[39;49m\u001b[43merror_score\u001b[49m\u001b[43m,\u001b[49m\n\u001b[1;32m    732\u001b[0m \u001b[43m\u001b[49m\u001b[43m)\u001b[49m\n\u001b[1;32m    733\u001b[0m \u001b[38;5;28;01mreturn\u001b[39;00m cv_results[\u001b[38;5;124m\"\u001b[39m\u001b[38;5;124mtest_score\u001b[39m\u001b[38;5;124m\"\u001b[39m]\n",
      "File \u001b[0;32m/usr/local/python/3.12.1/lib/python3.12/site-packages/sklearn/utils/_param_validation.py:213\u001b[0m, in \u001b[0;36mvalidate_params.<locals>.decorator.<locals>.wrapper\u001b[0;34m(*args, **kwargs)\u001b[0m\n\u001b[1;32m    207\u001b[0m \u001b[38;5;28;01mtry\u001b[39;00m:\n\u001b[1;32m    208\u001b[0m     \u001b[38;5;28;01mwith\u001b[39;00m config_context(\n\u001b[1;32m    209\u001b[0m         skip_parameter_validation\u001b[38;5;241m=\u001b[39m(\n\u001b[1;32m    210\u001b[0m             prefer_skip_nested_validation \u001b[38;5;129;01mor\u001b[39;00m global_skip_validation\n\u001b[1;32m    211\u001b[0m         )\n\u001b[1;32m    212\u001b[0m     ):\n\u001b[0;32m--> 213\u001b[0m         \u001b[38;5;28;01mreturn\u001b[39;00m \u001b[43mfunc\u001b[49m\u001b[43m(\u001b[49m\u001b[38;5;241;43m*\u001b[39;49m\u001b[43margs\u001b[49m\u001b[43m,\u001b[49m\u001b[43m \u001b[49m\u001b[38;5;241;43m*\u001b[39;49m\u001b[38;5;241;43m*\u001b[39;49m\u001b[43mkwargs\u001b[49m\u001b[43m)\u001b[49m\n\u001b[1;32m    214\u001b[0m \u001b[38;5;28;01mexcept\u001b[39;00m InvalidParameterError \u001b[38;5;28;01mas\u001b[39;00m e:\n\u001b[1;32m    215\u001b[0m     \u001b[38;5;66;03m# When the function is just a wrapper around an estimator, we allow\u001b[39;00m\n\u001b[1;32m    216\u001b[0m     \u001b[38;5;66;03m# the function to delegate validation to the estimator, but we replace\u001b[39;00m\n\u001b[1;32m    217\u001b[0m     \u001b[38;5;66;03m# the name of the estimator by the name of the function in the error\u001b[39;00m\n\u001b[1;32m    218\u001b[0m     \u001b[38;5;66;03m# message to avoid confusion.\u001b[39;00m\n\u001b[1;32m    219\u001b[0m     msg \u001b[38;5;241m=\u001b[39m re\u001b[38;5;241m.\u001b[39msub(\n\u001b[1;32m    220\u001b[0m         \u001b[38;5;124mr\u001b[39m\u001b[38;5;124m\"\u001b[39m\u001b[38;5;124mparameter of \u001b[39m\u001b[38;5;124m\\\u001b[39m\u001b[38;5;124mw+ must be\u001b[39m\u001b[38;5;124m\"\u001b[39m,\n\u001b[1;32m    221\u001b[0m         \u001b[38;5;124mf\u001b[39m\u001b[38;5;124m\"\u001b[39m\u001b[38;5;124mparameter of \u001b[39m\u001b[38;5;132;01m{\u001b[39;00mfunc\u001b[38;5;241m.\u001b[39m\u001b[38;5;18m__qualname__\u001b[39m\u001b[38;5;132;01m}\u001b[39;00m\u001b[38;5;124m must be\u001b[39m\u001b[38;5;124m\"\u001b[39m,\n\u001b[1;32m    222\u001b[0m         \u001b[38;5;28mstr\u001b[39m(e),\n\u001b[1;32m    223\u001b[0m     )\n",
      "File \u001b[0;32m/usr/local/python/3.12.1/lib/python3.12/site-packages/sklearn/model_selection/_validation.py:430\u001b[0m, in \u001b[0;36mcross_validate\u001b[0;34m(estimator, X, y, groups, scoring, cv, n_jobs, verbose, fit_params, params, pre_dispatch, return_train_score, return_estimator, return_indices, error_score)\u001b[0m\n\u001b[1;32m    427\u001b[0m \u001b[38;5;66;03m# We clone the estimator to make sure that all the folds are\u001b[39;00m\n\u001b[1;32m    428\u001b[0m \u001b[38;5;66;03m# independent, and that it is pickle-able.\u001b[39;00m\n\u001b[1;32m    429\u001b[0m parallel \u001b[38;5;241m=\u001b[39m Parallel(n_jobs\u001b[38;5;241m=\u001b[39mn_jobs, verbose\u001b[38;5;241m=\u001b[39mverbose, pre_dispatch\u001b[38;5;241m=\u001b[39mpre_dispatch)\n\u001b[0;32m--> 430\u001b[0m results \u001b[38;5;241m=\u001b[39m \u001b[43mparallel\u001b[49m\u001b[43m(\u001b[49m\n\u001b[1;32m    431\u001b[0m \u001b[43m    \u001b[49m\u001b[43mdelayed\u001b[49m\u001b[43m(\u001b[49m\u001b[43m_fit_and_score\u001b[49m\u001b[43m)\u001b[49m\u001b[43m(\u001b[49m\n\u001b[1;32m    432\u001b[0m \u001b[43m        \u001b[49m\u001b[43mclone\u001b[49m\u001b[43m(\u001b[49m\u001b[43mestimator\u001b[49m\u001b[43m)\u001b[49m\u001b[43m,\u001b[49m\n\u001b[1;32m    433\u001b[0m \u001b[43m        \u001b[49m\u001b[43mX\u001b[49m\u001b[43m,\u001b[49m\n\u001b[1;32m    434\u001b[0m \u001b[43m        \u001b[49m\u001b[43my\u001b[49m\u001b[43m,\u001b[49m\n\u001b[1;32m    435\u001b[0m \u001b[43m        \u001b[49m\u001b[43mscorer\u001b[49m\u001b[38;5;241;43m=\u001b[39;49m\u001b[43mscorers\u001b[49m\u001b[43m,\u001b[49m\n\u001b[1;32m    436\u001b[0m \u001b[43m        \u001b[49m\u001b[43mtrain\u001b[49m\u001b[38;5;241;43m=\u001b[39;49m\u001b[43mtrain\u001b[49m\u001b[43m,\u001b[49m\n\u001b[1;32m    437\u001b[0m \u001b[43m        \u001b[49m\u001b[43mtest\u001b[49m\u001b[38;5;241;43m=\u001b[39;49m\u001b[43mtest\u001b[49m\u001b[43m,\u001b[49m\n\u001b[1;32m    438\u001b[0m \u001b[43m        \u001b[49m\u001b[43mverbose\u001b[49m\u001b[38;5;241;43m=\u001b[39;49m\u001b[43mverbose\u001b[49m\u001b[43m,\u001b[49m\n\u001b[1;32m    439\u001b[0m \u001b[43m        \u001b[49m\u001b[43mparameters\u001b[49m\u001b[38;5;241;43m=\u001b[39;49m\u001b[38;5;28;43;01mNone\u001b[39;49;00m\u001b[43m,\u001b[49m\n\u001b[1;32m    440\u001b[0m \u001b[43m        \u001b[49m\u001b[43mfit_params\u001b[49m\u001b[38;5;241;43m=\u001b[39;49m\u001b[43mrouted_params\u001b[49m\u001b[38;5;241;43m.\u001b[39;49m\u001b[43mestimator\u001b[49m\u001b[38;5;241;43m.\u001b[39;49m\u001b[43mfit\u001b[49m\u001b[43m,\u001b[49m\n\u001b[1;32m    441\u001b[0m \u001b[43m        \u001b[49m\u001b[43mscore_params\u001b[49m\u001b[38;5;241;43m=\u001b[39;49m\u001b[43mrouted_params\u001b[49m\u001b[38;5;241;43m.\u001b[39;49m\u001b[43mscorer\u001b[49m\u001b[38;5;241;43m.\u001b[39;49m\u001b[43mscore\u001b[49m\u001b[43m,\u001b[49m\n\u001b[1;32m    442\u001b[0m \u001b[43m        \u001b[49m\u001b[43mreturn_train_score\u001b[49m\u001b[38;5;241;43m=\u001b[39;49m\u001b[43mreturn_train_score\u001b[49m\u001b[43m,\u001b[49m\n\u001b[1;32m    443\u001b[0m \u001b[43m        \u001b[49m\u001b[43mreturn_times\u001b[49m\u001b[38;5;241;43m=\u001b[39;49m\u001b[38;5;28;43;01mTrue\u001b[39;49;00m\u001b[43m,\u001b[49m\n\u001b[1;32m    444\u001b[0m \u001b[43m        \u001b[49m\u001b[43mreturn_estimator\u001b[49m\u001b[38;5;241;43m=\u001b[39;49m\u001b[43mreturn_estimator\u001b[49m\u001b[43m,\u001b[49m\n\u001b[1;32m    445\u001b[0m \u001b[43m        \u001b[49m\u001b[43merror_score\u001b[49m\u001b[38;5;241;43m=\u001b[39;49m\u001b[43merror_score\u001b[49m\u001b[43m,\u001b[49m\n\u001b[1;32m    446\u001b[0m \u001b[43m    \u001b[49m\u001b[43m)\u001b[49m\n\u001b[1;32m    447\u001b[0m \u001b[43m    \u001b[49m\u001b[38;5;28;43;01mfor\u001b[39;49;00m\u001b[43m \u001b[49m\u001b[43mtrain\u001b[49m\u001b[43m,\u001b[49m\u001b[43m \u001b[49m\u001b[43mtest\u001b[49m\u001b[43m \u001b[49m\u001b[38;5;129;43;01min\u001b[39;49;00m\u001b[43m \u001b[49m\u001b[43mindices\u001b[49m\n\u001b[1;32m    448\u001b[0m \u001b[43m\u001b[49m\u001b[43m)\u001b[49m\n\u001b[1;32m    450\u001b[0m _warn_or_raise_about_fit_failures(results, error_score)\n\u001b[1;32m    452\u001b[0m \u001b[38;5;66;03m# For callable scoring, the return type is only know after calling. If the\u001b[39;00m\n\u001b[1;32m    453\u001b[0m \u001b[38;5;66;03m# return type is a dictionary, the error scores can now be inserted with\u001b[39;00m\n\u001b[1;32m    454\u001b[0m \u001b[38;5;66;03m# the correct key.\u001b[39;00m\n",
      "File \u001b[0;32m/usr/local/python/3.12.1/lib/python3.12/site-packages/sklearn/utils/parallel.py:67\u001b[0m, in \u001b[0;36mParallel.__call__\u001b[0;34m(self, iterable)\u001b[0m\n\u001b[1;32m     62\u001b[0m config \u001b[38;5;241m=\u001b[39m get_config()\n\u001b[1;32m     63\u001b[0m iterable_with_config \u001b[38;5;241m=\u001b[39m (\n\u001b[1;32m     64\u001b[0m     (_with_config(delayed_func, config), args, kwargs)\n\u001b[1;32m     65\u001b[0m     \u001b[38;5;28;01mfor\u001b[39;00m delayed_func, args, kwargs \u001b[38;5;129;01min\u001b[39;00m iterable\n\u001b[1;32m     66\u001b[0m )\n\u001b[0;32m---> 67\u001b[0m \u001b[38;5;28;01mreturn\u001b[39;00m \u001b[38;5;28;43msuper\u001b[39;49m\u001b[43m(\u001b[49m\u001b[43m)\u001b[49m\u001b[38;5;241;43m.\u001b[39;49m\u001b[38;5;21;43m__call__\u001b[39;49m\u001b[43m(\u001b[49m\u001b[43miterable_with_config\u001b[49m\u001b[43m)\u001b[49m\n",
      "File \u001b[0;32m~/.local/lib/python3.12/site-packages/joblib/parallel.py:1918\u001b[0m, in \u001b[0;36mParallel.__call__\u001b[0;34m(self, iterable)\u001b[0m\n\u001b[1;32m   1916\u001b[0m     output \u001b[38;5;241m=\u001b[39m \u001b[38;5;28mself\u001b[39m\u001b[38;5;241m.\u001b[39m_get_sequential_output(iterable)\n\u001b[1;32m   1917\u001b[0m     \u001b[38;5;28mnext\u001b[39m(output)\n\u001b[0;32m-> 1918\u001b[0m     \u001b[38;5;28;01mreturn\u001b[39;00m output \u001b[38;5;28;01mif\u001b[39;00m \u001b[38;5;28mself\u001b[39m\u001b[38;5;241m.\u001b[39mreturn_generator \u001b[38;5;28;01melse\u001b[39;00m \u001b[38;5;28;43mlist\u001b[39;49m\u001b[43m(\u001b[49m\u001b[43moutput\u001b[49m\u001b[43m)\u001b[49m\n\u001b[1;32m   1920\u001b[0m \u001b[38;5;66;03m# Let's create an ID that uniquely identifies the current call. If the\u001b[39;00m\n\u001b[1;32m   1921\u001b[0m \u001b[38;5;66;03m# call is interrupted early and that the same instance is immediately\u001b[39;00m\n\u001b[1;32m   1922\u001b[0m \u001b[38;5;66;03m# re-used, this id will be used to prevent workers that were\u001b[39;00m\n\u001b[1;32m   1923\u001b[0m \u001b[38;5;66;03m# concurrently finalizing a task from the previous call to run the\u001b[39;00m\n\u001b[1;32m   1924\u001b[0m \u001b[38;5;66;03m# callback.\u001b[39;00m\n\u001b[1;32m   1925\u001b[0m \u001b[38;5;28;01mwith\u001b[39;00m \u001b[38;5;28mself\u001b[39m\u001b[38;5;241m.\u001b[39m_lock:\n",
      "File \u001b[0;32m~/.local/lib/python3.12/site-packages/joblib/parallel.py:1847\u001b[0m, in \u001b[0;36mParallel._get_sequential_output\u001b[0;34m(self, iterable)\u001b[0m\n\u001b[1;32m   1845\u001b[0m \u001b[38;5;28mself\u001b[39m\u001b[38;5;241m.\u001b[39mn_dispatched_batches \u001b[38;5;241m+\u001b[39m\u001b[38;5;241m=\u001b[39m \u001b[38;5;241m1\u001b[39m\n\u001b[1;32m   1846\u001b[0m \u001b[38;5;28mself\u001b[39m\u001b[38;5;241m.\u001b[39mn_dispatched_tasks \u001b[38;5;241m+\u001b[39m\u001b[38;5;241m=\u001b[39m \u001b[38;5;241m1\u001b[39m\n\u001b[0;32m-> 1847\u001b[0m res \u001b[38;5;241m=\u001b[39m \u001b[43mfunc\u001b[49m\u001b[43m(\u001b[49m\u001b[38;5;241;43m*\u001b[39;49m\u001b[43margs\u001b[49m\u001b[43m,\u001b[49m\u001b[43m \u001b[49m\u001b[38;5;241;43m*\u001b[39;49m\u001b[38;5;241;43m*\u001b[39;49m\u001b[43mkwargs\u001b[49m\u001b[43m)\u001b[49m\n\u001b[1;32m   1848\u001b[0m \u001b[38;5;28mself\u001b[39m\u001b[38;5;241m.\u001b[39mn_completed_tasks \u001b[38;5;241m+\u001b[39m\u001b[38;5;241m=\u001b[39m \u001b[38;5;241m1\u001b[39m\n\u001b[1;32m   1849\u001b[0m \u001b[38;5;28mself\u001b[39m\u001b[38;5;241m.\u001b[39mprint_progress()\n",
      "File \u001b[0;32m/usr/local/python/3.12.1/lib/python3.12/site-packages/sklearn/utils/parallel.py:129\u001b[0m, in \u001b[0;36m_FuncWrapper.__call__\u001b[0;34m(self, *args, **kwargs)\u001b[0m\n\u001b[1;32m    127\u001b[0m     config \u001b[38;5;241m=\u001b[39m {}\n\u001b[1;32m    128\u001b[0m \u001b[38;5;28;01mwith\u001b[39;00m config_context(\u001b[38;5;241m*\u001b[39m\u001b[38;5;241m*\u001b[39mconfig):\n\u001b[0;32m--> 129\u001b[0m     \u001b[38;5;28;01mreturn\u001b[39;00m \u001b[38;5;28;43mself\u001b[39;49m\u001b[38;5;241;43m.\u001b[39;49m\u001b[43mfunction\u001b[49m\u001b[43m(\u001b[49m\u001b[38;5;241;43m*\u001b[39;49m\u001b[43margs\u001b[49m\u001b[43m,\u001b[49m\u001b[43m \u001b[49m\u001b[38;5;241;43m*\u001b[39;49m\u001b[38;5;241;43m*\u001b[39;49m\u001b[43mkwargs\u001b[49m\u001b[43m)\u001b[49m\n",
      "File \u001b[0;32m/usr/local/python/3.12.1/lib/python3.12/site-packages/sklearn/model_selection/_validation.py:895\u001b[0m, in \u001b[0;36m_fit_and_score\u001b[0;34m(estimator, X, y, scorer, train, test, verbose, parameters, fit_params, score_params, return_train_score, return_parameters, return_n_test_samples, return_times, return_estimator, split_progress, candidate_progress, error_score)\u001b[0m\n\u001b[1;32m    893\u001b[0m         estimator\u001b[38;5;241m.\u001b[39mfit(X_train, \u001b[38;5;241m*\u001b[39m\u001b[38;5;241m*\u001b[39mfit_params)\n\u001b[1;32m    894\u001b[0m     \u001b[38;5;28;01melse\u001b[39;00m:\n\u001b[0;32m--> 895\u001b[0m         \u001b[43mestimator\u001b[49m\u001b[38;5;241;43m.\u001b[39;49m\u001b[43mfit\u001b[49m\u001b[43m(\u001b[49m\u001b[43mX_train\u001b[49m\u001b[43m,\u001b[49m\u001b[43m \u001b[49m\u001b[43my_train\u001b[49m\u001b[43m,\u001b[49m\u001b[43m \u001b[49m\u001b[38;5;241;43m*\u001b[39;49m\u001b[38;5;241;43m*\u001b[39;49m\u001b[43mfit_params\u001b[49m\u001b[43m)\u001b[49m\n\u001b[1;32m    897\u001b[0m \u001b[38;5;28;01mexcept\u001b[39;00m \u001b[38;5;167;01mException\u001b[39;00m:\n\u001b[1;32m    898\u001b[0m     \u001b[38;5;66;03m# Note fit time as time until error\u001b[39;00m\n\u001b[1;32m    899\u001b[0m     fit_time \u001b[38;5;241m=\u001b[39m time\u001b[38;5;241m.\u001b[39mtime() \u001b[38;5;241m-\u001b[39m start_time\n",
      "File \u001b[0;32m/usr/local/python/3.12.1/lib/python3.12/site-packages/sklearn/base.py:1474\u001b[0m, in \u001b[0;36m_fit_context.<locals>.decorator.<locals>.wrapper\u001b[0;34m(estimator, *args, **kwargs)\u001b[0m\n\u001b[1;32m   1467\u001b[0m     estimator\u001b[38;5;241m.\u001b[39m_validate_params()\n\u001b[1;32m   1469\u001b[0m \u001b[38;5;28;01mwith\u001b[39;00m config_context(\n\u001b[1;32m   1470\u001b[0m     skip_parameter_validation\u001b[38;5;241m=\u001b[39m(\n\u001b[1;32m   1471\u001b[0m         prefer_skip_nested_validation \u001b[38;5;129;01mor\u001b[39;00m global_skip_validation\n\u001b[1;32m   1472\u001b[0m     )\n\u001b[1;32m   1473\u001b[0m ):\n\u001b[0;32m-> 1474\u001b[0m     \u001b[38;5;28;01mreturn\u001b[39;00m \u001b[43mfit_method\u001b[49m\u001b[43m(\u001b[49m\u001b[43mestimator\u001b[49m\u001b[43m,\u001b[49m\u001b[43m \u001b[49m\u001b[38;5;241;43m*\u001b[39;49m\u001b[43margs\u001b[49m\u001b[43m,\u001b[49m\u001b[43m \u001b[49m\u001b[38;5;241;43m*\u001b[39;49m\u001b[38;5;241;43m*\u001b[39;49m\u001b[43mkwargs\u001b[49m\u001b[43m)\u001b[49m\n",
      "File \u001b[0;32m/usr/local/python/3.12.1/lib/python3.12/site-packages/sklearn/pipeline.py:475\u001b[0m, in \u001b[0;36mPipeline.fit\u001b[0;34m(self, X, y, **params)\u001b[0m\n\u001b[1;32m    473\u001b[0m     \u001b[38;5;28;01mif\u001b[39;00m \u001b[38;5;28mself\u001b[39m\u001b[38;5;241m.\u001b[39m_final_estimator \u001b[38;5;241m!=\u001b[39m \u001b[38;5;124m\"\u001b[39m\u001b[38;5;124mpassthrough\u001b[39m\u001b[38;5;124m\"\u001b[39m:\n\u001b[1;32m    474\u001b[0m         last_step_params \u001b[38;5;241m=\u001b[39m routed_params[\u001b[38;5;28mself\u001b[39m\u001b[38;5;241m.\u001b[39msteps[\u001b[38;5;241m-\u001b[39m\u001b[38;5;241m1\u001b[39m][\u001b[38;5;241m0\u001b[39m]]\n\u001b[0;32m--> 475\u001b[0m         \u001b[38;5;28;43mself\u001b[39;49m\u001b[38;5;241;43m.\u001b[39;49m\u001b[43m_final_estimator\u001b[49m\u001b[38;5;241;43m.\u001b[39;49m\u001b[43mfit\u001b[49m\u001b[43m(\u001b[49m\u001b[43mXt\u001b[49m\u001b[43m,\u001b[49m\u001b[43m \u001b[49m\u001b[43my\u001b[49m\u001b[43m,\u001b[49m\u001b[43m \u001b[49m\u001b[38;5;241;43m*\u001b[39;49m\u001b[38;5;241;43m*\u001b[39;49m\u001b[43mlast_step_params\u001b[49m\u001b[43m[\u001b[49m\u001b[38;5;124;43m\"\u001b[39;49m\u001b[38;5;124;43mfit\u001b[39;49m\u001b[38;5;124;43m\"\u001b[39;49m\u001b[43m]\u001b[49m\u001b[43m)\u001b[49m\n\u001b[1;32m    477\u001b[0m \u001b[38;5;28;01mreturn\u001b[39;00m \u001b[38;5;28mself\u001b[39m\n",
      "File \u001b[0;32m/usr/local/python/3.12.1/lib/python3.12/site-packages/pyriemann_qiskit/classification.py:215\u001b[0m, in \u001b[0;36mQuanticClassifierBase.fit\u001b[0;34m(self, X, y)\u001b[0m\n\u001b[1;32m    213\u001b[0m     \u001b[38;5;28mself\u001b[39m\u001b[38;5;241m.\u001b[39m_quantum_instance\u001b[38;5;241m.\u001b[39mtranspile_options[\u001b[38;5;124m\"\u001b[39m\u001b[38;5;124mseed_transpiler\u001b[39m\u001b[38;5;124m\"\u001b[39m] \u001b[38;5;241m=\u001b[39m \u001b[38;5;28mself\u001b[39m\u001b[38;5;241m.\u001b[39mseed\n\u001b[1;32m    214\u001b[0m \u001b[38;5;28mself\u001b[39m\u001b[38;5;241m.\u001b[39m_classifier \u001b[38;5;241m=\u001b[39m \u001b[38;5;28mself\u001b[39m\u001b[38;5;241m.\u001b[39m_init_algo(n_features)\n\u001b[0;32m--> 215\u001b[0m \u001b[38;5;28;43mself\u001b[39;49m\u001b[38;5;241;43m.\u001b[39;49m\u001b[43m_train\u001b[49m\u001b[43m(\u001b[49m\u001b[43mX\u001b[49m\u001b[43m,\u001b[49m\u001b[43m \u001b[49m\u001b[43my\u001b[49m\u001b[43m)\u001b[49m\n\u001b[1;32m    216\u001b[0m \u001b[38;5;28;01mreturn\u001b[39;00m \u001b[38;5;28mself\u001b[39m\n",
      "File \u001b[0;32m/usr/local/python/3.12.1/lib/python3.12/site-packages/pyriemann_qiskit/classification.py:223\u001b[0m, in \u001b[0;36mQuanticClassifierBase._train\u001b[0;34m(self, X, y)\u001b[0m\n\u001b[1;32m    221\u001b[0m \u001b[38;5;28;01mdef\u001b[39;00m \u001b[38;5;21m_train\u001b[39m(\u001b[38;5;28mself\u001b[39m, X, y):\n\u001b[1;32m    222\u001b[0m     \u001b[38;5;28mself\u001b[39m\u001b[38;5;241m.\u001b[39m_log(\u001b[38;5;124m\"\u001b[39m\u001b[38;5;124mTraining...\u001b[39m\u001b[38;5;124m\"\u001b[39m)\n\u001b[0;32m--> 223\u001b[0m     \u001b[38;5;28;43mself\u001b[39;49m\u001b[38;5;241;43m.\u001b[39;49m\u001b[43m_classifier\u001b[49m\u001b[38;5;241;43m.\u001b[39;49m\u001b[43mfit\u001b[49m\u001b[43m(\u001b[49m\u001b[43mX\u001b[49m\u001b[43m,\u001b[49m\u001b[43m \u001b[49m\u001b[43my\u001b[49m\u001b[43m)\u001b[49m\n",
      "File \u001b[0;32m/usr/local/python/3.12.1/lib/python3.12/site-packages/sklearn/base.py:1474\u001b[0m, in \u001b[0;36m_fit_context.<locals>.decorator.<locals>.wrapper\u001b[0;34m(estimator, *args, **kwargs)\u001b[0m\n\u001b[1;32m   1467\u001b[0m     estimator\u001b[38;5;241m.\u001b[39m_validate_params()\n\u001b[1;32m   1469\u001b[0m \u001b[38;5;28;01mwith\u001b[39;00m config_context(\n\u001b[1;32m   1470\u001b[0m     skip_parameter_validation\u001b[38;5;241m=\u001b[39m(\n\u001b[1;32m   1471\u001b[0m         prefer_skip_nested_validation \u001b[38;5;129;01mor\u001b[39;00m global_skip_validation\n\u001b[1;32m   1472\u001b[0m     )\n\u001b[1;32m   1473\u001b[0m ):\n\u001b[0;32m-> 1474\u001b[0m     \u001b[38;5;28;01mreturn\u001b[39;00m \u001b[43mfit_method\u001b[49m\u001b[43m(\u001b[49m\u001b[43mestimator\u001b[49m\u001b[43m,\u001b[49m\u001b[43m \u001b[49m\u001b[38;5;241;43m*\u001b[39;49m\u001b[43margs\u001b[49m\u001b[43m,\u001b[49m\u001b[43m \u001b[49m\u001b[38;5;241;43m*\u001b[39;49m\u001b[38;5;241;43m*\u001b[39;49m\u001b[43mkwargs\u001b[49m\u001b[43m)\u001b[49m\n",
      "File \u001b[0;32m/usr/local/python/3.12.1/lib/python3.12/site-packages/sklearn/svm/_base.py:250\u001b[0m, in \u001b[0;36mBaseLibSVM.fit\u001b[0;34m(self, X, y, sample_weight)\u001b[0m\n\u001b[1;32m    247\u001b[0m     \u001b[38;5;28mprint\u001b[39m(\u001b[38;5;124m\"\u001b[39m\u001b[38;5;124m[LibSVM]\u001b[39m\u001b[38;5;124m\"\u001b[39m, end\u001b[38;5;241m=\u001b[39m\u001b[38;5;124m\"\u001b[39m\u001b[38;5;124m\"\u001b[39m)\n\u001b[1;32m    249\u001b[0m seed \u001b[38;5;241m=\u001b[39m rnd\u001b[38;5;241m.\u001b[39mrandint(np\u001b[38;5;241m.\u001b[39miinfo(\u001b[38;5;124m\"\u001b[39m\u001b[38;5;124mi\u001b[39m\u001b[38;5;124m\"\u001b[39m)\u001b[38;5;241m.\u001b[39mmax)\n\u001b[0;32m--> 250\u001b[0m \u001b[43mfit\u001b[49m\u001b[43m(\u001b[49m\u001b[43mX\u001b[49m\u001b[43m,\u001b[49m\u001b[43m \u001b[49m\u001b[43my\u001b[49m\u001b[43m,\u001b[49m\u001b[43m \u001b[49m\u001b[43msample_weight\u001b[49m\u001b[43m,\u001b[49m\u001b[43m \u001b[49m\u001b[43msolver_type\u001b[49m\u001b[43m,\u001b[49m\u001b[43m \u001b[49m\u001b[43mkernel\u001b[49m\u001b[43m,\u001b[49m\u001b[43m \u001b[49m\u001b[43mrandom_seed\u001b[49m\u001b[38;5;241;43m=\u001b[39;49m\u001b[43mseed\u001b[49m\u001b[43m)\u001b[49m\n\u001b[1;32m    251\u001b[0m \u001b[38;5;66;03m# see comment on the other call to np.iinfo in this file\u001b[39;00m\n\u001b[1;32m    253\u001b[0m \u001b[38;5;28mself\u001b[39m\u001b[38;5;241m.\u001b[39mshape_fit_ \u001b[38;5;241m=\u001b[39m X\u001b[38;5;241m.\u001b[39mshape \u001b[38;5;28;01mif\u001b[39;00m \u001b[38;5;28mhasattr\u001b[39m(X, \u001b[38;5;124m\"\u001b[39m\u001b[38;5;124mshape\u001b[39m\u001b[38;5;124m\"\u001b[39m) \u001b[38;5;28;01melse\u001b[39;00m (n_samples,)\n",
      "File \u001b[0;32m/usr/local/python/3.12.1/lib/python3.12/site-packages/sklearn/svm/_base.py:310\u001b[0m, in \u001b[0;36mBaseLibSVM._dense_fit\u001b[0;34m(self, X, y, sample_weight, solver_type, kernel, random_seed)\u001b[0m\n\u001b[1;32m    306\u001b[0m \u001b[38;5;28;01mif\u001b[39;00m \u001b[38;5;28mcallable\u001b[39m(\u001b[38;5;28mself\u001b[39m\u001b[38;5;241m.\u001b[39mkernel):\n\u001b[1;32m    307\u001b[0m     \u001b[38;5;66;03m# you must store a reference to X to compute the kernel in predict\u001b[39;00m\n\u001b[1;32m    308\u001b[0m     \u001b[38;5;66;03m# TODO: add keyword copy to copy on demand\u001b[39;00m\n\u001b[1;32m    309\u001b[0m     \u001b[38;5;28mself\u001b[39m\u001b[38;5;241m.\u001b[39m__Xfit \u001b[38;5;241m=\u001b[39m X\n\u001b[0;32m--> 310\u001b[0m     X \u001b[38;5;241m=\u001b[39m \u001b[38;5;28;43mself\u001b[39;49m\u001b[38;5;241;43m.\u001b[39;49m\u001b[43m_compute_kernel\u001b[49m\u001b[43m(\u001b[49m\u001b[43mX\u001b[49m\u001b[43m)\u001b[49m\n\u001b[1;32m    312\u001b[0m     \u001b[38;5;28;01mif\u001b[39;00m X\u001b[38;5;241m.\u001b[39mshape[\u001b[38;5;241m0\u001b[39m] \u001b[38;5;241m!=\u001b[39m X\u001b[38;5;241m.\u001b[39mshape[\u001b[38;5;241m1\u001b[39m]:\n\u001b[1;32m    313\u001b[0m         \u001b[38;5;28;01mraise\u001b[39;00m \u001b[38;5;167;01mValueError\u001b[39;00m(\u001b[38;5;124m\"\u001b[39m\u001b[38;5;124mX.shape[0] should be equal to X.shape[1]\u001b[39m\u001b[38;5;124m\"\u001b[39m)\n",
      "File \u001b[0;32m/usr/local/python/3.12.1/lib/python3.12/site-packages/sklearn/svm/_base.py:508\u001b[0m, in \u001b[0;36mBaseLibSVM._compute_kernel\u001b[0;34m(self, X)\u001b[0m\n\u001b[1;32m    504\u001b[0m \u001b[38;5;250m\u001b[39m\u001b[38;5;124;03m\"\"\"Return the data transformed by a callable kernel\"\"\"\u001b[39;00m\n\u001b[1;32m    505\u001b[0m \u001b[38;5;28;01mif\u001b[39;00m \u001b[38;5;28mcallable\u001b[39m(\u001b[38;5;28mself\u001b[39m\u001b[38;5;241m.\u001b[39mkernel):\n\u001b[1;32m    506\u001b[0m     \u001b[38;5;66;03m# in the case of precomputed kernel given as a function, we\u001b[39;00m\n\u001b[1;32m    507\u001b[0m     \u001b[38;5;66;03m# have to compute explicitly the kernel matrix\u001b[39;00m\n\u001b[0;32m--> 508\u001b[0m     kernel \u001b[38;5;241m=\u001b[39m \u001b[38;5;28;43mself\u001b[39;49m\u001b[38;5;241;43m.\u001b[39;49m\u001b[43mkernel\u001b[49m\u001b[43m(\u001b[49m\u001b[43mX\u001b[49m\u001b[43m,\u001b[49m\u001b[43m \u001b[49m\u001b[38;5;28;43mself\u001b[39;49m\u001b[38;5;241;43m.\u001b[39;49m\u001b[43m__Xfit\u001b[49m\u001b[43m)\u001b[49m\n\u001b[1;32m    509\u001b[0m     \u001b[38;5;28;01mif\u001b[39;00m sp\u001b[38;5;241m.\u001b[39missparse(kernel):\n\u001b[1;32m    510\u001b[0m         kernel \u001b[38;5;241m=\u001b[39m kernel\u001b[38;5;241m.\u001b[39mtoarray()\n",
      "File \u001b[0;32m/usr/local/python/3.12.1/lib/python3.12/site-packages/qiskit_machine_learning/kernels/fidelity_statevector_kernel.py:121\u001b[0m, in \u001b[0;36mFidelityStatevectorKernel.evaluate\u001b[0;34m(self, x_vec, y_vec)\u001b[0m\n\u001b[1;32m    118\u001b[0m \u001b[38;5;28;01melif\u001b[39;00m \u001b[38;5;129;01mnot\u001b[39;00m np\u001b[38;5;241m.\u001b[39marray_equal(x_vec, y_vec):\n\u001b[1;32m    119\u001b[0m     is_symmetric \u001b[38;5;241m=\u001b[39m \u001b[38;5;28;01mFalse\u001b[39;00m\n\u001b[0;32m--> 121\u001b[0m \u001b[38;5;28;01mreturn\u001b[39;00m \u001b[38;5;28;43mself\u001b[39;49m\u001b[38;5;241;43m.\u001b[39;49m\u001b[43m_evaluate\u001b[49m\u001b[43m(\u001b[49m\u001b[43mx_vec\u001b[49m\u001b[43m,\u001b[49m\u001b[43m \u001b[49m\u001b[43my_vec\u001b[49m\u001b[43m,\u001b[49m\u001b[43m \u001b[49m\u001b[43mis_symmetric\u001b[49m\u001b[43m)\u001b[49m\n",
      "File \u001b[0;32m/usr/local/python/3.12.1/lib/python3.12/site-packages/qiskit_machine_learning/kernels/fidelity_statevector_kernel.py:126\u001b[0m, in \u001b[0;36mFidelityStatevectorKernel._evaluate\u001b[0;34m(self, x_vec, y_vec, is_symmetric)\u001b[0m\n\u001b[1;32m    123\u001b[0m \u001b[38;5;28;01mdef\u001b[39;00m \u001b[38;5;21m_evaluate\u001b[39m(\u001b[38;5;28mself\u001b[39m, x_vec: np\u001b[38;5;241m.\u001b[39mndarray, y_vec: np\u001b[38;5;241m.\u001b[39mndarray, is_symmetric: \u001b[38;5;28mbool\u001b[39m):\n\u001b[1;32m    124\u001b[0m     kernel_shape \u001b[38;5;241m=\u001b[39m (x_vec\u001b[38;5;241m.\u001b[39mshape[\u001b[38;5;241m0\u001b[39m], y_vec\u001b[38;5;241m.\u001b[39mshape[\u001b[38;5;241m0\u001b[39m])\n\u001b[0;32m--> 126\u001b[0m     x_svs \u001b[38;5;241m=\u001b[39m [\u001b[38;5;28;43mself\u001b[39;49m\u001b[38;5;241;43m.\u001b[39;49m\u001b[43m_get_statevector\u001b[49m\u001b[43m(\u001b[49m\u001b[38;5;28;43mtuple\u001b[39;49m\u001b[43m(\u001b[49m\u001b[43mx\u001b[49m\u001b[43m)\u001b[49m\u001b[43m)\u001b[49m \u001b[38;5;28;01mfor\u001b[39;00m x \u001b[38;5;129;01min\u001b[39;00m x_vec]\n\u001b[1;32m    127\u001b[0m     y_svs \u001b[38;5;241m=\u001b[39m [\u001b[38;5;28mself\u001b[39m\u001b[38;5;241m.\u001b[39m_get_statevector(\u001b[38;5;28mtuple\u001b[39m(y)) \u001b[38;5;28;01mfor\u001b[39;00m y \u001b[38;5;129;01min\u001b[39;00m y_vec]\n\u001b[1;32m    129\u001b[0m     kernel_matrix \u001b[38;5;241m=\u001b[39m np\u001b[38;5;241m.\u001b[39mones(kernel_shape)\n",
      "File \u001b[0;32m/usr/local/python/3.12.1/lib/python3.12/site-packages/qiskit_machine_learning/kernels/fidelity_statevector_kernel.py:144\u001b[0m, in \u001b[0;36mFidelityStatevectorKernel._get_statevector_\u001b[0;34m(self, param_values)\u001b[0m\n\u001b[1;32m    141\u001b[0m \u001b[38;5;28;01mdef\u001b[39;00m \u001b[38;5;21m_get_statevector_\u001b[39m(\u001b[38;5;28mself\u001b[39m, param_values: \u001b[38;5;28mtuple\u001b[39m[\u001b[38;5;28mfloat\u001b[39m]) \u001b[38;5;241m-\u001b[39m\u001b[38;5;241m>\u001b[39m np\u001b[38;5;241m.\u001b[39mndarray:\n\u001b[1;32m    142\u001b[0m     \u001b[38;5;66;03m# lru_cache requires hashable function arguments.\u001b[39;00m\n\u001b[1;32m    143\u001b[0m     qc \u001b[38;5;241m=\u001b[39m \u001b[38;5;28mself\u001b[39m\u001b[38;5;241m.\u001b[39m_feature_map\u001b[38;5;241m.\u001b[39massign_parameters(param_values)\n\u001b[0;32m--> 144\u001b[0m     \u001b[38;5;28;01mreturn\u001b[39;00m \u001b[38;5;28;43mself\u001b[39;49m\u001b[38;5;241;43m.\u001b[39;49m\u001b[43m_statevector_type\u001b[49m\u001b[43m(\u001b[49m\u001b[43mqc\u001b[49m\u001b[43m)\u001b[49m\u001b[38;5;241m.\u001b[39mdata\n",
      "File \u001b[0;32m/usr/local/python/3.12.1/lib/python3.12/site-packages/qiskit_aer/quantum_info/states/aer_statevector.py:67\u001b[0m, in \u001b[0;36mAerStatevector.__init__\u001b[0;34m(self, data, dims, **configs)\u001b[0m\n\u001b[1;32m     65\u001b[0m     \u001b[38;5;28;01mraise\u001b[39;00m AerError(\u001b[38;5;124mf\u001b[39m\u001b[38;5;124m\"\u001b[39m\u001b[38;5;124mMethod \u001b[39m\u001b[38;5;132;01m{\u001b[39;00mmethod\u001b[38;5;132;01m}\u001b[39;00m\u001b[38;5;124m is not supported\u001b[39m\u001b[38;5;124m\"\u001b[39m)\n\u001b[1;32m     66\u001b[0m \u001b[38;5;28;01mif\u001b[39;00m \u001b[38;5;28misinstance\u001b[39m(data, (QuantumCircuit, Instruction)):\n\u001b[0;32m---> 67\u001b[0m     data, aer_state \u001b[38;5;241m=\u001b[39m \u001b[43mAerStatevector\u001b[49m\u001b[38;5;241;43m.\u001b[39;49m\u001b[43m_from_instruction\u001b[49m\u001b[43m(\u001b[49m\u001b[43mdata\u001b[49m\u001b[43m,\u001b[49m\u001b[43m \u001b[49m\u001b[38;5;28;43;01mNone\u001b[39;49;00m\u001b[43m,\u001b[49m\u001b[43m \u001b[49m\u001b[43mconfigs\u001b[49m\u001b[43m)\u001b[49m\n\u001b[1;32m     68\u001b[0m \u001b[38;5;28;01melif\u001b[39;00m \u001b[38;5;28misinstance\u001b[39m(data, \u001b[38;5;28mlist\u001b[39m):\n\u001b[1;32m     69\u001b[0m     data, aer_state \u001b[38;5;241m=\u001b[39m AerStatevector\u001b[38;5;241m.\u001b[39m_from_ndarray(\n\u001b[1;32m     70\u001b[0m         np\u001b[38;5;241m.\u001b[39marray(data, dtype\u001b[38;5;241m=\u001b[39m\u001b[38;5;28mcomplex\u001b[39m), configs\n\u001b[1;32m     71\u001b[0m     )\n",
      "File \u001b[0;32m/usr/local/python/3.12.1/lib/python3.12/site-packages/qiskit_aer/quantum_info/states/aer_statevector.py:191\u001b[0m, in \u001b[0;36mAerStatevector._from_instruction\u001b[0;34m(inst, init_data, configs)\u001b[0m\n\u001b[1;32m    188\u001b[0m     aer_state\u001b[38;5;241m.\u001b[39mapply_global_phase(inst\u001b[38;5;241m.\u001b[39mglobal_phase)\n\u001b[1;32m    190\u001b[0m \u001b[38;5;28;01mif\u001b[39;00m \u001b[38;5;28misinstance\u001b[39m(inst, QuantumCircuit):\n\u001b[0;32m--> 191\u001b[0m     \u001b[43mAerStatevector\u001b[49m\u001b[38;5;241;43m.\u001b[39;49m\u001b[43m_aer_evolve_circuit\u001b[49m\u001b[43m(\u001b[49m\u001b[43maer_state\u001b[49m\u001b[43m,\u001b[49m\u001b[43m \u001b[49m\u001b[43minst\u001b[49m\u001b[43m,\u001b[49m\u001b[43m \u001b[49m\u001b[38;5;28;43mrange\u001b[39;49m\u001b[43m(\u001b[49m\u001b[43mnum_qubits\u001b[49m\u001b[43m)\u001b[49m\u001b[43m,\u001b[49m\u001b[43m \u001b[49m\u001b[43mbasis_gates\u001b[49m\u001b[43m)\u001b[49m\n\u001b[1;32m    192\u001b[0m \u001b[38;5;28;01melse\u001b[39;00m:\n\u001b[1;32m    193\u001b[0m     AerStatevector\u001b[38;5;241m.\u001b[39m_aer_evolve_instruction(aer_state, inst, \u001b[38;5;28mrange\u001b[39m(num_qubits), basis_gates)\n",
      "File \u001b[0;32m/usr/local/python/3.12.1/lib/python3.12/site-packages/qiskit_aer/quantum_info/states/aer_statevector.py:207\u001b[0m, in \u001b[0;36mAerStatevector._aer_evolve_circuit\u001b[0;34m(aer_state, circuit, qubits, basis_gates)\u001b[0m\n\u001b[1;32m    205\u001b[0m inst \u001b[38;5;241m=\u001b[39m instruction\u001b[38;5;241m.\u001b[39moperation\n\u001b[1;32m    206\u001b[0m qargs \u001b[38;5;241m=\u001b[39m instruction\u001b[38;5;241m.\u001b[39mqubits\n\u001b[0;32m--> 207\u001b[0m \u001b[43mAerStatevector\u001b[49m\u001b[38;5;241;43m.\u001b[39;49m\u001b[43m_aer_evolve_instruction\u001b[49m\u001b[43m(\u001b[49m\n\u001b[1;32m    208\u001b[0m \u001b[43m    \u001b[49m\u001b[43maer_state\u001b[49m\u001b[43m,\u001b[49m\n\u001b[1;32m    209\u001b[0m \u001b[43m    \u001b[49m\u001b[43minst\u001b[49m\u001b[43m,\u001b[49m\n\u001b[1;32m    210\u001b[0m \u001b[43m    \u001b[49m\u001b[43m[\u001b[49m\u001b[43mqubits\u001b[49m\u001b[43m[\u001b[49m\u001b[43mcircuit\u001b[49m\u001b[38;5;241;43m.\u001b[39;49m\u001b[43mfind_bit\u001b[49m\u001b[43m(\u001b[49m\u001b[43mqarg\u001b[49m\u001b[43m)\u001b[49m\u001b[38;5;241;43m.\u001b[39;49m\u001b[43mindex\u001b[49m\u001b[43m]\u001b[49m\u001b[43m \u001b[49m\u001b[38;5;28;43;01mfor\u001b[39;49;00m\u001b[43m \u001b[49m\u001b[43mqarg\u001b[49m\u001b[43m \u001b[49m\u001b[38;5;129;43;01min\u001b[39;49;00m\u001b[43m \u001b[49m\u001b[43mqargs\u001b[49m\u001b[43m]\u001b[49m\u001b[43m,\u001b[49m\n\u001b[1;32m    211\u001b[0m \u001b[43m    \u001b[49m\u001b[43mbasis_gates\u001b[49m\u001b[43m,\u001b[49m\n\u001b[1;32m    212\u001b[0m \u001b[43m\u001b[49m\u001b[43m)\u001b[49m\n",
      "File \u001b[0;32m/usr/local/python/3.12.1/lib/python3.12/site-packages/qiskit_aer/quantum_info/states/aer_statevector.py:276\u001b[0m, in \u001b[0;36mAerStatevector._aer_evolve_instruction\u001b[0;34m(aer_state, inst, qubits, basis_gates)\u001b[0m\n\u001b[1;32m    274\u001b[0m \u001b[38;5;28;01mif\u001b[39;00m definition \u001b[38;5;129;01mis\u001b[39;00m inst \u001b[38;5;129;01mor\u001b[39;00m definition \u001b[38;5;129;01mis\u001b[39;00m \u001b[38;5;28;01mNone\u001b[39;00m:\n\u001b[1;32m    275\u001b[0m     \u001b[38;5;28;01mraise\u001b[39;00m AerError(\u001b[38;5;124m\"\u001b[39m\u001b[38;5;124mcannot decompose \u001b[39m\u001b[38;5;124m\"\u001b[39m \u001b[38;5;241m+\u001b[39m inst\u001b[38;5;241m.\u001b[39mname)\n\u001b[0;32m--> 276\u001b[0m \u001b[43mAerStatevector\u001b[49m\u001b[38;5;241;43m.\u001b[39;49m\u001b[43m_aer_evolve_circuit\u001b[49m\u001b[43m(\u001b[49m\u001b[43maer_state\u001b[49m\u001b[43m,\u001b[49m\u001b[43m \u001b[49m\u001b[43mdefinition\u001b[49m\u001b[43m,\u001b[49m\u001b[43m \u001b[49m\u001b[43mqubits\u001b[49m\u001b[43m,\u001b[49m\u001b[43m \u001b[49m\u001b[43mbasis_gates\u001b[49m\u001b[43m)\u001b[49m\n",
      "File \u001b[0;32m/usr/local/python/3.12.1/lib/python3.12/site-packages/qiskit_aer/quantum_info/states/aer_statevector.py:207\u001b[0m, in \u001b[0;36mAerStatevector._aer_evolve_circuit\u001b[0;34m(aer_state, circuit, qubits, basis_gates)\u001b[0m\n\u001b[1;32m    205\u001b[0m inst \u001b[38;5;241m=\u001b[39m instruction\u001b[38;5;241m.\u001b[39moperation\n\u001b[1;32m    206\u001b[0m qargs \u001b[38;5;241m=\u001b[39m instruction\u001b[38;5;241m.\u001b[39mqubits\n\u001b[0;32m--> 207\u001b[0m \u001b[43mAerStatevector\u001b[49m\u001b[38;5;241;43m.\u001b[39;49m\u001b[43m_aer_evolve_instruction\u001b[49m\u001b[43m(\u001b[49m\n\u001b[1;32m    208\u001b[0m \u001b[43m    \u001b[49m\u001b[43maer_state\u001b[49m\u001b[43m,\u001b[49m\n\u001b[1;32m    209\u001b[0m \u001b[43m    \u001b[49m\u001b[43minst\u001b[49m\u001b[43m,\u001b[49m\n\u001b[1;32m    210\u001b[0m \u001b[43m    \u001b[49m\u001b[43m[\u001b[49m\u001b[43mqubits\u001b[49m\u001b[43m[\u001b[49m\u001b[43mcircuit\u001b[49m\u001b[38;5;241;43m.\u001b[39;49m\u001b[43mfind_bit\u001b[49m\u001b[43m(\u001b[49m\u001b[43mqarg\u001b[49m\u001b[43m)\u001b[49m\u001b[38;5;241;43m.\u001b[39;49m\u001b[43mindex\u001b[49m\u001b[43m]\u001b[49m\u001b[43m \u001b[49m\u001b[38;5;28;43;01mfor\u001b[39;49;00m\u001b[43m \u001b[49m\u001b[43mqarg\u001b[49m\u001b[43m \u001b[49m\u001b[38;5;129;43;01min\u001b[39;49;00m\u001b[43m \u001b[49m\u001b[43mqargs\u001b[49m\u001b[43m]\u001b[49m\u001b[43m,\u001b[49m\n\u001b[1;32m    211\u001b[0m \u001b[43m    \u001b[49m\u001b[43mbasis_gates\u001b[49m\u001b[43m,\u001b[49m\n\u001b[1;32m    212\u001b[0m \u001b[43m\u001b[49m\u001b[43m)\u001b[49m\n",
      "File \u001b[0;32m/usr/local/python/3.12.1/lib/python3.12/site-packages/qiskit_aer/quantum_info/states/aer_statevector.py:273\u001b[0m, in \u001b[0;36mAerStatevector._aer_evolve_instruction\u001b[0;34m(aer_state, inst, qubits, basis_gates)\u001b[0m\n\u001b[1;32m    270\u001b[0m     applied \u001b[38;5;241m=\u001b[39m \u001b[38;5;28;01mFalse\u001b[39;00m\n\u001b[1;32m    272\u001b[0m \u001b[38;5;28;01mif\u001b[39;00m \u001b[38;5;129;01mnot\u001b[39;00m applied:\n\u001b[0;32m--> 273\u001b[0m     definition \u001b[38;5;241m=\u001b[39m \u001b[43minst\u001b[49m\u001b[38;5;241;43m.\u001b[39;49m\u001b[43mdefinition\u001b[49m\n\u001b[1;32m    274\u001b[0m     \u001b[38;5;28;01mif\u001b[39;00m definition \u001b[38;5;129;01mis\u001b[39;00m inst \u001b[38;5;129;01mor\u001b[39;00m definition \u001b[38;5;129;01mis\u001b[39;00m \u001b[38;5;28;01mNone\u001b[39;00m:\n\u001b[1;32m    275\u001b[0m         \u001b[38;5;28;01mraise\u001b[39;00m AerError(\u001b[38;5;124m\"\u001b[39m\u001b[38;5;124mcannot decompose \u001b[39m\u001b[38;5;124m\"\u001b[39m \u001b[38;5;241m+\u001b[39m inst\u001b[38;5;241m.\u001b[39mname)\n",
      "File \u001b[0;32m/usr/local/python/3.12.1/lib/python3.12/site-packages/qiskit/circuit/instruction.py:312\u001b[0m, in \u001b[0;36mInstruction.definition\u001b[0;34m(self)\u001b[0m\n\u001b[1;32m    310\u001b[0m \u001b[38;5;250m\u001b[39m\u001b[38;5;124;03m\"\"\"Return definition in terms of other basic gates.\"\"\"\u001b[39;00m\n\u001b[1;32m    311\u001b[0m \u001b[38;5;28;01mif\u001b[39;00m \u001b[38;5;28mself\u001b[39m\u001b[38;5;241m.\u001b[39m_definition \u001b[38;5;129;01mis\u001b[39;00m \u001b[38;5;28;01mNone\u001b[39;00m:\n\u001b[0;32m--> 312\u001b[0m     \u001b[38;5;28;43mself\u001b[39;49m\u001b[38;5;241;43m.\u001b[39;49m\u001b[43m_define\u001b[49m\u001b[43m(\u001b[49m\u001b[43m)\u001b[49m\n\u001b[1;32m    313\u001b[0m \u001b[38;5;28;01mreturn\u001b[39;00m \u001b[38;5;28mself\u001b[39m\u001b[38;5;241m.\u001b[39m_definition\n",
      "File \u001b[0;32m/usr/local/python/3.12.1/lib/python3.12/site-packages/qiskit/circuit/library/standard_gates/p.py:93\u001b[0m, in \u001b[0;36mPhaseGate._define\u001b[0;34m(self)\u001b[0m\n\u001b[1;32m     90\u001b[0m \u001b[38;5;28;01mfrom\u001b[39;00m \u001b[38;5;21;01m.\u001b[39;00m\u001b[38;5;21;01mu\u001b[39;00m \u001b[38;5;28;01mimport\u001b[39;00m UGate\n\u001b[1;32m     92\u001b[0m q \u001b[38;5;241m=\u001b[39m QuantumRegister(\u001b[38;5;241m1\u001b[39m, \u001b[38;5;124m\"\u001b[39m\u001b[38;5;124mq\u001b[39m\u001b[38;5;124m\"\u001b[39m)\n\u001b[0;32m---> 93\u001b[0m qc \u001b[38;5;241m=\u001b[39m \u001b[43mQuantumCircuit\u001b[49m\u001b[43m(\u001b[49m\u001b[43mq\u001b[49m\u001b[43m,\u001b[49m\u001b[43m \u001b[49m\u001b[43mname\u001b[49m\u001b[38;5;241;43m=\u001b[39;49m\u001b[38;5;28;43mself\u001b[39;49m\u001b[38;5;241;43m.\u001b[39;49m\u001b[43mname\u001b[49m\u001b[43m)\u001b[49m\n\u001b[1;32m     94\u001b[0m qc\u001b[38;5;241m.\u001b[39mappend(UGate(\u001b[38;5;241m0\u001b[39m, \u001b[38;5;241m0\u001b[39m, \u001b[38;5;28mself\u001b[39m\u001b[38;5;241m.\u001b[39mparams[\u001b[38;5;241m0\u001b[39m]), [\u001b[38;5;241m0\u001b[39m])\n\u001b[1;32m     95\u001b[0m \u001b[38;5;28mself\u001b[39m\u001b[38;5;241m.\u001b[39mdefinition \u001b[38;5;241m=\u001b[39m qc\n",
      "File \u001b[0;32m/usr/local/python/3.12.1/lib/python3.12/site-packages/qiskit/circuit/quantumcircuit.py:1129\u001b[0m, in \u001b[0;36mQuantumCircuit.__init__\u001b[0;34m(self, name, global_phase, metadata, inputs, captures, declarations, *regs)\u001b[0m\n\u001b[1;32m   1127\u001b[0m \u001b[38;5;28mself\u001b[39m\u001b[38;5;241m.\u001b[39m_ancillas: \u001b[38;5;28mlist\u001b[39m[AncillaQubit] \u001b[38;5;241m=\u001b[39m []\n\u001b[1;32m   1128\u001b[0m \u001b[38;5;28mself\u001b[39m\u001b[38;5;241m.\u001b[39m_calibrations: DefaultDict[\u001b[38;5;28mstr\u001b[39m, \u001b[38;5;28mdict\u001b[39m[\u001b[38;5;28mtuple\u001b[39m, Any]] \u001b[38;5;241m=\u001b[39m defaultdict(\u001b[38;5;28mdict\u001b[39m)\n\u001b[0;32m-> 1129\u001b[0m \u001b[38;5;28;43mself\u001b[39;49m\u001b[38;5;241;43m.\u001b[39;49m\u001b[43madd_register\u001b[49m\u001b[43m(\u001b[49m\u001b[38;5;241;43m*\u001b[39;49m\u001b[43mregs\u001b[49m\u001b[43m)\u001b[49m\n\u001b[1;32m   1131\u001b[0m \u001b[38;5;28mself\u001b[39m\u001b[38;5;241m.\u001b[39m_layout \u001b[38;5;241m=\u001b[39m \u001b[38;5;28;01mNone\u001b[39;00m\n\u001b[1;32m   1132\u001b[0m \u001b[38;5;28mself\u001b[39m\u001b[38;5;241m.\u001b[39mglobal_phase \u001b[38;5;241m=\u001b[39m global_phase\n",
      "File \u001b[0;32m/usr/local/python/3.12.1/lib/python3.12/site-packages/qiskit/circuit/quantumcircuit.py:2997\u001b[0m, in \u001b[0;36mQuantumCircuit.add_register\u001b[0;34m(self, *regs)\u001b[0m\n\u001b[1;32m   2994\u001b[0m     \u001b[38;5;28mself\u001b[39m\u001b[38;5;241m.\u001b[39m_vars_input[var\u001b[38;5;241m.\u001b[39mname] \u001b[38;5;241m=\u001b[39m var\n\u001b[1;32m   2995\u001b[0m     \u001b[38;5;28;01mreturn\u001b[39;00m var\n\u001b[0;32m-> 2997\u001b[0m \u001b[38;5;28;01mdef\u001b[39;00m \u001b[38;5;21madd_register\u001b[39m(\u001b[38;5;28mself\u001b[39m, \u001b[38;5;241m*\u001b[39mregs: Register \u001b[38;5;241m|\u001b[39m \u001b[38;5;28mint\u001b[39m \u001b[38;5;241m|\u001b[39m Sequence[Bit]) \u001b[38;5;241m-\u001b[39m\u001b[38;5;241m>\u001b[39m \u001b[38;5;28;01mNone\u001b[39;00m:\n\u001b[1;32m   2998\u001b[0m \u001b[38;5;250m    \u001b[39m\u001b[38;5;124;03m\"\"\"Add registers.\"\"\"\u001b[39;00m\n\u001b[1;32m   2999\u001b[0m     \u001b[38;5;28;01mif\u001b[39;00m \u001b[38;5;129;01mnot\u001b[39;00m regs:\n",
      "\u001b[0;31mKeyboardInterrupt\u001b[0m: "
     ]
    }
   ],
   "source": [
    "cv = StratifiedKFold(n_splits=10)\n",
    "# cv = StratifiedShuffleSplit(n_splits=20, test_size=0.20)\n",
    "scores_svm = cross_val_score(pipe_classical, X, y, scoring=\"balanced_accuracy\", cv=cv)\n",
    "scores_qsvm = cross_val_score(pipe_ts_qsvm2, X, y, scoring=\"balanced_accuracy\", cv=cv)\n",
    "print(f'scores svm: {scores_svm.mean()} {scores_svm}')\n",
    "print(f'scores qsvm: {scores_qsvm.mean()} {scores_qsvm}')\n",
    "print(f'scores len = {len(scores_svm)}')"
   ]
  },
  {
   "cell_type": "markdown",
   "metadata": {},
   "source": [
    "# Corrected t-test"
   ]
  },
  {
   "cell_type": "code",
   "execution_count": 97,
   "metadata": {},
   "outputs": [],
   "source": [
    "# https://scikit-learn.org/stable/auto_examples/model_selection/plot_grid_search_stats.html\n",
    "\n",
    "import numpy as np\n",
    "from scipy.stats import t\n",
    "\n",
    "\n",
    "def corrected_std(differences, n_train, n_test):\n",
    "    \"\"\"Corrects standard deviation using Nadeau and Bengio's approach.\n",
    "\n",
    "    Parameters\n",
    "    ----------\n",
    "    differences : ndarray of shape (n_samples,)\n",
    "        Vector containing the differences in the score metrics of two models.\n",
    "    n_train : int\n",
    "        Number of samples in the training set.\n",
    "    n_test : int\n",
    "        Number of samples in the testing set.\n",
    "\n",
    "    Returns\n",
    "    -------\n",
    "    corrected_std : float\n",
    "        Variance-corrected standard deviation of the set of differences.\n",
    "    \"\"\"\n",
    "    # kr = k times r, r times repeated k-fold crossvalidation,\n",
    "    # kr equals the number of times the model was evaluated\n",
    "    kr = len(differences)\n",
    "    corrected_var = np.var(differences, ddof=1) * (1 / kr + n_test / n_train)\n",
    "    corrected_std = np.sqrt(corrected_var)\n",
    "    return corrected_std\n",
    "\n",
    "\n",
    "def compute_corrected_ttest(differences, df, n_train, n_test):\n",
    "    \"\"\"Computes right-tailed paired t-test with corrected variance.\n",
    "\n",
    "    Parameters\n",
    "    ----------\n",
    "    differences : array-like of shape (n_samples,)\n",
    "        Vector containing the differences in the score metrics of two models.\n",
    "    df : int\n",
    "        Degrees of freedom.\n",
    "    n_train : int\n",
    "        Number of samples in the training set.\n",
    "    n_test : int\n",
    "        Number of samples in the testing set.\n",
    "\n",
    "    Returns\n",
    "    -------\n",
    "    t_stat : float\n",
    "        Variance-corrected t-statistic.\n",
    "    p_val : float\n",
    "        Variance-corrected p-value.\n",
    "    \"\"\"\n",
    "    mean = np.mean(differences)\n",
    "    std = corrected_std(differences, n_train, n_test)\n",
    "    t_stat = mean / std\n",
    "    p_val = t.sf(np.abs(t_stat), df)  # right-tailed t-test\n",
    "    return t_stat, p_val"
   ]
  },
  {
   "cell_type": "code",
   "execution_count": 154,
   "metadata": {},
   "outputs": [
    {
     "name": "stdout",
     "output_type": "stream",
     "text": [
      "0.0060239069829803055\n"
     ]
    }
   ],
   "source": [
    "differences = scores_qsvm - scores_svm\n",
    "n = differences.shape[0]  # number of test sets\n",
    "df = n - 1\n",
    "n_train = len(list(cv.split(X, y))[0][0])\n",
    "n_test = len(list(cv.split(X, y))[0][1])\n",
    "_, p_value = compute_corrected_ttest(differences, df, n_train, n_test)\n",
    "print(p_value) # fails to conclude that qsvm has a better performance than svm\n",
    "# BUT: does not mean it is the same -> we need the bayesian approach or the random testing"
   ]
  },
  {
   "cell_type": "markdown",
   "metadata": {},
   "source": [
    "# Grid Search"
   ]
  },
  {
   "cell_type": "code",
   "execution_count": null,
   "metadata": {},
   "outputs": [
    {
     "name": "stderr",
     "output_type": "stream",
     "text": [
      "WARNING:root:FidelityQuantumKernel skipped because of time.\n",
      "                    Using FidelityStatevectorKernel with AerStatevector.\n",
      "                    Seed cannot be set with FidelityStatevectorKernel.\n",
      "                    Increase the number of shots to diminish the noise.\n"
     ]
    },
    {
     "name": "stdout",
     "output_type": "stream",
     "text": [
      "[QClass]  Initializing Quantum Classifier\n",
      "[QClass]  Initializing Quantum Classifier\n",
      "[QClass]  Quantum simulation will be performed\n",
      "GPU optimization disabled. No device found.\n",
      "[QClass]  Fitting:  (544, 3)\n",
      "[QClass]  Feature dimension =  3\n",
      "[QClass]  Quantum backend =  AerSimulator('aer_simulator_statevector')\n",
      "[QClass]  seed =  332897\n",
      "[QClass]  SVM initiating algorithm\n"
     ]
    },
    {
     "name": "stdout",
     "output_type": "stream",
     "text": [
      "[QClass]  Training...\n"
     ]
    },
    {
     "name": "stderr",
     "output_type": "stream",
     "text": [
      "WARNING:root:FidelityQuantumKernel skipped because of time.\n",
      "                    Using FidelityStatevectorKernel with AerStatevector.\n",
      "                    Seed cannot be set with FidelityStatevectorKernel.\n",
      "                    Increase the number of shots to diminish the noise.\n"
     ]
    },
    {
     "name": "stdout",
     "output_type": "stream",
     "text": [
      "[QClass]  Prediction finished.\n",
      "[QClass]  Initializing Quantum Classifier\n",
      "[QClass]  Quantum simulation will be performed\n",
      "GPU optimization disabled. No device found.\n",
      "[QClass]  Fitting:  (545, 3)\n",
      "[QClass]  Feature dimension =  3\n",
      "[QClass]  Quantum backend =  AerSimulator('aer_simulator_statevector')\n",
      "[QClass]  seed =  332897\n",
      "[QClass]  SVM initiating algorithm\n",
      "[QClass]  Training...\n"
     ]
    },
    {
     "name": "stderr",
     "output_type": "stream",
     "text": [
      "WARNING:root:FidelityQuantumKernel skipped because of time.\n",
      "                    Using FidelityStatevectorKernel with AerStatevector.\n",
      "                    Seed cannot be set with FidelityStatevectorKernel.\n",
      "                    Increase the number of shots to diminish the noise.\n"
     ]
    },
    {
     "name": "stdout",
     "output_type": "stream",
     "text": [
      "[QClass]  Prediction finished.\n",
      "[QClass]  Initializing Quantum Classifier\n",
      "[QClass]  Quantum simulation will be performed\n",
      "GPU optimization disabled. No device found.\n",
      "[QClass]  Fitting:  (545, 3)\n",
      "[QClass]  Feature dimension =  3\n",
      "[QClass]  Quantum backend =  AerSimulator('aer_simulator_statevector')\n",
      "[QClass]  seed =  332897\n",
      "[QClass]  SVM initiating algorithm\n",
      "[QClass]  Training...\n"
     ]
    },
    {
     "name": "stderr",
     "output_type": "stream",
     "text": [
      "WARNING:root:FidelityQuantumKernel skipped because of time.\n",
      "                    Using FidelityStatevectorKernel with AerStatevector.\n",
      "                    Seed cannot be set with FidelityStatevectorKernel.\n",
      "                    Increase the number of shots to diminish the noise.\n"
     ]
    },
    {
     "name": "stdout",
     "output_type": "stream",
     "text": [
      "[QClass]  Prediction finished.\n",
      "[QClass]  Initializing Quantum Classifier\n",
      "[QClass]  Quantum simulation will be performed\n",
      "GPU optimization disabled. No device found.\n",
      "[QClass]  Fitting:  (545, 3)\n",
      "[QClass]  Feature dimension =  3\n",
      "[QClass]  Quantum backend =  AerSimulator('aer_simulator_statevector')\n",
      "[QClass]  seed =  332897\n",
      "[QClass]  SVM initiating algorithm\n",
      "[QClass]  Training...\n"
     ]
    },
    {
     "name": "stderr",
     "output_type": "stream",
     "text": [
      "WARNING:root:FidelityQuantumKernel skipped because of time.\n",
      "                    Using FidelityStatevectorKernel with AerStatevector.\n",
      "                    Seed cannot be set with FidelityStatevectorKernel.\n",
      "                    Increase the number of shots to diminish the noise.\n"
     ]
    },
    {
     "name": "stdout",
     "output_type": "stream",
     "text": [
      "[QClass]  Prediction finished.\n",
      "[QClass]  Initializing Quantum Classifier\n",
      "[QClass]  Quantum simulation will be performed\n",
      "GPU optimization disabled. No device found.\n",
      "[QClass]  Fitting:  (545, 3)\n",
      "[QClass]  Feature dimension =  3\n",
      "[QClass]  Quantum backend =  AerSimulator('aer_simulator_statevector')\n",
      "[QClass]  seed =  332897\n",
      "[QClass]  SVM initiating algorithm\n",
      "[QClass]  Training...\n"
     ]
    },
    {
     "name": "stderr",
     "output_type": "stream",
     "text": [
      "WARNING:root:FidelityQuantumKernel skipped because of time.\n",
      "                    Using FidelityStatevectorKernel with AerStatevector.\n",
      "                    Seed cannot be set with FidelityStatevectorKernel.\n",
      "                    Increase the number of shots to diminish the noise.\n"
     ]
    },
    {
     "name": "stdout",
     "output_type": "stream",
     "text": [
      "[QClass]  Prediction finished.\n",
      "[QClass]  Initializing Quantum Classifier\n",
      "[QClass]  Quantum simulation will be performed\n",
      "GPU optimization disabled. No device found.\n",
      "[QClass]  Fitting:  (544, 3)\n",
      "[QClass]  Feature dimension =  3\n",
      "[QClass]  Quantum backend =  AerSimulator('aer_simulator_statevector')\n",
      "[QClass]  seed =  332897\n",
      "[QClass]  SVM initiating algorithm\n",
      "[QClass]  Training...\n"
     ]
    },
    {
     "name": "stderr",
     "output_type": "stream",
     "text": [
      "WARNING:root:FidelityQuantumKernel skipped because of time.\n",
      "                    Using FidelityStatevectorKernel with AerStatevector.\n",
      "                    Seed cannot be set with FidelityStatevectorKernel.\n",
      "                    Increase the number of shots to diminish the noise.\n"
     ]
    },
    {
     "name": "stdout",
     "output_type": "stream",
     "text": [
      "[QClass]  Prediction finished.\n",
      "[QClass]  Initializing Quantum Classifier\n",
      "[QClass]  Quantum simulation will be performed\n",
      "GPU optimization disabled. No device found.\n",
      "[QClass]  Fitting:  (545, 3)\n",
      "[QClass]  Feature dimension =  3\n",
      "[QClass]  Quantum backend =  AerSimulator('aer_simulator_statevector')\n",
      "[QClass]  seed =  332897\n",
      "[QClass]  SVM initiating algorithm\n",
      "[QClass]  Training...\n"
     ]
    },
    {
     "name": "stderr",
     "output_type": "stream",
     "text": [
      "WARNING:root:FidelityQuantumKernel skipped because of time.\n",
      "                    Using FidelityStatevectorKernel with AerStatevector.\n",
      "                    Seed cannot be set with FidelityStatevectorKernel.\n",
      "                    Increase the number of shots to diminish the noise.\n"
     ]
    },
    {
     "name": "stdout",
     "output_type": "stream",
     "text": [
      "[QClass]  Prediction finished.\n",
      "[QClass]  Initializing Quantum Classifier\n",
      "[QClass]  Quantum simulation will be performed\n",
      "GPU optimization disabled. No device found.\n",
      "[QClass]  Fitting:  (545, 3)\n",
      "[QClass]  Feature dimension =  3\n",
      "[QClass]  Quantum backend =  AerSimulator('aer_simulator_statevector')\n",
      "[QClass]  seed =  332897\n",
      "[QClass]  SVM initiating algorithm\n",
      "[QClass]  Training...\n"
     ]
    },
    {
     "name": "stderr",
     "output_type": "stream",
     "text": [
      "WARNING:root:FidelityQuantumKernel skipped because of time.\n",
      "                    Using FidelityStatevectorKernel with AerStatevector.\n",
      "                    Seed cannot be set with FidelityStatevectorKernel.\n",
      "                    Increase the number of shots to diminish the noise.\n"
     ]
    },
    {
     "name": "stdout",
     "output_type": "stream",
     "text": [
      "[QClass]  Prediction finished.\n",
      "[QClass]  Initializing Quantum Classifier\n",
      "[QClass]  Quantum simulation will be performed\n",
      "GPU optimization disabled. No device found.\n",
      "[QClass]  Fitting:  (545, 3)\n",
      "[QClass]  Feature dimension =  3\n",
      "[QClass]  Quantum backend =  AerSimulator('aer_simulator_statevector')\n",
      "[QClass]  seed =  332897\n",
      "[QClass]  SVM initiating algorithm\n",
      "[QClass]  Training...\n"
     ]
    },
    {
     "name": "stderr",
     "output_type": "stream",
     "text": [
      "WARNING:root:FidelityQuantumKernel skipped because of time.\n",
      "                    Using FidelityStatevectorKernel with AerStatevector.\n",
      "                    Seed cannot be set with FidelityStatevectorKernel.\n",
      "                    Increase the number of shots to diminish the noise.\n"
     ]
    },
    {
     "name": "stdout",
     "output_type": "stream",
     "text": [
      "[QClass]  Prediction finished.\n",
      "[QClass]  Initializing Quantum Classifier\n",
      "[QClass]  Quantum simulation will be performed\n",
      "GPU optimization disabled. No device found.\n",
      "[QClass]  Fitting:  (545, 3)\n",
      "[QClass]  Feature dimension =  3\n",
      "[QClass]  Quantum backend =  AerSimulator('aer_simulator_statevector')\n",
      "[QClass]  seed =  332897\n",
      "[QClass]  SVM initiating algorithm\n",
      "[QClass]  Training...\n"
     ]
    },
    {
     "name": "stderr",
     "output_type": "stream",
     "text": [
      "WARNING:root:FidelityQuantumKernel skipped because of time.\n",
      "                    Using FidelityStatevectorKernel with AerStatevector.\n",
      "                    Seed cannot be set with FidelityStatevectorKernel.\n",
      "                    Increase the number of shots to diminish the noise.\n"
     ]
    },
    {
     "name": "stdout",
     "output_type": "stream",
     "text": [
      "[QClass]  Prediction finished.\n",
      "[QClass]  Initializing Quantum Classifier\n",
      "[QClass]  Quantum simulation will be performed\n",
      "GPU optimization disabled. No device found.\n",
      "[QClass]  Fitting:  (544, 3)\n",
      "[QClass]  Feature dimension =  3\n",
      "[QClass]  Quantum backend =  AerSimulator('aer_simulator_statevector')\n",
      "[QClass]  seed =  332897\n",
      "[QClass]  SVM initiating algorithm\n",
      "[QClass]  Training...\n"
     ]
    },
    {
     "name": "stderr",
     "output_type": "stream",
     "text": [
      "WARNING:root:FidelityQuantumKernel skipped because of time.\n",
      "                    Using FidelityStatevectorKernel with AerStatevector.\n",
      "                    Seed cannot be set with FidelityStatevectorKernel.\n",
      "                    Increase the number of shots to diminish the noise.\n"
     ]
    },
    {
     "name": "stdout",
     "output_type": "stream",
     "text": [
      "[QClass]  Prediction finished.\n",
      "[QClass]  Initializing Quantum Classifier\n",
      "[QClass]  Quantum simulation will be performed\n",
      "GPU optimization disabled. No device found.\n",
      "[QClass]  Fitting:  (545, 3)\n",
      "[QClass]  Feature dimension =  3\n",
      "[QClass]  Quantum backend =  AerSimulator('aer_simulator_statevector')\n",
      "[QClass]  seed =  332897\n",
      "[QClass]  SVM initiating algorithm\n",
      "[QClass]  Training...\n"
     ]
    },
    {
     "name": "stderr",
     "output_type": "stream",
     "text": [
      "WARNING:root:FidelityQuantumKernel skipped because of time.\n",
      "                    Using FidelityStatevectorKernel with AerStatevector.\n",
      "                    Seed cannot be set with FidelityStatevectorKernel.\n",
      "                    Increase the number of shots to diminish the noise.\n"
     ]
    },
    {
     "name": "stdout",
     "output_type": "stream",
     "text": [
      "[QClass]  Prediction finished.\n",
      "[QClass]  Initializing Quantum Classifier\n",
      "[QClass]  Quantum simulation will be performed\n",
      "GPU optimization disabled. No device found.\n",
      "[QClass]  Fitting:  (545, 3)\n",
      "[QClass]  Feature dimension =  3\n",
      "[QClass]  Quantum backend =  AerSimulator('aer_simulator_statevector')\n",
      "[QClass]  seed =  332897\n",
      "[QClass]  SVM initiating algorithm\n",
      "[QClass]  Training...\n"
     ]
    },
    {
     "name": "stderr",
     "output_type": "stream",
     "text": [
      "WARNING:root:FidelityQuantumKernel skipped because of time.\n",
      "                    Using FidelityStatevectorKernel with AerStatevector.\n",
      "                    Seed cannot be set with FidelityStatevectorKernel.\n",
      "                    Increase the number of shots to diminish the noise.\n"
     ]
    },
    {
     "name": "stdout",
     "output_type": "stream",
     "text": [
      "[QClass]  Prediction finished.\n",
      "[QClass]  Initializing Quantum Classifier\n",
      "[QClass]  Quantum simulation will be performed\n",
      "GPU optimization disabled. No device found.\n",
      "[QClass]  Fitting:  (545, 3)\n",
      "[QClass]  Feature dimension =  3\n",
      "[QClass]  Quantum backend =  AerSimulator('aer_simulator_statevector')\n",
      "[QClass]  seed =  332897\n",
      "[QClass]  SVM initiating algorithm\n",
      "[QClass]  Training...\n"
     ]
    },
    {
     "name": "stderr",
     "output_type": "stream",
     "text": [
      "WARNING:root:FidelityQuantumKernel skipped because of time.\n",
      "                    Using FidelityStatevectorKernel with AerStatevector.\n",
      "                    Seed cannot be set with FidelityStatevectorKernel.\n",
      "                    Increase the number of shots to diminish the noise.\n"
     ]
    },
    {
     "name": "stdout",
     "output_type": "stream",
     "text": [
      "[QClass]  Prediction finished.\n",
      "[QClass]  Initializing Quantum Classifier\n",
      "[QClass]  Quantum simulation will be performed\n",
      "GPU optimization disabled. No device found.\n",
      "[QClass]  Fitting:  (545, 3)\n",
      "[QClass]  Feature dimension =  3\n",
      "[QClass]  Quantum backend =  AerSimulator('aer_simulator_statevector')\n",
      "[QClass]  seed =  332897\n",
      "[QClass]  SVM initiating algorithm\n",
      "[QClass]  Training...\n"
     ]
    },
    {
     "name": "stderr",
     "output_type": "stream",
     "text": [
      "WARNING:root:FidelityQuantumKernel skipped because of time.\n",
      "                    Using FidelityStatevectorKernel with AerStatevector.\n",
      "                    Seed cannot be set with FidelityStatevectorKernel.\n",
      "                    Increase the number of shots to diminish the noise.\n"
     ]
    },
    {
     "name": "stdout",
     "output_type": "stream",
     "text": [
      "[QClass]  Prediction finished.\n",
      "[QClass]  Initializing Quantum Classifier\n",
      "[QClass]  Quantum simulation will be performed\n",
      "GPU optimization disabled. No device found.\n",
      "[QClass]  Fitting:  (544, 3)\n",
      "[QClass]  Feature dimension =  3\n",
      "[QClass]  Quantum backend =  AerSimulator('aer_simulator_statevector')\n",
      "[QClass]  seed =  332897\n",
      "[QClass]  SVM initiating algorithm\n",
      "[QClass]  Training...\n"
     ]
    },
    {
     "name": "stderr",
     "output_type": "stream",
     "text": [
      "WARNING:root:FidelityQuantumKernel skipped because of time.\n",
      "                    Using FidelityStatevectorKernel with AerStatevector.\n",
      "                    Seed cannot be set with FidelityStatevectorKernel.\n",
      "                    Increase the number of shots to diminish the noise.\n"
     ]
    },
    {
     "name": "stdout",
     "output_type": "stream",
     "text": [
      "[QClass]  Prediction finished.\n",
      "[QClass]  Initializing Quantum Classifier\n",
      "[QClass]  Quantum simulation will be performed\n",
      "GPU optimization disabled. No device found.\n",
      "[QClass]  Fitting:  (545, 3)\n",
      "[QClass]  Feature dimension =  3\n",
      "[QClass]  Quantum backend =  AerSimulator('aer_simulator_statevector')\n",
      "[QClass]  seed =  332897\n",
      "[QClass]  SVM initiating algorithm\n",
      "[QClass]  Training...\n"
     ]
    },
    {
     "name": "stderr",
     "output_type": "stream",
     "text": [
      "WARNING:root:FidelityQuantumKernel skipped because of time.\n",
      "                    Using FidelityStatevectorKernel with AerStatevector.\n",
      "                    Seed cannot be set with FidelityStatevectorKernel.\n",
      "                    Increase the number of shots to diminish the noise.\n"
     ]
    },
    {
     "name": "stdout",
     "output_type": "stream",
     "text": [
      "[QClass]  Prediction finished.\n",
      "[QClass]  Initializing Quantum Classifier\n",
      "[QClass]  Quantum simulation will be performed\n",
      "GPU optimization disabled. No device found.\n",
      "[QClass]  Fitting:  (545, 3)\n",
      "[QClass]  Feature dimension =  3\n",
      "[QClass]  Quantum backend =  AerSimulator('aer_simulator_statevector')\n",
      "[QClass]  seed =  332897\n",
      "[QClass]  SVM initiating algorithm\n",
      "[QClass]  Training...\n"
     ]
    },
    {
     "name": "stderr",
     "output_type": "stream",
     "text": [
      "WARNING:root:FidelityQuantumKernel skipped because of time.\n",
      "                    Using FidelityStatevectorKernel with AerStatevector.\n",
      "                    Seed cannot be set with FidelityStatevectorKernel.\n",
      "                    Increase the number of shots to diminish the noise.\n"
     ]
    },
    {
     "name": "stdout",
     "output_type": "stream",
     "text": [
      "[QClass]  Prediction finished.\n",
      "[QClass]  Initializing Quantum Classifier\n",
      "[QClass]  Quantum simulation will be performed\n",
      "GPU optimization disabled. No device found.\n",
      "[QClass]  Fitting:  (545, 3)\n",
      "[QClass]  Feature dimension =  3\n",
      "[QClass]  Quantum backend =  AerSimulator('aer_simulator_statevector')\n",
      "[QClass]  seed =  332897\n",
      "[QClass]  SVM initiating algorithm\n",
      "[QClass]  Training...\n"
     ]
    },
    {
     "name": "stderr",
     "output_type": "stream",
     "text": [
      "WARNING:root:FidelityQuantumKernel skipped because of time.\n",
      "                    Using FidelityStatevectorKernel with AerStatevector.\n",
      "                    Seed cannot be set with FidelityStatevectorKernel.\n",
      "                    Increase the number of shots to diminish the noise.\n"
     ]
    },
    {
     "name": "stdout",
     "output_type": "stream",
     "text": [
      "[QClass]  Prediction finished.\n",
      "[QClass]  Initializing Quantum Classifier\n",
      "[QClass]  Quantum simulation will be performed\n",
      "GPU optimization disabled. No device found.\n",
      "[QClass]  Fitting:  (545, 3)\n",
      "[QClass]  Feature dimension =  3\n",
      "[QClass]  Quantum backend =  AerSimulator('aer_simulator_statevector')\n",
      "[QClass]  seed =  332897\n",
      "[QClass]  SVM initiating algorithm\n",
      "[QClass]  Training...\n"
     ]
    },
    {
     "name": "stderr",
     "output_type": "stream",
     "text": [
      "WARNING:root:FidelityQuantumKernel skipped because of time.\n",
      "                    Using FidelityStatevectorKernel with AerStatevector.\n",
      "                    Seed cannot be set with FidelityStatevectorKernel.\n",
      "                    Increase the number of shots to diminish the noise.\n"
     ]
    },
    {
     "name": "stdout",
     "output_type": "stream",
     "text": [
      "[QClass]  Prediction finished.\n",
      "[QClass]  Initializing Quantum Classifier\n",
      "[QClass]  Quantum simulation will be performed\n",
      "GPU optimization disabled. No device found.\n",
      "[QClass]  Fitting:  (544, 3)\n",
      "[QClass]  Feature dimension =  3\n",
      "[QClass]  Quantum backend =  AerSimulator('aer_simulator_statevector')\n",
      "[QClass]  seed =  332897\n",
      "[QClass]  SVM initiating algorithm\n",
      "[QClass]  Training...\n"
     ]
    },
    {
     "name": "stderr",
     "output_type": "stream",
     "text": [
      "WARNING:root:FidelityQuantumKernel skipped because of time.\n",
      "                    Using FidelityStatevectorKernel with AerStatevector.\n",
      "                    Seed cannot be set with FidelityStatevectorKernel.\n",
      "                    Increase the number of shots to diminish the noise.\n"
     ]
    },
    {
     "name": "stdout",
     "output_type": "stream",
     "text": [
      "[QClass]  Prediction finished.\n",
      "[QClass]  Initializing Quantum Classifier\n",
      "[QClass]  Quantum simulation will be performed\n",
      "GPU optimization disabled. No device found.\n",
      "[QClass]  Fitting:  (545, 3)\n",
      "[QClass]  Feature dimension =  3\n",
      "[QClass]  Quantum backend =  AerSimulator('aer_simulator_statevector')\n",
      "[QClass]  seed =  332897\n",
      "[QClass]  SVM initiating algorithm\n",
      "[QClass]  Training...\n"
     ]
    },
    {
     "name": "stderr",
     "output_type": "stream",
     "text": [
      "WARNING:root:FidelityQuantumKernel skipped because of time.\n",
      "                    Using FidelityStatevectorKernel with AerStatevector.\n",
      "                    Seed cannot be set with FidelityStatevectorKernel.\n",
      "                    Increase the number of shots to diminish the noise.\n"
     ]
    },
    {
     "name": "stdout",
     "output_type": "stream",
     "text": [
      "[QClass]  Prediction finished.\n",
      "[QClass]  Initializing Quantum Classifier\n",
      "[QClass]  Quantum simulation will be performed\n",
      "GPU optimization disabled. No device found.\n",
      "[QClass]  Fitting:  (545, 3)\n",
      "[QClass]  Feature dimension =  3\n",
      "[QClass]  Quantum backend =  AerSimulator('aer_simulator_statevector')\n",
      "[QClass]  seed =  332897\n",
      "[QClass]  SVM initiating algorithm\n",
      "[QClass]  Training...\n"
     ]
    },
    {
     "name": "stderr",
     "output_type": "stream",
     "text": [
      "WARNING:root:FidelityQuantumKernel skipped because of time.\n",
      "                    Using FidelityStatevectorKernel with AerStatevector.\n",
      "                    Seed cannot be set with FidelityStatevectorKernel.\n",
      "                    Increase the number of shots to diminish the noise.\n"
     ]
    },
    {
     "name": "stdout",
     "output_type": "stream",
     "text": [
      "[QClass]  Prediction finished.\n",
      "[QClass]  Initializing Quantum Classifier\n",
      "[QClass]  Quantum simulation will be performed\n",
      "GPU optimization disabled. No device found.\n",
      "[QClass]  Fitting:  (545, 3)\n",
      "[QClass]  Feature dimension =  3\n",
      "[QClass]  Quantum backend =  AerSimulator('aer_simulator_statevector')\n",
      "[QClass]  seed =  332897\n",
      "[QClass]  SVM initiating algorithm\n",
      "[QClass]  Training...\n"
     ]
    },
    {
     "name": "stderr",
     "output_type": "stream",
     "text": [
      "WARNING:root:FidelityQuantumKernel skipped because of time.\n",
      "                    Using FidelityStatevectorKernel with AerStatevector.\n",
      "                    Seed cannot be set with FidelityStatevectorKernel.\n",
      "                    Increase the number of shots to diminish the noise.\n"
     ]
    },
    {
     "name": "stdout",
     "output_type": "stream",
     "text": [
      "[QClass]  Prediction finished.\n",
      "[QClass]  Initializing Quantum Classifier\n",
      "[QClass]  Quantum simulation will be performed\n",
      "GPU optimization disabled. No device found.\n",
      "[QClass]  Fitting:  (545, 3)\n",
      "[QClass]  Feature dimension =  3\n",
      "[QClass]  Quantum backend =  AerSimulator('aer_simulator_statevector')\n",
      "[QClass]  seed =  332897\n",
      "[QClass]  SVM initiating algorithm\n",
      "[QClass]  Training...\n"
     ]
    },
    {
     "name": "stderr",
     "output_type": "stream",
     "text": [
      "WARNING:root:FidelityQuantumKernel skipped because of time.\n",
      "                    Using FidelityStatevectorKernel with AerStatevector.\n",
      "                    Seed cannot be set with FidelityStatevectorKernel.\n",
      "                    Increase the number of shots to diminish the noise.\n"
     ]
    },
    {
     "name": "stdout",
     "output_type": "stream",
     "text": [
      "[QClass]  Prediction finished.\n",
      "[QClass]  Initializing Quantum Classifier\n",
      "[QClass]  Quantum simulation will be performed\n",
      "GPU optimization disabled. No device found.\n",
      "[QClass]  Fitting:  (544, 3)\n",
      "[QClass]  Feature dimension =  3\n",
      "[QClass]  Quantum backend =  AerSimulator('aer_simulator_statevector')\n",
      "[QClass]  seed =  332897\n",
      "[QClass]  SVM initiating algorithm\n",
      "[QClass]  Training...\n"
     ]
    },
    {
     "name": "stderr",
     "output_type": "stream",
     "text": [
      "WARNING:root:FidelityQuantumKernel skipped because of time.\n",
      "                    Using FidelityStatevectorKernel with AerStatevector.\n",
      "                    Seed cannot be set with FidelityStatevectorKernel.\n",
      "                    Increase the number of shots to diminish the noise.\n"
     ]
    },
    {
     "name": "stdout",
     "output_type": "stream",
     "text": [
      "[QClass]  Prediction finished.\n",
      "[QClass]  Initializing Quantum Classifier\n",
      "[QClass]  Quantum simulation will be performed\n",
      "GPU optimization disabled. No device found.\n",
      "[QClass]  Fitting:  (545, 3)\n",
      "[QClass]  Feature dimension =  3\n",
      "[QClass]  Quantum backend =  AerSimulator('aer_simulator_statevector')\n",
      "[QClass]  seed =  332897\n",
      "[QClass]  SVM initiating algorithm\n",
      "[QClass]  Training...\n"
     ]
    },
    {
     "name": "stderr",
     "output_type": "stream",
     "text": [
      "WARNING:root:FidelityQuantumKernel skipped because of time.\n",
      "                    Using FidelityStatevectorKernel with AerStatevector.\n",
      "                    Seed cannot be set with FidelityStatevectorKernel.\n",
      "                    Increase the number of shots to diminish the noise.\n"
     ]
    },
    {
     "name": "stdout",
     "output_type": "stream",
     "text": [
      "[QClass]  Prediction finished.\n",
      "[QClass]  Initializing Quantum Classifier\n",
      "[QClass]  Quantum simulation will be performed\n",
      "GPU optimization disabled. No device found.\n",
      "[QClass]  Fitting:  (545, 3)\n",
      "[QClass]  Feature dimension =  3\n",
      "[QClass]  Quantum backend =  AerSimulator('aer_simulator_statevector')\n",
      "[QClass]  seed =  332897\n",
      "[QClass]  SVM initiating algorithm\n",
      "[QClass]  Training...\n"
     ]
    },
    {
     "name": "stderr",
     "output_type": "stream",
     "text": [
      "WARNING:root:FidelityQuantumKernel skipped because of time.\n",
      "                    Using FidelityStatevectorKernel with AerStatevector.\n",
      "                    Seed cannot be set with FidelityStatevectorKernel.\n",
      "                    Increase the number of shots to diminish the noise.\n"
     ]
    },
    {
     "name": "stdout",
     "output_type": "stream",
     "text": [
      "[QClass]  Prediction finished.\n",
      "[QClass]  Initializing Quantum Classifier\n",
      "[QClass]  Quantum simulation will be performed\n",
      "GPU optimization disabled. No device found.\n",
      "[QClass]  Fitting:  (545, 3)\n",
      "[QClass]  Feature dimension =  3\n",
      "[QClass]  Quantum backend =  AerSimulator('aer_simulator_statevector')\n",
      "[QClass]  seed =  332897\n",
      "[QClass]  SVM initiating algorithm\n",
      "[QClass]  Training...\n"
     ]
    },
    {
     "name": "stderr",
     "output_type": "stream",
     "text": [
      "WARNING:root:FidelityQuantumKernel skipped because of time.\n",
      "                    Using FidelityStatevectorKernel with AerStatevector.\n",
      "                    Seed cannot be set with FidelityStatevectorKernel.\n",
      "                    Increase the number of shots to diminish the noise.\n"
     ]
    },
    {
     "name": "stdout",
     "output_type": "stream",
     "text": [
      "[QClass]  Prediction finished.\n",
      "[QClass]  Initializing Quantum Classifier\n",
      "[QClass]  Quantum simulation will be performed\n",
      "GPU optimization disabled. No device found.\n",
      "[QClass]  Fitting:  (545, 3)\n",
      "[QClass]  Feature dimension =  3\n",
      "[QClass]  Quantum backend =  AerSimulator('aer_simulator_statevector')\n",
      "[QClass]  seed =  332897\n",
      "[QClass]  SVM initiating algorithm\n",
      "[QClass]  Training...\n"
     ]
    },
    {
     "name": "stderr",
     "output_type": "stream",
     "text": [
      "WARNING:root:FidelityQuantumKernel skipped because of time.\n",
      "                    Using FidelityStatevectorKernel with AerStatevector.\n",
      "                    Seed cannot be set with FidelityStatevectorKernel.\n",
      "                    Increase the number of shots to diminish the noise.\n"
     ]
    },
    {
     "name": "stdout",
     "output_type": "stream",
     "text": [
      "[QClass]  Prediction finished.\n",
      "[QClass]  Initializing Quantum Classifier\n",
      "[QClass]  Quantum simulation will be performed\n",
      "GPU optimization disabled. No device found.\n",
      "[QClass]  Fitting:  (544, 3)\n",
      "[QClass]  Feature dimension =  3\n",
      "[QClass]  Quantum backend =  AerSimulator('aer_simulator_statevector')\n",
      "[QClass]  seed =  332897\n",
      "[QClass]  SVM initiating algorithm\n",
      "[QClass]  Training...\n"
     ]
    },
    {
     "name": "stderr",
     "output_type": "stream",
     "text": [
      "WARNING:root:FidelityQuantumKernel skipped because of time.\n",
      "                    Using FidelityStatevectorKernel with AerStatevector.\n",
      "                    Seed cannot be set with FidelityStatevectorKernel.\n",
      "                    Increase the number of shots to diminish the noise.\n"
     ]
    },
    {
     "name": "stdout",
     "output_type": "stream",
     "text": [
      "[QClass]  Prediction finished.\n",
      "[QClass]  Initializing Quantum Classifier\n",
      "[QClass]  Quantum simulation will be performed\n",
      "GPU optimization disabled. No device found.\n",
      "[QClass]  Fitting:  (545, 3)\n",
      "[QClass]  Feature dimension =  3\n",
      "[QClass]  Quantum backend =  AerSimulator('aer_simulator_statevector')\n",
      "[QClass]  seed =  332897\n",
      "[QClass]  SVM initiating algorithm\n",
      "[QClass]  Training...\n"
     ]
    },
    {
     "name": "stderr",
     "output_type": "stream",
     "text": [
      "WARNING:root:FidelityQuantumKernel skipped because of time.\n",
      "                    Using FidelityStatevectorKernel with AerStatevector.\n",
      "                    Seed cannot be set with FidelityStatevectorKernel.\n",
      "                    Increase the number of shots to diminish the noise.\n"
     ]
    },
    {
     "name": "stdout",
     "output_type": "stream",
     "text": [
      "[QClass]  Prediction finished.\n",
      "[QClass]  Initializing Quantum Classifier\n",
      "[QClass]  Quantum simulation will be performed\n",
      "GPU optimization disabled. No device found.\n",
      "[QClass]  Fitting:  (545, 3)\n",
      "[QClass]  Feature dimension =  3\n",
      "[QClass]  Quantum backend =  AerSimulator('aer_simulator_statevector')\n",
      "[QClass]  seed =  332897\n",
      "[QClass]  SVM initiating algorithm\n",
      "[QClass]  Training...\n"
     ]
    },
    {
     "name": "stderr",
     "output_type": "stream",
     "text": [
      "WARNING:root:FidelityQuantumKernel skipped because of time.\n",
      "                    Using FidelityStatevectorKernel with AerStatevector.\n",
      "                    Seed cannot be set with FidelityStatevectorKernel.\n",
      "                    Increase the number of shots to diminish the noise.\n"
     ]
    },
    {
     "name": "stdout",
     "output_type": "stream",
     "text": [
      "[QClass]  Prediction finished.\n",
      "[QClass]  Initializing Quantum Classifier\n",
      "[QClass]  Quantum simulation will be performed\n",
      "GPU optimization disabled. No device found.\n",
      "[QClass]  Fitting:  (545, 3)\n",
      "[QClass]  Feature dimension =  3\n",
      "[QClass]  Quantum backend =  AerSimulator('aer_simulator_statevector')\n",
      "[QClass]  seed =  332897\n",
      "[QClass]  SVM initiating algorithm\n",
      "[QClass]  Training...\n"
     ]
    },
    {
     "name": "stderr",
     "output_type": "stream",
     "text": [
      "WARNING:root:FidelityQuantumKernel skipped because of time.\n",
      "                    Using FidelityStatevectorKernel with AerStatevector.\n",
      "                    Seed cannot be set with FidelityStatevectorKernel.\n",
      "                    Increase the number of shots to diminish the noise.\n"
     ]
    },
    {
     "name": "stdout",
     "output_type": "stream",
     "text": [
      "[QClass]  Prediction finished.\n",
      "[QClass]  Initializing Quantum Classifier\n",
      "[QClass]  Quantum simulation will be performed\n",
      "GPU optimization disabled. No device found.\n",
      "[QClass]  Fitting:  (545, 3)\n",
      "[QClass]  Feature dimension =  3\n",
      "[QClass]  Quantum backend =  AerSimulator('aer_simulator_statevector')\n",
      "[QClass]  seed =  332897\n",
      "[QClass]  SVM initiating algorithm\n",
      "[QClass]  Training...\n"
     ]
    },
    {
     "name": "stderr",
     "output_type": "stream",
     "text": [
      "WARNING:root:FidelityQuantumKernel skipped because of time.\n",
      "                    Using FidelityStatevectorKernel with AerStatevector.\n",
      "                    Seed cannot be set with FidelityStatevectorKernel.\n",
      "                    Increase the number of shots to diminish the noise.\n"
     ]
    },
    {
     "name": "stdout",
     "output_type": "stream",
     "text": [
      "[QClass]  Prediction finished.\n",
      "[QClass]  Initializing Quantum Classifier\n",
      "[QClass]  Quantum simulation will be performed\n",
      "GPU optimization disabled. No device found.\n",
      "[QClass]  Fitting:  (544, 3)\n",
      "[QClass]  Feature dimension =  3\n",
      "[QClass]  Quantum backend =  AerSimulator('aer_simulator_statevector')\n",
      "[QClass]  seed =  332897\n",
      "[QClass]  SVM initiating algorithm\n",
      "[QClass]  Training...\n"
     ]
    },
    {
     "name": "stderr",
     "output_type": "stream",
     "text": [
      "WARNING:root:FidelityQuantumKernel skipped because of time.\n",
      "                    Using FidelityStatevectorKernel with AerStatevector.\n",
      "                    Seed cannot be set with FidelityStatevectorKernel.\n",
      "                    Increase the number of shots to diminish the noise.\n"
     ]
    },
    {
     "name": "stdout",
     "output_type": "stream",
     "text": [
      "[QClass]  Prediction finished.\n",
      "[QClass]  Initializing Quantum Classifier\n",
      "[QClass]  Quantum simulation will be performed\n",
      "GPU optimization disabled. No device found.\n",
      "[QClass]  Fitting:  (545, 3)\n",
      "[QClass]  Feature dimension =  3\n",
      "[QClass]  Quantum backend =  AerSimulator('aer_simulator_statevector')\n",
      "[QClass]  seed =  332897\n",
      "[QClass]  SVM initiating algorithm\n",
      "[QClass]  Training...\n"
     ]
    },
    {
     "name": "stderr",
     "output_type": "stream",
     "text": [
      "WARNING:root:FidelityQuantumKernel skipped because of time.\n",
      "                    Using FidelityStatevectorKernel with AerStatevector.\n",
      "                    Seed cannot be set with FidelityStatevectorKernel.\n",
      "                    Increase the number of shots to diminish the noise.\n"
     ]
    },
    {
     "name": "stdout",
     "output_type": "stream",
     "text": [
      "[QClass]  Prediction finished.\n",
      "[QClass]  Initializing Quantum Classifier\n",
      "[QClass]  Quantum simulation will be performed\n",
      "GPU optimization disabled. No device found.\n",
      "[QClass]  Fitting:  (545, 3)\n",
      "[QClass]  Feature dimension =  3\n",
      "[QClass]  Quantum backend =  AerSimulator('aer_simulator_statevector')\n",
      "[QClass]  seed =  332897\n",
      "[QClass]  SVM initiating algorithm\n",
      "[QClass]  Training...\n"
     ]
    },
    {
     "name": "stderr",
     "output_type": "stream",
     "text": [
      "WARNING:root:FidelityQuantumKernel skipped because of time.\n",
      "                    Using FidelityStatevectorKernel with AerStatevector.\n",
      "                    Seed cannot be set with FidelityStatevectorKernel.\n",
      "                    Increase the number of shots to diminish the noise.\n"
     ]
    },
    {
     "name": "stdout",
     "output_type": "stream",
     "text": [
      "[QClass]  Prediction finished.\n",
      "[QClass]  Initializing Quantum Classifier\n",
      "[QClass]  Quantum simulation will be performed\n",
      "GPU optimization disabled. No device found.\n",
      "[QClass]  Fitting:  (545, 3)\n",
      "[QClass]  Feature dimension =  3\n",
      "[QClass]  Quantum backend =  AerSimulator('aer_simulator_statevector')\n",
      "[QClass]  seed =  332897\n",
      "[QClass]  SVM initiating algorithm\n",
      "[QClass]  Training...\n"
     ]
    },
    {
     "name": "stderr",
     "output_type": "stream",
     "text": [
      "WARNING:root:FidelityQuantumKernel skipped because of time.\n",
      "                    Using FidelityStatevectorKernel with AerStatevector.\n",
      "                    Seed cannot be set with FidelityStatevectorKernel.\n",
      "                    Increase the number of shots to diminish the noise.\n"
     ]
    },
    {
     "name": "stdout",
     "output_type": "stream",
     "text": [
      "[QClass]  Prediction finished.\n",
      "[QClass]  Initializing Quantum Classifier\n",
      "[QClass]  Quantum simulation will be performed\n",
      "GPU optimization disabled. No device found.\n",
      "[QClass]  Fitting:  (545, 3)\n",
      "[QClass]  Feature dimension =  3\n",
      "[QClass]  Quantum backend =  AerSimulator('aer_simulator_statevector')\n",
      "[QClass]  seed =  332897\n",
      "[QClass]  SVM initiating algorithm\n",
      "[QClass]  Training...\n"
     ]
    },
    {
     "name": "stderr",
     "output_type": "stream",
     "text": [
      "WARNING:root:FidelityQuantumKernel skipped because of time.\n",
      "                    Using FidelityStatevectorKernel with AerStatevector.\n",
      "                    Seed cannot be set with FidelityStatevectorKernel.\n",
      "                    Increase the number of shots to diminish the noise.\n"
     ]
    },
    {
     "name": "stdout",
     "output_type": "stream",
     "text": [
      "[QClass]  Prediction finished.\n",
      "[QClass]  Initializing Quantum Classifier\n",
      "[QClass]  Quantum simulation will be performed\n",
      "GPU optimization disabled. No device found.\n",
      "[QClass]  Fitting:  (544, 3)\n",
      "[QClass]  Feature dimension =  3\n",
      "[QClass]  Quantum backend =  AerSimulator('aer_simulator_statevector')\n",
      "[QClass]  seed =  332897\n",
      "[QClass]  SVM initiating algorithm\n",
      "[QClass]  Training...\n"
     ]
    },
    {
     "name": "stderr",
     "output_type": "stream",
     "text": [
      "WARNING:root:FidelityQuantumKernel skipped because of time.\n",
      "                    Using FidelityStatevectorKernel with AerStatevector.\n",
      "                    Seed cannot be set with FidelityStatevectorKernel.\n",
      "                    Increase the number of shots to diminish the noise.\n"
     ]
    },
    {
     "name": "stdout",
     "output_type": "stream",
     "text": [
      "[QClass]  Prediction finished.\n",
      "[QClass]  Initializing Quantum Classifier\n",
      "[QClass]  Quantum simulation will be performed\n",
      "GPU optimization disabled. No device found.\n",
      "[QClass]  Fitting:  (545, 3)\n",
      "[QClass]  Feature dimension =  3\n",
      "[QClass]  Quantum backend =  AerSimulator('aer_simulator_statevector')\n",
      "[QClass]  seed =  332897\n",
      "[QClass]  SVM initiating algorithm\n",
      "[QClass]  Training...\n"
     ]
    },
    {
     "name": "stderr",
     "output_type": "stream",
     "text": [
      "WARNING:root:FidelityQuantumKernel skipped because of time.\n",
      "                    Using FidelityStatevectorKernel with AerStatevector.\n",
      "                    Seed cannot be set with FidelityStatevectorKernel.\n",
      "                    Increase the number of shots to diminish the noise.\n"
     ]
    },
    {
     "name": "stdout",
     "output_type": "stream",
     "text": [
      "[QClass]  Prediction finished.\n",
      "[QClass]  Initializing Quantum Classifier\n",
      "[QClass]  Quantum simulation will be performed\n",
      "GPU optimization disabled. No device found.\n",
      "[QClass]  Fitting:  (545, 3)\n",
      "[QClass]  Feature dimension =  3\n",
      "[QClass]  Quantum backend =  AerSimulator('aer_simulator_statevector')\n",
      "[QClass]  seed =  332897\n",
      "[QClass]  SVM initiating algorithm\n",
      "[QClass]  Training...\n"
     ]
    },
    {
     "name": "stderr",
     "output_type": "stream",
     "text": [
      "WARNING:root:FidelityQuantumKernel skipped because of time.\n",
      "                    Using FidelityStatevectorKernel with AerStatevector.\n",
      "                    Seed cannot be set with FidelityStatevectorKernel.\n",
      "                    Increase the number of shots to diminish the noise.\n"
     ]
    },
    {
     "name": "stdout",
     "output_type": "stream",
     "text": [
      "[QClass]  Prediction finished.\n",
      "[QClass]  Initializing Quantum Classifier\n",
      "[QClass]  Quantum simulation will be performed\n",
      "GPU optimization disabled. No device found.\n",
      "[QClass]  Fitting:  (545, 3)\n",
      "[QClass]  Feature dimension =  3\n",
      "[QClass]  Quantum backend =  AerSimulator('aer_simulator_statevector')\n",
      "[QClass]  seed =  332897\n",
      "[QClass]  SVM initiating algorithm\n",
      "[QClass]  Training...\n"
     ]
    },
    {
     "name": "stderr",
     "output_type": "stream",
     "text": [
      "WARNING:root:FidelityQuantumKernel skipped because of time.\n",
      "                    Using FidelityStatevectorKernel with AerStatevector.\n",
      "                    Seed cannot be set with FidelityStatevectorKernel.\n",
      "                    Increase the number of shots to diminish the noise.\n"
     ]
    },
    {
     "name": "stdout",
     "output_type": "stream",
     "text": [
      "[QClass]  Prediction finished.\n",
      "[QClass]  Initializing Quantum Classifier\n",
      "[QClass]  Quantum simulation will be performed\n",
      "GPU optimization disabled. No device found.\n",
      "[QClass]  Fitting:  (545, 3)\n",
      "[QClass]  Feature dimension =  3\n",
      "[QClass]  Quantum backend =  AerSimulator('aer_simulator_statevector')\n",
      "[QClass]  seed =  332897\n",
      "[QClass]  SVM initiating algorithm\n",
      "[QClass]  Training...\n"
     ]
    },
    {
     "name": "stderr",
     "output_type": "stream",
     "text": [
      "WARNING:root:FidelityQuantumKernel skipped because of time.\n",
      "                    Using FidelityStatevectorKernel with AerStatevector.\n",
      "                    Seed cannot be set with FidelityStatevectorKernel.\n",
      "                    Increase the number of shots to diminish the noise.\n"
     ]
    },
    {
     "name": "stdout",
     "output_type": "stream",
     "text": [
      "[QClass]  Prediction finished.\n",
      "[QClass]  Initializing Quantum Classifier\n",
      "[QClass]  Quantum simulation will be performed\n",
      "GPU optimization disabled. No device found.\n",
      "[QClass]  Fitting:  (544, 3)\n",
      "[QClass]  Feature dimension =  3\n",
      "[QClass]  Quantum backend =  AerSimulator('aer_simulator_statevector')\n",
      "[QClass]  seed =  332897\n",
      "[QClass]  SVM initiating algorithm\n",
      "[QClass]  Training...\n"
     ]
    },
    {
     "name": "stderr",
     "output_type": "stream",
     "text": [
      "WARNING:root:FidelityQuantumKernel skipped because of time.\n",
      "                    Using FidelityStatevectorKernel with AerStatevector.\n",
      "                    Seed cannot be set with FidelityStatevectorKernel.\n",
      "                    Increase the number of shots to diminish the noise.\n"
     ]
    },
    {
     "name": "stdout",
     "output_type": "stream",
     "text": [
      "[QClass]  Prediction finished.\n",
      "[QClass]  Initializing Quantum Classifier\n",
      "[QClass]  Quantum simulation will be performed\n",
      "GPU optimization disabled. No device found.\n",
      "[QClass]  Fitting:  (545, 3)\n",
      "[QClass]  Feature dimension =  3\n",
      "[QClass]  Quantum backend =  AerSimulator('aer_simulator_statevector')\n",
      "[QClass]  seed =  332897\n",
      "[QClass]  SVM initiating algorithm\n",
      "[QClass]  Training...\n"
     ]
    },
    {
     "name": "stderr",
     "output_type": "stream",
     "text": [
      "WARNING:root:FidelityQuantumKernel skipped because of time.\n",
      "                    Using FidelityStatevectorKernel with AerStatevector.\n",
      "                    Seed cannot be set with FidelityStatevectorKernel.\n",
      "                    Increase the number of shots to diminish the noise.\n"
     ]
    },
    {
     "name": "stdout",
     "output_type": "stream",
     "text": [
      "[QClass]  Prediction finished.\n",
      "[QClass]  Initializing Quantum Classifier\n",
      "[QClass]  Quantum simulation will be performed\n",
      "GPU optimization disabled. No device found.\n",
      "[QClass]  Fitting:  (545, 3)\n",
      "[QClass]  Feature dimension =  3\n",
      "[QClass]  Quantum backend =  AerSimulator('aer_simulator_statevector')\n",
      "[QClass]  seed =  332897\n",
      "[QClass]  SVM initiating algorithm\n",
      "[QClass]  Training...\n"
     ]
    },
    {
     "name": "stderr",
     "output_type": "stream",
     "text": [
      "WARNING:root:FidelityQuantumKernel skipped because of time.\n",
      "                    Using FidelityStatevectorKernel with AerStatevector.\n",
      "                    Seed cannot be set with FidelityStatevectorKernel.\n",
      "                    Increase the number of shots to diminish the noise.\n"
     ]
    },
    {
     "name": "stdout",
     "output_type": "stream",
     "text": [
      "[QClass]  Prediction finished.\n",
      "[QClass]  Initializing Quantum Classifier\n",
      "[QClass]  Quantum simulation will be performed\n",
      "GPU optimization disabled. No device found.\n",
      "[QClass]  Fitting:  (545, 3)\n",
      "[QClass]  Feature dimension =  3\n",
      "[QClass]  Quantum backend =  AerSimulator('aer_simulator_statevector')\n",
      "[QClass]  seed =  332897\n",
      "[QClass]  SVM initiating algorithm\n",
      "[QClass]  Training...\n"
     ]
    },
    {
     "name": "stderr",
     "output_type": "stream",
     "text": [
      "WARNING:root:FidelityQuantumKernel skipped because of time.\n",
      "                    Using FidelityStatevectorKernel with AerStatevector.\n",
      "                    Seed cannot be set with FidelityStatevectorKernel.\n",
      "                    Increase the number of shots to diminish the noise.\n"
     ]
    },
    {
     "name": "stdout",
     "output_type": "stream",
     "text": [
      "[QClass]  Prediction finished.\n",
      "[QClass]  Initializing Quantum Classifier\n",
      "[QClass]  Quantum simulation will be performed\n",
      "GPU optimization disabled. No device found.\n",
      "[QClass]  Fitting:  (545, 3)\n",
      "[QClass]  Feature dimension =  3\n",
      "[QClass]  Quantum backend =  AerSimulator('aer_simulator_statevector')\n",
      "[QClass]  seed =  332897\n",
      "[QClass]  SVM initiating algorithm\n",
      "[QClass]  Training...\n"
     ]
    },
    {
     "name": "stderr",
     "output_type": "stream",
     "text": [
      "WARNING:root:FidelityQuantumKernel skipped because of time.\n",
      "                    Using FidelityStatevectorKernel with AerStatevector.\n",
      "                    Seed cannot be set with FidelityStatevectorKernel.\n",
      "                    Increase the number of shots to diminish the noise.\n"
     ]
    },
    {
     "name": "stdout",
     "output_type": "stream",
     "text": [
      "[QClass]  Prediction finished.\n",
      "[QClass]  Initializing Quantum Classifier\n",
      "[QClass]  Quantum simulation will be performed\n",
      "GPU optimization disabled. No device found.\n",
      "[QClass]  Fitting:  (544, 3)\n",
      "[QClass]  Feature dimension =  3\n",
      "[QClass]  Quantum backend =  AerSimulator('aer_simulator_statevector')\n",
      "[QClass]  seed =  332897\n",
      "[QClass]  SVM initiating algorithm\n",
      "[QClass]  Training...\n"
     ]
    },
    {
     "name": "stderr",
     "output_type": "stream",
     "text": [
      "WARNING:root:FidelityQuantumKernel skipped because of time.\n",
      "                    Using FidelityStatevectorKernel with AerStatevector.\n",
      "                    Seed cannot be set with FidelityStatevectorKernel.\n",
      "                    Increase the number of shots to diminish the noise.\n"
     ]
    },
    {
     "name": "stdout",
     "output_type": "stream",
     "text": [
      "[QClass]  Prediction finished.\n",
      "[QClass]  Initializing Quantum Classifier\n",
      "[QClass]  Quantum simulation will be performed\n",
      "GPU optimization disabled. No device found.\n",
      "[QClass]  Fitting:  (545, 3)\n",
      "[QClass]  Feature dimension =  3\n",
      "[QClass]  Quantum backend =  AerSimulator('aer_simulator_statevector')\n",
      "[QClass]  seed =  332897\n",
      "[QClass]  SVM initiating algorithm\n",
      "[QClass]  Training...\n"
     ]
    },
    {
     "name": "stderr",
     "output_type": "stream",
     "text": [
      "WARNING:root:FidelityQuantumKernel skipped because of time.\n",
      "                    Using FidelityStatevectorKernel with AerStatevector.\n",
      "                    Seed cannot be set with FidelityStatevectorKernel.\n",
      "                    Increase the number of shots to diminish the noise.\n"
     ]
    },
    {
     "name": "stdout",
     "output_type": "stream",
     "text": [
      "[QClass]  Prediction finished.\n",
      "[QClass]  Initializing Quantum Classifier\n",
      "[QClass]  Quantum simulation will be performed\n",
      "GPU optimization disabled. No device found.\n",
      "[QClass]  Fitting:  (545, 3)\n",
      "[QClass]  Feature dimension =  3\n",
      "[QClass]  Quantum backend =  AerSimulator('aer_simulator_statevector')\n",
      "[QClass]  seed =  332897\n",
      "[QClass]  SVM initiating algorithm\n",
      "[QClass]  Training...\n"
     ]
    },
    {
     "name": "stderr",
     "output_type": "stream",
     "text": [
      "WARNING:root:FidelityQuantumKernel skipped because of time.\n",
      "                    Using FidelityStatevectorKernel with AerStatevector.\n",
      "                    Seed cannot be set with FidelityStatevectorKernel.\n",
      "                    Increase the number of shots to diminish the noise.\n"
     ]
    },
    {
     "name": "stdout",
     "output_type": "stream",
     "text": [
      "[QClass]  Prediction finished.\n",
      "[QClass]  Initializing Quantum Classifier\n",
      "[QClass]  Quantum simulation will be performed\n",
      "GPU optimization disabled. No device found.\n",
      "[QClass]  Fitting:  (545, 3)\n",
      "[QClass]  Feature dimension =  3\n",
      "[QClass]  Quantum backend =  AerSimulator('aer_simulator_statevector')\n",
      "[QClass]  seed =  332897\n",
      "[QClass]  SVM initiating algorithm\n",
      "[QClass]  Training...\n"
     ]
    },
    {
     "name": "stderr",
     "output_type": "stream",
     "text": [
      "WARNING:root:FidelityQuantumKernel skipped because of time.\n",
      "                    Using FidelityStatevectorKernel with AerStatevector.\n",
      "                    Seed cannot be set with FidelityStatevectorKernel.\n",
      "                    Increase the number of shots to diminish the noise.\n"
     ]
    },
    {
     "name": "stdout",
     "output_type": "stream",
     "text": [
      "[QClass]  Prediction finished.\n",
      "[QClass]  Initializing Quantum Classifier\n",
      "[QClass]  Quantum simulation will be performed\n",
      "GPU optimization disabled. No device found.\n",
      "[QClass]  Fitting:  (545, 3)\n",
      "[QClass]  Feature dimension =  3\n",
      "[QClass]  Quantum backend =  AerSimulator('aer_simulator_statevector')\n",
      "[QClass]  seed =  332897\n",
      "[QClass]  SVM initiating algorithm\n",
      "[QClass]  Training...\n"
     ]
    },
    {
     "name": "stderr",
     "output_type": "stream",
     "text": [
      "WARNING:root:FidelityQuantumKernel skipped because of time.\n",
      "                    Using FidelityStatevectorKernel with AerStatevector.\n",
      "                    Seed cannot be set with FidelityStatevectorKernel.\n",
      "                    Increase the number of shots to diminish the noise.\n"
     ]
    },
    {
     "name": "stdout",
     "output_type": "stream",
     "text": [
      "[QClass]  Prediction finished.\n",
      "[QClass]  Initializing Quantum Classifier\n",
      "[QClass]  Quantum simulation will be performed\n",
      "GPU optimization disabled. No device found.\n",
      "[QClass]  Fitting:  (544, 3)\n",
      "[QClass]  Feature dimension =  3\n",
      "[QClass]  Quantum backend =  AerSimulator('aer_simulator_statevector')\n",
      "[QClass]  seed =  332897\n",
      "[QClass]  SVM initiating algorithm\n",
      "[QClass]  Training...\n"
     ]
    },
    {
     "name": "stderr",
     "output_type": "stream",
     "text": [
      "WARNING:root:FidelityQuantumKernel skipped because of time.\n",
      "                    Using FidelityStatevectorKernel with AerStatevector.\n",
      "                    Seed cannot be set with FidelityStatevectorKernel.\n",
      "                    Increase the number of shots to diminish the noise.\n"
     ]
    },
    {
     "name": "stdout",
     "output_type": "stream",
     "text": [
      "[QClass]  Prediction finished.\n",
      "[QClass]  Initializing Quantum Classifier\n",
      "[QClass]  Quantum simulation will be performed\n",
      "GPU optimization disabled. No device found.\n",
      "[QClass]  Fitting:  (545, 3)\n",
      "[QClass]  Feature dimension =  3\n",
      "[QClass]  Quantum backend =  AerSimulator('aer_simulator_statevector')\n",
      "[QClass]  seed =  332897\n",
      "[QClass]  SVM initiating algorithm\n",
      "[QClass]  Training...\n"
     ]
    },
    {
     "name": "stderr",
     "output_type": "stream",
     "text": [
      "WARNING:root:FidelityQuantumKernel skipped because of time.\n",
      "                    Using FidelityStatevectorKernel with AerStatevector.\n",
      "                    Seed cannot be set with FidelityStatevectorKernel.\n",
      "                    Increase the number of shots to diminish the noise.\n"
     ]
    },
    {
     "name": "stdout",
     "output_type": "stream",
     "text": [
      "[QClass]  Prediction finished.\n",
      "[QClass]  Initializing Quantum Classifier\n",
      "[QClass]  Quantum simulation will be performed\n",
      "GPU optimization disabled. No device found.\n",
      "[QClass]  Fitting:  (545, 3)\n",
      "[QClass]  Feature dimension =  3\n",
      "[QClass]  Quantum backend =  AerSimulator('aer_simulator_statevector')\n",
      "[QClass]  seed =  332897\n",
      "[QClass]  SVM initiating algorithm\n",
      "[QClass]  Training...\n"
     ]
    },
    {
     "name": "stderr",
     "output_type": "stream",
     "text": [
      "WARNING:root:FidelityQuantumKernel skipped because of time.\n",
      "                    Using FidelityStatevectorKernel with AerStatevector.\n",
      "                    Seed cannot be set with FidelityStatevectorKernel.\n",
      "                    Increase the number of shots to diminish the noise.\n"
     ]
    },
    {
     "name": "stdout",
     "output_type": "stream",
     "text": [
      "[QClass]  Prediction finished.\n",
      "[QClass]  Initializing Quantum Classifier\n",
      "[QClass]  Quantum simulation will be performed\n",
      "GPU optimization disabled. No device found.\n",
      "[QClass]  Fitting:  (545, 3)\n",
      "[QClass]  Feature dimension =  3\n",
      "[QClass]  Quantum backend =  AerSimulator('aer_simulator_statevector')\n",
      "[QClass]  seed =  332897\n",
      "[QClass]  SVM initiating algorithm\n",
      "[QClass]  Training...\n"
     ]
    },
    {
     "name": "stderr",
     "output_type": "stream",
     "text": [
      "WARNING:root:FidelityQuantumKernel skipped because of time.\n",
      "                    Using FidelityStatevectorKernel with AerStatevector.\n",
      "                    Seed cannot be set with FidelityStatevectorKernel.\n",
      "                    Increase the number of shots to diminish the noise.\n"
     ]
    },
    {
     "name": "stdout",
     "output_type": "stream",
     "text": [
      "[QClass]  Prediction finished.\n",
      "[QClass]  Initializing Quantum Classifier\n",
      "[QClass]  Quantum simulation will be performed\n",
      "GPU optimization disabled. No device found.\n",
      "[QClass]  Fitting:  (545, 3)\n",
      "[QClass]  Feature dimension =  3\n",
      "[QClass]  Quantum backend =  AerSimulator('aer_simulator_statevector')\n",
      "[QClass]  seed =  332897\n",
      "[QClass]  SVM initiating algorithm\n",
      "[QClass]  Training...\n"
     ]
    },
    {
     "name": "stderr",
     "output_type": "stream",
     "text": [
      "WARNING:root:FidelityQuantumKernel skipped because of time.\n",
      "                    Using FidelityStatevectorKernel with AerStatevector.\n",
      "                    Seed cannot be set with FidelityStatevectorKernel.\n",
      "                    Increase the number of shots to diminish the noise.\n"
     ]
    },
    {
     "name": "stdout",
     "output_type": "stream",
     "text": [
      "[QClass]  Prediction finished.\n",
      "[QClass]  Initializing Quantum Classifier\n",
      "[QClass]  Quantum simulation will be performed\n",
      "GPU optimization disabled. No device found.\n",
      "[QClass]  Fitting:  (544, 3)\n",
      "[QClass]  Feature dimension =  3\n",
      "[QClass]  Quantum backend =  AerSimulator('aer_simulator_statevector')\n",
      "[QClass]  seed =  332897\n",
      "[QClass]  SVM initiating algorithm\n",
      "[QClass]  Training...\n"
     ]
    },
    {
     "name": "stderr",
     "output_type": "stream",
     "text": [
      "WARNING:root:FidelityQuantumKernel skipped because of time.\n",
      "                    Using FidelityStatevectorKernel with AerStatevector.\n",
      "                    Seed cannot be set with FidelityStatevectorKernel.\n",
      "                    Increase the number of shots to diminish the noise.\n"
     ]
    },
    {
     "name": "stdout",
     "output_type": "stream",
     "text": [
      "[QClass]  Prediction finished.\n",
      "[QClass]  Initializing Quantum Classifier\n",
      "[QClass]  Quantum simulation will be performed\n",
      "GPU optimization disabled. No device found.\n",
      "[QClass]  Fitting:  (545, 3)\n",
      "[QClass]  Feature dimension =  3\n",
      "[QClass]  Quantum backend =  AerSimulator('aer_simulator_statevector')\n",
      "[QClass]  seed =  332897\n",
      "[QClass]  SVM initiating algorithm\n",
      "[QClass]  Training...\n"
     ]
    },
    {
     "name": "stderr",
     "output_type": "stream",
     "text": [
      "WARNING:root:FidelityQuantumKernel skipped because of time.\n",
      "                    Using FidelityStatevectorKernel with AerStatevector.\n",
      "                    Seed cannot be set with FidelityStatevectorKernel.\n",
      "                    Increase the number of shots to diminish the noise.\n"
     ]
    },
    {
     "name": "stdout",
     "output_type": "stream",
     "text": [
      "[QClass]  Prediction finished.\n",
      "[QClass]  Initializing Quantum Classifier\n",
      "[QClass]  Quantum simulation will be performed\n",
      "GPU optimization disabled. No device found.\n",
      "[QClass]  Fitting:  (545, 3)\n",
      "[QClass]  Feature dimension =  3\n",
      "[QClass]  Quantum backend =  AerSimulator('aer_simulator_statevector')\n",
      "[QClass]  seed =  332897\n",
      "[QClass]  SVM initiating algorithm\n",
      "[QClass]  Training...\n"
     ]
    },
    {
     "name": "stderr",
     "output_type": "stream",
     "text": [
      "WARNING:root:FidelityQuantumKernel skipped because of time.\n",
      "                    Using FidelityStatevectorKernel with AerStatevector.\n",
      "                    Seed cannot be set with FidelityStatevectorKernel.\n",
      "                    Increase the number of shots to diminish the noise.\n"
     ]
    },
    {
     "name": "stdout",
     "output_type": "stream",
     "text": [
      "[QClass]  Prediction finished.\n",
      "[QClass]  Initializing Quantum Classifier\n",
      "[QClass]  Quantum simulation will be performed\n",
      "GPU optimization disabled. No device found.\n",
      "[QClass]  Fitting:  (545, 3)\n",
      "[QClass]  Feature dimension =  3\n",
      "[QClass]  Quantum backend =  AerSimulator('aer_simulator_statevector')\n",
      "[QClass]  seed =  332897\n",
      "[QClass]  SVM initiating algorithm\n",
      "[QClass]  Training...\n"
     ]
    },
    {
     "name": "stderr",
     "output_type": "stream",
     "text": [
      "WARNING:root:FidelityQuantumKernel skipped because of time.\n",
      "                    Using FidelityStatevectorKernel with AerStatevector.\n",
      "                    Seed cannot be set with FidelityStatevectorKernel.\n",
      "                    Increase the number of shots to diminish the noise.\n"
     ]
    },
    {
     "name": "stdout",
     "output_type": "stream",
     "text": [
      "[QClass]  Prediction finished.\n",
      "[QClass]  Initializing Quantum Classifier\n",
      "[QClass]  Quantum simulation will be performed\n",
      "GPU optimization disabled. No device found.\n",
      "[QClass]  Fitting:  (545, 3)\n",
      "[QClass]  Feature dimension =  3\n",
      "[QClass]  Quantum backend =  AerSimulator('aer_simulator_statevector')\n",
      "[QClass]  seed =  332897\n",
      "[QClass]  SVM initiating algorithm\n",
      "[QClass]  Training...\n"
     ]
    },
    {
     "name": "stderr",
     "output_type": "stream",
     "text": [
      "WARNING:root:FidelityQuantumKernel skipped because of time.\n",
      "                    Using FidelityStatevectorKernel with AerStatevector.\n",
      "                    Seed cannot be set with FidelityStatevectorKernel.\n",
      "                    Increase the number of shots to diminish the noise.\n"
     ]
    },
    {
     "name": "stdout",
     "output_type": "stream",
     "text": [
      "[QClass]  Prediction finished.\n",
      "[QClass]  Initializing Quantum Classifier\n",
      "[QClass]  Quantum simulation will be performed\n",
      "GPU optimization disabled. No device found.\n",
      "[QClass]  Fitting:  (544, 3)\n",
      "[QClass]  Feature dimension =  3\n",
      "[QClass]  Quantum backend =  AerSimulator('aer_simulator_statevector')\n",
      "[QClass]  seed =  332897\n",
      "[QClass]  SVM initiating algorithm\n",
      "[QClass]  Training...\n"
     ]
    },
    {
     "name": "stderr",
     "output_type": "stream",
     "text": [
      "WARNING:root:FidelityQuantumKernel skipped because of time.\n",
      "                    Using FidelityStatevectorKernel with AerStatevector.\n",
      "                    Seed cannot be set with FidelityStatevectorKernel.\n",
      "                    Increase the number of shots to diminish the noise.\n"
     ]
    },
    {
     "name": "stdout",
     "output_type": "stream",
     "text": [
      "[QClass]  Prediction finished.\n",
      "[QClass]  Initializing Quantum Classifier\n",
      "[QClass]  Quantum simulation will be performed\n",
      "GPU optimization disabled. No device found.\n",
      "[QClass]  Fitting:  (545, 3)\n",
      "[QClass]  Feature dimension =  3\n",
      "[QClass]  Quantum backend =  AerSimulator('aer_simulator_statevector')\n",
      "[QClass]  seed =  332897\n",
      "[QClass]  SVM initiating algorithm\n",
      "[QClass]  Training...\n"
     ]
    },
    {
     "name": "stderr",
     "output_type": "stream",
     "text": [
      "WARNING:root:FidelityQuantumKernel skipped because of time.\n",
      "                    Using FidelityStatevectorKernel with AerStatevector.\n",
      "                    Seed cannot be set with FidelityStatevectorKernel.\n",
      "                    Increase the number of shots to diminish the noise.\n"
     ]
    },
    {
     "name": "stdout",
     "output_type": "stream",
     "text": [
      "[QClass]  Prediction finished.\n",
      "[QClass]  Initializing Quantum Classifier\n",
      "[QClass]  Quantum simulation will be performed\n",
      "GPU optimization disabled. No device found.\n",
      "[QClass]  Fitting:  (545, 3)\n",
      "[QClass]  Feature dimension =  3\n",
      "[QClass]  Quantum backend =  AerSimulator('aer_simulator_statevector')\n",
      "[QClass]  seed =  332897\n",
      "[QClass]  SVM initiating algorithm\n",
      "[QClass]  Training...\n"
     ]
    },
    {
     "name": "stderr",
     "output_type": "stream",
     "text": [
      "WARNING:root:FidelityQuantumKernel skipped because of time.\n",
      "                    Using FidelityStatevectorKernel with AerStatevector.\n",
      "                    Seed cannot be set with FidelityStatevectorKernel.\n",
      "                    Increase the number of shots to diminish the noise.\n"
     ]
    },
    {
     "name": "stdout",
     "output_type": "stream",
     "text": [
      "[QClass]  Prediction finished.\n",
      "[QClass]  Initializing Quantum Classifier\n",
      "[QClass]  Quantum simulation will be performed\n",
      "GPU optimization disabled. No device found.\n",
      "[QClass]  Fitting:  (545, 3)\n",
      "[QClass]  Feature dimension =  3\n",
      "[QClass]  Quantum backend =  AerSimulator('aer_simulator_statevector')\n",
      "[QClass]  seed =  332897\n",
      "[QClass]  SVM initiating algorithm\n",
      "[QClass]  Training...\n"
     ]
    },
    {
     "name": "stderr",
     "output_type": "stream",
     "text": [
      "WARNING:root:FidelityQuantumKernel skipped because of time.\n",
      "                    Using FidelityStatevectorKernel with AerStatevector.\n",
      "                    Seed cannot be set with FidelityStatevectorKernel.\n",
      "                    Increase the number of shots to diminish the noise.\n"
     ]
    },
    {
     "name": "stdout",
     "output_type": "stream",
     "text": [
      "[QClass]  Prediction finished.\n",
      "[QClass]  Initializing Quantum Classifier\n",
      "[QClass]  Quantum simulation will be performed\n",
      "GPU optimization disabled. No device found.\n",
      "[QClass]  Fitting:  (545, 3)\n",
      "[QClass]  Feature dimension =  3\n",
      "[QClass]  Quantum backend =  AerSimulator('aer_simulator_statevector')\n",
      "[QClass]  seed =  332897\n",
      "[QClass]  SVM initiating algorithm\n",
      "[QClass]  Training...\n"
     ]
    },
    {
     "name": "stderr",
     "output_type": "stream",
     "text": [
      "WARNING:root:FidelityQuantumKernel skipped because of time.\n",
      "                    Using FidelityStatevectorKernel with AerStatevector.\n",
      "                    Seed cannot be set with FidelityStatevectorKernel.\n",
      "                    Increase the number of shots to diminish the noise.\n"
     ]
    },
    {
     "name": "stdout",
     "output_type": "stream",
     "text": [
      "[QClass]  Prediction finished.\n",
      "[QClass]  Initializing Quantum Classifier\n",
      "[QClass]  Quantum simulation will be performed\n",
      "GPU optimization disabled. No device found.\n",
      "[QClass]  Fitting:  (544, 3)\n",
      "[QClass]  Feature dimension =  3\n",
      "[QClass]  Quantum backend =  AerSimulator('aer_simulator_statevector')\n",
      "[QClass]  seed =  332897\n",
      "[QClass]  SVM initiating algorithm\n",
      "[QClass]  Training...\n"
     ]
    },
    {
     "name": "stderr",
     "output_type": "stream",
     "text": [
      "WARNING:root:FidelityQuantumKernel skipped because of time.\n",
      "                    Using FidelityStatevectorKernel with AerStatevector.\n",
      "                    Seed cannot be set with FidelityStatevectorKernel.\n",
      "                    Increase the number of shots to diminish the noise.\n"
     ]
    },
    {
     "name": "stdout",
     "output_type": "stream",
     "text": [
      "[QClass]  Prediction finished.\n",
      "[QClass]  Initializing Quantum Classifier\n",
      "[QClass]  Quantum simulation will be performed\n",
      "GPU optimization disabled. No device found.\n",
      "[QClass]  Fitting:  (545, 3)\n",
      "[QClass]  Feature dimension =  3\n",
      "[QClass]  Quantum backend =  AerSimulator('aer_simulator_statevector')\n",
      "[QClass]  seed =  332897\n",
      "[QClass]  SVM initiating algorithm\n",
      "[QClass]  Training...\n"
     ]
    },
    {
     "name": "stderr",
     "output_type": "stream",
     "text": [
      "WARNING:root:FidelityQuantumKernel skipped because of time.\n",
      "                    Using FidelityStatevectorKernel with AerStatevector.\n",
      "                    Seed cannot be set with FidelityStatevectorKernel.\n",
      "                    Increase the number of shots to diminish the noise.\n"
     ]
    },
    {
     "name": "stdout",
     "output_type": "stream",
     "text": [
      "[QClass]  Prediction finished.\n",
      "[QClass]  Initializing Quantum Classifier\n",
      "[QClass]  Quantum simulation will be performed\n",
      "GPU optimization disabled. No device found.\n",
      "[QClass]  Fitting:  (545, 3)\n",
      "[QClass]  Feature dimension =  3\n",
      "[QClass]  Quantum backend =  AerSimulator('aer_simulator_statevector')\n",
      "[QClass]  seed =  332897\n",
      "[QClass]  SVM initiating algorithm\n",
      "[QClass]  Training...\n"
     ]
    },
    {
     "name": "stderr",
     "output_type": "stream",
     "text": [
      "WARNING:root:FidelityQuantumKernel skipped because of time.\n",
      "                    Using FidelityStatevectorKernel with AerStatevector.\n",
      "                    Seed cannot be set with FidelityStatevectorKernel.\n",
      "                    Increase the number of shots to diminish the noise.\n"
     ]
    },
    {
     "name": "stdout",
     "output_type": "stream",
     "text": [
      "[QClass]  Prediction finished.\n",
      "[QClass]  Initializing Quantum Classifier\n",
      "[QClass]  Quantum simulation will be performed\n",
      "GPU optimization disabled. No device found.\n",
      "[QClass]  Fitting:  (545, 3)\n",
      "[QClass]  Feature dimension =  3\n",
      "[QClass]  Quantum backend =  AerSimulator('aer_simulator_statevector')\n",
      "[QClass]  seed =  332897\n",
      "[QClass]  SVM initiating algorithm\n",
      "[QClass]  Training...\n"
     ]
    },
    {
     "name": "stderr",
     "output_type": "stream",
     "text": [
      "WARNING:root:FidelityQuantumKernel skipped because of time.\n",
      "                    Using FidelityStatevectorKernel with AerStatevector.\n",
      "                    Seed cannot be set with FidelityStatevectorKernel.\n",
      "                    Increase the number of shots to diminish the noise.\n"
     ]
    },
    {
     "name": "stdout",
     "output_type": "stream",
     "text": [
      "[QClass]  Prediction finished.\n",
      "[QClass]  Initializing Quantum Classifier\n",
      "[QClass]  Quantum simulation will be performed\n",
      "GPU optimization disabled. No device found.\n",
      "[QClass]  Fitting:  (545, 3)\n",
      "[QClass]  Feature dimension =  3\n",
      "[QClass]  Quantum backend =  AerSimulator('aer_simulator_statevector')\n",
      "[QClass]  seed =  332897\n",
      "[QClass]  SVM initiating algorithm\n",
      "[QClass]  Training...\n"
     ]
    },
    {
     "name": "stderr",
     "output_type": "stream",
     "text": [
      "WARNING:root:FidelityQuantumKernel skipped because of time.\n",
      "                    Using FidelityStatevectorKernel with AerStatevector.\n",
      "                    Seed cannot be set with FidelityStatevectorKernel.\n",
      "                    Increase the number of shots to diminish the noise.\n"
     ]
    },
    {
     "name": "stdout",
     "output_type": "stream",
     "text": [
      "[QClass]  Prediction finished.\n",
      "[QClass]  Initializing Quantum Classifier\n",
      "[QClass]  Quantum simulation will be performed\n",
      "GPU optimization disabled. No device found.\n",
      "[QClass]  Fitting:  (544, 3)\n",
      "[QClass]  Feature dimension =  3\n",
      "[QClass]  Quantum backend =  AerSimulator('aer_simulator_statevector')\n",
      "[QClass]  seed =  332897\n",
      "[QClass]  SVM initiating algorithm\n",
      "[QClass]  Training...\n"
     ]
    },
    {
     "name": "stderr",
     "output_type": "stream",
     "text": [
      "WARNING:root:FidelityQuantumKernel skipped because of time.\n",
      "                    Using FidelityStatevectorKernel with AerStatevector.\n",
      "                    Seed cannot be set with FidelityStatevectorKernel.\n",
      "                    Increase the number of shots to diminish the noise.\n"
     ]
    },
    {
     "name": "stdout",
     "output_type": "stream",
     "text": [
      "[QClass]  Prediction finished.\n",
      "[QClass]  Initializing Quantum Classifier\n",
      "[QClass]  Quantum simulation will be performed\n",
      "GPU optimization disabled. No device found.\n",
      "[QClass]  Fitting:  (545, 3)\n",
      "[QClass]  Feature dimension =  3\n",
      "[QClass]  Quantum backend =  AerSimulator('aer_simulator_statevector')\n",
      "[QClass]  seed =  332897\n",
      "[QClass]  SVM initiating algorithm\n",
      "[QClass]  Training...\n"
     ]
    },
    {
     "name": "stderr",
     "output_type": "stream",
     "text": [
      "WARNING:root:FidelityQuantumKernel skipped because of time.\n",
      "                    Using FidelityStatevectorKernel with AerStatevector.\n",
      "                    Seed cannot be set with FidelityStatevectorKernel.\n",
      "                    Increase the number of shots to diminish the noise.\n"
     ]
    },
    {
     "name": "stdout",
     "output_type": "stream",
     "text": [
      "[QClass]  Prediction finished.\n",
      "[QClass]  Initializing Quantum Classifier\n",
      "[QClass]  Quantum simulation will be performed\n",
      "GPU optimization disabled. No device found.\n",
      "[QClass]  Fitting:  (545, 3)\n",
      "[QClass]  Feature dimension =  3\n",
      "[QClass]  Quantum backend =  AerSimulator('aer_simulator_statevector')\n",
      "[QClass]  seed =  332897\n",
      "[QClass]  SVM initiating algorithm\n",
      "[QClass]  Training...\n"
     ]
    },
    {
     "name": "stderr",
     "output_type": "stream",
     "text": [
      "WARNING:root:FidelityQuantumKernel skipped because of time.\n",
      "                    Using FidelityStatevectorKernel with AerStatevector.\n",
      "                    Seed cannot be set with FidelityStatevectorKernel.\n",
      "                    Increase the number of shots to diminish the noise.\n"
     ]
    },
    {
     "name": "stdout",
     "output_type": "stream",
     "text": [
      "[QClass]  Prediction finished.\n",
      "[QClass]  Initializing Quantum Classifier\n",
      "[QClass]  Quantum simulation will be performed\n",
      "GPU optimization disabled. No device found.\n",
      "[QClass]  Fitting:  (545, 3)\n",
      "[QClass]  Feature dimension =  3\n",
      "[QClass]  Quantum backend =  AerSimulator('aer_simulator_statevector')\n",
      "[QClass]  seed =  332897\n",
      "[QClass]  SVM initiating algorithm\n",
      "[QClass]  Training...\n"
     ]
    },
    {
     "name": "stderr",
     "output_type": "stream",
     "text": [
      "WARNING:root:FidelityQuantumKernel skipped because of time.\n",
      "                    Using FidelityStatevectorKernel with AerStatevector.\n",
      "                    Seed cannot be set with FidelityStatevectorKernel.\n",
      "                    Increase the number of shots to diminish the noise.\n"
     ]
    },
    {
     "name": "stdout",
     "output_type": "stream",
     "text": [
      "[QClass]  Prediction finished.\n",
      "[QClass]  Initializing Quantum Classifier\n",
      "[QClass]  Quantum simulation will be performed\n",
      "GPU optimization disabled. No device found.\n",
      "[QClass]  Fitting:  (545, 3)\n",
      "[QClass]  Feature dimension =  3\n",
      "[QClass]  Quantum backend =  AerSimulator('aer_simulator_statevector')\n",
      "[QClass]  seed =  332897\n",
      "[QClass]  SVM initiating algorithm\n",
      "[QClass]  Training...\n"
     ]
    },
    {
     "name": "stderr",
     "output_type": "stream",
     "text": [
      "WARNING:root:FidelityQuantumKernel skipped because of time.\n",
      "                    Using FidelityStatevectorKernel with AerStatevector.\n",
      "                    Seed cannot be set with FidelityStatevectorKernel.\n",
      "                    Increase the number of shots to diminish the noise.\n"
     ]
    },
    {
     "name": "stdout",
     "output_type": "stream",
     "text": [
      "[QClass]  Prediction finished.\n",
      "[QClass]  Initializing Quantum Classifier\n",
      "[QClass]  Quantum simulation will be performed\n",
      "GPU optimization disabled. No device found.\n",
      "[QClass]  Fitting:  (544, 3)\n",
      "[QClass]  Feature dimension =  3\n",
      "[QClass]  Quantum backend =  AerSimulator('aer_simulator_statevector')\n",
      "[QClass]  seed =  332897\n",
      "[QClass]  SVM initiating algorithm\n",
      "[QClass]  Training...\n"
     ]
    },
    {
     "name": "stderr",
     "output_type": "stream",
     "text": [
      "WARNING:root:FidelityQuantumKernel skipped because of time.\n",
      "                    Using FidelityStatevectorKernel with AerStatevector.\n",
      "                    Seed cannot be set with FidelityStatevectorKernel.\n",
      "                    Increase the number of shots to diminish the noise.\n"
     ]
    },
    {
     "name": "stdout",
     "output_type": "stream",
     "text": [
      "[QClass]  Prediction finished.\n",
      "[QClass]  Initializing Quantum Classifier\n",
      "[QClass]  Quantum simulation will be performed\n",
      "GPU optimization disabled. No device found.\n",
      "[QClass]  Fitting:  (545, 3)\n",
      "[QClass]  Feature dimension =  3\n",
      "[QClass]  Quantum backend =  AerSimulator('aer_simulator_statevector')\n",
      "[QClass]  seed =  332897\n",
      "[QClass]  SVM initiating algorithm\n",
      "[QClass]  Training...\n"
     ]
    },
    {
     "name": "stderr",
     "output_type": "stream",
     "text": [
      "WARNING:root:FidelityQuantumKernel skipped because of time.\n",
      "                    Using FidelityStatevectorKernel with AerStatevector.\n",
      "                    Seed cannot be set with FidelityStatevectorKernel.\n",
      "                    Increase the number of shots to diminish the noise.\n"
     ]
    },
    {
     "name": "stdout",
     "output_type": "stream",
     "text": [
      "[QClass]  Prediction finished.\n",
      "[QClass]  Initializing Quantum Classifier\n",
      "[QClass]  Quantum simulation will be performed\n",
      "GPU optimization disabled. No device found.\n",
      "[QClass]  Fitting:  (545, 3)\n",
      "[QClass]  Feature dimension =  3\n",
      "[QClass]  Quantum backend =  AerSimulator('aer_simulator_statevector')\n",
      "[QClass]  seed =  332897\n",
      "[QClass]  SVM initiating algorithm\n",
      "[QClass]  Training...\n"
     ]
    },
    {
     "name": "stderr",
     "output_type": "stream",
     "text": [
      "WARNING:root:FidelityQuantumKernel skipped because of time.\n",
      "                    Using FidelityStatevectorKernel with AerStatevector.\n",
      "                    Seed cannot be set with FidelityStatevectorKernel.\n",
      "                    Increase the number of shots to diminish the noise.\n"
     ]
    },
    {
     "name": "stdout",
     "output_type": "stream",
     "text": [
      "[QClass]  Prediction finished.\n",
      "[QClass]  Initializing Quantum Classifier\n",
      "[QClass]  Quantum simulation will be performed\n",
      "GPU optimization disabled. No device found.\n",
      "[QClass]  Fitting:  (545, 3)\n",
      "[QClass]  Feature dimension =  3\n",
      "[QClass]  Quantum backend =  AerSimulator('aer_simulator_statevector')\n",
      "[QClass]  seed =  332897\n",
      "[QClass]  SVM initiating algorithm\n",
      "[QClass]  Training...\n"
     ]
    },
    {
     "name": "stderr",
     "output_type": "stream",
     "text": [
      "WARNING:root:FidelityQuantumKernel skipped because of time.\n",
      "                    Using FidelityStatevectorKernel with AerStatevector.\n",
      "                    Seed cannot be set with FidelityStatevectorKernel.\n",
      "                    Increase the number of shots to diminish the noise.\n"
     ]
    },
    {
     "name": "stdout",
     "output_type": "stream",
     "text": [
      "[QClass]  Prediction finished.\n",
      "[QClass]  Initializing Quantum Classifier\n",
      "[QClass]  Quantum simulation will be performed\n",
      "GPU optimization disabled. No device found.\n",
      "[QClass]  Fitting:  (545, 3)\n",
      "[QClass]  Feature dimension =  3\n",
      "[QClass]  Quantum backend =  AerSimulator('aer_simulator_statevector')\n",
      "[QClass]  seed =  332897\n",
      "[QClass]  SVM initiating algorithm\n",
      "[QClass]  Training...\n"
     ]
    },
    {
     "name": "stderr",
     "output_type": "stream",
     "text": [
      "WARNING:root:FidelityQuantumKernel skipped because of time.\n",
      "                    Using FidelityStatevectorKernel with AerStatevector.\n",
      "                    Seed cannot be set with FidelityStatevectorKernel.\n",
      "                    Increase the number of shots to diminish the noise.\n"
     ]
    },
    {
     "name": "stdout",
     "output_type": "stream",
     "text": [
      "[QClass]  Prediction finished.\n",
      "[QClass]  Initializing Quantum Classifier\n",
      "[QClass]  Quantum simulation will be performed\n",
      "GPU optimization disabled. No device found.\n",
      "[QClass]  Fitting:  (544, 3)\n",
      "[QClass]  Feature dimension =  3\n",
      "[QClass]  Quantum backend =  AerSimulator('aer_simulator_statevector')\n",
      "[QClass]  seed =  332897\n",
      "[QClass]  SVM initiating algorithm\n",
      "[QClass]  Training...\n"
     ]
    },
    {
     "name": "stderr",
     "output_type": "stream",
     "text": [
      "WARNING:root:FidelityQuantumKernel skipped because of time.\n",
      "                    Using FidelityStatevectorKernel with AerStatevector.\n",
      "                    Seed cannot be set with FidelityStatevectorKernel.\n",
      "                    Increase the number of shots to diminish the noise.\n"
     ]
    },
    {
     "name": "stdout",
     "output_type": "stream",
     "text": [
      "[QClass]  Prediction finished.\n",
      "[QClass]  Initializing Quantum Classifier\n",
      "[QClass]  Quantum simulation will be performed\n",
      "GPU optimization disabled. No device found.\n",
      "[QClass]  Fitting:  (545, 3)\n",
      "[QClass]  Feature dimension =  3\n",
      "[QClass]  Quantum backend =  AerSimulator('aer_simulator_statevector')\n",
      "[QClass]  seed =  332897\n",
      "[QClass]  SVM initiating algorithm\n",
      "[QClass]  Training...\n"
     ]
    },
    {
     "name": "stderr",
     "output_type": "stream",
     "text": [
      "WARNING:root:FidelityQuantumKernel skipped because of time.\n",
      "                    Using FidelityStatevectorKernel with AerStatevector.\n",
      "                    Seed cannot be set with FidelityStatevectorKernel.\n",
      "                    Increase the number of shots to diminish the noise.\n"
     ]
    },
    {
     "name": "stdout",
     "output_type": "stream",
     "text": [
      "[QClass]  Prediction finished.\n",
      "[QClass]  Initializing Quantum Classifier\n",
      "[QClass]  Quantum simulation will be performed\n",
      "GPU optimization disabled. No device found.\n",
      "[QClass]  Fitting:  (545, 3)\n",
      "[QClass]  Feature dimension =  3\n",
      "[QClass]  Quantum backend =  AerSimulator('aer_simulator_statevector')\n",
      "[QClass]  seed =  332897\n",
      "[QClass]  SVM initiating algorithm\n",
      "[QClass]  Training...\n"
     ]
    },
    {
     "name": "stderr",
     "output_type": "stream",
     "text": [
      "WARNING:root:FidelityQuantumKernel skipped because of time.\n",
      "                    Using FidelityStatevectorKernel with AerStatevector.\n",
      "                    Seed cannot be set with FidelityStatevectorKernel.\n",
      "                    Increase the number of shots to diminish the noise.\n"
     ]
    },
    {
     "name": "stdout",
     "output_type": "stream",
     "text": [
      "[QClass]  Prediction finished.\n",
      "[QClass]  Initializing Quantum Classifier\n",
      "[QClass]  Quantum simulation will be performed\n",
      "GPU optimization disabled. No device found.\n",
      "[QClass]  Fitting:  (545, 3)\n",
      "[QClass]  Feature dimension =  3\n",
      "[QClass]  Quantum backend =  AerSimulator('aer_simulator_statevector')\n",
      "[QClass]  seed =  332897\n",
      "[QClass]  SVM initiating algorithm\n",
      "[QClass]  Training...\n"
     ]
    },
    {
     "name": "stderr",
     "output_type": "stream",
     "text": [
      "WARNING:root:FidelityQuantumKernel skipped because of time.\n",
      "                    Using FidelityStatevectorKernel with AerStatevector.\n",
      "                    Seed cannot be set with FidelityStatevectorKernel.\n",
      "                    Increase the number of shots to diminish the noise.\n"
     ]
    },
    {
     "name": "stdout",
     "output_type": "stream",
     "text": [
      "[QClass]  Prediction finished.\n",
      "[QClass]  Initializing Quantum Classifier\n",
      "[QClass]  Quantum simulation will be performed\n",
      "GPU optimization disabled. No device found.\n",
      "[QClass]  Fitting:  (545, 3)\n",
      "[QClass]  Feature dimension =  3\n",
      "[QClass]  Quantum backend =  AerSimulator('aer_simulator_statevector')\n",
      "[QClass]  seed =  332897\n",
      "[QClass]  SVM initiating algorithm\n",
      "[QClass]  Training...\n"
     ]
    },
    {
     "name": "stderr",
     "output_type": "stream",
     "text": [
      "WARNING:root:FidelityQuantumKernel skipped because of time.\n",
      "                    Using FidelityStatevectorKernel with AerStatevector.\n",
      "                    Seed cannot be set with FidelityStatevectorKernel.\n",
      "                    Increase the number of shots to diminish the noise.\n"
     ]
    },
    {
     "name": "stdout",
     "output_type": "stream",
     "text": [
      "[QClass]  Prediction finished.\n",
      "[QClass]  Initializing Quantum Classifier\n",
      "[QClass]  Quantum simulation will be performed\n",
      "GPU optimization disabled. No device found.\n",
      "[QClass]  Fitting:  (544, 3)\n",
      "[QClass]  Feature dimension =  3\n",
      "[QClass]  Quantum backend =  AerSimulator('aer_simulator_statevector')\n",
      "[QClass]  seed =  332897\n",
      "[QClass]  SVM initiating algorithm\n",
      "[QClass]  Training...\n"
     ]
    },
    {
     "name": "stderr",
     "output_type": "stream",
     "text": [
      "WARNING:root:FidelityQuantumKernel skipped because of time.\n",
      "                    Using FidelityStatevectorKernel with AerStatevector.\n",
      "                    Seed cannot be set with FidelityStatevectorKernel.\n",
      "                    Increase the number of shots to diminish the noise.\n"
     ]
    },
    {
     "name": "stdout",
     "output_type": "stream",
     "text": [
      "[QClass]  Prediction finished.\n",
      "[QClass]  Initializing Quantum Classifier\n",
      "[QClass]  Quantum simulation will be performed\n",
      "GPU optimization disabled. No device found.\n",
      "[QClass]  Fitting:  (545, 3)\n",
      "[QClass]  Feature dimension =  3\n",
      "[QClass]  Quantum backend =  AerSimulator('aer_simulator_statevector')\n",
      "[QClass]  seed =  332897\n",
      "[QClass]  SVM initiating algorithm\n",
      "[QClass]  Training...\n"
     ]
    },
    {
     "name": "stderr",
     "output_type": "stream",
     "text": [
      "WARNING:root:FidelityQuantumKernel skipped because of time.\n",
      "                    Using FidelityStatevectorKernel with AerStatevector.\n",
      "                    Seed cannot be set with FidelityStatevectorKernel.\n",
      "                    Increase the number of shots to diminish the noise.\n"
     ]
    },
    {
     "name": "stdout",
     "output_type": "stream",
     "text": [
      "[QClass]  Prediction finished.\n",
      "[QClass]  Initializing Quantum Classifier\n",
      "[QClass]  Quantum simulation will be performed\n",
      "GPU optimization disabled. No device found.\n",
      "[QClass]  Fitting:  (545, 3)\n",
      "[QClass]  Feature dimension =  3\n",
      "[QClass]  Quantum backend =  AerSimulator('aer_simulator_statevector')\n",
      "[QClass]  seed =  332897\n",
      "[QClass]  SVM initiating algorithm\n",
      "[QClass]  Training...\n"
     ]
    },
    {
     "name": "stderr",
     "output_type": "stream",
     "text": [
      "WARNING:root:FidelityQuantumKernel skipped because of time.\n",
      "                    Using FidelityStatevectorKernel with AerStatevector.\n",
      "                    Seed cannot be set with FidelityStatevectorKernel.\n",
      "                    Increase the number of shots to diminish the noise.\n"
     ]
    },
    {
     "name": "stdout",
     "output_type": "stream",
     "text": [
      "[QClass]  Prediction finished.\n",
      "[QClass]  Initializing Quantum Classifier\n",
      "[QClass]  Quantum simulation will be performed\n",
      "GPU optimization disabled. No device found.\n",
      "[QClass]  Fitting:  (545, 3)\n",
      "[QClass]  Feature dimension =  3\n",
      "[QClass]  Quantum backend =  AerSimulator('aer_simulator_statevector')\n",
      "[QClass]  seed =  332897\n",
      "[QClass]  SVM initiating algorithm\n",
      "[QClass]  Training...\n"
     ]
    },
    {
     "name": "stderr",
     "output_type": "stream",
     "text": [
      "WARNING:root:FidelityQuantumKernel skipped because of time.\n",
      "                    Using FidelityStatevectorKernel with AerStatevector.\n",
      "                    Seed cannot be set with FidelityStatevectorKernel.\n",
      "                    Increase the number of shots to diminish the noise.\n"
     ]
    },
    {
     "name": "stdout",
     "output_type": "stream",
     "text": [
      "[QClass]  Prediction finished.\n",
      "[QClass]  Initializing Quantum Classifier\n",
      "[QClass]  Quantum simulation will be performed\n",
      "GPU optimization disabled. No device found.\n",
      "[QClass]  Fitting:  (545, 3)\n",
      "[QClass]  Feature dimension =  3\n",
      "[QClass]  Quantum backend =  AerSimulator('aer_simulator_statevector')\n",
      "[QClass]  seed =  332897\n",
      "[QClass]  SVM initiating algorithm\n",
      "[QClass]  Training...\n"
     ]
    },
    {
     "name": "stderr",
     "output_type": "stream",
     "text": [
      "WARNING:root:FidelityQuantumKernel skipped because of time.\n",
      "                    Using FidelityStatevectorKernel with AerStatevector.\n",
      "                    Seed cannot be set with FidelityStatevectorKernel.\n",
      "                    Increase the number of shots to diminish the noise.\n"
     ]
    },
    {
     "name": "stdout",
     "output_type": "stream",
     "text": [
      "[QClass]  Prediction finished.\n",
      "[QClass]  Initializing Quantum Classifier\n",
      "[QClass]  Quantum simulation will be performed\n",
      "GPU optimization disabled. No device found.\n",
      "[QClass]  Fitting:  (544, 3)\n",
      "[QClass]  Feature dimension =  3\n",
      "[QClass]  Quantum backend =  AerSimulator('aer_simulator_statevector')\n",
      "[QClass]  seed =  332897\n",
      "[QClass]  SVM initiating algorithm\n",
      "[QClass]  Training...\n"
     ]
    },
    {
     "name": "stderr",
     "output_type": "stream",
     "text": [
      "WARNING:root:FidelityQuantumKernel skipped because of time.\n",
      "                    Using FidelityStatevectorKernel with AerStatevector.\n",
      "                    Seed cannot be set with FidelityStatevectorKernel.\n",
      "                    Increase the number of shots to diminish the noise.\n"
     ]
    },
    {
     "name": "stdout",
     "output_type": "stream",
     "text": [
      "[QClass]  Prediction finished.\n",
      "[QClass]  Initializing Quantum Classifier\n",
      "[QClass]  Quantum simulation will be performed\n",
      "GPU optimization disabled. No device found.\n",
      "[QClass]  Fitting:  (545, 3)\n",
      "[QClass]  Feature dimension =  3\n",
      "[QClass]  Quantum backend =  AerSimulator('aer_simulator_statevector')\n",
      "[QClass]  seed =  332897\n",
      "[QClass]  SVM initiating algorithm\n",
      "[QClass]  Training...\n"
     ]
    },
    {
     "name": "stderr",
     "output_type": "stream",
     "text": [
      "WARNING:root:FidelityQuantumKernel skipped because of time.\n",
      "                    Using FidelityStatevectorKernel with AerStatevector.\n",
      "                    Seed cannot be set with FidelityStatevectorKernel.\n",
      "                    Increase the number of shots to diminish the noise.\n"
     ]
    },
    {
     "name": "stdout",
     "output_type": "stream",
     "text": [
      "[QClass]  Prediction finished.\n",
      "[QClass]  Initializing Quantum Classifier\n",
      "[QClass]  Quantum simulation will be performed\n",
      "GPU optimization disabled. No device found.\n",
      "[QClass]  Fitting:  (545, 3)\n",
      "[QClass]  Feature dimension =  3\n",
      "[QClass]  Quantum backend =  AerSimulator('aer_simulator_statevector')\n",
      "[QClass]  seed =  332897\n",
      "[QClass]  SVM initiating algorithm\n",
      "[QClass]  Training...\n"
     ]
    },
    {
     "name": "stderr",
     "output_type": "stream",
     "text": [
      "WARNING:root:FidelityQuantumKernel skipped because of time.\n",
      "                    Using FidelityStatevectorKernel with AerStatevector.\n",
      "                    Seed cannot be set with FidelityStatevectorKernel.\n",
      "                    Increase the number of shots to diminish the noise.\n"
     ]
    },
    {
     "name": "stdout",
     "output_type": "stream",
     "text": [
      "[QClass]  Prediction finished.\n",
      "[QClass]  Initializing Quantum Classifier\n",
      "[QClass]  Quantum simulation will be performed\n",
      "GPU optimization disabled. No device found.\n",
      "[QClass]  Fitting:  (545, 3)\n",
      "[QClass]  Feature dimension =  3\n",
      "[QClass]  Quantum backend =  AerSimulator('aer_simulator_statevector')\n",
      "[QClass]  seed =  332897\n",
      "[QClass]  SVM initiating algorithm\n",
      "[QClass]  Training...\n"
     ]
    },
    {
     "name": "stderr",
     "output_type": "stream",
     "text": [
      "WARNING:root:FidelityQuantumKernel skipped because of time.\n",
      "                    Using FidelityStatevectorKernel with AerStatevector.\n",
      "                    Seed cannot be set with FidelityStatevectorKernel.\n",
      "                    Increase the number of shots to diminish the noise.\n"
     ]
    },
    {
     "name": "stdout",
     "output_type": "stream",
     "text": [
      "[QClass]  Prediction finished.\n",
      "[QClass]  Initializing Quantum Classifier\n",
      "[QClass]  Quantum simulation will be performed\n",
      "GPU optimization disabled. No device found.\n",
      "[QClass]  Fitting:  (545, 3)\n",
      "[QClass]  Feature dimension =  3\n",
      "[QClass]  Quantum backend =  AerSimulator('aer_simulator_statevector')\n",
      "[QClass]  seed =  332897\n",
      "[QClass]  SVM initiating algorithm\n",
      "[QClass]  Training...\n"
     ]
    },
    {
     "name": "stderr",
     "output_type": "stream",
     "text": [
      "WARNING:root:FidelityQuantumKernel skipped because of time.\n",
      "                    Using FidelityStatevectorKernel with AerStatevector.\n",
      "                    Seed cannot be set with FidelityStatevectorKernel.\n",
      "                    Increase the number of shots to diminish the noise.\n"
     ]
    },
    {
     "name": "stdout",
     "output_type": "stream",
     "text": [
      "[QClass]  Prediction finished.\n",
      "[QClass]  Initializing Quantum Classifier\n",
      "[QClass]  Quantum simulation will be performed\n",
      "GPU optimization disabled. No device found.\n",
      "[QClass]  Fitting:  (544, 3)\n",
      "[QClass]  Feature dimension =  3\n",
      "[QClass]  Quantum backend =  AerSimulator('aer_simulator_statevector')\n",
      "[QClass]  seed =  332897\n",
      "[QClass]  SVM initiating algorithm\n",
      "[QClass]  Training...\n"
     ]
    },
    {
     "name": "stderr",
     "output_type": "stream",
     "text": [
      "WARNING:root:FidelityQuantumKernel skipped because of time.\n",
      "                    Using FidelityStatevectorKernel with AerStatevector.\n",
      "                    Seed cannot be set with FidelityStatevectorKernel.\n",
      "                    Increase the number of shots to diminish the noise.\n"
     ]
    },
    {
     "name": "stdout",
     "output_type": "stream",
     "text": [
      "[QClass]  Prediction finished.\n",
      "[QClass]  Initializing Quantum Classifier\n",
      "[QClass]  Quantum simulation will be performed\n",
      "GPU optimization disabled. No device found.\n",
      "[QClass]  Fitting:  (545, 3)\n",
      "[QClass]  Feature dimension =  3\n",
      "[QClass]  Quantum backend =  AerSimulator('aer_simulator_statevector')\n",
      "[QClass]  seed =  332897\n",
      "[QClass]  SVM initiating algorithm\n",
      "[QClass]  Training...\n"
     ]
    },
    {
     "name": "stderr",
     "output_type": "stream",
     "text": [
      "WARNING:root:FidelityQuantumKernel skipped because of time.\n",
      "                    Using FidelityStatevectorKernel with AerStatevector.\n",
      "                    Seed cannot be set with FidelityStatevectorKernel.\n",
      "                    Increase the number of shots to diminish the noise.\n"
     ]
    },
    {
     "name": "stdout",
     "output_type": "stream",
     "text": [
      "[QClass]  Prediction finished.\n",
      "[QClass]  Initializing Quantum Classifier\n",
      "[QClass]  Quantum simulation will be performed\n",
      "GPU optimization disabled. No device found.\n",
      "[QClass]  Fitting:  (545, 3)\n",
      "[QClass]  Feature dimension =  3\n",
      "[QClass]  Quantum backend =  AerSimulator('aer_simulator_statevector')\n",
      "[QClass]  seed =  332897\n",
      "[QClass]  SVM initiating algorithm\n",
      "[QClass]  Training...\n"
     ]
    },
    {
     "name": "stderr",
     "output_type": "stream",
     "text": [
      "WARNING:root:FidelityQuantumKernel skipped because of time.\n",
      "                    Using FidelityStatevectorKernel with AerStatevector.\n",
      "                    Seed cannot be set with FidelityStatevectorKernel.\n",
      "                    Increase the number of shots to diminish the noise.\n"
     ]
    },
    {
     "name": "stdout",
     "output_type": "stream",
     "text": [
      "[QClass]  Prediction finished.\n",
      "[QClass]  Initializing Quantum Classifier\n",
      "[QClass]  Quantum simulation will be performed\n",
      "GPU optimization disabled. No device found.\n",
      "[QClass]  Fitting:  (545, 3)\n",
      "[QClass]  Feature dimension =  3\n",
      "[QClass]  Quantum backend =  AerSimulator('aer_simulator_statevector')\n",
      "[QClass]  seed =  332897\n",
      "[QClass]  SVM initiating algorithm\n",
      "[QClass]  Training...\n"
     ]
    },
    {
     "name": "stderr",
     "output_type": "stream",
     "text": [
      "WARNING:root:FidelityQuantumKernel skipped because of time.\n",
      "                    Using FidelityStatevectorKernel with AerStatevector.\n",
      "                    Seed cannot be set with FidelityStatevectorKernel.\n",
      "                    Increase the number of shots to diminish the noise.\n"
     ]
    },
    {
     "name": "stdout",
     "output_type": "stream",
     "text": [
      "[QClass]  Prediction finished.\n",
      "[QClass]  Initializing Quantum Classifier\n",
      "[QClass]  Quantum simulation will be performed\n",
      "GPU optimization disabled. No device found.\n",
      "[QClass]  Fitting:  (545, 3)\n",
      "[QClass]  Feature dimension =  3\n",
      "[QClass]  Quantum backend =  AerSimulator('aer_simulator_statevector')\n",
      "[QClass]  seed =  332897\n",
      "[QClass]  SVM initiating algorithm\n",
      "[QClass]  Training...\n"
     ]
    },
    {
     "name": "stderr",
     "output_type": "stream",
     "text": [
      "WARNING:root:FidelityQuantumKernel skipped because of time.\n",
      "                    Using FidelityStatevectorKernel with AerStatevector.\n",
      "                    Seed cannot be set with FidelityStatevectorKernel.\n",
      "                    Increase the number of shots to diminish the noise.\n"
     ]
    },
    {
     "name": "stdout",
     "output_type": "stream",
     "text": [
      "[QClass]  Prediction finished.\n",
      "[QClass]  Initializing Quantum Classifier\n",
      "[QClass]  Quantum simulation will be performed\n",
      "GPU optimization disabled. No device found.\n",
      "[QClass]  Fitting:  (544, 3)\n",
      "[QClass]  Feature dimension =  3\n",
      "[QClass]  Quantum backend =  AerSimulator('aer_simulator_statevector')\n",
      "[QClass]  seed =  332897\n",
      "[QClass]  SVM initiating algorithm\n",
      "[QClass]  Training...\n"
     ]
    },
    {
     "name": "stderr",
     "output_type": "stream",
     "text": [
      "WARNING:root:FidelityQuantumKernel skipped because of time.\n",
      "                    Using FidelityStatevectorKernel with AerStatevector.\n",
      "                    Seed cannot be set with FidelityStatevectorKernel.\n",
      "                    Increase the number of shots to diminish the noise.\n"
     ]
    },
    {
     "name": "stdout",
     "output_type": "stream",
     "text": [
      "[QClass]  Prediction finished.\n",
      "[QClass]  Initializing Quantum Classifier\n",
      "[QClass]  Quantum simulation will be performed\n",
      "GPU optimization disabled. No device found.\n",
      "[QClass]  Fitting:  (545, 3)\n",
      "[QClass]  Feature dimension =  3\n",
      "[QClass]  Quantum backend =  AerSimulator('aer_simulator_statevector')\n",
      "[QClass]  seed =  332897\n",
      "[QClass]  SVM initiating algorithm\n",
      "[QClass]  Training...\n"
     ]
    },
    {
     "name": "stderr",
     "output_type": "stream",
     "text": [
      "WARNING:root:FidelityQuantumKernel skipped because of time.\n",
      "                    Using FidelityStatevectorKernel with AerStatevector.\n",
      "                    Seed cannot be set with FidelityStatevectorKernel.\n",
      "                    Increase the number of shots to diminish the noise.\n"
     ]
    },
    {
     "name": "stdout",
     "output_type": "stream",
     "text": [
      "[QClass]  Prediction finished.\n",
      "[QClass]  Initializing Quantum Classifier\n",
      "[QClass]  Quantum simulation will be performed\n",
      "GPU optimization disabled. No device found.\n",
      "[QClass]  Fitting:  (545, 3)\n",
      "[QClass]  Feature dimension =  3\n",
      "[QClass]  Quantum backend =  AerSimulator('aer_simulator_statevector')\n",
      "[QClass]  seed =  332897\n",
      "[QClass]  SVM initiating algorithm\n",
      "[QClass]  Training...\n"
     ]
    },
    {
     "name": "stderr",
     "output_type": "stream",
     "text": [
      "WARNING:root:FidelityQuantumKernel skipped because of time.\n",
      "                    Using FidelityStatevectorKernel with AerStatevector.\n",
      "                    Seed cannot be set with FidelityStatevectorKernel.\n",
      "                    Increase the number of shots to diminish the noise.\n"
     ]
    },
    {
     "name": "stdout",
     "output_type": "stream",
     "text": [
      "[QClass]  Prediction finished.\n",
      "[QClass]  Initializing Quantum Classifier\n",
      "[QClass]  Quantum simulation will be performed\n",
      "GPU optimization disabled. No device found.\n",
      "[QClass]  Fitting:  (545, 3)\n",
      "[QClass]  Feature dimension =  3\n",
      "[QClass]  Quantum backend =  AerSimulator('aer_simulator_statevector')\n",
      "[QClass]  seed =  332897\n",
      "[QClass]  SVM initiating algorithm\n",
      "[QClass]  Training...\n"
     ]
    },
    {
     "name": "stderr",
     "output_type": "stream",
     "text": [
      "WARNING:root:FidelityQuantumKernel skipped because of time.\n",
      "                    Using FidelityStatevectorKernel with AerStatevector.\n",
      "                    Seed cannot be set with FidelityStatevectorKernel.\n",
      "                    Increase the number of shots to diminish the noise.\n"
     ]
    },
    {
     "name": "stdout",
     "output_type": "stream",
     "text": [
      "[QClass]  Prediction finished.\n",
      "[QClass]  Initializing Quantum Classifier\n",
      "[QClass]  Quantum simulation will be performed\n",
      "GPU optimization disabled. No device found.\n",
      "[QClass]  Fitting:  (545, 3)\n",
      "[QClass]  Feature dimension =  3\n",
      "[QClass]  Quantum backend =  AerSimulator('aer_simulator_statevector')\n",
      "[QClass]  seed =  332897\n",
      "[QClass]  SVM initiating algorithm\n",
      "[QClass]  Training...\n"
     ]
    },
    {
     "name": "stderr",
     "output_type": "stream",
     "text": [
      "WARNING:root:FidelityQuantumKernel skipped because of time.\n",
      "                    Using FidelityStatevectorKernel with AerStatevector.\n",
      "                    Seed cannot be set with FidelityStatevectorKernel.\n",
      "                    Increase the number of shots to diminish the noise.\n"
     ]
    },
    {
     "name": "stdout",
     "output_type": "stream",
     "text": [
      "[QClass]  Prediction finished.\n",
      "[QClass]  Initializing Quantum Classifier\n",
      "[QClass]  Quantum simulation will be performed\n",
      "GPU optimization disabled. No device found.\n",
      "[QClass]  Fitting:  (544, 3)\n",
      "[QClass]  Feature dimension =  3\n",
      "[QClass]  Quantum backend =  AerSimulator('aer_simulator_statevector')\n",
      "[QClass]  seed =  332897\n",
      "[QClass]  SVM initiating algorithm\n",
      "[QClass]  Training...\n"
     ]
    },
    {
     "name": "stderr",
     "output_type": "stream",
     "text": [
      "WARNING:root:FidelityQuantumKernel skipped because of time.\n",
      "                    Using FidelityStatevectorKernel with AerStatevector.\n",
      "                    Seed cannot be set with FidelityStatevectorKernel.\n",
      "                    Increase the number of shots to diminish the noise.\n"
     ]
    },
    {
     "name": "stdout",
     "output_type": "stream",
     "text": [
      "[QClass]  Prediction finished.\n",
      "[QClass]  Initializing Quantum Classifier\n",
      "[QClass]  Quantum simulation will be performed\n",
      "GPU optimization disabled. No device found.\n",
      "[QClass]  Fitting:  (545, 3)\n",
      "[QClass]  Feature dimension =  3\n",
      "[QClass]  Quantum backend =  AerSimulator('aer_simulator_statevector')\n",
      "[QClass]  seed =  332897\n",
      "[QClass]  SVM initiating algorithm\n",
      "[QClass]  Training...\n"
     ]
    },
    {
     "name": "stderr",
     "output_type": "stream",
     "text": [
      "WARNING:root:FidelityQuantumKernel skipped because of time.\n",
      "                    Using FidelityStatevectorKernel with AerStatevector.\n",
      "                    Seed cannot be set with FidelityStatevectorKernel.\n",
      "                    Increase the number of shots to diminish the noise.\n"
     ]
    },
    {
     "name": "stdout",
     "output_type": "stream",
     "text": [
      "[QClass]  Prediction finished.\n",
      "[QClass]  Initializing Quantum Classifier\n",
      "[QClass]  Quantum simulation will be performed\n",
      "GPU optimization disabled. No device found.\n",
      "[QClass]  Fitting:  (545, 3)\n",
      "[QClass]  Feature dimension =  3\n",
      "[QClass]  Quantum backend =  AerSimulator('aer_simulator_statevector')\n",
      "[QClass]  seed =  332897\n",
      "[QClass]  SVM initiating algorithm\n",
      "[QClass]  Training...\n"
     ]
    },
    {
     "name": "stderr",
     "output_type": "stream",
     "text": [
      "WARNING:root:FidelityQuantumKernel skipped because of time.\n",
      "                    Using FidelityStatevectorKernel with AerStatevector.\n",
      "                    Seed cannot be set with FidelityStatevectorKernel.\n",
      "                    Increase the number of shots to diminish the noise.\n"
     ]
    },
    {
     "name": "stdout",
     "output_type": "stream",
     "text": [
      "[QClass]  Prediction finished.\n",
      "[QClass]  Initializing Quantum Classifier\n",
      "[QClass]  Quantum simulation will be performed\n",
      "GPU optimization disabled. No device found.\n",
      "[QClass]  Fitting:  (545, 3)\n",
      "[QClass]  Feature dimension =  3\n",
      "[QClass]  Quantum backend =  AerSimulator('aer_simulator_statevector')\n",
      "[QClass]  seed =  332897\n",
      "[QClass]  SVM initiating algorithm\n",
      "[QClass]  Training...\n"
     ]
    },
    {
     "name": "stderr",
     "output_type": "stream",
     "text": [
      "WARNING:root:FidelityQuantumKernel skipped because of time.\n",
      "                    Using FidelityStatevectorKernel with AerStatevector.\n",
      "                    Seed cannot be set with FidelityStatevectorKernel.\n",
      "                    Increase the number of shots to diminish the noise.\n"
     ]
    },
    {
     "name": "stdout",
     "output_type": "stream",
     "text": [
      "[QClass]  Prediction finished.\n",
      "[QClass]  Initializing Quantum Classifier\n",
      "[QClass]  Quantum simulation will be performed\n",
      "GPU optimization disabled. No device found.\n",
      "[QClass]  Fitting:  (545, 3)\n",
      "[QClass]  Feature dimension =  3\n",
      "[QClass]  Quantum backend =  AerSimulator('aer_simulator_statevector')\n",
      "[QClass]  seed =  332897\n",
      "[QClass]  SVM initiating algorithm\n",
      "[QClass]  Training...\n"
     ]
    },
    {
     "name": "stderr",
     "output_type": "stream",
     "text": [
      "WARNING:root:FidelityQuantumKernel skipped because of time.\n",
      "                    Using FidelityStatevectorKernel with AerStatevector.\n",
      "                    Seed cannot be set with FidelityStatevectorKernel.\n",
      "                    Increase the number of shots to diminish the noise.\n"
     ]
    },
    {
     "name": "stdout",
     "output_type": "stream",
     "text": [
      "[QClass]  Prediction finished.\n",
      "[QClass]  Initializing Quantum Classifier\n",
      "[QClass]  Quantum simulation will be performed\n",
      "GPU optimization disabled. No device found.\n",
      "[QClass]  Fitting:  (544, 3)\n",
      "[QClass]  Feature dimension =  3\n",
      "[QClass]  Quantum backend =  AerSimulator('aer_simulator_statevector')\n",
      "[QClass]  seed =  332897\n",
      "[QClass]  SVM initiating algorithm\n",
      "[QClass]  Training...\n"
     ]
    },
    {
     "name": "stderr",
     "output_type": "stream",
     "text": [
      "WARNING:root:FidelityQuantumKernel skipped because of time.\n",
      "                    Using FidelityStatevectorKernel with AerStatevector.\n",
      "                    Seed cannot be set with FidelityStatevectorKernel.\n",
      "                    Increase the number of shots to diminish the noise.\n"
     ]
    },
    {
     "name": "stdout",
     "output_type": "stream",
     "text": [
      "[QClass]  Prediction finished.\n",
      "[QClass]  Initializing Quantum Classifier\n",
      "[QClass]  Quantum simulation will be performed\n",
      "GPU optimization disabled. No device found.\n",
      "[QClass]  Fitting:  (545, 3)\n",
      "[QClass]  Feature dimension =  3\n",
      "[QClass]  Quantum backend =  AerSimulator('aer_simulator_statevector')\n",
      "[QClass]  seed =  332897\n",
      "[QClass]  SVM initiating algorithm\n",
      "[QClass]  Training...\n"
     ]
    },
    {
     "name": "stderr",
     "output_type": "stream",
     "text": [
      "WARNING:root:FidelityQuantumKernel skipped because of time.\n",
      "                    Using FidelityStatevectorKernel with AerStatevector.\n",
      "                    Seed cannot be set with FidelityStatevectorKernel.\n",
      "                    Increase the number of shots to diminish the noise.\n"
     ]
    },
    {
     "name": "stdout",
     "output_type": "stream",
     "text": [
      "[QClass]  Prediction finished.\n",
      "[QClass]  Initializing Quantum Classifier\n",
      "[QClass]  Quantum simulation will be performed\n",
      "GPU optimization disabled. No device found.\n",
      "[QClass]  Fitting:  (545, 3)\n",
      "[QClass]  Feature dimension =  3\n",
      "[QClass]  Quantum backend =  AerSimulator('aer_simulator_statevector')\n",
      "[QClass]  seed =  332897\n",
      "[QClass]  SVM initiating algorithm\n",
      "[QClass]  Training...\n"
     ]
    },
    {
     "name": "stderr",
     "output_type": "stream",
     "text": [
      "WARNING:root:FidelityQuantumKernel skipped because of time.\n",
      "                    Using FidelityStatevectorKernel with AerStatevector.\n",
      "                    Seed cannot be set with FidelityStatevectorKernel.\n",
      "                    Increase the number of shots to diminish the noise.\n"
     ]
    },
    {
     "name": "stdout",
     "output_type": "stream",
     "text": [
      "[QClass]  Prediction finished.\n",
      "[QClass]  Initializing Quantum Classifier\n",
      "[QClass]  Quantum simulation will be performed\n",
      "GPU optimization disabled. No device found.\n",
      "[QClass]  Fitting:  (545, 3)\n",
      "[QClass]  Feature dimension =  3\n",
      "[QClass]  Quantum backend =  AerSimulator('aer_simulator_statevector')\n",
      "[QClass]  seed =  332897\n",
      "[QClass]  SVM initiating algorithm\n",
      "[QClass]  Training...\n"
     ]
    },
    {
     "name": "stderr",
     "output_type": "stream",
     "text": [
      "WARNING:root:FidelityQuantumKernel skipped because of time.\n",
      "                    Using FidelityStatevectorKernel with AerStatevector.\n",
      "                    Seed cannot be set with FidelityStatevectorKernel.\n",
      "                    Increase the number of shots to diminish the noise.\n"
     ]
    },
    {
     "name": "stdout",
     "output_type": "stream",
     "text": [
      "[QClass]  Prediction finished.\n",
      "[QClass]  Initializing Quantum Classifier\n",
      "[QClass]  Quantum simulation will be performed\n",
      "GPU optimization disabled. No device found.\n",
      "[QClass]  Fitting:  (545, 3)\n",
      "[QClass]  Feature dimension =  3\n",
      "[QClass]  Quantum backend =  AerSimulator('aer_simulator_statevector')\n",
      "[QClass]  seed =  332897\n",
      "[QClass]  SVM initiating algorithm\n",
      "[QClass]  Training...\n"
     ]
    },
    {
     "name": "stderr",
     "output_type": "stream",
     "text": [
      "WARNING:root:FidelityQuantumKernel skipped because of time.\n",
      "                    Using FidelityStatevectorKernel with AerStatevector.\n",
      "                    Seed cannot be set with FidelityStatevectorKernel.\n",
      "                    Increase the number of shots to diminish the noise.\n"
     ]
    },
    {
     "name": "stdout",
     "output_type": "stream",
     "text": [
      "[QClass]  Prediction finished.\n",
      "[QClass]  Initializing Quantum Classifier\n",
      "[QClass]  Quantum simulation will be performed\n",
      "GPU optimization disabled. No device found.\n",
      "[QClass]  Fitting:  (544, 6)\n",
      "[QClass]  Feature dimension =  6\n",
      "[QClass]  Quantum backend =  AerSimulator('aer_simulator_statevector')\n",
      "[QClass]  seed =  332897\n",
      "[QClass]  SVM initiating algorithm\n",
      "[QClass]  Training...\n"
     ]
    },
    {
     "name": "stderr",
     "output_type": "stream",
     "text": [
      "WARNING:root:FidelityQuantumKernel skipped because of time.\n",
      "                    Using FidelityStatevectorKernel with AerStatevector.\n",
      "                    Seed cannot be set with FidelityStatevectorKernel.\n",
      "                    Increase the number of shots to diminish the noise.\n"
     ]
    },
    {
     "name": "stdout",
     "output_type": "stream",
     "text": [
      "[QClass]  Prediction finished.\n",
      "[QClass]  Initializing Quantum Classifier\n",
      "[QClass]  Quantum simulation will be performed\n",
      "GPU optimization disabled. No device found.\n",
      "[QClass]  Fitting:  (545, 6)\n",
      "[QClass]  Feature dimension =  6\n",
      "[QClass]  Quantum backend =  AerSimulator('aer_simulator_statevector')\n",
      "[QClass]  seed =  332897\n",
      "[QClass]  SVM initiating algorithm\n",
      "[QClass]  Training...\n"
     ]
    },
    {
     "name": "stderr",
     "output_type": "stream",
     "text": [
      "WARNING:root:FidelityQuantumKernel skipped because of time.\n",
      "                    Using FidelityStatevectorKernel with AerStatevector.\n",
      "                    Seed cannot be set with FidelityStatevectorKernel.\n",
      "                    Increase the number of shots to diminish the noise.\n"
     ]
    },
    {
     "name": "stdout",
     "output_type": "stream",
     "text": [
      "[QClass]  Prediction finished.\n",
      "[QClass]  Initializing Quantum Classifier\n",
      "[QClass]  Quantum simulation will be performed\n",
      "GPU optimization disabled. No device found.\n",
      "[QClass]  Fitting:  (545, 6)\n",
      "[QClass]  Feature dimension =  6\n",
      "[QClass]  Quantum backend =  AerSimulator('aer_simulator_statevector')\n",
      "[QClass]  seed =  332897\n",
      "[QClass]  SVM initiating algorithm\n",
      "[QClass]  Training...\n"
     ]
    },
    {
     "name": "stderr",
     "output_type": "stream",
     "text": [
      "WARNING:root:FidelityQuantumKernel skipped because of time.\n",
      "                    Using FidelityStatevectorKernel with AerStatevector.\n",
      "                    Seed cannot be set with FidelityStatevectorKernel.\n",
      "                    Increase the number of shots to diminish the noise.\n"
     ]
    },
    {
     "name": "stdout",
     "output_type": "stream",
     "text": [
      "[QClass]  Prediction finished.\n",
      "[QClass]  Initializing Quantum Classifier\n",
      "[QClass]  Quantum simulation will be performed\n",
      "GPU optimization disabled. No device found.\n",
      "[QClass]  Fitting:  (545, 6)\n",
      "[QClass]  Feature dimension =  6\n",
      "[QClass]  Quantum backend =  AerSimulator('aer_simulator_statevector')\n",
      "[QClass]  seed =  332897\n",
      "[QClass]  SVM initiating algorithm\n",
      "[QClass]  Training...\n"
     ]
    },
    {
     "name": "stderr",
     "output_type": "stream",
     "text": [
      "WARNING:root:FidelityQuantumKernel skipped because of time.\n",
      "                    Using FidelityStatevectorKernel with AerStatevector.\n",
      "                    Seed cannot be set with FidelityStatevectorKernel.\n",
      "                    Increase the number of shots to diminish the noise.\n"
     ]
    },
    {
     "name": "stdout",
     "output_type": "stream",
     "text": [
      "[QClass]  Prediction finished.\n",
      "[QClass]  Initializing Quantum Classifier\n",
      "[QClass]  Quantum simulation will be performed\n",
      "GPU optimization disabled. No device found.\n",
      "[QClass]  Fitting:  (545, 6)\n",
      "[QClass]  Feature dimension =  6\n",
      "[QClass]  Quantum backend =  AerSimulator('aer_simulator_statevector')\n",
      "[QClass]  seed =  332897\n",
      "[QClass]  SVM initiating algorithm\n",
      "[QClass]  Training...\n"
     ]
    },
    {
     "name": "stderr",
     "output_type": "stream",
     "text": [
      "WARNING:root:FidelityQuantumKernel skipped because of time.\n",
      "                    Using FidelityStatevectorKernel with AerStatevector.\n",
      "                    Seed cannot be set with FidelityStatevectorKernel.\n",
      "                    Increase the number of shots to diminish the noise.\n"
     ]
    },
    {
     "name": "stdout",
     "output_type": "stream",
     "text": [
      "[QClass]  Prediction finished.\n",
      "[QClass]  Initializing Quantum Classifier\n",
      "[QClass]  Quantum simulation will be performed\n",
      "GPU optimization disabled. No device found.\n",
      "[QClass]  Fitting:  (544, 6)\n",
      "[QClass]  Feature dimension =  6\n",
      "[QClass]  Quantum backend =  AerSimulator('aer_simulator_statevector')\n",
      "[QClass]  seed =  332897\n",
      "[QClass]  SVM initiating algorithm\n",
      "[QClass]  Training...\n"
     ]
    },
    {
     "name": "stderr",
     "output_type": "stream",
     "text": [
      "WARNING:root:FidelityQuantumKernel skipped because of time.\n",
      "                    Using FidelityStatevectorKernel with AerStatevector.\n",
      "                    Seed cannot be set with FidelityStatevectorKernel.\n",
      "                    Increase the number of shots to diminish the noise.\n"
     ]
    },
    {
     "name": "stdout",
     "output_type": "stream",
     "text": [
      "[QClass]  Prediction finished.\n",
      "[QClass]  Initializing Quantum Classifier\n",
      "[QClass]  Quantum simulation will be performed\n",
      "GPU optimization disabled. No device found.\n",
      "[QClass]  Fitting:  (545, 6)\n",
      "[QClass]  Feature dimension =  6\n",
      "[QClass]  Quantum backend =  AerSimulator('aer_simulator_statevector')\n",
      "[QClass]  seed =  332897\n",
      "[QClass]  SVM initiating algorithm\n",
      "[QClass]  Training...\n"
     ]
    },
    {
     "name": "stderr",
     "output_type": "stream",
     "text": [
      "WARNING:root:FidelityQuantumKernel skipped because of time.\n",
      "                    Using FidelityStatevectorKernel with AerStatevector.\n",
      "                    Seed cannot be set with FidelityStatevectorKernel.\n",
      "                    Increase the number of shots to diminish the noise.\n"
     ]
    },
    {
     "name": "stdout",
     "output_type": "stream",
     "text": [
      "[QClass]  Prediction finished.\n",
      "[QClass]  Initializing Quantum Classifier\n",
      "[QClass]  Quantum simulation will be performed\n",
      "GPU optimization disabled. No device found.\n",
      "[QClass]  Fitting:  (545, 6)\n",
      "[QClass]  Feature dimension =  6\n",
      "[QClass]  Quantum backend =  AerSimulator('aer_simulator_statevector')\n",
      "[QClass]  seed =  332897\n",
      "[QClass]  SVM initiating algorithm\n",
      "[QClass]  Training...\n"
     ]
    },
    {
     "name": "stderr",
     "output_type": "stream",
     "text": [
      "WARNING:root:FidelityQuantumKernel skipped because of time.\n",
      "                    Using FidelityStatevectorKernel with AerStatevector.\n",
      "                    Seed cannot be set with FidelityStatevectorKernel.\n",
      "                    Increase the number of shots to diminish the noise.\n"
     ]
    },
    {
     "name": "stdout",
     "output_type": "stream",
     "text": [
      "[QClass]  Prediction finished.\n",
      "[QClass]  Initializing Quantum Classifier\n",
      "[QClass]  Quantum simulation will be performed\n",
      "GPU optimization disabled. No device found.\n",
      "[QClass]  Fitting:  (545, 6)\n",
      "[QClass]  Feature dimension =  6\n",
      "[QClass]  Quantum backend =  AerSimulator('aer_simulator_statevector')\n",
      "[QClass]  seed =  332897\n",
      "[QClass]  SVM initiating algorithm\n",
      "[QClass]  Training...\n"
     ]
    },
    {
     "name": "stderr",
     "output_type": "stream",
     "text": [
      "WARNING:root:FidelityQuantumKernel skipped because of time.\n",
      "                    Using FidelityStatevectorKernel with AerStatevector.\n",
      "                    Seed cannot be set with FidelityStatevectorKernel.\n",
      "                    Increase the number of shots to diminish the noise.\n"
     ]
    },
    {
     "name": "stdout",
     "output_type": "stream",
     "text": [
      "[QClass]  Prediction finished.\n",
      "[QClass]  Initializing Quantum Classifier\n",
      "[QClass]  Quantum simulation will be performed\n",
      "GPU optimization disabled. No device found.\n",
      "[QClass]  Fitting:  (545, 6)\n",
      "[QClass]  Feature dimension =  6\n",
      "[QClass]  Quantum backend =  AerSimulator('aer_simulator_statevector')\n",
      "[QClass]  seed =  332897\n",
      "[QClass]  SVM initiating algorithm\n",
      "[QClass]  Training...\n"
     ]
    },
    {
     "name": "stderr",
     "output_type": "stream",
     "text": [
      "WARNING:root:FidelityQuantumKernel skipped because of time.\n",
      "                    Using FidelityStatevectorKernel with AerStatevector.\n",
      "                    Seed cannot be set with FidelityStatevectorKernel.\n",
      "                    Increase the number of shots to diminish the noise.\n"
     ]
    },
    {
     "name": "stdout",
     "output_type": "stream",
     "text": [
      "[QClass]  Prediction finished.\n",
      "[QClass]  Initializing Quantum Classifier\n",
      "[QClass]  Quantum simulation will be performed\n",
      "GPU optimization disabled. No device found.\n",
      "[QClass]  Fitting:  (544, 6)\n",
      "[QClass]  Feature dimension =  6\n",
      "[QClass]  Quantum backend =  AerSimulator('aer_simulator_statevector')\n",
      "[QClass]  seed =  332897\n",
      "[QClass]  SVM initiating algorithm\n",
      "[QClass]  Training...\n"
     ]
    },
    {
     "name": "stderr",
     "output_type": "stream",
     "text": [
      "WARNING:root:FidelityQuantumKernel skipped because of time.\n",
      "                    Using FidelityStatevectorKernel with AerStatevector.\n",
      "                    Seed cannot be set with FidelityStatevectorKernel.\n",
      "                    Increase the number of shots to diminish the noise.\n"
     ]
    },
    {
     "name": "stdout",
     "output_type": "stream",
     "text": [
      "[QClass]  Prediction finished.\n",
      "[QClass]  Initializing Quantum Classifier\n",
      "[QClass]  Quantum simulation will be performed\n",
      "GPU optimization disabled. No device found.\n",
      "[QClass]  Fitting:  (545, 6)\n",
      "[QClass]  Feature dimension =  6\n",
      "[QClass]  Quantum backend =  AerSimulator('aer_simulator_statevector')\n",
      "[QClass]  seed =  332897\n",
      "[QClass]  SVM initiating algorithm\n",
      "[QClass]  Training...\n"
     ]
    },
    {
     "name": "stderr",
     "output_type": "stream",
     "text": [
      "WARNING:root:FidelityQuantumKernel skipped because of time.\n",
      "                    Using FidelityStatevectorKernel with AerStatevector.\n",
      "                    Seed cannot be set with FidelityStatevectorKernel.\n",
      "                    Increase the number of shots to diminish the noise.\n"
     ]
    },
    {
     "name": "stdout",
     "output_type": "stream",
     "text": [
      "[QClass]  Prediction finished.\n",
      "[QClass]  Initializing Quantum Classifier\n",
      "[QClass]  Quantum simulation will be performed\n",
      "GPU optimization disabled. No device found.\n",
      "[QClass]  Fitting:  (545, 6)\n",
      "[QClass]  Feature dimension =  6\n",
      "[QClass]  Quantum backend =  AerSimulator('aer_simulator_statevector')\n",
      "[QClass]  seed =  332897\n",
      "[QClass]  SVM initiating algorithm\n",
      "[QClass]  Training...\n"
     ]
    },
    {
     "name": "stderr",
     "output_type": "stream",
     "text": [
      "WARNING:root:FidelityQuantumKernel skipped because of time.\n",
      "                    Using FidelityStatevectorKernel with AerStatevector.\n",
      "                    Seed cannot be set with FidelityStatevectorKernel.\n",
      "                    Increase the number of shots to diminish the noise.\n"
     ]
    },
    {
     "name": "stdout",
     "output_type": "stream",
     "text": [
      "[QClass]  Prediction finished.\n",
      "[QClass]  Initializing Quantum Classifier\n",
      "[QClass]  Quantum simulation will be performed\n",
      "GPU optimization disabled. No device found.\n",
      "[QClass]  Fitting:  (545, 6)\n",
      "[QClass]  Feature dimension =  6\n",
      "[QClass]  Quantum backend =  AerSimulator('aer_simulator_statevector')\n",
      "[QClass]  seed =  332897\n",
      "[QClass]  SVM initiating algorithm\n",
      "[QClass]  Training...\n"
     ]
    },
    {
     "name": "stderr",
     "output_type": "stream",
     "text": [
      "WARNING:root:FidelityQuantumKernel skipped because of time.\n",
      "                    Using FidelityStatevectorKernel with AerStatevector.\n",
      "                    Seed cannot be set with FidelityStatevectorKernel.\n",
      "                    Increase the number of shots to diminish the noise.\n"
     ]
    },
    {
     "name": "stdout",
     "output_type": "stream",
     "text": [
      "[QClass]  Prediction finished.\n",
      "[QClass]  Initializing Quantum Classifier\n",
      "[QClass]  Quantum simulation will be performed\n",
      "GPU optimization disabled. No device found.\n",
      "[QClass]  Fitting:  (545, 6)\n",
      "[QClass]  Feature dimension =  6\n",
      "[QClass]  Quantum backend =  AerSimulator('aer_simulator_statevector')\n",
      "[QClass]  seed =  332897\n",
      "[QClass]  SVM initiating algorithm\n",
      "[QClass]  Training...\n"
     ]
    },
    {
     "name": "stderr",
     "output_type": "stream",
     "text": [
      "WARNING:root:FidelityQuantumKernel skipped because of time.\n",
      "                    Using FidelityStatevectorKernel with AerStatevector.\n",
      "                    Seed cannot be set with FidelityStatevectorKernel.\n",
      "                    Increase the number of shots to diminish the noise.\n"
     ]
    },
    {
     "name": "stdout",
     "output_type": "stream",
     "text": [
      "[QClass]  Prediction finished.\n",
      "[QClass]  Initializing Quantum Classifier\n",
      "[QClass]  Quantum simulation will be performed\n",
      "GPU optimization disabled. No device found.\n",
      "[QClass]  Fitting:  (544, 6)\n",
      "[QClass]  Feature dimension =  6\n",
      "[QClass]  Quantum backend =  AerSimulator('aer_simulator_statevector')\n",
      "[QClass]  seed =  332897\n",
      "[QClass]  SVM initiating algorithm\n",
      "[QClass]  Training...\n"
     ]
    },
    {
     "name": "stderr",
     "output_type": "stream",
     "text": [
      "WARNING:root:FidelityQuantumKernel skipped because of time.\n",
      "                    Using FidelityStatevectorKernel with AerStatevector.\n",
      "                    Seed cannot be set with FidelityStatevectorKernel.\n",
      "                    Increase the number of shots to diminish the noise.\n"
     ]
    },
    {
     "name": "stdout",
     "output_type": "stream",
     "text": [
      "[QClass]  Prediction finished.\n",
      "[QClass]  Initializing Quantum Classifier\n",
      "[QClass]  Quantum simulation will be performed\n",
      "GPU optimization disabled. No device found.\n",
      "[QClass]  Fitting:  (545, 6)\n",
      "[QClass]  Feature dimension =  6\n",
      "[QClass]  Quantum backend =  AerSimulator('aer_simulator_statevector')\n",
      "[QClass]  seed =  332897\n",
      "[QClass]  SVM initiating algorithm\n",
      "[QClass]  Training...\n"
     ]
    },
    {
     "name": "stderr",
     "output_type": "stream",
     "text": [
      "WARNING:root:FidelityQuantumKernel skipped because of time.\n",
      "                    Using FidelityStatevectorKernel with AerStatevector.\n",
      "                    Seed cannot be set with FidelityStatevectorKernel.\n",
      "                    Increase the number of shots to diminish the noise.\n"
     ]
    },
    {
     "name": "stdout",
     "output_type": "stream",
     "text": [
      "[QClass]  Prediction finished.\n",
      "[QClass]  Initializing Quantum Classifier\n",
      "[QClass]  Quantum simulation will be performed\n",
      "GPU optimization disabled. No device found.\n",
      "[QClass]  Fitting:  (545, 6)\n",
      "[QClass]  Feature dimension =  6\n",
      "[QClass]  Quantum backend =  AerSimulator('aer_simulator_statevector')\n",
      "[QClass]  seed =  332897\n",
      "[QClass]  SVM initiating algorithm\n",
      "[QClass]  Training...\n"
     ]
    },
    {
     "name": "stderr",
     "output_type": "stream",
     "text": [
      "WARNING:root:FidelityQuantumKernel skipped because of time.\n",
      "                    Using FidelityStatevectorKernel with AerStatevector.\n",
      "                    Seed cannot be set with FidelityStatevectorKernel.\n",
      "                    Increase the number of shots to diminish the noise.\n"
     ]
    },
    {
     "name": "stdout",
     "output_type": "stream",
     "text": [
      "[QClass]  Prediction finished.\n",
      "[QClass]  Initializing Quantum Classifier\n",
      "[QClass]  Quantum simulation will be performed\n",
      "GPU optimization disabled. No device found.\n",
      "[QClass]  Fitting:  (545, 6)\n",
      "[QClass]  Feature dimension =  6\n",
      "[QClass]  Quantum backend =  AerSimulator('aer_simulator_statevector')\n",
      "[QClass]  seed =  332897\n",
      "[QClass]  SVM initiating algorithm\n",
      "[QClass]  Training...\n"
     ]
    },
    {
     "name": "stderr",
     "output_type": "stream",
     "text": [
      "WARNING:root:FidelityQuantumKernel skipped because of time.\n",
      "                    Using FidelityStatevectorKernel with AerStatevector.\n",
      "                    Seed cannot be set with FidelityStatevectorKernel.\n",
      "                    Increase the number of shots to diminish the noise.\n"
     ]
    },
    {
     "name": "stdout",
     "output_type": "stream",
     "text": [
      "[QClass]  Prediction finished.\n",
      "[QClass]  Initializing Quantum Classifier\n",
      "[QClass]  Quantum simulation will be performed\n",
      "GPU optimization disabled. No device found.\n",
      "[QClass]  Fitting:  (545, 6)\n",
      "[QClass]  Feature dimension =  6\n",
      "[QClass]  Quantum backend =  AerSimulator('aer_simulator_statevector')\n",
      "[QClass]  seed =  332897\n",
      "[QClass]  SVM initiating algorithm\n",
      "[QClass]  Training...\n"
     ]
    },
    {
     "name": "stderr",
     "output_type": "stream",
     "text": [
      "WARNING:root:FidelityQuantumKernel skipped because of time.\n",
      "                    Using FidelityStatevectorKernel with AerStatevector.\n",
      "                    Seed cannot be set with FidelityStatevectorKernel.\n",
      "                    Increase the number of shots to diminish the noise.\n"
     ]
    },
    {
     "name": "stdout",
     "output_type": "stream",
     "text": [
      "[QClass]  Prediction finished.\n",
      "[QClass]  Initializing Quantum Classifier\n",
      "[QClass]  Quantum simulation will be performed\n",
      "GPU optimization disabled. No device found.\n",
      "[QClass]  Fitting:  (544, 6)\n",
      "[QClass]  Feature dimension =  6\n",
      "[QClass]  Quantum backend =  AerSimulator('aer_simulator_statevector')\n",
      "[QClass]  seed =  332897\n",
      "[QClass]  SVM initiating algorithm\n",
      "[QClass]  Training...\n"
     ]
    },
    {
     "name": "stderr",
     "output_type": "stream",
     "text": [
      "WARNING:root:FidelityQuantumKernel skipped because of time.\n",
      "                    Using FidelityStatevectorKernel with AerStatevector.\n",
      "                    Seed cannot be set with FidelityStatevectorKernel.\n",
      "                    Increase the number of shots to diminish the noise.\n"
     ]
    },
    {
     "name": "stdout",
     "output_type": "stream",
     "text": [
      "[QClass]  Prediction finished.\n",
      "[QClass]  Initializing Quantum Classifier\n",
      "[QClass]  Quantum simulation will be performed\n",
      "GPU optimization disabled. No device found.\n",
      "[QClass]  Fitting:  (545, 6)\n",
      "[QClass]  Feature dimension =  6\n",
      "[QClass]  Quantum backend =  AerSimulator('aer_simulator_statevector')\n",
      "[QClass]  seed =  332897\n",
      "[QClass]  SVM initiating algorithm\n",
      "[QClass]  Training...\n"
     ]
    },
    {
     "name": "stderr",
     "output_type": "stream",
     "text": [
      "WARNING:root:FidelityQuantumKernel skipped because of time.\n",
      "                    Using FidelityStatevectorKernel with AerStatevector.\n",
      "                    Seed cannot be set with FidelityStatevectorKernel.\n",
      "                    Increase the number of shots to diminish the noise.\n"
     ]
    },
    {
     "name": "stdout",
     "output_type": "stream",
     "text": [
      "[QClass]  Prediction finished.\n",
      "[QClass]  Initializing Quantum Classifier\n",
      "[QClass]  Quantum simulation will be performed\n",
      "GPU optimization disabled. No device found.\n",
      "[QClass]  Fitting:  (545, 6)\n",
      "[QClass]  Feature dimension =  6\n",
      "[QClass]  Quantum backend =  AerSimulator('aer_simulator_statevector')\n",
      "[QClass]  seed =  332897\n",
      "[QClass]  SVM initiating algorithm\n",
      "[QClass]  Training...\n"
     ]
    },
    {
     "name": "stderr",
     "output_type": "stream",
     "text": [
      "WARNING:root:FidelityQuantumKernel skipped because of time.\n",
      "                    Using FidelityStatevectorKernel with AerStatevector.\n",
      "                    Seed cannot be set with FidelityStatevectorKernel.\n",
      "                    Increase the number of shots to diminish the noise.\n"
     ]
    },
    {
     "name": "stdout",
     "output_type": "stream",
     "text": [
      "[QClass]  Prediction finished.\n",
      "[QClass]  Initializing Quantum Classifier\n",
      "[QClass]  Quantum simulation will be performed\n",
      "GPU optimization disabled. No device found.\n",
      "[QClass]  Fitting:  (545, 6)\n",
      "[QClass]  Feature dimension =  6\n",
      "[QClass]  Quantum backend =  AerSimulator('aer_simulator_statevector')\n",
      "[QClass]  seed =  332897\n",
      "[QClass]  SVM initiating algorithm\n",
      "[QClass]  Training...\n"
     ]
    },
    {
     "name": "stderr",
     "output_type": "stream",
     "text": [
      "WARNING:root:FidelityQuantumKernel skipped because of time.\n",
      "                    Using FidelityStatevectorKernel with AerStatevector.\n",
      "                    Seed cannot be set with FidelityStatevectorKernel.\n",
      "                    Increase the number of shots to diminish the noise.\n"
     ]
    },
    {
     "name": "stdout",
     "output_type": "stream",
     "text": [
      "[QClass]  Prediction finished.\n",
      "[QClass]  Initializing Quantum Classifier\n",
      "[QClass]  Quantum simulation will be performed\n",
      "GPU optimization disabled. No device found.\n",
      "[QClass]  Fitting:  (545, 6)\n",
      "[QClass]  Feature dimension =  6\n",
      "[QClass]  Quantum backend =  AerSimulator('aer_simulator_statevector')\n",
      "[QClass]  seed =  332897\n",
      "[QClass]  SVM initiating algorithm\n",
      "[QClass]  Training...\n"
     ]
    },
    {
     "name": "stderr",
     "output_type": "stream",
     "text": [
      "WARNING:root:FidelityQuantumKernel skipped because of time.\n",
      "                    Using FidelityStatevectorKernel with AerStatevector.\n",
      "                    Seed cannot be set with FidelityStatevectorKernel.\n",
      "                    Increase the number of shots to diminish the noise.\n"
     ]
    },
    {
     "name": "stdout",
     "output_type": "stream",
     "text": [
      "[QClass]  Prediction finished.\n",
      "[QClass]  Initializing Quantum Classifier\n",
      "[QClass]  Quantum simulation will be performed\n",
      "GPU optimization disabled. No device found.\n",
      "[QClass]  Fitting:  (544, 6)\n",
      "[QClass]  Feature dimension =  6\n",
      "[QClass]  Quantum backend =  AerSimulator('aer_simulator_statevector')\n",
      "[QClass]  seed =  332897\n",
      "[QClass]  SVM initiating algorithm\n",
      "[QClass]  Training...\n"
     ]
    },
    {
     "name": "stderr",
     "output_type": "stream",
     "text": [
      "WARNING:root:FidelityQuantumKernel skipped because of time.\n",
      "                    Using FidelityStatevectorKernel with AerStatevector.\n",
      "                    Seed cannot be set with FidelityStatevectorKernel.\n",
      "                    Increase the number of shots to diminish the noise.\n"
     ]
    },
    {
     "name": "stdout",
     "output_type": "stream",
     "text": [
      "[QClass]  Prediction finished.\n",
      "[QClass]  Initializing Quantum Classifier\n",
      "[QClass]  Quantum simulation will be performed\n",
      "GPU optimization disabled. No device found.\n",
      "[QClass]  Fitting:  (545, 6)\n",
      "[QClass]  Feature dimension =  6\n",
      "[QClass]  Quantum backend =  AerSimulator('aer_simulator_statevector')\n",
      "[QClass]  seed =  332897\n",
      "[QClass]  SVM initiating algorithm\n",
      "[QClass]  Training...\n"
     ]
    },
    {
     "name": "stderr",
     "output_type": "stream",
     "text": [
      "WARNING:root:FidelityQuantumKernel skipped because of time.\n",
      "                    Using FidelityStatevectorKernel with AerStatevector.\n",
      "                    Seed cannot be set with FidelityStatevectorKernel.\n",
      "                    Increase the number of shots to diminish the noise.\n"
     ]
    },
    {
     "name": "stdout",
     "output_type": "stream",
     "text": [
      "[QClass]  Prediction finished.\n",
      "[QClass]  Initializing Quantum Classifier\n",
      "[QClass]  Quantum simulation will be performed\n",
      "GPU optimization disabled. No device found.\n",
      "[QClass]  Fitting:  (545, 6)\n",
      "[QClass]  Feature dimension =  6\n",
      "[QClass]  Quantum backend =  AerSimulator('aer_simulator_statevector')\n",
      "[QClass]  seed =  332897\n",
      "[QClass]  SVM initiating algorithm\n",
      "[QClass]  Training...\n"
     ]
    },
    {
     "name": "stderr",
     "output_type": "stream",
     "text": [
      "WARNING:root:FidelityQuantumKernel skipped because of time.\n",
      "                    Using FidelityStatevectorKernel with AerStatevector.\n",
      "                    Seed cannot be set with FidelityStatevectorKernel.\n",
      "                    Increase the number of shots to diminish the noise.\n"
     ]
    },
    {
     "name": "stdout",
     "output_type": "stream",
     "text": [
      "[QClass]  Prediction finished.\n",
      "[QClass]  Initializing Quantum Classifier\n",
      "[QClass]  Quantum simulation will be performed\n",
      "GPU optimization disabled. No device found.\n",
      "[QClass]  Fitting:  (545, 6)\n",
      "[QClass]  Feature dimension =  6\n",
      "[QClass]  Quantum backend =  AerSimulator('aer_simulator_statevector')\n",
      "[QClass]  seed =  332897\n",
      "[QClass]  SVM initiating algorithm\n",
      "[QClass]  Training...\n"
     ]
    },
    {
     "name": "stderr",
     "output_type": "stream",
     "text": [
      "WARNING:root:FidelityQuantumKernel skipped because of time.\n",
      "                    Using FidelityStatevectorKernel with AerStatevector.\n",
      "                    Seed cannot be set with FidelityStatevectorKernel.\n",
      "                    Increase the number of shots to diminish the noise.\n"
     ]
    },
    {
     "name": "stdout",
     "output_type": "stream",
     "text": [
      "[QClass]  Prediction finished.\n",
      "[QClass]  Initializing Quantum Classifier\n",
      "[QClass]  Quantum simulation will be performed\n",
      "GPU optimization disabled. No device found.\n",
      "[QClass]  Fitting:  (545, 6)\n",
      "[QClass]  Feature dimension =  6\n",
      "[QClass]  Quantum backend =  AerSimulator('aer_simulator_statevector')\n",
      "[QClass]  seed =  332897\n",
      "[QClass]  SVM initiating algorithm\n",
      "[QClass]  Training...\n"
     ]
    },
    {
     "name": "stderr",
     "output_type": "stream",
     "text": [
      "WARNING:root:FidelityQuantumKernel skipped because of time.\n",
      "                    Using FidelityStatevectorKernel with AerStatevector.\n",
      "                    Seed cannot be set with FidelityStatevectorKernel.\n",
      "                    Increase the number of shots to diminish the noise.\n"
     ]
    },
    {
     "name": "stdout",
     "output_type": "stream",
     "text": [
      "[QClass]  Prediction finished.\n",
      "[QClass]  Initializing Quantum Classifier\n",
      "[QClass]  Quantum simulation will be performed\n",
      "GPU optimization disabled. No device found.\n",
      "[QClass]  Fitting:  (544, 6)\n",
      "[QClass]  Feature dimension =  6\n",
      "[QClass]  Quantum backend =  AerSimulator('aer_simulator_statevector')\n",
      "[QClass]  seed =  332897\n",
      "[QClass]  SVM initiating algorithm\n",
      "[QClass]  Training...\n"
     ]
    },
    {
     "name": "stderr",
     "output_type": "stream",
     "text": [
      "WARNING:root:FidelityQuantumKernel skipped because of time.\n",
      "                    Using FidelityStatevectorKernel with AerStatevector.\n",
      "                    Seed cannot be set with FidelityStatevectorKernel.\n",
      "                    Increase the number of shots to diminish the noise.\n"
     ]
    },
    {
     "name": "stdout",
     "output_type": "stream",
     "text": [
      "[QClass]  Prediction finished.\n",
      "[QClass]  Initializing Quantum Classifier\n",
      "[QClass]  Quantum simulation will be performed\n",
      "GPU optimization disabled. No device found.\n",
      "[QClass]  Fitting:  (545, 6)\n",
      "[QClass]  Feature dimension =  6\n",
      "[QClass]  Quantum backend =  AerSimulator('aer_simulator_statevector')\n",
      "[QClass]  seed =  332897\n",
      "[QClass]  SVM initiating algorithm\n",
      "[QClass]  Training...\n"
     ]
    },
    {
     "name": "stderr",
     "output_type": "stream",
     "text": [
      "WARNING:root:FidelityQuantumKernel skipped because of time.\n",
      "                    Using FidelityStatevectorKernel with AerStatevector.\n",
      "                    Seed cannot be set with FidelityStatevectorKernel.\n",
      "                    Increase the number of shots to diminish the noise.\n"
     ]
    },
    {
     "name": "stdout",
     "output_type": "stream",
     "text": [
      "[QClass]  Prediction finished.\n",
      "[QClass]  Initializing Quantum Classifier\n",
      "[QClass]  Quantum simulation will be performed\n",
      "GPU optimization disabled. No device found.\n",
      "[QClass]  Fitting:  (545, 6)\n",
      "[QClass]  Feature dimension =  6\n",
      "[QClass]  Quantum backend =  AerSimulator('aer_simulator_statevector')\n",
      "[QClass]  seed =  332897\n",
      "[QClass]  SVM initiating algorithm\n",
      "[QClass]  Training...\n"
     ]
    },
    {
     "name": "stderr",
     "output_type": "stream",
     "text": [
      "WARNING:root:FidelityQuantumKernel skipped because of time.\n",
      "                    Using FidelityStatevectorKernel with AerStatevector.\n",
      "                    Seed cannot be set with FidelityStatevectorKernel.\n",
      "                    Increase the number of shots to diminish the noise.\n"
     ]
    },
    {
     "name": "stdout",
     "output_type": "stream",
     "text": [
      "[QClass]  Prediction finished.\n",
      "[QClass]  Initializing Quantum Classifier\n",
      "[QClass]  Quantum simulation will be performed\n",
      "GPU optimization disabled. No device found.\n",
      "[QClass]  Fitting:  (545, 6)\n",
      "[QClass]  Feature dimension =  6\n",
      "[QClass]  Quantum backend =  AerSimulator('aer_simulator_statevector')\n",
      "[QClass]  seed =  332897\n",
      "[QClass]  SVM initiating algorithm\n",
      "[QClass]  Training...\n"
     ]
    },
    {
     "name": "stderr",
     "output_type": "stream",
     "text": [
      "WARNING:root:FidelityQuantumKernel skipped because of time.\n",
      "                    Using FidelityStatevectorKernel with AerStatevector.\n",
      "                    Seed cannot be set with FidelityStatevectorKernel.\n",
      "                    Increase the number of shots to diminish the noise.\n"
     ]
    },
    {
     "name": "stdout",
     "output_type": "stream",
     "text": [
      "[QClass]  Prediction finished.\n",
      "[QClass]  Initializing Quantum Classifier\n",
      "[QClass]  Quantum simulation will be performed\n",
      "GPU optimization disabled. No device found.\n",
      "[QClass]  Fitting:  (545, 6)\n",
      "[QClass]  Feature dimension =  6\n",
      "[QClass]  Quantum backend =  AerSimulator('aer_simulator_statevector')\n",
      "[QClass]  seed =  332897\n",
      "[QClass]  SVM initiating algorithm\n",
      "[QClass]  Training...\n"
     ]
    },
    {
     "name": "stderr",
     "output_type": "stream",
     "text": [
      "WARNING:root:FidelityQuantumKernel skipped because of time.\n",
      "                    Using FidelityStatevectorKernel with AerStatevector.\n",
      "                    Seed cannot be set with FidelityStatevectorKernel.\n",
      "                    Increase the number of shots to diminish the noise.\n"
     ]
    },
    {
     "name": "stdout",
     "output_type": "stream",
     "text": [
      "[QClass]  Prediction finished.\n",
      "[QClass]  Initializing Quantum Classifier\n",
      "[QClass]  Quantum simulation will be performed\n",
      "GPU optimization disabled. No device found.\n",
      "[QClass]  Fitting:  (544, 6)\n",
      "[QClass]  Feature dimension =  6\n",
      "[QClass]  Quantum backend =  AerSimulator('aer_simulator_statevector')\n",
      "[QClass]  seed =  332897\n",
      "[QClass]  SVM initiating algorithm\n",
      "[QClass]  Training...\n"
     ]
    },
    {
     "name": "stderr",
     "output_type": "stream",
     "text": [
      "WARNING:root:FidelityQuantumKernel skipped because of time.\n",
      "                    Using FidelityStatevectorKernel with AerStatevector.\n",
      "                    Seed cannot be set with FidelityStatevectorKernel.\n",
      "                    Increase the number of shots to diminish the noise.\n"
     ]
    },
    {
     "name": "stdout",
     "output_type": "stream",
     "text": [
      "[QClass]  Prediction finished.\n",
      "[QClass]  Initializing Quantum Classifier\n",
      "[QClass]  Quantum simulation will be performed\n",
      "GPU optimization disabled. No device found.\n",
      "[QClass]  Fitting:  (545, 6)\n",
      "[QClass]  Feature dimension =  6\n",
      "[QClass]  Quantum backend =  AerSimulator('aer_simulator_statevector')\n",
      "[QClass]  seed =  332897\n",
      "[QClass]  SVM initiating algorithm\n",
      "[QClass]  Training...\n"
     ]
    },
    {
     "name": "stderr",
     "output_type": "stream",
     "text": [
      "WARNING:root:FidelityQuantumKernel skipped because of time.\n",
      "                    Using FidelityStatevectorKernel with AerStatevector.\n",
      "                    Seed cannot be set with FidelityStatevectorKernel.\n",
      "                    Increase the number of shots to diminish the noise.\n"
     ]
    },
    {
     "name": "stdout",
     "output_type": "stream",
     "text": [
      "[QClass]  Prediction finished.\n",
      "[QClass]  Initializing Quantum Classifier\n",
      "[QClass]  Quantum simulation will be performed\n",
      "GPU optimization disabled. No device found.\n",
      "[QClass]  Fitting:  (545, 6)\n",
      "[QClass]  Feature dimension =  6\n",
      "[QClass]  Quantum backend =  AerSimulator('aer_simulator_statevector')\n",
      "[QClass]  seed =  332897\n",
      "[QClass]  SVM initiating algorithm\n",
      "[QClass]  Training...\n"
     ]
    },
    {
     "name": "stderr",
     "output_type": "stream",
     "text": [
      "WARNING:root:FidelityQuantumKernel skipped because of time.\n",
      "                    Using FidelityStatevectorKernel with AerStatevector.\n",
      "                    Seed cannot be set with FidelityStatevectorKernel.\n",
      "                    Increase the number of shots to diminish the noise.\n"
     ]
    },
    {
     "name": "stdout",
     "output_type": "stream",
     "text": [
      "[QClass]  Prediction finished.\n",
      "[QClass]  Initializing Quantum Classifier\n",
      "[QClass]  Quantum simulation will be performed\n",
      "GPU optimization disabled. No device found.\n",
      "[QClass]  Fitting:  (545, 6)\n",
      "[QClass]  Feature dimension =  6\n",
      "[QClass]  Quantum backend =  AerSimulator('aer_simulator_statevector')\n",
      "[QClass]  seed =  332897\n",
      "[QClass]  SVM initiating algorithm\n",
      "[QClass]  Training...\n"
     ]
    },
    {
     "name": "stderr",
     "output_type": "stream",
     "text": [
      "WARNING:root:FidelityQuantumKernel skipped because of time.\n",
      "                    Using FidelityStatevectorKernel with AerStatevector.\n",
      "                    Seed cannot be set with FidelityStatevectorKernel.\n",
      "                    Increase the number of shots to diminish the noise.\n"
     ]
    },
    {
     "name": "stdout",
     "output_type": "stream",
     "text": [
      "[QClass]  Prediction finished.\n",
      "[QClass]  Initializing Quantum Classifier\n",
      "[QClass]  Quantum simulation will be performed\n",
      "GPU optimization disabled. No device found.\n",
      "[QClass]  Fitting:  (545, 6)\n",
      "[QClass]  Feature dimension =  6\n",
      "[QClass]  Quantum backend =  AerSimulator('aer_simulator_statevector')\n",
      "[QClass]  seed =  332897\n",
      "[QClass]  SVM initiating algorithm\n",
      "[QClass]  Training...\n"
     ]
    },
    {
     "name": "stderr",
     "output_type": "stream",
     "text": [
      "WARNING:root:FidelityQuantumKernel skipped because of time.\n",
      "                    Using FidelityStatevectorKernel with AerStatevector.\n",
      "                    Seed cannot be set with FidelityStatevectorKernel.\n",
      "                    Increase the number of shots to diminish the noise.\n"
     ]
    },
    {
     "name": "stdout",
     "output_type": "stream",
     "text": [
      "[QClass]  Prediction finished.\n",
      "[QClass]  Initializing Quantum Classifier\n",
      "[QClass]  Quantum simulation will be performed\n",
      "GPU optimization disabled. No device found.\n",
      "[QClass]  Fitting:  (544, 6)\n",
      "[QClass]  Feature dimension =  6\n",
      "[QClass]  Quantum backend =  AerSimulator('aer_simulator_statevector')\n",
      "[QClass]  seed =  332897\n",
      "[QClass]  SVM initiating algorithm\n",
      "[QClass]  Training...\n"
     ]
    },
    {
     "name": "stderr",
     "output_type": "stream",
     "text": [
      "WARNING:root:FidelityQuantumKernel skipped because of time.\n",
      "                    Using FidelityStatevectorKernel with AerStatevector.\n",
      "                    Seed cannot be set with FidelityStatevectorKernel.\n",
      "                    Increase the number of shots to diminish the noise.\n"
     ]
    },
    {
     "name": "stdout",
     "output_type": "stream",
     "text": [
      "[QClass]  Prediction finished.\n",
      "[QClass]  Initializing Quantum Classifier\n",
      "[QClass]  Quantum simulation will be performed\n",
      "GPU optimization disabled. No device found.\n",
      "[QClass]  Fitting:  (545, 6)\n",
      "[QClass]  Feature dimension =  6\n",
      "[QClass]  Quantum backend =  AerSimulator('aer_simulator_statevector')\n",
      "[QClass]  seed =  332897\n",
      "[QClass]  SVM initiating algorithm\n",
      "[QClass]  Training...\n"
     ]
    },
    {
     "name": "stderr",
     "output_type": "stream",
     "text": [
      "WARNING:root:FidelityQuantumKernel skipped because of time.\n",
      "                    Using FidelityStatevectorKernel with AerStatevector.\n",
      "                    Seed cannot be set with FidelityStatevectorKernel.\n",
      "                    Increase the number of shots to diminish the noise.\n"
     ]
    },
    {
     "name": "stdout",
     "output_type": "stream",
     "text": [
      "[QClass]  Prediction finished.\n",
      "[QClass]  Initializing Quantum Classifier\n",
      "[QClass]  Quantum simulation will be performed\n",
      "GPU optimization disabled. No device found.\n",
      "[QClass]  Fitting:  (545, 6)\n",
      "[QClass]  Feature dimension =  6\n",
      "[QClass]  Quantum backend =  AerSimulator('aer_simulator_statevector')\n",
      "[QClass]  seed =  332897\n",
      "[QClass]  SVM initiating algorithm\n",
      "[QClass]  Training...\n"
     ]
    },
    {
     "name": "stderr",
     "output_type": "stream",
     "text": [
      "WARNING:root:FidelityQuantumKernel skipped because of time.\n",
      "                    Using FidelityStatevectorKernel with AerStatevector.\n",
      "                    Seed cannot be set with FidelityStatevectorKernel.\n",
      "                    Increase the number of shots to diminish the noise.\n"
     ]
    },
    {
     "name": "stdout",
     "output_type": "stream",
     "text": [
      "[QClass]  Prediction finished.\n",
      "[QClass]  Initializing Quantum Classifier\n",
      "[QClass]  Quantum simulation will be performed\n",
      "GPU optimization disabled. No device found.\n",
      "[QClass]  Fitting:  (545, 6)\n",
      "[QClass]  Feature dimension =  6\n",
      "[QClass]  Quantum backend =  AerSimulator('aer_simulator_statevector')\n",
      "[QClass]  seed =  332897\n",
      "[QClass]  SVM initiating algorithm\n",
      "[QClass]  Training...\n"
     ]
    },
    {
     "name": "stderr",
     "output_type": "stream",
     "text": [
      "WARNING:root:FidelityQuantumKernel skipped because of time.\n",
      "                    Using FidelityStatevectorKernel with AerStatevector.\n",
      "                    Seed cannot be set with FidelityStatevectorKernel.\n",
      "                    Increase the number of shots to diminish the noise.\n"
     ]
    },
    {
     "name": "stdout",
     "output_type": "stream",
     "text": [
      "[QClass]  Prediction finished.\n",
      "[QClass]  Initializing Quantum Classifier\n",
      "[QClass]  Quantum simulation will be performed\n",
      "GPU optimization disabled. No device found.\n",
      "[QClass]  Fitting:  (545, 6)\n",
      "[QClass]  Feature dimension =  6\n",
      "[QClass]  Quantum backend =  AerSimulator('aer_simulator_statevector')\n",
      "[QClass]  seed =  332897\n",
      "[QClass]  SVM initiating algorithm\n",
      "[QClass]  Training...\n"
     ]
    },
    {
     "name": "stderr",
     "output_type": "stream",
     "text": [
      "WARNING:root:FidelityQuantumKernel skipped because of time.\n",
      "                    Using FidelityStatevectorKernel with AerStatevector.\n",
      "                    Seed cannot be set with FidelityStatevectorKernel.\n",
      "                    Increase the number of shots to diminish the noise.\n"
     ]
    },
    {
     "name": "stdout",
     "output_type": "stream",
     "text": [
      "[QClass]  Prediction finished.\n",
      "[QClass]  Initializing Quantum Classifier\n",
      "[QClass]  Quantum simulation will be performed\n",
      "GPU optimization disabled. No device found.\n",
      "[QClass]  Fitting:  (544, 6)\n",
      "[QClass]  Feature dimension =  6\n",
      "[QClass]  Quantum backend =  AerSimulator('aer_simulator_statevector')\n",
      "[QClass]  seed =  332897\n",
      "[QClass]  SVM initiating algorithm\n",
      "[QClass]  Training...\n"
     ]
    },
    {
     "name": "stderr",
     "output_type": "stream",
     "text": [
      "WARNING:root:FidelityQuantumKernel skipped because of time.\n",
      "                    Using FidelityStatevectorKernel with AerStatevector.\n",
      "                    Seed cannot be set with FidelityStatevectorKernel.\n",
      "                    Increase the number of shots to diminish the noise.\n"
     ]
    },
    {
     "name": "stdout",
     "output_type": "stream",
     "text": [
      "[QClass]  Prediction finished.\n",
      "[QClass]  Initializing Quantum Classifier\n",
      "[QClass]  Quantum simulation will be performed\n",
      "GPU optimization disabled. No device found.\n",
      "[QClass]  Fitting:  (545, 6)\n",
      "[QClass]  Feature dimension =  6\n",
      "[QClass]  Quantum backend =  AerSimulator('aer_simulator_statevector')\n",
      "[QClass]  seed =  332897\n",
      "[QClass]  SVM initiating algorithm\n",
      "[QClass]  Training...\n"
     ]
    },
    {
     "name": "stderr",
     "output_type": "stream",
     "text": [
      "WARNING:root:FidelityQuantumKernel skipped because of time.\n",
      "                    Using FidelityStatevectorKernel with AerStatevector.\n",
      "                    Seed cannot be set with FidelityStatevectorKernel.\n",
      "                    Increase the number of shots to diminish the noise.\n"
     ]
    },
    {
     "name": "stdout",
     "output_type": "stream",
     "text": [
      "[QClass]  Prediction finished.\n",
      "[QClass]  Initializing Quantum Classifier\n",
      "[QClass]  Quantum simulation will be performed\n",
      "GPU optimization disabled. No device found.\n",
      "[QClass]  Fitting:  (545, 6)\n",
      "[QClass]  Feature dimension =  6\n",
      "[QClass]  Quantum backend =  AerSimulator('aer_simulator_statevector')\n",
      "[QClass]  seed =  332897\n",
      "[QClass]  SVM initiating algorithm\n",
      "[QClass]  Training...\n"
     ]
    },
    {
     "name": "stderr",
     "output_type": "stream",
     "text": [
      "WARNING:root:FidelityQuantumKernel skipped because of time.\n",
      "                    Using FidelityStatevectorKernel with AerStatevector.\n",
      "                    Seed cannot be set with FidelityStatevectorKernel.\n",
      "                    Increase the number of shots to diminish the noise.\n"
     ]
    },
    {
     "name": "stdout",
     "output_type": "stream",
     "text": [
      "[QClass]  Prediction finished.\n",
      "[QClass]  Initializing Quantum Classifier\n",
      "[QClass]  Quantum simulation will be performed\n",
      "GPU optimization disabled. No device found.\n",
      "[QClass]  Fitting:  (545, 6)\n",
      "[QClass]  Feature dimension =  6\n",
      "[QClass]  Quantum backend =  AerSimulator('aer_simulator_statevector')\n",
      "[QClass]  seed =  332897\n",
      "[QClass]  SVM initiating algorithm\n",
      "[QClass]  Training...\n"
     ]
    },
    {
     "name": "stderr",
     "output_type": "stream",
     "text": [
      "WARNING:root:FidelityQuantumKernel skipped because of time.\n",
      "                    Using FidelityStatevectorKernel with AerStatevector.\n",
      "                    Seed cannot be set with FidelityStatevectorKernel.\n",
      "                    Increase the number of shots to diminish the noise.\n"
     ]
    },
    {
     "name": "stdout",
     "output_type": "stream",
     "text": [
      "[QClass]  Prediction finished.\n",
      "[QClass]  Initializing Quantum Classifier\n",
      "[QClass]  Quantum simulation will be performed\n",
      "GPU optimization disabled. No device found.\n",
      "[QClass]  Fitting:  (545, 6)\n",
      "[QClass]  Feature dimension =  6\n",
      "[QClass]  Quantum backend =  AerSimulator('aer_simulator_statevector')\n",
      "[QClass]  seed =  332897\n",
      "[QClass]  SVM initiating algorithm\n",
      "[QClass]  Training...\n"
     ]
    },
    {
     "name": "stderr",
     "output_type": "stream",
     "text": [
      "WARNING:root:FidelityQuantumKernel skipped because of time.\n",
      "                    Using FidelityStatevectorKernel with AerStatevector.\n",
      "                    Seed cannot be set with FidelityStatevectorKernel.\n",
      "                    Increase the number of shots to diminish the noise.\n"
     ]
    },
    {
     "name": "stdout",
     "output_type": "stream",
     "text": [
      "[QClass]  Prediction finished.\n",
      "[QClass]  Initializing Quantum Classifier\n",
      "[QClass]  Quantum simulation will be performed\n",
      "GPU optimization disabled. No device found.\n",
      "[QClass]  Fitting:  (544, 6)\n",
      "[QClass]  Feature dimension =  6\n",
      "[QClass]  Quantum backend =  AerSimulator('aer_simulator_statevector')\n",
      "[QClass]  seed =  332897\n",
      "[QClass]  SVM initiating algorithm\n",
      "[QClass]  Training...\n"
     ]
    },
    {
     "name": "stderr",
     "output_type": "stream",
     "text": [
      "WARNING:root:FidelityQuantumKernel skipped because of time.\n",
      "                    Using FidelityStatevectorKernel with AerStatevector.\n",
      "                    Seed cannot be set with FidelityStatevectorKernel.\n",
      "                    Increase the number of shots to diminish the noise.\n"
     ]
    },
    {
     "name": "stdout",
     "output_type": "stream",
     "text": [
      "[QClass]  Prediction finished.\n",
      "[QClass]  Initializing Quantum Classifier\n",
      "[QClass]  Quantum simulation will be performed\n",
      "GPU optimization disabled. No device found.\n",
      "[QClass]  Fitting:  (545, 6)\n",
      "[QClass]  Feature dimension =  6\n",
      "[QClass]  Quantum backend =  AerSimulator('aer_simulator_statevector')\n",
      "[QClass]  seed =  332897\n",
      "[QClass]  SVM initiating algorithm\n",
      "[QClass]  Training...\n"
     ]
    },
    {
     "name": "stderr",
     "output_type": "stream",
     "text": [
      "WARNING:root:FidelityQuantumKernel skipped because of time.\n",
      "                    Using FidelityStatevectorKernel with AerStatevector.\n",
      "                    Seed cannot be set with FidelityStatevectorKernel.\n",
      "                    Increase the number of shots to diminish the noise.\n"
     ]
    },
    {
     "name": "stdout",
     "output_type": "stream",
     "text": [
      "[QClass]  Prediction finished.\n",
      "[QClass]  Initializing Quantum Classifier\n",
      "[QClass]  Quantum simulation will be performed\n",
      "GPU optimization disabled. No device found.\n",
      "[QClass]  Fitting:  (545, 6)\n",
      "[QClass]  Feature dimension =  6\n",
      "[QClass]  Quantum backend =  AerSimulator('aer_simulator_statevector')\n",
      "[QClass]  seed =  332897\n",
      "[QClass]  SVM initiating algorithm\n",
      "[QClass]  Training...\n"
     ]
    },
    {
     "name": "stderr",
     "output_type": "stream",
     "text": [
      "WARNING:root:FidelityQuantumKernel skipped because of time.\n",
      "                    Using FidelityStatevectorKernel with AerStatevector.\n",
      "                    Seed cannot be set with FidelityStatevectorKernel.\n",
      "                    Increase the number of shots to diminish the noise.\n"
     ]
    },
    {
     "name": "stdout",
     "output_type": "stream",
     "text": [
      "[QClass]  Prediction finished.\n",
      "[QClass]  Initializing Quantum Classifier\n",
      "[QClass]  Quantum simulation will be performed\n",
      "GPU optimization disabled. No device found.\n",
      "[QClass]  Fitting:  (545, 6)\n",
      "[QClass]  Feature dimension =  6\n",
      "[QClass]  Quantum backend =  AerSimulator('aer_simulator_statevector')\n",
      "[QClass]  seed =  332897\n",
      "[QClass]  SVM initiating algorithm\n",
      "[QClass]  Training...\n"
     ]
    },
    {
     "name": "stderr",
     "output_type": "stream",
     "text": [
      "WARNING:root:FidelityQuantumKernel skipped because of time.\n",
      "                    Using FidelityStatevectorKernel with AerStatevector.\n",
      "                    Seed cannot be set with FidelityStatevectorKernel.\n",
      "                    Increase the number of shots to diminish the noise.\n"
     ]
    },
    {
     "name": "stdout",
     "output_type": "stream",
     "text": [
      "[QClass]  Prediction finished.\n",
      "[QClass]  Initializing Quantum Classifier\n",
      "[QClass]  Quantum simulation will be performed\n",
      "GPU optimization disabled. No device found.\n",
      "[QClass]  Fitting:  (545, 6)\n",
      "[QClass]  Feature dimension =  6\n",
      "[QClass]  Quantum backend =  AerSimulator('aer_simulator_statevector')\n",
      "[QClass]  seed =  332897\n",
      "[QClass]  SVM initiating algorithm\n",
      "[QClass]  Training...\n"
     ]
    },
    {
     "name": "stderr",
     "output_type": "stream",
     "text": [
      "WARNING:root:FidelityQuantumKernel skipped because of time.\n",
      "                    Using FidelityStatevectorKernel with AerStatevector.\n",
      "                    Seed cannot be set with FidelityStatevectorKernel.\n",
      "                    Increase the number of shots to diminish the noise.\n"
     ]
    },
    {
     "name": "stdout",
     "output_type": "stream",
     "text": [
      "[QClass]  Prediction finished.\n",
      "[QClass]  Initializing Quantum Classifier\n",
      "[QClass]  Quantum simulation will be performed\n",
      "GPU optimization disabled. No device found.\n",
      "[QClass]  Fitting:  (544, 6)\n",
      "[QClass]  Feature dimension =  6\n",
      "[QClass]  Quantum backend =  AerSimulator('aer_simulator_statevector')\n",
      "[QClass]  seed =  332897\n",
      "[QClass]  SVM initiating algorithm\n",
      "[QClass]  Training...\n"
     ]
    },
    {
     "name": "stderr",
     "output_type": "stream",
     "text": [
      "WARNING:root:FidelityQuantumKernel skipped because of time.\n",
      "                    Using FidelityStatevectorKernel with AerStatevector.\n",
      "                    Seed cannot be set with FidelityStatevectorKernel.\n",
      "                    Increase the number of shots to diminish the noise.\n"
     ]
    },
    {
     "name": "stdout",
     "output_type": "stream",
     "text": [
      "[QClass]  Prediction finished.\n",
      "[QClass]  Initializing Quantum Classifier\n",
      "[QClass]  Quantum simulation will be performed\n",
      "GPU optimization disabled. No device found.\n",
      "[QClass]  Fitting:  (545, 6)\n",
      "[QClass]  Feature dimension =  6\n",
      "[QClass]  Quantum backend =  AerSimulator('aer_simulator_statevector')\n",
      "[QClass]  seed =  332897\n",
      "[QClass]  SVM initiating algorithm\n",
      "[QClass]  Training...\n"
     ]
    },
    {
     "name": "stderr",
     "output_type": "stream",
     "text": [
      "WARNING:root:FidelityQuantumKernel skipped because of time.\n",
      "                    Using FidelityStatevectorKernel with AerStatevector.\n",
      "                    Seed cannot be set with FidelityStatevectorKernel.\n",
      "                    Increase the number of shots to diminish the noise.\n"
     ]
    },
    {
     "name": "stdout",
     "output_type": "stream",
     "text": [
      "[QClass]  Prediction finished.\n",
      "[QClass]  Initializing Quantum Classifier\n",
      "[QClass]  Quantum simulation will be performed\n",
      "GPU optimization disabled. No device found.\n",
      "[QClass]  Fitting:  (545, 6)\n",
      "[QClass]  Feature dimension =  6\n",
      "[QClass]  Quantum backend =  AerSimulator('aer_simulator_statevector')\n",
      "[QClass]  seed =  332897\n",
      "[QClass]  SVM initiating algorithm\n",
      "[QClass]  Training...\n"
     ]
    },
    {
     "name": "stderr",
     "output_type": "stream",
     "text": [
      "WARNING:root:FidelityQuantumKernel skipped because of time.\n",
      "                    Using FidelityStatevectorKernel with AerStatevector.\n",
      "                    Seed cannot be set with FidelityStatevectorKernel.\n",
      "                    Increase the number of shots to diminish the noise.\n"
     ]
    },
    {
     "name": "stdout",
     "output_type": "stream",
     "text": [
      "[QClass]  Prediction finished.\n",
      "[QClass]  Initializing Quantum Classifier\n",
      "[QClass]  Quantum simulation will be performed\n",
      "GPU optimization disabled. No device found.\n",
      "[QClass]  Fitting:  (545, 6)\n",
      "[QClass]  Feature dimension =  6\n",
      "[QClass]  Quantum backend =  AerSimulator('aer_simulator_statevector')\n",
      "[QClass]  seed =  332897\n",
      "[QClass]  SVM initiating algorithm\n",
      "[QClass]  Training...\n"
     ]
    },
    {
     "name": "stderr",
     "output_type": "stream",
     "text": [
      "WARNING:root:FidelityQuantumKernel skipped because of time.\n",
      "                    Using FidelityStatevectorKernel with AerStatevector.\n",
      "                    Seed cannot be set with FidelityStatevectorKernel.\n",
      "                    Increase the number of shots to diminish the noise.\n"
     ]
    },
    {
     "name": "stdout",
     "output_type": "stream",
     "text": [
      "[QClass]  Prediction finished.\n",
      "[QClass]  Initializing Quantum Classifier\n",
      "[QClass]  Quantum simulation will be performed\n",
      "GPU optimization disabled. No device found.\n",
      "[QClass]  Fitting:  (545, 6)\n",
      "[QClass]  Feature dimension =  6\n",
      "[QClass]  Quantum backend =  AerSimulator('aer_simulator_statevector')\n",
      "[QClass]  seed =  332897\n",
      "[QClass]  SVM initiating algorithm\n",
      "[QClass]  Training...\n"
     ]
    },
    {
     "name": "stderr",
     "output_type": "stream",
     "text": [
      "WARNING:root:FidelityQuantumKernel skipped because of time.\n",
      "                    Using FidelityStatevectorKernel with AerStatevector.\n",
      "                    Seed cannot be set with FidelityStatevectorKernel.\n",
      "                    Increase the number of shots to diminish the noise.\n"
     ]
    },
    {
     "name": "stdout",
     "output_type": "stream",
     "text": [
      "[QClass]  Prediction finished.\n",
      "[QClass]  Initializing Quantum Classifier\n",
      "[QClass]  Quantum simulation will be performed\n",
      "GPU optimization disabled. No device found.\n",
      "[QClass]  Fitting:  (544, 6)\n",
      "[QClass]  Feature dimension =  6\n",
      "[QClass]  Quantum backend =  AerSimulator('aer_simulator_statevector')\n",
      "[QClass]  seed =  332897\n",
      "[QClass]  SVM initiating algorithm\n",
      "[QClass]  Training...\n"
     ]
    },
    {
     "name": "stderr",
     "output_type": "stream",
     "text": [
      "WARNING:root:FidelityQuantumKernel skipped because of time.\n",
      "                    Using FidelityStatevectorKernel with AerStatevector.\n",
      "                    Seed cannot be set with FidelityStatevectorKernel.\n",
      "                    Increase the number of shots to diminish the noise.\n"
     ]
    },
    {
     "name": "stdout",
     "output_type": "stream",
     "text": [
      "[QClass]  Prediction finished.\n",
      "[QClass]  Initializing Quantum Classifier\n",
      "[QClass]  Quantum simulation will be performed\n",
      "GPU optimization disabled. No device found.\n",
      "[QClass]  Fitting:  (545, 6)\n",
      "[QClass]  Feature dimension =  6\n",
      "[QClass]  Quantum backend =  AerSimulator('aer_simulator_statevector')\n",
      "[QClass]  seed =  332897\n",
      "[QClass]  SVM initiating algorithm\n",
      "[QClass]  Training...\n"
     ]
    },
    {
     "name": "stderr",
     "output_type": "stream",
     "text": [
      "WARNING:root:FidelityQuantumKernel skipped because of time.\n",
      "                    Using FidelityStatevectorKernel with AerStatevector.\n",
      "                    Seed cannot be set with FidelityStatevectorKernel.\n",
      "                    Increase the number of shots to diminish the noise.\n"
     ]
    },
    {
     "name": "stdout",
     "output_type": "stream",
     "text": [
      "[QClass]  Prediction finished.\n",
      "[QClass]  Initializing Quantum Classifier\n",
      "[QClass]  Quantum simulation will be performed\n",
      "GPU optimization disabled. No device found.\n",
      "[QClass]  Fitting:  (545, 6)\n",
      "[QClass]  Feature dimension =  6\n",
      "[QClass]  Quantum backend =  AerSimulator('aer_simulator_statevector')\n",
      "[QClass]  seed =  332897\n",
      "[QClass]  SVM initiating algorithm\n",
      "[QClass]  Training...\n"
     ]
    },
    {
     "name": "stderr",
     "output_type": "stream",
     "text": [
      "WARNING:root:FidelityQuantumKernel skipped because of time.\n",
      "                    Using FidelityStatevectorKernel with AerStatevector.\n",
      "                    Seed cannot be set with FidelityStatevectorKernel.\n",
      "                    Increase the number of shots to diminish the noise.\n"
     ]
    },
    {
     "name": "stdout",
     "output_type": "stream",
     "text": [
      "[QClass]  Prediction finished.\n",
      "[QClass]  Initializing Quantum Classifier\n",
      "[QClass]  Quantum simulation will be performed\n",
      "GPU optimization disabled. No device found.\n",
      "[QClass]  Fitting:  (545, 6)\n",
      "[QClass]  Feature dimension =  6\n",
      "[QClass]  Quantum backend =  AerSimulator('aer_simulator_statevector')\n",
      "[QClass]  seed =  332897\n",
      "[QClass]  SVM initiating algorithm\n",
      "[QClass]  Training...\n"
     ]
    },
    {
     "name": "stderr",
     "output_type": "stream",
     "text": [
      "WARNING:root:FidelityQuantumKernel skipped because of time.\n",
      "                    Using FidelityStatevectorKernel with AerStatevector.\n",
      "                    Seed cannot be set with FidelityStatevectorKernel.\n",
      "                    Increase the number of shots to diminish the noise.\n"
     ]
    },
    {
     "name": "stdout",
     "output_type": "stream",
     "text": [
      "[QClass]  Prediction finished.\n",
      "[QClass]  Initializing Quantum Classifier\n",
      "[QClass]  Quantum simulation will be performed\n",
      "GPU optimization disabled. No device found.\n",
      "[QClass]  Fitting:  (545, 6)\n",
      "[QClass]  Feature dimension =  6\n",
      "[QClass]  Quantum backend =  AerSimulator('aer_simulator_statevector')\n",
      "[QClass]  seed =  332897\n",
      "[QClass]  SVM initiating algorithm\n",
      "[QClass]  Training...\n"
     ]
    },
    {
     "name": "stderr",
     "output_type": "stream",
     "text": [
      "WARNING:root:FidelityQuantumKernel skipped because of time.\n",
      "                    Using FidelityStatevectorKernel with AerStatevector.\n",
      "                    Seed cannot be set with FidelityStatevectorKernel.\n",
      "                    Increase the number of shots to diminish the noise.\n"
     ]
    },
    {
     "name": "stdout",
     "output_type": "stream",
     "text": [
      "[QClass]  Prediction finished.\n",
      "[QClass]  Initializing Quantum Classifier\n",
      "[QClass]  Quantum simulation will be performed\n",
      "GPU optimization disabled. No device found.\n",
      "[QClass]  Fitting:  (544, 6)\n",
      "[QClass]  Feature dimension =  6\n",
      "[QClass]  Quantum backend =  AerSimulator('aer_simulator_statevector')\n",
      "[QClass]  seed =  332897\n",
      "[QClass]  SVM initiating algorithm\n",
      "[QClass]  Training...\n"
     ]
    },
    {
     "name": "stderr",
     "output_type": "stream",
     "text": [
      "WARNING:root:FidelityQuantumKernel skipped because of time.\n",
      "                    Using FidelityStatevectorKernel with AerStatevector.\n",
      "                    Seed cannot be set with FidelityStatevectorKernel.\n",
      "                    Increase the number of shots to diminish the noise.\n"
     ]
    },
    {
     "name": "stdout",
     "output_type": "stream",
     "text": [
      "[QClass]  Prediction finished.\n",
      "[QClass]  Initializing Quantum Classifier\n",
      "[QClass]  Quantum simulation will be performed\n",
      "GPU optimization disabled. No device found.\n",
      "[QClass]  Fitting:  (545, 6)\n",
      "[QClass]  Feature dimension =  6\n",
      "[QClass]  Quantum backend =  AerSimulator('aer_simulator_statevector')\n",
      "[QClass]  seed =  332897\n",
      "[QClass]  SVM initiating algorithm\n",
      "[QClass]  Training...\n"
     ]
    },
    {
     "name": "stderr",
     "output_type": "stream",
     "text": [
      "WARNING:root:FidelityQuantumKernel skipped because of time.\n",
      "                    Using FidelityStatevectorKernel with AerStatevector.\n",
      "                    Seed cannot be set with FidelityStatevectorKernel.\n",
      "                    Increase the number of shots to diminish the noise.\n"
     ]
    },
    {
     "name": "stdout",
     "output_type": "stream",
     "text": [
      "[QClass]  Prediction finished.\n",
      "[QClass]  Initializing Quantum Classifier\n",
      "[QClass]  Quantum simulation will be performed\n",
      "GPU optimization disabled. No device found.\n",
      "[QClass]  Fitting:  (545, 6)\n",
      "[QClass]  Feature dimension =  6\n",
      "[QClass]  Quantum backend =  AerSimulator('aer_simulator_statevector')\n",
      "[QClass]  seed =  332897\n",
      "[QClass]  SVM initiating algorithm\n",
      "[QClass]  Training...\n"
     ]
    },
    {
     "name": "stderr",
     "output_type": "stream",
     "text": [
      "WARNING:root:FidelityQuantumKernel skipped because of time.\n",
      "                    Using FidelityStatevectorKernel with AerStatevector.\n",
      "                    Seed cannot be set with FidelityStatevectorKernel.\n",
      "                    Increase the number of shots to diminish the noise.\n"
     ]
    },
    {
     "name": "stdout",
     "output_type": "stream",
     "text": [
      "[QClass]  Prediction finished.\n",
      "[QClass]  Initializing Quantum Classifier\n",
      "[QClass]  Quantum simulation will be performed\n",
      "GPU optimization disabled. No device found.\n",
      "[QClass]  Fitting:  (545, 6)\n",
      "[QClass]  Feature dimension =  6\n",
      "[QClass]  Quantum backend =  AerSimulator('aer_simulator_statevector')\n",
      "[QClass]  seed =  332897\n",
      "[QClass]  SVM initiating algorithm\n",
      "[QClass]  Training...\n"
     ]
    },
    {
     "name": "stderr",
     "output_type": "stream",
     "text": [
      "WARNING:root:FidelityQuantumKernel skipped because of time.\n",
      "                    Using FidelityStatevectorKernel with AerStatevector.\n",
      "                    Seed cannot be set with FidelityStatevectorKernel.\n",
      "                    Increase the number of shots to diminish the noise.\n"
     ]
    },
    {
     "name": "stdout",
     "output_type": "stream",
     "text": [
      "[QClass]  Prediction finished.\n",
      "[QClass]  Initializing Quantum Classifier\n",
      "[QClass]  Quantum simulation will be performed\n",
      "GPU optimization disabled. No device found.\n",
      "[QClass]  Fitting:  (545, 6)\n",
      "[QClass]  Feature dimension =  6\n",
      "[QClass]  Quantum backend =  AerSimulator('aer_simulator_statevector')\n",
      "[QClass]  seed =  332897\n",
      "[QClass]  SVM initiating algorithm\n",
      "[QClass]  Training...\n"
     ]
    },
    {
     "name": "stderr",
     "output_type": "stream",
     "text": [
      "WARNING:root:FidelityQuantumKernel skipped because of time.\n",
      "                    Using FidelityStatevectorKernel with AerStatevector.\n",
      "                    Seed cannot be set with FidelityStatevectorKernel.\n",
      "                    Increase the number of shots to diminish the noise.\n"
     ]
    },
    {
     "name": "stdout",
     "output_type": "stream",
     "text": [
      "[QClass]  Prediction finished.\n",
      "[QClass]  Initializing Quantum Classifier\n",
      "[QClass]  Quantum simulation will be performed\n",
      "GPU optimization disabled. No device found.\n",
      "[QClass]  Fitting:  (544, 6)\n",
      "[QClass]  Feature dimension =  6\n",
      "[QClass]  Quantum backend =  AerSimulator('aer_simulator_statevector')\n",
      "[QClass]  seed =  332897\n",
      "[QClass]  SVM initiating algorithm\n",
      "[QClass]  Training...\n"
     ]
    },
    {
     "name": "stderr",
     "output_type": "stream",
     "text": [
      "WARNING:root:FidelityQuantumKernel skipped because of time.\n",
      "                    Using FidelityStatevectorKernel with AerStatevector.\n",
      "                    Seed cannot be set with FidelityStatevectorKernel.\n",
      "                    Increase the number of shots to diminish the noise.\n"
     ]
    },
    {
     "name": "stdout",
     "output_type": "stream",
     "text": [
      "[QClass]  Prediction finished.\n",
      "[QClass]  Initializing Quantum Classifier\n",
      "[QClass]  Quantum simulation will be performed\n",
      "GPU optimization disabled. No device found.\n",
      "[QClass]  Fitting:  (545, 6)\n",
      "[QClass]  Feature dimension =  6\n",
      "[QClass]  Quantum backend =  AerSimulator('aer_simulator_statevector')\n",
      "[QClass]  seed =  332897\n",
      "[QClass]  SVM initiating algorithm\n",
      "[QClass]  Training...\n"
     ]
    },
    {
     "name": "stderr",
     "output_type": "stream",
     "text": [
      "WARNING:root:FidelityQuantumKernel skipped because of time.\n",
      "                    Using FidelityStatevectorKernel with AerStatevector.\n",
      "                    Seed cannot be set with FidelityStatevectorKernel.\n",
      "                    Increase the number of shots to diminish the noise.\n"
     ]
    },
    {
     "name": "stdout",
     "output_type": "stream",
     "text": [
      "[QClass]  Prediction finished.\n",
      "[QClass]  Initializing Quantum Classifier\n",
      "[QClass]  Quantum simulation will be performed\n",
      "GPU optimization disabled. No device found.\n",
      "[QClass]  Fitting:  (545, 6)\n",
      "[QClass]  Feature dimension =  6\n",
      "[QClass]  Quantum backend =  AerSimulator('aer_simulator_statevector')\n",
      "[QClass]  seed =  332897\n",
      "[QClass]  SVM initiating algorithm\n",
      "[QClass]  Training...\n"
     ]
    },
    {
     "name": "stderr",
     "output_type": "stream",
     "text": [
      "WARNING:root:FidelityQuantumKernel skipped because of time.\n",
      "                    Using FidelityStatevectorKernel with AerStatevector.\n",
      "                    Seed cannot be set with FidelityStatevectorKernel.\n",
      "                    Increase the number of shots to diminish the noise.\n"
     ]
    },
    {
     "name": "stdout",
     "output_type": "stream",
     "text": [
      "[QClass]  Prediction finished.\n",
      "[QClass]  Initializing Quantum Classifier\n",
      "[QClass]  Quantum simulation will be performed\n",
      "GPU optimization disabled. No device found.\n",
      "[QClass]  Fitting:  (545, 6)\n",
      "[QClass]  Feature dimension =  6\n",
      "[QClass]  Quantum backend =  AerSimulator('aer_simulator_statevector')\n",
      "[QClass]  seed =  332897\n",
      "[QClass]  SVM initiating algorithm\n",
      "[QClass]  Training...\n"
     ]
    },
    {
     "name": "stderr",
     "output_type": "stream",
     "text": [
      "WARNING:root:FidelityQuantumKernel skipped because of time.\n",
      "                    Using FidelityStatevectorKernel with AerStatevector.\n",
      "                    Seed cannot be set with FidelityStatevectorKernel.\n",
      "                    Increase the number of shots to diminish the noise.\n"
     ]
    },
    {
     "name": "stdout",
     "output_type": "stream",
     "text": [
      "[QClass]  Prediction finished.\n",
      "[QClass]  Initializing Quantum Classifier\n",
      "[QClass]  Quantum simulation will be performed\n",
      "GPU optimization disabled. No device found.\n",
      "[QClass]  Fitting:  (545, 6)\n",
      "[QClass]  Feature dimension =  6\n",
      "[QClass]  Quantum backend =  AerSimulator('aer_simulator_statevector')\n",
      "[QClass]  seed =  332897\n",
      "[QClass]  SVM initiating algorithm\n",
      "[QClass]  Training...\n"
     ]
    },
    {
     "name": "stderr",
     "output_type": "stream",
     "text": [
      "WARNING:root:FidelityQuantumKernel skipped because of time.\n",
      "                    Using FidelityStatevectorKernel with AerStatevector.\n",
      "                    Seed cannot be set with FidelityStatevectorKernel.\n",
      "                    Increase the number of shots to diminish the noise.\n"
     ]
    },
    {
     "name": "stdout",
     "output_type": "stream",
     "text": [
      "[QClass]  Prediction finished.\n",
      "[QClass]  Initializing Quantum Classifier\n",
      "[QClass]  Quantum simulation will be performed\n",
      "GPU optimization disabled. No device found.\n",
      "[QClass]  Fitting:  (544, 6)\n",
      "[QClass]  Feature dimension =  6\n",
      "[QClass]  Quantum backend =  AerSimulator('aer_simulator_statevector')\n",
      "[QClass]  seed =  332897\n",
      "[QClass]  SVM initiating algorithm\n",
      "[QClass]  Training...\n"
     ]
    },
    {
     "name": "stderr",
     "output_type": "stream",
     "text": [
      "WARNING:root:FidelityQuantumKernel skipped because of time.\n",
      "                    Using FidelityStatevectorKernel with AerStatevector.\n",
      "                    Seed cannot be set with FidelityStatevectorKernel.\n",
      "                    Increase the number of shots to diminish the noise.\n"
     ]
    },
    {
     "name": "stdout",
     "output_type": "stream",
     "text": [
      "[QClass]  Prediction finished.\n",
      "[QClass]  Initializing Quantum Classifier\n",
      "[QClass]  Quantum simulation will be performed\n",
      "GPU optimization disabled. No device found.\n",
      "[QClass]  Fitting:  (545, 6)\n",
      "[QClass]  Feature dimension =  6\n",
      "[QClass]  Quantum backend =  AerSimulator('aer_simulator_statevector')\n",
      "[QClass]  seed =  332897\n",
      "[QClass]  SVM initiating algorithm\n",
      "[QClass]  Training...\n"
     ]
    },
    {
     "name": "stderr",
     "output_type": "stream",
     "text": [
      "WARNING:root:FidelityQuantumKernel skipped because of time.\n",
      "                    Using FidelityStatevectorKernel with AerStatevector.\n",
      "                    Seed cannot be set with FidelityStatevectorKernel.\n",
      "                    Increase the number of shots to diminish the noise.\n"
     ]
    },
    {
     "name": "stdout",
     "output_type": "stream",
     "text": [
      "[QClass]  Prediction finished.\n",
      "[QClass]  Initializing Quantum Classifier\n",
      "[QClass]  Quantum simulation will be performed\n",
      "GPU optimization disabled. No device found.\n",
      "[QClass]  Fitting:  (545, 6)\n",
      "[QClass]  Feature dimension =  6\n",
      "[QClass]  Quantum backend =  AerSimulator('aer_simulator_statevector')\n",
      "[QClass]  seed =  332897\n",
      "[QClass]  SVM initiating algorithm\n",
      "[QClass]  Training...\n"
     ]
    },
    {
     "name": "stderr",
     "output_type": "stream",
     "text": [
      "WARNING:root:FidelityQuantumKernel skipped because of time.\n",
      "                    Using FidelityStatevectorKernel with AerStatevector.\n",
      "                    Seed cannot be set with FidelityStatevectorKernel.\n",
      "                    Increase the number of shots to diminish the noise.\n"
     ]
    },
    {
     "name": "stdout",
     "output_type": "stream",
     "text": [
      "[QClass]  Prediction finished.\n",
      "[QClass]  Initializing Quantum Classifier\n",
      "[QClass]  Quantum simulation will be performed\n",
      "GPU optimization disabled. No device found.\n",
      "[QClass]  Fitting:  (545, 6)\n",
      "[QClass]  Feature dimension =  6\n",
      "[QClass]  Quantum backend =  AerSimulator('aer_simulator_statevector')\n",
      "[QClass]  seed =  332897\n",
      "[QClass]  SVM initiating algorithm\n",
      "[QClass]  Training...\n"
     ]
    },
    {
     "name": "stderr",
     "output_type": "stream",
     "text": [
      "WARNING:root:FidelityQuantumKernel skipped because of time.\n",
      "                    Using FidelityStatevectorKernel with AerStatevector.\n",
      "                    Seed cannot be set with FidelityStatevectorKernel.\n",
      "                    Increase the number of shots to diminish the noise.\n"
     ]
    },
    {
     "name": "stdout",
     "output_type": "stream",
     "text": [
      "[QClass]  Prediction finished.\n",
      "[QClass]  Initializing Quantum Classifier\n",
      "[QClass]  Quantum simulation will be performed\n",
      "GPU optimization disabled. No device found.\n",
      "[QClass]  Fitting:  (545, 6)\n",
      "[QClass]  Feature dimension =  6\n",
      "[QClass]  Quantum backend =  AerSimulator('aer_simulator_statevector')\n",
      "[QClass]  seed =  332897\n",
      "[QClass]  SVM initiating algorithm\n",
      "[QClass]  Training...\n"
     ]
    },
    {
     "name": "stderr",
     "output_type": "stream",
     "text": [
      "WARNING:root:FidelityQuantumKernel skipped because of time.\n",
      "                    Using FidelityStatevectorKernel with AerStatevector.\n",
      "                    Seed cannot be set with FidelityStatevectorKernel.\n",
      "                    Increase the number of shots to diminish the noise.\n"
     ]
    },
    {
     "name": "stdout",
     "output_type": "stream",
     "text": [
      "[QClass]  Prediction finished.\n",
      "[QClass]  Initializing Quantum Classifier\n",
      "[QClass]  Quantum simulation will be performed\n",
      "GPU optimization disabled. No device found.\n",
      "[QClass]  Fitting:  (544, 6)\n",
      "[QClass]  Feature dimension =  6\n",
      "[QClass]  Quantum backend =  AerSimulator('aer_simulator_statevector')\n",
      "[QClass]  seed =  332897\n",
      "[QClass]  SVM initiating algorithm\n",
      "[QClass]  Training...\n"
     ]
    },
    {
     "name": "stderr",
     "output_type": "stream",
     "text": [
      "WARNING:root:FidelityQuantumKernel skipped because of time.\n",
      "                    Using FidelityStatevectorKernel with AerStatevector.\n",
      "                    Seed cannot be set with FidelityStatevectorKernel.\n",
      "                    Increase the number of shots to diminish the noise.\n"
     ]
    },
    {
     "name": "stdout",
     "output_type": "stream",
     "text": [
      "[QClass]  Prediction finished.\n",
      "[QClass]  Initializing Quantum Classifier\n",
      "[QClass]  Quantum simulation will be performed\n",
      "GPU optimization disabled. No device found.\n",
      "[QClass]  Fitting:  (545, 6)\n",
      "[QClass]  Feature dimension =  6\n",
      "[QClass]  Quantum backend =  AerSimulator('aer_simulator_statevector')\n",
      "[QClass]  seed =  332897\n",
      "[QClass]  SVM initiating algorithm\n",
      "[QClass]  Training...\n"
     ]
    },
    {
     "name": "stderr",
     "output_type": "stream",
     "text": [
      "WARNING:root:FidelityQuantumKernel skipped because of time.\n",
      "                    Using FidelityStatevectorKernel with AerStatevector.\n",
      "                    Seed cannot be set with FidelityStatevectorKernel.\n",
      "                    Increase the number of shots to diminish the noise.\n"
     ]
    },
    {
     "name": "stdout",
     "output_type": "stream",
     "text": [
      "[QClass]  Prediction finished.\n",
      "[QClass]  Initializing Quantum Classifier\n",
      "[QClass]  Quantum simulation will be performed\n",
      "GPU optimization disabled. No device found.\n",
      "[QClass]  Fitting:  (545, 6)\n",
      "[QClass]  Feature dimension =  6\n",
      "[QClass]  Quantum backend =  AerSimulator('aer_simulator_statevector')\n",
      "[QClass]  seed =  332897\n",
      "[QClass]  SVM initiating algorithm\n",
      "[QClass]  Training...\n"
     ]
    },
    {
     "name": "stderr",
     "output_type": "stream",
     "text": [
      "WARNING:root:FidelityQuantumKernel skipped because of time.\n",
      "                    Using FidelityStatevectorKernel with AerStatevector.\n",
      "                    Seed cannot be set with FidelityStatevectorKernel.\n",
      "                    Increase the number of shots to diminish the noise.\n"
     ]
    },
    {
     "name": "stdout",
     "output_type": "stream",
     "text": [
      "[QClass]  Prediction finished.\n",
      "[QClass]  Initializing Quantum Classifier\n",
      "[QClass]  Quantum simulation will be performed\n",
      "GPU optimization disabled. No device found.\n",
      "[QClass]  Fitting:  (545, 6)\n",
      "[QClass]  Feature dimension =  6\n",
      "[QClass]  Quantum backend =  AerSimulator('aer_simulator_statevector')\n",
      "[QClass]  seed =  332897\n",
      "[QClass]  SVM initiating algorithm\n",
      "[QClass]  Training...\n"
     ]
    },
    {
     "name": "stderr",
     "output_type": "stream",
     "text": [
      "WARNING:root:FidelityQuantumKernel skipped because of time.\n",
      "                    Using FidelityStatevectorKernel with AerStatevector.\n",
      "                    Seed cannot be set with FidelityStatevectorKernel.\n",
      "                    Increase the number of shots to diminish the noise.\n"
     ]
    },
    {
     "name": "stdout",
     "output_type": "stream",
     "text": [
      "[QClass]  Prediction finished.\n",
      "[QClass]  Initializing Quantum Classifier\n",
      "[QClass]  Quantum simulation will be performed\n",
      "GPU optimization disabled. No device found.\n",
      "[QClass]  Fitting:  (545, 6)\n",
      "[QClass]  Feature dimension =  6\n",
      "[QClass]  Quantum backend =  AerSimulator('aer_simulator_statevector')\n",
      "[QClass]  seed =  332897\n",
      "[QClass]  SVM initiating algorithm\n",
      "[QClass]  Training...\n"
     ]
    },
    {
     "name": "stderr",
     "output_type": "stream",
     "text": [
      "WARNING:root:FidelityQuantumKernel skipped because of time.\n",
      "                    Using FidelityStatevectorKernel with AerStatevector.\n",
      "                    Seed cannot be set with FidelityStatevectorKernel.\n",
      "                    Increase the number of shots to diminish the noise.\n"
     ]
    },
    {
     "name": "stdout",
     "output_type": "stream",
     "text": [
      "[QClass]  Prediction finished.\n",
      "[QClass]  Initializing Quantum Classifier\n",
      "[QClass]  Quantum simulation will be performed\n",
      "GPU optimization disabled. No device found.\n",
      "[QClass]  Fitting:  (544, 6)\n",
      "[QClass]  Feature dimension =  6\n",
      "[QClass]  Quantum backend =  AerSimulator('aer_simulator_statevector')\n",
      "[QClass]  seed =  332897\n",
      "[QClass]  SVM initiating algorithm\n",
      "[QClass]  Training...\n"
     ]
    },
    {
     "name": "stderr",
     "output_type": "stream",
     "text": [
      "WARNING:root:FidelityQuantumKernel skipped because of time.\n",
      "                    Using FidelityStatevectorKernel with AerStatevector.\n",
      "                    Seed cannot be set with FidelityStatevectorKernel.\n",
      "                    Increase the number of shots to diminish the noise.\n"
     ]
    },
    {
     "name": "stdout",
     "output_type": "stream",
     "text": [
      "[QClass]  Prediction finished.\n",
      "[QClass]  Initializing Quantum Classifier\n",
      "[QClass]  Quantum simulation will be performed\n",
      "GPU optimization disabled. No device found.\n",
      "[QClass]  Fitting:  (545, 6)\n",
      "[QClass]  Feature dimension =  6\n",
      "[QClass]  Quantum backend =  AerSimulator('aer_simulator_statevector')\n",
      "[QClass]  seed =  332897\n",
      "[QClass]  SVM initiating algorithm\n",
      "[QClass]  Training...\n"
     ]
    },
    {
     "name": "stderr",
     "output_type": "stream",
     "text": [
      "WARNING:root:FidelityQuantumKernel skipped because of time.\n",
      "                    Using FidelityStatevectorKernel with AerStatevector.\n",
      "                    Seed cannot be set with FidelityStatevectorKernel.\n",
      "                    Increase the number of shots to diminish the noise.\n"
     ]
    },
    {
     "name": "stdout",
     "output_type": "stream",
     "text": [
      "[QClass]  Prediction finished.\n",
      "[QClass]  Initializing Quantum Classifier\n",
      "[QClass]  Quantum simulation will be performed\n",
      "GPU optimization disabled. No device found.\n",
      "[QClass]  Fitting:  (545, 6)\n",
      "[QClass]  Feature dimension =  6\n",
      "[QClass]  Quantum backend =  AerSimulator('aer_simulator_statevector')\n",
      "[QClass]  seed =  332897\n",
      "[QClass]  SVM initiating algorithm\n",
      "[QClass]  Training...\n"
     ]
    },
    {
     "name": "stderr",
     "output_type": "stream",
     "text": [
      "WARNING:root:FidelityQuantumKernel skipped because of time.\n",
      "                    Using FidelityStatevectorKernel with AerStatevector.\n",
      "                    Seed cannot be set with FidelityStatevectorKernel.\n",
      "                    Increase the number of shots to diminish the noise.\n"
     ]
    },
    {
     "name": "stdout",
     "output_type": "stream",
     "text": [
      "[QClass]  Prediction finished.\n",
      "[QClass]  Initializing Quantum Classifier\n",
      "[QClass]  Quantum simulation will be performed\n",
      "GPU optimization disabled. No device found.\n",
      "[QClass]  Fitting:  (545, 6)\n",
      "[QClass]  Feature dimension =  6\n",
      "[QClass]  Quantum backend =  AerSimulator('aer_simulator_statevector')\n",
      "[QClass]  seed =  332897\n",
      "[QClass]  SVM initiating algorithm\n",
      "[QClass]  Training...\n"
     ]
    },
    {
     "name": "stderr",
     "output_type": "stream",
     "text": [
      "WARNING:root:FidelityQuantumKernel skipped because of time.\n",
      "                    Using FidelityStatevectorKernel with AerStatevector.\n",
      "                    Seed cannot be set with FidelityStatevectorKernel.\n",
      "                    Increase the number of shots to diminish the noise.\n"
     ]
    },
    {
     "name": "stdout",
     "output_type": "stream",
     "text": [
      "[QClass]  Prediction finished.\n",
      "[QClass]  Initializing Quantum Classifier\n",
      "[QClass]  Quantum simulation will be performed\n",
      "GPU optimization disabled. No device found.\n",
      "[QClass]  Fitting:  (545, 6)\n",
      "[QClass]  Feature dimension =  6\n",
      "[QClass]  Quantum backend =  AerSimulator('aer_simulator_statevector')\n",
      "[QClass]  seed =  332897\n",
      "[QClass]  SVM initiating algorithm\n",
      "[QClass]  Training...\n"
     ]
    },
    {
     "name": "stderr",
     "output_type": "stream",
     "text": [
      "WARNING:root:FidelityQuantumKernel skipped because of time.\n",
      "                    Using FidelityStatevectorKernel with AerStatevector.\n",
      "                    Seed cannot be set with FidelityStatevectorKernel.\n",
      "                    Increase the number of shots to diminish the noise.\n"
     ]
    },
    {
     "name": "stdout",
     "output_type": "stream",
     "text": [
      "[QClass]  Prediction finished.\n",
      "[QClass]  Initializing Quantum Classifier\n",
      "[QClass]  Quantum simulation will be performed\n",
      "GPU optimization disabled. No device found.\n",
      "[QClass]  Fitting:  (544, 6)\n",
      "[QClass]  Feature dimension =  6\n",
      "[QClass]  Quantum backend =  AerSimulator('aer_simulator_statevector')\n",
      "[QClass]  seed =  332897\n",
      "[QClass]  SVM initiating algorithm\n",
      "[QClass]  Training...\n"
     ]
    },
    {
     "name": "stderr",
     "output_type": "stream",
     "text": [
      "WARNING:root:FidelityQuantumKernel skipped because of time.\n",
      "                    Using FidelityStatevectorKernel with AerStatevector.\n",
      "                    Seed cannot be set with FidelityStatevectorKernel.\n",
      "                    Increase the number of shots to diminish the noise.\n"
     ]
    },
    {
     "name": "stdout",
     "output_type": "stream",
     "text": [
      "[QClass]  Prediction finished.\n",
      "[QClass]  Initializing Quantum Classifier\n",
      "[QClass]  Quantum simulation will be performed\n",
      "GPU optimization disabled. No device found.\n",
      "[QClass]  Fitting:  (545, 6)\n",
      "[QClass]  Feature dimension =  6\n",
      "[QClass]  Quantum backend =  AerSimulator('aer_simulator_statevector')\n",
      "[QClass]  seed =  332897\n",
      "[QClass]  SVM initiating algorithm\n",
      "[QClass]  Training...\n"
     ]
    },
    {
     "name": "stderr",
     "output_type": "stream",
     "text": [
      "WARNING:root:FidelityQuantumKernel skipped because of time.\n",
      "                    Using FidelityStatevectorKernel with AerStatevector.\n",
      "                    Seed cannot be set with FidelityStatevectorKernel.\n",
      "                    Increase the number of shots to diminish the noise.\n"
     ]
    },
    {
     "name": "stdout",
     "output_type": "stream",
     "text": [
      "[QClass]  Prediction finished.\n",
      "[QClass]  Initializing Quantum Classifier\n",
      "[QClass]  Quantum simulation will be performed\n",
      "GPU optimization disabled. No device found.\n",
      "[QClass]  Fitting:  (545, 6)\n",
      "[QClass]  Feature dimension =  6\n",
      "[QClass]  Quantum backend =  AerSimulator('aer_simulator_statevector')\n",
      "[QClass]  seed =  332897\n",
      "[QClass]  SVM initiating algorithm\n",
      "[QClass]  Training...\n"
     ]
    },
    {
     "name": "stderr",
     "output_type": "stream",
     "text": [
      "WARNING:root:FidelityQuantumKernel skipped because of time.\n",
      "                    Using FidelityStatevectorKernel with AerStatevector.\n",
      "                    Seed cannot be set with FidelityStatevectorKernel.\n",
      "                    Increase the number of shots to diminish the noise.\n"
     ]
    },
    {
     "name": "stdout",
     "output_type": "stream",
     "text": [
      "[QClass]  Prediction finished.\n",
      "[QClass]  Initializing Quantum Classifier\n",
      "[QClass]  Quantum simulation will be performed\n",
      "GPU optimization disabled. No device found.\n",
      "[QClass]  Fitting:  (545, 6)\n",
      "[QClass]  Feature dimension =  6\n",
      "[QClass]  Quantum backend =  AerSimulator('aer_simulator_statevector')\n",
      "[QClass]  seed =  332897\n",
      "[QClass]  SVM initiating algorithm\n",
      "[QClass]  Training...\n"
     ]
    },
    {
     "name": "stderr",
     "output_type": "stream",
     "text": [
      "WARNING:root:FidelityQuantumKernel skipped because of time.\n",
      "                    Using FidelityStatevectorKernel with AerStatevector.\n",
      "                    Seed cannot be set with FidelityStatevectorKernel.\n",
      "                    Increase the number of shots to diminish the noise.\n"
     ]
    },
    {
     "name": "stdout",
     "output_type": "stream",
     "text": [
      "[QClass]  Prediction finished.\n",
      "[QClass]  Initializing Quantum Classifier\n",
      "[QClass]  Quantum simulation will be performed\n",
      "GPU optimization disabled. No device found.\n",
      "[QClass]  Fitting:  (545, 6)\n",
      "[QClass]  Feature dimension =  6\n",
      "[QClass]  Quantum backend =  AerSimulator('aer_simulator_statevector')\n",
      "[QClass]  seed =  332897\n",
      "[QClass]  SVM initiating algorithm\n",
      "[QClass]  Training...\n"
     ]
    },
    {
     "name": "stderr",
     "output_type": "stream",
     "text": [
      "WARNING:root:FidelityQuantumKernel skipped because of time.\n",
      "                    Using FidelityStatevectorKernel with AerStatevector.\n",
      "                    Seed cannot be set with FidelityStatevectorKernel.\n",
      "                    Increase the number of shots to diminish the noise.\n"
     ]
    },
    {
     "name": "stdout",
     "output_type": "stream",
     "text": [
      "[QClass]  Prediction finished.\n",
      "[QClass]  Initializing Quantum Classifier\n",
      "[QClass]  Quantum simulation will be performed\n",
      "GPU optimization disabled. No device found.\n",
      "[QClass]  Fitting:  (544, 6)\n",
      "[QClass]  Feature dimension =  6\n",
      "[QClass]  Quantum backend =  AerSimulator('aer_simulator_statevector')\n",
      "[QClass]  seed =  332897\n",
      "[QClass]  SVM initiating algorithm\n",
      "[QClass]  Training...\n"
     ]
    },
    {
     "name": "stderr",
     "output_type": "stream",
     "text": [
      "WARNING:root:FidelityQuantumKernel skipped because of time.\n",
      "                    Using FidelityStatevectorKernel with AerStatevector.\n",
      "                    Seed cannot be set with FidelityStatevectorKernel.\n",
      "                    Increase the number of shots to diminish the noise.\n"
     ]
    },
    {
     "name": "stdout",
     "output_type": "stream",
     "text": [
      "[QClass]  Prediction finished.\n",
      "[QClass]  Initializing Quantum Classifier\n",
      "[QClass]  Quantum simulation will be performed\n",
      "GPU optimization disabled. No device found.\n",
      "[QClass]  Fitting:  (545, 6)\n",
      "[QClass]  Feature dimension =  6\n",
      "[QClass]  Quantum backend =  AerSimulator('aer_simulator_statevector')\n",
      "[QClass]  seed =  332897\n",
      "[QClass]  SVM initiating algorithm\n",
      "[QClass]  Training...\n"
     ]
    },
    {
     "name": "stderr",
     "output_type": "stream",
     "text": [
      "WARNING:root:FidelityQuantumKernel skipped because of time.\n",
      "                    Using FidelityStatevectorKernel with AerStatevector.\n",
      "                    Seed cannot be set with FidelityStatevectorKernel.\n",
      "                    Increase the number of shots to diminish the noise.\n"
     ]
    },
    {
     "name": "stdout",
     "output_type": "stream",
     "text": [
      "[QClass]  Prediction finished.\n",
      "[QClass]  Initializing Quantum Classifier\n",
      "[QClass]  Quantum simulation will be performed\n",
      "GPU optimization disabled. No device found.\n",
      "[QClass]  Fitting:  (545, 6)\n",
      "[QClass]  Feature dimension =  6\n",
      "[QClass]  Quantum backend =  AerSimulator('aer_simulator_statevector')\n",
      "[QClass]  seed =  332897\n",
      "[QClass]  SVM initiating algorithm\n",
      "[QClass]  Training...\n"
     ]
    },
    {
     "name": "stderr",
     "output_type": "stream",
     "text": [
      "WARNING:root:FidelityQuantumKernel skipped because of time.\n",
      "                    Using FidelityStatevectorKernel with AerStatevector.\n",
      "                    Seed cannot be set with FidelityStatevectorKernel.\n",
      "                    Increase the number of shots to diminish the noise.\n"
     ]
    },
    {
     "name": "stdout",
     "output_type": "stream",
     "text": [
      "[QClass]  Prediction finished.\n",
      "[QClass]  Initializing Quantum Classifier\n",
      "[QClass]  Quantum simulation will be performed\n",
      "GPU optimization disabled. No device found.\n",
      "[QClass]  Fitting:  (545, 6)\n",
      "[QClass]  Feature dimension =  6\n",
      "[QClass]  Quantum backend =  AerSimulator('aer_simulator_statevector')\n",
      "[QClass]  seed =  332897\n",
      "[QClass]  SVM initiating algorithm\n",
      "[QClass]  Training...\n"
     ]
    },
    {
     "name": "stderr",
     "output_type": "stream",
     "text": [
      "WARNING:root:FidelityQuantumKernel skipped because of time.\n",
      "                    Using FidelityStatevectorKernel with AerStatevector.\n",
      "                    Seed cannot be set with FidelityStatevectorKernel.\n",
      "                    Increase the number of shots to diminish the noise.\n"
     ]
    },
    {
     "name": "stdout",
     "output_type": "stream",
     "text": [
      "[QClass]  Prediction finished.\n",
      "[QClass]  Initializing Quantum Classifier\n",
      "[QClass]  Quantum simulation will be performed\n",
      "GPU optimization disabled. No device found.\n",
      "[QClass]  Fitting:  (545, 6)\n",
      "[QClass]  Feature dimension =  6\n",
      "[QClass]  Quantum backend =  AerSimulator('aer_simulator_statevector')\n",
      "[QClass]  seed =  332897\n",
      "[QClass]  SVM initiating algorithm\n",
      "[QClass]  Training...\n"
     ]
    },
    {
     "name": "stderr",
     "output_type": "stream",
     "text": [
      "WARNING:root:FidelityQuantumKernel skipped because of time.\n",
      "                    Using FidelityStatevectorKernel with AerStatevector.\n",
      "                    Seed cannot be set with FidelityStatevectorKernel.\n",
      "                    Increase the number of shots to diminish the noise.\n"
     ]
    },
    {
     "name": "stdout",
     "output_type": "stream",
     "text": [
      "[QClass]  Prediction finished.\n",
      "[QClass]  Initializing Quantum Classifier\n",
      "[QClass]  Quantum simulation will be performed\n",
      "GPU optimization disabled. No device found.\n",
      "[QClass]  Fitting:  (544, 6)\n",
      "[QClass]  Feature dimension =  6\n",
      "[QClass]  Quantum backend =  AerSimulator('aer_simulator_statevector')\n",
      "[QClass]  seed =  332897\n",
      "[QClass]  SVM initiating algorithm\n",
      "[QClass]  Training...\n"
     ]
    },
    {
     "name": "stderr",
     "output_type": "stream",
     "text": [
      "WARNING:root:FidelityQuantumKernel skipped because of time.\n",
      "                    Using FidelityStatevectorKernel with AerStatevector.\n",
      "                    Seed cannot be set with FidelityStatevectorKernel.\n",
      "                    Increase the number of shots to diminish the noise.\n"
     ]
    },
    {
     "name": "stdout",
     "output_type": "stream",
     "text": [
      "[QClass]  Prediction finished.\n",
      "[QClass]  Initializing Quantum Classifier\n",
      "[QClass]  Quantum simulation will be performed\n",
      "GPU optimization disabled. No device found.\n",
      "[QClass]  Fitting:  (545, 6)\n",
      "[QClass]  Feature dimension =  6\n",
      "[QClass]  Quantum backend =  AerSimulator('aer_simulator_statevector')\n",
      "[QClass]  seed =  332897\n",
      "[QClass]  SVM initiating algorithm\n",
      "[QClass]  Training...\n"
     ]
    },
    {
     "name": "stderr",
     "output_type": "stream",
     "text": [
      "WARNING:root:FidelityQuantumKernel skipped because of time.\n",
      "                    Using FidelityStatevectorKernel with AerStatevector.\n",
      "                    Seed cannot be set with FidelityStatevectorKernel.\n",
      "                    Increase the number of shots to diminish the noise.\n"
     ]
    },
    {
     "name": "stdout",
     "output_type": "stream",
     "text": [
      "[QClass]  Prediction finished.\n",
      "[QClass]  Initializing Quantum Classifier\n",
      "[QClass]  Quantum simulation will be performed\n",
      "GPU optimization disabled. No device found.\n",
      "[QClass]  Fitting:  (545, 6)\n",
      "[QClass]  Feature dimension =  6\n",
      "[QClass]  Quantum backend =  AerSimulator('aer_simulator_statevector')\n",
      "[QClass]  seed =  332897\n",
      "[QClass]  SVM initiating algorithm\n",
      "[QClass]  Training...\n"
     ]
    },
    {
     "name": "stderr",
     "output_type": "stream",
     "text": [
      "WARNING:root:FidelityQuantumKernel skipped because of time.\n",
      "                    Using FidelityStatevectorKernel with AerStatevector.\n",
      "                    Seed cannot be set with FidelityStatevectorKernel.\n",
      "                    Increase the number of shots to diminish the noise.\n"
     ]
    },
    {
     "name": "stdout",
     "output_type": "stream",
     "text": [
      "[QClass]  Prediction finished.\n",
      "[QClass]  Initializing Quantum Classifier\n",
      "[QClass]  Quantum simulation will be performed\n",
      "GPU optimization disabled. No device found.\n",
      "[QClass]  Fitting:  (545, 6)\n",
      "[QClass]  Feature dimension =  6\n",
      "[QClass]  Quantum backend =  AerSimulator('aer_simulator_statevector')\n",
      "[QClass]  seed =  332897\n",
      "[QClass]  SVM initiating algorithm\n",
      "[QClass]  Training...\n"
     ]
    },
    {
     "name": "stderr",
     "output_type": "stream",
     "text": [
      "WARNING:root:FidelityQuantumKernel skipped because of time.\n",
      "                    Using FidelityStatevectorKernel with AerStatevector.\n",
      "                    Seed cannot be set with FidelityStatevectorKernel.\n",
      "                    Increase the number of shots to diminish the noise.\n"
     ]
    },
    {
     "name": "stdout",
     "output_type": "stream",
     "text": [
      "[QClass]  Prediction finished.\n",
      "[QClass]  Initializing Quantum Classifier\n",
      "[QClass]  Quantum simulation will be performed\n",
      "GPU optimization disabled. No device found.\n",
      "[QClass]  Fitting:  (545, 6)\n",
      "[QClass]  Feature dimension =  6\n",
      "[QClass]  Quantum backend =  AerSimulator('aer_simulator_statevector')\n",
      "[QClass]  seed =  332897\n",
      "[QClass]  SVM initiating algorithm\n",
      "[QClass]  Training...\n"
     ]
    },
    {
     "name": "stderr",
     "output_type": "stream",
     "text": [
      "WARNING:root:FidelityQuantumKernel skipped because of time.\n",
      "                    Using FidelityStatevectorKernel with AerStatevector.\n",
      "                    Seed cannot be set with FidelityStatevectorKernel.\n",
      "                    Increase the number of shots to diminish the noise.\n"
     ]
    },
    {
     "name": "stdout",
     "output_type": "stream",
     "text": [
      "[QClass]  Prediction finished.\n",
      "[QClass]  Initializing Quantum Classifier\n",
      "[QClass]  Quantum simulation will be performed\n",
      "GPU optimization disabled. No device found.\n",
      "[QClass]  Fitting:  (544, 6)\n",
      "[QClass]  Feature dimension =  6\n",
      "[QClass]  Quantum backend =  AerSimulator('aer_simulator_statevector')\n",
      "[QClass]  seed =  332897\n",
      "[QClass]  SVM initiating algorithm\n",
      "[QClass]  Training...\n"
     ]
    },
    {
     "name": "stderr",
     "output_type": "stream",
     "text": [
      "WARNING:root:FidelityQuantumKernel skipped because of time.\n",
      "                    Using FidelityStatevectorKernel with AerStatevector.\n",
      "                    Seed cannot be set with FidelityStatevectorKernel.\n",
      "                    Increase the number of shots to diminish the noise.\n"
     ]
    },
    {
     "name": "stdout",
     "output_type": "stream",
     "text": [
      "[QClass]  Prediction finished.\n",
      "[QClass]  Initializing Quantum Classifier\n",
      "[QClass]  Quantum simulation will be performed\n",
      "GPU optimization disabled. No device found.\n",
      "[QClass]  Fitting:  (545, 6)\n",
      "[QClass]  Feature dimension =  6\n",
      "[QClass]  Quantum backend =  AerSimulator('aer_simulator_statevector')\n",
      "[QClass]  seed =  332897\n",
      "[QClass]  SVM initiating algorithm\n",
      "[QClass]  Training...\n"
     ]
    },
    {
     "name": "stderr",
     "output_type": "stream",
     "text": [
      "WARNING:root:FidelityQuantumKernel skipped because of time.\n",
      "                    Using FidelityStatevectorKernel with AerStatevector.\n",
      "                    Seed cannot be set with FidelityStatevectorKernel.\n",
      "                    Increase the number of shots to diminish the noise.\n"
     ]
    },
    {
     "name": "stdout",
     "output_type": "stream",
     "text": [
      "[QClass]  Prediction finished.\n",
      "[QClass]  Initializing Quantum Classifier\n",
      "[QClass]  Quantum simulation will be performed\n",
      "GPU optimization disabled. No device found.\n",
      "[QClass]  Fitting:  (545, 6)\n",
      "[QClass]  Feature dimension =  6\n",
      "[QClass]  Quantum backend =  AerSimulator('aer_simulator_statevector')\n",
      "[QClass]  seed =  332897\n",
      "[QClass]  SVM initiating algorithm\n",
      "[QClass]  Training...\n"
     ]
    },
    {
     "name": "stderr",
     "output_type": "stream",
     "text": [
      "WARNING:root:FidelityQuantumKernel skipped because of time.\n",
      "                    Using FidelityStatevectorKernel with AerStatevector.\n",
      "                    Seed cannot be set with FidelityStatevectorKernel.\n",
      "                    Increase the number of shots to diminish the noise.\n"
     ]
    },
    {
     "name": "stdout",
     "output_type": "stream",
     "text": [
      "[QClass]  Prediction finished.\n",
      "[QClass]  Initializing Quantum Classifier\n",
      "[QClass]  Quantum simulation will be performed\n",
      "GPU optimization disabled. No device found.\n",
      "[QClass]  Fitting:  (545, 6)\n",
      "[QClass]  Feature dimension =  6\n",
      "[QClass]  Quantum backend =  AerSimulator('aer_simulator_statevector')\n",
      "[QClass]  seed =  332897\n",
      "[QClass]  SVM initiating algorithm\n",
      "[QClass]  Training...\n"
     ]
    },
    {
     "name": "stderr",
     "output_type": "stream",
     "text": [
      "WARNING:root:FidelityQuantumKernel skipped because of time.\n",
      "                    Using FidelityStatevectorKernel with AerStatevector.\n",
      "                    Seed cannot be set with FidelityStatevectorKernel.\n",
      "                    Increase the number of shots to diminish the noise.\n"
     ]
    },
    {
     "name": "stdout",
     "output_type": "stream",
     "text": [
      "[QClass]  Prediction finished.\n",
      "[QClass]  Initializing Quantum Classifier\n",
      "[QClass]  Quantum simulation will be performed\n",
      "GPU optimization disabled. No device found.\n",
      "[QClass]  Fitting:  (545, 6)\n",
      "[QClass]  Feature dimension =  6\n",
      "[QClass]  Quantum backend =  AerSimulator('aer_simulator_statevector')\n",
      "[QClass]  seed =  332897\n",
      "[QClass]  SVM initiating algorithm\n",
      "[QClass]  Training...\n"
     ]
    },
    {
     "name": "stderr",
     "output_type": "stream",
     "text": [
      "WARNING:root:FidelityQuantumKernel skipped because of time.\n",
      "                    Using FidelityStatevectorKernel with AerStatevector.\n",
      "                    Seed cannot be set with FidelityStatevectorKernel.\n",
      "                    Increase the number of shots to diminish the noise.\n"
     ]
    },
    {
     "name": "stdout",
     "output_type": "stream",
     "text": [
      "[QClass]  Prediction finished.\n",
      "[QClass]  Initializing Quantum Classifier\n",
      "[QClass]  Quantum simulation will be performed\n",
      "GPU optimization disabled. No device found.\n",
      "[QClass]  Fitting:  (544, 6)\n",
      "[QClass]  Feature dimension =  6\n",
      "[QClass]  Quantum backend =  AerSimulator('aer_simulator_statevector')\n",
      "[QClass]  seed =  332897\n",
      "[QClass]  SVM initiating algorithm\n",
      "[QClass]  Training...\n"
     ]
    },
    {
     "name": "stderr",
     "output_type": "stream",
     "text": [
      "WARNING:root:FidelityQuantumKernel skipped because of time.\n",
      "                    Using FidelityStatevectorKernel with AerStatevector.\n",
      "                    Seed cannot be set with FidelityStatevectorKernel.\n",
      "                    Increase the number of shots to diminish the noise.\n"
     ]
    },
    {
     "name": "stdout",
     "output_type": "stream",
     "text": [
      "[QClass]  Prediction finished.\n",
      "[QClass]  Initializing Quantum Classifier\n",
      "[QClass]  Quantum simulation will be performed\n",
      "GPU optimization disabled. No device found.\n",
      "[QClass]  Fitting:  (545, 6)\n",
      "[QClass]  Feature dimension =  6\n",
      "[QClass]  Quantum backend =  AerSimulator('aer_simulator_statevector')\n",
      "[QClass]  seed =  332897\n",
      "[QClass]  SVM initiating algorithm\n",
      "[QClass]  Training...\n"
     ]
    },
    {
     "name": "stderr",
     "output_type": "stream",
     "text": [
      "WARNING:root:FidelityQuantumKernel skipped because of time.\n",
      "                    Using FidelityStatevectorKernel with AerStatevector.\n",
      "                    Seed cannot be set with FidelityStatevectorKernel.\n",
      "                    Increase the number of shots to diminish the noise.\n"
     ]
    },
    {
     "name": "stdout",
     "output_type": "stream",
     "text": [
      "[QClass]  Prediction finished.\n",
      "[QClass]  Initializing Quantum Classifier\n",
      "[QClass]  Quantum simulation will be performed\n",
      "GPU optimization disabled. No device found.\n",
      "[QClass]  Fitting:  (545, 6)\n",
      "[QClass]  Feature dimension =  6\n",
      "[QClass]  Quantum backend =  AerSimulator('aer_simulator_statevector')\n",
      "[QClass]  seed =  332897\n",
      "[QClass]  SVM initiating algorithm\n",
      "[QClass]  Training...\n"
     ]
    },
    {
     "name": "stderr",
     "output_type": "stream",
     "text": [
      "WARNING:root:FidelityQuantumKernel skipped because of time.\n",
      "                    Using FidelityStatevectorKernel with AerStatevector.\n",
      "                    Seed cannot be set with FidelityStatevectorKernel.\n",
      "                    Increase the number of shots to diminish the noise.\n"
     ]
    },
    {
     "name": "stdout",
     "output_type": "stream",
     "text": [
      "[QClass]  Prediction finished.\n",
      "[QClass]  Initializing Quantum Classifier\n",
      "[QClass]  Quantum simulation will be performed\n",
      "GPU optimization disabled. No device found.\n",
      "[QClass]  Fitting:  (545, 6)\n",
      "[QClass]  Feature dimension =  6\n",
      "[QClass]  Quantum backend =  AerSimulator('aer_simulator_statevector')\n",
      "[QClass]  seed =  332897\n",
      "[QClass]  SVM initiating algorithm\n",
      "[QClass]  Training...\n"
     ]
    },
    {
     "name": "stderr",
     "output_type": "stream",
     "text": [
      "WARNING:root:FidelityQuantumKernel skipped because of time.\n",
      "                    Using FidelityStatevectorKernel with AerStatevector.\n",
      "                    Seed cannot be set with FidelityStatevectorKernel.\n",
      "                    Increase the number of shots to diminish the noise.\n"
     ]
    },
    {
     "name": "stdout",
     "output_type": "stream",
     "text": [
      "[QClass]  Prediction finished.\n",
      "[QClass]  Initializing Quantum Classifier\n",
      "[QClass]  Quantum simulation will be performed\n",
      "GPU optimization disabled. No device found.\n",
      "[QClass]  Fitting:  (545, 6)\n",
      "[QClass]  Feature dimension =  6\n",
      "[QClass]  Quantum backend =  AerSimulator('aer_simulator_statevector')\n",
      "[QClass]  seed =  332897\n",
      "[QClass]  SVM initiating algorithm\n",
      "[QClass]  Training...\n"
     ]
    },
    {
     "name": "stderr",
     "output_type": "stream",
     "text": [
      "WARNING:root:FidelityQuantumKernel skipped because of time.\n",
      "                    Using FidelityStatevectorKernel with AerStatevector.\n",
      "                    Seed cannot be set with FidelityStatevectorKernel.\n",
      "                    Increase the number of shots to diminish the noise.\n"
     ]
    },
    {
     "name": "stdout",
     "output_type": "stream",
     "text": [
      "[QClass]  Prediction finished.\n",
      "[QClass]  Initializing Quantum Classifier\n",
      "[QClass]  Quantum simulation will be performed\n",
      "GPU optimization disabled. No device found.\n",
      "[QClass]  Fitting:  (544, 6)\n",
      "[QClass]  Feature dimension =  6\n",
      "[QClass]  Quantum backend =  AerSimulator('aer_simulator_statevector')\n",
      "[QClass]  seed =  332897\n",
      "[QClass]  SVM initiating algorithm\n",
      "[QClass]  Training...\n"
     ]
    },
    {
     "name": "stderr",
     "output_type": "stream",
     "text": [
      "WARNING:root:FidelityQuantumKernel skipped because of time.\n",
      "                    Using FidelityStatevectorKernel with AerStatevector.\n",
      "                    Seed cannot be set with FidelityStatevectorKernel.\n",
      "                    Increase the number of shots to diminish the noise.\n"
     ]
    },
    {
     "name": "stdout",
     "output_type": "stream",
     "text": [
      "[QClass]  Prediction finished.\n",
      "[QClass]  Initializing Quantum Classifier\n",
      "[QClass]  Quantum simulation will be performed\n",
      "GPU optimization disabled. No device found.\n",
      "[QClass]  Fitting:  (545, 6)\n",
      "[QClass]  Feature dimension =  6\n",
      "[QClass]  Quantum backend =  AerSimulator('aer_simulator_statevector')\n",
      "[QClass]  seed =  332897\n",
      "[QClass]  SVM initiating algorithm\n",
      "[QClass]  Training...\n"
     ]
    },
    {
     "name": "stderr",
     "output_type": "stream",
     "text": [
      "WARNING:root:FidelityQuantumKernel skipped because of time.\n",
      "                    Using FidelityStatevectorKernel with AerStatevector.\n",
      "                    Seed cannot be set with FidelityStatevectorKernel.\n",
      "                    Increase the number of shots to diminish the noise.\n"
     ]
    },
    {
     "name": "stdout",
     "output_type": "stream",
     "text": [
      "[QClass]  Prediction finished.\n",
      "[QClass]  Initializing Quantum Classifier\n",
      "[QClass]  Quantum simulation will be performed\n",
      "GPU optimization disabled. No device found.\n",
      "[QClass]  Fitting:  (545, 6)\n",
      "[QClass]  Feature dimension =  6\n",
      "[QClass]  Quantum backend =  AerSimulator('aer_simulator_statevector')\n",
      "[QClass]  seed =  332897\n",
      "[QClass]  SVM initiating algorithm\n",
      "[QClass]  Training...\n"
     ]
    },
    {
     "name": "stderr",
     "output_type": "stream",
     "text": [
      "WARNING:root:FidelityQuantumKernel skipped because of time.\n",
      "                    Using FidelityStatevectorKernel with AerStatevector.\n",
      "                    Seed cannot be set with FidelityStatevectorKernel.\n",
      "                    Increase the number of shots to diminish the noise.\n"
     ]
    },
    {
     "name": "stdout",
     "output_type": "stream",
     "text": [
      "[QClass]  Prediction finished.\n",
      "[QClass]  Initializing Quantum Classifier\n",
      "[QClass]  Quantum simulation will be performed\n",
      "GPU optimization disabled. No device found.\n",
      "[QClass]  Fitting:  (545, 6)\n",
      "[QClass]  Feature dimension =  6\n",
      "[QClass]  Quantum backend =  AerSimulator('aer_simulator_statevector')\n",
      "[QClass]  seed =  332897\n",
      "[QClass]  SVM initiating algorithm\n",
      "[QClass]  Training...\n"
     ]
    },
    {
     "name": "stderr",
     "output_type": "stream",
     "text": [
      "WARNING:root:FidelityQuantumKernel skipped because of time.\n",
      "                    Using FidelityStatevectorKernel with AerStatevector.\n",
      "                    Seed cannot be set with FidelityStatevectorKernel.\n",
      "                    Increase the number of shots to diminish the noise.\n"
     ]
    },
    {
     "name": "stdout",
     "output_type": "stream",
     "text": [
      "[QClass]  Prediction finished.\n",
      "[QClass]  Initializing Quantum Classifier\n",
      "[QClass]  Quantum simulation will be performed\n",
      "GPU optimization disabled. No device found.\n",
      "[QClass]  Fitting:  (545, 6)\n",
      "[QClass]  Feature dimension =  6\n",
      "[QClass]  Quantum backend =  AerSimulator('aer_simulator_statevector')\n",
      "[QClass]  seed =  332897\n",
      "[QClass]  SVM initiating algorithm\n",
      "[QClass]  Training...\n"
     ]
    },
    {
     "name": "stderr",
     "output_type": "stream",
     "text": [
      "WARNING:root:FidelityQuantumKernel skipped because of time.\n",
      "                    Using FidelityStatevectorKernel with AerStatevector.\n",
      "                    Seed cannot be set with FidelityStatevectorKernel.\n",
      "                    Increase the number of shots to diminish the noise.\n"
     ]
    },
    {
     "name": "stdout",
     "output_type": "stream",
     "text": [
      "[QClass]  Prediction finished.\n",
      "[QClass]  Initializing Quantum Classifier\n",
      "[QClass]  Quantum simulation will be performed\n",
      "GPU optimization disabled. No device found.\n",
      "[QClass]  Fitting:  (681, 6)\n",
      "[QClass]  Feature dimension =  6\n",
      "[QClass]  Quantum backend =  AerSimulator('aer_simulator_statevector')\n",
      "[QClass]  seed =  332897\n",
      "[QClass]  SVM initiating algorithm\n",
      "[QClass]  Training...\n",
      "{'csp__nfilter': 3, 'quanticsvm__C': 0.1, 'quanticsvm__gamma': 'auto', 'quanticsvm__gen_feature_map': <function gen_x_feature_map.<locals>.<lambda> at 0x74ee35231870>, 'tangentspace__metric': 'riemann'}\n",
      "best score 0.9986111111111111\n",
      "[QClass]  Prediction finished.\n",
      "validation score 1.0\n"
     ]
    }
   ],
   "source": [
    "# Score with gridsearch\n",
    "# Leave 20 percent out, to avoid biases in the choice of the hyperparameter\n",
    "# (how well this tuned pipeline is doing with new data?)\n",
    "X_train, X_test, y_train, y_test = train_test_split(X, y, stratify=y, test_size=0.1)\n",
    "params = {\n",
    "    \"quanticsvm__C\": [0.1, 1, 10],\n",
    "    \"quanticsvm__gamma\": [\"auto\", \"scale\"],\n",
    "    \"quanticsvm__gen_feature_map\": [gen_z_feature_map(), gen_x_feature_map(reps=2), gen_x_feature_map(reps=1), gen_x_feature_map(reps=3)],\n",
    "    \"tangentspace__metric\": [\"riemann\", \"logeuclid\"],\n",
    "    # \"pca_spd__n_components\": [2, 3],\n",
    "    \"csp__nfilter\": [2, 3]\n",
    "}\n",
    "gs = GridSearchCV(pipe_ts_qsvm2, params, scoring=\"balanced_accuracy\", cv=cv)\n",
    "gs.fit(X_train, y_train)\n",
    "print(gs.best_params_)\n",
    "print(f'best score {gs.best_score_}')\n",
    "score = gs.score(X_test, y_test)\n",
    "print(f'validation score {score}')"
   ]
  },
  {
   "cell_type": "markdown",
   "metadata": {},
   "source": [
    "# Evaluate difference in predictions"
   ]
  },
  {
   "cell_type": "code",
   "execution_count": 116,
   "metadata": {},
   "outputs": [
    {
     "name": "stderr",
     "output_type": "stream",
     "text": [
      "WARNING:root:FidelityQuantumKernel skipped because of time.\n",
      "                    Using FidelityStatevectorKernel with AerStatevector.\n",
      "                    Seed cannot be set with FidelityStatevectorKernel.\n",
      "                    Increase the number of shots to diminish the noise.\n"
     ]
    },
    {
     "name": "stdout",
     "output_type": "stream",
     "text": [
      "[QClass]  Quantum simulation will be performed\n",
      "GPU optimization disabled. No device found.\n",
      "[QClass]  Fitting:  (47, 10)\n",
      "[QClass]  Feature dimension =  10\n",
      "[QClass]  Quantum backend =  AerSimulator('aer_simulator_statevector')\n",
      "[QClass]  seed =  298043\n",
      "[QClass]  SVM initiating algorithm\n",
      "[QClass]  Training...\n"
     ]
    },
    {
     "name": "stdout",
     "output_type": "stream",
     "text": [
      "[QClass]  Prediction finished.\n",
      "0.993421052631579\n",
      "0.9117647058823529\n"
     ]
    }
   ],
   "source": [
    "# We take a small samples and compare the prediction made by classical/quantum pipeline\n",
    "X_train, X_test, y_train, y_test = train_test_split(X, y, stratify=y, test_size=0.9)\n",
    "y_pred_svc = pipe_ts_svm.fit(X_train, y_train).predict(X_test)\n",
    "y_pred_qsvc= pipe_ts_qsvm2.fit(X_train, y_train).predict(X_test)\n",
    "print(balanced_accuracy_score(y_test, y_pred_svc))\n",
    "print(balanced_accuracy_score(y_test, y_pred_qsvc))"
   ]
  },
  {
   "cell_type": "code",
   "execution_count": 117,
   "metadata": {},
   "outputs": [
    {
     "name": "stderr",
     "output_type": "stream",
     "text": [
      "/tmp/ipykernel_2247/1618836778.py:15: UserWarning: set_ticklabels() should only be used with a fixed number of ticks, i.e. after set_ticks() or using a FixedLocator.\n",
      "  ax.set_yticklabels(['False', '', '', '', '', 'True'])\n",
      "/tmp/ipykernel_2247/1618836778.py:16: UserWarning: set_ticklabels() should only be used with a fixed number of ticks, i.e. after set_ticks() or using a FixedLocator.\n",
      "  ax.set_xticklabels([i if i % 2 == 0 else '' for i in range(len(data.index))])\n"
     ]
    },
    {
     "data": {
      "image/png": "[encoded data removed]",
      "text/plain": [
       "<Figure size 640x480 with 1 Axes>"
      ]
     },
     "metadata": {},
     "output_type": "display_data"
    }
   ],
   "source": [
    "# Display the error made by the two classifier\n",
    "error_svc = abs(y_test - y_pred_svc)\n",
    "error_qsvc = abs(y_test - y_pred_qsvc)\n",
    "\n",
    "error_common = (error_svc == 1) & (error_qsvc == 1)\n",
    "\n",
    "data = pd.DataFrame({\"SVC\": error_svc, \"QSVC\": error_qsvc, \"Common\": error_common})\n",
    "\n",
    "sns.barplot(data, x=data.index, y=\"SVC\", color=\"pink\")\n",
    "sns.barplot(data, x=data.index, y=\"QSVC\", color=\"yellow\")\n",
    "ax = sns.barplot(data, x=data.index, y=\"Common\", color=\"red\")\n",
    "\n",
    "# Met en forme la numerotation et le nom des axes\n",
    "ax.set(xlabel='Trial number', ylabel='Error')\n",
    "ax.set_yticklabels(['False', '', '', '', '', 'True'])\n",
    "ax.set_xticklabels([i if i % 2 == 0 else '' for i in range(len(data.index))])\n",
    "\n",
    "# Legend\n",
    "plt.legend(title='', loc='upper right', labels=['SVC', 'QSVC', 'Common'], framealpha=0.9)\n",
    "leg = plt.gca().get_legend()\n",
    "leg.legend_handles[0].set_color('pink')\n",
    "leg.legend_handles[1].set_color('#FFD700')\n",
    "leg.legend_handles[2].set_color('red')"
   ]
  },
  {
   "cell_type": "markdown",
   "metadata": {},
   "source": [
    "# Separation between classes"
   ]
  },
  {
   "cell_type": "code",
   "execution_count": 156,
   "metadata": {},
   "outputs": [
    {
     "data": {
      "image/png": "[encoded data removed]",
      "text/plain": [
       "<Figure size 600x500 with 1 Axes>"
      ]
     },
     "execution_count": 156,
     "metadata": {},
     "output_type": "execute_result"
    },
    {
     "data": {
      "image/png": "[encoded data removed]",
      "text/plain": [
       "<Figure size 700x700 with 1 Axes>"
      ]
     },
     "metadata": {},
     "output_type": "display_data"
    },
    {
     "data": {
      "image/png": "[encoded data removed]",
      "text/plain": [
       "<Figure size 600x500 with 1 Axes>"
      ]
     },
     "metadata": {},
     "output_type": "display_data"
    }
   ],
   "source": [
    "# Use mdm to get the distances between the classes\n",
    "dists = pipe_mdm.fit(X_train, y_train).transform(X_test)\n",
    "plot_biscatter(dists, y_test)\n",
    "plot_bihist(dists, y_test)"
   ]
  },
  {
   "cell_type": "code",
   "execution_count": 142,
   "metadata": {},
   "outputs": [
    {
     "name": "stderr",
     "output_type": "stream",
     "text": [
      "WARNING:root:FidelityQuantumKernel skipped because of time.\n",
      "                    Using FidelityStatevectorKernel with AerStatevector.\n",
      "                    Seed cannot be set with FidelityStatevectorKernel.\n",
      "                    Increase the number of shots to diminish the noise.\n"
     ]
    },
    {
     "name": "stdout",
     "output_type": "stream",
     "text": [
      "[QClass]  Initializing Quantum Classifier\n",
      "[QClass]  Quantum simulation will be performed\n",
      "GPU optimization disabled. No device found.\n",
      "[QClass]  Fitting:  (47, 2)\n",
      "[QClass]  Feature dimension =  2\n",
      "[QClass]  Quantum backend =  AerSimulator('aer_simulator_statevector')\n",
      "[QClass]  seed =  417775\n",
      "[QClass]  SVM initiating algorithm\n",
      "[QClass]  Training...\n"
     ]
    },
    {
     "name": "stdout",
     "output_type": "stream",
     "text": [
      "[QClass]  Prediction finished.\n"
     ]
    },
    {
     "data": {
      "text/plain": [
       "<matplotlib.collections.PathCollection at 0x78cf0bb52710>"
      ]
     },
     "execution_count": 142,
     "metadata": {},
     "output_type": "execute_result"
    },
    {
     "data": {
      "image/png": "[encoded data removed]",
      "text/plain": [
       "<Figure size 640x480 with 1 Axes>"
      ]
     },
     "metadata": {},
     "output_type": "display_data"
    }
   ],
   "source": [
    "pre_proc = make_pipeline(\n",
    "    CSP(nfilter=2, log=False),\n",
    "    TangentSpace(metric=metric),\n",
    "    PCA(n_components=2),\n",
    ")\n",
    "X_test_tr = pre_proc.fit(X_train, y_train).transform(X_test)\n",
    "X_train_tr = pre_proc.fit(X_train, y_train).transform(X_train)\n",
    "estimator = QuanticSVM(gen_feature_map=gen_x_feature_map(reps=2))\n",
    "# estimator = svm.SVC()\n",
    "estimator.fit(X_train_tr, y_train)\n",
    "disp = DecisionBoundaryDisplay.from_estimator(\n",
    "    estimator, X_test_tr, response_method=\"predict\",\n",
    "    # xlabel=\"xlabel\", ylabel=\"ylabel\",\n",
    "    alpha=0.5,\n",
    ")\n",
    "disp.ax_.scatter(X_test_tr[:, 0], X_test_tr[:, 1], c=y_test, edgecolor=\"k\")"
   ]
  },
  {
   "cell_type": "code",
   "execution_count": 157,
   "metadata": {},
   "outputs": [
    {
     "name": "stdout",
     "output_type": "stream",
     "text": [
      "[QClass]  Classical computation will be performed\n",
      "[QClass]  Fitting:  (47, 4, 4)\n",
      "[QClass]  Feature dimension =  4\n",
      "[QClass]  Nearest Convex Hull Classifier initiating algorithm\n",
      "[QClass]  Using ClassicalOptimizer\n",
      "[QClass]  Training...\n"
     ]
    },
    {
     "name": "stdout",
     "output_type": "stream",
     "text": [
      "[QClass]  Initializing Quantum Classifier\n",
      "[QClass]  Initializing Quantum Classifier\n",
      "[QClass]  Initializing Quantum Classifier\n",
      "[QClass]  Initializing Quantum Classifier\n",
      "[QClass]  Initializing Quantum Classifier\n",
      "[QClass]  Initializing Quantum Classifier\n",
      "[QClass]  Initializing Quantum Classifier\n",
      "[QClass]  Initializing Quantum Classifier\n",
      "[QClass]  Initializing Quantum Classifier\n",
      "[QClass]  Initializing Quantum Classifier\n",
      "[QClass]  Initializing Quantum Classifier\n",
      "[QClass]  Initializing Quantum Classifier\n"
     ]
    },
    {
     "data": {
      "image/png": "[encoded data removed]",
      "text/plain": [
       "<Figure size 600x500 with 1 Axes>"
      ]
     },
     "execution_count": 157,
     "metadata": {},
     "output_type": "execute_result"
    },
    {
     "data": {
      "image/png": "[encoded data removed]",
      "text/plain": [
       "<Figure size 700x700 with 1 Axes>"
      ]
     },
     "metadata": {},
     "output_type": "display_data"
    },
    {
     "data": {
      "image/png": "[encoded data removed]",
      "text/plain": [
       "<Figure size 600x500 with 1 Axes>"
      ]
     },
     "metadata": {},
     "output_type": "display_data"
    }
   ],
   "source": [
    "# Use NCH to get the distances between the classes (distance to convex hull)\n",
    "dists = pipe_nch.fit(X_train, y_train).transform(X_test)\n",
    "plot_biscatter(dists, y_test)\n",
    "plot_bihist(dists, y_test)"
   ]
  }
 ],
 "metadata": {
  "kernelspec": {
   "display_name": "Python 3",
   "language": "python",
   "name": "python3"
  },
  "language_info": {
   "codemirror_mode": {
    "name": "ipython",
    "version": 3
   },
   "file_extension": ".py",
   "mimetype": "text/x-python",
   "name": "python",
   "nbconvert_exporter": "python",
   "pygments_lexer": "ipython3",
   "version": "3.12.1"
  }
 },
 "nbformat": 4,
 "nbformat_minor": 2
}
